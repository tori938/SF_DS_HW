{
  "cells": [
    {
      "cell_type": "markdown",
      "id": "00009cca",
      "metadata": {
        "id": "00009cca"
      },
      "source": [
        "### Классификация Текстов с использованием Наивного Байесовского Классификатора"
      ]
    },
    {
      "cell_type": "code",
      "execution_count": 1,
      "id": "f6acfa76",
      "metadata": {},
      "outputs": [],
      "source": [
        "#standard libraries\n",
        "import pandas as pd, numpy as np\n",
        "\n",
        "#visualization\n",
        "import seaborn as sns\n",
        "import matplotlib.pyplot as plt\n",
        "\n",
        "#text\n",
        "from sklearn.feature_extraction.text import CountVectorizer\n",
        "\n",
        "#machine learning\n",
        "from sklearn import metrics\n",
        "from sklearn import model_selection\n",
        "\n",
        "#probability theory\n",
        "from sklearn import naive_bayes"
      ]
    },
    {
      "cell_type": "markdown",
      "id": "a52414b8",
      "metadata": {
        "id": "a52414b8"
      },
      "source": [
        "##### **Задание 1**"
      ]
    },
    {
      "cell_type": "markdown",
      "id": "f5f27b43",
      "metadata": {
        "id": "f5f27b43"
      },
      "source": [
        "Откройте данные."
      ]
    },
    {
      "cell_type": "code",
      "execution_count": 2,
      "id": "ac369274",
      "metadata": {
        "id": "ac369274"
      },
      "outputs": [],
      "source": [
        "#import the data set\n",
        "data = pd.read_csv('data/spam_or_not_spam.csv')"
      ]
    },
    {
      "cell_type": "code",
      "execution_count": 3,
      "id": "c0f2fb73",
      "metadata": {},
      "outputs": [
        {
          "data": {
            "text/html": [
              "<div>\n",
              "<style scoped>\n",
              "    .dataframe tbody tr th:only-of-type {\n",
              "        vertical-align: middle;\n",
              "    }\n",
              "\n",
              "    .dataframe tbody tr th {\n",
              "        vertical-align: top;\n",
              "    }\n",
              "\n",
              "    .dataframe thead th {\n",
              "        text-align: right;\n",
              "    }\n",
              "</style>\n",
              "<table border=\"1\" class=\"dataframe\">\n",
              "  <thead>\n",
              "    <tr style=\"text-align: right;\">\n",
              "      <th></th>\n",
              "      <th>email</th>\n",
              "      <th>label</th>\n",
              "    </tr>\n",
              "  </thead>\n",
              "  <tbody>\n",
              "    <tr>\n",
              "      <th>0</th>\n",
              "      <td>date wed NUMBER aug NUMBER NUMBER NUMBER NUMB...</td>\n",
              "      <td>0</td>\n",
              "    </tr>\n",
              "    <tr>\n",
              "      <th>1</th>\n",
              "      <td>martin a posted tassos papadopoulos the greek ...</td>\n",
              "      <td>0</td>\n",
              "    </tr>\n",
              "    <tr>\n",
              "      <th>2</th>\n",
              "      <td>man threatens explosion in moscow thursday aug...</td>\n",
              "      <td>0</td>\n",
              "    </tr>\n",
              "  </tbody>\n",
              "</table>\n",
              "</div>"
            ],
            "text/plain": [
              "                                               email  label\n",
              "0   date wed NUMBER aug NUMBER NUMBER NUMBER NUMB...      0\n",
              "1  martin a posted tassos papadopoulos the greek ...      0\n",
              "2  man threatens explosion in moscow thursday aug...      0"
            ]
          },
          "execution_count": 3,
          "metadata": {},
          "output_type": "execute_result"
        }
      ],
      "source": [
        "#display the data\n",
        "data.head(3)"
      ]
    },
    {
      "cell_type": "code",
      "execution_count": 4,
      "id": "27507beb",
      "metadata": {},
      "outputs": [
        {
          "name": "stdout",
          "output_type": "stream",
          "text": [
            "<class 'pandas.core.frame.DataFrame'>\n",
            "RangeIndex: 3000 entries, 0 to 2999\n",
            "Data columns (total 2 columns):\n",
            " #   Column  Non-Null Count  Dtype \n",
            "---  ------  --------------  ----- \n",
            " 0   email   2999 non-null   object\n",
            " 1   label   3000 non-null   int64 \n",
            "dtypes: int64(1), object(1)\n",
            "memory usage: 47.0+ KB\n"
          ]
        }
      ],
      "source": [
        "#find the basic information about the data set\n",
        "data.info()"
      ]
    },
    {
      "cell_type": "markdown",
      "id": "2c23fa82",
      "metadata": {},
      "source": [
        "Узнайте, сколько в них спам и не спам-писем."
      ]
    },
    {
      "cell_type": "code",
      "execution_count": 5,
      "id": "d12ae908",
      "metadata": {},
      "outputs": [
        {
          "data": {
            "text/plain": [
              "label\n",
              "0    2500\n",
              "1     500\n",
              "Name: count, dtype: int64"
            ]
          },
          "execution_count": 5,
          "metadata": {},
          "output_type": "execute_result"
        }
      ],
      "source": [
        "#find the split\n",
        "data['label'].value_counts()"
      ]
    },
    {
      "cell_type": "code",
      "execution_count": 6,
      "id": "f4231781",
      "metadata": {
        "id": "f4231781"
      },
      "outputs": [
        {
          "data": {
            "text/plain": [
              "label\n",
              "0    83.33\n",
              "1    16.67\n",
              "Name: proportion, dtype: float64"
            ]
          },
          "execution_count": 6,
          "metadata": {},
          "output_type": "execute_result"
        }
      ],
      "source": [
        "#find the split (%-wise)\n",
        "(data['label'].value_counts(normalize=True) * 100).round(2)"
      ]
    },
    {
      "cell_type": "markdown",
      "id": "67999b65",
      "metadata": {},
      "source": [
        "Визуализируйте полученные соотношение подходящим образом."
      ]
    },
    {
      "cell_type": "code",
      "execution_count": 7,
      "id": "62df5946",
      "metadata": {},
      "outputs": [
        {
          "name": "stderr",
          "output_type": "stream",
          "text": [
            "/var/folders/0j/pqz07rqd22q5j3qyrrpztqnr0000gn/T/ipykernel_19055/2383450899.py:11: UserWarning: set_ticklabels() should only be used with a fixed number of ticks, i.e. after set_ticks() or using a FixedLocator.\n",
            "  labels_split.set(xlabel='Label',\n"
          ]
        },
        {
          "data": {
            "image/png": "[encoded data removed]",
            "text/plain": [
              "<Figure size 640x480 with 1 Axes>"
            ]
          },
          "metadata": {},
          "output_type": "display_data"
        }
      ],
      "source": [
        "#create a countplot to show the split in labels (%-wise)\n",
        "labels_split = sns.countplot(data,\n",
        "                             x='label',\n",
        "                             hue='label',\n",
        "                             stat='percent',\n",
        "                             width=0.5,\n",
        "                             #legend=False\n",
        ")\n",
        "\n",
        "#set the title and axis labels\n",
        "labels_split.set(xlabel='Label',\n",
        "                 ylabel='%-wise',\n",
        "                 xticklabels=['Normal Letters', 'Spam'],\n",
        "                 title='Distribution of Normal Letters and Spam')\n",
        "\n",
        "plt.show();"
      ]
    },
    {
      "cell_type": "markdown",
      "id": "b161614b",
      "metadata": {
        "id": "b161614b"
      },
      "source": [
        "##### **Задание 2**"
      ]
    },
    {
      "cell_type": "markdown",
      "id": "89546b95",
      "metadata": {
        "id": "89546b95"
      },
      "source": [
        "Замените в данных все пустые строки и строки, состоящие из пробелов, на пропуски (NaN). После этого удалите из данных все строки, в которых наблюдаются пропущенные значения."
      ]
    },
    {
      "cell_type": "code",
      "execution_count": 8,
      "id": "64af8361",
      "metadata": {},
      "outputs": [
        {
          "data": {
            "text/plain": [
              "email    1\n",
              "dtype: int64"
            ]
          },
          "execution_count": 8,
          "metadata": {},
          "output_type": "execute_result"
        }
      ],
      "source": [
        "#check for null values\n",
        "data.isnull().sum()[data.isnull().sum() > 0]"
      ]
    },
    {
      "cell_type": "code",
      "execution_count": 9,
      "id": "f48216ba",
      "metadata": {},
      "outputs": [
        {
          "data": {
            "text/plain": [
              "(3000, 2)"
            ]
          },
          "execution_count": 9,
          "metadata": {},
          "output_type": "execute_result"
        }
      ],
      "source": [
        "#original dimensions\n",
        "data.shape"
      ]
    },
    {
      "cell_type": "code",
      "execution_count": 10,
      "id": "d78c4237",
      "metadata": {},
      "outputs": [],
      "source": [
        "#replace any rows with blanks to NaN\n",
        "data['email'] = data['email'].replace(r'^\\s*$', np.nan, regex=True)\n",
        "\n",
        "#delete rows / columns with any blanks\n",
        "data = data.dropna(how='any')"
      ]
    },
    {
      "cell_type": "code",
      "execution_count": 11,
      "id": "8679f8f4",
      "metadata": {},
      "outputs": [
        {
          "data": {
            "text/plain": [
              "(2997, 2)"
            ]
          },
          "execution_count": 11,
          "metadata": {},
          "output_type": "execute_result"
        }
      ],
      "source": [
        "#new dimensions\n",
        "data.shape"
      ]
    },
    {
      "cell_type": "code",
      "execution_count": 12,
      "id": "311ae2cc",
      "metadata": {},
      "outputs": [
        {
          "data": {
            "text/plain": [
              "Series([], dtype: int64)"
            ]
          },
          "execution_count": 12,
          "metadata": {},
          "output_type": "execute_result"
        }
      ],
      "source": [
        "#check for null values\n",
        "data.isnull().sum()[data.isnull().sum() > 0]"
      ]
    },
    {
      "cell_type": "markdown",
      "id": "2ca2fe88",
      "metadata": {
        "id": "2ca2fe88"
      },
      "source": [
        "Переводим данные в векторный вид:"
      ]
    },
    {
      "cell_type": "code",
      "execution_count": 13,
      "id": "29e9a37b",
      "metadata": {
        "id": "29e9a37b"
      },
      "outputs": [],
      "source": [
        "#create the initializer\n",
        "vectorizer = CountVectorizer()\n",
        "\n",
        "#execute the initializer to convert data into vectors\n",
        "X = vectorizer.fit_transform(data['email'])"
      ]
    },
    {
      "cell_type": "markdown",
      "id": "88c8b726",
      "metadata": {
        "id": "88c8b726"
      },
      "source": [
        "Определите, сколько теперь признаков в нашем наборе данных:"
      ]
    },
    {
      "cell_type": "code",
      "execution_count": 14,
      "id": "f19c2a02",
      "metadata": {
        "id": "f19c2a02"
      },
      "outputs": [
        {
          "name": "stdout",
          "output_type": "stream",
          "text": [
            "records: 2997 \n",
            " features: 34116\n"
          ]
        }
      ],
      "source": [
        "#find the dimensions after vectorization\n",
        "print(f'records: {X.shape[0]} \\n features: {X.shape[1]}')"
      ]
    },
    {
      "cell_type": "markdown",
      "id": "1803f282",
      "metadata": {
        "id": "1803f282"
      },
      "source": [
        "##### **Задание 3**"
      ]
    },
    {
      "cell_type": "markdown",
      "id": "39f400b7",
      "metadata": {
        "id": "39f400b7"
      },
      "source": [
        "Определите целевую переменную и признаки:"
      ]
    },
    {
      "cell_type": "code",
      "execution_count": 15,
      "id": "31f1acb6",
      "metadata": {
        "id": "31f1acb6"
      },
      "outputs": [],
      "source": [
        "#select the features\n",
        "##predictive value\n",
        "y = data['label']"
      ]
    },
    {
      "cell_type": "markdown",
      "id": "b20f273e",
      "metadata": {
        "id": "b20f273e"
      },
      "source": [
        "Разделите выборку на обучающую и тестовую, используя стратифицированное разбиение (параметр `stratify` установите в значение вектора ответов y) размер тестовой выборки (`test_size`) возьмите как 0.25, параметр `random_state` определите со значением 42:"
      ]
    },
    {
      "cell_type": "code",
      "execution_count": 16,
      "id": "96538fb6",
      "metadata": {
        "id": "96538fb6"
      },
      "outputs": [
        {
          "name": "stdout",
          "output_type": "stream",
          "text": [
            "train: ((2247, 34116), (2247,)), \n",
            " test: ((750, 34116), (750,))\n"
          ]
        }
      ],
      "source": [
        "#split the data into train and test\n",
        "X_train, X_test, y_train, y_test = model_selection.train_test_split(\n",
        "    X, y,\n",
        "    test_size=0.25,\n",
        "    stratify=y,\n",
        "    random_state=42\n",
        ")\n",
        "\n",
        "print(f'train: {X_train.shape, y_train.shape}, \\n test: {X_test.shape, y_test.shape}')"
      ]
    },
    {
      "cell_type": "markdown",
      "id": "139dac3d",
      "metadata": {
        "id": "139dac3d"
      },
      "source": [
        "Рассчитайте среднее значение целевой переменной по тестовой выборке:"
      ]
    },
    {
      "cell_type": "code",
      "execution_count": 17,
      "id": "e9baf72d",
      "metadata": {
        "id": "e9baf72d"
      },
      "outputs": [
        {
          "data": {
            "text/plain": [
              "0.165"
            ]
          },
          "execution_count": 17,
          "metadata": {},
          "output_type": "execute_result"
        }
      ],
      "source": [
        "round(y_test.mean(), 3)"
      ]
    },
    {
      "cell_type": "markdown",
      "id": "710e0e94",
      "metadata": {
        "id": "710e0e94"
      },
      "source": [
        "##### **Задание 4**"
      ]
    },
    {
      "cell_type": "markdown",
      "id": "3cdc3353",
      "metadata": {},
      "source": [
        "Данные - текстовые, поэтому следует использовать *MultinomialNB* и его улучшенную версию - *ComplementNB* для решения задачи классификации."
      ]
    },
    {
      "cell_type": "code",
      "execution_count": 18,
      "id": "bc5fbc6b",
      "metadata": {},
      "outputs": [],
      "source": [
        "from collections import OrderedDict\n",
        "\n",
        "#create an ordered dict to store model results\n",
        "review = OrderedDict([\n",
        "    ('model_name', []),\n",
        "    ('hyperparameters', []), \n",
        "    ('F1-Score, train', []), \n",
        "    ('F1-Score, test', [])\n",
        "    ])"
      ]
    },
    {
      "cell_type": "markdown",
      "id": "26cf6885",
      "metadata": {
        "id": "26cf6885"
      },
      "source": [
        "Определите и обучите подходящий алгоритм с параметром alpha = 0.01"
      ]
    },
    {
      "cell_type": "code",
      "execution_count": 19,
      "id": "781eadd4",
      "metadata": {},
      "outputs": [],
      "source": [
        "#create the object class\n",
        "complement_model = naive_bayes.ComplementNB(\n",
        "    alpha=0.01,  \n",
        ")\n",
        "\n",
        "#model learning\n",
        "complement_model.fit(X_train, y_train)\n",
        "\n",
        "#make a prediction\n",
        "y_pred_train_cnb = complement_model.predict(X_train)\n",
        "y_pred_test_cnb = complement_model.predict(X_test)"
      ]
    },
    {
      "cell_type": "markdown",
      "id": "d803fbe3",
      "metadata": {
        "id": "d803fbe3"
      },
      "source": [
        "Оцените результат с точки зрения всех известных вам метрик (не менее трёх):"
      ]
    },
    {
      "cell_type": "code",
      "execution_count": 20,
      "id": "b0bbc4d2",
      "metadata": {
        "id": "b0bbc4d2"
      },
      "outputs": [
        {
          "name": "stdout",
          "output_type": "stream",
          "text": [
            "Train Classification Metrics:\n",
            "              precision    recall  f1-score   support\n",
            "\n",
            "           0      0.999     1.000     1.000      1874\n",
            "           1      1.000     0.997     0.999       373\n",
            "\n",
            "    accuracy                          1.000      2247\n",
            "   macro avg      1.000     0.999     0.999      2247\n",
            "weighted avg      1.000     1.000     1.000      2247\n",
            "\n",
            "\n",
            "Test Classification Metrics:\n",
            "              precision    recall  f1-score   support\n",
            "\n",
            "           0      0.986     1.000     0.993       626\n",
            "           1      1.000     0.927     0.962       124\n",
            "\n",
            "    accuracy                          0.988       750\n",
            "   macro avg      0.993     0.964     0.978       750\n",
            "weighted avg      0.988     0.988     0.988       750\n",
            "\n"
          ]
        }
      ],
      "source": [
        "#display the classification metrics\n",
        "print('Train Classification Metrics:')\n",
        "print(metrics.classification_report(y_train, y_pred_train_cnb, digits=3))\n",
        "print(sep='/n')\n",
        "print('Test Classification Metrics:')\n",
        "print(metrics.classification_report(y_test, y_pred_test_cnb, digits=3))"
      ]
    },
    {
      "cell_type": "code",
      "execution_count": 21,
      "id": "c4ce30ca",
      "metadata": {},
      "outputs": [],
      "source": [
        "#add model results to the ordered dict\n",
        "review['model_name'].append(complement_model.__class__.__name__)\n",
        "review['hyperparameters'].append('alpha=0.01')\n",
        "review['F1-Score, train'].append(round(metrics.f1_score(y_train, y_pred_train_cnb), 3))\n",
        "review['F1-Score, test'].append(round(metrics.f1_score(y_test, y_pred_test_cnb), 3))"
      ]
    },
    {
      "cell_type": "markdown",
      "id": "c85976d1",
      "metadata": {
        "id": "c85976d1"
      },
      "source": [
        "Нарисуйте ROC-кривую:"
      ]
    },
    {
      "cell_type": "code",
      "execution_count": 22,
      "id": "98f5d594",
      "metadata": {},
      "outputs": [],
      "source": [
        "#set the variables\n",
        "false_positive_scores, true_positive_scores, threshold = metrics.roc_curve(y_test, y_pred_test_cnb)"
      ]
    },
    {
      "cell_type": "code",
      "execution_count": 23,
      "id": "6f3c8a15",
      "metadata": {},
      "outputs": [
        {
          "data": {
            "image/png": "[encoded data removed]",
            "text/plain": [
              "<Figure size 700x700 with 1 Axes>"
            ]
          },
          "metadata": {},
          "output_type": "display_data"
        }
      ],
      "source": [
        "#set the canvas\n",
        "plt.figure(figsize=(7, 7))\n",
        "\n",
        "#create the curve\n",
        "plt.plot(false_positive_scores, true_positive_scores, \n",
        "         label='Smoothed ROC-AUC Values')\n",
        "\n",
        "#set the curve corresponding to random guessing\n",
        "plt.plot([0, 1], [0, 1],\n",
        "         color='k',\n",
        "         lw=2,\n",
        "         linestyle=':', \n",
        "         label=complement_model.__class__.__name__)\n",
        "\n",
        "#set the title and axis-labels\n",
        "plt.title('Receiver Operating Characteristic Curve')\n",
        "plt.xlabel('False Positive Rate')\n",
        "plt.ylabel('True Positive Rate')\n",
        "\n",
        "#set the area under the curve\n",
        "plt.fill_between(false_positive_scores, true_positive_scores,\n",
        "                 step=\"pre\", \n",
        "                 alpha=0.2,\n",
        "                 label='Area Under the Curve (ROC-AUC)')\n",
        "\n",
        "plt.legend()\n",
        "plt.show()"
      ]
    },
    {
      "cell_type": "code",
      "execution_count": 24,
      "id": "44d9e3c6",
      "metadata": {},
      "outputs": [
        {
          "name": "stdout",
          "output_type": "stream",
          "text": [
            "train data:\n",
            "ROC AUC Score: 0.999\n",
            "\n",
            "test data:\n",
            "ROC AUC Score: 0.964\n"
          ]
        }
      ],
      "source": [
        "#calculate ROC AUC Score\n",
        "print('train data:')\n",
        "print(f'ROC AUC Score: {metrics.roc_auc_score(y_train, y_pred_train_cnb).round(3)}')\n",
        "print()\n",
        "print('test data:')\n",
        "print(f'ROC AUC Score: {metrics.roc_auc_score(y_test, y_pred_test_cnb).round(3)}')"
      ]
    },
    {
      "cell_type": "markdown",
      "id": "7300600b",
      "metadata": {},
      "source": [
        "ROC AUC Score — площадь под кривой ROC, и суммирует, насколько хорошо модель может выдавать относительные оценки для различения положительных и отрицательных случаев по всем пороговых значениям классификации. \\\n",
        "Оценка арьируется от 0 до 1, где 0,5 указывает на случайное угадывание, а 1 указывает на идеальную производительность.\n",
        "\n",
        "AUC от 0,7 до 0,8 считается приемлемым, от 0,8 до 0,9 считается отличным, а более 0,9 считается выдающимся.\n",
        "Оценка **0.964** показывает очень хорошие результаты, но нельзя забывать о дисбалансе в распределении, поэтому такая высокая оценка может быть и ошибочной, нужны дополнительные исследования."
      ]
    },
    {
      "cell_type": "markdown",
      "id": "cf0bb49b",
      "metadata": {
        "id": "cf0bb49b"
      },
      "source": [
        "##### **Задание 5**"
      ]
    },
    {
      "cell_type": "markdown",
      "id": "30b7a0ae",
      "metadata": {
        "id": "30b7a0ae"
      },
      "source": [
        "Переберите несколько значений alpha с помощью кросс-валидации. Оцените, зависит ли от этого параметра качество классификации."
      ]
    },
    {
      "cell_type": "code",
      "execution_count": 25,
      "id": "266292e1",
      "metadata": {},
      "outputs": [],
      "source": [
        "#hyperparameters\n",
        "from sklearn.model_selection import cross_val_score\n",
        "import optuna\n",
        "from optuna import Trial, study, samplers"
      ]
    },
    {
      "cell_type": "code",
      "execution_count": 26,
      "id": "82738f3c",
      "metadata": {},
      "outputs": [],
      "source": [
        "#use the Optuna method to look for best hyper parameters\n",
        "def optuna_nb(trial):\n",
        "  #set hyperparameters\n",
        "  params = {\n",
        "    'alpha': trial.suggest_float('alpha', 0.05, 10, step=0.05),\n",
        "    }\n",
        "\n",
        "  #use the combinations for model build\n",
        "  model = naive_bayes.ComplementNB(**params)\n",
        "  \n",
        "  #model learning through cross-validation\n",
        "  score = model_selection.cross_val_score(\n",
        "    model,\n",
        "    X=X_train,\n",
        "    y=y_train,\n",
        "    cv=5,\n",
        "    scoring='f1_micro',\n",
        "    n_jobs=-1).mean()\n",
        "\n",
        "  return score"
      ]
    },
    {
      "cell_type": "code",
      "execution_count": 27,
      "id": "3d7233c2",
      "metadata": {},
      "outputs": [
        {
          "name": "stderr",
          "output_type": "stream",
          "text": [
            "[I 2024-09-08 21:39:33,414] A new study created in memory with name: ComplementNaiveBayes\n",
            "[I 2024-09-08 21:39:35,414] Trial 0 finished with value: 0.9403692155407077 and parameters: {'alpha': 4.65}. Best is trial 0 with value: 0.9403692155407077.\n",
            "[I 2024-09-08 21:39:35,995] Trial 1 finished with value: 0.9910992328631527 and parameters: {'alpha': 0.6000000000000001}. Best is trial 1 with value: 0.9910992328631527.\n",
            "[I 2024-09-08 21:39:36,579] Trial 2 finished with value: 0.9870952734471666 and parameters: {'alpha': 1.6500000000000001}. Best is trial 1 with value: 0.9910992328631527.\n",
            "[I 2024-09-08 21:39:36,712] Trial 3 finished with value: 0.8923009156149468 and parameters: {'alpha': 8.500000000000002}. Best is trial 1 with value: 0.9910992328631527.\n",
            "[I 2024-09-08 21:39:36,859] Trial 4 finished with value: 0.9012026726057906 and parameters: {'alpha': 7.2}. Best is trial 1 with value: 0.9910992328631527.\n",
            "[I 2024-09-08 21:39:36,998] Trial 5 finished with value: 0.9893204652313784 and parameters: {'alpha': 1.4000000000000001}. Best is trial 1 with value: 0.9910992328631527.\n",
            "[I 2024-09-08 21:39:37,151] Trial 6 finished with value: 0.8980895817866864 and parameters: {'alpha': 7.45}. Best is trial 1 with value: 0.9910992328631527.\n",
            "[I 2024-09-08 21:39:37,291] Trial 7 finished with value: 0.8936362286562731 and parameters: {'alpha': 8.0}. Best is trial 1 with value: 0.9910992328631527.\n",
            "[I 2024-09-08 21:39:37,439] Trial 8 finished with value: 0.968852264291017 and parameters: {'alpha': 3.2}. Best is trial 1 with value: 0.9910992328631527.\n",
            "[I 2024-09-08 21:39:37,593] Trial 9 finished with value: 0.9345815392229646 and parameters: {'alpha': 5.05}. Best is trial 1 with value: 0.9910992328631527.\n",
            "[I 2024-09-08 21:39:37,751] Trial 10 finished with value: 0.9910992328631527 and parameters: {'alpha': 0.6000000000000001}. Best is trial 1 with value: 0.9910992328631527.\n",
            "[I 2024-09-08 21:39:37,893] Trial 11 finished with value: 0.9906547884187082 and parameters: {'alpha': 0.25}. Best is trial 1 with value: 0.9910992328631527.\n",
            "[I 2024-09-08 21:39:38,035] Trial 12 finished with value: 0.9902103439742639 and parameters: {'alpha': 0.05}. Best is trial 1 with value: 0.9910992328631527.\n",
            "[I 2024-09-08 21:39:38,189] Trial 13 finished with value: 0.9719663449641178 and parameters: {'alpha': 2.95}. Best is trial 1 with value: 0.9910992328631527.\n",
            "[I 2024-09-08 21:39:38,328] Trial 14 finished with value: 0.9848690918089582 and parameters: {'alpha': 2.0}. Best is trial 1 with value: 0.9910992328631527.\n",
            "[I 2024-09-08 21:39:38,483] Trial 15 finished with value: 0.9501628309824302 and parameters: {'alpha': 4.15}. Best is trial 1 with value: 0.9910992328631527.\n",
            "[I 2024-09-08 21:39:38,636] Trial 16 finished with value: 0.922122246968572 and parameters: {'alpha': 5.75}. Best is trial 1 with value: 0.9910992328631527.\n",
            "[I 2024-09-08 21:39:38,776] Trial 17 finished with value: 0.8838445929225438 and parameters: {'alpha': 10.0}. Best is trial 1 with value: 0.9910992328631527.\n",
            "[I 2024-09-08 21:39:38,929] Trial 18 finished with value: 0.9902103439742639 and parameters: {'alpha': 1.0}. Best is trial 1 with value: 0.9910992328631527.\n",
            "[I 2024-09-08 21:39:39,087] Trial 19 finished with value: 0.9741905468943329 and parameters: {'alpha': 2.65}. Best is trial 1 with value: 0.9910992328631527.\n",
            "[I 2024-09-08 21:39:39,215] Trial 20 finished with value: 0.9657381836179164 and parameters: {'alpha': 3.6}. Best is trial 1 with value: 0.9910992328631527.\n",
            "[I 2024-09-08 21:39:39,351] Trial 21 finished with value: 0.9902103439742639 and parameters: {'alpha': 0.05}. Best is trial 1 with value: 0.9910992328631527.\n",
            "[I 2024-09-08 21:39:39,502] Trial 22 finished with value: 0.9902103439742639 and parameters: {'alpha': 1.05}. Best is trial 1 with value: 0.9910992328631527.\n",
            "[I 2024-09-08 21:39:39,642] Trial 23 finished with value: 0.9910992328631527 and parameters: {'alpha': 0.55}. Best is trial 1 with value: 0.9910992328631527.\n",
            "[I 2024-09-08 21:39:39,778] Trial 24 finished with value: 0.9835337787676318 and parameters: {'alpha': 2.15}. Best is trial 1 with value: 0.9910992328631527.\n",
            "[I 2024-09-08 21:39:39,930] Trial 25 finished with value: 0.9906557782727049 and parameters: {'alpha': 0.9500000000000001}. Best is trial 1 with value: 0.9910992328631527.\n",
            "[I 2024-09-08 21:39:40,079] Trial 26 finished with value: 0.9804206879485277 and parameters: {'alpha': 2.3}. Best is trial 1 with value: 0.9910992328631527.\n",
            "[I 2024-09-08 21:39:40,215] Trial 27 finished with value: 0.9906557782727049 and parameters: {'alpha': 0.7500000000000001}. Best is trial 1 with value: 0.9910992328631527.\n",
            "[I 2024-09-08 21:39:40,354] Trial 28 finished with value: 0.9862053947042811 and parameters: {'alpha': 1.8}. Best is trial 1 with value: 0.9910992328631527.\n",
            "[I 2024-09-08 21:39:40,495] Trial 29 finished with value: 0.9555021034397427 and parameters: {'alpha': 4.05}. Best is trial 1 with value: 0.9910992328631527.\n"
          ]
        },
        {
          "name": "stdout",
          "output_type": "stream",
          "text": [
            "CPU times: user 416 ms, sys: 212 ms, total: 628 ms\n",
            "Wall time: 7.08 s\n"
          ]
        }
      ],
      "source": [
        "%%time\n",
        "#begin hyperparameters selection\n",
        "#create review object\n",
        "study_optuna_nb = optuna.create_study(study_name='ComplementNaiveBayes',\n",
        "                                      direction='maximize')\n",
        "\n",
        "#search for the best combination\n",
        "study_optuna_nb.optimize(optuna_nb,\n",
        "                         n_trials=30)"
      ]
    },
    {
      "cell_type": "code",
      "execution_count": 28,
      "id": "93173214",
      "metadata": {},
      "outputs": [
        {
          "name": "stdout",
          "output_type": "stream",
          "text": [
            "hyperparameters for random forest with optuna {'alpha': 0.6000000000000001}\n"
          ]
        }
      ],
      "source": [
        "#find the best hyperparameters\n",
        "print(f'hyperparameters for random forest with optuna {study_optuna_nb.best_params}')"
      ]
    },
    {
      "cell_type": "code",
      "execution_count": 29,
      "id": "9338936a",
      "metadata": {},
      "outputs": [],
      "source": [
        "#find the metrics for test data\n",
        "model_opt_nb = naive_bayes.ComplementNB(**study_optuna_nb.best_params,\n",
        "                                        )\n",
        "\n",
        "#model learning\n",
        "model_opt_nb.fit(X_train, y_train)\n",
        "model_opt_nb.fit(X_test, y_test)\n",
        "\n",
        "#make a prediction\n",
        "y_train_pred_nb = model_opt_nb.predict(X_train)\n",
        "y_test_pred_nb = model_opt_nb.predict(X_test)"
      ]
    },
    {
      "cell_type": "code",
      "execution_count": 30,
      "id": "4e484f21",
      "metadata": {},
      "outputs": [
        {
          "name": "stdout",
          "output_type": "stream",
          "text": [
            "train data:\n",
            "f1_score: 0.976\n",
            "\n",
            "test data:\n",
            "f1_score: 0.996\n"
          ]
        }
      ],
      "source": [
        "#display the metrics\n",
        "print('train data:')\n",
        "print(f'f1_score: {metrics.f1_score(y_train, y_train_pred_nb, average=\"micro\"):.3f}')\n",
        "print()\n",
        "print('test data:')\n",
        "print(f'f1_score: {metrics.f1_score(y_test, y_test_pred_nb, average=\"micro\"):.3f}')"
      ]
    },
    {
      "cell_type": "code",
      "execution_count": 31,
      "id": "f71a300f",
      "metadata": {},
      "outputs": [],
      "source": [
        "#add model results to the ordered dict\n",
        "review['model_name'].append(model_opt_nb.__class__.__name__)\n",
        "review['hyperparameters'].append(study_optuna_nb.best_params)\n",
        "review['F1-Score, train'].append(round(metrics.f1_score(y_train, y_train_pred_nb), 3))\n",
        "review['F1-Score, test'].append(round(metrics.f1_score(y_test, y_test_pred_nb), 3))"
      ]
    },
    {
      "cell_type": "code",
      "execution_count": 32,
      "id": "af4f171b",
      "metadata": {},
      "outputs": [
        {
          "data": {
            "application/vnd.plotly.v1+json": {
              "config": {
                "plotlyServerURL": "https://plot.ly"
              },
              "data": [
                {
                  "mode": "markers",
                  "name": "f1_score",
                  "type": "scatter",
                  "x": [
                    0,
                    1,
                    2,
                    3,
                    4,
                    5,
                    6,
                    7,
                    8,
                    9,
                    10,
                    11,
                    12,
                    13,
                    14,
                    15,
                    16,
                    17,
                    18,
                    19,
                    20,
                    21,
                    22,
                    23,
                    24,
                    25,
                    26,
                    27,
                    28,
                    29
                  ],
                  "y": [
                    0.9403692155407077,
                    0.9910992328631527,
                    0.9870952734471666,
                    0.8923009156149468,
                    0.9012026726057906,
                    0.9893204652313784,
                    0.8980895817866864,
                    0.8936362286562731,
                    0.968852264291017,
                    0.9345815392229646,
                    0.9910992328631527,
                    0.9906547884187082,
                    0.9902103439742639,
                    0.9719663449641178,
                    0.9848690918089582,
                    0.9501628309824302,
                    0.922122246968572,
                    0.8838445929225438,
                    0.9902103439742639,
                    0.9741905468943329,
                    0.9657381836179164,
                    0.9902103439742639,
                    0.9902103439742639,
                    0.9910992328631527,
                    0.9835337787676318,
                    0.9906557782727049,
                    0.9804206879485277,
                    0.9906557782727049,
                    0.9862053947042811,
                    0.9555021034397427
                  ]
                },
                {
                  "mode": "lines",
                  "name": "Best Value",
                  "type": "scatter",
                  "x": [
                    0,
                    1,
                    2,
                    3,
                    4,
                    5,
                    6,
                    7,
                    8,
                    9,
                    10,
                    11,
                    12,
                    13,
                    14,
                    15,
                    16,
                    17,
                    18,
                    19,
                    20,
                    21,
                    22,
                    23,
                    24,
                    25,
                    26,
                    27,
                    28,
                    29
                  ],
                  "y": [
                    0.9403692155407077,
                    0.9910992328631527,
                    0.9910992328631527,
                    0.9910992328631527,
                    0.9910992328631527,
                    0.9910992328631527,
                    0.9910992328631527,
                    0.9910992328631527,
                    0.9910992328631527,
                    0.9910992328631527,
                    0.9910992328631527,
                    0.9910992328631527,
                    0.9910992328631527,
                    0.9910992328631527,
                    0.9910992328631527,
                    0.9910992328631527,
                    0.9910992328631527,
                    0.9910992328631527,
                    0.9910992328631527,
                    0.9910992328631527,
                    0.9910992328631527,
                    0.9910992328631527,
                    0.9910992328631527,
                    0.9910992328631527,
                    0.9910992328631527,
                    0.9910992328631527,
                    0.9910992328631527,
                    0.9910992328631527,
                    0.9910992328631527,
                    0.9910992328631527
                  ]
                },
                {
                  "marker": {
                    "color": "#cccccc"
                  },
                  "mode": "markers",
                  "name": "Infeasible Trial",
                  "showlegend": false,
                  "type": "scatter",
                  "x": [],
                  "y": []
                }
              ],
              "layout": {
                "template": {
                  "data": {
                    "bar": [
                      {
                        "error_x": {
                          "color": "#2a3f5f"
                        },
                        "error_y": {
                          "color": "#2a3f5f"
                        },
                        "marker": {
                          "line": {
                            "color": "#E5ECF6",
                            "width": 0.5
                          },
                          "pattern": {
                            "fillmode": "overlay",
                            "size": 10,
                            "solidity": 0.2
                          }
                        },
                        "type": "bar"
                      }
                    ],
                    "barpolar": [
                      {
                        "marker": {
                          "line": {
                            "color": "#E5ECF6",
                            "width": 0.5
                          },
                          "pattern": {
                            "fillmode": "overlay",
                            "size": 10,
                            "solidity": 0.2
                          }
                        },
                        "type": "barpolar"
                      }
                    ],
                    "carpet": [
                      {
                        "aaxis": {
                          "endlinecolor": "#2a3f5f",
                          "gridcolor": "white",
                          "linecolor": "white",
                          "minorgridcolor": "white",
                          "startlinecolor": "#2a3f5f"
                        },
                        "baxis": {
                          "endlinecolor": "#2a3f5f",
                          "gridcolor": "white",
                          "linecolor": "white",
                          "minorgridcolor": "white",
                          "startlinecolor": "#2a3f5f"
                        },
                        "type": "carpet"
                      }
                    ],
                    "choropleth": [
                      {
                        "colorbar": {
                          "outlinewidth": 0,
                          "ticks": ""
                        },
                        "type": "choropleth"
                      }
                    ],
                    "contour": [
                      {
                        "colorbar": {
                          "outlinewidth": 0,
                          "ticks": ""
                        },
                        "colorscale": [
                          [
                            0,
                            "#0d0887"
                          ],
                          [
                            0.1111111111111111,
                            "#46039f"
                          ],
                          [
                            0.2222222222222222,
                            "#7201a8"
                          ],
                          [
                            0.3333333333333333,
                            "#9c179e"
                          ],
                          [
                            0.4444444444444444,
                            "#bd3786"
                          ],
                          [
                            0.5555555555555556,
                            "#d8576b"
                          ],
                          [
                            0.6666666666666666,
                            "#ed7953"
                          ],
                          [
                            0.7777777777777778,
                            "#fb9f3a"
                          ],
                          [
                            0.8888888888888888,
                            "#fdca26"
                          ],
                          [
                            1,
                            "#f0f921"
                          ]
                        ],
                        "type": "contour"
                      }
                    ],
                    "contourcarpet": [
                      {
                        "colorbar": {
                          "outlinewidth": 0,
                          "ticks": ""
                        },
                        "type": "contourcarpet"
                      }
                    ],
                    "heatmap": [
                      {
                        "colorbar": {
                          "outlinewidth": 0,
                          "ticks": ""
                        },
                        "colorscale": [
                          [
                            0,
                            "#0d0887"
                          ],
                          [
                            0.1111111111111111,
                            "#46039f"
                          ],
                          [
                            0.2222222222222222,
                            "#7201a8"
                          ],
                          [
                            0.3333333333333333,
                            "#9c179e"
                          ],
                          [
                            0.4444444444444444,
                            "#bd3786"
                          ],
                          [
                            0.5555555555555556,
                            "#d8576b"
                          ],
                          [
                            0.6666666666666666,
                            "#ed7953"
                          ],
                          [
                            0.7777777777777778,
                            "#fb9f3a"
                          ],
                          [
                            0.8888888888888888,
                            "#fdca26"
                          ],
                          [
                            1,
                            "#f0f921"
                          ]
                        ],
                        "type": "heatmap"
                      }
                    ],
                    "heatmapgl": [
                      {
                        "colorbar": {
                          "outlinewidth": 0,
                          "ticks": ""
                        },
                        "colorscale": [
                          [
                            0,
                            "#0d0887"
                          ],
                          [
                            0.1111111111111111,
                            "#46039f"
                          ],
                          [
                            0.2222222222222222,
                            "#7201a8"
                          ],
                          [
                            0.3333333333333333,
                            "#9c179e"
                          ],
                          [
                            0.4444444444444444,
                            "#bd3786"
                          ],
                          [
                            0.5555555555555556,
                            "#d8576b"
                          ],
                          [
                            0.6666666666666666,
                            "#ed7953"
                          ],
                          [
                            0.7777777777777778,
                            "#fb9f3a"
                          ],
                          [
                            0.8888888888888888,
                            "#fdca26"
                          ],
                          [
                            1,
                            "#f0f921"
                          ]
                        ],
                        "type": "heatmapgl"
                      }
                    ],
                    "histogram": [
                      {
                        "marker": {
                          "pattern": {
                            "fillmode": "overlay",
                            "size": 10,
                            "solidity": 0.2
                          }
                        },
                        "type": "histogram"
                      }
                    ],
                    "histogram2d": [
                      {
                        "colorbar": {
                          "outlinewidth": 0,
                          "ticks": ""
                        },
                        "colorscale": [
                          [
                            0,
                            "#0d0887"
                          ],
                          [
                            0.1111111111111111,
                            "#46039f"
                          ],
                          [
                            0.2222222222222222,
                            "#7201a8"
                          ],
                          [
                            0.3333333333333333,
                            "#9c179e"
                          ],
                          [
                            0.4444444444444444,
                            "#bd3786"
                          ],
                          [
                            0.5555555555555556,
                            "#d8576b"
                          ],
                          [
                            0.6666666666666666,
                            "#ed7953"
                          ],
                          [
                            0.7777777777777778,
                            "#fb9f3a"
                          ],
                          [
                            0.8888888888888888,
                            "#fdca26"
                          ],
                          [
                            1,
                            "#f0f921"
                          ]
                        ],
                        "type": "histogram2d"
                      }
                    ],
                    "histogram2dcontour": [
                      {
                        "colorbar": {
                          "outlinewidth": 0,
                          "ticks": ""
                        },
                        "colorscale": [
                          [
                            0,
                            "#0d0887"
                          ],
                          [
                            0.1111111111111111,
                            "#46039f"
                          ],
                          [
                            0.2222222222222222,
                            "#7201a8"
                          ],
                          [
                            0.3333333333333333,
                            "#9c179e"
                          ],
                          [
                            0.4444444444444444,
                            "#bd3786"
                          ],
                          [
                            0.5555555555555556,
                            "#d8576b"
                          ],
                          [
                            0.6666666666666666,
                            "#ed7953"
                          ],
                          [
                            0.7777777777777778,
                            "#fb9f3a"
                          ],
                          [
                            0.8888888888888888,
                            "#fdca26"
                          ],
                          [
                            1,
                            "#f0f921"
                          ]
                        ],
                        "type": "histogram2dcontour"
                      }
                    ],
                    "mesh3d": [
                      {
                        "colorbar": {
                          "outlinewidth": 0,
                          "ticks": ""
                        },
                        "type": "mesh3d"
                      }
                    ],
                    "parcoords": [
                      {
                        "line": {
                          "colorbar": {
                            "outlinewidth": 0,
                            "ticks": ""
                          }
                        },
                        "type": "parcoords"
                      }
                    ],
                    "pie": [
                      {
                        "automargin": true,
                        "type": "pie"
                      }
                    ],
                    "scatter": [
                      {
                        "fillpattern": {
                          "fillmode": "overlay",
                          "size": 10,
                          "solidity": 0.2
                        },
                        "type": "scatter"
                      }
                    ],
                    "scatter3d": [
                      {
                        "line": {
                          "colorbar": {
                            "outlinewidth": 0,
                            "ticks": ""
                          }
                        },
                        "marker": {
                          "colorbar": {
                            "outlinewidth": 0,
                            "ticks": ""
                          }
                        },
                        "type": "scatter3d"
                      }
                    ],
                    "scattercarpet": [
                      {
                        "marker": {
                          "colorbar": {
                            "outlinewidth": 0,
                            "ticks": ""
                          }
                        },
                        "type": "scattercarpet"
                      }
                    ],
                    "scattergeo": [
                      {
                        "marker": {
                          "colorbar": {
                            "outlinewidth": 0,
                            "ticks": ""
                          }
                        },
                        "type": "scattergeo"
                      }
                    ],
                    "scattergl": [
                      {
                        "marker": {
                          "colorbar": {
                            "outlinewidth": 0,
                            "ticks": ""
                          }
                        },
                        "type": "scattergl"
                      }
                    ],
                    "scattermapbox": [
                      {
                        "marker": {
                          "colorbar": {
                            "outlinewidth": 0,
                            "ticks": ""
                          }
                        },
                        "type": "scattermapbox"
                      }
                    ],
                    "scatterpolar": [
                      {
                        "marker": {
                          "colorbar": {
                            "outlinewidth": 0,
                            "ticks": ""
                          }
                        },
                        "type": "scatterpolar"
                      }
                    ],
                    "scatterpolargl": [
                      {
                        "marker": {
                          "colorbar": {
                            "outlinewidth": 0,
                            "ticks": ""
                          }
                        },
                        "type": "scatterpolargl"
                      }
                    ],
                    "scatterternary": [
                      {
                        "marker": {
                          "colorbar": {
                            "outlinewidth": 0,
                            "ticks": ""
                          }
                        },
                        "type": "scatterternary"
                      }
                    ],
                    "surface": [
                      {
                        "colorbar": {
                          "outlinewidth": 0,
                          "ticks": ""
                        },
                        "colorscale": [
                          [
                            0,
                            "#0d0887"
                          ],
                          [
                            0.1111111111111111,
                            "#46039f"
                          ],
                          [
                            0.2222222222222222,
                            "#7201a8"
                          ],
                          [
                            0.3333333333333333,
                            "#9c179e"
                          ],
                          [
                            0.4444444444444444,
                            "#bd3786"
                          ],
                          [
                            0.5555555555555556,
                            "#d8576b"
                          ],
                          [
                            0.6666666666666666,
                            "#ed7953"
                          ],
                          [
                            0.7777777777777778,
                            "#fb9f3a"
                          ],
                          [
                            0.8888888888888888,
                            "#fdca26"
                          ],
                          [
                            1,
                            "#f0f921"
                          ]
                        ],
                        "type": "surface"
                      }
                    ],
                    "table": [
                      {
                        "cells": {
                          "fill": {
                            "color": "#EBF0F8"
                          },
                          "line": {
                            "color": "white"
                          }
                        },
                        "header": {
                          "fill": {
                            "color": "#C8D4E3"
                          },
                          "line": {
                            "color": "white"
                          }
                        },
                        "type": "table"
                      }
                    ]
                  },
                  "layout": {
                    "annotationdefaults": {
                      "arrowcolor": "#2a3f5f",
                      "arrowhead": 0,
                      "arrowwidth": 1
                    },
                    "autotypenumbers": "strict",
                    "coloraxis": {
                      "colorbar": {
                        "outlinewidth": 0,
                        "ticks": ""
                      }
                    },
                    "colorscale": {
                      "diverging": [
                        [
                          0,
                          "#8e0152"
                        ],
                        [
                          0.1,
                          "#c51b7d"
                        ],
                        [
                          0.2,
                          "#de77ae"
                        ],
                        [
                          0.3,
                          "#f1b6da"
                        ],
                        [
                          0.4,
                          "#fde0ef"
                        ],
                        [
                          0.5,
                          "#f7f7f7"
                        ],
                        [
                          0.6,
                          "#e6f5d0"
                        ],
                        [
                          0.7,
                          "#b8e186"
                        ],
                        [
                          0.8,
                          "#7fbc41"
                        ],
                        [
                          0.9,
                          "#4d9221"
                        ],
                        [
                          1,
                          "#276419"
                        ]
                      ],
                      "sequential": [
                        [
                          0,
                          "#0d0887"
                        ],
                        [
                          0.1111111111111111,
                          "#46039f"
                        ],
                        [
                          0.2222222222222222,
                          "#7201a8"
                        ],
                        [
                          0.3333333333333333,
                          "#9c179e"
                        ],
                        [
                          0.4444444444444444,
                          "#bd3786"
                        ],
                        [
                          0.5555555555555556,
                          "#d8576b"
                        ],
                        [
                          0.6666666666666666,
                          "#ed7953"
                        ],
                        [
                          0.7777777777777778,
                          "#fb9f3a"
                        ],
                        [
                          0.8888888888888888,
                          "#fdca26"
                        ],
                        [
                          1,
                          "#f0f921"
                        ]
                      ],
                      "sequentialminus": [
                        [
                          0,
                          "#0d0887"
                        ],
                        [
                          0.1111111111111111,
                          "#46039f"
                        ],
                        [
                          0.2222222222222222,
                          "#7201a8"
                        ],
                        [
                          0.3333333333333333,
                          "#9c179e"
                        ],
                        [
                          0.4444444444444444,
                          "#bd3786"
                        ],
                        [
                          0.5555555555555556,
                          "#d8576b"
                        ],
                        [
                          0.6666666666666666,
                          "#ed7953"
                        ],
                        [
                          0.7777777777777778,
                          "#fb9f3a"
                        ],
                        [
                          0.8888888888888888,
                          "#fdca26"
                        ],
                        [
                          1,
                          "#f0f921"
                        ]
                      ]
                    },
                    "colorway": [
                      "#636efa",
                      "#EF553B",
                      "#00cc96",
                      "#ab63fa",
                      "#FFA15A",
                      "#19d3f3",
                      "#FF6692",
                      "#B6E880",
                      "#FF97FF",
                      "#FECB52"
                    ],
                    "font": {
                      "color": "#2a3f5f"
                    },
                    "geo": {
                      "bgcolor": "white",
                      "lakecolor": "white",
                      "landcolor": "#E5ECF6",
                      "showlakes": true,
                      "showland": true,
                      "subunitcolor": "white"
                    },
                    "hoverlabel": {
                      "align": "left"
                    },
                    "hovermode": "closest",
                    "mapbox": {
                      "style": "light"
                    },
                    "paper_bgcolor": "white",
                    "plot_bgcolor": "#E5ECF6",
                    "polar": {
                      "angularaxis": {
                        "gridcolor": "white",
                        "linecolor": "white",
                        "ticks": ""
                      },
                      "bgcolor": "#E5ECF6",
                      "radialaxis": {
                        "gridcolor": "white",
                        "linecolor": "white",
                        "ticks": ""
                      }
                    },
                    "scene": {
                      "xaxis": {
                        "backgroundcolor": "#E5ECF6",
                        "gridcolor": "white",
                        "gridwidth": 2,
                        "linecolor": "white",
                        "showbackground": true,
                        "ticks": "",
                        "zerolinecolor": "white"
                      },
                      "yaxis": {
                        "backgroundcolor": "#E5ECF6",
                        "gridcolor": "white",
                        "gridwidth": 2,
                        "linecolor": "white",
                        "showbackground": true,
                        "ticks": "",
                        "zerolinecolor": "white"
                      },
                      "zaxis": {
                        "backgroundcolor": "#E5ECF6",
                        "gridcolor": "white",
                        "gridwidth": 2,
                        "linecolor": "white",
                        "showbackground": true,
                        "ticks": "",
                        "zerolinecolor": "white"
                      }
                    },
                    "shapedefaults": {
                      "line": {
                        "color": "#2a3f5f"
                      }
                    },
                    "ternary": {
                      "aaxis": {
                        "gridcolor": "white",
                        "linecolor": "white",
                        "ticks": ""
                      },
                      "baxis": {
                        "gridcolor": "white",
                        "linecolor": "white",
                        "ticks": ""
                      },
                      "bgcolor": "#E5ECF6",
                      "caxis": {
                        "gridcolor": "white",
                        "linecolor": "white",
                        "ticks": ""
                      }
                    },
                    "title": {
                      "x": 0.05
                    },
                    "xaxis": {
                      "automargin": true,
                      "gridcolor": "white",
                      "linecolor": "white",
                      "ticks": "",
                      "title": {
                        "standoff": 15
                      },
                      "zerolinecolor": "white",
                      "zerolinewidth": 2
                    },
                    "yaxis": {
                      "automargin": true,
                      "gridcolor": "white",
                      "linecolor": "white",
                      "ticks": "",
                      "title": {
                        "standoff": 15
                      },
                      "zerolinecolor": "white",
                      "zerolinewidth": 2
                    }
                  }
                },
                "title": {
                  "text": "Optimization History Plot"
                },
                "xaxis": {
                  "title": {
                    "text": "Trial"
                  }
                },
                "yaxis": {
                  "title": {
                    "text": "f1_score"
                  }
                }
              }
            }
          },
          "metadata": {},
          "output_type": "display_data"
        }
      ],
      "source": [
        "#check whether optimization is moving in the right direction by the number of trials on x-axis and the metrics on y_axis\n",
        "optuna.visualization.plot_optimization_history(study_optuna_nb, target_name=\"f1_score\")"
      ]
    },
    {
      "cell_type": "code",
      "execution_count": 33,
      "id": "7088b3b2",
      "metadata": {},
      "outputs": [
        {
          "data": {
            "text/html": [
              "<div>\n",
              "<style scoped>\n",
              "    .dataframe tbody tr th:only-of-type {\n",
              "        vertical-align: middle;\n",
              "    }\n",
              "\n",
              "    .dataframe tbody tr th {\n",
              "        vertical-align: top;\n",
              "    }\n",
              "\n",
              "    .dataframe thead th {\n",
              "        text-align: right;\n",
              "    }\n",
              "</style>\n",
              "<table border=\"1\" class=\"dataframe\">\n",
              "  <thead>\n",
              "    <tr style=\"text-align: right;\">\n",
              "      <th></th>\n",
              "      <th>model_name</th>\n",
              "      <th>hyperparameters</th>\n",
              "      <th>F1-Score, train</th>\n",
              "      <th>F1-Score, test</th>\n",
              "    </tr>\n",
              "  </thead>\n",
              "  <tbody>\n",
              "    <tr>\n",
              "      <th>0</th>\n",
              "      <td>ComplementNB</td>\n",
              "      <td>alpha=0.01</td>\n",
              "      <td>0.999</td>\n",
              "      <td>0.962</td>\n",
              "    </tr>\n",
              "    <tr>\n",
              "      <th>1</th>\n",
              "      <td>ComplementNB</td>\n",
              "      <td>{'alpha': 0.6000000000000001}</td>\n",
              "      <td>0.922</td>\n",
              "      <td>0.988</td>\n",
              "    </tr>\n",
              "  </tbody>\n",
              "</table>\n",
              "</div>"
            ],
            "text/plain": [
              "     model_name                hyperparameters  F1-Score, train  \\\n",
              "0  ComplementNB                     alpha=0.01            0.999   \n",
              "1  ComplementNB  {'alpha': 0.6000000000000001}            0.922   \n",
              "\n",
              "   F1-Score, test  \n",
              "0           0.962  \n",
              "1           0.988  "
            ]
          },
          "execution_count": 33,
          "metadata": {},
          "output_type": "execute_result"
        }
      ],
      "source": [
        "#show model results\n",
        "review_results = pd.DataFrame(review)\n",
        "review_results"
      ]
    },
    {
      "cell_type": "markdown",
      "id": "ab8b622d",
      "metadata": {},
      "source": [
        "**Вывод**:\n",
        "\n",
        "Значение alpha оказывает довольно существенное влияние на метрики модели.\n",
        "Alpha меньше значения по умолчанию = 1 показывает, что модель менее переобучена и общая точность намного лучше.\n",
        "\n",
        "Для будущего анализа гиперпараметр alpha следует отсортировывать от 0 до 1."
      ]
    }
  ],
  "metadata": {
    "colab": {
      "name": "SGA_unit6_NBC.ipynb",
      "provenance": []
    },
    "kernelspec": {
      "display_name": "Python 3 (ipykernel)",
      "language": "python",
      "name": "python3"
    },
    "language_info": {
      "codemirror_mode": {
        "name": "ipython",
        "version": 3
      },
      "file_extension": ".py",
      "mimetype": "text/x-python",
      "name": "python",
      "nbconvert_exporter": "python",
      "pygments_lexer": "ipython3",
      "version": "3.10.5"
    }
  },
  "nbformat": 4,
  "nbformat_minor": 5
}

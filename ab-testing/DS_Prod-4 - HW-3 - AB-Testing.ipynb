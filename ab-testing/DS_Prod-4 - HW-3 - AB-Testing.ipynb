{
 "cells": [
  {
   "cell_type": "markdown",
   "metadata": {
    "id": "ZbP8P4t5VYBo"
   },
   "source": [
    "## **ANALYSIS OF THE EFFECTIVENESS OF TWO LANDING PAGE VARIANTS**"
   ]
  },
  {
   "cell_type": "markdown",
   "metadata": {
    "id": "gEfFtVxNVa0E"
   },
   "source": [
    "Компания планирует запустить новую акцию, чтобы продать как можно больше туров. Команда разработала два варианта посадочной страницы официального сайта и провела A/B-тестирование. В результате эксперимента были собраны данные."
   ]
  },
  {
   "cell_type": "markdown",
   "metadata": {
    "id": "Msd0zeqbVbSi"
   },
   "source": [
    "*Бизнес-задача*: проанализировать эффективность обоих вариантов посадочной страницы сразу по двум критериям — конверсии покупки и ежедневному среднему чеку.\n",
    "\n",
    "\n",
    "\n",
    "*   A/B-тестирование было проведено корректно\n",
    "*   проверить факт стабилизации метрик и обоснованно ответить на ключевой вопрос турагентства: какой вариант посадочной страницы более предпочтителен по метрикам конверсии и ежедневного среднего чека?\n",
    "\n",
    "\n",
    "Компания предлагает следующие варианты туров:\n",
    "\n",
    "*Санкт-Петербург* — 10 000 рублей; \\\n",
    "*Турция* — 60 000 рублей; \\\n",
    "*Таиланд* — 100 000 рублей; \\\n",
    "*Камчатка* — 150 000 рублей; \\\n",
    "*Мальдивы* — 200 000 рублей."
   ]
  },
  {
   "cell_type": "markdown",
   "metadata": {
    "id": "aISHDk4zVfzE"
   },
   "source": [
    "Таблица представлена следующими полями:\n",
    "\n",
    "**user_id** — идентификатор пользователя, зашедшего на сайт; \\\n",
    "**data** — дата посещения сайта; \\\n",
    "**group** — группа теста (контрольная — А или тестовая — B); \\\n",
    "**purchase** — признак покупки: совершил ли пользователь покупку тура (1 — да, 0 — нет); \\\n",
    "**price** — цена купленного тура (если покупка не состоялась, цена равна 0)."
   ]
  },
  {
   "cell_type": "code",
   "execution_count": 1,
   "metadata": {
    "executionInfo": {
     "elapsed": 4788,
     "status": "ok",
     "timestamp": 1749217656686,
     "user": {
      "displayName": "Tori Ilicheva",
      "userId": "08292295341952264179"
     },
     "user_tz": -180
    },
    "id": "i8CTGlSHbTyi"
   },
   "outputs": [],
   "source": [
    "#standard libraries\n",
    "import pandas as pd, numpy as np\n",
    "\n",
    "#visualization\n",
    "import matplotlib.pyplot as plt\n",
    "import seaborn as sns\n",
    "\n",
    "%matplotlib inline\n",
    "plt.style.use('seaborn-v0_8')\n",
    "\n",
    "from statsmodels.stats.proportion import proportions_ztest\n",
    "from scipy.stats import ttest_ind\n",
    "from scipy.stats import shapiro\n",
    "\n",
    "from scipy.stats import norm\n",
    "from scipy.stats import t\n",
    "from statsmodels.stats import proportion"
   ]
  },
  {
   "cell_type": "markdown",
   "metadata": {
    "id": "tDLNqN9oVgKJ"
   },
   "source": [
    "### **STEP 1**"
   ]
  },
  {
   "cell_type": "markdown",
   "metadata": {
    "id": "T4cJ-EqPVi4Y"
   },
   "source": [
    "Проанализируйте структуру данных и проведите их предобработку:\n",
    "\n",
    "* исследуйте структуру данных"
   ]
  },
  {
   "cell_type": "code",
   "execution_count": 2,
   "metadata": {
    "colab": {
     "base_uri": "https://localhost:8080/",
     "height": 206
    },
    "executionInfo": {
     "elapsed": 445,
     "status": "ok",
     "timestamp": 1749217717570,
     "user": {
      "displayName": "Tori Ilicheva",
      "userId": "08292295341952264179"
     },
     "user_tz": -180
    },
    "id": "fqHtrmTef-ti",
    "outputId": "4be43357-8234-46d4-aad1-bfed61f59e1b"
   },
   "outputs": [
    {
     "data": {
      "text/html": [
       "<div>\n",
       "<style scoped>\n",
       "    .dataframe tbody tr th:only-of-type {\n",
       "        vertical-align: middle;\n",
       "    }\n",
       "\n",
       "    .dataframe tbody tr th {\n",
       "        vertical-align: top;\n",
       "    }\n",
       "\n",
       "    .dataframe thead th {\n",
       "        text-align: right;\n",
       "    }\n",
       "</style>\n",
       "<table border=\"1\" class=\"dataframe\">\n",
       "  <thead>\n",
       "    <tr style=\"text-align: right;\">\n",
       "      <th></th>\n",
       "      <th>user_id</th>\n",
       "      <th>date</th>\n",
       "      <th>group</th>\n",
       "      <th>purchase</th>\n",
       "      <th>price</th>\n",
       "    </tr>\n",
       "  </thead>\n",
       "  <tbody>\n",
       "    <tr>\n",
       "      <th>0</th>\n",
       "      <td>851104</td>\n",
       "      <td>2021-01-21</td>\n",
       "      <td>A</td>\n",
       "      <td>0</td>\n",
       "      <td>0</td>\n",
       "    </tr>\n",
       "    <tr>\n",
       "      <th>1</th>\n",
       "      <td>804228</td>\n",
       "      <td>2021-01-12</td>\n",
       "      <td>A</td>\n",
       "      <td>0</td>\n",
       "      <td>0</td>\n",
       "    </tr>\n",
       "    <tr>\n",
       "      <th>2</th>\n",
       "      <td>661590</td>\n",
       "      <td>2021-01-11</td>\n",
       "      <td>B</td>\n",
       "      <td>0</td>\n",
       "      <td>0</td>\n",
       "    </tr>\n",
       "    <tr>\n",
       "      <th>3</th>\n",
       "      <td>853541</td>\n",
       "      <td>2021-01-08</td>\n",
       "      <td>B</td>\n",
       "      <td>0</td>\n",
       "      <td>0</td>\n",
       "    </tr>\n",
       "    <tr>\n",
       "      <th>4</th>\n",
       "      <td>864975</td>\n",
       "      <td>2021-01-21</td>\n",
       "      <td>A</td>\n",
       "      <td>1</td>\n",
       "      <td>150000</td>\n",
       "    </tr>\n",
       "  </tbody>\n",
       "</table>\n",
       "</div>"
      ],
      "text/plain": [
       "   user_id        date group  purchase   price\n",
       "0   851104  2021-01-21     A         0       0\n",
       "1   804228  2021-01-12     A         0       0\n",
       "2   661590  2021-01-11     B         0       0\n",
       "3   853541  2021-01-08     B         0       0\n",
       "4   864975  2021-01-21     A         1  150000"
      ]
     },
     "execution_count": 2,
     "metadata": {},
     "output_type": "execute_result"
    }
   ],
   "source": [
    "data = pd.read_csv('data/ab_data_tourist.csv')\n",
    "data.head()"
   ]
  },
  {
   "cell_type": "markdown",
   "metadata": {},
   "source": [
    "* преобразуйте столбцы к необходимым типам данных."
   ]
  },
  {
   "cell_type": "code",
   "execution_count": 3,
   "metadata": {
    "colab": {
     "base_uri": "https://localhost:8080/"
    },
    "executionInfo": {
     "elapsed": 51,
     "status": "ok",
     "timestamp": 1749217733696,
     "user": {
      "displayName": "Tori Ilicheva",
      "userId": "08292295341952264179"
     },
     "user_tz": -180
    },
    "id": "12MjBpcDbKGq",
    "outputId": "84e5c8df-6844-4e6c-df34-930b101b1c91"
   },
   "outputs": [
    {
     "name": "stdout",
     "output_type": "stream",
     "text": [
      "<class 'pandas.core.frame.DataFrame'>\n",
      "RangeIndex: 294478 entries, 0 to 294477\n",
      "Data columns (total 5 columns):\n",
      " #   Column    Non-Null Count   Dtype \n",
      "---  ------    --------------   ----- \n",
      " 0   user_id   294478 non-null  int64 \n",
      " 1   date      294478 non-null  object\n",
      " 2   group     294478 non-null  object\n",
      " 3   purchase  294478 non-null  int64 \n",
      " 4   price     294478 non-null  int64 \n",
      "dtypes: int64(3), object(2)\n",
      "memory usage: 11.2+ MB\n"
     ]
    }
   ],
   "source": [
    "data.info()"
   ]
  },
  {
   "cell_type": "code",
   "execution_count": 4,
   "metadata": {},
   "outputs": [],
   "source": [
    "data['group'] = data['group'].astype('string')\n",
    "data['purchase'] = data['purchase'].astype('int8')\n",
    "data['date'] = pd.to_datetime(data['date'],\n",
    "                              format='%Y-%m-%d')"
   ]
  },
  {
   "cell_type": "markdown",
   "metadata": {},
   "source": [
    "* Убедитесь в одинаковой длительности проведения A/B-тестирования в каждой из групп. Если длительность разная, унифицируйте данные, удалив лишние данные для соответствующей группы."
   ]
  },
  {
   "cell_type": "code",
   "execution_count": 5,
   "metadata": {},
   "outputs": [
    {
     "name": "stdout",
     "output_type": "stream",
     "text": [
      "Длительность Тестирования в Группе A: (datetime.date(2021, 1, 2), datetime.date(2021, 1, 24))\n",
      "Длительность Тестирования в Группе B: (datetime.date(2021, 1, 2), datetime.date(2021, 1, 24))\n",
      "\n",
      "22 days, 0:00:00, 22 days, 0:00:00\n"
     ]
    }
   ],
   "source": [
    "groupA_start_date, groupA_end_date = data[data['group'] == 'A']['date'].dt.date.min(), data[data['group'] == 'A']['date'].dt.date.max()\n",
    "groupB_start_date, groupB_end_date = data[data['group'] == 'B']['date'].dt.date.min(), data[data['group'] == 'B']['date'].dt.date.max()\n",
    "\n",
    "print(f'Длительность Тестирования в Группе A: {groupA_start_date, groupA_end_date}')\n",
    "print(f'Длительность Тестирования в Группе B: {groupB_start_date, groupB_end_date}')\n",
    "print()\n",
    "print(groupA_end_date - groupA_start_date, groupB_end_date - groupB_start_date, sep=', ')"
   ]
  },
  {
   "cell_type": "code",
   "execution_count": 6,
   "metadata": {},
   "outputs": [
    {
     "data": {
      "text/html": [
       "<div>\n",
       "<style scoped>\n",
       "    .dataframe tbody tr th:only-of-type {\n",
       "        vertical-align: middle;\n",
       "    }\n",
       "\n",
       "    .dataframe tbody tr th {\n",
       "        vertical-align: top;\n",
       "    }\n",
       "\n",
       "    .dataframe thead th {\n",
       "        text-align: right;\n",
       "    }\n",
       "</style>\n",
       "<table border=\"1\" class=\"dataframe\">\n",
       "  <thead>\n",
       "    <tr style=\"text-align: right;\">\n",
       "      <th></th>\n",
       "      <th>count</th>\n",
       "      <th>mean</th>\n",
       "      <th>min</th>\n",
       "      <th>25%</th>\n",
       "      <th>50%</th>\n",
       "      <th>75%</th>\n",
       "      <th>max</th>\n",
       "    </tr>\n",
       "    <tr>\n",
       "      <th>group</th>\n",
       "      <th></th>\n",
       "      <th></th>\n",
       "      <th></th>\n",
       "      <th></th>\n",
       "      <th></th>\n",
       "      <th></th>\n",
       "      <th></th>\n",
       "    </tr>\n",
       "  </thead>\n",
       "  <tbody>\n",
       "    <tr>\n",
       "      <th>A</th>\n",
       "      <td>147202</td>\n",
       "      <td>2021-01-13 01:55:49.470795520</td>\n",
       "      <td>2021-01-02 00:00:00</td>\n",
       "      <td>2021-01-08 00:00:00</td>\n",
       "      <td>2021-01-13 00:00:00</td>\n",
       "      <td>2021-01-19 00:00:00</td>\n",
       "      <td>2021-01-24 00:00:00</td>\n",
       "    </tr>\n",
       "    <tr>\n",
       "      <th>B</th>\n",
       "      <td>147276</td>\n",
       "      <td>2021-01-13 01:23:47.034955008</td>\n",
       "      <td>2021-01-02 00:00:00</td>\n",
       "      <td>2021-01-08 00:00:00</td>\n",
       "      <td>2021-01-13 00:00:00</td>\n",
       "      <td>2021-01-19 00:00:00</td>\n",
       "      <td>2021-01-24 00:00:00</td>\n",
       "    </tr>\n",
       "  </tbody>\n",
       "</table>\n",
       "</div>"
      ],
      "text/plain": [
       "        count                           mean                  min  \\\n",
       "group                                                               \n",
       "A      147202  2021-01-13 01:55:49.470795520  2021-01-02 00:00:00   \n",
       "B      147276  2021-01-13 01:23:47.034955008  2021-01-02 00:00:00   \n",
       "\n",
       "                       25%                  50%                  75%  \\\n",
       "group                                                                  \n",
       "A      2021-01-08 00:00:00  2021-01-13 00:00:00  2021-01-19 00:00:00   \n",
       "B      2021-01-08 00:00:00  2021-01-13 00:00:00  2021-01-19 00:00:00   \n",
       "\n",
       "                       max  \n",
       "group                       \n",
       "A      2021-01-24 00:00:00  \n",
       "B      2021-01-24 00:00:00  "
      ]
     },
     "execution_count": 6,
     "metadata": {},
     "output_type": "execute_result"
    }
   ],
   "source": [
    "grouping_by_date = data.groupby('group')['date'].describe()\n",
    "grouping_by_date"
   ]
  },
  {
   "cell_type": "markdown",
   "metadata": {},
   "source": [
    "Выборки A/B-теста не обязательно должны быть одинакового размера, но обычно рекомендуется сохранять их относительно равными для оптимальных результатов. Хотя неравные размеры образцов все еще могут давать достоверные результаты, они могут привести к снижению мощности и потенциально потребовать более длительных периодов тестирования для достижения статистически значимых результатов."
   ]
  },
  {
   "cell_type": "code",
   "execution_count": 7,
   "metadata": {},
   "outputs": [
    {
     "data": {
      "text/plain": [
       "0.05025"
      ]
     },
     "execution_count": 7,
     "metadata": {},
     "output_type": "execute_result"
    }
   ],
   "source": [
    "round(100 - (data[data['group'] == 'A'].shape[0] / data[data['group'] == 'B'].shape[0] * 100), 5)"
   ]
  },
  {
   "cell_type": "markdown",
   "metadata": {},
   "source": [
    "Разница в выборках только 5% - незначительна, удалять данные из группы B не обязательно."
   ]
  },
  {
   "cell_type": "markdown",
   "metadata": {},
   "source": [
    "* Проверьте данные на наличие пропусков и избавьтесь от них, если нужно."
   ]
  },
  {
   "cell_type": "code",
   "execution_count": 8,
   "metadata": {},
   "outputs": [
    {
     "data": {
      "text/plain": [
       "Series([], dtype: int64)"
      ]
     },
     "execution_count": 8,
     "metadata": {},
     "output_type": "execute_result"
    }
   ],
   "source": [
    "#check that there are no null values in the data set\n",
    "data.isnull().sum()[data.isnull().sum() > 0]"
   ]
  },
  {
   "cell_type": "markdown",
   "metadata": {},
   "source": [
    "* Проверьте, есть ли пользователи, которые в процессе A/B-теста попали в обе группы. \\\n",
    "** Если да, исключите пользователей, оказавшихся в обеих группах."
   ]
  },
  {
   "cell_type": "code",
   "execution_count": 9,
   "metadata": {},
   "outputs": [
    {
     "data": {
      "text/plain": [
       "array([1, 2])"
      ]
     },
     "execution_count": 9,
     "metadata": {},
     "output_type": "execute_result"
    }
   ],
   "source": [
    "#group by user id and find if there are any users in both groups\n",
    "user_cnt = data.groupby('user_id')['group'].count().reset_index()\n",
    "user_cnt['group'].unique()"
   ]
  },
  {
   "cell_type": "code",
   "execution_count": 10,
   "metadata": {},
   "outputs": [
    {
     "data": {
      "text/plain": [
       "'Кол-во пользователей в обеих группах: 3894'"
      ]
     },
     "execution_count": 10,
     "metadata": {},
     "output_type": "execute_result"
    }
   ],
   "source": [
    "group_intersect = user_cnt[user_cnt['group'] == 2]\n",
    "f'Кол-во пользователей в обеих группах: {group_intersect.shape[0]}'"
   ]
  },
  {
   "cell_type": "code",
   "execution_count": 11,
   "metadata": {},
   "outputs": [
    {
     "data": {
      "text/plain": [
       "'Разница в Выборках: (286690, 294478)'"
      ]
     },
     "execution_count": 11,
     "metadata": {},
     "output_type": "execute_result"
    }
   ],
   "source": [
    "#convert to list\n",
    "both_groups = group_intersect['user_id'].to_list()\n",
    "\n",
    "#deselect any users with \n",
    "testing_data = data[~data['user_id'].isin(both_groups)]\n",
    "\n",
    "#difference in observations\n",
    "f'Разница в Выборках: {testing_data.shape[0], data.shape[0]}'"
   ]
  },
  {
   "cell_type": "markdown",
   "metadata": {
    "id": "DMhTBxCHVjV3"
   },
   "source": [
    "### **STEP 2**"
   ]
  },
  {
   "cell_type": "markdown",
   "metadata": {
    "id": "jdIfp3fqVkqu"
   },
   "source": [
    "Сделайте первичный анализ результатов A/B-тестирования:\n",
    "\n",
    "* Рассчитайте вспомогательные показатели для контрольной и тестовой групп: \\\n",
    "** количество посещений сайта; \\\n",
    "** суммарное количество совершённых покупок; \\\n",
    "** сумма всех покупок."
   ]
  },
  {
   "cell_type": "code",
   "execution_count": 12,
   "metadata": {},
   "outputs": [
    {
     "data": {
      "text/html": [
       "<div>\n",
       "<style scoped>\n",
       "    .dataframe tbody tr th:only-of-type {\n",
       "        vertical-align: middle;\n",
       "    }\n",
       "\n",
       "    .dataframe tbody tr th {\n",
       "        vertical-align: top;\n",
       "    }\n",
       "\n",
       "    .dataframe thead th {\n",
       "        text-align: right;\n",
       "    }\n",
       "</style>\n",
       "<table border=\"1\" class=\"dataframe\">\n",
       "  <thead>\n",
       "    <tr style=\"text-align: right;\">\n",
       "      <th></th>\n",
       "      <th>Group</th>\n",
       "      <th>Visitation</th>\n",
       "      <th>Purchase</th>\n",
       "      <th>Cost</th>\n",
       "    </tr>\n",
       "  </thead>\n",
       "  <tbody>\n",
       "    <tr>\n",
       "      <th>0</th>\n",
       "      <td>Group A</td>\n",
       "      <td>143293</td>\n",
       "      <td>17220</td>\n",
       "      <td>1396120000</td>\n",
       "    </tr>\n",
       "    <tr>\n",
       "      <th>1</th>\n",
       "      <td>Group B</td>\n",
       "      <td>143397</td>\n",
       "      <td>17025</td>\n",
       "      <td>1510100000</td>\n",
       "    </tr>\n",
       "  </tbody>\n",
       "</table>\n",
       "</div>"
      ],
      "text/plain": [
       "     Group  Visitation  Purchase        Cost\n",
       "0  Group A      143293     17220  1396120000\n",
       "1  Group B      143397     17025  1510100000"
      ]
     },
     "execution_count": 12,
     "metadata": {},
     "output_type": "execute_result"
    }
   ],
   "source": [
    "visitationA, visitationB = testing_data[testing_data['group'] == 'A'].shape[0], testing_data[testing_data['group'] == 'B'].shape[0]\n",
    "purchasesA, purchasesB = testing_data[testing_data['group'] == 'A']['purchase'].sum(), testing_data[testing_data['group'] == 'B']['purchase'].sum()\n",
    "costA, costB = testing_data[testing_data['group'] == 'A']['price'].sum(), testing_data[testing_data['group'] == 'B']['price'].sum()\n",
    "\n",
    "auxiliary_indicators = pd.DataFrame({\n",
    "    'Group': ['Group A', 'Group B'],\n",
    "    'Visitation': [visitationA, visitationB],\n",
    "    'Purchase': [purchasesA, purchasesB],\n",
    "    'Cost': [costA, costB],\n",
    "})\n",
    "\n",
    "auxiliary_indicators"
   ]
  },
  {
   "cell_type": "markdown",
   "metadata": {},
   "source": [
    "* Сделайте промежуточные выводы по построенной таблице. \\\n",
    "** Сопоставимо ли количество посещений обоих вариантов посадочной страницы? \\\n",
    "** Можно ли говорить о сбалансированности выборок?"
   ]
  },
  {
   "cell_type": "code",
   "execution_count": 13,
   "metadata": {
    "id": "E9Z62eWkbIcx"
   },
   "outputs": [
    {
     "name": "stdout",
     "output_type": "stream",
     "text": [
      "Разница в кол-ве посещений сайта между группами: 0.07%\n",
      "Разница в сум. кол-ве совершенных покупок между группами: -1.15%\n",
      "Разница в сумме всех покупок между группами: 7.55%\n"
     ]
    }
   ],
   "source": [
    "print(f'Разница в кол-ве посещений сайта между группами: {round(100 - abs(visitationA / visitationB * 100), 2)}%')\n",
    "print(f'Разница в сум. кол-ве совершенных покупок между группами: {round(100 - abs(purchasesA / purchasesB * 100), 2)}%')\n",
    "print(f'Разница в сумме всех покупок между группами: {round(100 - abs(costA / costB * 100), 2)}%')"
   ]
  },
  {
   "cell_type": "markdown",
   "metadata": {},
   "source": [
    "**Вывод**: \\\n",
    "Посещаемость сайта (0.07%) не много выше в группе B, а так же сумма покупок (7.55%), однако кол-во совершенных покупок туров немного выше (1.15%) в группе A. Если приоритетная цель состоит в повышении суммы покупки, то можно сосредоточиться на внедрении нового варианта посадочной страницы."
   ]
  },
  {
   "cell_type": "markdown",
   "metadata": {},
   "source": [
    "* В каждой из групп рассчитайте ключевые показатели: \\\n",
    "** конверсия; \\\n",
    "** средний чек."
   ]
  },
  {
   "cell_type": "code",
   "execution_count": 14,
   "metadata": {
    "id": "OGgDkXUmbIZN"
   },
   "outputs": [
    {
     "data": {
      "text/html": [
       "<div>\n",
       "<style scoped>\n",
       "    .dataframe tbody tr th:only-of-type {\n",
       "        vertical-align: middle;\n",
       "    }\n",
       "\n",
       "    .dataframe tbody tr th {\n",
       "        vertical-align: top;\n",
       "    }\n",
       "\n",
       "    .dataframe thead th {\n",
       "        text-align: right;\n",
       "    }\n",
       "</style>\n",
       "<table border=\"1\" class=\"dataframe\">\n",
       "  <thead>\n",
       "    <tr style=\"text-align: right;\">\n",
       "      <th></th>\n",
       "      <th>Group</th>\n",
       "      <th>Conversion</th>\n",
       "      <th>Average Bill</th>\n",
       "    </tr>\n",
       "  </thead>\n",
       "  <tbody>\n",
       "    <tr>\n",
       "      <th>0</th>\n",
       "      <td>Group A</td>\n",
       "      <td>0.12017</td>\n",
       "      <td>81075.0</td>\n",
       "    </tr>\n",
       "    <tr>\n",
       "      <th>1</th>\n",
       "      <td>Group B</td>\n",
       "      <td>0.11873</td>\n",
       "      <td>88699.0</td>\n",
       "    </tr>\n",
       "  </tbody>\n",
       "</table>\n",
       "</div>"
      ],
      "text/plain": [
       "     Group  Conversion  Average Bill\n",
       "0  Group A     0.12017       81075.0\n",
       "1  Group B     0.11873       88699.0"
      ]
     },
     "execution_count": 14,
     "metadata": {},
     "output_type": "execute_result"
    }
   ],
   "source": [
    "conversionA, conversionB = round(purchasesA / visitationA, 5), round(purchasesB / visitationB, 5)\n",
    "av_billA, av_billB = round(costA / purchasesA, 0), round(costB / purchasesB, 0)\n",
    "\n",
    "key_indicators = pd.DataFrame({\n",
    "    'Group': ['Group A', 'Group B'],\n",
    "    'Conversion': [conversionA, conversionB],\n",
    "    'Average Bill': [av_billA, av_billB],\n",
    "})\n",
    "\n",
    "key_indicators"
   ]
  },
  {
   "cell_type": "markdown",
   "metadata": {},
   "source": [
    "* Сделайте первичные выводы о результатах A/B-тестирования на основе показателей конверсии и среднего чека в каждой из групп. \\\n",
    "** По какому(-им) показателю(-ям), на первый взгляд, вариант А эффективнее варианта B и наоборот?"
   ]
  },
  {
   "cell_type": "code",
   "execution_count": 15,
   "metadata": {},
   "outputs": [
    {
     "name": "stdout",
     "output_type": "stream",
     "text": [
      "Сравнение коэффициентов конверсии между группами A и B: 1.21%\n",
      "Сравнение среднего чека между группами A и B: 8.98%\n"
     ]
    }
   ],
   "source": [
    "print(f'Сравнение коэффициентов конверсии между группами A и B: {round(abs(conversionA - conversionB) / ((conversionA + conversionB) / 2) * 100, 2)}%')\n",
    "print(f'Сравнение среднего чека между группами A и B: {round(abs(av_billA - av_billB) / ((av_billA + av_billB) / 2) * 100, 2)}%')"
   ]
  },
  {
   "cell_type": "markdown",
   "metadata": {},
   "source": [
    "**Вывод**: \\\n",
    "У группы А коэффициент конверсии немного выше (1.21%), но у группы В средний чек больше (8.98%)."
   ]
  },
  {
   "cell_type": "markdown",
   "metadata": {},
   "source": [
    "* Сравните варианты A/B по покупательской способности каждого из туров. Для этого постройте сводную таблицу, которая покажет зависимость количества продаж от группы и цены тура. Визуализируйте полученную сводную таблицу."
   ]
  },
  {
   "cell_type": "code",
   "execution_count": 16,
   "metadata": {},
   "outputs": [
    {
     "name": "stderr",
     "output_type": "stream",
     "text": [
      "/var/folders/0j/pqz07rqd22q5j3qyrrpztqnr0000gn/T/ipykernel_21910/4209428308.py:15: SettingWithCopyWarning: \n",
      "A value is trying to be set on a copy of a slice from a DataFrame.\n",
      "Try using .loc[row_indexer,col_indexer] = value instead\n",
      "\n",
      "See the caveats in the documentation: https://pandas.pydata.org/pandas-docs/stable/user_guide/indexing.html#returning-a-view-versus-a-copy\n",
      "  testing_data['tour'] = testing_data.apply(find_tours,\n"
     ]
    }
   ],
   "source": [
    "def find_tours(table: pd.DataFrame):\n",
    "    if table['price'] == 10000:\n",
    "        return 'Санкт-Петербург'\n",
    "    elif table['price'] == 60000:\n",
    "        return 'Турция'\n",
    "    elif table['price'] == 100000:\n",
    "        return 'Таиланд'\n",
    "    elif table['price'] == 150000:\n",
    "        return 'Камчатка'\n",
    "    elif table['price'] == 200000:\n",
    "        return 'Мальдивы'\n",
    "    else:\n",
    "        return None\n",
    "\n",
    "testing_data['tour'] = testing_data.apply(find_tours,\n",
    "                                         axis=1)"
   ]
  },
  {
   "cell_type": "code",
   "execution_count": 17,
   "metadata": {},
   "outputs": [
    {
     "data": {
      "text/html": [
       "<div>\n",
       "<style scoped>\n",
       "    .dataframe tbody tr th:only-of-type {\n",
       "        vertical-align: middle;\n",
       "    }\n",
       "\n",
       "    .dataframe tbody tr th {\n",
       "        vertical-align: top;\n",
       "    }\n",
       "\n",
       "    .dataframe thead th {\n",
       "        text-align: right;\n",
       "    }\n",
       "</style>\n",
       "<table border=\"1\" class=\"dataframe\">\n",
       "  <thead>\n",
       "    <tr style=\"text-align: right;\">\n",
       "      <th>tour</th>\n",
       "      <th>Камчатка</th>\n",
       "      <th>Мальдивы</th>\n",
       "      <th>Санкт-Петербург</th>\n",
       "      <th>Таиланд</th>\n",
       "      <th>Турция</th>\n",
       "    </tr>\n",
       "    <tr>\n",
       "      <th>group</th>\n",
       "      <th></th>\n",
       "      <th></th>\n",
       "      <th></th>\n",
       "      <th></th>\n",
       "      <th></th>\n",
       "    </tr>\n",
       "  </thead>\n",
       "  <tbody>\n",
       "    <tr>\n",
       "      <th>A</th>\n",
       "      <td>3430</td>\n",
       "      <td>1691</td>\n",
       "      <td>5096</td>\n",
       "      <td>1807</td>\n",
       "      <td>5196</td>\n",
       "    </tr>\n",
       "    <tr>\n",
       "      <th>B</th>\n",
       "      <td>3388</td>\n",
       "      <td>1671</td>\n",
       "      <td>5118</td>\n",
       "      <td>5141</td>\n",
       "      <td>1707</td>\n",
       "    </tr>\n",
       "  </tbody>\n",
       "</table>\n",
       "</div>"
      ],
      "text/plain": [
       "tour   Камчатка  Мальдивы  Санкт-Петербург  Таиланд  Турция\n",
       "group                                                      \n",
       "A          3430      1691             5096     1807    5196\n",
       "B          3388      1671             5118     5141    1707"
      ]
     },
     "execution_count": 17,
     "metadata": {},
     "output_type": "execute_result"
    }
   ],
   "source": [
    "p_table = pd.pivot_table(testing_data, \n",
    "                         values='purchase',\n",
    "                         index='group',\n",
    "                         columns='tour',\n",
    "                         aggfunc='count')\n",
    "\n",
    "p_table"
   ]
  },
  {
   "cell_type": "code",
   "execution_count": 18,
   "metadata": {},
   "outputs": [
    {
     "data": {
      "image/png": "[encoded data removed]",
      "text/plain": [
       "<Figure size 1000x550 with 1 Axes>"
      ]
     },
     "metadata": {},
     "output_type": "display_data"
    }
   ],
   "source": [
    "p_table.plot(kind='bar',\n",
    "             figsize=(10, 5.5))\n",
    "\n",
    "plt.title('Разница в кол-ве туров в группах A и B')\n",
    "plt.xlabel('Группа')\n",
    "plt.ylabel('Кол-во Посетителей')\n",
    "plt.legend(title='Тур');"
   ]
  },
  {
   "cell_type": "markdown",
   "metadata": {},
   "source": [
    "* Сделайте выводы по построенной таблице. По каким турам покупательская способность участников группы А выше, чем покупательская способность участников группы B, и наоборот?"
   ]
  },
  {
   "cell_type": "markdown",
   "metadata": {},
   "source": [
    "**Вывод**: \\\n",
    "Участники обеих групп демонстрируют схожий тип покупательского поведения во всех турах — аналогичные покупки сделаны для Санкт-Петербурга, Камчатки, Мальдив. Однако у Группы А больше туров в Турцию, а у Группы В — в Таиланд. Это объясняет более высокий средний чек для Группы В, так как тур в Таиланд стоит на 40 тыс. дороже, чем тур в Турцию."
   ]
  },
  {
   "cell_type": "markdown",
   "metadata": {
    "id": "k9qj6FlLVmlz"
   },
   "source": [
    "### **STEP 3**"
   ]
  },
  {
   "cell_type": "markdown",
   "metadata": {
    "id": "SEf_WxwNVruX"
   },
   "source": [
    "Проанализируйте данные на предмет стабилизации метрик:\n",
    "\n",
    "* Сгруппируйте данные по дате и группе тестирования и постройте таблицу с ежедневными данными результатов проведения A/B-тестирования. В каждой группе вычислите ежедневные показатели: \\\n",
    "** количество посещений страницы; \\\n",
    "** количество покупок; \\\n",
    "** сумму покупок."
   ]
  },
  {
   "cell_type": "code",
   "execution_count": 19,
   "metadata": {},
   "outputs": [
    {
     "data": {
      "text/html": [
       "<div>\n",
       "<style scoped>\n",
       "    .dataframe tbody tr th:only-of-type {\n",
       "        vertical-align: middle;\n",
       "    }\n",
       "\n",
       "    .dataframe tbody tr th {\n",
       "        vertical-align: top;\n",
       "    }\n",
       "\n",
       "    .dataframe thead th {\n",
       "        text-align: right;\n",
       "    }\n",
       "</style>\n",
       "<table border=\"1\" class=\"dataframe\">\n",
       "  <thead>\n",
       "    <tr style=\"text-align: right;\">\n",
       "      <th></th>\n",
       "      <th>date</th>\n",
       "      <th>group</th>\n",
       "      <th>number_of_page_visits</th>\n",
       "      <th>number_of_purchases</th>\n",
       "      <th>amount_of_purchases</th>\n",
       "    </tr>\n",
       "  </thead>\n",
       "  <tbody>\n",
       "    <tr>\n",
       "      <th>0</th>\n",
       "      <td>2021-01-02</td>\n",
       "      <td>A</td>\n",
       "      <td>2813</td>\n",
       "      <td>354</td>\n",
       "      <td>29170000</td>\n",
       "    </tr>\n",
       "    <tr>\n",
       "      <th>1</th>\n",
       "      <td>2021-01-02</td>\n",
       "      <td>B</td>\n",
       "      <td>2818</td>\n",
       "      <td>336</td>\n",
       "      <td>29050000</td>\n",
       "    </tr>\n",
       "    <tr>\n",
       "      <th>2</th>\n",
       "      <td>2021-01-03</td>\n",
       "      <td>A</td>\n",
       "      <td>6494</td>\n",
       "      <td>738</td>\n",
       "      <td>61420000</td>\n",
       "    </tr>\n",
       "    <tr>\n",
       "      <th>3</th>\n",
       "      <td>2021-01-03</td>\n",
       "      <td>B</td>\n",
       "      <td>6531</td>\n",
       "      <td>745</td>\n",
       "      <td>65030000</td>\n",
       "    </tr>\n",
       "  </tbody>\n",
       "</table>\n",
       "</div>"
      ],
      "text/plain": [
       "        date group  number_of_page_visits  number_of_purchases  \\\n",
       "0 2021-01-02     A                   2813                  354   \n",
       "1 2021-01-02     B                   2818                  336   \n",
       "2 2021-01-03     A                   6494                  738   \n",
       "3 2021-01-03     B                   6531                  745   \n",
       "\n",
       "   amount_of_purchases  \n",
       "0             29170000  \n",
       "1             29050000  \n",
       "2             61420000  \n",
       "3             65030000  "
      ]
     },
     "execution_count": 19,
     "metadata": {},
     "output_type": "execute_result"
    }
   ],
   "source": [
    "daily_groupings = testing_data.groupby(['date', 'group']).agg({'user_id': 'count',\n",
    "                                                               'purchase': 'sum',\n",
    "                                                               'price': 'sum'}).reset_index()\n",
    "\n",
    "daily_groupings = daily_groupings.rename(columns={\n",
    "    'user_id': 'number_of_page_visits',\n",
    "    'purchase': 'number_of_purchases',\n",
    "    'price': 'amount_of_purchases'\n",
    "})\n",
    "\n",
    "daily_groupings.head(4)"
   ]
  },
  {
   "cell_type": "markdown",
   "metadata": {},
   "source": [
    "* Добавьте в таблицу информацию о ежедневной конверсии (ежедневное количество покупок / ежедневное количество посещений) в группе и о ежедневном среднем чеке (ежедневная сумма покупок / ежедневное количество покупок)."
   ]
  },
  {
   "cell_type": "code",
   "execution_count": 20,
   "metadata": {
    "id": "EnLQBHPqaslS"
   },
   "outputs": [
    {
     "data": {
      "text/html": [
       "<div>\n",
       "<style scoped>\n",
       "    .dataframe tbody tr th:only-of-type {\n",
       "        vertical-align: middle;\n",
       "    }\n",
       "\n",
       "    .dataframe tbody tr th {\n",
       "        vertical-align: top;\n",
       "    }\n",
       "\n",
       "    .dataframe thead th {\n",
       "        text-align: right;\n",
       "    }\n",
       "</style>\n",
       "<table border=\"1\" class=\"dataframe\">\n",
       "  <thead>\n",
       "    <tr style=\"text-align: right;\">\n",
       "      <th></th>\n",
       "      <th>date</th>\n",
       "      <th>group</th>\n",
       "      <th>number_of_page_visits</th>\n",
       "      <th>number_of_purchases</th>\n",
       "      <th>amount_of_purchases</th>\n",
       "      <th>conversion</th>\n",
       "      <th>average_bill</th>\n",
       "    </tr>\n",
       "  </thead>\n",
       "  <tbody>\n",
       "    <tr>\n",
       "      <th>0</th>\n",
       "      <td>2021-01-02</td>\n",
       "      <td>A</td>\n",
       "      <td>2813</td>\n",
       "      <td>354</td>\n",
       "      <td>29170000</td>\n",
       "      <td>0.125844</td>\n",
       "      <td>82401.129944</td>\n",
       "    </tr>\n",
       "    <tr>\n",
       "      <th>1</th>\n",
       "      <td>2021-01-02</td>\n",
       "      <td>B</td>\n",
       "      <td>2818</td>\n",
       "      <td>336</td>\n",
       "      <td>29050000</td>\n",
       "      <td>0.119233</td>\n",
       "      <td>86458.333333</td>\n",
       "    </tr>\n",
       "    <tr>\n",
       "      <th>2</th>\n",
       "      <td>2021-01-03</td>\n",
       "      <td>A</td>\n",
       "      <td>6494</td>\n",
       "      <td>738</td>\n",
       "      <td>61420000</td>\n",
       "      <td>0.113643</td>\n",
       "      <td>83224.932249</td>\n",
       "    </tr>\n",
       "    <tr>\n",
       "      <th>3</th>\n",
       "      <td>2021-01-03</td>\n",
       "      <td>B</td>\n",
       "      <td>6531</td>\n",
       "      <td>745</td>\n",
       "      <td>65030000</td>\n",
       "      <td>0.114071</td>\n",
       "      <td>87288.590604</td>\n",
       "    </tr>\n",
       "  </tbody>\n",
       "</table>\n",
       "</div>"
      ],
      "text/plain": [
       "        date group  number_of_page_visits  number_of_purchases  \\\n",
       "0 2021-01-02     A                   2813                  354   \n",
       "1 2021-01-02     B                   2818                  336   \n",
       "2 2021-01-03     A                   6494                  738   \n",
       "3 2021-01-03     B                   6531                  745   \n",
       "\n",
       "   amount_of_purchases  conversion  average_bill  \n",
       "0             29170000    0.125844  82401.129944  \n",
       "1             29050000    0.119233  86458.333333  \n",
       "2             61420000    0.113643  83224.932249  \n",
       "3             65030000    0.114071  87288.590604  "
      ]
     },
     "execution_count": 20,
     "metadata": {},
     "output_type": "execute_result"
    }
   ],
   "source": [
    "#daily_groupings['conversion'] = (daily_groupings['number_of_purchases'] / daily_groupings['number_of_page_visits']) * 100\n",
    "daily_groupings['conversion'] = (daily_groupings['number_of_purchases'] / daily_groupings['number_of_page_visits'])\n",
    "\n",
    "daily_groupings['average_bill'] = daily_groupings['amount_of_purchases'] / daily_groupings['number_of_purchases']\n",
    "\n",
    "daily_groupings.head(4)"
   ]
  },
  {
   "cell_type": "markdown",
   "metadata": {},
   "source": [
    "* Рассчитайте кумулятивные показатели: \\\n",
    "** кумулятивное количество посещений страницы; \\\n",
    "** кумулятивное количество покупок; \\\n",
    "** кумулятивную сумму покупок."
   ]
  },
  {
   "cell_type": "code",
   "execution_count": 21,
   "metadata": {},
   "outputs": [
    {
     "data": {
      "image/png": "[encoded data removed]",
      "text/plain": [
       "<Figure size 1000x550 with 1 Axes>"
      ]
     },
     "metadata": {},
     "output_type": "display_data"
    }
   ],
   "source": [
    "fig = plt.figure(figsize=(10, 5.5))\n",
    "\n",
    "#coordinate system\n",
    "ax = fig.add_axes([1, 1, 1, 1])\n",
    "\n",
    "sns.lineplot(data=daily_groupings,\n",
    "             x='date',\n",
    "             y='conversion',\n",
    "             hue='group',\n",
    "             ax=ax)\n",
    "\n",
    "ax.set_title('Ежедневная Конверсия по Группам')\n",
    "ax.set_xlabel('Дата')\n",
    "ax.set_ylabel('Коэффициент Конверсии, %')\n",
    "plt.legend(title='Группа');\n",
    "ax.xaxis.set_tick_params(rotation=45)\n",
    "ax.grid(True);"
   ]
  },
  {
   "cell_type": "code",
   "execution_count": 22,
   "metadata": {},
   "outputs": [],
   "source": [
    "daily_groupings['cum_visits'] = daily_groupings.groupby('group')['number_of_page_visits'].cumsum()\n",
    "daily_groupings['cum_purchases'] = daily_groupings.groupby('group')['number_of_purchases'].cumsum()\n",
    "daily_groupings['cum_cost'] = daily_groupings.groupby('group')['amount_of_purchases'].cumsum()"
   ]
  },
  {
   "cell_type": "markdown",
   "metadata": {},
   "source": [
    "* На основе полученных кумулятивных показателей вычислите кумулятивную конверсию и кумулятивный средний чек."
   ]
  },
  {
   "cell_type": "code",
   "execution_count": 23,
   "metadata": {},
   "outputs": [],
   "source": [
    "#daily_groupings['cum_conversion'] = (daily_groupings['cum_purchases'] / daily_groupings['cum_visits'] * 100)\n",
    "daily_groupings['cum_conversion'] = (daily_groupings['cum_purchases'] / daily_groupings['cum_visits'])\n",
    "\n",
    "daily_groupings['cum_av_bill'] = (daily_groupings['cum_cost'] / daily_groupings['cum_purchases'])"
   ]
  },
  {
   "cell_type": "markdown",
   "metadata": {},
   "source": [
    "* Постройте кумулятивные графики конверсии и среднего чека в каждой группе по дням."
   ]
  },
  {
   "cell_type": "code",
   "execution_count": 24,
   "metadata": {},
   "outputs": [
    {
     "data": {
      "image/png": "[encoded data removed]",
      "text/plain": [
       "<Figure size 1250x550 with 2 Axes>"
      ]
     },
     "metadata": {},
     "output_type": "display_data"
    }
   ],
   "source": [
    "fig, ax = plt.subplots(1, 2,\n",
    "                       figsize=(12.5, 5.5))\n",
    "\n",
    "#line chart for conversion\n",
    "sns.lineplot(data=daily_groupings, \n",
    "             x='date',\n",
    "             y='cum_conversion',\n",
    "             hue='group',\n",
    "             ax=ax[0])\n",
    "\n",
    "#line chart for average bill\n",
    "sns.lineplot(data=daily_groupings, \n",
    "             x='date',\n",
    "             y='cum_av_bill',\n",
    "             hue='group',\n",
    "             ax=ax[1])\n",
    "\n",
    "ax[0].xaxis.set_tick_params(rotation=55)\n",
    "ax[1].xaxis.set_tick_params(rotation=55)\n",
    "ax[0].legend(title='Группа')\n",
    "ax[1].legend(title='Группа')\n",
    "\n",
    "ax[0].set(title='Совокупные Показатели Конверсии на Группу',\n",
    "          xlabel='Дата',\n",
    "          ylabel='Коэффициент Конверсии, %')\n",
    "\n",
    "ax[1].set(title='Средний Совокупный Чек на Группу',\n",
    "          xlabel='Дата',\n",
    "          ylabel='Средний Чек');"
   ]
  },
  {
   "cell_type": "markdown",
   "metadata": {},
   "source": [
    "* Сделайте выводы: \\\n",
    "** Можно ли назвать A/B-тест завершённым? \\\n",
    "** Стабилизировались ли значения метрик во времени? \\\n",
    "** Как соотносятся кумулятивные показатели в каждой группе?"
   ]
  },
  {
   "cell_type": "markdown",
   "metadata": {},
   "source": [
    "**Вывод**: \\\n",
    "Кумулятивные метрики стабилизировались. \\\n",
    "Кумулятивная конверсия в группе А немного выше, чем группе B, однако средний чек в группе B выше с начала тестирования."
   ]
  },
  {
   "cell_type": "markdown",
   "metadata": {
    "id": "EKAfscn_Vt3c"
   },
   "source": [
    "### **STEP 4**"
   ]
  },
  {
   "cell_type": "code",
   "execution_count": 25,
   "metadata": {},
   "outputs": [],
   "source": [
    "alpha = 0.05\n",
    "\n",
    "def decision_normality(p: float):\n",
    "    \n",
    "    print(f'p-value = {p:.3f}')\n",
    "    if p <= alpha:\n",
    "        print(f'p-значение меньше, чем заданный уровень значимости {alpha:.2f}. Распределение отлично от нормального.')\n",
    "    else:\n",
    "        print(f'p-значение больше, чем заданный уровень значимости {alpha:.2f}. Распределение является нормальным.')\n",
    "\n",
    "\n",
    "def decision_hypothesis(p: float):\n",
    "    print(f'p-value = {p:.3f}')\n",
    "    if p <= alpha:\n",
    "        print(f'p-значение меньше, чем заданный уровень значимости {alpha:.2f}. Отвергаем нулевую гипотезу в пользу альтернативной.')\n",
    "    else:\n",
    "        print(f'p-значение больше, чем заданный уровень значимости {alpha:.2f}. У нас нет оснований отвергнуть нулевую гипотезу.')"
   ]
  },
  {
   "cell_type": "markdown",
   "metadata": {},
   "source": [
    "##### КОНВЕРСИЯ ПОКУПОК"
   ]
  },
  {
   "cell_type": "markdown",
   "metadata": {
    "id": "QhpAeRg4VujF"
   },
   "source": [
    "Проведите статистический анализ результатов A/B-тестирования:\n",
    "\n",
    "* Не забудьте проверить данные на нормальность там, где это необходимо."
   ]
  },
  {
   "cell_type": "markdown",
   "metadata": {},
   "source": [
    "**Проверка на Нормальность**\n",
    "\n",
    "С помощью теста Шапиро-Уилка проверим, распределён ли признак нормально.\n",
    "\n",
    "*Нулевая гипотеза* ($H_0$): распределение данные является нормальным.\n",
    "\n",
    "*Альтернативная гипотеза* ($H_1$): распределение данных отлично от нормального."
   ]
  },
  {
   "cell_type": "code",
   "execution_count": 26,
   "metadata": {},
   "outputs": [
    {
     "name": "stdout",
     "output_type": "stream",
     "text": [
      "Group A:\n",
      "p-value = 0.550\n",
      "p-значение больше, чем заданный уровень значимости 0.05. Распределение является нормальным.\n",
      "Group B:\n",
      "p-value = 0.831\n",
      "p-значение больше, чем заданный уровень значимости 0.05. Распределение является нормальным.\n"
     ]
    }
   ],
   "source": [
    "convA = daily_groupings.loc[daily_groupings['group']=='A', 'conversion']\n",
    "convB = daily_groupings.loc[daily_groupings['group']=='B', 'conversion']\n",
    "\n",
    "print('Group A:')\n",
    "result = shapiro(convA)\n",
    "decision_normality(result[1])\n",
    "\n",
    "print('Group B:')\n",
    "result = shapiro(convB)\n",
    "decision_normality(result[1])"
   ]
  },
  {
   "cell_type": "markdown",
   "metadata": {},
   "source": [
    "* Сформулируйте статистические гипотезы, соответствующие поставленным  бизнес-вопросам, и выберите статистический тест для их проверки."
   ]
  },
  {
   "cell_type": "markdown",
   "metadata": {},
   "source": [
    "Для выбора нужного теста используются алгоритмы выбора теста:\n",
    "* Какой тип у признака конверсия покупки? — Количественный.\n",
    "* Сколько сравниваемых групп? — Две.\n",
    "* Группы зависимы? — Нет.\n",
    "* Признак распределён по нормальному закону? — Да.\n",
    "\n",
    "z-тест используется для сравнения средних значений больших выборок (30 и более) с известной дисперсией популяции, тогда как t-тест используется для небольших выборок или когда дисперсия популяции неизвестна."
   ]
  },
  {
   "cell_type": "markdown",
   "metadata": {},
   "source": [
    "*Нулевая гипотеза* ($H_0$): у исходного варианта посадочной страницы ($p_A$) и нового варианта посадочной страницы ($p_B$) равнозначная эффективность по конверсии покупки.\n",
    "\n",
    "$$ H_0 : p_A = p_B$$\n",
    "\n",
    "*Альтернативная гипотеза* ($H_1$): присутствует разница между эффективностью по конверсии покупки у исходного варианта посадочной страницы ($p_A$) и нового варианта посадочной страницы ($p_B$).\n",
    "\n",
    "$$ H_1 : p_A \\neq p_B$$"
   ]
  },
  {
   "cell_type": "markdown",
   "metadata": {},
   "source": [
    "* С помощью аппарата статистических тестов определите: \\\n",
    "** Есть ли статистическая разница между конверсиями в группах А и B?"
   ]
  },
  {
   "cell_type": "code",
   "execution_count": 27,
   "metadata": {},
   "outputs": [
    {
     "name": "stdout",
     "output_type": "stream",
     "text": [
      "p-value = 0.232\n",
      "p-значение больше, чем заданный уровень значимости 0.05. У нас нет оснований отвергнуть нулевую гипотезу.\n"
     ]
    }
   ],
   "source": [
    "group_conversion = testing_data.groupby('group')['purchase'].agg(['sum', 'count'])\n",
    "\n",
    "_, p_value = proportions_ztest(\n",
    "    count=group_conversion['sum'],\n",
    "    nobs=group_conversion['count'],\n",
    "    alternative='two-sided'\n",
    ")\n",
    "\n",
    "decision_hypothesis(p_value)"
   ]
  },
  {
   "cell_type": "markdown",
   "metadata": {},
   "source": [
    "**Вывод**: \\\n",
    "Разница в конверсии статистически незначима, т.е. можно предположить, что разницы в конверсии между группами нет, поэтому внедрение новой страницы не приведет к существенной эффективности в конверсии покупок."
   ]
  },
  {
   "cell_type": "markdown",
   "metadata": {},
   "source": [
    "##### СРЕДНИЙ ЧЕК"
   ]
  },
  {
   "cell_type": "markdown",
   "metadata": {},
   "source": [
    "Проведите статистический анализ результатов A/B-тестирования:\n",
    "\n",
    "* Не забудьте проверить данные на нормальность там, где это необходимо."
   ]
  },
  {
   "cell_type": "markdown",
   "metadata": {},
   "source": [
    "**Проверка на Нормальность**\n",
    "\n",
    "С помощью теста Шапиро-Уилка проверим, распределён ли признак нормально.\n",
    "\n",
    "*Нулевая гипотеза* ($H_0$): распределение данные является нормальным.\n",
    "\n",
    "*Альтернативная гипотеза* ($H_1$): распределение данных отлично от нормального."
   ]
  },
  {
   "cell_type": "code",
   "execution_count": 28,
   "metadata": {},
   "outputs": [
    {
     "name": "stdout",
     "output_type": "stream",
     "text": [
      "Group A:\n",
      "p-value = 0.312\n",
      "p-значение больше, чем заданный уровень значимости 0.05. Распределение является нормальным.\n",
      "Group B:\n",
      "p-value = 0.108\n",
      "p-значение больше, чем заданный уровень значимости 0.05. Распределение является нормальным.\n"
     ]
    }
   ],
   "source": [
    "av_bill_A = daily_groupings.loc[daily_groupings['group']=='A', 'average_bill']\n",
    "av_bill_B = daily_groupings.loc[daily_groupings['group']=='B', 'average_bill']\n",
    "\n",
    "print('Group A:')\n",
    "result = shapiro(av_bill_A)\n",
    "decision_normality(result[1])\n",
    "\n",
    "print('Group B:')\n",
    "result = shapiro(av_bill_B)\n",
    "decision_normality(result[1])"
   ]
  },
  {
   "cell_type": "markdown",
   "metadata": {},
   "source": [
    "* Сформулируйте статистические гипотезы, соответствующие поставленным  бизнес-вопросам, и выберите статистический тест для их проверки."
   ]
  },
  {
   "cell_type": "markdown",
   "metadata": {},
   "source": [
    "Для выбора нужного теста используются алгоритмы выбора теста:\n",
    "* Какой тип у признака среднего чека? — Количественный.\n",
    "* Сколько сравниваемых групп? — Две.\n",
    "* Группы зависимы? — Нет.\n",
    "* Признак распределён по нормальному закону? — Да.\n",
    "\n",
    "z-тест используется для сравнения средних значений больших выборок (30 и более) с известной дисперсией популяции, тогда как t-тест используется для небольших выборок или когда дисперсия популяции неизвестна."
   ]
  },
  {
   "cell_type": "markdown",
   "metadata": {},
   "source": [
    "*Нулевая гипотеза* ($H_0$): при использовании исходного варианта посадочной страницы ($p_A$) и нового варианта посадочной страницы ($p_B$) значение среднего чека за тур равнозначна.\n",
    "\n",
    "$$ H_0 : p_A = p_B$$\n",
    "\n",
    "*Альтернативная гипотеза* ($H_1$): при использовании исходного варианта посадочной страницы ($p_A$) средний чек за тур ниже, чем при использовании нового варианта посадочной страницы ($p_B$).\n",
    "\n",
    "$$ H_1 : p_A < p_B$$"
   ]
  },
  {
   "cell_type": "markdown",
   "metadata": {},
   "source": [
    "* С помощью аппарата статистических тестов определите: \\\n",
    "** Есть ли статистическая разница между ежедневными средними чеками в группах А и B?"
   ]
  },
  {
   "cell_type": "code",
   "execution_count": 29,
   "metadata": {},
   "outputs": [
    {
     "name": "stdout",
     "output_type": "stream",
     "text": [
      "p-value = 0.000\n",
      "p-значение меньше, чем заданный уровень значимости 0.05. Отвергаем нулевую гипотезу в пользу альтернативной.\n"
     ]
    }
   ],
   "source": [
    "results = ttest_ind(a=av_bill_A,\n",
    "                    b=av_bill_B,\n",
    "                    alternative='less'\n",
    ")\n",
    "\n",
    "decision_hypothesis(results.pvalue)"
   ]
  },
  {
   "cell_type": "markdown",
   "metadata": {},
   "source": [
    "**Вывод**: \\\n",
    "Тест показал, что средний чек в группе B выше среднего чека в группе A, т.е. можно предположить, что при внедрении новой посадочной страницы сумма покупок будет выше, чем при старой версии."
   ]
  },
  {
   "cell_type": "markdown",
   "metadata": {},
   "source": [
    "* Подкрепите результаты статистических тестов, построив 95% доверительные интервалы для: \\\n",
    "** конверсий в каждой из групп;"
   ]
  },
  {
   "cell_type": "code",
   "execution_count": 30,
   "metadata": {},
   "outputs": [
    {
     "name": "stdout",
     "output_type": "stream",
     "text": [
      "Доверительный интервал для группы А: (11.86, 12.2)\n",
      "Доверительный интервал для группы B: (11.71, 12.04)\n"
     ]
    }
   ],
   "source": [
    "def proportion_conf_interval(x_p: float,\n",
    "                             n: int,\n",
    "                             gamma=0.95):\n",
    "\n",
    "  alpha = 1 - gamma\n",
    "  z_crit = -norm.ppf(alpha/2)\n",
    "  eps = z_crit * (x_p * (1 - x_p) / n) ** 0.5\n",
    "\n",
    "  lower_bound = x_p - eps\n",
    "  upper_bound = x_p + eps\n",
    "\n",
    "  return lower_bound, upper_bound\n",
    "\n",
    "lower_bound_a, upper_bound_a = proportion_conf_interval(\n",
    "    x_p=daily_groupings[daily_groupings['group'] == 'A']['conversion'].mean(),\n",
    "    n=visitationA\n",
    ")\n",
    "\n",
    "lower_bound_b, upper_bound_b = proportion_conf_interval(\n",
    "    x_p=daily_groupings[daily_groupings['group'] == 'B']['conversion'].mean(),\n",
    "    n=visitationB\n",
    ")\n",
    "\n",
    "print(f'Доверительный интервал для группы А: {(round(lower_bound_a * 100, 2), round(upper_bound_a * 100, 2))}')\n",
    "print(f'Доверительный интервал для группы B: {(round(lower_bound_b * 100, 2), round(upper_bound_b * 100, 2))}')"
   ]
  },
  {
   "cell_type": "markdown",
   "metadata": {},
   "source": [
    "** разницы конверсий в группах;"
   ]
  },
  {
   "cell_type": "code",
   "execution_count": 31,
   "metadata": {},
   "outputs": [
    {
     "data": {
      "text/plain": [
       "'Доверительный интервал для разницы конверсий: (-0.39, 0.08)'"
      ]
     },
     "execution_count": 31,
     "metadata": {},
     "output_type": "execute_result"
    }
   ],
   "source": [
    "def diff_proportion_conf_interval(x_p: float,\n",
    "                                  n: int,\n",
    "                                  gamma=0.95):\n",
    "\n",
    "  alpha = 1 - gamma\n",
    "  diff = x_p[1] - x_p [0]\n",
    "  z_crit = -norm.ppf(alpha/2)\n",
    "  eps = z_crit * (x_p[0] * (1 - x_p[0])/n[0] + x_p[1] * (1 - x_p[1])/n[1]) ** 0.5\n",
    "\n",
    "  lower_bound = diff - eps\n",
    "  upper_bound = diff + eps\n",
    "\n",
    "  return lower_bound, upper_bound\n",
    "\n",
    "n = [visitationA,\n",
    "     visitationB]\n",
    "\n",
    "x_p = [daily_groupings[daily_groupings['group'] == 'A']['conversion'].mean(),\n",
    "       daily_groupings[daily_groupings['group'] == 'B']['conversion'].mean()]\n",
    "\n",
    "lower_bound, upper_bound = diff_proportion_conf_interval(x_p=x_p,\n",
    "                                                         n=n)\n",
    "\n",
    "f'Доверительный интервал для разницы конверсий: {(round(lower_bound * 100, 2), round(upper_bound * 100, 2))}'"
   ]
  },
  {
   "cell_type": "markdown",
   "metadata": {},
   "source": [
    "**Вывод**: \\\n",
    "Доверительные интервалы пересекаются между 11.86 и 12.04. \\\n",
    "Если анализировать разницы конверсий, то левая граница доверительного интервала отрицательная, а правая - положительная, т.е. можно предположить, что группы A и B равнозначны по метрике конверсии."
   ]
  },
  {
   "cell_type": "markdown",
   "metadata": {},
   "source": [
    "** ежедневного среднего чека в каждой из групп."
   ]
  },
  {
   "cell_type": "code",
   "execution_count": 32,
   "metadata": {},
   "outputs": [
    {
     "name": "stdout",
     "output_type": "stream",
     "text": [
      "Доверительный интервал для среднего чека для группы A: (79626, 82339)\n",
      "Доверительный интервал для среднего чека для группы B: (87726, 89516)\n"
     ]
    }
   ],
   "source": [
    "def t_mean_conf_interval(x_mean,\n",
    "                         x_std,\n",
    "                         n,\n",
    "                         gamma=0.95):\n",
    "    \n",
    "    alpha = 1 - gamma\n",
    "    k = n-1\n",
    "    t_crit = -t.ppf(alpha/2, k)\n",
    "    eps = t_crit * x_std/(n ** 0.5)\n",
    "    lower_bound = x_mean - eps\n",
    "    upper_bound = x_mean + eps\n",
    "\n",
    "    return lower_bound, upper_bound\n",
    "\n",
    "lower_bound_A, upper_bound_A = t_mean_conf_interval(daily_groupings[daily_groupings['group'] == 'A']['average_bill'].mean(),\n",
    "                                                    daily_groupings[daily_groupings['group'] == 'A']['average_bill'].std(),\n",
    "                                                    daily_groupings[daily_groupings['group'] == 'A'].shape[0])\n",
    "\n",
    "lower_bound_B, upper_bound_B = t_mean_conf_interval(av_bill_B.mean(),\n",
    "                                                    av_bill_B.std(),\n",
    "                                                    daily_groupings[daily_groupings['group'] == 'B'].shape[0])\n",
    "\n",
    "print('Доверительный интервал для среднего чека для группы A: {}'.format((round(lower_bound_A), round(upper_bound_A))))\n",
    "print('Доверительный интервал для среднего чека для группы B: {}'.format((round(lower_bound_B), round(upper_bound_B))))"
   ]
  },
  {
   "cell_type": "markdown",
   "metadata": {},
   "source": [
    "* Проинтерпретируйте построенные доверительные интервалы для конверсий и ежедневного среднего чека в группах. \\\n",
    "** Есть ли перекрытие между доверительными интервалами для групп? Если есть, то о чём это говорит?"
   ]
  },
  {
   "cell_type": "markdown",
   "metadata": {},
   "source": [
    "**Вывод**: \\\n",
    "Доверительные интервалы не пересекаются, различия в среднем чеке статистически значимы, и средний чек в группе B больше, чем в группе A."
   ]
  },
  {
   "cell_type": "markdown",
   "metadata": {
    "id": "GdSS4Ix1VwQf"
   },
   "source": [
    "### **STEP 5**"
   ]
  },
  {
   "cell_type": "markdown",
   "metadata": {},
   "source": [
    "Какой варианта дизайна посадочной страницы является более эффективным в комплексе по метрикам конверсии и среднего чека и почему? "
   ]
  },
  {
   "cell_type": "markdown",
   "metadata": {},
   "source": [
    "В группе B средний чек выше, чем в группе А, но различия в конверсиях нет.  \\\n",
    "Если приоритетная цель состоит в повышении суммы покупки, то можно сосредоточиться на внедрении нового варианта посадочной страницы.\n",
    "\n",
    "Однако, что убедиться в результатах, нужно продлить тест и протестировать данные за другие периоды времени. Данные взяты только за Янв 2021г, тенденция может быть совершенно другая в другие сезоны (летние), и нынешние выводы могут оказаться ошибочны."
   ]
  }
 ],
 "metadata": {
  "colab": {
   "authorship_tag": "ABX9TyNPYYZ4NLCbkt2Gl9Zqkq3T",
   "collapsed_sections": [
    "DMhTBxCHVjV3",
    "k9qj6FlLVmlz",
    "EKAfscn_Vt3c",
    "GdSS4Ix1VwQf"
   ],
   "provenance": []
  },
  "kernelspec": {
   "display_name": "Python 3",
   "name": "python3"
  },
  "language_info": {
   "codemirror_mode": {
    "name": "ipython",
    "version": 3
   },
   "file_extension": ".py",
   "mimetype": "text/x-python",
   "name": "python",
   "nbconvert_exporter": "python",
   "pygments_lexer": "ipython3",
   "version": "3.10.5"
  }
 },
 "nbformat": 4,
 "nbformat_minor": 0
}

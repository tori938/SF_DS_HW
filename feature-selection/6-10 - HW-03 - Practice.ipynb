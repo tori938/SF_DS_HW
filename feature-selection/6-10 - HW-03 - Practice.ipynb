{
 "cells": [
  {
   "cell_type": "code",
   "execution_count": 1,
   "metadata": {},
   "outputs": [],
   "source": [
    "#import the standard libraries\n",
    "import pandas as pd, numpy as np\n",
    "\n",
    "#import the model learning libraries\n",
    "from sklearn import feature_selection\n",
    "from sklearn import linear_model\n",
    "from sklearn import model_selection\n",
    "from sklearn import metrics"
   ]
  },
  {
   "cell_type": "markdown",
   "metadata": {},
   "source": [
    "#### Описательный Анализ Данных"
   ]
  },
  {
   "cell_type": "code",
   "execution_count": 2,
   "metadata": {},
   "outputs": [
    {
     "data": {
      "text/html": [
       "<div>\n",
       "<style scoped>\n",
       "    .dataframe tbody tr th:only-of-type {\n",
       "        vertical-align: middle;\n",
       "    }\n",
       "\n",
       "    .dataframe tbody tr th {\n",
       "        vertical-align: top;\n",
       "    }\n",
       "\n",
       "    .dataframe thead th {\n",
       "        text-align: right;\n",
       "    }\n",
       "</style>\n",
       "<table border=\"1\" class=\"dataframe\">\n",
       "  <thead>\n",
       "    <tr style=\"text-align: right;\">\n",
       "      <th></th>\n",
       "      <th>price</th>\n",
       "      <th>year</th>\n",
       "      <th>condition</th>\n",
       "      <th>cylinders</th>\n",
       "      <th>odometer</th>\n",
       "      <th>title_status</th>\n",
       "      <th>transmission</th>\n",
       "      <th>drive</th>\n",
       "      <th>size</th>\n",
       "      <th>lat</th>\n",
       "      <th>long</th>\n",
       "      <th>weather</th>\n",
       "    </tr>\n",
       "  </thead>\n",
       "  <tbody>\n",
       "    <tr>\n",
       "      <th>0</th>\n",
       "      <td>43900</td>\n",
       "      <td>2016</td>\n",
       "      <td>4</td>\n",
       "      <td>6</td>\n",
       "      <td>43500</td>\n",
       "      <td>clean</td>\n",
       "      <td>automatic</td>\n",
       "      <td>4wd</td>\n",
       "      <td>full-size</td>\n",
       "      <td>36.471500</td>\n",
       "      <td>-82.483400</td>\n",
       "      <td>59.0</td>\n",
       "    </tr>\n",
       "    <tr>\n",
       "      <th>1</th>\n",
       "      <td>15490</td>\n",
       "      <td>2009</td>\n",
       "      <td>2</td>\n",
       "      <td>8</td>\n",
       "      <td>98131</td>\n",
       "      <td>clean</td>\n",
       "      <td>automatic</td>\n",
       "      <td>4wd</td>\n",
       "      <td>full-size</td>\n",
       "      <td>40.468826</td>\n",
       "      <td>-74.281734</td>\n",
       "      <td>52.0</td>\n",
       "    </tr>\n",
       "    <tr>\n",
       "      <th>2</th>\n",
       "      <td>2495</td>\n",
       "      <td>2002</td>\n",
       "      <td>2</td>\n",
       "      <td>8</td>\n",
       "      <td>201803</td>\n",
       "      <td>clean</td>\n",
       "      <td>automatic</td>\n",
       "      <td>4wd</td>\n",
       "      <td>full-size</td>\n",
       "      <td>42.477134</td>\n",
       "      <td>-82.949564</td>\n",
       "      <td>45.0</td>\n",
       "    </tr>\n",
       "    <tr>\n",
       "      <th>3</th>\n",
       "      <td>1300</td>\n",
       "      <td>2000</td>\n",
       "      <td>1</td>\n",
       "      <td>8</td>\n",
       "      <td>170305</td>\n",
       "      <td>rebuilt</td>\n",
       "      <td>automatic</td>\n",
       "      <td>4wd</td>\n",
       "      <td>full-size</td>\n",
       "      <td>40.764373</td>\n",
       "      <td>-82.349503</td>\n",
       "      <td>49.0</td>\n",
       "    </tr>\n",
       "    <tr>\n",
       "      <th>4</th>\n",
       "      <td>13865</td>\n",
       "      <td>2010</td>\n",
       "      <td>3</td>\n",
       "      <td>8</td>\n",
       "      <td>166062</td>\n",
       "      <td>clean</td>\n",
       "      <td>automatic</td>\n",
       "      <td>4wd</td>\n",
       "      <td>NaN</td>\n",
       "      <td>49.210949</td>\n",
       "      <td>-123.114720</td>\n",
       "      <td>NaN</td>\n",
       "    </tr>\n",
       "  </tbody>\n",
       "</table>\n",
       "</div>"
      ],
      "text/plain": [
       "   price  year  condition  cylinders  odometer title_status transmission  \\\n",
       "0  43900  2016          4          6     43500        clean    automatic   \n",
       "1  15490  2009          2          8     98131        clean    automatic   \n",
       "2   2495  2002          2          8    201803        clean    automatic   \n",
       "3   1300  2000          1          8    170305      rebuilt    automatic   \n",
       "4  13865  2010          3          8    166062        clean    automatic   \n",
       "\n",
       "  drive       size        lat        long  weather  \n",
       "0   4wd  full-size  36.471500  -82.483400     59.0  \n",
       "1   4wd  full-size  40.468826  -74.281734     52.0  \n",
       "2   4wd  full-size  42.477134  -82.949564     45.0  \n",
       "3   4wd  full-size  40.764373  -82.349503     49.0  \n",
       "4   4wd        NaN  49.210949 -123.114720      NaN  "
      ]
     },
     "execution_count": 2,
     "metadata": {},
     "output_type": "execute_result"
    }
   ],
   "source": [
    "#import the data set\n",
    "data = pd.read_excel('data/data_ford_price.xlsx')\n",
    "\n",
    "#read the data set\n",
    "data.head()"
   ]
  },
  {
   "cell_type": "code",
   "execution_count": 3,
   "metadata": {},
   "outputs": [
    {
     "data": {
      "text/plain": [
       "(7017, 12)"
      ]
     },
     "execution_count": 3,
     "metadata": {},
     "output_type": "execute_result"
    }
   ],
   "source": [
    "#the total number of rows and columns\n",
    "data.shape"
   ]
  },
  {
   "cell_type": "code",
   "execution_count": 4,
   "metadata": {},
   "outputs": [
    {
     "name": "stdout",
     "output_type": "stream",
     "text": [
      "<class 'pandas.core.frame.DataFrame'>\n",
      "RangeIndex: 7017 entries, 0 to 7016\n",
      "Data columns (total 12 columns):\n",
      " #   Column        Non-Null Count  Dtype  \n",
      "---  ------        --------------  -----  \n",
      " 0   price         7017 non-null   int64  \n",
      " 1   year          7017 non-null   int64  \n",
      " 2   condition     7017 non-null   int64  \n",
      " 3   cylinders     7017 non-null   int64  \n",
      " 4   odometer      7017 non-null   int64  \n",
      " 5   title_status  7017 non-null   object \n",
      " 6   transmission  7017 non-null   object \n",
      " 7   drive         6626 non-null   object \n",
      " 8   size          5453 non-null   object \n",
      " 9   lat           7017 non-null   float64\n",
      " 10  long          7017 non-null   float64\n",
      " 11  weather       6837 non-null   float64\n",
      "dtypes: float64(3), int64(5), object(4)\n",
      "memory usage: 658.0+ KB\n"
     ]
    }
   ],
   "source": [
    "#basic information on the data set\n",
    "data.info()"
   ]
  },
  {
   "cell_type": "markdown",
   "metadata": {},
   "source": [
    "#### Преобразование Данных"
   ]
  },
  {
   "cell_type": "code",
   "execution_count": 5,
   "metadata": {},
   "outputs": [
    {
     "data": {
      "text/plain": [
       "drive       391\n",
       "size       1564\n",
       "weather     180\n",
       "dtype: int64"
      ]
     },
     "execution_count": 5,
     "metadata": {},
     "output_type": "execute_result"
    }
   ],
   "source": [
    "#check for null values\n",
    "data.isnull().sum()[data.isnull().sum() > 0]"
   ]
  },
  {
   "cell_type": "code",
   "execution_count": 6,
   "metadata": {},
   "outputs": [],
   "source": [
    "#delete the null values\n",
    "data = data.dropna()"
   ]
  },
  {
   "cell_type": "markdown",
   "metadata": {},
   "source": [
    "#### Обучение Модели"
   ]
  },
  {
   "cell_type": "code",
   "execution_count": 7,
   "metadata": {},
   "outputs": [],
   "source": [
    "#feature selection\n",
    "numerical_features = ['year', 'cylinders', 'odometer', 'lat', 'long', 'weather']\n",
    "\n",
    "X = data[numerical_features]\n",
    "y = data['price']"
   ]
  },
  {
   "cell_type": "code",
   "execution_count": 8,
   "metadata": {},
   "outputs": [],
   "source": [
    "#divide the data into train and test\n",
    "X_train, X_test, y_train, y_test = model_selection.train_test_split(\n",
    "    X, y, \n",
    "    test_size=0.2, \n",
    "    random_state=42\n",
    ")"
   ]
  },
  {
   "cell_type": "code",
   "execution_count": 9,
   "metadata": {},
   "outputs": [
    {
     "name": "stdout",
     "output_type": "stream",
     "text": [
      "MAE: 4620.233\n",
      "R2: 0.634\n"
     ]
    }
   ],
   "source": [
    "#create an object class\n",
    "lr_model = linear_model.LinearRegression()\n",
    "\n",
    "#model learning\n",
    "lr_model.fit(X_train, y_train)\n",
    "\n",
    "#make a prediction\n",
    "y_test_pred = lr_model.predict(X_test)\n",
    "\n",
    "#display the metrics\n",
    "print(f'MAE: {np.round(metrics.mean_absolute_error(y_test, y_test_pred), 3)}')\n",
    "print(f'R2: {np.round(metrics.r2_score(y_test, y_test_pred), 3)}')"
   ]
  },
  {
   "cell_type": "markdown",
   "metadata": {},
   "source": [
    "#### Recursive Feature Elimination (RFE) for Feature Selection"
   ]
  },
  {
   "cell_type": "code",
   "execution_count": 10,
   "metadata": {},
   "outputs": [
    {
     "data": {
      "text/plain": [
       "['year', 'cylinders', 'lat']"
      ]
     },
     "execution_count": 10,
     "metadata": {},
     "output_type": "execute_result"
    }
   ],
   "source": [
    "#create the object class\n",
    "lr_model_rfe = linear_model.LinearRegression()\n",
    "\n",
    "#find the best features using RFE\n",
    "selector_rfe = feature_selection.RFE(lr_model_rfe,\n",
    "                                     n_features_to_select=3,\n",
    "                                     step=1)\n",
    "\n",
    "#model learning\n",
    "selector_rfe.fit(X_train, y_train)\n",
    "\n",
    "#display the selected features\n",
    "rfe_columns = list(selector_rfe.get_feature_names_out())\n",
    "rfe_columns"
   ]
  },
  {
   "cell_type": "code",
   "execution_count": 11,
   "metadata": {},
   "outputs": [
    {
     "name": "stdout",
     "output_type": "stream",
     "text": [
      "MAE: 5107.525\n",
      "R2: 0.573\n"
     ]
    }
   ],
   "source": [
    "#regression learning on RFE\n",
    "X_train_rfe = X_train[rfe_columns]\n",
    "X_test_rfe = X_test[rfe_columns]\n",
    "\n",
    "#create an object class\n",
    "lr_model = linear_model.LinearRegression()\n",
    "\n",
    "#model learning\n",
    "lr_model.fit(X_train_rfe, y_train)\n",
    "\n",
    "#make a prediction\n",
    "y_test_pred = lr_model.predict(X_test_rfe)\n",
    "\n",
    "#display the metrics\n",
    "print(f'MAE: {np.round(metrics.mean_absolute_error(y_test, y_test_pred), 3)}')\n",
    "print(f'R2: {np.round(metrics.r2_score(y_test, y_test_pred), 3)}')"
   ]
  },
  {
   "cell_type": "markdown",
   "metadata": {},
   "source": [
    "#### SelectKBest for Feature Selection"
   ]
  },
  {
   "cell_type": "code",
   "execution_count": 12,
   "metadata": {},
   "outputs": [
    {
     "data": {
      "text/plain": [
       "['year', 'cylinders', 'odometer']"
      ]
     },
     "execution_count": 12,
     "metadata": {},
     "output_type": "execute_result"
    }
   ],
   "source": [
    "#find the best features using KBest\n",
    "selector_kbest = feature_selection.SelectKBest(feature_selection.f_regression,\n",
    "                                               k=3)\n",
    "\n",
    "#model learning\n",
    "selector_kbest.fit(X_train, y_train)\n",
    "\n",
    "#display the selected features\n",
    "kbest_columns = list(selector_kbest.get_feature_names_out())\n",
    "kbest_columns"
   ]
  },
  {
   "cell_type": "code",
   "execution_count": 13,
   "metadata": {},
   "outputs": [
    {
     "name": "stdout",
     "output_type": "stream",
     "text": [
      "MAE: 4627.369\n",
      "R2: 0.631\n"
     ]
    }
   ],
   "source": [
    "#regression learning on KBest\n",
    "X_train_kbest = X_train[kbest_columns]\n",
    "X_test_kbest = X_test[kbest_columns]\n",
    "\n",
    "#create an object class\n",
    "lr_model = linear_model.LinearRegression()\n",
    "\n",
    "#model learning\n",
    "lr_model.fit(X_train_kbest, y_train)\n",
    "\n",
    "#make a prediction\n",
    "y_test_pred = lr_model.predict(X_test_kbest)\n",
    "\n",
    "#display the metrics\n",
    "print(f'MAE: {np.round(metrics.mean_absolute_error(y_test, y_test_pred), 3)}')\n",
    "print(f'R2: {np.round(metrics.r2_score(y_test, y_test_pred), 3)}')"
   ]
  },
  {
   "cell_type": "markdown",
   "metadata": {},
   "source": [
    "#### Какой метод отбора признаков показал наилучший результат на тестовой выборке?"
   ]
  },
  {
   "cell_type": "markdown",
   "metadata": {},
   "source": [
    "**Вывод:**\n",
    "\n",
    "Было построено три модели; с помощью методов RFE и KBest были выбраны лучшие признаки для линейной регрессии:\n",
    "- базовая модель линейной регрессии на числовых признаках;\n",
    "- модель линейной регрессии для признаков - year, cylinders, lat - выбранные с помощью метода RFE;\n",
    "- модель линейной регрессии для признаков - year, cylinders, odometer - выбранные с помощью метода KBest\n",
    "\n",
    "Качество моделей сравнивались по значениям Mean Absolute Error (MAE) и Оценки R2.\n",
    "\n",
    "|   | Linear Regression | Linear Regression with RFE | Linear Regression with KBest |\n",
    "|:-:| :---------------: | :------------------------: | :--------------------------: |\n",
    "MAE | 4620.2            | 5107.5                     | 4627.4                       |\n",
    "R2  | 0.634             | 0.573                      | 0.631                        |\n",
    "\n",
    "Средняя абсолютная ошибка измеряется как средняя абсолютная разница между прогнозируемыми значениями и фактическими значениями; чем ближе к 0, тем лучше. \\\n",
    "R² или Коэффициент Детерминации определяет долю дисперсии зависимой переменной, которую можно объяснить независимой переменной, то есть показывает, насколько хорошо данные соответствуют степень соответствия, чем ближе к 1, тем лучше.\n",
    "\n",
    "Использование линейной регрессии для всех числовых признаков показывает наилучшие результаты в отношении MAE и R2, однако использование большего количества признаков в машинном обучении не всегда является лучшим подходом и может привести к переобучению, и модель может работать хуже с другим набором данных.\n",
    "\n",
    "Если небольшой размер признаков обеспечивает такую ​​же точность, как и модель с большим количеством признаков - это всегда полезнее, поскольку производительность увеличивается с точки зрения более быстрого получения результатов. \\\n",
    "Таким образом, если результаты третьей модели, в которой используется лучший выбор признаков метода KBest, сравнить с базовой моделью линейной регрессии, различия между MAE и R2 довольно малы, и в работе с другим набором данных лучше использовать третью модель.\n",
    "\n",
    "Если результаты третьей модели сравнить со второй моделью, в которой используется лучший выбор признаков метода RFE, то результаты второй модели значительно хуже по показателям MAE и R2: разница между прогнозируемыми значениями и фактическими значениями выше, а доля дисперсии ниже. \\\n",
    "Скорее всего это происходит потому, что RFE итеративно исключает по одному слабейшему признаку за каждый цикл, а KBest считывает результаты по всем признакам за раз и выбирает сильнейшие."
   ]
  }
 ],
 "metadata": {
  "kernelspec": {
   "display_name": "Python 3",
   "language": "python",
   "name": "python3"
  },
  "language_info": {
   "codemirror_mode": {
    "name": "ipython",
    "version": 3
   },
   "file_extension": ".py",
   "mimetype": "text/x-python",
   "name": "python",
   "nbconvert_exporter": "python",
   "pygments_lexer": "ipython3",
   "version": "3.10.5"
  },
  "orig_nbformat": 4
 },
 "nbformat": 4,
 "nbformat_minor": 2
}

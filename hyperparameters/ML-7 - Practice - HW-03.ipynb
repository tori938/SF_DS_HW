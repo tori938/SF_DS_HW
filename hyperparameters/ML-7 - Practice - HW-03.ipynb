{
 "cells": [
  {
   "cell_type": "code",
   "execution_count": 1,
   "metadata": {},
   "outputs": [],
   "source": [
    "#import the standard libraries\n",
    "import numpy as np\n",
    "import pandas as pd\n",
    "\n",
    "import matplotlib.pyplot as plt\n",
    "import seaborn as sns\n",
    "\n",
    "%matplotlib inline\n",
    "plt.style.use('seaborn-v0_8')\n",
    "\n",
    "#import model learning libraries\n",
    "from sklearn import linear_model\n",
    "from sklearn import tree\n",
    "from sklearn import ensemble\n",
    "from sklearn import metrics\n",
    "from sklearn import preprocessing\n",
    "from sklearn import model_selection\n",
    "\n",
    "#import advanced hyperparameters selection libraries\n",
    "from sklearn.model_selection import cross_val_score\n",
    "import hyperopt\n",
    "from hyperopt import hp, fmin, tpe, Trials\n",
    "\n",
    "import optuna\n",
    "from optuna import Trial, study, samplers"
   ]
  },
  {
   "cell_type": "code",
   "execution_count": 2,
   "metadata": {},
   "outputs": [],
   "source": [
    "#import the data set\n",
    "data = pd.read_csv('data/train_sem09.csv')"
   ]
  },
  {
   "cell_type": "code",
   "execution_count": 3,
   "metadata": {},
   "outputs": [
    {
     "data": {
      "text/html": [
       "<div>\n",
       "<style scoped>\n",
       "    .dataframe tbody tr th:only-of-type {\n",
       "        vertical-align: middle;\n",
       "    }\n",
       "\n",
       "    .dataframe tbody tr th {\n",
       "        vertical-align: top;\n",
       "    }\n",
       "\n",
       "    .dataframe thead th {\n",
       "        text-align: right;\n",
       "    }\n",
       "</style>\n",
       "<table border=\"1\" class=\"dataframe\">\n",
       "  <thead>\n",
       "    <tr style=\"text-align: right;\">\n",
       "      <th></th>\n",
       "      <th>Activity</th>\n",
       "      <th>D1</th>\n",
       "      <th>D2</th>\n",
       "      <th>D3</th>\n",
       "      <th>D4</th>\n",
       "      <th>D5</th>\n",
       "      <th>D6</th>\n",
       "      <th>D7</th>\n",
       "      <th>D8</th>\n",
       "      <th>D9</th>\n",
       "      <th>...</th>\n",
       "      <th>D1767</th>\n",
       "      <th>D1768</th>\n",
       "      <th>D1769</th>\n",
       "      <th>D1770</th>\n",
       "      <th>D1771</th>\n",
       "      <th>D1772</th>\n",
       "      <th>D1773</th>\n",
       "      <th>D1774</th>\n",
       "      <th>D1775</th>\n",
       "      <th>D1776</th>\n",
       "    </tr>\n",
       "  </thead>\n",
       "  <tbody>\n",
       "    <tr>\n",
       "      <th>0</th>\n",
       "      <td>1</td>\n",
       "      <td>0.000000</td>\n",
       "      <td>0.497009</td>\n",
       "      <td>0.10</td>\n",
       "      <td>0.0</td>\n",
       "      <td>0.132956</td>\n",
       "      <td>0.678031</td>\n",
       "      <td>0.273166</td>\n",
       "      <td>0.585445</td>\n",
       "      <td>0.743663</td>\n",
       "      <td>...</td>\n",
       "      <td>0</td>\n",
       "      <td>0</td>\n",
       "      <td>0</td>\n",
       "      <td>0</td>\n",
       "      <td>0</td>\n",
       "      <td>0</td>\n",
       "      <td>0</td>\n",
       "      <td>0</td>\n",
       "      <td>0</td>\n",
       "      <td>0</td>\n",
       "    </tr>\n",
       "    <tr>\n",
       "      <th>1</th>\n",
       "      <td>1</td>\n",
       "      <td>0.366667</td>\n",
       "      <td>0.606291</td>\n",
       "      <td>0.05</td>\n",
       "      <td>0.0</td>\n",
       "      <td>0.111209</td>\n",
       "      <td>0.803455</td>\n",
       "      <td>0.106105</td>\n",
       "      <td>0.411754</td>\n",
       "      <td>0.836582</td>\n",
       "      <td>...</td>\n",
       "      <td>1</td>\n",
       "      <td>1</td>\n",
       "      <td>1</td>\n",
       "      <td>1</td>\n",
       "      <td>0</td>\n",
       "      <td>1</td>\n",
       "      <td>0</td>\n",
       "      <td>0</td>\n",
       "      <td>1</td>\n",
       "      <td>0</td>\n",
       "    </tr>\n",
       "    <tr>\n",
       "      <th>2</th>\n",
       "      <td>1</td>\n",
       "      <td>0.033300</td>\n",
       "      <td>0.480124</td>\n",
       "      <td>0.00</td>\n",
       "      <td>0.0</td>\n",
       "      <td>0.209791</td>\n",
       "      <td>0.610350</td>\n",
       "      <td>0.356453</td>\n",
       "      <td>0.517720</td>\n",
       "      <td>0.679051</td>\n",
       "      <td>...</td>\n",
       "      <td>0</td>\n",
       "      <td>0</td>\n",
       "      <td>0</td>\n",
       "      <td>0</td>\n",
       "      <td>0</td>\n",
       "      <td>0</td>\n",
       "      <td>0</td>\n",
       "      <td>0</td>\n",
       "      <td>0</td>\n",
       "      <td>0</td>\n",
       "    </tr>\n",
       "  </tbody>\n",
       "</table>\n",
       "<p>3 rows × 1777 columns</p>\n",
       "</div>"
      ],
      "text/plain": [
       "   Activity        D1        D2    D3   D4        D5        D6        D7  \\\n",
       "0         1  0.000000  0.497009  0.10  0.0  0.132956  0.678031  0.273166   \n",
       "1         1  0.366667  0.606291  0.05  0.0  0.111209  0.803455  0.106105   \n",
       "2         1  0.033300  0.480124  0.00  0.0  0.209791  0.610350  0.356453   \n",
       "\n",
       "         D8        D9  ...  D1767  D1768  D1769  D1770  D1771  D1772  D1773  \\\n",
       "0  0.585445  0.743663  ...      0      0      0      0      0      0      0   \n",
       "1  0.411754  0.836582  ...      1      1      1      1      0      1      0   \n",
       "2  0.517720  0.679051  ...      0      0      0      0      0      0      0   \n",
       "\n",
       "   D1774  D1775  D1776  \n",
       "0      0      0      0  \n",
       "1      0      1      0  \n",
       "2      0      0      0  \n",
       "\n",
       "[3 rows x 1777 columns]"
      ]
     },
     "execution_count": 3,
     "metadata": {},
     "output_type": "execute_result"
    }
   ],
   "source": [
    "#read the data set\n",
    "data.head(3)"
   ]
  },
  {
   "cell_type": "markdown",
   "metadata": {},
   "source": [
    "#### Описательный Анализ Данных"
   ]
  },
  {
   "cell_type": "code",
   "execution_count": 4,
   "metadata": {},
   "outputs": [
    {
     "name": "stdout",
     "output_type": "stream",
     "text": [
      "<class 'pandas.core.frame.DataFrame'>\n",
      "RangeIndex: 3751 entries, 0 to 3750\n",
      "Columns: 1777 entries, Activity to D1776\n",
      "dtypes: float64(942), int64(835)\n",
      "memory usage: 50.9 MB\n"
     ]
    }
   ],
   "source": [
    "#find the basic information\n",
    "data.info()"
   ]
  },
  {
   "cell_type": "code",
   "execution_count": 5,
   "metadata": {},
   "outputs": [
    {
     "name": "stdout",
     "output_type": "stream",
     "text": [
      "Размер таблицы: (3751, 1777)\n"
     ]
    }
   ],
   "source": [
    "print(f'Размер таблицы: {data.shape}')"
   ]
  },
  {
   "cell_type": "code",
   "execution_count": 6,
   "metadata": {},
   "outputs": [
    {
     "data": {
      "text/plain": [
       "Series([], dtype: int64)"
      ]
     },
     "execution_count": 6,
     "metadata": {},
     "output_type": "execute_result"
    }
   ],
   "source": [
    "#check that there are no null values in the data set\n",
    "data.isnull().sum()[data.isnull().sum() > 0]"
   ]
  },
  {
   "cell_type": "code",
   "execution_count": 7,
   "metadata": {},
   "outputs": [
    {
     "data": {
      "image/png": "[encoded data removed]",
      "text/plain": [
       "<Figure size 800x550 with 1 Axes>"
      ]
     },
     "metadata": {},
     "output_type": "display_data"
    }
   ],
   "source": [
    "#check the predictive feature (%-wise)\n",
    "round(data['Activity'].value_counts(normalize=True) * 100, 2)\n",
    "sns.countplot(data=data,\n",
    "              x='Activity');"
   ]
  },
  {
   "cell_type": "markdown",
   "metadata": {},
   "source": [
    "### Обучение Модели"
   ]
  },
  {
   "cell_type": "code",
   "execution_count": 8,
   "metadata": {},
   "outputs": [],
   "source": [
    "#select the features\n",
    "X = data.drop(['Activity'],\n",
    "              axis=1,\n",
    "              errors='ignore')\n",
    "\n",
    "y = data['Activity']"
   ]
  },
  {
   "cell_type": "code",
   "execution_count": 9,
   "metadata": {},
   "outputs": [],
   "source": [
    "#split the data set into train and test\n",
    "X_train, X_test, y_train, y_test = model_selection.train_test_split(\n",
    "    X, y, \n",
    "    stratify=y, \n",
    "    random_state=42, \n",
    "    test_size=0.2\n",
    ")"
   ]
  },
  {
   "cell_type": "markdown",
   "metadata": {},
   "source": [
    "#### **Logistic Regression**"
   ]
  },
  {
   "cell_type": "markdown",
   "metadata": {},
   "source": [
    "create a baseline logistic regression model"
   ]
  },
  {
   "cell_type": "code",
   "execution_count": 10,
   "metadata": {},
   "outputs": [
    {
     "name": "stdout",
     "output_type": "stream",
     "text": [
      "train data:\n",
      "f1 score: 0.905\n",
      "accuracy: 0.896\n",
      "\n",
      "validation data:\n",
      "f1 score: 0.775\n",
      "accuracy: 0.751\n",
      "\n",
      "test data:\n",
      "f1 score: 0.776\n",
      "accuracy: 0.752\n"
     ]
    }
   ],
   "source": [
    "#create the object class\n",
    "log_reg = linear_model.LogisticRegression(\n",
    "    #to avoid a warning: no. of iterations reached the limit, default 100 increased to 200\n",
    "    max_iter=200,\n",
    "    random_state=42\n",
    ")\n",
    "\n",
    "#select the metrics\n",
    "types_of_metrics = ['f1',\n",
    "                    'accuracy',\n",
    "                    'recall',\n",
    "                    'precision']\n",
    "\n",
    "#execute cross validation\n",
    "cv_metrics = model_selection.cross_validate(\n",
    "    estimator=log_reg,\n",
    "    X=X_train,\n",
    "    y=y_train,\n",
    "    cv=5,\n",
    "    scoring=types_of_metrics,\n",
    "    #calculate metrics on train folds\n",
    "    return_train_score=True,\n",
    "    n_jobs=-1\n",
    ")\n",
    "\n",
    "#model learning\n",
    "log_reg.fit(X_train, y_train)\n",
    "\n",
    "#make a prediction\n",
    "y_pred_estimator_tr = log_reg.predict(X_train)\n",
    "y_pred_estimator_t = log_reg.predict(X_test)\n",
    "\n",
    "#display the metrics\n",
    "print('train data:')\n",
    "print(f\"f1 score: {np.mean(cv_metrics['train_f1']):.3f}\")\n",
    "print(f\"accuracy: {np.mean(cv_metrics['train_accuracy']):.3f}\")\n",
    "print()\n",
    "print('validation data:')\n",
    "print(f\"f1 score: {np.mean(cv_metrics['test_f1']):.3f}\")\n",
    "print(f\"accuracy: {np.mean(cv_metrics['test_accuracy']):.3f}\")\n",
    "print()\n",
    "print('test data:')\n",
    "print(f'f1 score: {metrics.f1_score(y_test, y_pred_estimator_t):.3f}')\n",
    "print(f'accuracy: {log_reg.score(X_test, y_test):.3f}')"
   ]
  },
  {
   "cell_type": "markdown",
   "metadata": {},
   "source": [
    "#### GridSearchCV"
   ]
  },
  {
   "cell_type": "markdown",
   "metadata": {},
   "source": [
    "set the optimization problem pairs\n",
    "\n",
    "| Solver          | Penalty                        | Multinomial Multiclass     |\n",
    "| :-------------: | :----------------------------: | :------------------------: |\n",
    "| lbfgs           | ‘l2’, None                     | yes                        |\n",
    "| liblinear       | ‘l1’, ‘l2’                     | no                         |\n",
    "| newton-cg       | ‘l2’, None                     | yes                        |\n",
    "| newton-cholesky | ‘l2’, None                     | no                         |\n",
    "| sag             | ‘l2’, None                     | yes                        |\n",
    "| saga            | ‘elasticnet’, ‘l1’, ‘l2’, None | yes                        |"
   ]
  },
  {
   "cell_type": "markdown",
   "metadata": {},
   "source": [
    "use the GridSearch method to look for best hyperparameters"
   ]
  },
  {
   "cell_type": "markdown",
   "metadata": {},
   "source": [
    "- excluding elasticnet (with l1_ratio) and saga (with penalty=None): too many warnings / errors, and takes almost an hour to run crashing my system"
   ]
  },
  {
   "cell_type": "code",
   "execution_count": 11,
   "metadata": {},
   "outputs": [],
   "source": [
    "#set the list of coefficient levels\n",
    "coef_lst = [0.01, 0.05, 0.1, 0.3, 0.5, 0.7, 0.9, 1]\n",
    "\n",
    "#set the search grid for regression hyperparameters\n",
    "param_grid = [\n",
    "              {'penalty': ['l2', None],\n",
    "               'solver': ['lbfgs', 'sag'], #optimization\n",
    "               'C': coef_lst, # coefficient\n",
    "              },\n",
    "              \n",
    "              {'penalty': ['l1', 'l2'], #regularization\n",
    "               'solver': ['liblinear', 'saga'], #optimization\n",
    "               'C': coef_lst, #coefficient\n",
    "               }\n",
    "]"
   ]
  },
  {
   "cell_type": "code",
   "execution_count": 12,
   "metadata": {},
   "outputs": [
    {
     "name": "stdout",
     "output_type": "stream",
     "text": [
      "Fitting 5 folds for each of 64 candidates, totalling 320 fits\n",
      "[CV 3/5; 1/64] START C=0.01, penalty=l2, solver=lbfgs...........................\n",
      "[CV 4/5; 1/64] START C=0.01, penalty=l2, solver=lbfgs...........................\n",
      "[CV 5/5; 1/64] START C=0.01, penalty=l2, solver=lbfgs...........................\n",
      "[CV 1/5; 2/64] START C=0.01, penalty=l2, solver=sag.............................\n",
      "[CV 2/5; 2/64] START C=0.01, penalty=l2, solver=sag.............................\n",
      "[CV 3/5; 1/64] END C=0.01, penalty=l2, solver=lbfgs;, score=0.737 total time=   0.2s\n",
      "[CV 4/5; 1/64] END C=0.01, penalty=l2, solver=lbfgs;, score=0.765 total time=   0.2s\n",
      "[CV 4/5; 2/64] START C=0.01, penalty=l2, solver=sag.............................\n",
      "[CV 5/5; 2/64] START C=0.01, penalty=l2, solver=sag.............................\n",
      "[CV 5/5; 1/64] END C=0.01, penalty=l2, solver=lbfgs;, score=0.743 total time=   0.2s\n",
      "[CV 1/5; 3/64] START C=0.01, penalty=None, solver=lbfgs.........................\n"
     ]
    },
    {
     "name": "stderr",
     "output_type": "stream",
     "text": [
      "/Library/Frameworks/Python.framework/Versions/3.10/lib/python3.10/site-packages/sklearn/linear_model/_logistic.py:1186: UserWarning: Setting penalty=None will ignore the C and l1_ratio parameters\n",
      "  warnings.warn(\n"
     ]
    },
    {
     "name": "stdout",
     "output_type": "stream",
     "text": [
      "[CV 1/5; 1/64] START C=0.01, penalty=l2, solver=lbfgs...........................\n",
      "[CV 2/5; 1/64] START C=0.01, penalty=l2, solver=lbfgs...........................\n",
      "[CV 3/5; 2/64] START C=0.01, penalty=l2, solver=sag.............................\n",
      "[CV 1/5; 1/64] END C=0.01, penalty=l2, solver=lbfgs;, score=0.793 total time=   0.2s\n",
      "[CV 2/5; 3/64] START C=0.01, penalty=None, solver=lbfgs.........................\n",
      "[CV 2/5; 1/64] END C=0.01, penalty=l2, solver=lbfgs;, score=0.777 total time=   0.2s\n",
      "[CV 3/5; 3/64] START C=0.01, penalty=None, solver=lbfgs.........................\n"
     ]
    },
    {
     "name": "stderr",
     "output_type": "stream",
     "text": [
      "/Library/Frameworks/Python.framework/Versions/3.10/lib/python3.10/site-packages/sklearn/linear_model/_logistic.py:1186: UserWarning: Setting penalty=None will ignore the C and l1_ratio parameters\n",
      "  warnings.warn(\n",
      "/Library/Frameworks/Python.framework/Versions/3.10/lib/python3.10/site-packages/sklearn/linear_model/_logistic.py:1186: UserWarning: Setting penalty=None will ignore the C and l1_ratio parameters\n",
      "  warnings.warn(\n"
     ]
    },
    {
     "name": "stdout",
     "output_type": "stream",
     "text": [
      "[CV 2/5; 2/64] END C=0.01, penalty=l2, solver=sag;, score=0.777 total time=   2.8s\n",
      "[CV 4/5; 3/64] START C=0.01, penalty=None, solver=lbfgs.........................\n",
      "[CV 1/5; 2/64] END C=0.01, penalty=l2, solver=sag;, score=0.793 total time=   2.8s\n",
      "[CV 5/5; 3/64] START C=0.01, penalty=None, solver=lbfgs.........................\n"
     ]
    },
    {
     "name": "stderr",
     "output_type": "stream",
     "text": [
      "/Library/Frameworks/Python.framework/Versions/3.10/lib/python3.10/site-packages/sklearn/linear_model/_logistic.py:1186: UserWarning: Setting penalty=None will ignore the C and l1_ratio parameters\n",
      "  warnings.warn(\n",
      "/Library/Frameworks/Python.framework/Versions/3.10/lib/python3.10/site-packages/sklearn/linear_model/_logistic.py:1186: UserWarning: Setting penalty=None will ignore the C and l1_ratio parameters\n",
      "  warnings.warn(\n"
     ]
    },
    {
     "name": "stdout",
     "output_type": "stream",
     "text": [
      "[CV 5/5; 2/64] END C=0.01, penalty=l2, solver=sag;, score=0.738 total time=   2.8s\n",
      "[CV 1/5; 4/64] START C=0.01, penalty=None, solver=sag...........................\n",
      "[CV 4/5; 2/64] END C=0.01, penalty=l2, solver=sag;, score=0.765 total time=   2.8s\n",
      "[CV 2/5; 4/64] START C=0.01, penalty=None, solver=sag...........................\n"
     ]
    },
    {
     "name": "stderr",
     "output_type": "stream",
     "text": [
      "/Library/Frameworks/Python.framework/Versions/3.10/lib/python3.10/site-packages/sklearn/linear_model/_logistic.py:1186: UserWarning: Setting penalty=None will ignore the C and l1_ratio parameters\n",
      "  warnings.warn(\n",
      "/Library/Frameworks/Python.framework/Versions/3.10/lib/python3.10/site-packages/sklearn/linear_model/_logistic.py:1186: UserWarning: Setting penalty=None will ignore the C and l1_ratio parameters\n",
      "  warnings.warn(\n"
     ]
    },
    {
     "name": "stdout",
     "output_type": "stream",
     "text": [
      "[CV 1/5; 3/64] END C=0.01, penalty=None, solver=lbfgs;, score=0.703 total time=   3.3s\n",
      "[CV 3/5; 4/64] START C=0.01, penalty=None, solver=sag...........................\n",
      "[CV 3/5; 2/64] END C=0.01, penalty=l2, solver=sag;, score=0.737 total time=   2.8s\n",
      "[CV 4/5; 4/64] START C=0.01, penalty=None, solver=sag...........................\n"
     ]
    },
    {
     "name": "stderr",
     "output_type": "stream",
     "text": [
      "/Library/Frameworks/Python.framework/Versions/3.10/lib/python3.10/site-packages/sklearn/linear_model/_logistic.py:1186: UserWarning: Setting penalty=None will ignore the C and l1_ratio parameters\n",
      "  warnings.warn(\n",
      "/Library/Frameworks/Python.framework/Versions/3.10/lib/python3.10/site-packages/sklearn/linear_model/_logistic.py:1186: UserWarning: Setting penalty=None will ignore the C and l1_ratio parameters\n",
      "  warnings.warn(\n"
     ]
    },
    {
     "name": "stdout",
     "output_type": "stream",
     "text": [
      "[CV 2/5; 3/64] END C=0.01, penalty=None, solver=lbfgs;, score=0.690 total time=   3.1s\n",
      "[CV 5/5; 4/64] START C=0.01, penalty=None, solver=sag...........................\n",
      "[CV 3/5; 3/64] END C=0.01, penalty=None, solver=lbfgs;, score=0.677 total time=   3.1s\n",
      "[CV 1/5; 5/64] START C=0.05, penalty=l2, solver=lbfgs...........................\n"
     ]
    },
    {
     "name": "stderr",
     "output_type": "stream",
     "text": [
      "/Library/Frameworks/Python.framework/Versions/3.10/lib/python3.10/site-packages/sklearn/linear_model/_logistic.py:1186: UserWarning: Setting penalty=None will ignore the C and l1_ratio parameters\n",
      "  warnings.warn(\n"
     ]
    },
    {
     "name": "stdout",
     "output_type": "stream",
     "text": [
      "[CV 1/5; 5/64] END C=0.05, penalty=l2, solver=lbfgs;, score=0.790 total time=   0.3s\n",
      "[CV 2/5; 5/64] START C=0.05, penalty=l2, solver=lbfgs...........................\n",
      "[CV 2/5; 5/64] END C=0.05, penalty=l2, solver=lbfgs;, score=0.780 total time=   0.3s\n",
      "[CV 3/5; 5/64] START C=0.05, penalty=l2, solver=lbfgs...........................\n",
      "[CV 3/5; 5/64] END C=0.05, penalty=l2, solver=lbfgs;, score=0.742 total time=   0.3s\n",
      "[CV 4/5; 5/64] START C=0.05, penalty=l2, solver=lbfgs...........................\n",
      "[CV 5/5; 3/64] END C=0.01, penalty=None, solver=lbfgs;, score=0.697 total time=   2.3s\n",
      "[CV 5/5; 5/64] START C=0.05, penalty=l2, solver=lbfgs...........................\n",
      "[CV 4/5; 3/64] END C=0.01, penalty=None, solver=lbfgs;, score=0.708 total time=   2.5s\n",
      "[CV 1/5; 6/64] START C=0.05, penalty=l2, solver=sag.............................\n",
      "[CV 4/5; 5/64] END C=0.05, penalty=l2, solver=lbfgs;, score=0.770 total time=   0.3s\n",
      "[CV 2/5; 6/64] START C=0.05, penalty=l2, solver=sag.............................\n",
      "[CV 5/5; 5/64] END C=0.05, penalty=l2, solver=lbfgs;, score=0.750 total time=   0.3s\n",
      "[CV 3/5; 6/64] START C=0.05, penalty=l2, solver=sag.............................\n",
      "[CV 1/5; 6/64] END C=0.05, penalty=l2, solver=sag;, score=0.790 total time=   6.3s\n",
      "[CV 4/5; 6/64] START C=0.05, penalty=l2, solver=sag.............................\n",
      "[CV 2/5; 6/64] END C=0.05, penalty=l2, solver=sag;, score=0.782 total time=   6.5s\n",
      "[CV 5/5; 6/64] START C=0.05, penalty=l2, solver=sag.............................\n",
      "[CV 3/5; 6/64] END C=0.05, penalty=l2, solver=sag;, score=0.738 total time=   6.7s\n",
      "[CV 1/5; 7/64] START C=0.05, penalty=None, solver=lbfgs.........................\n"
     ]
    },
    {
     "name": "stderr",
     "output_type": "stream",
     "text": [
      "/Library/Frameworks/Python.framework/Versions/3.10/lib/python3.10/site-packages/sklearn/linear_model/_logistic.py:1186: UserWarning: Setting penalty=None will ignore the C and l1_ratio parameters\n",
      "  warnings.warn(\n"
     ]
    },
    {
     "name": "stdout",
     "output_type": "stream",
     "text": [
      "[CV 1/5; 7/64] END C=0.05, penalty=None, solver=lbfgs;, score=0.703 total time=   3.2s\n",
      "[CV 2/5; 7/64] START C=0.05, penalty=None, solver=lbfgs.........................\n"
     ]
    },
    {
     "name": "stderr",
     "output_type": "stream",
     "text": [
      "/Library/Frameworks/Python.framework/Versions/3.10/lib/python3.10/site-packages/sklearn/linear_model/_logistic.py:1186: UserWarning: Setting penalty=None will ignore the C and l1_ratio parameters\n",
      "  warnings.warn(\n"
     ]
    },
    {
     "name": "stdout",
     "output_type": "stream",
     "text": [
      "[CV 2/5; 7/64] END C=0.05, penalty=None, solver=lbfgs;, score=0.690 total time=   2.4s\n",
      "[CV 3/5; 7/64] START C=0.05, penalty=None, solver=lbfgs.........................\n"
     ]
    },
    {
     "name": "stderr",
     "output_type": "stream",
     "text": [
      "/Library/Frameworks/Python.framework/Versions/3.10/lib/python3.10/site-packages/sklearn/linear_model/_logistic.py:1186: UserWarning: Setting penalty=None will ignore the C and l1_ratio parameters\n",
      "  warnings.warn(\n"
     ]
    },
    {
     "name": "stdout",
     "output_type": "stream",
     "text": [
      "[CV 4/5; 6/64] END C=0.05, penalty=l2, solver=sag;, score=0.770 total time=   6.8s\n",
      "[CV 4/5; 7/64] START C=0.05, penalty=None, solver=lbfgs.........................\n"
     ]
    },
    {
     "name": "stderr",
     "output_type": "stream",
     "text": [
      "/Library/Frameworks/Python.framework/Versions/3.10/lib/python3.10/site-packages/sklearn/linear_model/_logistic.py:1186: UserWarning: Setting penalty=None will ignore the C and l1_ratio parameters\n",
      "  warnings.warn(\n"
     ]
    },
    {
     "name": "stdout",
     "output_type": "stream",
     "text": [
      "[CV 5/5; 6/64] END C=0.05, penalty=l2, solver=sag;, score=0.750 total time=   7.2s\n",
      "[CV 5/5; 7/64] START C=0.05, penalty=None, solver=lbfgs.........................\n"
     ]
    },
    {
     "name": "stderr",
     "output_type": "stream",
     "text": [
      "/Library/Frameworks/Python.framework/Versions/3.10/lib/python3.10/site-packages/sklearn/linear_model/_logistic.py:1186: UserWarning: Setting penalty=None will ignore the C and l1_ratio parameters\n",
      "  warnings.warn(\n"
     ]
    },
    {
     "name": "stdout",
     "output_type": "stream",
     "text": [
      "[CV 3/5; 7/64] END C=0.05, penalty=None, solver=lbfgs;, score=0.677 total time=   2.6s\n",
      "[CV 1/5; 8/64] START C=0.05, penalty=None, solver=sag...........................\n"
     ]
    },
    {
     "name": "stderr",
     "output_type": "stream",
     "text": [
      "/Library/Frameworks/Python.framework/Versions/3.10/lib/python3.10/site-packages/sklearn/linear_model/_logistic.py:1186: UserWarning: Setting penalty=None will ignore the C and l1_ratio parameters\n",
      "  warnings.warn(\n"
     ]
    },
    {
     "name": "stdout",
     "output_type": "stream",
     "text": [
      "[CV 4/5; 7/64] END C=0.05, penalty=None, solver=lbfgs;, score=0.708 total time=   2.5s\n",
      "[CV 2/5; 8/64] START C=0.05, penalty=None, solver=sag...........................\n"
     ]
    },
    {
     "name": "stderr",
     "output_type": "stream",
     "text": [
      "/Library/Frameworks/Python.framework/Versions/3.10/lib/python3.10/site-packages/sklearn/linear_model/_logistic.py:1186: UserWarning: Setting penalty=None will ignore the C and l1_ratio parameters\n",
      "  warnings.warn(\n"
     ]
    },
    {
     "name": "stdout",
     "output_type": "stream",
     "text": [
      "[CV 5/5; 7/64] END C=0.05, penalty=None, solver=lbfgs;, score=0.697 total time=   2.2s\n",
      "[CV 3/5; 8/64] START C=0.05, penalty=None, solver=sag...........................\n"
     ]
    },
    {
     "name": "stderr",
     "output_type": "stream",
     "text": [
      "/Library/Frameworks/Python.framework/Versions/3.10/lib/python3.10/site-packages/sklearn/linear_model/_logistic.py:1186: UserWarning: Setting penalty=None will ignore the C and l1_ratio parameters\n",
      "  warnings.warn(\n",
      "/Library/Frameworks/Python.framework/Versions/3.10/lib/python3.10/site-packages/sklearn/linear_model/_sag.py:350: ConvergenceWarning: The max_iter was reached which means the coef_ did not converge\n",
      "  warnings.warn(\n",
      "/Library/Frameworks/Python.framework/Versions/3.10/lib/python3.10/site-packages/sklearn/linear_model/_logistic.py:1186: UserWarning: Setting penalty=None will ignore the C and l1_ratio parameters\n",
      "  warnings.warn(\n"
     ]
    },
    {
     "name": "stdout",
     "output_type": "stream",
     "text": [
      "[CV 3/5; 4/64] END C=0.01, penalty=None, solver=sag;, score=0.708 total time=  58.6s\n",
      "[CV 4/5; 8/64] START C=0.05, penalty=None, solver=sag...........................\n"
     ]
    },
    {
     "name": "stderr",
     "output_type": "stream",
     "text": [
      "/Library/Frameworks/Python.framework/Versions/3.10/lib/python3.10/site-packages/sklearn/linear_model/_sag.py:350: ConvergenceWarning: The max_iter was reached which means the coef_ did not converge\n",
      "  warnings.warn(\n",
      "/Library/Frameworks/Python.framework/Versions/3.10/lib/python3.10/site-packages/sklearn/linear_model/_logistic.py:1186: UserWarning: Setting penalty=None will ignore the C and l1_ratio parameters\n",
      "  warnings.warn(\n",
      "/Library/Frameworks/Python.framework/Versions/3.10/lib/python3.10/site-packages/sklearn/linear_model/_sag.py:350: ConvergenceWarning: The max_iter was reached which means the coef_ did not converge\n",
      "  warnings.warn(\n",
      "/Library/Frameworks/Python.framework/Versions/3.10/lib/python3.10/site-packages/sklearn/linear_model/_sag.py:350: ConvergenceWarning: The max_iter was reached which means the coef_ did not converge\n",
      "  warnings.warn(\n"
     ]
    },
    {
     "name": "stdout",
     "output_type": "stream",
     "text": [
      "[CV 2/5; 4/64] END C=0.01, penalty=None, solver=sag;, score=0.735 total time=  59.3s\n",
      "[CV 5/5; 8/64] START C=0.05, penalty=None, solver=sag...........................\n",
      "[CV 1/5; 4/64] END C=0.01, penalty=None, solver=sag;, score=0.762 total time=  59.4s\n",
      "[CV 1/5; 9/64] START C=0.1, penalty=l2, solver=lbfgs............................\n",
      "[CV 4/5; 4/64] END C=0.01, penalty=None, solver=sag;, score=0.737 total time=  58.8s\n",
      "[CV 2/5; 9/64] START C=0.1, penalty=l2, solver=lbfgs............................\n",
      "[CV 1/5; 9/64] END C=0.1, penalty=l2, solver=lbfgs;, score=0.792 total time=   0.4s\n",
      "[CV 2/5; 9/64] END C=0.1, penalty=l2, solver=lbfgs;, score=0.770 total time=   0.4s\n",
      "[CV 4/5; 9/64] START C=0.1, penalty=l2, solver=lbfgs............................\n",
      "[CV 3/5; 9/64] START C=0.1, penalty=l2, solver=lbfgs............................\n",
      "[CV 3/5; 9/64] END C=0.1, penalty=l2, solver=lbfgs;, score=0.733 total time=   0.4s\n",
      "[CV 5/5; 9/64] START C=0.1, penalty=l2, solver=lbfgs............................\n",
      "[CV 4/5; 9/64] END C=0.1, penalty=l2, solver=lbfgs;, score=0.768 total time=   0.4s\n",
      "[CV 1/5; 10/64] START C=0.1, penalty=l2, solver=sag.............................\n",
      "[CV 5/5; 4/64] END C=0.01, penalty=None, solver=sag;, score=0.713 total time=  59.2s\n",
      "[CV 2/5; 10/64] START C=0.1, penalty=l2, solver=sag.............................\n"
     ]
    },
    {
     "name": "stderr",
     "output_type": "stream",
     "text": [
      "/Library/Frameworks/Python.framework/Versions/3.10/lib/python3.10/site-packages/sklearn/linear_model/_sag.py:350: ConvergenceWarning: The max_iter was reached which means the coef_ did not converge\n",
      "  warnings.warn(\n"
     ]
    },
    {
     "name": "stdout",
     "output_type": "stream",
     "text": [
      "[CV 5/5; 9/64] END C=0.1, penalty=l2, solver=lbfgs;, score=0.748 total time=   0.4s\n",
      "[CV 3/5; 10/64] START C=0.1, penalty=l2, solver=sag.............................\n",
      "[CV 2/5; 10/64] END C=0.1, penalty=l2, solver=sag;, score=0.770 total time=   8.9s\n",
      "[CV 4/5; 10/64] START C=0.1, penalty=l2, solver=sag.............................\n",
      "[CV 1/5; 10/64] END C=0.1, penalty=l2, solver=sag;, score=0.788 total time=   9.0s\n",
      "[CV 5/5; 10/64] START C=0.1, penalty=l2, solver=sag.............................\n",
      "[CV 3/5; 10/64] END C=0.1, penalty=l2, solver=sag;, score=0.733 total time=   9.4s\n",
      "[CV 1/5; 11/64] START C=0.1, penalty=None, solver=lbfgs.........................\n"
     ]
    },
    {
     "name": "stderr",
     "output_type": "stream",
     "text": [
      "/Library/Frameworks/Python.framework/Versions/3.10/lib/python3.10/site-packages/sklearn/linear_model/_logistic.py:1186: UserWarning: Setting penalty=None will ignore the C and l1_ratio parameters\n",
      "  warnings.warn(\n"
     ]
    },
    {
     "name": "stdout",
     "output_type": "stream",
     "text": [
      "[CV 1/5; 11/64] END C=0.1, penalty=None, solver=lbfgs;, score=0.703 total time=   2.6s\n",
      "[CV 2/5; 11/64] START C=0.1, penalty=None, solver=lbfgs.........................\n"
     ]
    },
    {
     "name": "stderr",
     "output_type": "stream",
     "text": [
      "/Library/Frameworks/Python.framework/Versions/3.10/lib/python3.10/site-packages/sklearn/linear_model/_logistic.py:1186: UserWarning: Setting penalty=None will ignore the C and l1_ratio parameters\n",
      "  warnings.warn(\n"
     ]
    },
    {
     "name": "stdout",
     "output_type": "stream",
     "text": [
      "[CV 2/5; 11/64] END C=0.1, penalty=None, solver=lbfgs;, score=0.690 total time=   2.4s\n",
      "[CV 3/5; 11/64] START C=0.1, penalty=None, solver=lbfgs.........................\n"
     ]
    },
    {
     "name": "stderr",
     "output_type": "stream",
     "text": [
      "/Library/Frameworks/Python.framework/Versions/3.10/lib/python3.10/site-packages/sklearn/linear_model/_logistic.py:1186: UserWarning: Setting penalty=None will ignore the C and l1_ratio parameters\n",
      "  warnings.warn(\n",
      "/Library/Frameworks/Python.framework/Versions/3.10/lib/python3.10/site-packages/sklearn/linear_model/_sag.py:350: ConvergenceWarning: The max_iter was reached which means the coef_ did not converge\n",
      "  warnings.warn(\n",
      "/Library/Frameworks/Python.framework/Versions/3.10/lib/python3.10/site-packages/sklearn/linear_model/_logistic.py:1186: UserWarning: Setting penalty=None will ignore the C and l1_ratio parameters\n",
      "  warnings.warn(\n"
     ]
    },
    {
     "name": "stdout",
     "output_type": "stream",
     "text": [
      "[CV 1/5; 8/64] END C=0.05, penalty=None, solver=sag;, score=0.762 total time=  58.0s\n",
      "[CV 4/5; 11/64] START C=0.1, penalty=None, solver=lbfgs.........................\n"
     ]
    },
    {
     "name": "stderr",
     "output_type": "stream",
     "text": [
      "/Library/Frameworks/Python.framework/Versions/3.10/lib/python3.10/site-packages/sklearn/linear_model/_sag.py:350: ConvergenceWarning: The max_iter was reached which means the coef_ did not converge\n",
      "  warnings.warn(\n",
      "/Library/Frameworks/Python.framework/Versions/3.10/lib/python3.10/site-packages/sklearn/linear_model/_logistic.py:1186: UserWarning: Setting penalty=None will ignore the C and l1_ratio parameters\n",
      "  warnings.warn(\n"
     ]
    },
    {
     "name": "stdout",
     "output_type": "stream",
     "text": [
      "[CV 2/5; 8/64] END C=0.05, penalty=None, solver=sag;, score=0.735 total time=  58.0s\n",
      "[CV 5/5; 11/64] START C=0.1, penalty=None, solver=lbfgs.........................\n"
     ]
    },
    {
     "name": "stderr",
     "output_type": "stream",
     "text": [
      "/Library/Frameworks/Python.framework/Versions/3.10/lib/python3.10/site-packages/sklearn/linear_model/_sag.py:350: ConvergenceWarning: The max_iter was reached which means the coef_ did not converge\n",
      "  warnings.warn(\n",
      "/Library/Frameworks/Python.framework/Versions/3.10/lib/python3.10/site-packages/sklearn/linear_model/_logistic.py:1186: UserWarning: Setting penalty=None will ignore the C and l1_ratio parameters\n",
      "  warnings.warn(\n"
     ]
    },
    {
     "name": "stdout",
     "output_type": "stream",
     "text": [
      "[CV 3/5; 8/64] END C=0.05, penalty=None, solver=sag;, score=0.708 total time=  58.1s\n",
      "[CV 1/5; 12/64] START C=0.1, penalty=None, solver=sag...........................\n",
      "[CV 3/5; 11/64] END C=0.1, penalty=None, solver=lbfgs;, score=0.677 total time=   2.4s\n",
      "[CV 2/5; 12/64] START C=0.1, penalty=None, solver=sag...........................\n"
     ]
    },
    {
     "name": "stderr",
     "output_type": "stream",
     "text": [
      "/Library/Frameworks/Python.framework/Versions/3.10/lib/python3.10/site-packages/sklearn/linear_model/_logistic.py:1186: UserWarning: Setting penalty=None will ignore the C and l1_ratio parameters\n",
      "  warnings.warn(\n"
     ]
    },
    {
     "name": "stdout",
     "output_type": "stream",
     "text": [
      "[CV 4/5; 11/64] END C=0.1, penalty=None, solver=lbfgs;, score=0.708 total time=   2.3s\n",
      "[CV 3/5; 12/64] START C=0.1, penalty=None, solver=sag...........................\n",
      "[CV 4/5; 10/64] END C=0.1, penalty=l2, solver=sag;, score=0.768 total time=   8.8s\n",
      "[CV 4/5; 12/64] START C=0.1, penalty=None, solver=sag...........................\n"
     ]
    },
    {
     "name": "stderr",
     "output_type": "stream",
     "text": [
      "/Library/Frameworks/Python.framework/Versions/3.10/lib/python3.10/site-packages/sklearn/linear_model/_logistic.py:1186: UserWarning: Setting penalty=None will ignore the C and l1_ratio parameters\n",
      "  warnings.warn(\n",
      "/Library/Frameworks/Python.framework/Versions/3.10/lib/python3.10/site-packages/sklearn/linear_model/_logistic.py:1186: UserWarning: Setting penalty=None will ignore the C and l1_ratio parameters\n",
      "  warnings.warn(\n"
     ]
    },
    {
     "name": "stdout",
     "output_type": "stream",
     "text": [
      "[CV 5/5; 11/64] END C=0.1, penalty=None, solver=lbfgs;, score=0.697 total time=   2.2s\n",
      "[CV 5/5; 12/64] START C=0.1, penalty=None, solver=sag...........................\n"
     ]
    },
    {
     "name": "stderr",
     "output_type": "stream",
     "text": [
      "/Library/Frameworks/Python.framework/Versions/3.10/lib/python3.10/site-packages/sklearn/linear_model/_logistic.py:1186: UserWarning: Setting penalty=None will ignore the C and l1_ratio parameters\n",
      "  warnings.warn(\n"
     ]
    },
    {
     "name": "stdout",
     "output_type": "stream",
     "text": [
      "[CV 5/5; 10/64] END C=0.1, penalty=l2, solver=sag;, score=0.747 total time=   9.3s\n",
      "[CV 1/5; 13/64] START C=0.3, penalty=l2, solver=lbfgs...........................\n",
      "[CV 1/5; 13/64] END C=0.3, penalty=l2, solver=lbfgs;, score=0.782 total time=   0.6s\n",
      "[CV 2/5; 13/64] START C=0.3, penalty=l2, solver=lbfgs...........................\n",
      "[CV 2/5; 13/64] END C=0.3, penalty=l2, solver=lbfgs;, score=0.768 total time=   0.6s\n",
      "[CV 3/5; 13/64] START C=0.3, penalty=l2, solver=lbfgs...........................\n",
      "[CV 3/5; 13/64] END C=0.3, penalty=l2, solver=lbfgs;, score=0.730 total time=   0.6s\n",
      "[CV 4/5; 13/64] START C=0.3, penalty=l2, solver=lbfgs...........................\n",
      "[CV 4/5; 13/64] END C=0.3, penalty=l2, solver=lbfgs;, score=0.753 total time=   0.6s\n",
      "[CV 5/5; 13/64] START C=0.3, penalty=l2, solver=lbfgs...........................\n",
      "[CV 5/5; 13/64] END C=0.3, penalty=l2, solver=lbfgs;, score=0.738 total time=   0.6s\n",
      "[CV 1/5; 14/64] START C=0.3, penalty=l2, solver=sag.............................\n",
      "[CV 1/5; 14/64] END C=0.3, penalty=l2, solver=sag;, score=0.778 total time=  13.7s\n",
      "[CV 2/5; 14/64] START C=0.3, penalty=l2, solver=sag.............................\n",
      "[CV 2/5; 14/64] END C=0.3, penalty=l2, solver=sag;, score=0.773 total time=  13.2s\n",
      "[CV 3/5; 14/64] START C=0.3, penalty=l2, solver=sag.............................\n"
     ]
    },
    {
     "name": "stderr",
     "output_type": "stream",
     "text": [
      "/Library/Frameworks/Python.framework/Versions/3.10/lib/python3.10/site-packages/sklearn/linear_model/_sag.py:350: ConvergenceWarning: The max_iter was reached which means the coef_ did not converge\n",
      "  warnings.warn(\n"
     ]
    },
    {
     "name": "stdout",
     "output_type": "stream",
     "text": [
      "[CV 4/5; 8/64] END C=0.05, penalty=None, solver=sag;, score=0.737 total time=  58.2s\n",
      "[CV 4/5; 14/64] START C=0.3, penalty=l2, solver=sag.............................\n"
     ]
    },
    {
     "name": "stderr",
     "output_type": "stream",
     "text": [
      "/Library/Frameworks/Python.framework/Versions/3.10/lib/python3.10/site-packages/sklearn/linear_model/_sag.py:350: ConvergenceWarning: The max_iter was reached which means the coef_ did not converge\n",
      "  warnings.warn(\n"
     ]
    },
    {
     "name": "stdout",
     "output_type": "stream",
     "text": [
      "[CV 5/5; 8/64] END C=0.05, penalty=None, solver=sag;, score=0.713 total time=  58.4s\n",
      "[CV 5/5; 14/64] START C=0.3, penalty=l2, solver=sag.............................\n",
      "[CV 3/5; 14/64] END C=0.3, penalty=l2, solver=sag;, score=0.730 total time=  13.8s\n",
      "[CV 1/5; 15/64] START C=0.3, penalty=None, solver=lbfgs.........................\n"
     ]
    },
    {
     "name": "stderr",
     "output_type": "stream",
     "text": [
      "/Library/Frameworks/Python.framework/Versions/3.10/lib/python3.10/site-packages/sklearn/linear_model/_logistic.py:1186: UserWarning: Setting penalty=None will ignore the C and l1_ratio parameters\n",
      "  warnings.warn(\n"
     ]
    },
    {
     "name": "stdout",
     "output_type": "stream",
     "text": [
      "[CV 1/5; 15/64] END C=0.3, penalty=None, solver=lbfgs;, score=0.703 total time=   2.7s\n",
      "[CV 2/5; 15/64] START C=0.3, penalty=None, solver=lbfgs.........................\n"
     ]
    },
    {
     "name": "stderr",
     "output_type": "stream",
     "text": [
      "/Library/Frameworks/Python.framework/Versions/3.10/lib/python3.10/site-packages/sklearn/linear_model/_logistic.py:1186: UserWarning: Setting penalty=None will ignore the C and l1_ratio parameters\n",
      "  warnings.warn(\n"
     ]
    },
    {
     "name": "stdout",
     "output_type": "stream",
     "text": [
      "[CV 2/5; 15/64] END C=0.3, penalty=None, solver=lbfgs;, score=0.690 total time=   2.5s\n",
      "[CV 3/5; 15/64] START C=0.3, penalty=None, solver=lbfgs.........................\n"
     ]
    },
    {
     "name": "stderr",
     "output_type": "stream",
     "text": [
      "/Library/Frameworks/Python.framework/Versions/3.10/lib/python3.10/site-packages/sklearn/linear_model/_logistic.py:1186: UserWarning: Setting penalty=None will ignore the C and l1_ratio parameters\n",
      "  warnings.warn(\n"
     ]
    },
    {
     "name": "stdout",
     "output_type": "stream",
     "text": [
      "[CV 4/5; 14/64] END C=0.3, penalty=l2, solver=sag;, score=0.752 total time=  11.1s\n",
      "[CV 4/5; 15/64] START C=0.3, penalty=None, solver=lbfgs.........................\n"
     ]
    },
    {
     "name": "stderr",
     "output_type": "stream",
     "text": [
      "/Library/Frameworks/Python.framework/Versions/3.10/lib/python3.10/site-packages/sklearn/linear_model/_logistic.py:1186: UserWarning: Setting penalty=None will ignore the C and l1_ratio parameters\n",
      "  warnings.warn(\n"
     ]
    },
    {
     "name": "stdout",
     "output_type": "stream",
     "text": [
      "[CV 3/5; 15/64] END C=0.3, penalty=None, solver=lbfgs;, score=0.677 total time=   2.4s\n",
      "[CV 5/5; 15/64] START C=0.3, penalty=None, solver=lbfgs.........................\n"
     ]
    },
    {
     "name": "stderr",
     "output_type": "stream",
     "text": [
      "/Library/Frameworks/Python.framework/Versions/3.10/lib/python3.10/site-packages/sklearn/linear_model/_logistic.py:1186: UserWarning: Setting penalty=None will ignore the C and l1_ratio parameters\n",
      "  warnings.warn(\n"
     ]
    },
    {
     "name": "stdout",
     "output_type": "stream",
     "text": [
      "[CV 4/5; 15/64] END C=0.3, penalty=None, solver=lbfgs;, score=0.708 total time=   2.2s\n",
      "[CV 1/5; 16/64] START C=0.3, penalty=None, solver=sag...........................\n"
     ]
    },
    {
     "name": "stderr",
     "output_type": "stream",
     "text": [
      "/Library/Frameworks/Python.framework/Versions/3.10/lib/python3.10/site-packages/sklearn/linear_model/_logistic.py:1186: UserWarning: Setting penalty=None will ignore the C and l1_ratio parameters\n",
      "  warnings.warn(\n"
     ]
    },
    {
     "name": "stdout",
     "output_type": "stream",
     "text": [
      "[CV 5/5; 14/64] END C=0.3, penalty=l2, solver=sag;, score=0.738 total time=  14.0s\n",
      "[CV 2/5; 16/64] START C=0.3, penalty=None, solver=sag...........................\n",
      "[CV 5/5; 15/64] END C=0.3, penalty=None, solver=lbfgs;, score=0.697 total time=   2.0s\n",
      "[CV 3/5; 16/64] START C=0.3, penalty=None, solver=sag...........................\n"
     ]
    },
    {
     "name": "stderr",
     "output_type": "stream",
     "text": [
      "/Library/Frameworks/Python.framework/Versions/3.10/lib/python3.10/site-packages/sklearn/linear_model/_logistic.py:1186: UserWarning: Setting penalty=None will ignore the C and l1_ratio parameters\n",
      "  warnings.warn(\n",
      "/Library/Frameworks/Python.framework/Versions/3.10/lib/python3.10/site-packages/sklearn/linear_model/_logistic.py:1186: UserWarning: Setting penalty=None will ignore the C and l1_ratio parameters\n",
      "  warnings.warn(\n",
      "/Library/Frameworks/Python.framework/Versions/3.10/lib/python3.10/site-packages/sklearn/linear_model/_sag.py:350: ConvergenceWarning: The max_iter was reached which means the coef_ did not converge\n",
      "  warnings.warn(\n",
      "/Library/Frameworks/Python.framework/Versions/3.10/lib/python3.10/site-packages/sklearn/linear_model/_logistic.py:1186: UserWarning: Setting penalty=None will ignore the C and l1_ratio parameters\n",
      "  warnings.warn(\n"
     ]
    },
    {
     "name": "stdout",
     "output_type": "stream",
     "text": [
      "[CV 1/5; 12/64] END C=0.1, penalty=None, solver=sag;, score=0.762 total time=  57.9s\n",
      "[CV 4/5; 16/64] START C=0.3, penalty=None, solver=sag...........................\n"
     ]
    },
    {
     "name": "stderr",
     "output_type": "stream",
     "text": [
      "/Library/Frameworks/Python.framework/Versions/3.10/lib/python3.10/site-packages/sklearn/linear_model/_sag.py:350: ConvergenceWarning: The max_iter was reached which means the coef_ did not converge\n",
      "  warnings.warn(\n",
      "/Library/Frameworks/Python.framework/Versions/3.10/lib/python3.10/site-packages/sklearn/linear_model/_logistic.py:1186: UserWarning: Setting penalty=None will ignore the C and l1_ratio parameters\n",
      "  warnings.warn(\n"
     ]
    },
    {
     "name": "stdout",
     "output_type": "stream",
     "text": [
      "[CV 2/5; 12/64] END C=0.1, penalty=None, solver=sag;, score=0.735 total time=  58.3s\n",
      "[CV 5/5; 16/64] START C=0.3, penalty=None, solver=sag...........................\n"
     ]
    },
    {
     "name": "stderr",
     "output_type": "stream",
     "text": [
      "/Library/Frameworks/Python.framework/Versions/3.10/lib/python3.10/site-packages/sklearn/linear_model/_sag.py:350: ConvergenceWarning: The max_iter was reached which means the coef_ did not converge\n",
      "  warnings.warn(\n",
      "/Library/Frameworks/Python.framework/Versions/3.10/lib/python3.10/site-packages/sklearn/linear_model/_sag.py:350: ConvergenceWarning: The max_iter was reached which means the coef_ did not converge\n",
      "  warnings.warn(\n"
     ]
    },
    {
     "name": "stdout",
     "output_type": "stream",
     "text": [
      "[CV 4/5; 12/64] END C=0.1, penalty=None, solver=sag;, score=0.737 total time=  58.1s\n",
      "[CV 1/5; 17/64] START C=0.5, penalty=l2, solver=lbfgs...........................\n",
      "[CV 5/5; 12/64] END C=0.1, penalty=None, solver=sag;, score=0.713 total time=  58.0s\n",
      "[CV 2/5; 17/64] START C=0.5, penalty=l2, solver=lbfgs...........................\n"
     ]
    },
    {
     "name": "stderr",
     "output_type": "stream",
     "text": [
      "/Library/Frameworks/Python.framework/Versions/3.10/lib/python3.10/site-packages/sklearn/linear_model/_sag.py:350: ConvergenceWarning: The max_iter was reached which means the coef_ did not converge\n",
      "  warnings.warn(\n"
     ]
    },
    {
     "name": "stdout",
     "output_type": "stream",
     "text": [
      "[CV 3/5; 12/64] END C=0.1, penalty=None, solver=sag;, score=0.708 total time=  58.5s\n",
      "[CV 3/5; 17/64] START C=0.5, penalty=l2, solver=lbfgs...........................\n",
      "[CV 1/5; 17/64] END C=0.5, penalty=l2, solver=lbfgs;, score=0.782 total time=   0.8s\n",
      "[CV 4/5; 17/64] START C=0.5, penalty=l2, solver=lbfgs...........................\n",
      "[CV 2/5; 17/64] END C=0.5, penalty=l2, solver=lbfgs;, score=0.772 total time=   0.8s\n",
      "[CV 5/5; 17/64] START C=0.5, penalty=l2, solver=lbfgs...........................\n",
      "[CV 3/5; 17/64] END C=0.5, penalty=l2, solver=lbfgs;, score=0.723 total time=   0.7s\n",
      "[CV 1/5; 18/64] START C=0.5, penalty=l2, solver=sag.............................\n",
      "[CV 4/5; 17/64] END C=0.5, penalty=l2, solver=lbfgs;, score=0.758 total time=   0.7s\n",
      "[CV 2/5; 18/64] START C=0.5, penalty=l2, solver=sag.............................\n",
      "[CV 5/5; 17/64] END C=0.5, penalty=l2, solver=lbfgs;, score=0.747 total time=   0.7s\n",
      "[CV 3/5; 18/64] START C=0.5, penalty=l2, solver=sag.............................\n",
      "[CV 2/5; 18/64] END C=0.5, penalty=l2, solver=sag;, score=0.773 total time=  12.5s\n",
      "[CV 4/5; 18/64] START C=0.5, penalty=l2, solver=sag.............................\n",
      "[CV 3/5; 18/64] END C=0.5, penalty=l2, solver=sag;, score=0.723 total time=  12.5s\n",
      "[CV 5/5; 18/64] START C=0.5, penalty=l2, solver=sag.............................\n",
      "[CV 1/5; 18/64] END C=0.5, penalty=l2, solver=sag;, score=0.780 total time=  13.7s\n",
      "[CV 1/5; 19/64] START C=0.5, penalty=None, solver=lbfgs.........................\n"
     ]
    },
    {
     "name": "stderr",
     "output_type": "stream",
     "text": [
      "/Library/Frameworks/Python.framework/Versions/3.10/lib/python3.10/site-packages/sklearn/linear_model/_logistic.py:1186: UserWarning: Setting penalty=None will ignore the C and l1_ratio parameters\n",
      "  warnings.warn(\n"
     ]
    },
    {
     "name": "stdout",
     "output_type": "stream",
     "text": [
      "[CV 1/5; 19/64] END C=0.5, penalty=None, solver=lbfgs;, score=0.703 total time=   2.7s\n",
      "[CV 2/5; 19/64] START C=0.5, penalty=None, solver=lbfgs.........................\n"
     ]
    },
    {
     "name": "stderr",
     "output_type": "stream",
     "text": [
      "/Library/Frameworks/Python.framework/Versions/3.10/lib/python3.10/site-packages/sklearn/linear_model/_logistic.py:1186: UserWarning: Setting penalty=None will ignore the C and l1_ratio parameters\n",
      "  warnings.warn(\n"
     ]
    },
    {
     "name": "stdout",
     "output_type": "stream",
     "text": [
      "[CV 2/5; 19/64] END C=0.5, penalty=None, solver=lbfgs;, score=0.690 total time=   2.4s\n",
      "[CV 3/5; 19/64] START C=0.5, penalty=None, solver=lbfgs.........................\n"
     ]
    },
    {
     "name": "stderr",
     "output_type": "stream",
     "text": [
      "/Library/Frameworks/Python.framework/Versions/3.10/lib/python3.10/site-packages/sklearn/linear_model/_logistic.py:1186: UserWarning: Setting penalty=None will ignore the C and l1_ratio parameters\n",
      "  warnings.warn(\n"
     ]
    },
    {
     "name": "stdout",
     "output_type": "stream",
     "text": [
      "[CV 4/5; 18/64] END C=0.5, penalty=l2, solver=sag;, score=0.758 total time=   7.8s\n",
      "[CV 4/5; 19/64] START C=0.5, penalty=None, solver=lbfgs.........................\n"
     ]
    },
    {
     "name": "stderr",
     "output_type": "stream",
     "text": [
      "/Library/Frameworks/Python.framework/Versions/3.10/lib/python3.10/site-packages/sklearn/linear_model/_logistic.py:1186: UserWarning: Setting penalty=None will ignore the C and l1_ratio parameters\n",
      "  warnings.warn(\n"
     ]
    },
    {
     "name": "stdout",
     "output_type": "stream",
     "text": [
      "[CV 3/5; 19/64] END C=0.5, penalty=None, solver=lbfgs;, score=0.677 total time=   2.4s\n",
      "[CV 5/5; 19/64] START C=0.5, penalty=None, solver=lbfgs.........................\n"
     ]
    },
    {
     "name": "stderr",
     "output_type": "stream",
     "text": [
      "/Library/Frameworks/Python.framework/Versions/3.10/lib/python3.10/site-packages/sklearn/linear_model/_logistic.py:1186: UserWarning: Setting penalty=None will ignore the C and l1_ratio parameters\n",
      "  warnings.warn(\n"
     ]
    },
    {
     "name": "stdout",
     "output_type": "stream",
     "text": [
      "[CV 4/5; 19/64] END C=0.5, penalty=None, solver=lbfgs;, score=0.708 total time=   2.2s\n",
      "[CV 1/5; 20/64] START C=0.5, penalty=None, solver=sag...........................\n",
      "[CV 5/5; 19/64] END C=0.5, penalty=None, solver=lbfgs;, score=0.697 total time=   2.0s\n",
      "[CV 2/5; 20/64] START C=0.5, penalty=None, solver=sag...........................\n"
     ]
    },
    {
     "name": "stderr",
     "output_type": "stream",
     "text": [
      "/Library/Frameworks/Python.framework/Versions/3.10/lib/python3.10/site-packages/sklearn/linear_model/_logistic.py:1186: UserWarning: Setting penalty=None will ignore the C and l1_ratio parameters\n",
      "  warnings.warn(\n",
      "/Library/Frameworks/Python.framework/Versions/3.10/lib/python3.10/site-packages/sklearn/linear_model/_logistic.py:1186: UserWarning: Setting penalty=None will ignore the C and l1_ratio parameters\n",
      "  warnings.warn(\n"
     ]
    },
    {
     "name": "stdout",
     "output_type": "stream",
     "text": [
      "[CV 5/5; 18/64] END C=0.5, penalty=l2, solver=sag;, score=0.750 total time=  13.9s\n",
      "[CV 3/5; 20/64] START C=0.5, penalty=None, solver=sag...........................\n"
     ]
    },
    {
     "name": "stderr",
     "output_type": "stream",
     "text": [
      "/Library/Frameworks/Python.framework/Versions/3.10/lib/python3.10/site-packages/sklearn/linear_model/_logistic.py:1186: UserWarning: Setting penalty=None will ignore the C and l1_ratio parameters\n",
      "  warnings.warn(\n",
      "/Library/Frameworks/Python.framework/Versions/3.10/lib/python3.10/site-packages/sklearn/linear_model/_sag.py:350: ConvergenceWarning: The max_iter was reached which means the coef_ did not converge\n",
      "  warnings.warn(\n",
      "/Library/Frameworks/Python.framework/Versions/3.10/lib/python3.10/site-packages/sklearn/linear_model/_logistic.py:1186: UserWarning: Setting penalty=None will ignore the C and l1_ratio parameters\n",
      "  warnings.warn(\n"
     ]
    },
    {
     "name": "stdout",
     "output_type": "stream",
     "text": [
      "[CV 1/5; 16/64] END C=0.3, penalty=None, solver=sag;, score=0.762 total time=  57.0s\n",
      "[CV 4/5; 20/64] START C=0.5, penalty=None, solver=sag...........................\n"
     ]
    },
    {
     "name": "stderr",
     "output_type": "stream",
     "text": [
      "/Library/Frameworks/Python.framework/Versions/3.10/lib/python3.10/site-packages/sklearn/linear_model/_sag.py:350: ConvergenceWarning: The max_iter was reached which means the coef_ did not converge\n",
      "  warnings.warn(\n",
      "/Library/Frameworks/Python.framework/Versions/3.10/lib/python3.10/site-packages/sklearn/linear_model/_logistic.py:1186: UserWarning: Setting penalty=None will ignore the C and l1_ratio parameters\n",
      "  warnings.warn(\n"
     ]
    },
    {
     "name": "stdout",
     "output_type": "stream",
     "text": [
      "[CV 2/5; 16/64] END C=0.3, penalty=None, solver=sag;, score=0.735 total time=  56.9s\n",
      "[CV 5/5; 20/64] START C=0.5, penalty=None, solver=sag...........................\n"
     ]
    },
    {
     "name": "stderr",
     "output_type": "stream",
     "text": [
      "/Library/Frameworks/Python.framework/Versions/3.10/lib/python3.10/site-packages/sklearn/linear_model/_sag.py:350: ConvergenceWarning: The max_iter was reached which means the coef_ did not converge\n",
      "  warnings.warn(\n"
     ]
    },
    {
     "name": "stdout",
     "output_type": "stream",
     "text": [
      "[CV 3/5; 16/64] END C=0.3, penalty=None, solver=sag;, score=0.708 total time=  57.1s\n",
      "[CV 1/5; 21/64] START C=0.7, penalty=l2, solver=lbfgs...........................\n",
      "[CV 1/5; 21/64] END C=0.7, penalty=l2, solver=lbfgs;, score=0.783 total time=   0.8s\n",
      "[CV 2/5; 21/64] START C=0.7, penalty=l2, solver=lbfgs...........................\n",
      "[CV 2/5; 21/64] END C=0.7, penalty=l2, solver=lbfgs;, score=0.772 total time=   0.4s\n",
      "[CV 3/5; 21/64] START C=0.7, penalty=l2, solver=lbfgs...........................\n",
      "[CV 3/5; 21/64] END C=0.7, penalty=l2, solver=lbfgs;, score=0.720 total time=   0.5s\n",
      "[CV 4/5; 21/64] START C=0.7, penalty=l2, solver=lbfgs...........................\n",
      "[CV 4/5; 21/64] END C=0.7, penalty=l2, solver=lbfgs;, score=0.745 total time=   0.5s\n",
      "[CV 5/5; 21/64] START C=0.7, penalty=l2, solver=lbfgs...........................\n"
     ]
    },
    {
     "name": "stderr",
     "output_type": "stream",
     "text": [
      "/Library/Frameworks/Python.framework/Versions/3.10/lib/python3.10/site-packages/sklearn/linear_model/_sag.py:350: ConvergenceWarning: The max_iter was reached which means the coef_ did not converge\n",
      "  warnings.warn(\n"
     ]
    },
    {
     "name": "stdout",
     "output_type": "stream",
     "text": [
      "[CV 4/5; 16/64] END C=0.3, penalty=None, solver=sag;, score=0.737 total time=  57.2s\n",
      "[CV 1/5; 22/64] START C=0.7, penalty=l2, solver=sag.............................\n",
      "[CV 5/5; 21/64] END C=0.7, penalty=l2, solver=lbfgs;, score=0.743 total time=   0.5s\n",
      "[CV 2/5; 22/64] START C=0.7, penalty=l2, solver=sag.............................\n"
     ]
    },
    {
     "name": "stderr",
     "output_type": "stream",
     "text": [
      "/Library/Frameworks/Python.framework/Versions/3.10/lib/python3.10/site-packages/sklearn/linear_model/_sag.py:350: ConvergenceWarning: The max_iter was reached which means the coef_ did not converge\n",
      "  warnings.warn(\n"
     ]
    },
    {
     "name": "stdout",
     "output_type": "stream",
     "text": [
      "[CV 5/5; 16/64] END C=0.3, penalty=None, solver=sag;, score=0.713 total time=  56.6s\n",
      "[CV 3/5; 22/64] START C=0.7, penalty=l2, solver=sag.............................\n",
      "[CV 2/5; 22/64] END C=0.7, penalty=l2, solver=sag;, score=0.772 total time=  10.0s\n",
      "[CV 4/5; 22/64] START C=0.7, penalty=l2, solver=sag.............................\n",
      "[CV 3/5; 22/64] END C=0.7, penalty=l2, solver=sag;, score=0.720 total time=  10.2s\n",
      "[CV 5/5; 22/64] START C=0.7, penalty=l2, solver=sag.............................\n",
      "[CV 1/5; 22/64] END C=0.7, penalty=l2, solver=sag;, score=0.785 total time=  11.1s\n",
      "[CV 1/5; 23/64] START C=0.7, penalty=None, solver=lbfgs.........................\n"
     ]
    },
    {
     "name": "stderr",
     "output_type": "stream",
     "text": [
      "/Library/Frameworks/Python.framework/Versions/3.10/lib/python3.10/site-packages/sklearn/linear_model/_logistic.py:1186: UserWarning: Setting penalty=None will ignore the C and l1_ratio parameters\n",
      "  warnings.warn(\n"
     ]
    },
    {
     "name": "stdout",
     "output_type": "stream",
     "text": [
      "[CV 1/5; 23/64] END C=0.7, penalty=None, solver=lbfgs;, score=0.703 total time=   2.7s\n",
      "[CV 2/5; 23/64] START C=0.7, penalty=None, solver=lbfgs.........................\n"
     ]
    },
    {
     "name": "stderr",
     "output_type": "stream",
     "text": [
      "/Library/Frameworks/Python.framework/Versions/3.10/lib/python3.10/site-packages/sklearn/linear_model/_logistic.py:1186: UserWarning: Setting penalty=None will ignore the C and l1_ratio parameters\n",
      "  warnings.warn(\n"
     ]
    },
    {
     "name": "stdout",
     "output_type": "stream",
     "text": [
      "[CV 2/5; 23/64] END C=0.7, penalty=None, solver=lbfgs;, score=0.690 total time=   2.4s\n",
      "[CV 3/5; 23/64] START C=0.7, penalty=None, solver=lbfgs.........................\n"
     ]
    },
    {
     "name": "stderr",
     "output_type": "stream",
     "text": [
      "/Library/Frameworks/Python.framework/Versions/3.10/lib/python3.10/site-packages/sklearn/linear_model/_logistic.py:1186: UserWarning: Setting penalty=None will ignore the C and l1_ratio parameters\n",
      "  warnings.warn(\n"
     ]
    },
    {
     "name": "stdout",
     "output_type": "stream",
     "text": [
      "[CV 3/5; 23/64] END C=0.7, penalty=None, solver=lbfgs;, score=0.677 total time=   2.3s\n",
      "[CV 4/5; 23/64] START C=0.7, penalty=None, solver=lbfgs.........................\n"
     ]
    },
    {
     "name": "stderr",
     "output_type": "stream",
     "text": [
      "/Library/Frameworks/Python.framework/Versions/3.10/lib/python3.10/site-packages/sklearn/linear_model/_logistic.py:1186: UserWarning: Setting penalty=None will ignore the C and l1_ratio parameters\n",
      "  warnings.warn(\n"
     ]
    },
    {
     "name": "stdout",
     "output_type": "stream",
     "text": [
      "[CV 4/5; 22/64] END C=0.7, penalty=l2, solver=sag;, score=0.745 total time=   9.1s\n",
      "[CV 5/5; 23/64] START C=0.7, penalty=None, solver=lbfgs.........................\n"
     ]
    },
    {
     "name": "stderr",
     "output_type": "stream",
     "text": [
      "/Library/Frameworks/Python.framework/Versions/3.10/lib/python3.10/site-packages/sklearn/linear_model/_logistic.py:1186: UserWarning: Setting penalty=None will ignore the C and l1_ratio parameters\n",
      "  warnings.warn(\n"
     ]
    },
    {
     "name": "stdout",
     "output_type": "stream",
     "text": [
      "[CV 4/5; 23/64] END C=0.7, penalty=None, solver=lbfgs;, score=0.708 total time=   2.2s\n",
      "[CV 1/5; 24/64] START C=0.7, penalty=None, solver=sag...........................\n"
     ]
    },
    {
     "name": "stderr",
     "output_type": "stream",
     "text": [
      "/Library/Frameworks/Python.framework/Versions/3.10/lib/python3.10/site-packages/sklearn/linear_model/_logistic.py:1186: UserWarning: Setting penalty=None will ignore the C and l1_ratio parameters\n",
      "  warnings.warn(\n"
     ]
    },
    {
     "name": "stdout",
     "output_type": "stream",
     "text": [
      "[CV 5/5; 23/64] END C=0.7, penalty=None, solver=lbfgs;, score=0.697 total time=   2.1s\n",
      "[CV 2/5; 24/64] START C=0.7, penalty=None, solver=sag...........................\n"
     ]
    },
    {
     "name": "stderr",
     "output_type": "stream",
     "text": [
      "/Library/Frameworks/Python.framework/Versions/3.10/lib/python3.10/site-packages/sklearn/linear_model/_logistic.py:1186: UserWarning: Setting penalty=None will ignore the C and l1_ratio parameters\n",
      "  warnings.warn(\n"
     ]
    },
    {
     "name": "stdout",
     "output_type": "stream",
     "text": [
      "[CV 5/5; 22/64] END C=0.7, penalty=l2, solver=sag;, score=0.745 total time=  10.6s\n",
      "[CV 3/5; 24/64] START C=0.7, penalty=None, solver=sag...........................\n"
     ]
    },
    {
     "name": "stderr",
     "output_type": "stream",
     "text": [
      "/Library/Frameworks/Python.framework/Versions/3.10/lib/python3.10/site-packages/sklearn/linear_model/_logistic.py:1186: UserWarning: Setting penalty=None will ignore the C and l1_ratio parameters\n",
      "  warnings.warn(\n",
      "/Library/Frameworks/Python.framework/Versions/3.10/lib/python3.10/site-packages/sklearn/linear_model/_sag.py:350: ConvergenceWarning: The max_iter was reached which means the coef_ did not converge\n",
      "  warnings.warn(\n",
      "/Library/Frameworks/Python.framework/Versions/3.10/lib/python3.10/site-packages/sklearn/linear_model/_logistic.py:1186: UserWarning: Setting penalty=None will ignore the C and l1_ratio parameters\n",
      "  warnings.warn(\n",
      "/Library/Frameworks/Python.framework/Versions/3.10/lib/python3.10/site-packages/sklearn/linear_model/_sag.py:350: ConvergenceWarning: The max_iter was reached which means the coef_ did not converge\n",
      "  warnings.warn(\n",
      "/Library/Frameworks/Python.framework/Versions/3.10/lib/python3.10/site-packages/sklearn/linear_model/_logistic.py:1186: UserWarning: Setting penalty=None will ignore the C and l1_ratio parameters\n",
      "  warnings.warn(\n"
     ]
    },
    {
     "name": "stdout",
     "output_type": "stream",
     "text": [
      "[CV 1/5; 20/64] END C=0.5, penalty=None, solver=sag;, score=0.762 total time=  56.8s\n",
      "[CV 4/5; 24/64] START C=0.7, penalty=None, solver=sag...........................\n",
      "[CV 2/5; 20/64] END C=0.5, penalty=None, solver=sag;, score=0.735 total time=  56.8s\n",
      "[CV 5/5; 24/64] START C=0.7, penalty=None, solver=sag...........................\n"
     ]
    },
    {
     "name": "stderr",
     "output_type": "stream",
     "text": [
      "/Library/Frameworks/Python.framework/Versions/3.10/lib/python3.10/site-packages/sklearn/linear_model/_sag.py:350: ConvergenceWarning: The max_iter was reached which means the coef_ did not converge\n",
      "  warnings.warn(\n"
     ]
    },
    {
     "name": "stdout",
     "output_type": "stream",
     "text": [
      "[CV 3/5; 20/64] END C=0.5, penalty=None, solver=sag;, score=0.708 total time=  57.1s\n",
      "[CV 1/5; 25/64] START C=0.9, penalty=l2, solver=lbfgs...........................\n",
      "[CV 1/5; 25/64] END C=0.9, penalty=l2, solver=lbfgs;, score=0.787 total time=   0.7s\n",
      "[CV 2/5; 25/64] START C=0.9, penalty=l2, solver=lbfgs...........................\n",
      "[CV 2/5; 25/64] END C=0.9, penalty=l2, solver=lbfgs;, score=0.772 total time=   0.6s\n",
      "[CV 3/5; 25/64] START C=0.9, penalty=l2, solver=lbfgs...........................\n",
      "[CV 3/5; 25/64] END C=0.9, penalty=l2, solver=lbfgs;, score=0.720 total time=   0.5s\n",
      "[CV 4/5; 25/64] START C=0.9, penalty=l2, solver=lbfgs...........................\n",
      "[CV 4/5; 25/64] END C=0.9, penalty=l2, solver=lbfgs;, score=0.745 total time=   0.5s\n",
      "[CV 5/5; 25/64] START C=0.9, penalty=l2, solver=lbfgs...........................\n",
      "[CV 5/5; 25/64] END C=0.9, penalty=l2, solver=lbfgs;, score=0.735 total time=   0.6s\n",
      "[CV 1/5; 26/64] START C=0.9, penalty=l2, solver=sag.............................\n",
      "[CV 1/5; 26/64] END C=0.9, penalty=l2, solver=sag;, score=0.785 total time=  12.4s\n",
      "[CV 2/5; 26/64] START C=0.9, penalty=l2, solver=sag.............................\n"
     ]
    },
    {
     "name": "stderr",
     "output_type": "stream",
     "text": [
      "/Library/Frameworks/Python.framework/Versions/3.10/lib/python3.10/site-packages/sklearn/linear_model/_sag.py:350: ConvergenceWarning: The max_iter was reached which means the coef_ did not converge\n",
      "  warnings.warn(\n"
     ]
    },
    {
     "name": "stdout",
     "output_type": "stream",
     "text": [
      "[CV 4/5; 20/64] END C=0.5, penalty=None, solver=sag;, score=0.737 total time=  56.9s\n",
      "[CV 3/5; 26/64] START C=0.9, penalty=l2, solver=sag.............................\n"
     ]
    },
    {
     "name": "stderr",
     "output_type": "stream",
     "text": [
      "/Library/Frameworks/Python.framework/Versions/3.10/lib/python3.10/site-packages/sklearn/linear_model/_sag.py:350: ConvergenceWarning: The max_iter was reached which means the coef_ did not converge\n",
      "  warnings.warn(\n"
     ]
    },
    {
     "name": "stdout",
     "output_type": "stream",
     "text": [
      "[CV 5/5; 20/64] END C=0.5, penalty=None, solver=sag;, score=0.713 total time=  56.8s\n",
      "[CV 4/5; 26/64] START C=0.9, penalty=l2, solver=sag.............................\n",
      "[CV 2/5; 26/64] END C=0.9, penalty=l2, solver=sag;, score=0.770 total time=  10.7s\n",
      "[CV 5/5; 26/64] START C=0.9, penalty=l2, solver=sag.............................\n",
      "[CV 3/5; 26/64] END C=0.9, penalty=l2, solver=sag;, score=0.720 total time=  11.2s\n",
      "[CV 1/5; 27/64] START C=0.9, penalty=None, solver=lbfgs.........................\n"
     ]
    },
    {
     "name": "stderr",
     "output_type": "stream",
     "text": [
      "/Library/Frameworks/Python.framework/Versions/3.10/lib/python3.10/site-packages/sklearn/linear_model/_logistic.py:1186: UserWarning: Setting penalty=None will ignore the C and l1_ratio parameters\n",
      "  warnings.warn(\n"
     ]
    },
    {
     "name": "stdout",
     "output_type": "stream",
     "text": [
      "[CV 4/5; 26/64] END C=0.9, penalty=l2, solver=sag;, score=0.747 total time=  10.6s\n",
      "[CV 2/5; 27/64] START C=0.9, penalty=None, solver=lbfgs.........................\n"
     ]
    },
    {
     "name": "stderr",
     "output_type": "stream",
     "text": [
      "/Library/Frameworks/Python.framework/Versions/3.10/lib/python3.10/site-packages/sklearn/linear_model/_logistic.py:1186: UserWarning: Setting penalty=None will ignore the C and l1_ratio parameters\n",
      "  warnings.warn(\n"
     ]
    },
    {
     "name": "stdout",
     "output_type": "stream",
     "text": [
      "[CV 1/5; 27/64] END C=0.9, penalty=None, solver=lbfgs;, score=0.703 total time=   2.8s\n",
      "[CV 3/5; 27/64] START C=0.9, penalty=None, solver=lbfgs.........................\n",
      "[CV 2/5; 27/64] END C=0.9, penalty=None, solver=lbfgs;, score=0.690 total time=   2.6s\n",
      "[CV 4/5; 27/64] START C=0.9, penalty=None, solver=lbfgs.........................\n"
     ]
    },
    {
     "name": "stderr",
     "output_type": "stream",
     "text": [
      "/Library/Frameworks/Python.framework/Versions/3.10/lib/python3.10/site-packages/sklearn/linear_model/_logistic.py:1186: UserWarning: Setting penalty=None will ignore the C and l1_ratio parameters\n",
      "  warnings.warn(\n",
      "/Library/Frameworks/Python.framework/Versions/3.10/lib/python3.10/site-packages/sklearn/linear_model/_logistic.py:1186: UserWarning: Setting penalty=None will ignore the C and l1_ratio parameters\n",
      "  warnings.warn(\n"
     ]
    },
    {
     "name": "stdout",
     "output_type": "stream",
     "text": [
      "[CV 5/5; 26/64] END C=0.9, penalty=l2, solver=sag;, score=0.735 total time=  12.0s\n",
      "[CV 5/5; 27/64] START C=0.9, penalty=None, solver=lbfgs.........................\n"
     ]
    },
    {
     "name": "stderr",
     "output_type": "stream",
     "text": [
      "/Library/Frameworks/Python.framework/Versions/3.10/lib/python3.10/site-packages/sklearn/linear_model/_logistic.py:1186: UserWarning: Setting penalty=None will ignore the C and l1_ratio parameters\n",
      "  warnings.warn(\n"
     ]
    },
    {
     "name": "stdout",
     "output_type": "stream",
     "text": [
      "[CV 4/5; 27/64] END C=0.9, penalty=None, solver=lbfgs;, score=0.708 total time=   2.3s\n",
      "[CV 1/5; 28/64] START C=0.9, penalty=None, solver=sag...........................\n",
      "[CV 3/5; 27/64] END C=0.9, penalty=None, solver=lbfgs;, score=0.677 total time=   2.5s\n",
      "[CV 2/5; 28/64] START C=0.9, penalty=None, solver=sag...........................\n"
     ]
    },
    {
     "name": "stderr",
     "output_type": "stream",
     "text": [
      "/Library/Frameworks/Python.framework/Versions/3.10/lib/python3.10/site-packages/sklearn/linear_model/_logistic.py:1186: UserWarning: Setting penalty=None will ignore the C and l1_ratio parameters\n",
      "  warnings.warn(\n",
      "/Library/Frameworks/Python.framework/Versions/3.10/lib/python3.10/site-packages/sklearn/linear_model/_logistic.py:1186: UserWarning: Setting penalty=None will ignore the C and l1_ratio parameters\n",
      "  warnings.warn(\n"
     ]
    },
    {
     "name": "stdout",
     "output_type": "stream",
     "text": [
      "[CV 5/5; 27/64] END C=0.9, penalty=None, solver=lbfgs;, score=0.697 total time=   2.2s\n",
      "[CV 3/5; 28/64] START C=0.9, penalty=None, solver=sag...........................\n"
     ]
    },
    {
     "name": "stderr",
     "output_type": "stream",
     "text": [
      "/Library/Frameworks/Python.framework/Versions/3.10/lib/python3.10/site-packages/sklearn/linear_model/_logistic.py:1186: UserWarning: Setting penalty=None will ignore the C and l1_ratio parameters\n",
      "  warnings.warn(\n",
      "/Library/Frameworks/Python.framework/Versions/3.10/lib/python3.10/site-packages/sklearn/linear_model/_sag.py:350: ConvergenceWarning: The max_iter was reached which means the coef_ did not converge\n",
      "  warnings.warn(\n",
      "/Library/Frameworks/Python.framework/Versions/3.10/lib/python3.10/site-packages/sklearn/linear_model/_logistic.py:1186: UserWarning: Setting penalty=None will ignore the C and l1_ratio parameters\n",
      "  warnings.warn(\n"
     ]
    },
    {
     "name": "stdout",
     "output_type": "stream",
     "text": [
      "[CV 1/5; 24/64] END C=0.7, penalty=None, solver=sag;, score=0.762 total time=  56.9s\n",
      "[CV 4/5; 28/64] START C=0.9, penalty=None, solver=sag...........................\n"
     ]
    },
    {
     "name": "stderr",
     "output_type": "stream",
     "text": [
      "/Library/Frameworks/Python.framework/Versions/3.10/lib/python3.10/site-packages/sklearn/linear_model/_sag.py:350: ConvergenceWarning: The max_iter was reached which means the coef_ did not converge\n",
      "  warnings.warn(\n",
      "/Library/Frameworks/Python.framework/Versions/3.10/lib/python3.10/site-packages/sklearn/linear_model/_logistic.py:1186: UserWarning: Setting penalty=None will ignore the C and l1_ratio parameters\n",
      "  warnings.warn(\n",
      "/Library/Frameworks/Python.framework/Versions/3.10/lib/python3.10/site-packages/sklearn/linear_model/_sag.py:350: ConvergenceWarning: The max_iter was reached which means the coef_ did not converge\n",
      "  warnings.warn(\n"
     ]
    },
    {
     "name": "stdout",
     "output_type": "stream",
     "text": [
      "[CV 2/5; 24/64] END C=0.7, penalty=None, solver=sag;, score=0.735 total time=  56.8s\n",
      "[CV 5/5; 28/64] START C=0.9, penalty=None, solver=sag...........................\n",
      "[CV 3/5; 24/64] END C=0.7, penalty=None, solver=sag;, score=0.708 total time=  56.6s\n",
      "[CV 1/5; 29/64] START C=1, penalty=l2, solver=lbfgs.............................\n",
      "[CV 1/5; 29/64] END C=1, penalty=l2, solver=lbfgs;, score=0.788 total time=   0.7s\n",
      "[CV 2/5; 29/64] START C=1, penalty=l2, solver=lbfgs.............................\n",
      "[CV 2/5; 29/64] END C=1, penalty=l2, solver=lbfgs;, score=0.770 total time=   0.5s\n",
      "[CV 3/5; 29/64] START C=1, penalty=l2, solver=lbfgs.............................\n",
      "[CV 3/5; 29/64] END C=1, penalty=l2, solver=lbfgs;, score=0.720 total time=   0.5s\n",
      "[CV 4/5; 29/64] START C=1, penalty=l2, solver=lbfgs.............................\n",
      "[CV 4/5; 29/64] END C=1, penalty=l2, solver=lbfgs;, score=0.743 total time=   0.5s\n",
      "[CV 5/5; 29/64] START C=1, penalty=l2, solver=lbfgs.............................\n",
      "[CV 5/5; 29/64] END C=1, penalty=l2, solver=lbfgs;, score=0.732 total time=   0.5s\n",
      "[CV 1/5; 30/64] START C=1, penalty=l2, solver=sag...............................\n"
     ]
    },
    {
     "name": "stderr",
     "output_type": "stream",
     "text": [
      "/Library/Frameworks/Python.framework/Versions/3.10/lib/python3.10/site-packages/sklearn/linear_model/_sag.py:350: ConvergenceWarning: The max_iter was reached which means the coef_ did not converge\n",
      "  warnings.warn(\n",
      "/Library/Frameworks/Python.framework/Versions/3.10/lib/python3.10/site-packages/sklearn/linear_model/_sag.py:350: ConvergenceWarning: The max_iter was reached which means the coef_ did not converge\n",
      "  warnings.warn(\n"
     ]
    },
    {
     "name": "stdout",
     "output_type": "stream",
     "text": [
      "[CV 4/5; 24/64] END C=0.7, penalty=None, solver=sag;, score=0.737 total time=  56.9s\n",
      "[CV 2/5; 30/64] START C=1, penalty=l2, solver=sag...............................\n",
      "[CV 5/5; 24/64] END C=0.7, penalty=None, solver=sag;, score=0.713 total time=  56.8s\n",
      "[CV 3/5; 30/64] START C=1, penalty=l2, solver=sag...............................\n",
      "[CV 2/5; 30/64] END C=1, penalty=l2, solver=sag;, score=0.772 total time=  11.3s\n",
      "[CV 4/5; 30/64] START C=1, penalty=l2, solver=sag...............................\n",
      "[CV 3/5; 30/64] END C=1, penalty=l2, solver=sag;, score=0.723 total time=  11.8s\n",
      "[CV 5/5; 30/64] START C=1, penalty=l2, solver=sag...............................\n",
      "[CV 1/5; 30/64] END C=1, penalty=l2, solver=sag;, score=0.787 total time=  13.0s\n",
      "[CV 1/5; 31/64] START C=1, penalty=None, solver=lbfgs...........................\n",
      "[CV 1/5; 31/64] END C=1, penalty=None, solver=lbfgs;, score=0.703 total time=   2.7s\n",
      "[CV 2/5; 31/64] START C=1, penalty=None, solver=lbfgs...........................\n",
      "[CV 2/5; 31/64] END C=1, penalty=None, solver=lbfgs;, score=0.690 total time=   2.4s\n",
      "[CV 3/5; 31/64] START C=1, penalty=None, solver=lbfgs...........................\n",
      "[CV 3/5; 31/64] END C=1, penalty=None, solver=lbfgs;, score=0.677 total time=   2.3s\n",
      "[CV 4/5; 31/64] START C=1, penalty=None, solver=lbfgs...........................\n",
      "[CV 4/5; 31/64] END C=1, penalty=None, solver=lbfgs;, score=0.708 total time=   1.9s\n",
      "[CV 5/5; 31/64] START C=1, penalty=None, solver=lbfgs...........................\n",
      "[CV 4/5; 30/64] END C=1, penalty=l2, solver=sag;, score=0.743 total time=  11.4s\n",
      "[CV 1/5; 32/64] START C=1, penalty=None, solver=sag.............................\n",
      "[CV 5/5; 31/64] END C=1, penalty=None, solver=lbfgs;, score=0.697 total time=   1.9s\n",
      "[CV 2/5; 32/64] START C=1, penalty=None, solver=sag.............................\n",
      "[CV 5/5; 30/64] END C=1, penalty=l2, solver=sag;, score=0.732 total time=  12.7s\n",
      "[CV 3/5; 32/64] START C=1, penalty=None, solver=sag.............................\n"
     ]
    },
    {
     "name": "stderr",
     "output_type": "stream",
     "text": [
      "/Library/Frameworks/Python.framework/Versions/3.10/lib/python3.10/site-packages/sklearn/linear_model/_sag.py:350: ConvergenceWarning: The max_iter was reached which means the coef_ did not converge\n",
      "  warnings.warn(\n"
     ]
    },
    {
     "name": "stdout",
     "output_type": "stream",
     "text": [
      "[CV 1/5; 28/64] END C=0.9, penalty=None, solver=sag;, score=0.762 total time=  56.8s\n",
      "[CV 4/5; 32/64] START C=1, penalty=None, solver=sag.............................\n"
     ]
    },
    {
     "name": "stderr",
     "output_type": "stream",
     "text": [
      "/Library/Frameworks/Python.framework/Versions/3.10/lib/python3.10/site-packages/sklearn/linear_model/_sag.py:350: ConvergenceWarning: The max_iter was reached which means the coef_ did not converge\n",
      "  warnings.warn(\n"
     ]
    },
    {
     "name": "stdout",
     "output_type": "stream",
     "text": [
      "[CV 3/5; 28/64] END C=0.9, penalty=None, solver=sag;, score=0.708 total time=  56.9s\n",
      "[CV 5/5; 32/64] START C=1, penalty=None, solver=sag.............................\n"
     ]
    },
    {
     "name": "stderr",
     "output_type": "stream",
     "text": [
      "/Library/Frameworks/Python.framework/Versions/3.10/lib/python3.10/site-packages/sklearn/linear_model/_sag.py:350: ConvergenceWarning: The max_iter was reached which means the coef_ did not converge\n",
      "  warnings.warn(\n"
     ]
    },
    {
     "name": "stdout",
     "output_type": "stream",
     "text": [
      "[CV 2/5; 28/64] END C=0.9, penalty=None, solver=sag;, score=0.735 total time=  57.5s\n",
      "[CV 1/5; 33/64] START C=0.01, penalty=l1, solver=liblinear......................\n",
      "[CV 1/5; 33/64] END C=0.01, penalty=l1, solver=liblinear;, score=0.757 total time=   0.1s\n",
      "[CV 2/5; 33/64] START C=0.01, penalty=l1, solver=liblinear......................\n",
      "[CV 2/5; 33/64] END C=0.01, penalty=l1, solver=liblinear;, score=0.763 total time=   0.1s\n",
      "[CV 3/5; 33/64] START C=0.01, penalty=l1, solver=liblinear......................\n",
      "[CV 3/5; 33/64] END C=0.01, penalty=l1, solver=liblinear;, score=0.742 total time=   0.1s\n",
      "[CV 4/5; 33/64] START C=0.01, penalty=l1, solver=liblinear......................\n",
      "[CV 4/5; 33/64] END C=0.01, penalty=l1, solver=liblinear;, score=0.728 total time=   0.1s\n",
      "[CV 5/5; 33/64] START C=0.01, penalty=l1, solver=liblinear......................\n",
      "[CV 5/5; 33/64] END C=0.01, penalty=l1, solver=liblinear;, score=0.725 total time=   0.1s\n",
      "[CV 1/5; 34/64] START C=0.01, penalty=l1, solver=saga...........................\n",
      "[CV 1/5; 34/64] END C=0.01, penalty=l1, solver=saga;, score=0.757 total time=   0.5s\n",
      "[CV 2/5; 34/64] START C=0.01, penalty=l1, solver=saga...........................\n",
      "[CV 2/5; 34/64] END C=0.01, penalty=l1, solver=saga;, score=0.763 total time=   0.8s\n",
      "[CV 3/5; 34/64] START C=0.01, penalty=l1, solver=saga...........................\n",
      "[CV 3/5; 34/64] END C=0.01, penalty=l1, solver=saga;, score=0.742 total time=   0.8s\n",
      "[CV 4/5; 34/64] START C=0.01, penalty=l1, solver=saga...........................\n",
      "[CV 4/5; 34/64] END C=0.01, penalty=l1, solver=saga;, score=0.728 total time=   0.8s\n",
      "[CV 5/5; 34/64] START C=0.01, penalty=l1, solver=saga...........................\n",
      "[CV 5/5; 34/64] END C=0.01, penalty=l1, solver=saga;, score=0.725 total time=   0.7s\n",
      "[CV 1/5; 35/64] START C=0.01, penalty=l2, solver=liblinear......................\n",
      "[CV 1/5; 35/64] END C=0.01, penalty=l2, solver=liblinear;, score=0.792 total time=   0.2s\n",
      "[CV 2/5; 35/64] START C=0.01, penalty=l2, solver=liblinear......................\n",
      "[CV 2/5; 35/64] END C=0.01, penalty=l2, solver=liblinear;, score=0.772 total time=   0.2s\n",
      "[CV 3/5; 35/64] START C=0.01, penalty=l2, solver=liblinear......................\n",
      "[CV 3/5; 35/64] END C=0.01, penalty=l2, solver=liblinear;, score=0.735 total time=   0.1s\n",
      "[CV 4/5; 35/64] START C=0.01, penalty=l2, solver=liblinear......................\n",
      "[CV 4/5; 35/64] END C=0.01, penalty=l2, solver=liblinear;, score=0.765 total time=   0.2s\n",
      "[CV 5/5; 35/64] START C=0.01, penalty=l2, solver=liblinear......................\n",
      "[CV 5/5; 35/64] END C=0.01, penalty=l2, solver=liblinear;, score=0.738 total time=   0.1s\n",
      "[CV 1/5; 36/64] START C=0.01, penalty=l2, solver=saga...........................\n"
     ]
    },
    {
     "name": "stderr",
     "output_type": "stream",
     "text": [
      "/Library/Frameworks/Python.framework/Versions/3.10/lib/python3.10/site-packages/sklearn/linear_model/_sag.py:350: ConvergenceWarning: The max_iter was reached which means the coef_ did not converge\n",
      "  warnings.warn(\n"
     ]
    },
    {
     "name": "stdout",
     "output_type": "stream",
     "text": [
      "[CV 4/5; 28/64] END C=0.9, penalty=None, solver=sag;, score=0.737 total time=  57.7s\n",
      "[CV 2/5; 36/64] START C=0.01, penalty=l2, solver=saga...........................\n"
     ]
    },
    {
     "name": "stderr",
     "output_type": "stream",
     "text": [
      "/Library/Frameworks/Python.framework/Versions/3.10/lib/python3.10/site-packages/sklearn/linear_model/_sag.py:350: ConvergenceWarning: The max_iter was reached which means the coef_ did not converge\n",
      "  warnings.warn(\n"
     ]
    },
    {
     "name": "stdout",
     "output_type": "stream",
     "text": [
      "[CV 5/5; 28/64] END C=0.9, penalty=None, solver=sag;, score=0.713 total time=  57.9s\n",
      "[CV 3/5; 36/64] START C=0.01, penalty=l2, solver=saga...........................\n",
      "[CV 1/5; 36/64] END C=0.01, penalty=l2, solver=saga;, score=0.795 total time=   4.7s\n",
      "[CV 4/5; 36/64] START C=0.01, penalty=l2, solver=saga...........................\n",
      "[CV 2/5; 36/64] END C=0.01, penalty=l2, solver=saga;, score=0.777 total time=   4.8s\n",
      "[CV 5/5; 36/64] START C=0.01, penalty=l2, solver=saga...........................\n",
      "[CV 3/5; 36/64] END C=0.01, penalty=l2, solver=saga;, score=0.737 total time=   4.7s\n",
      "[CV 1/5; 37/64] START C=0.05, penalty=l1, solver=liblinear......................\n",
      "[CV 1/5; 37/64] END C=0.05, penalty=l1, solver=liblinear;, score=0.767 total time=   0.1s\n",
      "[CV 2/5; 37/64] START C=0.05, penalty=l1, solver=liblinear......................\n",
      "[CV 2/5; 37/64] END C=0.05, penalty=l1, solver=liblinear;, score=0.767 total time=   0.1s\n",
      "[CV 3/5; 37/64] START C=0.05, penalty=l1, solver=liblinear......................\n",
      "[CV 3/5; 37/64] END C=0.05, penalty=l1, solver=liblinear;, score=0.732 total time=   0.1s\n",
      "[CV 4/5; 37/64] START C=0.05, penalty=l1, solver=liblinear......................\n",
      "[CV 4/5; 37/64] END C=0.05, penalty=l1, solver=liblinear;, score=0.735 total time=   0.1s\n",
      "[CV 5/5; 37/64] START C=0.05, penalty=l1, solver=liblinear......................\n",
      "[CV 4/5; 36/64] END C=0.01, penalty=l2, solver=saga;, score=0.765 total time=   4.8s\n",
      "[CV 5/5; 37/64] END C=0.05, penalty=l1, solver=liblinear;, score=0.730 total time=   0.1s\n",
      "[CV 1/5; 38/64] START C=0.05, penalty=l1, solver=saga...........................\n",
      "[CV 2/5; 38/64] START C=0.05, penalty=l1, solver=saga...........................\n",
      "[CV 2/5; 38/64] END C=0.05, penalty=l1, solver=saga;, score=0.768 total time=   3.2s\n",
      "[CV 3/5; 38/64] START C=0.05, penalty=l1, solver=saga...........................\n",
      "[CV 1/5; 38/64] END C=0.05, penalty=l1, solver=saga;, score=0.770 total time=   3.5s\n",
      "[CV 4/5; 38/64] START C=0.05, penalty=l1, solver=saga...........................\n",
      "[CV 5/5; 36/64] END C=0.01, penalty=l2, solver=saga;, score=0.740 total time=   5.1s\n",
      "[CV 5/5; 38/64] START C=0.05, penalty=l1, solver=saga...........................\n",
      "[CV 4/5; 38/64] END C=0.05, penalty=l1, solver=saga;, score=0.733 total time=   2.9s\n",
      "[CV 1/5; 39/64] START C=0.05, penalty=l2, solver=liblinear......................\n",
      "[CV 1/5; 39/64] END C=0.05, penalty=l2, solver=liblinear;, score=0.787 total time=   0.2s\n",
      "[CV 2/5; 39/64] START C=0.05, penalty=l2, solver=liblinear......................\n",
      "[CV 2/5; 39/64] END C=0.05, penalty=l2, solver=liblinear;, score=0.785 total time=   0.2s\n",
      "[CV 3/5; 39/64] START C=0.05, penalty=l2, solver=liblinear......................\n",
      "[CV 3/5; 38/64] END C=0.05, penalty=l1, solver=saga;, score=0.740 total time=   3.6s\n",
      "[CV 4/5; 39/64] START C=0.05, penalty=l2, solver=liblinear......................\n",
      "[CV 5/5; 38/64] END C=0.05, penalty=l1, solver=saga;, score=0.737 total time=   3.1s\n",
      "[CV 3/5; 39/64] END C=0.05, penalty=l2, solver=liblinear;, score=0.735 total time=   0.2s\n",
      "[CV 5/5; 39/64] START C=0.05, penalty=l2, solver=liblinear......................\n",
      "[CV 1/5; 40/64] START C=0.05, penalty=l2, solver=saga...........................\n",
      "[CV 4/5; 39/64] END C=0.05, penalty=l2, solver=liblinear;, score=0.772 total time=   0.2s\n",
      "[CV 2/5; 40/64] START C=0.05, penalty=l2, solver=saga...........................\n",
      "[CV 5/5; 39/64] END C=0.05, penalty=l2, solver=liblinear;, score=0.748 total time=   0.2s\n",
      "[CV 3/5; 40/64] START C=0.05, penalty=l2, solver=saga...........................\n",
      "[CV 1/5; 40/64] END C=0.05, penalty=l2, solver=saga;, score=0.790 total time=   8.2s\n",
      "[CV 4/5; 40/64] START C=0.05, penalty=l2, solver=saga...........................\n",
      "[CV 2/5; 40/64] END C=0.05, penalty=l2, solver=saga;, score=0.783 total time=   8.3s\n",
      "[CV 5/5; 40/64] START C=0.05, penalty=l2, solver=saga...........................\n",
      "[CV 3/5; 40/64] END C=0.05, penalty=l2, solver=saga;, score=0.738 total time=   8.8s\n",
      "[CV 1/5; 41/64] START C=0.1, penalty=l1, solver=liblinear.......................\n",
      "[CV 1/5; 41/64] END C=0.1, penalty=l1, solver=liblinear;, score=0.783 total time=   0.1s\n",
      "[CV 2/5; 41/64] START C=0.1, penalty=l1, solver=liblinear.......................\n",
      "[CV 2/5; 41/64] END C=0.1, penalty=l1, solver=liblinear;, score=0.785 total time=   0.1s\n",
      "[CV 3/5; 41/64] START C=0.1, penalty=l1, solver=liblinear.......................\n",
      "[CV 3/5; 41/64] END C=0.1, penalty=l1, solver=liblinear;, score=0.742 total time=   0.1s\n",
      "[CV 4/5; 41/64] START C=0.1, penalty=l1, solver=liblinear.......................\n",
      "[CV 4/5; 41/64] END C=0.1, penalty=l1, solver=liblinear;, score=0.745 total time=   0.1s\n",
      "[CV 5/5; 41/64] START C=0.1, penalty=l1, solver=liblinear.......................\n",
      "[CV 5/5; 41/64] END C=0.1, penalty=l1, solver=liblinear;, score=0.745 total time=   0.2s\n",
      "[CV 1/5; 42/64] START C=0.1, penalty=l1, solver=saga............................\n",
      "[CV 1/5; 42/64] END C=0.1, penalty=l1, solver=saga;, score=0.780 total time=   5.7s\n",
      "[CV 2/5; 42/64] START C=0.1, penalty=l1, solver=saga............................\n",
      "[CV 2/5; 32/64] END C=1, penalty=None, solver=sag;, score=0.735 total time=  58.6s\n",
      "[CV 3/5; 42/64] START C=0.1, penalty=l1, solver=saga............................\n"
     ]
    },
    {
     "name": "stderr",
     "output_type": "stream",
     "text": [
      "/Library/Frameworks/Python.framework/Versions/3.10/lib/python3.10/site-packages/sklearn/linear_model/_sag.py:350: ConvergenceWarning: The max_iter was reached which means the coef_ did not converge\n",
      "  warnings.warn(\n",
      "/Library/Frameworks/Python.framework/Versions/3.10/lib/python3.10/site-packages/sklearn/linear_model/_sag.py:350: ConvergenceWarning: The max_iter was reached which means the coef_ did not converge\n",
      "  warnings.warn(\n"
     ]
    },
    {
     "name": "stdout",
     "output_type": "stream",
     "text": [
      "[CV 1/5; 32/64] END C=1, penalty=None, solver=sag;, score=0.762 total time=  59.2s\n",
      "[CV 4/5; 42/64] START C=0.1, penalty=l1, solver=saga............................\n",
      "[CV 4/5; 40/64] END C=0.05, penalty=l2, solver=saga;, score=0.770 total time=   8.4s\n",
      "[CV 5/5; 42/64] START C=0.1, penalty=l1, solver=saga............................\n"
     ]
    },
    {
     "name": "stderr",
     "output_type": "stream",
     "text": [
      "/Library/Frameworks/Python.framework/Versions/3.10/lib/python3.10/site-packages/sklearn/linear_model/_sag.py:350: ConvergenceWarning: The max_iter was reached which means the coef_ did not converge\n",
      "  warnings.warn(\n"
     ]
    },
    {
     "name": "stdout",
     "output_type": "stream",
     "text": [
      "[CV 3/5; 32/64] END C=1, penalty=None, solver=sag;, score=0.708 total time=  59.4s\n",
      "[CV 1/5; 43/64] START C=0.1, penalty=l2, solver=liblinear.......................\n",
      "[CV 1/5; 43/64] END C=0.1, penalty=l2, solver=liblinear;, score=0.783 total time=   0.2s\n",
      "[CV 2/5; 43/64] START C=0.1, penalty=l2, solver=liblinear.......................\n",
      "[CV 5/5; 40/64] END C=0.05, penalty=l2, solver=saga;, score=0.750 total time=   9.6s\n",
      "[CV 3/5; 43/64] START C=0.1, penalty=l2, solver=liblinear.......................\n",
      "[CV 2/5; 43/64] END C=0.1, penalty=l2, solver=liblinear;, score=0.773 total time=   0.2s\n",
      "[CV 4/5; 43/64] START C=0.1, penalty=l2, solver=liblinear.......................\n",
      "[CV 3/5; 43/64] END C=0.1, penalty=l2, solver=liblinear;, score=0.732 total time=   0.2s\n",
      "[CV 5/5; 43/64] START C=0.1, penalty=l2, solver=liblinear.......................\n",
      "[CV 4/5; 43/64] END C=0.1, penalty=l2, solver=liblinear;, score=0.770 total time=   0.2s\n",
      "[CV 1/5; 44/64] START C=0.1, penalty=l2, solver=saga............................\n",
      "[CV 5/5; 43/64] END C=0.1, penalty=l2, solver=liblinear;, score=0.745 total time=   0.2s\n",
      "[CV 2/5; 44/64] START C=0.1, penalty=l2, solver=saga............................\n",
      "[CV 4/5; 42/64] END C=0.1, penalty=l1, solver=saga;, score=0.743 total time=   8.2s\n",
      "[CV 3/5; 44/64] START C=0.1, penalty=l2, solver=saga............................\n",
      "[CV 5/5; 42/64] END C=0.1, penalty=l1, solver=saga;, score=0.748 total time=   7.8s\n",
      "[CV 4/5; 44/64] START C=0.1, penalty=l2, solver=saga............................\n",
      "[CV 2/5; 42/64] END C=0.1, penalty=l1, solver=saga;, score=0.783 total time=  10.2s\n",
      "[CV 5/5; 44/64] START C=0.1, penalty=l2, solver=saga............................\n",
      "[CV 3/5; 42/64] END C=0.1, penalty=l1, solver=saga;, score=0.742 total time=  11.0s\n",
      "[CV 1/5; 45/64] START C=0.3, penalty=l1, solver=liblinear.......................\n",
      "[CV 1/5; 45/64] END C=0.3, penalty=l1, solver=liblinear;, score=0.803 total time=   0.3s\n",
      "[CV 2/5; 45/64] START C=0.3, penalty=l1, solver=liblinear.......................\n",
      "[CV 2/5; 45/64] END C=0.3, penalty=l1, solver=liblinear;, score=0.762 total time=   0.2s\n",
      "[CV 3/5; 45/64] START C=0.3, penalty=l1, solver=liblinear.......................\n",
      "[CV 2/5; 44/64] END C=0.1, penalty=l2, solver=saga;, score=0.773 total time=   8.8s\n",
      "[CV 4/5; 45/64] START C=0.3, penalty=l1, solver=liblinear.......................\n",
      "[CV 1/5; 44/64] END C=0.1, penalty=l2, solver=saga;, score=0.787 total time=   8.9s\n",
      "[CV 5/5; 45/64] START C=0.3, penalty=l1, solver=liblinear.......................\n",
      "[CV 3/5; 45/64] END C=0.3, penalty=l1, solver=liblinear;, score=0.745 total time=   0.3s\n",
      "[CV 1/5; 46/64] START C=0.3, penalty=l1, solver=saga............................\n",
      "[CV 4/5; 45/64] END C=0.3, penalty=l1, solver=liblinear;, score=0.757 total time=   0.1s\n",
      "[CV 2/5; 46/64] START C=0.3, penalty=l1, solver=saga............................\n",
      "[CV 5/5; 45/64] END C=0.3, penalty=l1, solver=liblinear;, score=0.757 total time=   0.5s\n",
      "[CV 3/5; 46/64] START C=0.3, penalty=l1, solver=saga............................\n",
      "[CV 4/5; 44/64] END C=0.1, penalty=l2, solver=saga;, score=0.768 total time=   8.2s\n",
      "[CV 4/5; 46/64] START C=0.3, penalty=l1, solver=saga............................\n",
      "[CV 3/5; 44/64] END C=0.1, penalty=l2, solver=saga;, score=0.733 total time=  10.1s\n",
      "[CV 5/5; 46/64] START C=0.3, penalty=l1, solver=saga............................\n",
      "[CV 5/5; 44/64] END C=0.1, penalty=l2, solver=saga;, score=0.747 total time=  10.5s\n",
      "[CV 1/5; 47/64] START C=0.3, penalty=l2, solver=liblinear.......................\n",
      "[CV 1/5; 47/64] END C=0.3, penalty=l2, solver=liblinear;, score=0.778 total time=   0.3s\n",
      "[CV 2/5; 47/64] START C=0.3, penalty=l2, solver=liblinear.......................\n",
      "[CV 2/5; 47/64] END C=0.3, penalty=l2, solver=liblinear;, score=0.772 total time=   0.3s\n",
      "[CV 3/5; 47/64] START C=0.3, penalty=l2, solver=liblinear.......................\n",
      "[CV 3/5; 47/64] END C=0.3, penalty=l2, solver=liblinear;, score=0.728 total time=   0.3s\n",
      "[CV 4/5; 47/64] START C=0.3, penalty=l2, solver=liblinear.......................\n",
      "[CV 4/5; 32/64] END C=1, penalty=None, solver=sag;, score=0.737 total time=  59.2s\n",
      "[CV 5/5; 47/64] START C=0.3, penalty=l2, solver=liblinear.......................\n"
     ]
    },
    {
     "name": "stderr",
     "output_type": "stream",
     "text": [
      "/Library/Frameworks/Python.framework/Versions/3.10/lib/python3.10/site-packages/sklearn/linear_model/_sag.py:350: ConvergenceWarning: The max_iter was reached which means the coef_ did not converge\n",
      "  warnings.warn(\n",
      "/Library/Frameworks/Python.framework/Versions/3.10/lib/python3.10/site-packages/sklearn/linear_model/_sag.py:350: ConvergenceWarning: The max_iter was reached which means the coef_ did not converge\n",
      "  warnings.warn(\n"
     ]
    },
    {
     "name": "stdout",
     "output_type": "stream",
     "text": [
      "[CV 5/5; 32/64] END C=1, penalty=None, solver=sag;, score=0.713 total time=  58.9s\n",
      "[CV 1/5; 48/64] START C=0.3, penalty=l2, solver=saga............................\n",
      "[CV 4/5; 47/64] END C=0.3, penalty=l2, solver=liblinear;, score=0.753 total time=   0.3s\n",
      "[CV 2/5; 48/64] START C=0.3, penalty=l2, solver=saga............................\n",
      "[CV 5/5; 47/64] END C=0.3, penalty=l2, solver=liblinear;, score=0.738 total time=   0.2s\n",
      "[CV 3/5; 48/64] START C=0.3, penalty=l2, solver=saga............................\n",
      "[CV 1/5; 48/64] END C=0.3, penalty=l2, solver=saga;, score=0.778 total time=   8.8s\n",
      "[CV 4/5; 48/64] START C=0.3, penalty=l2, solver=saga............................\n",
      "[CV 2/5; 48/64] END C=0.3, penalty=l2, solver=saga;, score=0.772 total time=   8.8s\n",
      "[CV 5/5; 48/64] START C=0.3, penalty=l2, solver=saga............................\n",
      "[CV 3/5; 48/64] END C=0.3, penalty=l2, solver=saga;, score=0.730 total time=   9.3s\n",
      "[CV 1/5; 49/64] START C=0.5, penalty=l1, solver=liblinear.......................\n",
      "[CV 1/5; 49/64] END C=0.5, penalty=l1, solver=liblinear;, score=0.792 total time=   0.2s\n",
      "[CV 2/5; 49/64] START C=0.5, penalty=l1, solver=liblinear.......................\n",
      "[CV 2/5; 49/64] END C=0.5, penalty=l1, solver=liblinear;, score=0.768 total time=   0.3s\n",
      "[CV 3/5; 49/64] START C=0.5, penalty=l1, solver=liblinear.......................\n",
      "[CV 3/5; 49/64] END C=0.5, penalty=l1, solver=liblinear;, score=0.733 total time=   0.3s\n",
      "[CV 4/5; 49/64] START C=0.5, penalty=l1, solver=liblinear.......................\n",
      "[CV 4/5; 49/64] END C=0.5, penalty=l1, solver=liblinear;, score=0.770 total time=   0.2s\n",
      "[CV 5/5; 49/64] START C=0.5, penalty=l1, solver=liblinear.......................\n",
      "[CV 5/5; 49/64] END C=0.5, penalty=l1, solver=liblinear;, score=0.757 total time=   0.5s\n",
      "[CV 1/5; 50/64] START C=0.5, penalty=l1, solver=saga............................\n",
      "[CV 4/5; 48/64] END C=0.3, penalty=l2, solver=saga;, score=0.753 total time=   8.6s\n",
      "[CV 2/5; 50/64] START C=0.5, penalty=l1, solver=saga............................\n",
      "[CV 5/5; 48/64] END C=0.3, penalty=l2, solver=saga;, score=0.738 total time=   8.8s\n",
      "[CV 3/5; 50/64] START C=0.5, penalty=l1, solver=saga............................\n",
      "[CV 2/5; 46/64] END C=0.3, penalty=l1, solver=saga;, score=0.765 total time=  32.2s\n",
      "[CV 4/5; 50/64] START C=0.5, penalty=l1, solver=saga............................\n",
      "[CV 3/5; 46/64] END C=0.3, penalty=l1, solver=saga;, score=0.743 total time=  43.3s\n",
      "[CV 5/5; 50/64] START C=0.5, penalty=l1, solver=saga............................\n",
      "[CV 4/5; 46/64] END C=0.3, penalty=l1, solver=saga;, score=0.757 total time=  44.6s\n",
      "[CV 1/5; 51/64] START C=0.5, penalty=l2, solver=liblinear.......................\n",
      "[CV 1/5; 51/64] END C=0.5, penalty=l2, solver=liblinear;, score=0.783 total time=   0.4s\n",
      "[CV 2/5; 51/64] START C=0.5, penalty=l2, solver=liblinear.......................\n",
      "[CV 2/5; 51/64] END C=0.5, penalty=l2, solver=liblinear;, score=0.773 total time=   0.3s\n",
      "[CV 3/5; 51/64] START C=0.5, penalty=l2, solver=liblinear.......................\n",
      "[CV 3/5; 51/64] END C=0.5, penalty=l2, solver=liblinear;, score=0.723 total time=   0.3s\n",
      "[CV 4/5; 51/64] START C=0.5, penalty=l2, solver=liblinear.......................\n",
      "[CV 4/5; 51/64] END C=0.5, penalty=l2, solver=liblinear;, score=0.758 total time=   0.4s\n",
      "[CV 5/5; 51/64] START C=0.5, penalty=l2, solver=liblinear.......................\n",
      "[CV 5/5; 51/64] END C=0.5, penalty=l2, solver=liblinear;, score=0.748 total time=   0.3s\n",
      "[CV 1/5; 52/64] START C=0.5, penalty=l2, solver=saga............................\n",
      "[CV 1/5; 46/64] END C=0.3, penalty=l1, solver=saga;, score=0.800 total time= 1.0min\n",
      "[CV 2/5; 52/64] START C=0.5, penalty=l2, solver=saga............................\n",
      "[CV 1/5; 52/64] END C=0.5, penalty=l2, solver=saga;, score=0.778 total time=  13.2s\n",
      "[CV 3/5; 52/64] START C=0.5, penalty=l2, solver=saga............................\n",
      "[CV 5/5; 46/64] END C=0.3, penalty=l1, solver=saga;, score=0.758 total time=  59.2s\n",
      "[CV 4/5; 52/64] START C=0.5, penalty=l2, solver=saga............................\n",
      "[CV 2/5; 52/64] END C=0.5, penalty=l2, solver=saga;, score=0.773 total time=  13.4s\n",
      "[CV 5/5; 52/64] START C=0.5, penalty=l2, solver=saga............................\n",
      "[CV 3/5; 50/64] END C=0.5, penalty=l1, solver=saga;, score=0.733 total time=  47.1s\n",
      "[CV 1/5; 53/64] START C=0.7, penalty=l1, solver=liblinear.......................\n",
      "[CV 1/5; 53/64] END C=0.7, penalty=l1, solver=liblinear;, score=0.788 total time=   0.3s\n",
      "[CV 2/5; 53/64] START C=0.7, penalty=l1, solver=liblinear.......................\n",
      "[CV 2/5; 53/64] END C=0.7, penalty=l1, solver=liblinear;, score=0.778 total time=   0.2s\n",
      "[CV 3/5; 53/64] START C=0.7, penalty=l1, solver=liblinear.......................\n",
      "[CV 3/5; 53/64] END C=0.7, penalty=l1, solver=liblinear;, score=0.738 total time=   0.3s\n",
      "[CV 4/5; 53/64] START C=0.7, penalty=l1, solver=liblinear.......................\n",
      "[CV 4/5; 53/64] END C=0.7, penalty=l1, solver=liblinear;, score=0.758 total time=   0.4s\n",
      "[CV 5/5; 53/64] START C=0.7, penalty=l1, solver=liblinear.......................\n",
      "[CV 5/5; 53/64] END C=0.7, penalty=l1, solver=liblinear;, score=0.748 total time=   0.3s\n",
      "[CV 1/5; 54/64] START C=0.7, penalty=l1, solver=saga............................\n",
      "[CV 4/5; 52/64] END C=0.5, penalty=l2, solver=saga;, score=0.757 total time=  12.6s\n",
      "[CV 2/5; 54/64] START C=0.7, penalty=l1, solver=saga............................\n",
      "[CV 3/5; 52/64] END C=0.5, penalty=l2, solver=saga;, score=0.723 total time=  13.9s\n",
      "[CV 3/5; 54/64] START C=0.7, penalty=l1, solver=saga............................\n",
      "[CV 5/5; 52/64] END C=0.5, penalty=l2, solver=saga;, score=0.750 total time=  12.5s\n",
      "[CV 4/5; 54/64] START C=0.7, penalty=l1, solver=saga............................\n",
      "[CV 2/5; 50/64] END C=0.5, penalty=l1, solver=saga;, score=0.768 total time= 1.1min\n",
      "[CV 5/5; 54/64] START C=0.7, penalty=l1, solver=saga............................\n",
      "[CV 4/5; 50/64] END C=0.5, penalty=l1, solver=saga;, score=0.767 total time= 1.1min\n",
      "[CV 1/5; 55/64] START C=0.7, penalty=l2, solver=liblinear.......................\n",
      "[CV 1/5; 55/64] END C=0.7, penalty=l2, solver=liblinear;, score=0.785 total time=   0.3s\n",
      "[CV 2/5; 55/64] START C=0.7, penalty=l2, solver=liblinear.......................\n",
      "[CV 2/5; 55/64] END C=0.7, penalty=l2, solver=liblinear;, score=0.773 total time=   0.3s\n",
      "[CV 3/5; 55/64] START C=0.7, penalty=l2, solver=liblinear.......................\n",
      "[CV 3/5; 55/64] END C=0.7, penalty=l2, solver=liblinear;, score=0.720 total time=   0.3s\n",
      "[CV 4/5; 55/64] START C=0.7, penalty=l2, solver=liblinear.......................\n",
      "[CV 4/5; 55/64] END C=0.7, penalty=l2, solver=liblinear;, score=0.745 total time=   0.3s\n",
      "[CV 5/5; 55/64] START C=0.7, penalty=l2, solver=liblinear.......................\n",
      "[CV 5/5; 55/64] END C=0.7, penalty=l2, solver=liblinear;, score=0.743 total time=   0.3s\n",
      "[CV 1/5; 56/64] START C=0.7, penalty=l2, solver=saga............................\n"
     ]
    },
    {
     "name": "stderr",
     "output_type": "stream",
     "text": [
      "/Library/Frameworks/Python.framework/Versions/3.10/lib/python3.10/site-packages/sklearn/linear_model/_sag.py:350: ConvergenceWarning: The max_iter was reached which means the coef_ did not converge\n",
      "  warnings.warn(\n"
     ]
    },
    {
     "name": "stdout",
     "output_type": "stream",
     "text": [
      "[CV 1/5; 50/64] END C=0.5, penalty=l1, solver=saga;, score=0.795 total time= 1.4min\n",
      "[CV 2/5; 56/64] START C=0.7, penalty=l2, solver=saga............................\n",
      "[CV 1/5; 56/64] END C=0.7, penalty=l2, solver=saga;, score=0.785 total time=  17.5s\n",
      "[CV 3/5; 56/64] START C=0.7, penalty=l2, solver=saga............................\n",
      "[CV 2/5; 56/64] END C=0.7, penalty=l2, solver=saga;, score=0.772 total time=  18.2s\n",
      "[CV 4/5; 56/64] START C=0.7, penalty=l2, solver=saga............................\n"
     ]
    },
    {
     "name": "stderr",
     "output_type": "stream",
     "text": [
      "/Library/Frameworks/Python.framework/Versions/3.10/lib/python3.10/site-packages/sklearn/linear_model/_sag.py:350: ConvergenceWarning: The max_iter was reached which means the coef_ did not converge\n",
      "  warnings.warn(\n"
     ]
    },
    {
     "name": "stdout",
     "output_type": "stream",
     "text": [
      "[CV 5/5; 50/64] END C=0.5, penalty=l1, solver=saga;, score=0.762 total time= 1.4min\n",
      "[CV 5/5; 56/64] START C=0.7, penalty=l2, solver=saga............................\n",
      "[CV 3/5; 54/64] END C=0.7, penalty=l1, solver=saga;, score=0.742 total time=  56.4s\n",
      "[CV 3/5; 56/64] END C=0.7, penalty=l2, solver=saga;, score=0.720 total time=  18.3s\n",
      "[CV 1/5; 57/64] START C=0.9, penalty=l1, solver=liblinear.......................\n",
      "[CV 2/5; 57/64] START C=0.9, penalty=l1, solver=liblinear.......................\n",
      "[CV 2/5; 57/64] END C=0.9, penalty=l1, solver=liblinear;, score=0.767 total time=   0.3s\n",
      "[CV 3/5; 57/64] START C=0.9, penalty=l1, solver=liblinear.......................\n",
      "[CV 1/5; 57/64] END C=0.9, penalty=l1, solver=liblinear;, score=0.782 total time=   0.4s\n",
      "[CV 4/5; 57/64] START C=0.9, penalty=l1, solver=liblinear.......................\n",
      "[CV 4/5; 57/64] END C=0.9, penalty=l1, solver=liblinear;, score=0.762 total time=   0.3s\n",
      "[CV 5/5; 57/64] START C=0.9, penalty=l1, solver=liblinear.......................\n",
      "[CV 5/5; 57/64] END C=0.9, penalty=l1, solver=liblinear;, score=0.750 total time=   0.4s\n",
      "[CV 1/5; 58/64] START C=0.9, penalty=l1, solver=saga............................\n",
      "[CV 3/5; 57/64] END C=0.9, penalty=l1, solver=liblinear;, score=0.732 total time=   1.1s\n",
      "[CV 2/5; 58/64] START C=0.9, penalty=l1, solver=saga............................\n",
      "[CV 4/5; 56/64] END C=0.7, penalty=l2, solver=saga;, score=0.745 total time=  16.8s\n",
      "[CV 3/5; 58/64] START C=0.9, penalty=l1, solver=saga............................\n",
      "[CV 5/5; 56/64] END C=0.7, penalty=l2, solver=saga;, score=0.743 total time=  16.5s\n",
      "[CV 4/5; 58/64] START C=0.9, penalty=l1, solver=saga............................\n",
      "[CV 4/5; 54/64] END C=0.7, penalty=l1, solver=saga;, score=0.760 total time= 1.2min\n",
      "[CV 5/5; 58/64] START C=0.9, penalty=l1, solver=saga............................\n"
     ]
    },
    {
     "name": "stderr",
     "output_type": "stream",
     "text": [
      "/Library/Frameworks/Python.framework/Versions/3.10/lib/python3.10/site-packages/sklearn/linear_model/_sag.py:350: ConvergenceWarning: The max_iter was reached which means the coef_ did not converge\n",
      "  warnings.warn(\n"
     ]
    },
    {
     "name": "stdout",
     "output_type": "stream",
     "text": [
      "[CV 1/5; 54/64] END C=0.7, penalty=l1, solver=saga;, score=0.788 total time= 1.4min\n",
      "[CV 1/5; 59/64] START C=0.9, penalty=l2, solver=liblinear.......................\n",
      "[CV 1/5; 59/64] END C=0.9, penalty=l2, solver=liblinear;, score=0.785 total time=   0.4s\n",
      "[CV 2/5; 59/64] START C=0.9, penalty=l2, solver=liblinear.......................\n",
      "[CV 2/5; 59/64] END C=0.9, penalty=l2, solver=liblinear;, score=0.768 total time=   0.3s\n",
      "[CV 3/5; 59/64] START C=0.9, penalty=l2, solver=liblinear.......................\n",
      "[CV 3/5; 59/64] END C=0.9, penalty=l2, solver=liblinear;, score=0.720 total time=   0.3s\n",
      "[CV 4/5; 59/64] START C=0.9, penalty=l2, solver=liblinear.......................\n",
      "[CV 4/5; 59/64] END C=0.9, penalty=l2, solver=liblinear;, score=0.745 total time=   0.3s\n",
      "[CV 5/5; 59/64] START C=0.9, penalty=l2, solver=liblinear.......................\n",
      "[CV 5/5; 59/64] END C=0.9, penalty=l2, solver=liblinear;, score=0.733 total time=   0.3s\n",
      "[CV 1/5; 60/64] START C=0.9, penalty=l2, solver=saga............................\n",
      "[CV 2/5; 54/64] END C=0.7, penalty=l1, solver=saga;, score=0.780 total time= 1.4min\n",
      "[CV 2/5; 60/64] START C=0.9, penalty=l2, solver=saga............................\n"
     ]
    },
    {
     "name": "stderr",
     "output_type": "stream",
     "text": [
      "/Library/Frameworks/Python.framework/Versions/3.10/lib/python3.10/site-packages/sklearn/linear_model/_sag.py:350: ConvergenceWarning: The max_iter was reached which means the coef_ did not converge\n",
      "  warnings.warn(\n"
     ]
    },
    {
     "name": "stdout",
     "output_type": "stream",
     "text": [
      "[CV 5/5; 54/64] END C=0.7, penalty=l1, solver=saga;, score=0.748 total time= 1.4min\n",
      "[CV 3/5; 60/64] START C=0.9, penalty=l2, solver=saga............................\n",
      "[CV 2/5; 60/64] END C=0.9, penalty=l2, solver=saga;, score=0.768 total time=  19.5s\n",
      "[CV 4/5; 60/64] START C=0.9, penalty=l2, solver=saga............................\n",
      "[CV 1/5; 60/64] END C=0.9, penalty=l2, solver=saga;, score=0.785 total time=  19.9s\n",
      "[CV 5/5; 60/64] START C=0.9, penalty=l2, solver=saga............................\n",
      "[CV 3/5; 60/64] END C=0.9, penalty=l2, solver=saga;, score=0.720 total time=  20.4s\n",
      "[CV 1/5; 61/64] START C=1, penalty=l1, solver=liblinear.........................\n",
      "[CV 1/5; 61/64] END C=1, penalty=l1, solver=liblinear;, score=0.783 total time=   0.9s\n",
      "[CV 2/5; 61/64] START C=1, penalty=l1, solver=liblinear.........................\n",
      "[CV 2/5; 61/64] END C=1, penalty=l1, solver=liblinear;, score=0.768 total time=   0.4s\n",
      "[CV 3/5; 61/64] START C=1, penalty=l1, solver=liblinear.........................\n",
      "[CV 3/5; 61/64] END C=1, penalty=l1, solver=liblinear;, score=0.733 total time=   0.5s\n",
      "[CV 4/5; 61/64] START C=1, penalty=l1, solver=liblinear.........................\n",
      "[CV 4/5; 61/64] END C=1, penalty=l1, solver=liblinear;, score=0.760 total time=   0.3s\n",
      "[CV 5/5; 61/64] START C=1, penalty=l1, solver=liblinear.........................\n",
      "[CV 5/5; 61/64] END C=1, penalty=l1, solver=liblinear;, score=0.743 total time=   0.7s\n",
      "[CV 1/5; 62/64] START C=1, penalty=l1, solver=saga..............................\n",
      "[CV 5/5; 60/64] END C=0.9, penalty=l2, solver=saga;, score=0.735 total time=  19.1s\n",
      "[CV 2/5; 62/64] START C=1, penalty=l1, solver=saga..............................\n",
      "[CV 4/5; 60/64] END C=0.9, penalty=l2, solver=saga;, score=0.747 total time=  19.2s\n",
      "[CV 3/5; 62/64] START C=1, penalty=l1, solver=saga..............................\n"
     ]
    },
    {
     "name": "stderr",
     "output_type": "stream",
     "text": [
      "/Library/Frameworks/Python.framework/Versions/3.10/lib/python3.10/site-packages/sklearn/linear_model/_sag.py:350: ConvergenceWarning: The max_iter was reached which means the coef_ did not converge\n",
      "  warnings.warn(\n"
     ]
    },
    {
     "name": "stdout",
     "output_type": "stream",
     "text": [
      "[CV 1/5; 58/64] END C=0.9, penalty=l1, solver=saga;, score=0.778 total time= 1.4min\n",
      "[CV 4/5; 62/64] START C=1, penalty=l1, solver=saga..............................\n"
     ]
    },
    {
     "name": "stderr",
     "output_type": "stream",
     "text": [
      "/Library/Frameworks/Python.framework/Versions/3.10/lib/python3.10/site-packages/sklearn/linear_model/_sag.py:350: ConvergenceWarning: The max_iter was reached which means the coef_ did not converge\n",
      "  warnings.warn(\n"
     ]
    },
    {
     "name": "stdout",
     "output_type": "stream",
     "text": [
      "[CV 2/5; 58/64] END C=0.9, penalty=l1, solver=saga;, score=0.765 total time= 1.4min\n",
      "[CV 5/5; 62/64] START C=1, penalty=l1, solver=saga..............................\n"
     ]
    },
    {
     "name": "stderr",
     "output_type": "stream",
     "text": [
      "/Library/Frameworks/Python.framework/Versions/3.10/lib/python3.10/site-packages/sklearn/linear_model/_sag.py:350: ConvergenceWarning: The max_iter was reached which means the coef_ did not converge\n",
      "  warnings.warn(\n"
     ]
    },
    {
     "name": "stdout",
     "output_type": "stream",
     "text": [
      "[CV 3/5; 58/64] END C=0.9, penalty=l1, solver=saga;, score=0.735 total time= 1.4min\n",
      "[CV 1/5; 63/64] START C=1, penalty=l2, solver=liblinear.........................\n",
      "[CV 1/5; 63/64] END C=1, penalty=l2, solver=liblinear;, score=0.785 total time=   0.3s\n",
      "[CV 2/5; 63/64] START C=1, penalty=l2, solver=liblinear.........................\n",
      "[CV 2/5; 63/64] END C=1, penalty=l2, solver=liblinear;, score=0.770 total time=   0.4s\n",
      "[CV 3/5; 63/64] START C=1, penalty=l2, solver=liblinear.........................\n",
      "[CV 3/5; 63/64] END C=1, penalty=l2, solver=liblinear;, score=0.722 total time=   0.3s\n",
      "[CV 4/5; 63/64] START C=1, penalty=l2, solver=liblinear.........................\n",
      "[CV 4/5; 63/64] END C=1, penalty=l2, solver=liblinear;, score=0.742 total time=   0.3s\n",
      "[CV 5/5; 63/64] START C=1, penalty=l2, solver=liblinear.........................\n",
      "[CV 5/5; 63/64] END C=1, penalty=l2, solver=liblinear;, score=0.732 total time=   0.3s\n",
      "[CV 1/5; 64/64] START C=1, penalty=l2, solver=saga..............................\n"
     ]
    },
    {
     "name": "stderr",
     "output_type": "stream",
     "text": [
      "/Library/Frameworks/Python.framework/Versions/3.10/lib/python3.10/site-packages/sklearn/linear_model/_sag.py:350: ConvergenceWarning: The max_iter was reached which means the coef_ did not converge\n",
      "  warnings.warn(\n"
     ]
    },
    {
     "name": "stdout",
     "output_type": "stream",
     "text": [
      "[CV 4/5; 58/64] END C=0.9, penalty=l1, solver=saga;, score=0.762 total time= 1.4min\n",
      "[CV 2/5; 64/64] START C=1, penalty=l2, solver=saga..............................\n"
     ]
    },
    {
     "name": "stderr",
     "output_type": "stream",
     "text": [
      "/Library/Frameworks/Python.framework/Versions/3.10/lib/python3.10/site-packages/sklearn/linear_model/_sag.py:350: ConvergenceWarning: The max_iter was reached which means the coef_ did not converge\n",
      "  warnings.warn(\n"
     ]
    },
    {
     "name": "stdout",
     "output_type": "stream",
     "text": [
      "[CV 5/5; 58/64] END C=0.9, penalty=l1, solver=saga;, score=0.748 total time= 1.4min\n",
      "[CV 3/5; 64/64] START C=1, penalty=l2, solver=saga..............................\n",
      "[CV 1/5; 64/64] END C=1, penalty=l2, solver=saga;, score=0.787 total time=  21.3s\n",
      "[CV 4/5; 64/64] START C=1, penalty=l2, solver=saga..............................\n",
      "[CV 2/5; 64/64] END C=1, penalty=l2, solver=saga;, score=0.772 total time=  20.7s\n",
      "[CV 5/5; 64/64] START C=1, penalty=l2, solver=saga..............................\n",
      "[CV 3/5; 64/64] END C=1, penalty=l2, solver=saga;, score=0.722 total time=  21.7s\n",
      "[CV 4/5; 64/64] END C=1, penalty=l2, solver=saga;, score=0.743 total time=  20.6s\n",
      "[CV 5/5; 64/64] END C=1, penalty=l2, solver=saga;, score=0.732 total time=  20.0s\n"
     ]
    },
    {
     "name": "stderr",
     "output_type": "stream",
     "text": [
      "/Library/Frameworks/Python.framework/Versions/3.10/lib/python3.10/site-packages/sklearn/linear_model/_sag.py:350: ConvergenceWarning: The max_iter was reached which means the coef_ did not converge\n",
      "  warnings.warn(\n"
     ]
    },
    {
     "name": "stdout",
     "output_type": "stream",
     "text": [
      "[CV 1/5; 62/64] END C=1, penalty=l1, solver=saga;, score=0.780 total time= 1.3min\n"
     ]
    },
    {
     "name": "stderr",
     "output_type": "stream",
     "text": [
      "/Library/Frameworks/Python.framework/Versions/3.10/lib/python3.10/site-packages/sklearn/linear_model/_sag.py:350: ConvergenceWarning: The max_iter was reached which means the coef_ did not converge\n",
      "  warnings.warn(\n"
     ]
    },
    {
     "name": "stdout",
     "output_type": "stream",
     "text": [
      "[CV 2/5; 62/64] END C=1, penalty=l1, solver=saga;, score=0.760 total time= 1.3min\n"
     ]
    },
    {
     "name": "stderr",
     "output_type": "stream",
     "text": [
      "/Library/Frameworks/Python.framework/Versions/3.10/lib/python3.10/site-packages/sklearn/linear_model/_sag.py:350: ConvergenceWarning: The max_iter was reached which means the coef_ did not converge\n",
      "  warnings.warn(\n"
     ]
    },
    {
     "name": "stdout",
     "output_type": "stream",
     "text": [
      "[CV 3/5; 62/64] END C=1, penalty=l1, solver=saga;, score=0.733 total time= 1.3min\n"
     ]
    },
    {
     "name": "stderr",
     "output_type": "stream",
     "text": [
      "/Library/Frameworks/Python.framework/Versions/3.10/lib/python3.10/site-packages/sklearn/linear_model/_sag.py:350: ConvergenceWarning: The max_iter was reached which means the coef_ did not converge\n",
      "  warnings.warn(\n"
     ]
    },
    {
     "name": "stdout",
     "output_type": "stream",
     "text": [
      "[CV 5/5; 62/64] END C=1, penalty=l1, solver=saga;, score=0.743 total time= 1.3min\n"
     ]
    },
    {
     "name": "stderr",
     "output_type": "stream",
     "text": [
      "/Library/Frameworks/Python.framework/Versions/3.10/lib/python3.10/site-packages/sklearn/linear_model/_sag.py:350: ConvergenceWarning: The max_iter was reached which means the coef_ did not converge\n",
      "  warnings.warn(\n"
     ]
    },
    {
     "name": "stdout",
     "output_type": "stream",
     "text": [
      "[CV 4/5; 62/64] END C=1, penalty=l1, solver=saga;, score=0.758 total time= 1.3min\n",
      "CPU times: user 4.51 s, sys: 665 ms, total: 5.18 s\n",
      "Wall time: 11min 8s\n"
     ]
    }
   ],
   "source": [
    "#use the grid search to look for hyperparameters\n",
    "grid_search = model_selection.GridSearchCV(\n",
    "    estimator=linear_model.LogisticRegression(\n",
    "        max_iter=2000,\n",
    "        random_state=42),\n",
    "    param_grid=param_grid, #search grid\n",
    "    cv=5, #no of folds\n",
    "    verbose=10, #logging output\n",
    "    n_jobs=-1 #cores used, all\n",
    ") \n",
    "\n",
    "#find the processing time\n",
    "%time grid_search.fit(X_train, y_train)\n",
    "\n",
    "#make a prediction\n",
    "y_train_pred = grid_search.predict(X_train)\n",
    "y_test_pred = grid_search.predict(X_test)"
   ]
  },
  {
   "cell_type": "code",
   "execution_count": 13,
   "metadata": {},
   "outputs": [
    {
     "name": "stdout",
     "output_type": "stream",
     "text": [
      "train data:\n",
      "f1_score: 0.843\n",
      "accuracy: 0.825\n",
      "\n",
      "test data\n",
      "f1_score: 0.787\n",
      "accuracy: 0.760\n",
      "\n",
      "best found hyperparameters for logistic regression using grid search:\n",
      "{'C': 0.05, 'penalty': 'l2', 'solver': 'lbfgs'}\n"
     ]
    }
   ],
   "source": [
    "#display the metrics\n",
    "print('train data:')\n",
    "print(f'f1_score: {metrics.f1_score(y_train, y_train_pred):.3f}')\n",
    "print(f'accuracy: {grid_search.score(X_train, y_train):.3f}')\n",
    "print()\n",
    "print('test data')\n",
    "print(f'f1_score: {metrics.f1_score(y_test, y_test_pred):.3f}')\n",
    "print(f'accuracy: {grid_search.score(X_test, y_test):.3f}')\n",
    "print()\n",
    "print('best found hyperparameters for logistic regression using grid search:')\n",
    "print(grid_search.best_params_)"
   ]
  },
  {
   "cell_type": "markdown",
   "metadata": {},
   "source": [
    "#### RandomizedSearchCV"
   ]
  },
  {
   "cell_type": "markdown",
   "metadata": {},
   "source": [
    "use the RandomizedSearch method to look for best hyperparameters"
   ]
  },
  {
   "cell_type": "code",
   "execution_count": 14,
   "metadata": {},
   "outputs": [
    {
     "name": "stdout",
     "output_type": "stream",
     "text": [
      "Fitting 5 folds for each of 20 candidates, totalling 100 fits\n",
      "[CV 3/5; 2/20] START C=0.05, penalty=l1, solver=saga............................\n",
      "[CV 3/5; 1/20] START C=1, penalty=l2, solver=saga...............................\n",
      "[CV 2/5; 1/20] START C=1, penalty=l2, solver=saga...............................\n",
      "[CV 4/5; 1/20] START C=1, penalty=l2, solver=saga...............................\n",
      "[CV 5/5; 1/20] START C=1, penalty=l2, solver=saga...............................\n",
      "[CV 1/5; 1/20] START C=1, penalty=l2, solver=saga...............................\n",
      "[CV 2/5; 2/20] START C=0.05, penalty=l1, solver=saga............................\n",
      "[CV 1/5; 2/20] START C=0.05, penalty=l1, solver=saga............................\n",
      "[CV 2/5; 2/20] END C=0.05, penalty=l1, solver=saga;, score=0.768 total time=   3.3s\n",
      "[CV 4/5; 2/20] START C=0.05, penalty=l1, solver=saga............................\n",
      "[CV 1/5; 2/20] END C=0.05, penalty=l1, solver=saga;, score=0.770 total time=   3.5s\n",
      "[CV 5/5; 2/20] START C=0.05, penalty=l1, solver=saga............................\n",
      "[CV 3/5; 2/20] END C=0.05, penalty=l1, solver=saga;, score=0.740 total time=   3.7s\n",
      "[CV 1/5; 3/20] START C=0.05, penalty=None, solver=lbfgs.........................\n"
     ]
    },
    {
     "name": "stderr",
     "output_type": "stream",
     "text": [
      "/Library/Frameworks/Python.framework/Versions/3.10/lib/python3.10/site-packages/sklearn/linear_model/_logistic.py:1186: UserWarning: Setting penalty=None will ignore the C and l1_ratio parameters\n",
      "  warnings.warn(\n"
     ]
    },
    {
     "name": "stdout",
     "output_type": "stream",
     "text": [
      "[CV 4/5; 2/20] END C=0.05, penalty=l1, solver=saga;, score=0.733 total time=   3.0s\n",
      "[CV 2/5; 3/20] START C=0.05, penalty=None, solver=lbfgs.........................\n",
      "[CV 1/5; 3/20] END C=0.05, penalty=None, solver=lbfgs;, score=0.703 total time=   2.7s\n",
      "[CV 3/5; 3/20] START C=0.05, penalty=None, solver=lbfgs.........................\n"
     ]
    },
    {
     "name": "stderr",
     "output_type": "stream",
     "text": [
      "/Library/Frameworks/Python.framework/Versions/3.10/lib/python3.10/site-packages/sklearn/linear_model/_logistic.py:1186: UserWarning: Setting penalty=None will ignore the C and l1_ratio parameters\n",
      "  warnings.warn(\n",
      "/Library/Frameworks/Python.framework/Versions/3.10/lib/python3.10/site-packages/sklearn/linear_model/_logistic.py:1186: UserWarning: Setting penalty=None will ignore the C and l1_ratio parameters\n",
      "  warnings.warn(\n"
     ]
    },
    {
     "name": "stdout",
     "output_type": "stream",
     "text": [
      "[CV 5/5; 2/20] END C=0.05, penalty=l1, solver=saga;, score=0.737 total time=   3.2s\n",
      "[CV 4/5; 3/20] START C=0.05, penalty=None, solver=lbfgs.........................\n"
     ]
    },
    {
     "name": "stderr",
     "output_type": "stream",
     "text": [
      "/Library/Frameworks/Python.framework/Versions/3.10/lib/python3.10/site-packages/sklearn/linear_model/_logistic.py:1186: UserWarning: Setting penalty=None will ignore the C and l1_ratio parameters\n",
      "  warnings.warn(\n"
     ]
    },
    {
     "name": "stdout",
     "output_type": "stream",
     "text": [
      "[CV 2/5; 3/20] END C=0.05, penalty=None, solver=lbfgs;, score=0.690 total time=   2.6s\n",
      "[CV 5/5; 3/20] START C=0.05, penalty=None, solver=lbfgs.........................\n",
      "[CV 4/5; 3/20] END C=0.05, penalty=None, solver=lbfgs;, score=0.708 total time=   2.3s\n",
      "[CV 1/5; 4/20] START C=0.01, penalty=l2, solver=liblinear.......................\n",
      "[CV 3/5; 3/20] END C=0.05, penalty=None, solver=lbfgs;, score=0.677 total time=   2.5s\n",
      "[CV 2/5; 4/20] START C=0.01, penalty=l2, solver=liblinear.......................\n",
      "[CV 1/5; 4/20] END C=0.01, penalty=l2, solver=liblinear;, score=0.792 total time=   0.1s\n",
      "[CV 3/5; 4/20] START C=0.01, penalty=l2, solver=liblinear.......................\n",
      "[CV 2/5; 4/20] END C=0.01, penalty=l2, solver=liblinear;, score=0.772 total time=   0.1s\n"
     ]
    },
    {
     "name": "stderr",
     "output_type": "stream",
     "text": [
      "/Library/Frameworks/Python.framework/Versions/3.10/lib/python3.10/site-packages/sklearn/linear_model/_logistic.py:1186: UserWarning: Setting penalty=None will ignore the C and l1_ratio parameters\n",
      "  warnings.warn(\n"
     ]
    },
    {
     "name": "stdout",
     "output_type": "stream",
     "text": [
      "[CV 4/5; 4/20] START C=0.01, penalty=l2, solver=liblinear.......................\n",
      "[CV 4/5; 4/20] END C=0.01, penalty=l2, solver=liblinear;, score=0.765 total time=   0.1s\n",
      "[CV 5/5; 4/20] START C=0.01, penalty=l2, solver=liblinear.......................\n",
      "[CV 3/5; 4/20] END C=0.01, penalty=l2, solver=liblinear;, score=0.735 total time=   0.2s\n",
      "[CV 1/5; 5/20] START C=0.3, penalty=l2, solver=saga.............................\n",
      "[CV 5/5; 4/20] END C=0.01, penalty=l2, solver=liblinear;, score=0.738 total time=   0.1s\n",
      "[CV 2/5; 5/20] START C=0.3, penalty=l2, solver=saga.............................\n",
      "[CV 5/5; 3/20] END C=0.05, penalty=None, solver=lbfgs;, score=0.697 total time=   2.1s\n",
      "[CV 3/5; 5/20] START C=0.3, penalty=l2, solver=saga.............................\n",
      "[CV 1/5; 5/20] END C=0.3, penalty=l2, solver=saga;, score=0.778 total time=   8.9s\n",
      "[CV 4/5; 5/20] START C=0.3, penalty=l2, solver=saga.............................\n",
      "[CV 2/5; 5/20] END C=0.3, penalty=l2, solver=saga;, score=0.772 total time=   8.8s\n",
      "[CV 5/5; 5/20] START C=0.3, penalty=l2, solver=saga.............................\n",
      "[CV 3/5; 5/20] END C=0.3, penalty=l2, solver=saga;, score=0.730 total time=   9.3s\n",
      "[CV 1/5; 6/20] START C=0.1, penalty=l2, solver=sag..............................\n",
      "[CV 2/5; 1/20] END C=1, penalty=l2, solver=saga;, score=0.772 total time=  21.4s\n",
      "[CV 2/5; 6/20] START C=0.1, penalty=l2, solver=sag..............................\n",
      "[CV 5/5; 1/20] END C=1, penalty=l2, solver=saga;, score=0.732 total time=  21.5s\n",
      "[CV 3/5; 6/20] START C=0.1, penalty=l2, solver=sag..............................\n",
      "[CV 4/5; 1/20] END C=1, penalty=l2, solver=saga;, score=0.743 total time=  21.7s\n",
      "[CV 4/5; 6/20] START C=0.1, penalty=l2, solver=sag..............................\n",
      "[CV 1/5; 1/20] END C=1, penalty=l2, solver=saga;, score=0.787 total time=  22.2s\n",
      "[CV 5/5; 6/20] START C=0.1, penalty=l2, solver=sag..............................\n",
      "[CV 3/5; 1/20] END C=1, penalty=l2, solver=saga;, score=0.722 total time=  22.7s\n",
      "[CV 1/5; 7/20] START C=0.05, penalty=l2, solver=saga............................\n",
      "[CV 5/5; 5/20] END C=0.3, penalty=l2, solver=saga;, score=0.738 total time=   8.5s\n",
      "[CV 2/5; 7/20] START C=0.05, penalty=l2, solver=saga............................\n",
      "[CV 4/5; 5/20] END C=0.3, penalty=l2, solver=saga;, score=0.753 total time=   8.7s\n",
      "[CV 3/5; 7/20] START C=0.05, penalty=l2, solver=saga............................\n",
      "[CV 1/5; 6/20] END C=0.1, penalty=l2, solver=sag;, score=0.788 total time=   9.0s\n",
      "[CV 4/5; 7/20] START C=0.05, penalty=l2, solver=saga............................\n",
      "[CV 4/5; 6/20] END C=0.1, penalty=l2, solver=sag;, score=0.768 total time=   8.7s\n",
      "[CV 5/5; 7/20] START C=0.05, penalty=l2, solver=saga............................\n",
      "[CV 2/5; 6/20] END C=0.1, penalty=l2, solver=sag;, score=0.770 total time=   9.0s\n",
      "[CV 1/5; 8/20] START C=0.01, penalty=l1, solver=liblinear.......................\n",
      "[CV 1/5; 8/20] END C=0.01, penalty=l1, solver=liblinear;, score=0.757 total time=   0.1s\n",
      "[CV 2/5; 8/20] START C=0.01, penalty=l1, solver=liblinear.......................\n",
      "[CV 2/5; 8/20] END C=0.01, penalty=l1, solver=liblinear;, score=0.763 total time=   0.1s\n",
      "[CV 3/5; 8/20] START C=0.01, penalty=l1, solver=liblinear.......................\n",
      "[CV 3/5; 8/20] END C=0.01, penalty=l1, solver=liblinear;, score=0.742 total time=   0.1s\n",
      "[CV 4/5; 8/20] START C=0.01, penalty=l1, solver=liblinear.......................\n",
      "[CV 4/5; 8/20] END C=0.01, penalty=l1, solver=liblinear;, score=0.728 total time=   0.1s\n",
      "[CV 5/5; 8/20] START C=0.01, penalty=l1, solver=liblinear.......................\n",
      "[CV 1/5; 7/20] END C=0.05, penalty=l2, solver=saga;, score=0.790 total time=   8.1s\n",
      "[CV 1/5; 9/20] START C=0.7, penalty=None, solver=sag............................\n",
      "[CV 5/5; 8/20] END C=0.01, penalty=l1, solver=liblinear;, score=0.725 total time=   0.1s\n",
      "[CV 2/5; 9/20] START C=0.7, penalty=None, solver=sag............................\n",
      "[CV 3/5; 6/20] END C=0.1, penalty=l2, solver=sag;, score=0.733 total time=   9.5s\n",
      "[CV 3/5; 9/20] START C=0.7, penalty=None, solver=sag............................\n"
     ]
    },
    {
     "name": "stderr",
     "output_type": "stream",
     "text": [
      "/Library/Frameworks/Python.framework/Versions/3.10/lib/python3.10/site-packages/sklearn/linear_model/_logistic.py:1186: UserWarning: Setting penalty=None will ignore the C and l1_ratio parameters\n",
      "  warnings.warn(\n",
      "/Library/Frameworks/Python.framework/Versions/3.10/lib/python3.10/site-packages/sklearn/linear_model/_logistic.py:1186: UserWarning: Setting penalty=None will ignore the C and l1_ratio parameters\n",
      "  warnings.warn(\n",
      "/Library/Frameworks/Python.framework/Versions/3.10/lib/python3.10/site-packages/sklearn/linear_model/_logistic.py:1186: UserWarning: Setting penalty=None will ignore the C and l1_ratio parameters\n",
      "  warnings.warn(\n"
     ]
    },
    {
     "name": "stdout",
     "output_type": "stream",
     "text": [
      "[CV 5/5; 6/20] END C=0.1, penalty=l2, solver=sag;, score=0.747 total time=   9.7s\n",
      "[CV 4/5; 9/20] START C=0.7, penalty=None, solver=sag............................\n"
     ]
    },
    {
     "name": "stderr",
     "output_type": "stream",
     "text": [
      "/Library/Frameworks/Python.framework/Versions/3.10/lib/python3.10/site-packages/sklearn/linear_model/_logistic.py:1186: UserWarning: Setting penalty=None will ignore the C and l1_ratio parameters\n",
      "  warnings.warn(\n"
     ]
    },
    {
     "name": "stdout",
     "output_type": "stream",
     "text": [
      "[CV 2/5; 7/20] END C=0.05, penalty=l2, solver=saga;, score=0.783 total time=   8.2s\n",
      "[CV 5/5; 9/20] START C=0.7, penalty=None, solver=sag............................\n"
     ]
    },
    {
     "name": "stderr",
     "output_type": "stream",
     "text": [
      "/Library/Frameworks/Python.framework/Versions/3.10/lib/python3.10/site-packages/sklearn/linear_model/_logistic.py:1186: UserWarning: Setting penalty=None will ignore the C and l1_ratio parameters\n",
      "  warnings.warn(\n"
     ]
    },
    {
     "name": "stdout",
     "output_type": "stream",
     "text": [
      "[CV 3/5; 7/20] END C=0.05, penalty=l2, solver=saga;, score=0.738 total time=   8.9s\n",
      "[CV 1/5; 10/20] START C=0.1, penalty=None, solver=lbfgs.........................\n"
     ]
    },
    {
     "name": "stderr",
     "output_type": "stream",
     "text": [
      "/Library/Frameworks/Python.framework/Versions/3.10/lib/python3.10/site-packages/sklearn/linear_model/_logistic.py:1186: UserWarning: Setting penalty=None will ignore the C and l1_ratio parameters\n",
      "  warnings.warn(\n"
     ]
    },
    {
     "name": "stdout",
     "output_type": "stream",
     "text": [
      "[CV 4/5; 7/20] END C=0.05, penalty=l2, solver=saga;, score=0.770 total time=   8.1s\n",
      "[CV 2/5; 10/20] START C=0.1, penalty=None, solver=lbfgs.........................\n"
     ]
    },
    {
     "name": "stderr",
     "output_type": "stream",
     "text": [
      "/Library/Frameworks/Python.framework/Versions/3.10/lib/python3.10/site-packages/sklearn/linear_model/_logistic.py:1186: UserWarning: Setting penalty=None will ignore the C and l1_ratio parameters\n",
      "  warnings.warn(\n"
     ]
    },
    {
     "name": "stdout",
     "output_type": "stream",
     "text": [
      "[CV 1/5; 10/20] END C=0.1, penalty=None, solver=lbfgs;, score=0.703 total time=   2.7s\n",
      "[CV 3/5; 10/20] START C=0.1, penalty=None, solver=lbfgs.........................\n"
     ]
    },
    {
     "name": "stderr",
     "output_type": "stream",
     "text": [
      "/Library/Frameworks/Python.framework/Versions/3.10/lib/python3.10/site-packages/sklearn/linear_model/_logistic.py:1186: UserWarning: Setting penalty=None will ignore the C and l1_ratio parameters\n",
      "  warnings.warn(\n"
     ]
    },
    {
     "name": "stdout",
     "output_type": "stream",
     "text": [
      "[CV 5/5; 7/20] END C=0.05, penalty=l2, solver=saga;, score=0.750 total time=   9.2s\n",
      "[CV 4/5; 10/20] START C=0.1, penalty=None, solver=lbfgs.........................\n"
     ]
    },
    {
     "name": "stderr",
     "output_type": "stream",
     "text": [
      "/Library/Frameworks/Python.framework/Versions/3.10/lib/python3.10/site-packages/sklearn/linear_model/_logistic.py:1186: UserWarning: Setting penalty=None will ignore the C and l1_ratio parameters\n",
      "  warnings.warn(\n"
     ]
    },
    {
     "name": "stdout",
     "output_type": "stream",
     "text": [
      "[CV 2/5; 10/20] END C=0.1, penalty=None, solver=lbfgs;, score=0.690 total time=   2.6s\n",
      "[CV 5/5; 10/20] START C=0.1, penalty=None, solver=lbfgs.........................\n"
     ]
    },
    {
     "name": "stderr",
     "output_type": "stream",
     "text": [
      "/Library/Frameworks/Python.framework/Versions/3.10/lib/python3.10/site-packages/sklearn/linear_model/_logistic.py:1186: UserWarning: Setting penalty=None will ignore the C and l1_ratio parameters\n",
      "  warnings.warn(\n"
     ]
    },
    {
     "name": "stdout",
     "output_type": "stream",
     "text": [
      "[CV 3/5; 10/20] END C=0.1, penalty=None, solver=lbfgs;, score=0.677 total time=   2.5s\n",
      "[CV 1/5; 11/20] START C=0.01, penalty=l2, solver=lbfgs..........................\n",
      "[CV 1/5; 11/20] END C=0.01, penalty=l2, solver=lbfgs;, score=0.793 total time=   0.2s\n",
      "[CV 2/5; 11/20] START C=0.01, penalty=l2, solver=lbfgs..........................\n",
      "[CV 2/5; 11/20] END C=0.01, penalty=l2, solver=lbfgs;, score=0.777 total time=   0.2s\n",
      "[CV 3/5; 11/20] START C=0.01, penalty=l2, solver=lbfgs..........................\n",
      "[CV 3/5; 11/20] END C=0.01, penalty=l2, solver=lbfgs;, score=0.737 total time=   0.2s\n",
      "[CV 4/5; 11/20] START C=0.01, penalty=l2, solver=lbfgs..........................\n",
      "[CV 4/5; 10/20] END C=0.1, penalty=None, solver=lbfgs;, score=0.708 total time=   2.2s\n",
      "[CV 5/5; 11/20] START C=0.01, penalty=l2, solver=lbfgs..........................\n",
      "[CV 4/5; 11/20] END C=0.01, penalty=l2, solver=lbfgs;, score=0.765 total time=   0.2s\n",
      "[CV 1/5; 12/20] START C=0.3, penalty=l2, solver=liblinear.......................\n",
      "[CV 5/5; 11/20] END C=0.01, penalty=l2, solver=lbfgs;, score=0.743 total time=   0.2s\n",
      "[CV 2/5; 12/20] START C=0.3, penalty=l2, solver=liblinear.......................\n",
      "[CV 5/5; 10/20] END C=0.1, penalty=None, solver=lbfgs;, score=0.697 total time=   2.1s\n",
      "[CV 3/5; 12/20] START C=0.3, penalty=l2, solver=liblinear.......................\n",
      "[CV 1/5; 12/20] END C=0.3, penalty=l2, solver=liblinear;, score=0.778 total time=   0.3s\n",
      "[CV 4/5; 12/20] START C=0.3, penalty=l2, solver=liblinear.......................\n",
      "[CV 2/5; 12/20] END C=0.3, penalty=l2, solver=liblinear;, score=0.772 total time=   0.2s\n",
      "[CV 5/5; 12/20] START C=0.3, penalty=l2, solver=liblinear.......................\n",
      "[CV 3/5; 12/20] END C=0.3, penalty=l2, solver=liblinear;, score=0.728 total time=   0.2s\n",
      "[CV 1/5; 13/20] START C=0.01, penalty=None, solver=sag..........................\n"
     ]
    },
    {
     "name": "stderr",
     "output_type": "stream",
     "text": [
      "/Library/Frameworks/Python.framework/Versions/3.10/lib/python3.10/site-packages/sklearn/linear_model/_logistic.py:1186: UserWarning: Setting penalty=None will ignore the C and l1_ratio parameters\n",
      "  warnings.warn(\n",
      "/Library/Frameworks/Python.framework/Versions/3.10/lib/python3.10/site-packages/sklearn/linear_model/_logistic.py:1186: UserWarning: Setting penalty=None will ignore the C and l1_ratio parameters\n",
      "  warnings.warn(\n",
      "/Library/Frameworks/Python.framework/Versions/3.10/lib/python3.10/site-packages/sklearn/linear_model/_logistic.py:1186: UserWarning: Setting penalty=None will ignore the C and l1_ratio parameters\n",
      "  warnings.warn(\n"
     ]
    },
    {
     "name": "stdout",
     "output_type": "stream",
     "text": [
      "[CV 4/5; 12/20] END C=0.3, penalty=l2, solver=liblinear;, score=0.753 total time=   0.2s\n",
      "[CV 2/5; 13/20] START C=0.01, penalty=None, solver=sag..........................\n",
      "[CV 5/5; 12/20] END C=0.3, penalty=l2, solver=liblinear;, score=0.738 total time=   0.2s\n",
      "[CV 3/5; 13/20] START C=0.01, penalty=None, solver=sag..........................\n"
     ]
    },
    {
     "name": "stderr",
     "output_type": "stream",
     "text": [
      "/Library/Frameworks/Python.framework/Versions/3.10/lib/python3.10/site-packages/sklearn/linear_model/_sag.py:350: ConvergenceWarning: The max_iter was reached which means the coef_ did not converge\n",
      "  warnings.warn(\n",
      "/Library/Frameworks/Python.framework/Versions/3.10/lib/python3.10/site-packages/sklearn/linear_model/_sag.py:350: ConvergenceWarning: The max_iter was reached which means the coef_ did not converge\n",
      "  warnings.warn(\n",
      "/Library/Frameworks/Python.framework/Versions/3.10/lib/python3.10/site-packages/sklearn/linear_model/_logistic.py:1186: UserWarning: Setting penalty=None will ignore the C and l1_ratio parameters\n",
      "  warnings.warn(\n",
      "/Library/Frameworks/Python.framework/Versions/3.10/lib/python3.10/site-packages/sklearn/linear_model/_logistic.py:1186: UserWarning: Setting penalty=None will ignore the C and l1_ratio parameters\n",
      "  warnings.warn(\n"
     ]
    },
    {
     "name": "stdout",
     "output_type": "stream",
     "text": [
      "[CV 3/5; 9/20] END C=0.7, penalty=None, solver=sag;, score=0.708 total time=  56.5s\n",
      "[CV 4/5; 13/20] START C=0.01, penalty=None, solver=sag..........................\n",
      "[CV 2/5; 9/20] END C=0.7, penalty=None, solver=sag;, score=0.735 total time=  56.6s\n",
      "[CV 5/5; 13/20] START C=0.01, penalty=None, solver=sag..........................\n"
     ]
    },
    {
     "name": "stderr",
     "output_type": "stream",
     "text": [
      "/Library/Frameworks/Python.framework/Versions/3.10/lib/python3.10/site-packages/sklearn/linear_model/_sag.py:350: ConvergenceWarning: The max_iter was reached which means the coef_ did not converge\n",
      "  warnings.warn(\n",
      "/Library/Frameworks/Python.framework/Versions/3.10/lib/python3.10/site-packages/sklearn/linear_model/_logistic.py:1186: UserWarning: Setting penalty=None will ignore the C and l1_ratio parameters\n",
      "  warnings.warn(\n"
     ]
    },
    {
     "name": "stdout",
     "output_type": "stream",
     "text": [
      "[CV 1/5; 9/20] END C=0.7, penalty=None, solver=sag;, score=0.762 total time=  57.0s\n",
      "[CV 1/5; 14/20] START C=0.3, penalty=None, solver=sag...........................\n"
     ]
    },
    {
     "name": "stderr",
     "output_type": "stream",
     "text": [
      "/Library/Frameworks/Python.framework/Versions/3.10/lib/python3.10/site-packages/sklearn/linear_model/_sag.py:350: ConvergenceWarning: The max_iter was reached which means the coef_ did not converge\n",
      "  warnings.warn(\n",
      "/Library/Frameworks/Python.framework/Versions/3.10/lib/python3.10/site-packages/sklearn/linear_model/_logistic.py:1186: UserWarning: Setting penalty=None will ignore the C and l1_ratio parameters\n",
      "  warnings.warn(\n"
     ]
    },
    {
     "name": "stdout",
     "output_type": "stream",
     "text": [
      "[CV 4/5; 9/20] END C=0.7, penalty=None, solver=sag;, score=0.737 total time=  56.5s\n",
      "[CV 2/5; 14/20] START C=0.3, penalty=None, solver=sag...........................\n"
     ]
    },
    {
     "name": "stderr",
     "output_type": "stream",
     "text": [
      "/Library/Frameworks/Python.framework/Versions/3.10/lib/python3.10/site-packages/sklearn/linear_model/_sag.py:350: ConvergenceWarning: The max_iter was reached which means the coef_ did not converge\n",
      "  warnings.warn(\n",
      "/Library/Frameworks/Python.framework/Versions/3.10/lib/python3.10/site-packages/sklearn/linear_model/_logistic.py:1186: UserWarning: Setting penalty=None will ignore the C and l1_ratio parameters\n",
      "  warnings.warn(\n"
     ]
    },
    {
     "name": "stdout",
     "output_type": "stream",
     "text": [
      "[CV 5/5; 9/20] END C=0.7, penalty=None, solver=sag;, score=0.713 total time=  56.6s\n",
      "[CV 3/5; 14/20] START C=0.3, penalty=None, solver=sag...........................\n"
     ]
    },
    {
     "name": "stderr",
     "output_type": "stream",
     "text": [
      "/Library/Frameworks/Python.framework/Versions/3.10/lib/python3.10/site-packages/sklearn/linear_model/_sag.py:350: ConvergenceWarning: The max_iter was reached which means the coef_ did not converge\n",
      "  warnings.warn(\n",
      "/Library/Frameworks/Python.framework/Versions/3.10/lib/python3.10/site-packages/sklearn/linear_model/_sag.py:350: ConvergenceWarning: The max_iter was reached which means the coef_ did not converge\n",
      "  warnings.warn(\n",
      "/Library/Frameworks/Python.framework/Versions/3.10/lib/python3.10/site-packages/sklearn/linear_model/_logistic.py:1186: UserWarning: Setting penalty=None will ignore the C and l1_ratio parameters\n",
      "  warnings.warn(\n",
      "/Library/Frameworks/Python.framework/Versions/3.10/lib/python3.10/site-packages/sklearn/linear_model/_logistic.py:1186: UserWarning: Setting penalty=None will ignore the C and l1_ratio parameters\n",
      "  warnings.warn(\n"
     ]
    },
    {
     "name": "stdout",
     "output_type": "stream",
     "text": [
      "[CV 1/5; 13/20] END C=0.01, penalty=None, solver=sag;, score=0.762 total time=  55.8s\n",
      "[CV 4/5; 14/20] START C=0.3, penalty=None, solver=sag...........................\n",
      "[CV 3/5; 13/20] END C=0.01, penalty=None, solver=sag;, score=0.708 total time=  55.7s\n",
      "[CV 5/5; 14/20] START C=0.3, penalty=None, solver=sag...........................\n"
     ]
    },
    {
     "name": "stderr",
     "output_type": "stream",
     "text": [
      "/Library/Frameworks/Python.framework/Versions/3.10/lib/python3.10/site-packages/sklearn/linear_model/_sag.py:350: ConvergenceWarning: The max_iter was reached which means the coef_ did not converge\n",
      "  warnings.warn(\n",
      "/Library/Frameworks/Python.framework/Versions/3.10/lib/python3.10/site-packages/sklearn/linear_model/_logistic.py:1186: UserWarning: Setting penalty=None will ignore the C and l1_ratio parameters\n",
      "  warnings.warn(\n"
     ]
    },
    {
     "name": "stdout",
     "output_type": "stream",
     "text": [
      "[CV 2/5; 13/20] END C=0.01, penalty=None, solver=sag;, score=0.735 total time=  56.2s\n",
      "[CV 1/5; 15/20] START C=0.9, penalty=None, solver=lbfgs.........................\n",
      "[CV 1/5; 15/20] END C=0.9, penalty=None, solver=lbfgs;, score=0.703 total time=   2.6s\n",
      "[CV 2/5; 15/20] START C=0.9, penalty=None, solver=lbfgs.........................\n"
     ]
    },
    {
     "name": "stderr",
     "output_type": "stream",
     "text": [
      "/Library/Frameworks/Python.framework/Versions/3.10/lib/python3.10/site-packages/sklearn/linear_model/_logistic.py:1186: UserWarning: Setting penalty=None will ignore the C and l1_ratio parameters\n",
      "  warnings.warn(\n"
     ]
    },
    {
     "name": "stdout",
     "output_type": "stream",
     "text": [
      "[CV 2/5; 15/20] END C=0.9, penalty=None, solver=lbfgs;, score=0.690 total time=   2.3s\n",
      "[CV 3/5; 15/20] START C=0.9, penalty=None, solver=lbfgs.........................\n"
     ]
    },
    {
     "name": "stderr",
     "output_type": "stream",
     "text": [
      "/Library/Frameworks/Python.framework/Versions/3.10/lib/python3.10/site-packages/sklearn/linear_model/_logistic.py:1186: UserWarning: Setting penalty=None will ignore the C and l1_ratio parameters\n",
      "  warnings.warn(\n"
     ]
    },
    {
     "name": "stdout",
     "output_type": "stream",
     "text": [
      "[CV 3/5; 15/20] END C=0.9, penalty=None, solver=lbfgs;, score=0.677 total time=   2.3s\n",
      "[CV 4/5; 15/20] START C=0.9, penalty=None, solver=lbfgs.........................\n"
     ]
    },
    {
     "name": "stderr",
     "output_type": "stream",
     "text": [
      "/Library/Frameworks/Python.framework/Versions/3.10/lib/python3.10/site-packages/sklearn/linear_model/_logistic.py:1186: UserWarning: Setting penalty=None will ignore the C and l1_ratio parameters\n",
      "  warnings.warn(\n"
     ]
    },
    {
     "name": "stdout",
     "output_type": "stream",
     "text": [
      "[CV 4/5; 15/20] END C=0.9, penalty=None, solver=lbfgs;, score=0.708 total time=   2.0s\n",
      "[CV 5/5; 15/20] START C=0.9, penalty=None, solver=lbfgs.........................\n"
     ]
    },
    {
     "name": "stderr",
     "output_type": "stream",
     "text": [
      "/Library/Frameworks/Python.framework/Versions/3.10/lib/python3.10/site-packages/sklearn/linear_model/_logistic.py:1186: UserWarning: Setting penalty=None will ignore the C and l1_ratio parameters\n",
      "  warnings.warn(\n"
     ]
    },
    {
     "name": "stdout",
     "output_type": "stream",
     "text": [
      "[CV 5/5; 15/20] END C=0.9, penalty=None, solver=lbfgs;, score=0.697 total time=   2.0s\n",
      "[CV 1/5; 16/20] START C=0.5, penalty=None, solver=lbfgs.........................\n"
     ]
    },
    {
     "name": "stderr",
     "output_type": "stream",
     "text": [
      "/Library/Frameworks/Python.framework/Versions/3.10/lib/python3.10/site-packages/sklearn/linear_model/_logistic.py:1186: UserWarning: Setting penalty=None will ignore the C and l1_ratio parameters\n",
      "  warnings.warn(\n"
     ]
    },
    {
     "name": "stdout",
     "output_type": "stream",
     "text": [
      "[CV 1/5; 16/20] END C=0.5, penalty=None, solver=lbfgs;, score=0.703 total time=   2.6s\n",
      "[CV 2/5; 16/20] START C=0.5, penalty=None, solver=lbfgs.........................\n"
     ]
    },
    {
     "name": "stderr",
     "output_type": "stream",
     "text": [
      "/Library/Frameworks/Python.framework/Versions/3.10/lib/python3.10/site-packages/sklearn/linear_model/_logistic.py:1186: UserWarning: Setting penalty=None will ignore the C and l1_ratio parameters\n",
      "  warnings.warn(\n"
     ]
    },
    {
     "name": "stdout",
     "output_type": "stream",
     "text": [
      "[CV 2/5; 16/20] END C=0.5, penalty=None, solver=lbfgs;, score=0.690 total time=   2.5s\n",
      "[CV 3/5; 16/20] START C=0.5, penalty=None, solver=lbfgs.........................\n"
     ]
    },
    {
     "name": "stderr",
     "output_type": "stream",
     "text": [
      "/Library/Frameworks/Python.framework/Versions/3.10/lib/python3.10/site-packages/sklearn/linear_model/_logistic.py:1186: UserWarning: Setting penalty=None will ignore the C and l1_ratio parameters\n",
      "  warnings.warn(\n"
     ]
    },
    {
     "name": "stdout",
     "output_type": "stream",
     "text": [
      "[CV 3/5; 16/20] END C=0.5, penalty=None, solver=lbfgs;, score=0.677 total time=   2.2s\n",
      "[CV 4/5; 16/20] START C=0.5, penalty=None, solver=lbfgs.........................\n"
     ]
    },
    {
     "name": "stderr",
     "output_type": "stream",
     "text": [
      "/Library/Frameworks/Python.framework/Versions/3.10/lib/python3.10/site-packages/sklearn/linear_model/_logistic.py:1186: UserWarning: Setting penalty=None will ignore the C and l1_ratio parameters\n",
      "  warnings.warn(\n"
     ]
    },
    {
     "name": "stdout",
     "output_type": "stream",
     "text": [
      "[CV 4/5; 16/20] END C=0.5, penalty=None, solver=lbfgs;, score=0.708 total time=   2.1s\n",
      "[CV 5/5; 16/20] START C=0.5, penalty=None, solver=lbfgs.........................\n"
     ]
    },
    {
     "name": "stderr",
     "output_type": "stream",
     "text": [
      "/Library/Frameworks/Python.framework/Versions/3.10/lib/python3.10/site-packages/sklearn/linear_model/_logistic.py:1186: UserWarning: Setting penalty=None will ignore the C and l1_ratio parameters\n",
      "  warnings.warn(\n"
     ]
    },
    {
     "name": "stdout",
     "output_type": "stream",
     "text": [
      "[CV 5/5; 16/20] END C=0.5, penalty=None, solver=lbfgs;, score=0.697 total time=   1.9s\n",
      "[CV 1/5; 17/20] START C=0.5, penalty=l1, solver=liblinear.......................\n",
      "[CV 1/5; 17/20] END C=0.5, penalty=l1, solver=liblinear;, score=0.792 total time=   0.3s\n",
      "[CV 2/5; 17/20] START C=0.5, penalty=l1, solver=liblinear.......................\n",
      "[CV 2/5; 17/20] END C=0.5, penalty=l1, solver=liblinear;, score=0.768 total time=   0.2s\n",
      "[CV 3/5; 17/20] START C=0.5, penalty=l1, solver=liblinear.......................\n",
      "[CV 3/5; 17/20] END C=0.5, penalty=l1, solver=liblinear;, score=0.733 total time=   0.3s\n",
      "[CV 4/5; 17/20] START C=0.5, penalty=l1, solver=liblinear.......................\n",
      "[CV 4/5; 17/20] END C=0.5, penalty=l1, solver=liblinear;, score=0.770 total time=   0.2s\n",
      "[CV 5/5; 17/20] START C=0.5, penalty=l1, solver=liblinear.......................\n",
      "[CV 5/5; 17/20] END C=0.5, penalty=l1, solver=liblinear;, score=0.757 total time=   0.5s\n",
      "[CV 1/5; 18/20] START C=0.5, penalty=l2, solver=sag.............................\n",
      "[CV 1/5; 18/20] END C=0.5, penalty=l2, solver=sag;, score=0.780 total time=  13.4s\n",
      "[CV 2/5; 18/20] START C=0.5, penalty=l2, solver=sag.............................\n"
     ]
    },
    {
     "name": "stderr",
     "output_type": "stream",
     "text": [
      "/Library/Frameworks/Python.framework/Versions/3.10/lib/python3.10/site-packages/sklearn/linear_model/_sag.py:350: ConvergenceWarning: The max_iter was reached which means the coef_ did not converge\n",
      "  warnings.warn(\n"
     ]
    },
    {
     "name": "stdout",
     "output_type": "stream",
     "text": [
      "[CV 5/5; 13/20] END C=0.01, penalty=None, solver=sag;, score=0.713 total time=  56.4s\n",
      "[CV 3/5; 18/20] START C=0.5, penalty=l2, solver=sag.............................\n"
     ]
    },
    {
     "name": "stderr",
     "output_type": "stream",
     "text": [
      "/Library/Frameworks/Python.framework/Versions/3.10/lib/python3.10/site-packages/sklearn/linear_model/_sag.py:350: ConvergenceWarning: The max_iter was reached which means the coef_ did not converge\n",
      "  warnings.warn(\n"
     ]
    },
    {
     "name": "stdout",
     "output_type": "stream",
     "text": [
      "[CV 4/5; 13/20] END C=0.01, penalty=None, solver=sag;, score=0.737 total time=  56.8s\n",
      "[CV 4/5; 18/20] START C=0.5, penalty=l2, solver=sag.............................\n"
     ]
    },
    {
     "name": "stderr",
     "output_type": "stream",
     "text": [
      "/Library/Frameworks/Python.framework/Versions/3.10/lib/python3.10/site-packages/sklearn/linear_model/_sag.py:350: ConvergenceWarning: The max_iter was reached which means the coef_ did not converge\n",
      "  warnings.warn(\n",
      "/Library/Frameworks/Python.framework/Versions/3.10/lib/python3.10/site-packages/sklearn/linear_model/_sag.py:350: ConvergenceWarning: The max_iter was reached which means the coef_ did not converge\n",
      "  warnings.warn(\n"
     ]
    },
    {
     "name": "stdout",
     "output_type": "stream",
     "text": [
      "[CV 1/5; 14/20] END C=0.3, penalty=None, solver=sag;, score=0.762 total time=  57.0s\n",
      "[CV 5/5; 18/20] START C=0.5, penalty=l2, solver=sag.............................\n",
      "[CV 2/5; 14/20] END C=0.3, penalty=None, solver=sag;, score=0.735 total time=  56.6s\n",
      "[CV 1/5; 19/20] START C=0.9, penalty=l2, solver=sag.............................\n"
     ]
    },
    {
     "name": "stderr",
     "output_type": "stream",
     "text": [
      "/Library/Frameworks/Python.framework/Versions/3.10/lib/python3.10/site-packages/sklearn/linear_model/_sag.py:350: ConvergenceWarning: The max_iter was reached which means the coef_ did not converge\n",
      "  warnings.warn(\n"
     ]
    },
    {
     "name": "stdout",
     "output_type": "stream",
     "text": [
      "[CV 3/5; 14/20] END C=0.3, penalty=None, solver=sag;, score=0.708 total time=  56.3s\n",
      "[CV 2/5; 19/20] START C=0.9, penalty=l2, solver=sag.............................\n",
      "[CV 2/5; 18/20] END C=0.5, penalty=l2, solver=sag;, score=0.773 total time=  12.3s\n",
      "[CV 3/5; 19/20] START C=0.9, penalty=l2, solver=sag.............................\n",
      "[CV 4/5; 18/20] END C=0.5, penalty=l2, solver=sag;, score=0.758 total time=   7.6s\n",
      "[CV 4/5; 19/20] START C=0.9, penalty=l2, solver=sag.............................\n"
     ]
    },
    {
     "name": "stderr",
     "output_type": "stream",
     "text": [
      "/Library/Frameworks/Python.framework/Versions/3.10/lib/python3.10/site-packages/sklearn/linear_model/_sag.py:350: ConvergenceWarning: The max_iter was reached which means the coef_ did not converge\n",
      "  warnings.warn(\n"
     ]
    },
    {
     "name": "stdout",
     "output_type": "stream",
     "text": [
      "[CV 4/5; 14/20] END C=0.3, penalty=None, solver=sag;, score=0.737 total time=  57.0s\n",
      "[CV 5/5; 19/20] START C=0.9, penalty=l2, solver=sag.............................\n"
     ]
    },
    {
     "name": "stderr",
     "output_type": "stream",
     "text": [
      "/Library/Frameworks/Python.framework/Versions/3.10/lib/python3.10/site-packages/sklearn/linear_model/_sag.py:350: ConvergenceWarning: The max_iter was reached which means the coef_ did not converge\n",
      "  warnings.warn(\n"
     ]
    },
    {
     "name": "stdout",
     "output_type": "stream",
     "text": [
      "[CV 5/5; 14/20] END C=0.3, penalty=None, solver=sag;, score=0.713 total time=  57.3s\n",
      "[CV 1/5; 20/20] START C=0.3, penalty=l2, solver=sag.............................\n",
      "[CV 3/5; 18/20] END C=0.5, penalty=l2, solver=sag;, score=0.723 total time=  12.8s\n",
      "[CV 2/5; 20/20] START C=0.3, penalty=l2, solver=sag.............................\n",
      "[CV 1/5; 19/20] END C=0.9, penalty=l2, solver=sag;, score=0.785 total time=  12.1s\n",
      "[CV 3/5; 20/20] START C=0.3, penalty=l2, solver=sag.............................\n",
      "[CV 5/5; 18/20] END C=0.5, penalty=l2, solver=sag;, score=0.750 total time=  13.5s\n",
      "[CV 4/5; 20/20] START C=0.3, penalty=l2, solver=sag.............................\n",
      "[CV 2/5; 19/20] END C=0.9, penalty=l2, solver=sag;, score=0.770 total time=  10.8s\n",
      "[CV 5/5; 20/20] START C=0.3, penalty=l2, solver=sag.............................\n",
      "[CV 3/5; 19/20] END C=0.9, penalty=l2, solver=sag;, score=0.720 total time=  11.0s\n",
      "[CV 4/5; 19/20] END C=0.9, penalty=l2, solver=sag;, score=0.747 total time=  10.5s\n",
      "[CV 5/5; 19/20] END C=0.9, penalty=l2, solver=sag;, score=0.735 total time=  11.0s\n",
      "[CV 1/5; 20/20] END C=0.3, penalty=l2, solver=sag;, score=0.778 total time=  12.3s\n",
      "[CV 4/5; 20/20] END C=0.3, penalty=l2, solver=sag;, score=0.752 total time=   9.9s\n",
      "[CV 2/5; 20/20] END C=0.3, penalty=l2, solver=sag;, score=0.773 total time=  11.8s\n",
      "[CV 3/5; 20/20] END C=0.3, penalty=l2, solver=sag;, score=0.730 total time=  12.2s\n",
      "[CV 5/5; 20/20] END C=0.3, penalty=l2, solver=sag;, score=0.738 total time=  12.2s\n",
      "CPU times: user 10.1 s, sys: 281 ms, total: 10.4 s\n",
      "Wall time: 3min 2s\n"
     ]
    }
   ],
   "source": [
    "#use the random search to look for hyperparameters\n",
    "random_search = model_selection.RandomizedSearchCV(\n",
    "    estimator=linear_model.LogisticRegression(\n",
    "        max_iter=2000,\n",
    "        random_state=42),\n",
    "    param_distributions=param_grid,\n",
    "    cv=5,\n",
    "    n_iter=20,\n",
    "    verbose=10,\n",
    "    n_jobs=-1\n",
    ")\n",
    "\n",
    "#find the processing time\n",
    "%time random_search.fit(X_train, y_train)\n",
    "\n",
    "#make a prediction\n",
    "y_train_pred = random_search.predict(X_train)\n",
    "y_test_pred = random_search.predict(X_test)"
   ]
  },
  {
   "cell_type": "code",
   "execution_count": 15,
   "metadata": {},
   "outputs": [
    {
     "name": "stdout",
     "output_type": "stream",
     "text": [
      "train data:\n",
      "f1_score: 0.843\n",
      "accuracy: 0.825\n",
      "\n",
      "test data\n",
      "f1_score: 0.788\n",
      "accuracy: 0.760\n",
      "\n",
      "best found hyperparameters for logistic regression using random search:\n",
      "{'solver': 'saga', 'penalty': 'l2', 'C': 0.05}\n"
     ]
    }
   ],
   "source": [
    "#display the metrics\n",
    "print('train data:')\n",
    "print(f'f1_score: {metrics.f1_score(y_train, y_train_pred):.3f}')\n",
    "print(f'accuracy: {random_search.score(X_train, y_train):.3f}')\n",
    "print()\n",
    "print('test data')\n",
    "print(f'f1_score: {metrics.f1_score(y_test, y_test_pred):.3f}')\n",
    "print(f'accuracy: {random_search.score(X_test, y_test):.3f}')\n",
    "print()\n",
    "print('best found hyperparameters for logistic regression using random search:')\n",
    "print(random_search.best_params_)"
   ]
  },
  {
   "cell_type": "markdown",
   "metadata": {},
   "source": [
    "#### Hyperopt"
   ]
  },
  {
   "cell_type": "markdown",
   "metadata": {},
   "source": [
    "use the Hyperopt method to look for best hyperparameters"
   ]
  },
  {
   "cell_type": "code",
   "execution_count": 16,
   "metadata": {},
   "outputs": [],
   "source": [
    "#set the list of coefficient levels\n",
    "coef_lst = [0.01, 0.05, 0.1, 0.3, 0.5, 0.7, 0.9, 1]\n",
    "\n",
    "#set the hyperpatameters for logistic regression\n",
    "hp_space_grid_1 = {\n",
    "    'penalty': hp.choice('penalty', ['l2', None]), #regularization\n",
    "    'solver': hp.choice('solver', ['lbfgs', 'sag']), #optimization\n",
    "    'C': hp.choice('C', coef_lst) # coefficient\n",
    "              }\n",
    "\n",
    "hp_space_grid_2 = {\n",
    "    'penalty': hp.choice('penalty', ['l1', 'l2']), #regularization\n",
    "    'solver': hp.choice('solver', ['liblinear', 'saga']), #optimization\n",
    "    'C': hp.choice('C', coef_lst) # coefficient\n",
    "              }"
   ]
  },
  {
   "cell_type": "code",
   "execution_count": 17,
   "metadata": {},
   "outputs": [],
   "source": [
    "def hyperopt_log_reg(params:dict, cv=5, X=X_train, y=y_train, random_state=42):\n",
    "    #set the parameters\n",
    "    params = {\n",
    "        'penalty': params['penalty'], \n",
    "        'solver': params['solver'], \n",
    "        'C': params['C']\n",
    "              }\n",
    "  \n",
    "    #use the combinations for model build\n",
    "    model = linear_model.LogisticRegression(**params,\n",
    "                                            max_iter=2000,\n",
    "                                            random_state=42)\n",
    "\n",
    "    #model learning through cross-validation\n",
    "    score = cross_val_score(model,\n",
    "                            X,\n",
    "                            y,\n",
    "                            cv=5,\n",
    "                            scoring='f1',\n",
    "                            n_jobs=-1).mean()\n",
    "\n",
    "    #minimize the metrics\n",
    "    return -score"
   ]
  },
  {
   "cell_type": "markdown",
   "metadata": {},
   "source": [
    "Hyperopt - Test 1"
   ]
  },
  {
   "cell_type": "code",
   "execution_count": 18,
   "metadata": {},
   "outputs": [
    {
     "name": "stdout",
     "output_type": "stream",
     "text": [
      "  0%|          | 0/20 [00:00<?, ?trial/s, best loss=?]"
     ]
    },
    {
     "name": "stderr",
     "output_type": "stream",
     "text": [
      "/Library/Frameworks/Python.framework/Versions/3.10/lib/python3.10/site-packages/sklearn/linear_model/_logistic.py:1186: UserWarning: Setting penalty=None will ignore the C and l1_ratio parameters\n",
      "  warnings.warn(\n",
      "/Library/Frameworks/Python.framework/Versions/3.10/lib/python3.10/site-packages/sklearn/linear_model/_logistic.py:1186: UserWarning: Setting penalty=None will ignore the C and l1_ratio parameters\n",
      "  warnings.warn(\n",
      "/Library/Frameworks/Python.framework/Versions/3.10/lib/python3.10/site-packages/sklearn/linear_model/_logistic.py:1186: UserWarning: Setting penalty=None will ignore the C and l1_ratio parameters\n",
      "  warnings.warn(\n",
      "/Library/Frameworks/Python.framework/Versions/3.10/lib/python3.10/site-packages/sklearn/linear_model/_logistic.py:1186: UserWarning: Setting penalty=None will ignore the C and l1_ratio parameters\n",
      "  warnings.warn(\n",
      "/Library/Frameworks/Python.framework/Versions/3.10/lib/python3.10/site-packages/sklearn/linear_model/_logistic.py:1186: UserWarning: Setting penalty=None will ignore the C and l1_ratio parameters\n",
      "  warnings.warn(\n"
     ]
    },
    {
     "name": "stdout",
     "output_type": "stream",
     "text": [
      " 20%|██        | 4/20 [00:17<01:10,  4.39s/trial, best loss: -0.7903599972929737]"
     ]
    },
    {
     "name": "stderr",
     "output_type": "stream",
     "text": [
      "/Library/Frameworks/Python.framework/Versions/3.10/lib/python3.10/site-packages/sklearn/linear_model/_logistic.py:1186: UserWarning: Setting penalty=None will ignore the C and l1_ratio parameters\n",
      "  warnings.warn(\n",
      "/Library/Frameworks/Python.framework/Versions/3.10/lib/python3.10/site-packages/sklearn/linear_model/_logistic.py:1186: UserWarning: Setting penalty=None will ignore the C and l1_ratio parameters\n",
      "  warnings.warn(\n",
      "/Library/Frameworks/Python.framework/Versions/3.10/lib/python3.10/site-packages/sklearn/linear_model/_logistic.py:1186: UserWarning: Setting penalty=None will ignore the C and l1_ratio parameters\n",
      "  warnings.warn(\n",
      "/Library/Frameworks/Python.framework/Versions/3.10/lib/python3.10/site-packages/sklearn/linear_model/_logistic.py:1186: UserWarning: Setting penalty=None will ignore the C and l1_ratio parameters\n",
      "  warnings.warn(\n",
      "/Library/Frameworks/Python.framework/Versions/3.10/lib/python3.10/site-packages/sklearn/linear_model/_logistic.py:1186: UserWarning: Setting penalty=None will ignore the C and l1_ratio parameters\n",
      "  warnings.warn(\n"
     ]
    },
    {
     "name": "stdout",
     "output_type": "stream",
     "text": [
      " 25%|██▌       | 5/20 [00:20<00:58,  3.92s/trial, best loss: -0.7903599972929737]"
     ]
    },
    {
     "name": "stderr",
     "output_type": "stream",
     "text": [
      "/Library/Frameworks/Python.framework/Versions/3.10/lib/python3.10/site-packages/sklearn/linear_model/_logistic.py:1186: UserWarning: Setting penalty=None will ignore the C and l1_ratio parameters\n",
      "  warnings.warn(\n",
      "/Library/Frameworks/Python.framework/Versions/3.10/lib/python3.10/site-packages/sklearn/linear_model/_logistic.py:1186: UserWarning: Setting penalty=None will ignore the C and l1_ratio parameters\n",
      "  warnings.warn(\n",
      "/Library/Frameworks/Python.framework/Versions/3.10/lib/python3.10/site-packages/sklearn/linear_model/_logistic.py:1186: UserWarning: Setting penalty=None will ignore the C and l1_ratio parameters\n",
      "  warnings.warn(\n",
      "/Library/Frameworks/Python.framework/Versions/3.10/lib/python3.10/site-packages/sklearn/linear_model/_logistic.py:1186: UserWarning: Setting penalty=None will ignore the C and l1_ratio parameters\n",
      "  warnings.warn(\n",
      "/Library/Frameworks/Python.framework/Versions/3.10/lib/python3.10/site-packages/sklearn/linear_model/_logistic.py:1186: UserWarning: Setting penalty=None will ignore the C and l1_ratio parameters\n",
      "  warnings.warn(\n"
     ]
    },
    {
     "name": "stdout",
     "output_type": "stream",
     "text": [
      " 30%|███       | 6/20 [01:09<04:28, 19.19s/trial, best loss: -0.7903599972929737]"
     ]
    },
    {
     "name": "stderr",
     "output_type": "stream",
     "text": [
      "/Library/Frameworks/Python.framework/Versions/3.10/lib/python3.10/site-packages/sklearn/linear_model/_sag.py:350: ConvergenceWarning: The max_iter was reached which means the coef_ did not converge\n",
      "  warnings.warn(\n",
      "/Library/Frameworks/Python.framework/Versions/3.10/lib/python3.10/site-packages/sklearn/linear_model/_sag.py:350: ConvergenceWarning: The max_iter was reached which means the coef_ did not converge\n",
      "  warnings.warn(\n",
      "/Library/Frameworks/Python.framework/Versions/3.10/lib/python3.10/site-packages/sklearn/linear_model/_sag.py:350: ConvergenceWarning: The max_iter was reached which means the coef_ did not converge\n",
      "  warnings.warn(\n",
      "/Library/Frameworks/Python.framework/Versions/3.10/lib/python3.10/site-packages/sklearn/linear_model/_sag.py:350: ConvergenceWarning: The max_iter was reached which means the coef_ did not converge\n",
      "  warnings.warn(\n",
      "/Library/Frameworks/Python.framework/Versions/3.10/lib/python3.10/site-packages/sklearn/linear_model/_sag.py:350: ConvergenceWarning: The max_iter was reached which means the coef_ did not converge\n",
      "  warnings.warn(\n",
      "/Library/Frameworks/Python.framework/Versions/3.10/lib/python3.10/site-packages/sklearn/linear_model/_logistic.py:1186: UserWarning: Setting penalty=None will ignore the C and l1_ratio parameters\n",
      "  warnings.warn(\n",
      "/Library/Frameworks/Python.framework/Versions/3.10/lib/python3.10/site-packages/sklearn/linear_model/_logistic.py:1186: UserWarning: Setting penalty=None will ignore the C and l1_ratio parameters\n",
      "  warnings.warn(\n",
      "/Library/Frameworks/Python.framework/Versions/3.10/lib/python3.10/site-packages/sklearn/linear_model/_logistic.py:1186: UserWarning: Setting penalty=None will ignore the C and l1_ratio parameters\n",
      "  warnings.warn(\n",
      "/Library/Frameworks/Python.framework/Versions/3.10/lib/python3.10/site-packages/sklearn/linear_model/_logistic.py:1186: UserWarning: Setting penalty=None will ignore the C and l1_ratio parameters\n",
      "  warnings.warn(\n",
      "/Library/Frameworks/Python.framework/Versions/3.10/lib/python3.10/site-packages/sklearn/linear_model/_logistic.py:1186: UserWarning: Setting penalty=None will ignore the C and l1_ratio parameters\n",
      "  warnings.warn(\n"
     ]
    },
    {
     "name": "stdout",
     "output_type": "stream",
     "text": [
      " 35%|███▌      | 7/20 [01:57<06:13, 28.74s/trial, best loss: -0.7903599972929737]"
     ]
    },
    {
     "name": "stderr",
     "output_type": "stream",
     "text": [
      "/Library/Frameworks/Python.framework/Versions/3.10/lib/python3.10/site-packages/sklearn/linear_model/_sag.py:350: ConvergenceWarning: The max_iter was reached which means the coef_ did not converge\n",
      "  warnings.warn(\n",
      "/Library/Frameworks/Python.framework/Versions/3.10/lib/python3.10/site-packages/sklearn/linear_model/_sag.py:350: ConvergenceWarning: The max_iter was reached which means the coef_ did not converge\n",
      "  warnings.warn(\n",
      "/Library/Frameworks/Python.framework/Versions/3.10/lib/python3.10/site-packages/sklearn/linear_model/_sag.py:350: ConvergenceWarning: The max_iter was reached which means the coef_ did not converge\n",
      "  warnings.warn(\n",
      "/Library/Frameworks/Python.framework/Versions/3.10/lib/python3.10/site-packages/sklearn/linear_model/_sag.py:350: ConvergenceWarning: The max_iter was reached which means the coef_ did not converge\n",
      "  warnings.warn(\n",
      "/Library/Frameworks/Python.framework/Versions/3.10/lib/python3.10/site-packages/sklearn/linear_model/_sag.py:350: ConvergenceWarning: The max_iter was reached which means the coef_ did not converge\n",
      "  warnings.warn(\n"
     ]
    },
    {
     "name": "stdout",
     "output_type": "stream",
     "text": [
      " 40%|████      | 8/20 [01:58<03:58, 19.87s/trial, best loss: -0.7903599972929737]"
     ]
    },
    {
     "name": "stderr",
     "output_type": "stream",
     "text": [
      "/Library/Frameworks/Python.framework/Versions/3.10/lib/python3.10/site-packages/sklearn/linear_model/_logistic.py:1186: UserWarning: Setting penalty=None will ignore the C and l1_ratio parameters\n",
      "  warnings.warn(\n",
      "/Library/Frameworks/Python.framework/Versions/3.10/lib/python3.10/site-packages/sklearn/linear_model/_logistic.py:1186: UserWarning: Setting penalty=None will ignore the C and l1_ratio parameters\n",
      "  warnings.warn(\n",
      "/Library/Frameworks/Python.framework/Versions/3.10/lib/python3.10/site-packages/sklearn/linear_model/_logistic.py:1186: UserWarning: Setting penalty=None will ignore the C and l1_ratio parameters\n",
      "  warnings.warn(\n",
      "/Library/Frameworks/Python.framework/Versions/3.10/lib/python3.10/site-packages/sklearn/linear_model/_logistic.py:1186: UserWarning: Setting penalty=None will ignore the C and l1_ratio parameters\n",
      "  warnings.warn(\n",
      "/Library/Frameworks/Python.framework/Versions/3.10/lib/python3.10/site-packages/sklearn/linear_model/_logistic.py:1186: UserWarning: Setting penalty=None will ignore the C and l1_ratio parameters\n",
      "  warnings.warn(\n"
     ]
    },
    {
     "name": "stdout",
     "output_type": "stream",
     "text": [
      " 55%|█████▌    | 11/20 [02:14<01:28,  9.84s/trial, best loss: -0.7903599972929737]"
     ]
    },
    {
     "name": "stderr",
     "output_type": "stream",
     "text": [
      "/Library/Frameworks/Python.framework/Versions/3.10/lib/python3.10/site-packages/sklearn/linear_model/_logistic.py:1186: UserWarning: Setting penalty=None will ignore the C and l1_ratio parameters\n",
      "  warnings.warn(\n",
      "/Library/Frameworks/Python.framework/Versions/3.10/lib/python3.10/site-packages/sklearn/linear_model/_logistic.py:1186: UserWarning: Setting penalty=None will ignore the C and l1_ratio parameters\n",
      "  warnings.warn(\n",
      "/Library/Frameworks/Python.framework/Versions/3.10/lib/python3.10/site-packages/sklearn/linear_model/_logistic.py:1186: UserWarning: Setting penalty=None will ignore the C and l1_ratio parameters\n",
      "  warnings.warn(\n",
      "/Library/Frameworks/Python.framework/Versions/3.10/lib/python3.10/site-packages/sklearn/linear_model/_logistic.py:1186: UserWarning: Setting penalty=None will ignore the C and l1_ratio parameters\n",
      "  warnings.warn(\n",
      "/Library/Frameworks/Python.framework/Versions/3.10/lib/python3.10/site-packages/sklearn/linear_model/_logistic.py:1186: UserWarning: Setting penalty=None will ignore the C and l1_ratio parameters\n",
      "  warnings.warn(\n"
     ]
    },
    {
     "name": "stdout",
     "output_type": "stream",
     "text": [
      " 60%|██████    | 12/20 [03:03<02:52, 21.58s/trial, best loss: -0.7903599972929737]"
     ]
    },
    {
     "name": "stderr",
     "output_type": "stream",
     "text": [
      "/Library/Frameworks/Python.framework/Versions/3.10/lib/python3.10/site-packages/sklearn/linear_model/_sag.py:350: ConvergenceWarning: The max_iter was reached which means the coef_ did not converge\n",
      "  warnings.warn(\n",
      "/Library/Frameworks/Python.framework/Versions/3.10/lib/python3.10/site-packages/sklearn/linear_model/_sag.py:350: ConvergenceWarning: The max_iter was reached which means the coef_ did not converge\n",
      "  warnings.warn(\n",
      "/Library/Frameworks/Python.framework/Versions/3.10/lib/python3.10/site-packages/sklearn/linear_model/_sag.py:350: ConvergenceWarning: The max_iter was reached which means the coef_ did not converge\n",
      "  warnings.warn(\n",
      "/Library/Frameworks/Python.framework/Versions/3.10/lib/python3.10/site-packages/sklearn/linear_model/_sag.py:350: ConvergenceWarning: The max_iter was reached which means the coef_ did not converge\n",
      "  warnings.warn(\n",
      "/Library/Frameworks/Python.framework/Versions/3.10/lib/python3.10/site-packages/sklearn/linear_model/_sag.py:350: ConvergenceWarning: The max_iter was reached which means the coef_ did not converge\n",
      "  warnings.warn(\n"
     ]
    },
    {
     "name": "stdout",
     "output_type": "stream",
     "text": [
      " 75%|███████▌  | 15/20 [03:15<00:50, 10.14s/trial, best loss: -0.7903599972929737]"
     ]
    },
    {
     "name": "stderr",
     "output_type": "stream",
     "text": [
      "/Library/Frameworks/Python.framework/Versions/3.10/lib/python3.10/site-packages/sklearn/linear_model/_logistic.py:1186: UserWarning: Setting penalty=None will ignore the C and l1_ratio parameters\n",
      "  warnings.warn(\n",
      "/Library/Frameworks/Python.framework/Versions/3.10/lib/python3.10/site-packages/sklearn/linear_model/_logistic.py:1186: UserWarning: Setting penalty=None will ignore the C and l1_ratio parameters\n",
      "  warnings.warn(\n",
      "/Library/Frameworks/Python.framework/Versions/3.10/lib/python3.10/site-packages/sklearn/linear_model/_logistic.py:1186: UserWarning: Setting penalty=None will ignore the C and l1_ratio parameters\n",
      "  warnings.warn(\n",
      "/Library/Frameworks/Python.framework/Versions/3.10/lib/python3.10/site-packages/sklearn/linear_model/_logistic.py:1186: UserWarning: Setting penalty=None will ignore the C and l1_ratio parameters\n",
      "  warnings.warn(\n",
      "/Library/Frameworks/Python.framework/Versions/3.10/lib/python3.10/site-packages/sklearn/linear_model/_logistic.py:1186: UserWarning: Setting penalty=None will ignore the C and l1_ratio parameters\n",
      "  warnings.warn(\n"
     ]
    },
    {
     "name": "stdout",
     "output_type": "stream",
     "text": [
      " 85%|████████▌ | 17/20 [04:06<01:00, 20.16s/trial, best loss: -0.7903599972929737]"
     ]
    },
    {
     "name": "stderr",
     "output_type": "stream",
     "text": [
      "/Library/Frameworks/Python.framework/Versions/3.10/lib/python3.10/site-packages/sklearn/linear_model/_sag.py:350: ConvergenceWarning: The max_iter was reached which means the coef_ did not converge\n",
      "  warnings.warn(\n",
      "/Library/Frameworks/Python.framework/Versions/3.10/lib/python3.10/site-packages/sklearn/linear_model/_sag.py:350: ConvergenceWarning: The max_iter was reached which means the coef_ did not converge\n",
      "  warnings.warn(\n",
      "/Library/Frameworks/Python.framework/Versions/3.10/lib/python3.10/site-packages/sklearn/linear_model/_sag.py:350: ConvergenceWarning: The max_iter was reached which means the coef_ did not converge\n",
      "  warnings.warn(\n",
      "/Library/Frameworks/Python.framework/Versions/3.10/lib/python3.10/site-packages/sklearn/linear_model/_sag.py:350: ConvergenceWarning: The max_iter was reached which means the coef_ did not converge\n",
      "  warnings.warn(\n",
      "/Library/Frameworks/Python.framework/Versions/3.10/lib/python3.10/site-packages/sklearn/linear_model/_sag.py:350: ConvergenceWarning: The max_iter was reached which means the coef_ did not converge\n",
      "  warnings.warn(\n"
     ]
    },
    {
     "name": "stdout",
     "output_type": "stream",
     "text": [
      "100%|██████████| 20/20 [04:24<00:00, 13.21s/trial, best loss: -0.7903599972929737]\n",
      "best hyperparameters {'C': 0.05, 'penalty': 'l2', 'solver': 'sag'}\n",
      "CPU times: user 550 ms, sys: 354 ms, total: 904 ms\n",
      "Wall time: 4min 24s\n"
     ]
    }
   ],
   "source": [
    "%%time\n",
    "\n",
    "#begin hyperparameters selection\n",
    "#log the results\n",
    "trials_log_reg_1 = Trials()\n",
    "\n",
    "best_study_log_reg_1=fmin(hyperopt_log_reg,\n",
    "                          space=hp_space_grid_1, #list of chosen parameters\n",
    "                          algo=tpe.suggest, #optimization\n",
    "                          max_evals=20, #iteration number\n",
    "                          trials=trials_log_reg_1, #logging the results\n",
    "                          rstate=np.random.default_rng(42)\n",
    "                          )\n",
    " \n",
    "print(f'best hyperparameters {hyperopt.space_eval(hp_space_grid_1, best_study_log_reg_1)}')"
   ]
  },
  {
   "cell_type": "code",
   "execution_count": 19,
   "metadata": {},
   "outputs": [],
   "source": [
    "#to avoid errors\n",
    "pen1 = ['l2', None]\n",
    "sol1 = ['lbfgs', 'sag']\n",
    "\n",
    "#calculate the metrics\n",
    "hp_model1 = linear_model.LogisticRegression(\n",
    "    max_iter=2000, #to avoid convergence\n",
    "    random_state=42,\n",
    "    penalty=pen1[best_study_log_reg_1['penalty']],\n",
    "    solver=sol1[best_study_log_reg_1['solver']],\n",
    "    C=float(best_study_log_reg_1['C'])\n",
    ")\n",
    "\n",
    "#model learning\n",
    "hp_model1.fit(X_train, y_train)\n",
    "\n",
    "#make a prediction\n",
    "y_train_pred = hp_model1.predict(X_train)\n",
    "y_test_pred = hp_model1.predict(X_test)"
   ]
  },
  {
   "cell_type": "code",
   "execution_count": 20,
   "metadata": {},
   "outputs": [
    {
     "name": "stdout",
     "output_type": "stream",
     "text": [
      "train data:\n",
      "f1_score: 0.892\n",
      "accuracy: 0.882\n",
      "\n",
      "test data\n",
      "f1_score: 0.778\n",
      "accuracy: 0.755\n"
     ]
    }
   ],
   "source": [
    "#display the metrics\n",
    "print('train data:')\n",
    "print(f'f1_score: {metrics.f1_score(y_train, y_train_pred):.3f}')\n",
    "print(f'accuracy: {hp_model1.score(X_train, y_train):.3f}')\n",
    "print()\n",
    "print('test data')\n",
    "print(f'f1_score: {metrics.f1_score(y_test, y_test_pred):.3f}')\n",
    "print(f'accuracy: {hp_model1.score(X_test, y_test):.3f}')"
   ]
  },
  {
   "cell_type": "markdown",
   "metadata": {},
   "source": [
    "Hyperopt - Test 2"
   ]
  },
  {
   "cell_type": "code",
   "execution_count": 21,
   "metadata": {},
   "outputs": [
    {
     "name": "stdout",
     "output_type": "stream",
     "text": [
      " 65%|██████▌   | 13/20 [01:24<00:51,  7.37s/trial, best loss: -0.7907284724091234]"
     ]
    },
    {
     "name": "stderr",
     "output_type": "stream",
     "text": [
      "/Library/Frameworks/Python.framework/Versions/3.10/lib/python3.10/site-packages/sklearn/linear_model/_sag.py:350: ConvergenceWarning: The max_iter was reached which means the coef_ did not converge\n",
      "  warnings.warn(\n"
     ]
    },
    {
     "name": "stdout",
     "output_type": "stream",
     "text": [
      " 70%|███████   | 14/20 [02:32<02:34, 25.74s/trial, best loss: -0.7907284724091234]"
     ]
    },
    {
     "name": "stderr",
     "output_type": "stream",
     "text": [
      "/Library/Frameworks/Python.framework/Versions/3.10/lib/python3.10/site-packages/sklearn/linear_model/_sag.py:350: ConvergenceWarning: The max_iter was reached which means the coef_ did not converge\n",
      "  warnings.warn(\n"
     ]
    },
    {
     "name": "stdout",
     "output_type": "stream",
     "text": [
      " 85%|████████▌ | 17/20 [02:52<00:43, 14.52s/trial, best loss: -0.7907284724091234]"
     ]
    },
    {
     "name": "stderr",
     "output_type": "stream",
     "text": [
      "/Library/Frameworks/Python.framework/Versions/3.10/lib/python3.10/site-packages/sklearn/linear_model/_sag.py:350: ConvergenceWarning: The max_iter was reached which means the coef_ did not converge\n",
      "  warnings.warn(\n",
      "/Library/Frameworks/Python.framework/Versions/3.10/lib/python3.10/site-packages/sklearn/linear_model/_sag.py:350: ConvergenceWarning: The max_iter was reached which means the coef_ did not converge\n",
      "  warnings.warn(\n",
      "/Library/Frameworks/Python.framework/Versions/3.10/lib/python3.10/site-packages/sklearn/linear_model/_sag.py:350: ConvergenceWarning: The max_iter was reached which means the coef_ did not converge\n",
      "  warnings.warn(\n",
      "/Library/Frameworks/Python.framework/Versions/3.10/lib/python3.10/site-packages/sklearn/linear_model/_sag.py:350: ConvergenceWarning: The max_iter was reached which means the coef_ did not converge\n",
      "  warnings.warn(\n"
     ]
    },
    {
     "name": "stdout",
     "output_type": "stream",
     "text": [
      " 90%|█████████ | 18/20 [04:03<01:02, 31.43s/trial, best loss: -0.7907284724091234]"
     ]
    },
    {
     "name": "stderr",
     "output_type": "stream",
     "text": [
      "/Library/Frameworks/Python.framework/Versions/3.10/lib/python3.10/site-packages/sklearn/linear_model/_sag.py:350: ConvergenceWarning: The max_iter was reached which means the coef_ did not converge\n",
      "  warnings.warn(\n"
     ]
    },
    {
     "name": "stdout",
     "output_type": "stream",
     "text": [
      "100%|██████████| 20/20 [04:06<00:00, 12.35s/trial, best loss: -0.7907284724091234]\n",
      "best hyperparameters {'C': 0.05, 'penalty': 'l2', 'solver': 'saga'}\n",
      "CPU times: user 516 ms, sys: 329 ms, total: 845 ms\n",
      "Wall time: 4min 6s\n"
     ]
    }
   ],
   "source": [
    "%%time\n",
    "\n",
    "#begin hyperparameters selection\n",
    "#log the results\n",
    "trials_log_reg_2 = Trials()\n",
    "\n",
    "best_study_log_reg_2=fmin(hyperopt_log_reg,\n",
    "                          space=hp_space_grid_2, #list of chosen parameters\n",
    "                          algo=tpe.suggest, #optimization\n",
    "                          max_evals=20, #iteration number\n",
    "                          trials=trials_log_reg_2, #logging the results\n",
    "                          rstate=np.random.default_rng(42)\n",
    "                          )\n",
    " \n",
    "print(f'best hyperparameters {hyperopt.space_eval(hp_space_grid_2, best_study_log_reg_2)}')"
   ]
  },
  {
   "cell_type": "code",
   "execution_count": 22,
   "metadata": {},
   "outputs": [],
   "source": [
    "#to avoid errors\n",
    "pen2 = ['l1', 'l2']\n",
    "sol2 = ['liblinear', 'saga']\n",
    "\n",
    "#calculate the metrics\n",
    "hp_model2 = linear_model.LogisticRegression(\n",
    "    max_iter=2000, #to avoid convergence\n",
    "    random_state=42,\n",
    "    penalty=pen2[best_study_log_reg_2['penalty']],\n",
    "    solver=sol2[best_study_log_reg_2['solver']],\n",
    "    C=float(best_study_log_reg_2['C'])\n",
    ")\n",
    "\n",
    "#model learning\n",
    "hp_model2.fit(X_train, y_train)\n",
    "\n",
    "#make a prediction\n",
    "y_train_pred = hp_model2.predict(X_train)\n",
    "y_test_pred = hp_model2.predict(X_test)"
   ]
  },
  {
   "cell_type": "code",
   "execution_count": 23,
   "metadata": {},
   "outputs": [
    {
     "name": "stdout",
     "output_type": "stream",
     "text": [
      "train data:\n",
      "f1_score: 0.892\n",
      "accuracy: 0.881\n",
      "\n",
      "test data\n",
      "f1_score: 0.778\n",
      "accuracy: 0.755\n"
     ]
    }
   ],
   "source": [
    "#display the metrics\n",
    "print('train data:')\n",
    "print(f'f1_score: {metrics.f1_score(y_train, y_train_pred):.3f}')\n",
    "print(f'accuracy: {hp_model2.score(X_train, y_train):.3f}')\n",
    "print()\n",
    "print('test data')\n",
    "print(f'f1_score: {metrics.f1_score(y_test, y_test_pred):.3f}')\n",
    "print(f'accuracy: {hp_model2.score(X_test, y_test):.3f}')"
   ]
  },
  {
   "cell_type": "markdown",
   "metadata": {},
   "source": [
    "#### Optuna"
   ]
  },
  {
   "cell_type": "markdown",
   "metadata": {},
   "source": [
    "use the Optuna method to look for best hyperparameters"
   ]
  },
  {
   "cell_type": "code",
   "execution_count": 24,
   "metadata": {},
   "outputs": [],
   "source": [
    "#create a function for optuna study with baseline penalties\n",
    "def optuna_log_reg(trial):\n",
    "  #set hyperparameters\n",
    "  grid = {\n",
    "    'penalty': trial.suggest_categorical('penalty', ['l1', 'l2', None]),\n",
    "    'solver': trial.suggest_categorical('solver', ['lbfgs', 'sag', 'liblinear', 'saga']),\n",
    "    'C': trial.suggest_categorical('C', coef_lst)\n",
    "  }\n",
    "  \n",
    "  #use the combinations for model build\n",
    "  model = linear_model.LogisticRegression(\n",
    "    max_iter=2000,\n",
    "    **grid,\n",
    "    random_state=42)\n",
    "  \n",
    "  #model learning through cross-validation\n",
    "  score = model_selection.cross_val_score(\n",
    "    model,\n",
    "    X,\n",
    "    y,\n",
    "    cv=5,\n",
    "    scoring='f1', \n",
    "    n_jobs=-1).mean()\n",
    "\n",
    "  return score"
   ]
  },
  {
   "cell_type": "markdown",
   "metadata": {},
   "source": [
    "Optuna - Test 1"
   ]
  },
  {
   "cell_type": "code",
   "execution_count": 25,
   "metadata": {},
   "outputs": [
    {
     "name": "stderr",
     "output_type": "stream",
     "text": [
      "[I 2024-06-22 23:21:27,418] A new study created in memory with name: LogisticRegression\n",
      "/Library/Frameworks/Python.framework/Versions/3.10/lib/python3.10/site-packages/sklearn/linear_model/_sag.py:350: ConvergenceWarning: The max_iter was reached which means the coef_ did not converge\n",
      "  warnings.warn(\n",
      "/Library/Frameworks/Python.framework/Versions/3.10/lib/python3.10/site-packages/sklearn/linear_model/_sag.py:350: ConvergenceWarning: The max_iter was reached which means the coef_ did not converge\n",
      "  warnings.warn(\n",
      "/Library/Frameworks/Python.framework/Versions/3.10/lib/python3.10/site-packages/sklearn/linear_model/_sag.py:350: ConvergenceWarning: The max_iter was reached which means the coef_ did not converge\n",
      "  warnings.warn(\n",
      "/Library/Frameworks/Python.framework/Versions/3.10/lib/python3.10/site-packages/sklearn/linear_model/_sag.py:350: ConvergenceWarning: The max_iter was reached which means the coef_ did not converge\n",
      "  warnings.warn(\n",
      "/Library/Frameworks/Python.framework/Versions/3.10/lib/python3.10/site-packages/sklearn/linear_model/_sag.py:350: ConvergenceWarning: The max_iter was reached which means the coef_ did not converge\n",
      "  warnings.warn(\n",
      "[I 2024-06-22 23:22:28,813] Trial 0 finished with value: 0.7571940378262074 and parameters: {'penalty': None, 'solver': 'sag', 'C': 1}. Best is trial 0 with value: 0.7571940378262074.\n",
      "/Library/Frameworks/Python.framework/Versions/3.10/lib/python3.10/site-packages/sklearn/linear_model/_logistic.py:1186: UserWarning: Setting penalty=None will ignore the C and l1_ratio parameters\n",
      "  warnings.warn(\n",
      "/Library/Frameworks/Python.framework/Versions/3.10/lib/python3.10/site-packages/sklearn/linear_model/_logistic.py:1186: UserWarning: Setting penalty=None will ignore the C and l1_ratio parameters\n",
      "  warnings.warn(\n",
      "/Library/Frameworks/Python.framework/Versions/3.10/lib/python3.10/site-packages/sklearn/linear_model/_logistic.py:1186: UserWarning: Setting penalty=None will ignore the C and l1_ratio parameters\n",
      "  warnings.warn(\n",
      "/Library/Frameworks/Python.framework/Versions/3.10/lib/python3.10/site-packages/sklearn/linear_model/_logistic.py:1186: UserWarning: Setting penalty=None will ignore the C and l1_ratio parameters\n",
      "  warnings.warn(\n",
      "/Library/Frameworks/Python.framework/Versions/3.10/lib/python3.10/site-packages/sklearn/linear_model/_logistic.py:1186: UserWarning: Setting penalty=None will ignore the C and l1_ratio parameters\n",
      "  warnings.warn(\n",
      "/Library/Frameworks/Python.framework/Versions/3.10/lib/python3.10/site-packages/sklearn/linear_model/_sag.py:350: ConvergenceWarning: The max_iter was reached which means the coef_ did not converge\n",
      "  warnings.warn(\n",
      "/Library/Frameworks/Python.framework/Versions/3.10/lib/python3.10/site-packages/sklearn/linear_model/_sag.py:350: ConvergenceWarning: The max_iter was reached which means the coef_ did not converge\n",
      "  warnings.warn(\n",
      "/Library/Frameworks/Python.framework/Versions/3.10/lib/python3.10/site-packages/sklearn/linear_model/_sag.py:350: ConvergenceWarning: The max_iter was reached which means the coef_ did not converge\n",
      "  warnings.warn(\n",
      "/Library/Frameworks/Python.framework/Versions/3.10/lib/python3.10/site-packages/sklearn/linear_model/_sag.py:350: ConvergenceWarning: The max_iter was reached which means the coef_ did not converge\n",
      "  warnings.warn(\n",
      "/Library/Frameworks/Python.framework/Versions/3.10/lib/python3.10/site-packages/sklearn/linear_model/_sag.py:350: ConvergenceWarning: The max_iter was reached which means the coef_ did not converge\n",
      "  warnings.warn(\n",
      "[I 2024-06-22 23:23:29,337] Trial 1 finished with value: 0.7571940378262074 and parameters: {'penalty': None, 'solver': 'sag', 'C': 0.5}. Best is trial 0 with value: 0.7571940378262074.\n",
      "[I 2024-06-22 23:23:46,823] Trial 2 finished with value: 0.7775874034379038 and parameters: {'penalty': 'l2', 'solver': 'sag', 'C': 0.7}. Best is trial 2 with value: 0.7775874034379038.\n",
      "[I 2024-06-22 23:23:49,738] Trial 3 finished with value: 0.783697530028722 and parameters: {'penalty': 'l2', 'solver': 'sag', 'C': 0.01}. Best is trial 3 with value: 0.783697530028722.\n",
      "[I 2024-06-22 23:24:06,222] Trial 4 finished with value: 0.7807928575992854 and parameters: {'penalty': 'l2', 'solver': 'sag', 'C': 0.3}. Best is trial 3 with value: 0.783697530028722.\n",
      "/Library/Frameworks/Python.framework/Versions/3.10/lib/python3.10/site-packages/sklearn/linear_model/_logistic.py:1186: UserWarning: Setting penalty=None will ignore the C and l1_ratio parameters\n",
      "  warnings.warn(\n",
      "/Library/Frameworks/Python.framework/Versions/3.10/lib/python3.10/site-packages/sklearn/linear_model/_logistic.py:1186: UserWarning: Setting penalty=None will ignore the C and l1_ratio parameters\n",
      "  warnings.warn(\n",
      "/Library/Frameworks/Python.framework/Versions/3.10/lib/python3.10/site-packages/sklearn/linear_model/_logistic.py:1186: UserWarning: Setting penalty=None will ignore the C and l1_ratio parameters\n",
      "  warnings.warn(\n",
      "/Library/Frameworks/Python.framework/Versions/3.10/lib/python3.10/site-packages/sklearn/linear_model/_logistic.py:1186: UserWarning: Setting penalty=None will ignore the C and l1_ratio parameters\n",
      "  warnings.warn(\n",
      "/Library/Frameworks/Python.framework/Versions/3.10/lib/python3.10/site-packages/sklearn/linear_model/_logistic.py:1186: UserWarning: Setting penalty=None will ignore the C and l1_ratio parameters\n",
      "  warnings.warn(\n",
      "[I 2024-06-22 23:24:14,198] Trial 5 finished with value: 0.7234254964156801 and parameters: {'penalty': None, 'solver': 'lbfgs', 'C': 0.9}. Best is trial 3 with value: 0.783697530028722.\n",
      "[I 2024-06-22 23:24:14,854] Trial 6 finished with value: 0.7875277022472567 and parameters: {'penalty': 'l2', 'solver': 'lbfgs', 'C': 0.05}. Best is trial 6 with value: 0.7875277022472567.\n",
      "[I 2024-06-22 23:24:15,855] Trial 7 finished with value: 0.7762473534835636 and parameters: {'penalty': 'l2', 'solver': 'lbfgs', 'C': 0.9}. Best is trial 6 with value: 0.7875277022472567.\n",
      "[I 2024-06-22 23:24:16,305] Trial 8 finished with value: 0.7834042868880997 and parameters: {'penalty': 'l2', 'solver': 'lbfgs', 'C': 0.01}. Best is trial 6 with value: 0.7875277022472567.\n",
      "[I 2024-06-22 23:24:17,326] Trial 9 finished with value: 0.7749725852678957 and parameters: {'penalty': 'l2', 'solver': 'lbfgs', 'C': 1}. Best is trial 6 with value: 0.7875277022472567.\n"
     ]
    },
    {
     "name": "stdout",
     "output_type": "stream",
     "text": [
      "CPU times: user 308 ms, sys: 207 ms, total: 515 ms\n",
      "Wall time: 2min 49s\n"
     ]
    }
   ],
   "source": [
    "%%time\n",
    "#set hyperparameters for 1st study\n",
    "grid_optuna_1 = {\n",
    "    'penalty': ['l2', None],\n",
    "    'solver': ['lbfgs', 'sag'],\n",
    "    'C': coef_lst,\n",
    "}\n",
    "\n",
    "#begin hyperparameters selection\n",
    "#create review object\n",
    "study_optuna_1 = optuna.create_study(\n",
    "    study_name='LogisticRegression',\n",
    "    direction='maximize',\n",
    "    sampler=samplers.GridSampler(grid_optuna_1)\n",
    "    )\n",
    "\n",
    "#search for the best combination\n",
    "study_optuna_1.optimize(optuna_log_reg,\n",
    "                        n_trials=10) #20 trials take too long to run"
   ]
  },
  {
   "cell_type": "code",
   "execution_count": 26,
   "metadata": {},
   "outputs": [
    {
     "name": "stdout",
     "output_type": "stream",
     "text": [
      "train data:\n",
      "f1 score: 0.788\n",
      "best hyperparameters for logistic regression using optuna {'penalty': 'l2', 'solver': 'lbfgs', 'C': 0.05}\n"
     ]
    }
   ],
   "source": [
    "#display results for train data\n",
    "print('train data:')\n",
    "print(f'f1 score: {study_optuna_1.best_value:.3f}')\n",
    "print(f'best hyperparameters for logistic regression using optuna {study_optuna_1.best_params}')"
   ]
  },
  {
   "cell_type": "code",
   "execution_count": 27,
   "metadata": {},
   "outputs": [],
   "source": [
    "#find the metrics for test data\n",
    "model_opt_log_reg_1 = linear_model.LogisticRegression(\n",
    "    max_iter=2000,\n",
    "    **study_optuna_1.best_params,\n",
    "    random_state=42\n",
    "    )\n",
    "\n",
    "#model learning\n",
    "model_opt_log_reg_1.fit(X_train, y_train)\n",
    "\n",
    "#make a prediction\n",
    "y_train_pred = model_opt_log_reg_1.predict(X_train)\n",
    "y_test_pred = model_opt_log_reg_1.predict(X_test)"
   ]
  },
  {
   "cell_type": "code",
   "execution_count": 28,
   "metadata": {},
   "outputs": [
    {
     "name": "stdout",
     "output_type": "stream",
     "text": [
      "train data:\n",
      "f1_score: 0.843\n",
      "accuracy: 0.825\n",
      "\n",
      "test data\n",
      "f1_score: 0.787\n",
      "accuracy: 0.760\n"
     ]
    }
   ],
   "source": [
    "#display the metrics\n",
    "print('train data:')\n",
    "print(f'f1_score: {metrics.f1_score(y_train, y_train_pred):.3f}')\n",
    "print(f'accuracy: {model_opt_log_reg_1.score(X_train, y_train):.3f}')\n",
    "print()\n",
    "print('test data')\n",
    "print(f'f1_score: {metrics.f1_score(y_test, y_test_pred):.3f}')\n",
    "print(f'accuracy: {model_opt_log_reg_1.score(X_test, y_test):.3f}')"
   ]
  },
  {
   "cell_type": "code",
   "execution_count": 29,
   "metadata": {},
   "outputs": [
    {
     "data": {
      "text/plain": [
       "True"
      ]
     },
     "execution_count": 29,
     "metadata": {},
     "output_type": "execute_result"
    }
   ],
   "source": [
    "#can visualization be used?\n",
    "optuna.visualization.is_available()"
   ]
  },
  {
   "cell_type": "code",
   "execution_count": 30,
   "metadata": {},
   "outputs": [
    {
     "data": {
      "application/vnd.plotly.v1+json": {
       "config": {
        "plotlyServerURL": "https://plot.ly"
       },
       "data": [
        {
         "mode": "markers",
         "name": "f1_score",
         "type": "scatter",
         "x": [
          0,
          1,
          2,
          3,
          4,
          5,
          6,
          7,
          8,
          9
         ],
         "y": [
          0.7571940378262074,
          0.7571940378262074,
          0.7775874034379038,
          0.783697530028722,
          0.7807928575992854,
          0.7234254964156801,
          0.7875277022472567,
          0.7762473534835636,
          0.7834042868880997,
          0.7749725852678957
         ]
        },
        {
         "mode": "lines",
         "name": "Best Value",
         "type": "scatter",
         "x": [
          0,
          1,
          2,
          3,
          4,
          5,
          6,
          7,
          8,
          9
         ],
         "y": [
          0.7571940378262074,
          0.7571940378262074,
          0.7775874034379038,
          0.783697530028722,
          0.783697530028722,
          0.783697530028722,
          0.7875277022472567,
          0.7875277022472567,
          0.7875277022472567,
          0.7875277022472567
         ]
        },
        {
         "marker": {
          "color": "#cccccc"
         },
         "mode": "markers",
         "name": "Infeasible Trial",
         "showlegend": false,
         "type": "scatter",
         "x": [],
         "y": []
        }
       ],
       "layout": {
        "template": {
         "data": {
          "bar": [
           {
            "error_x": {
             "color": "#2a3f5f"
            },
            "error_y": {
             "color": "#2a3f5f"
            },
            "marker": {
             "line": {
              "color": "#E5ECF6",
              "width": 0.5
             },
             "pattern": {
              "fillmode": "overlay",
              "size": 10,
              "solidity": 0.2
             }
            },
            "type": "bar"
           }
          ],
          "barpolar": [
           {
            "marker": {
             "line": {
              "color": "#E5ECF6",
              "width": 0.5
             },
             "pattern": {
              "fillmode": "overlay",
              "size": 10,
              "solidity": 0.2
             }
            },
            "type": "barpolar"
           }
          ],
          "carpet": [
           {
            "aaxis": {
             "endlinecolor": "#2a3f5f",
             "gridcolor": "white",
             "linecolor": "white",
             "minorgridcolor": "white",
             "startlinecolor": "#2a3f5f"
            },
            "baxis": {
             "endlinecolor": "#2a3f5f",
             "gridcolor": "white",
             "linecolor": "white",
             "minorgridcolor": "white",
             "startlinecolor": "#2a3f5f"
            },
            "type": "carpet"
           }
          ],
          "choropleth": [
           {
            "colorbar": {
             "outlinewidth": 0,
             "ticks": ""
            },
            "type": "choropleth"
           }
          ],
          "contour": [
           {
            "colorbar": {
             "outlinewidth": 0,
             "ticks": ""
            },
            "colorscale": [
             [
              0,
              "#0d0887"
             ],
             [
              0.1111111111111111,
              "#46039f"
             ],
             [
              0.2222222222222222,
              "#7201a8"
             ],
             [
              0.3333333333333333,
              "#9c179e"
             ],
             [
              0.4444444444444444,
              "#bd3786"
             ],
             [
              0.5555555555555556,
              "#d8576b"
             ],
             [
              0.6666666666666666,
              "#ed7953"
             ],
             [
              0.7777777777777778,
              "#fb9f3a"
             ],
             [
              0.8888888888888888,
              "#fdca26"
             ],
             [
              1,
              "#f0f921"
             ]
            ],
            "type": "contour"
           }
          ],
          "contourcarpet": [
           {
            "colorbar": {
             "outlinewidth": 0,
             "ticks": ""
            },
            "type": "contourcarpet"
           }
          ],
          "heatmap": [
           {
            "colorbar": {
             "outlinewidth": 0,
             "ticks": ""
            },
            "colorscale": [
             [
              0,
              "#0d0887"
             ],
             [
              0.1111111111111111,
              "#46039f"
             ],
             [
              0.2222222222222222,
              "#7201a8"
             ],
             [
              0.3333333333333333,
              "#9c179e"
             ],
             [
              0.4444444444444444,
              "#bd3786"
             ],
             [
              0.5555555555555556,
              "#d8576b"
             ],
             [
              0.6666666666666666,
              "#ed7953"
             ],
             [
              0.7777777777777778,
              "#fb9f3a"
             ],
             [
              0.8888888888888888,
              "#fdca26"
             ],
             [
              1,
              "#f0f921"
             ]
            ],
            "type": "heatmap"
           }
          ],
          "heatmapgl": [
           {
            "colorbar": {
             "outlinewidth": 0,
             "ticks": ""
            },
            "colorscale": [
             [
              0,
              "#0d0887"
             ],
             [
              0.1111111111111111,
              "#46039f"
             ],
             [
              0.2222222222222222,
              "#7201a8"
             ],
             [
              0.3333333333333333,
              "#9c179e"
             ],
             [
              0.4444444444444444,
              "#bd3786"
             ],
             [
              0.5555555555555556,
              "#d8576b"
             ],
             [
              0.6666666666666666,
              "#ed7953"
             ],
             [
              0.7777777777777778,
              "#fb9f3a"
             ],
             [
              0.8888888888888888,
              "#fdca26"
             ],
             [
              1,
              "#f0f921"
             ]
            ],
            "type": "heatmapgl"
           }
          ],
          "histogram": [
           {
            "marker": {
             "pattern": {
              "fillmode": "overlay",
              "size": 10,
              "solidity": 0.2
             }
            },
            "type": "histogram"
           }
          ],
          "histogram2d": [
           {
            "colorbar": {
             "outlinewidth": 0,
             "ticks": ""
            },
            "colorscale": [
             [
              0,
              "#0d0887"
             ],
             [
              0.1111111111111111,
              "#46039f"
             ],
             [
              0.2222222222222222,
              "#7201a8"
             ],
             [
              0.3333333333333333,
              "#9c179e"
             ],
             [
              0.4444444444444444,
              "#bd3786"
             ],
             [
              0.5555555555555556,
              "#d8576b"
             ],
             [
              0.6666666666666666,
              "#ed7953"
             ],
             [
              0.7777777777777778,
              "#fb9f3a"
             ],
             [
              0.8888888888888888,
              "#fdca26"
             ],
             [
              1,
              "#f0f921"
             ]
            ],
            "type": "histogram2d"
           }
          ],
          "histogram2dcontour": [
           {
            "colorbar": {
             "outlinewidth": 0,
             "ticks": ""
            },
            "colorscale": [
             [
              0,
              "#0d0887"
             ],
             [
              0.1111111111111111,
              "#46039f"
             ],
             [
              0.2222222222222222,
              "#7201a8"
             ],
             [
              0.3333333333333333,
              "#9c179e"
             ],
             [
              0.4444444444444444,
              "#bd3786"
             ],
             [
              0.5555555555555556,
              "#d8576b"
             ],
             [
              0.6666666666666666,
              "#ed7953"
             ],
             [
              0.7777777777777778,
              "#fb9f3a"
             ],
             [
              0.8888888888888888,
              "#fdca26"
             ],
             [
              1,
              "#f0f921"
             ]
            ],
            "type": "histogram2dcontour"
           }
          ],
          "mesh3d": [
           {
            "colorbar": {
             "outlinewidth": 0,
             "ticks": ""
            },
            "type": "mesh3d"
           }
          ],
          "parcoords": [
           {
            "line": {
             "colorbar": {
              "outlinewidth": 0,
              "ticks": ""
             }
            },
            "type": "parcoords"
           }
          ],
          "pie": [
           {
            "automargin": true,
            "type": "pie"
           }
          ],
          "scatter": [
           {
            "fillpattern": {
             "fillmode": "overlay",
             "size": 10,
             "solidity": 0.2
            },
            "type": "scatter"
           }
          ],
          "scatter3d": [
           {
            "line": {
             "colorbar": {
              "outlinewidth": 0,
              "ticks": ""
             }
            },
            "marker": {
             "colorbar": {
              "outlinewidth": 0,
              "ticks": ""
             }
            },
            "type": "scatter3d"
           }
          ],
          "scattercarpet": [
           {
            "marker": {
             "colorbar": {
              "outlinewidth": 0,
              "ticks": ""
             }
            },
            "type": "scattercarpet"
           }
          ],
          "scattergeo": [
           {
            "marker": {
             "colorbar": {
              "outlinewidth": 0,
              "ticks": ""
             }
            },
            "type": "scattergeo"
           }
          ],
          "scattergl": [
           {
            "marker": {
             "colorbar": {
              "outlinewidth": 0,
              "ticks": ""
             }
            },
            "type": "scattergl"
           }
          ],
          "scattermapbox": [
           {
            "marker": {
             "colorbar": {
              "outlinewidth": 0,
              "ticks": ""
             }
            },
            "type": "scattermapbox"
           }
          ],
          "scatterpolar": [
           {
            "marker": {
             "colorbar": {
              "outlinewidth": 0,
              "ticks": ""
             }
            },
            "type": "scatterpolar"
           }
          ],
          "scatterpolargl": [
           {
            "marker": {
             "colorbar": {
              "outlinewidth": 0,
              "ticks": ""
             }
            },
            "type": "scatterpolargl"
           }
          ],
          "scatterternary": [
           {
            "marker": {
             "colorbar": {
              "outlinewidth": 0,
              "ticks": ""
             }
            },
            "type": "scatterternary"
           }
          ],
          "surface": [
           {
            "colorbar": {
             "outlinewidth": 0,
             "ticks": ""
            },
            "colorscale": [
             [
              0,
              "#0d0887"
             ],
             [
              0.1111111111111111,
              "#46039f"
             ],
             [
              0.2222222222222222,
              "#7201a8"
             ],
             [
              0.3333333333333333,
              "#9c179e"
             ],
             [
              0.4444444444444444,
              "#bd3786"
             ],
             [
              0.5555555555555556,
              "#d8576b"
             ],
             [
              0.6666666666666666,
              "#ed7953"
             ],
             [
              0.7777777777777778,
              "#fb9f3a"
             ],
             [
              0.8888888888888888,
              "#fdca26"
             ],
             [
              1,
              "#f0f921"
             ]
            ],
            "type": "surface"
           }
          ],
          "table": [
           {
            "cells": {
             "fill": {
              "color": "#EBF0F8"
             },
             "line": {
              "color": "white"
             }
            },
            "header": {
             "fill": {
              "color": "#C8D4E3"
             },
             "line": {
              "color": "white"
             }
            },
            "type": "table"
           }
          ]
         },
         "layout": {
          "annotationdefaults": {
           "arrowcolor": "#2a3f5f",
           "arrowhead": 0,
           "arrowwidth": 1
          },
          "autotypenumbers": "strict",
          "coloraxis": {
           "colorbar": {
            "outlinewidth": 0,
            "ticks": ""
           }
          },
          "colorscale": {
           "diverging": [
            [
             0,
             "#8e0152"
            ],
            [
             0.1,
             "#c51b7d"
            ],
            [
             0.2,
             "#de77ae"
            ],
            [
             0.3,
             "#f1b6da"
            ],
            [
             0.4,
             "#fde0ef"
            ],
            [
             0.5,
             "#f7f7f7"
            ],
            [
             0.6,
             "#e6f5d0"
            ],
            [
             0.7,
             "#b8e186"
            ],
            [
             0.8,
             "#7fbc41"
            ],
            [
             0.9,
             "#4d9221"
            ],
            [
             1,
             "#276419"
            ]
           ],
           "sequential": [
            [
             0,
             "#0d0887"
            ],
            [
             0.1111111111111111,
             "#46039f"
            ],
            [
             0.2222222222222222,
             "#7201a8"
            ],
            [
             0.3333333333333333,
             "#9c179e"
            ],
            [
             0.4444444444444444,
             "#bd3786"
            ],
            [
             0.5555555555555556,
             "#d8576b"
            ],
            [
             0.6666666666666666,
             "#ed7953"
            ],
            [
             0.7777777777777778,
             "#fb9f3a"
            ],
            [
             0.8888888888888888,
             "#fdca26"
            ],
            [
             1,
             "#f0f921"
            ]
           ],
           "sequentialminus": [
            [
             0,
             "#0d0887"
            ],
            [
             0.1111111111111111,
             "#46039f"
            ],
            [
             0.2222222222222222,
             "#7201a8"
            ],
            [
             0.3333333333333333,
             "#9c179e"
            ],
            [
             0.4444444444444444,
             "#bd3786"
            ],
            [
             0.5555555555555556,
             "#d8576b"
            ],
            [
             0.6666666666666666,
             "#ed7953"
            ],
            [
             0.7777777777777778,
             "#fb9f3a"
            ],
            [
             0.8888888888888888,
             "#fdca26"
            ],
            [
             1,
             "#f0f921"
            ]
           ]
          },
          "colorway": [
           "#636efa",
           "#EF553B",
           "#00cc96",
           "#ab63fa",
           "#FFA15A",
           "#19d3f3",
           "#FF6692",
           "#B6E880",
           "#FF97FF",
           "#FECB52"
          ],
          "font": {
           "color": "#2a3f5f"
          },
          "geo": {
           "bgcolor": "white",
           "lakecolor": "white",
           "landcolor": "#E5ECF6",
           "showlakes": true,
           "showland": true,
           "subunitcolor": "white"
          },
          "hoverlabel": {
           "align": "left"
          },
          "hovermode": "closest",
          "mapbox": {
           "style": "light"
          },
          "paper_bgcolor": "white",
          "plot_bgcolor": "#E5ECF6",
          "polar": {
           "angularaxis": {
            "gridcolor": "white",
            "linecolor": "white",
            "ticks": ""
           },
           "bgcolor": "#E5ECF6",
           "radialaxis": {
            "gridcolor": "white",
            "linecolor": "white",
            "ticks": ""
           }
          },
          "scene": {
           "xaxis": {
            "backgroundcolor": "#E5ECF6",
            "gridcolor": "white",
            "gridwidth": 2,
            "linecolor": "white",
            "showbackground": true,
            "ticks": "",
            "zerolinecolor": "white"
           },
           "yaxis": {
            "backgroundcolor": "#E5ECF6",
            "gridcolor": "white",
            "gridwidth": 2,
            "linecolor": "white",
            "showbackground": true,
            "ticks": "",
            "zerolinecolor": "white"
           },
           "zaxis": {
            "backgroundcolor": "#E5ECF6",
            "gridcolor": "white",
            "gridwidth": 2,
            "linecolor": "white",
            "showbackground": true,
            "ticks": "",
            "zerolinecolor": "white"
           }
          },
          "shapedefaults": {
           "line": {
            "color": "#2a3f5f"
           }
          },
          "ternary": {
           "aaxis": {
            "gridcolor": "white",
            "linecolor": "white",
            "ticks": ""
           },
           "baxis": {
            "gridcolor": "white",
            "linecolor": "white",
            "ticks": ""
           },
           "bgcolor": "#E5ECF6",
           "caxis": {
            "gridcolor": "white",
            "linecolor": "white",
            "ticks": ""
           }
          },
          "title": {
           "x": 0.05
          },
          "xaxis": {
           "automargin": true,
           "gridcolor": "white",
           "linecolor": "white",
           "ticks": "",
           "title": {
            "standoff": 15
           },
           "zerolinecolor": "white",
           "zerolinewidth": 2
          },
          "yaxis": {
           "automargin": true,
           "gridcolor": "white",
           "linecolor": "white",
           "ticks": "",
           "title": {
            "standoff": 15
           },
           "zerolinecolor": "white",
           "zerolinewidth": 2
          }
         }
        },
        "title": {
         "text": "Optimization History Plot"
        },
        "xaxis": {
         "title": {
          "text": "Trial"
         }
        },
        "yaxis": {
         "title": {
          "text": "f1_score"
         }
        }
       }
      }
     },
     "metadata": {},
     "output_type": "display_data"
    }
   ],
   "source": [
    "#check whether optimization is moving in the right direction by display the number of trials on x-axis and the metrics on y_axis\n",
    "optuna.visualization.plot_optimization_history(study_optuna_1,\n",
    "                                               target_name='f1_score')"
   ]
  },
  {
   "cell_type": "code",
   "execution_count": 31,
   "metadata": {},
   "outputs": [
    {
     "data": {
      "application/vnd.plotly.v1+json": {
       "config": {
        "plotlyServerURL": "https://plot.ly"
       },
       "data": [
        {
         "cliponaxis": false,
         "hovertemplate": [
          "solver (CategoricalDistribution): 0.058772602339140126<extra></extra>",
          "C (CategoricalDistribution): 0.263275928773042<extra></extra>",
          "penalty (CategoricalDistribution): 0.6779514688878178<extra></extra>"
         ],
         "name": "f1_score",
         "orientation": "h",
         "text": [
          "0.06",
          "0.26",
          "0.68"
         ],
         "textposition": "outside",
         "type": "bar",
         "x": [
          0.058772602339140126,
          0.263275928773042,
          0.6779514688878178
         ],
         "y": [
          "solver",
          "C",
          "penalty"
         ]
        }
       ],
       "layout": {
        "template": {
         "data": {
          "bar": [
           {
            "error_x": {
             "color": "#2a3f5f"
            },
            "error_y": {
             "color": "#2a3f5f"
            },
            "marker": {
             "line": {
              "color": "#E5ECF6",
              "width": 0.5
             },
             "pattern": {
              "fillmode": "overlay",
              "size": 10,
              "solidity": 0.2
             }
            },
            "type": "bar"
           }
          ],
          "barpolar": [
           {
            "marker": {
             "line": {
              "color": "#E5ECF6",
              "width": 0.5
             },
             "pattern": {
              "fillmode": "overlay",
              "size": 10,
              "solidity": 0.2
             }
            },
            "type": "barpolar"
           }
          ],
          "carpet": [
           {
            "aaxis": {
             "endlinecolor": "#2a3f5f",
             "gridcolor": "white",
             "linecolor": "white",
             "minorgridcolor": "white",
             "startlinecolor": "#2a3f5f"
            },
            "baxis": {
             "endlinecolor": "#2a3f5f",
             "gridcolor": "white",
             "linecolor": "white",
             "minorgridcolor": "white",
             "startlinecolor": "#2a3f5f"
            },
            "type": "carpet"
           }
          ],
          "choropleth": [
           {
            "colorbar": {
             "outlinewidth": 0,
             "ticks": ""
            },
            "type": "choropleth"
           }
          ],
          "contour": [
           {
            "colorbar": {
             "outlinewidth": 0,
             "ticks": ""
            },
            "colorscale": [
             [
              0,
              "#0d0887"
             ],
             [
              0.1111111111111111,
              "#46039f"
             ],
             [
              0.2222222222222222,
              "#7201a8"
             ],
             [
              0.3333333333333333,
              "#9c179e"
             ],
             [
              0.4444444444444444,
              "#bd3786"
             ],
             [
              0.5555555555555556,
              "#d8576b"
             ],
             [
              0.6666666666666666,
              "#ed7953"
             ],
             [
              0.7777777777777778,
              "#fb9f3a"
             ],
             [
              0.8888888888888888,
              "#fdca26"
             ],
             [
              1,
              "#f0f921"
             ]
            ],
            "type": "contour"
           }
          ],
          "contourcarpet": [
           {
            "colorbar": {
             "outlinewidth": 0,
             "ticks": ""
            },
            "type": "contourcarpet"
           }
          ],
          "heatmap": [
           {
            "colorbar": {
             "outlinewidth": 0,
             "ticks": ""
            },
            "colorscale": [
             [
              0,
              "#0d0887"
             ],
             [
              0.1111111111111111,
              "#46039f"
             ],
             [
              0.2222222222222222,
              "#7201a8"
             ],
             [
              0.3333333333333333,
              "#9c179e"
             ],
             [
              0.4444444444444444,
              "#bd3786"
             ],
             [
              0.5555555555555556,
              "#d8576b"
             ],
             [
              0.6666666666666666,
              "#ed7953"
             ],
             [
              0.7777777777777778,
              "#fb9f3a"
             ],
             [
              0.8888888888888888,
              "#fdca26"
             ],
             [
              1,
              "#f0f921"
             ]
            ],
            "type": "heatmap"
           }
          ],
          "heatmapgl": [
           {
            "colorbar": {
             "outlinewidth": 0,
             "ticks": ""
            },
            "colorscale": [
             [
              0,
              "#0d0887"
             ],
             [
              0.1111111111111111,
              "#46039f"
             ],
             [
              0.2222222222222222,
              "#7201a8"
             ],
             [
              0.3333333333333333,
              "#9c179e"
             ],
             [
              0.4444444444444444,
              "#bd3786"
             ],
             [
              0.5555555555555556,
              "#d8576b"
             ],
             [
              0.6666666666666666,
              "#ed7953"
             ],
             [
              0.7777777777777778,
              "#fb9f3a"
             ],
             [
              0.8888888888888888,
              "#fdca26"
             ],
             [
              1,
              "#f0f921"
             ]
            ],
            "type": "heatmapgl"
           }
          ],
          "histogram": [
           {
            "marker": {
             "pattern": {
              "fillmode": "overlay",
              "size": 10,
              "solidity": 0.2
             }
            },
            "type": "histogram"
           }
          ],
          "histogram2d": [
           {
            "colorbar": {
             "outlinewidth": 0,
             "ticks": ""
            },
            "colorscale": [
             [
              0,
              "#0d0887"
             ],
             [
              0.1111111111111111,
              "#46039f"
             ],
             [
              0.2222222222222222,
              "#7201a8"
             ],
             [
              0.3333333333333333,
              "#9c179e"
             ],
             [
              0.4444444444444444,
              "#bd3786"
             ],
             [
              0.5555555555555556,
              "#d8576b"
             ],
             [
              0.6666666666666666,
              "#ed7953"
             ],
             [
              0.7777777777777778,
              "#fb9f3a"
             ],
             [
              0.8888888888888888,
              "#fdca26"
             ],
             [
              1,
              "#f0f921"
             ]
            ],
            "type": "histogram2d"
           }
          ],
          "histogram2dcontour": [
           {
            "colorbar": {
             "outlinewidth": 0,
             "ticks": ""
            },
            "colorscale": [
             [
              0,
              "#0d0887"
             ],
             [
              0.1111111111111111,
              "#46039f"
             ],
             [
              0.2222222222222222,
              "#7201a8"
             ],
             [
              0.3333333333333333,
              "#9c179e"
             ],
             [
              0.4444444444444444,
              "#bd3786"
             ],
             [
              0.5555555555555556,
              "#d8576b"
             ],
             [
              0.6666666666666666,
              "#ed7953"
             ],
             [
              0.7777777777777778,
              "#fb9f3a"
             ],
             [
              0.8888888888888888,
              "#fdca26"
             ],
             [
              1,
              "#f0f921"
             ]
            ],
            "type": "histogram2dcontour"
           }
          ],
          "mesh3d": [
           {
            "colorbar": {
             "outlinewidth": 0,
             "ticks": ""
            },
            "type": "mesh3d"
           }
          ],
          "parcoords": [
           {
            "line": {
             "colorbar": {
              "outlinewidth": 0,
              "ticks": ""
             }
            },
            "type": "parcoords"
           }
          ],
          "pie": [
           {
            "automargin": true,
            "type": "pie"
           }
          ],
          "scatter": [
           {
            "fillpattern": {
             "fillmode": "overlay",
             "size": 10,
             "solidity": 0.2
            },
            "type": "scatter"
           }
          ],
          "scatter3d": [
           {
            "line": {
             "colorbar": {
              "outlinewidth": 0,
              "ticks": ""
             }
            },
            "marker": {
             "colorbar": {
              "outlinewidth": 0,
              "ticks": ""
             }
            },
            "type": "scatter3d"
           }
          ],
          "scattercarpet": [
           {
            "marker": {
             "colorbar": {
              "outlinewidth": 0,
              "ticks": ""
             }
            },
            "type": "scattercarpet"
           }
          ],
          "scattergeo": [
           {
            "marker": {
             "colorbar": {
              "outlinewidth": 0,
              "ticks": ""
             }
            },
            "type": "scattergeo"
           }
          ],
          "scattergl": [
           {
            "marker": {
             "colorbar": {
              "outlinewidth": 0,
              "ticks": ""
             }
            },
            "type": "scattergl"
           }
          ],
          "scattermapbox": [
           {
            "marker": {
             "colorbar": {
              "outlinewidth": 0,
              "ticks": ""
             }
            },
            "type": "scattermapbox"
           }
          ],
          "scatterpolar": [
           {
            "marker": {
             "colorbar": {
              "outlinewidth": 0,
              "ticks": ""
             }
            },
            "type": "scatterpolar"
           }
          ],
          "scatterpolargl": [
           {
            "marker": {
             "colorbar": {
              "outlinewidth": 0,
              "ticks": ""
             }
            },
            "type": "scatterpolargl"
           }
          ],
          "scatterternary": [
           {
            "marker": {
             "colorbar": {
              "outlinewidth": 0,
              "ticks": ""
             }
            },
            "type": "scatterternary"
           }
          ],
          "surface": [
           {
            "colorbar": {
             "outlinewidth": 0,
             "ticks": ""
            },
            "colorscale": [
             [
              0,
              "#0d0887"
             ],
             [
              0.1111111111111111,
              "#46039f"
             ],
             [
              0.2222222222222222,
              "#7201a8"
             ],
             [
              0.3333333333333333,
              "#9c179e"
             ],
             [
              0.4444444444444444,
              "#bd3786"
             ],
             [
              0.5555555555555556,
              "#d8576b"
             ],
             [
              0.6666666666666666,
              "#ed7953"
             ],
             [
              0.7777777777777778,
              "#fb9f3a"
             ],
             [
              0.8888888888888888,
              "#fdca26"
             ],
             [
              1,
              "#f0f921"
             ]
            ],
            "type": "surface"
           }
          ],
          "table": [
           {
            "cells": {
             "fill": {
              "color": "#EBF0F8"
             },
             "line": {
              "color": "white"
             }
            },
            "header": {
             "fill": {
              "color": "#C8D4E3"
             },
             "line": {
              "color": "white"
             }
            },
            "type": "table"
           }
          ]
         },
         "layout": {
          "annotationdefaults": {
           "arrowcolor": "#2a3f5f",
           "arrowhead": 0,
           "arrowwidth": 1
          },
          "autotypenumbers": "strict",
          "coloraxis": {
           "colorbar": {
            "outlinewidth": 0,
            "ticks": ""
           }
          },
          "colorscale": {
           "diverging": [
            [
             0,
             "#8e0152"
            ],
            [
             0.1,
             "#c51b7d"
            ],
            [
             0.2,
             "#de77ae"
            ],
            [
             0.3,
             "#f1b6da"
            ],
            [
             0.4,
             "#fde0ef"
            ],
            [
             0.5,
             "#f7f7f7"
            ],
            [
             0.6,
             "#e6f5d0"
            ],
            [
             0.7,
             "#b8e186"
            ],
            [
             0.8,
             "#7fbc41"
            ],
            [
             0.9,
             "#4d9221"
            ],
            [
             1,
             "#276419"
            ]
           ],
           "sequential": [
            [
             0,
             "#0d0887"
            ],
            [
             0.1111111111111111,
             "#46039f"
            ],
            [
             0.2222222222222222,
             "#7201a8"
            ],
            [
             0.3333333333333333,
             "#9c179e"
            ],
            [
             0.4444444444444444,
             "#bd3786"
            ],
            [
             0.5555555555555556,
             "#d8576b"
            ],
            [
             0.6666666666666666,
             "#ed7953"
            ],
            [
             0.7777777777777778,
             "#fb9f3a"
            ],
            [
             0.8888888888888888,
             "#fdca26"
            ],
            [
             1,
             "#f0f921"
            ]
           ],
           "sequentialminus": [
            [
             0,
             "#0d0887"
            ],
            [
             0.1111111111111111,
             "#46039f"
            ],
            [
             0.2222222222222222,
             "#7201a8"
            ],
            [
             0.3333333333333333,
             "#9c179e"
            ],
            [
             0.4444444444444444,
             "#bd3786"
            ],
            [
             0.5555555555555556,
             "#d8576b"
            ],
            [
             0.6666666666666666,
             "#ed7953"
            ],
            [
             0.7777777777777778,
             "#fb9f3a"
            ],
            [
             0.8888888888888888,
             "#fdca26"
            ],
            [
             1,
             "#f0f921"
            ]
           ]
          },
          "colorway": [
           "#636efa",
           "#EF553B",
           "#00cc96",
           "#ab63fa",
           "#FFA15A",
           "#19d3f3",
           "#FF6692",
           "#B6E880",
           "#FF97FF",
           "#FECB52"
          ],
          "font": {
           "color": "#2a3f5f"
          },
          "geo": {
           "bgcolor": "white",
           "lakecolor": "white",
           "landcolor": "#E5ECF6",
           "showlakes": true,
           "showland": true,
           "subunitcolor": "white"
          },
          "hoverlabel": {
           "align": "left"
          },
          "hovermode": "closest",
          "mapbox": {
           "style": "light"
          },
          "paper_bgcolor": "white",
          "plot_bgcolor": "#E5ECF6",
          "polar": {
           "angularaxis": {
            "gridcolor": "white",
            "linecolor": "white",
            "ticks": ""
           },
           "bgcolor": "#E5ECF6",
           "radialaxis": {
            "gridcolor": "white",
            "linecolor": "white",
            "ticks": ""
           }
          },
          "scene": {
           "xaxis": {
            "backgroundcolor": "#E5ECF6",
            "gridcolor": "white",
            "gridwidth": 2,
            "linecolor": "white",
            "showbackground": true,
            "ticks": "",
            "zerolinecolor": "white"
           },
           "yaxis": {
            "backgroundcolor": "#E5ECF6",
            "gridcolor": "white",
            "gridwidth": 2,
            "linecolor": "white",
            "showbackground": true,
            "ticks": "",
            "zerolinecolor": "white"
           },
           "zaxis": {
            "backgroundcolor": "#E5ECF6",
            "gridcolor": "white",
            "gridwidth": 2,
            "linecolor": "white",
            "showbackground": true,
            "ticks": "",
            "zerolinecolor": "white"
           }
          },
          "shapedefaults": {
           "line": {
            "color": "#2a3f5f"
           }
          },
          "ternary": {
           "aaxis": {
            "gridcolor": "white",
            "linecolor": "white",
            "ticks": ""
           },
           "baxis": {
            "gridcolor": "white",
            "linecolor": "white",
            "ticks": ""
           },
           "bgcolor": "#E5ECF6",
           "caxis": {
            "gridcolor": "white",
            "linecolor": "white",
            "ticks": ""
           }
          },
          "title": {
           "x": 0.05
          },
          "xaxis": {
           "automargin": true,
           "gridcolor": "white",
           "linecolor": "white",
           "ticks": "",
           "title": {
            "standoff": 15
           },
           "zerolinecolor": "white",
           "zerolinewidth": 2
          },
          "yaxis": {
           "automargin": true,
           "gridcolor": "white",
           "linecolor": "white",
           "ticks": "",
           "title": {
            "standoff": 15
           },
           "zerolinecolor": "white",
           "zerolinewidth": 2
          }
         }
        },
        "title": {
         "text": "Hyperparameter Importances"
        },
        "xaxis": {
         "title": {
          "text": "Hyperparameter Importance"
         }
        },
        "yaxis": {
         "title": {
          "text": "Hyperparameter"
         }
        }
       }
      }
     },
     "metadata": {},
     "output_type": "display_data"
    }
   ],
   "source": [
    "#find which hyperparameters contribute the most to the maximization of the metric \n",
    "optuna.visualization.plot_param_importances(study_optuna_1,\n",
    "                                            target_name='f1_score')"
   ]
  },
  {
   "cell_type": "markdown",
   "metadata": {},
   "source": [
    "Optuna - Test 2"
   ]
  },
  {
   "cell_type": "code",
   "execution_count": 33,
   "metadata": {},
   "outputs": [
    {
     "name": "stderr",
     "output_type": "stream",
     "text": [
      "[I 2024-06-22 23:29:22,958] A new study created in memory with name: LogisticRegression\n",
      "[I 2024-06-22 23:29:25,949] Trial 0 finished with value: 0.7778320371251299 and parameters: {'penalty': 'l1', 'solver': 'liblinear', 'C': 0.9}. Best is trial 0 with value: 0.7778320371251299.\n",
      "[I 2024-06-22 23:29:47,686] Trial 1 finished with value: 0.7764604199292489 and parameters: {'penalty': 'l2', 'solver': 'saga', 'C': 0.9}. Best is trial 0 with value: 0.7778320371251299.\n",
      "[I 2024-06-22 23:29:53,214] Trial 2 finished with value: 0.7838901806138469 and parameters: {'penalty': 'l2', 'solver': 'saga', 'C': 0.01}. Best is trial 2 with value: 0.7838901806138469.\n",
      "[I 2024-06-22 23:30:16,189] Trial 3 finished with value: 0.7749759884359713 and parameters: {'penalty': 'l2', 'solver': 'saga', 'C': 1}. Best is trial 2 with value: 0.7838901806138469.\n",
      "[I 2024-06-22 23:30:16,828] Trial 4 finished with value: 0.7755686235712443 and parameters: {'penalty': 'l2', 'solver': 'liblinear', 'C': 0.9}. Best is trial 2 with value: 0.7838901806138469.\n",
      "[I 2024-06-22 23:30:31,137] Trial 5 finished with value: 0.7779362899909195 and parameters: {'penalty': 'l2', 'solver': 'saga', 'C': 0.5}. Best is trial 2 with value: 0.7838901806138469.\n",
      "[I 2024-06-22 23:30:43,595] Trial 6 finished with value: 0.7843850977891768 and parameters: {'penalty': 'l2', 'solver': 'saga', 'C': 0.1}. Best is trial 6 with value: 0.7843850977891768.\n",
      "[I 2024-06-22 23:30:43,939] Trial 7 finished with value: 0.7844778123434012 and parameters: {'penalty': 'l1', 'solver': 'liblinear', 'C': 0.1}. Best is trial 7 with value: 0.7844778123434012.\n",
      "[I 2024-06-22 23:31:02,165] Trial 8 finished with value: 0.777885936743772 and parameters: {'penalty': 'l2', 'solver': 'saga', 'C': 0.7}. Best is trial 7 with value: 0.7844778123434012.\n",
      "[I 2024-06-22 23:31:02,430] Trial 9 finished with value: 0.76984524670156 and parameters: {'penalty': 'l1', 'solver': 'liblinear', 'C': 0.05}. Best is trial 7 with value: 0.7844778123434012.\n"
     ]
    },
    {
     "name": "stdout",
     "output_type": "stream",
     "text": [
      "CPU times: user 233 ms, sys: 223 ms, total: 457 ms\n",
      "Wall time: 1min 39s\n"
     ]
    }
   ],
   "source": [
    "%%time\n",
    "#set hyperparameters for 2nd study\n",
    "grid_optuna_2 = {\n",
    "    'penalty': ['l1', 'l2'],\n",
    "    'solver': ['liblinear', 'saga'],\n",
    "    'C': coef_lst,\n",
    "}\n",
    "\n",
    "#begin hyperparameters selection\n",
    "#create review object\n",
    "study_optuna_2 = optuna.create_study(\n",
    "    study_name='LogisticRegression',\n",
    "    direction='maximize',\n",
    "    sampler=samplers.GridSampler(grid_optuna_2)\n",
    "    )\n",
    "\n",
    "#search for the best combination\n",
    "study_optuna_2.optimize(optuna_log_reg,\n",
    "                        n_trials=10)"
   ]
  },
  {
   "cell_type": "code",
   "execution_count": 34,
   "metadata": {},
   "outputs": [
    {
     "name": "stdout",
     "output_type": "stream",
     "text": [
      "train data:\n",
      "f1 score: 0.784\n",
      "best hyperparameters for logistic regression using optuna {'penalty': 'l1', 'solver': 'liblinear', 'C': 0.1}\n"
     ]
    }
   ],
   "source": [
    "#display results for train data\n",
    "print('train data:')\n",
    "print(f'f1 score: {study_optuna_2.best_value:.3f}')\n",
    "print(f'best hyperparameters for logistic regression using optuna {study_optuna_2.best_params}')"
   ]
  },
  {
   "cell_type": "code",
   "execution_count": 35,
   "metadata": {},
   "outputs": [],
   "source": [
    "#find the metrics for test data\n",
    "model_opt_log_reg_2 = linear_model.LogisticRegression(\n",
    "    **study_optuna_2.best_params,\n",
    "    random_state=42\n",
    "    )\n",
    "\n",
    "#model learning\n",
    "model_opt_log_reg_2.fit(X_train, y_train)\n",
    "\n",
    "#make a prediction\n",
    "y_train_pred = model_opt_log_reg_2.predict(X_train)\n",
    "y_test_pred = model_opt_log_reg_2.predict(X_test)"
   ]
  },
  {
   "cell_type": "code",
   "execution_count": 36,
   "metadata": {},
   "outputs": [
    {
     "name": "stdout",
     "output_type": "stream",
     "text": [
      "train data:\n",
      "f1_score: 0.807\n",
      "accuracy: 0.784\n",
      "\n",
      "test data\n",
      "f1_score: 0.770\n",
      "accuracy: 0.740\n"
     ]
    }
   ],
   "source": [
    "#display the metrics\n",
    "print('train data:')\n",
    "print(f'f1_score: {metrics.f1_score(y_train, y_train_pred):.3f}')\n",
    "print(f'accuracy: {model_opt_log_reg_2.score(X_train, y_train):.3f}')\n",
    "print()\n",
    "print('test data')\n",
    "print(f'f1_score: {metrics.f1_score(y_test, y_test_pred):.3f}')\n",
    "print(f'accuracy: {model_opt_log_reg_2.score(X_test, y_test):.3f}')"
   ]
  },
  {
   "cell_type": "code",
   "execution_count": 37,
   "metadata": {},
   "outputs": [
    {
     "data": {
      "application/vnd.plotly.v1+json": {
       "config": {
        "plotlyServerURL": "https://plot.ly"
       },
       "data": [
        {
         "mode": "markers",
         "name": "f1_score",
         "type": "scatter",
         "x": [
          0,
          1,
          2,
          3,
          4,
          5,
          6,
          7,
          8,
          9
         ],
         "y": [
          0.7778320371251299,
          0.7764604199292489,
          0.7838901806138469,
          0.7749759884359713,
          0.7755686235712443,
          0.7779362899909195,
          0.7843850977891768,
          0.7844778123434012,
          0.777885936743772,
          0.76984524670156
         ]
        },
        {
         "mode": "lines",
         "name": "Best Value",
         "type": "scatter",
         "x": [
          0,
          1,
          2,
          3,
          4,
          5,
          6,
          7,
          8,
          9
         ],
         "y": [
          0.7778320371251299,
          0.7778320371251299,
          0.7838901806138469,
          0.7838901806138469,
          0.7838901806138469,
          0.7838901806138469,
          0.7843850977891768,
          0.7844778123434012,
          0.7844778123434012,
          0.7844778123434012
         ]
        },
        {
         "marker": {
          "color": "#cccccc"
         },
         "mode": "markers",
         "name": "Infeasible Trial",
         "showlegend": false,
         "type": "scatter",
         "x": [],
         "y": []
        }
       ],
       "layout": {
        "template": {
         "data": {
          "bar": [
           {
            "error_x": {
             "color": "#2a3f5f"
            },
            "error_y": {
             "color": "#2a3f5f"
            },
            "marker": {
             "line": {
              "color": "#E5ECF6",
              "width": 0.5
             },
             "pattern": {
              "fillmode": "overlay",
              "size": 10,
              "solidity": 0.2
             }
            },
            "type": "bar"
           }
          ],
          "barpolar": [
           {
            "marker": {
             "line": {
              "color": "#E5ECF6",
              "width": 0.5
             },
             "pattern": {
              "fillmode": "overlay",
              "size": 10,
              "solidity": 0.2
             }
            },
            "type": "barpolar"
           }
          ],
          "carpet": [
           {
            "aaxis": {
             "endlinecolor": "#2a3f5f",
             "gridcolor": "white",
             "linecolor": "white",
             "minorgridcolor": "white",
             "startlinecolor": "#2a3f5f"
            },
            "baxis": {
             "endlinecolor": "#2a3f5f",
             "gridcolor": "white",
             "linecolor": "white",
             "minorgridcolor": "white",
             "startlinecolor": "#2a3f5f"
            },
            "type": "carpet"
           }
          ],
          "choropleth": [
           {
            "colorbar": {
             "outlinewidth": 0,
             "ticks": ""
            },
            "type": "choropleth"
           }
          ],
          "contour": [
           {
            "colorbar": {
             "outlinewidth": 0,
             "ticks": ""
            },
            "colorscale": [
             [
              0,
              "#0d0887"
             ],
             [
              0.1111111111111111,
              "#46039f"
             ],
             [
              0.2222222222222222,
              "#7201a8"
             ],
             [
              0.3333333333333333,
              "#9c179e"
             ],
             [
              0.4444444444444444,
              "#bd3786"
             ],
             [
              0.5555555555555556,
              "#d8576b"
             ],
             [
              0.6666666666666666,
              "#ed7953"
             ],
             [
              0.7777777777777778,
              "#fb9f3a"
             ],
             [
              0.8888888888888888,
              "#fdca26"
             ],
             [
              1,
              "#f0f921"
             ]
            ],
            "type": "contour"
           }
          ],
          "contourcarpet": [
           {
            "colorbar": {
             "outlinewidth": 0,
             "ticks": ""
            },
            "type": "contourcarpet"
           }
          ],
          "heatmap": [
           {
            "colorbar": {
             "outlinewidth": 0,
             "ticks": ""
            },
            "colorscale": [
             [
              0,
              "#0d0887"
             ],
             [
              0.1111111111111111,
              "#46039f"
             ],
             [
              0.2222222222222222,
              "#7201a8"
             ],
             [
              0.3333333333333333,
              "#9c179e"
             ],
             [
              0.4444444444444444,
              "#bd3786"
             ],
             [
              0.5555555555555556,
              "#d8576b"
             ],
             [
              0.6666666666666666,
              "#ed7953"
             ],
             [
              0.7777777777777778,
              "#fb9f3a"
             ],
             [
              0.8888888888888888,
              "#fdca26"
             ],
             [
              1,
              "#f0f921"
             ]
            ],
            "type": "heatmap"
           }
          ],
          "heatmapgl": [
           {
            "colorbar": {
             "outlinewidth": 0,
             "ticks": ""
            },
            "colorscale": [
             [
              0,
              "#0d0887"
             ],
             [
              0.1111111111111111,
              "#46039f"
             ],
             [
              0.2222222222222222,
              "#7201a8"
             ],
             [
              0.3333333333333333,
              "#9c179e"
             ],
             [
              0.4444444444444444,
              "#bd3786"
             ],
             [
              0.5555555555555556,
              "#d8576b"
             ],
             [
              0.6666666666666666,
              "#ed7953"
             ],
             [
              0.7777777777777778,
              "#fb9f3a"
             ],
             [
              0.8888888888888888,
              "#fdca26"
             ],
             [
              1,
              "#f0f921"
             ]
            ],
            "type": "heatmapgl"
           }
          ],
          "histogram": [
           {
            "marker": {
             "pattern": {
              "fillmode": "overlay",
              "size": 10,
              "solidity": 0.2
             }
            },
            "type": "histogram"
           }
          ],
          "histogram2d": [
           {
            "colorbar": {
             "outlinewidth": 0,
             "ticks": ""
            },
            "colorscale": [
             [
              0,
              "#0d0887"
             ],
             [
              0.1111111111111111,
              "#46039f"
             ],
             [
              0.2222222222222222,
              "#7201a8"
             ],
             [
              0.3333333333333333,
              "#9c179e"
             ],
             [
              0.4444444444444444,
              "#bd3786"
             ],
             [
              0.5555555555555556,
              "#d8576b"
             ],
             [
              0.6666666666666666,
              "#ed7953"
             ],
             [
              0.7777777777777778,
              "#fb9f3a"
             ],
             [
              0.8888888888888888,
              "#fdca26"
             ],
             [
              1,
              "#f0f921"
             ]
            ],
            "type": "histogram2d"
           }
          ],
          "histogram2dcontour": [
           {
            "colorbar": {
             "outlinewidth": 0,
             "ticks": ""
            },
            "colorscale": [
             [
              0,
              "#0d0887"
             ],
             [
              0.1111111111111111,
              "#46039f"
             ],
             [
              0.2222222222222222,
              "#7201a8"
             ],
             [
              0.3333333333333333,
              "#9c179e"
             ],
             [
              0.4444444444444444,
              "#bd3786"
             ],
             [
              0.5555555555555556,
              "#d8576b"
             ],
             [
              0.6666666666666666,
              "#ed7953"
             ],
             [
              0.7777777777777778,
              "#fb9f3a"
             ],
             [
              0.8888888888888888,
              "#fdca26"
             ],
             [
              1,
              "#f0f921"
             ]
            ],
            "type": "histogram2dcontour"
           }
          ],
          "mesh3d": [
           {
            "colorbar": {
             "outlinewidth": 0,
             "ticks": ""
            },
            "type": "mesh3d"
           }
          ],
          "parcoords": [
           {
            "line": {
             "colorbar": {
              "outlinewidth": 0,
              "ticks": ""
             }
            },
            "type": "parcoords"
           }
          ],
          "pie": [
           {
            "automargin": true,
            "type": "pie"
           }
          ],
          "scatter": [
           {
            "fillpattern": {
             "fillmode": "overlay",
             "size": 10,
             "solidity": 0.2
            },
            "type": "scatter"
           }
          ],
          "scatter3d": [
           {
            "line": {
             "colorbar": {
              "outlinewidth": 0,
              "ticks": ""
             }
            },
            "marker": {
             "colorbar": {
              "outlinewidth": 0,
              "ticks": ""
             }
            },
            "type": "scatter3d"
           }
          ],
          "scattercarpet": [
           {
            "marker": {
             "colorbar": {
              "outlinewidth": 0,
              "ticks": ""
             }
            },
            "type": "scattercarpet"
           }
          ],
          "scattergeo": [
           {
            "marker": {
             "colorbar": {
              "outlinewidth": 0,
              "ticks": ""
             }
            },
            "type": "scattergeo"
           }
          ],
          "scattergl": [
           {
            "marker": {
             "colorbar": {
              "outlinewidth": 0,
              "ticks": ""
             }
            },
            "type": "scattergl"
           }
          ],
          "scattermapbox": [
           {
            "marker": {
             "colorbar": {
              "outlinewidth": 0,
              "ticks": ""
             }
            },
            "type": "scattermapbox"
           }
          ],
          "scatterpolar": [
           {
            "marker": {
             "colorbar": {
              "outlinewidth": 0,
              "ticks": ""
             }
            },
            "type": "scatterpolar"
           }
          ],
          "scatterpolargl": [
           {
            "marker": {
             "colorbar": {
              "outlinewidth": 0,
              "ticks": ""
             }
            },
            "type": "scatterpolargl"
           }
          ],
          "scatterternary": [
           {
            "marker": {
             "colorbar": {
              "outlinewidth": 0,
              "ticks": ""
             }
            },
            "type": "scatterternary"
           }
          ],
          "surface": [
           {
            "colorbar": {
             "outlinewidth": 0,
             "ticks": ""
            },
            "colorscale": [
             [
              0,
              "#0d0887"
             ],
             [
              0.1111111111111111,
              "#46039f"
             ],
             [
              0.2222222222222222,
              "#7201a8"
             ],
             [
              0.3333333333333333,
              "#9c179e"
             ],
             [
              0.4444444444444444,
              "#bd3786"
             ],
             [
              0.5555555555555556,
              "#d8576b"
             ],
             [
              0.6666666666666666,
              "#ed7953"
             ],
             [
              0.7777777777777778,
              "#fb9f3a"
             ],
             [
              0.8888888888888888,
              "#fdca26"
             ],
             [
              1,
              "#f0f921"
             ]
            ],
            "type": "surface"
           }
          ],
          "table": [
           {
            "cells": {
             "fill": {
              "color": "#EBF0F8"
             },
             "line": {
              "color": "white"
             }
            },
            "header": {
             "fill": {
              "color": "#C8D4E3"
             },
             "line": {
              "color": "white"
             }
            },
            "type": "table"
           }
          ]
         },
         "layout": {
          "annotationdefaults": {
           "arrowcolor": "#2a3f5f",
           "arrowhead": 0,
           "arrowwidth": 1
          },
          "autotypenumbers": "strict",
          "coloraxis": {
           "colorbar": {
            "outlinewidth": 0,
            "ticks": ""
           }
          },
          "colorscale": {
           "diverging": [
            [
             0,
             "#8e0152"
            ],
            [
             0.1,
             "#c51b7d"
            ],
            [
             0.2,
             "#de77ae"
            ],
            [
             0.3,
             "#f1b6da"
            ],
            [
             0.4,
             "#fde0ef"
            ],
            [
             0.5,
             "#f7f7f7"
            ],
            [
             0.6,
             "#e6f5d0"
            ],
            [
             0.7,
             "#b8e186"
            ],
            [
             0.8,
             "#7fbc41"
            ],
            [
             0.9,
             "#4d9221"
            ],
            [
             1,
             "#276419"
            ]
           ],
           "sequential": [
            [
             0,
             "#0d0887"
            ],
            [
             0.1111111111111111,
             "#46039f"
            ],
            [
             0.2222222222222222,
             "#7201a8"
            ],
            [
             0.3333333333333333,
             "#9c179e"
            ],
            [
             0.4444444444444444,
             "#bd3786"
            ],
            [
             0.5555555555555556,
             "#d8576b"
            ],
            [
             0.6666666666666666,
             "#ed7953"
            ],
            [
             0.7777777777777778,
             "#fb9f3a"
            ],
            [
             0.8888888888888888,
             "#fdca26"
            ],
            [
             1,
             "#f0f921"
            ]
           ],
           "sequentialminus": [
            [
             0,
             "#0d0887"
            ],
            [
             0.1111111111111111,
             "#46039f"
            ],
            [
             0.2222222222222222,
             "#7201a8"
            ],
            [
             0.3333333333333333,
             "#9c179e"
            ],
            [
             0.4444444444444444,
             "#bd3786"
            ],
            [
             0.5555555555555556,
             "#d8576b"
            ],
            [
             0.6666666666666666,
             "#ed7953"
            ],
            [
             0.7777777777777778,
             "#fb9f3a"
            ],
            [
             0.8888888888888888,
             "#fdca26"
            ],
            [
             1,
             "#f0f921"
            ]
           ]
          },
          "colorway": [
           "#636efa",
           "#EF553B",
           "#00cc96",
           "#ab63fa",
           "#FFA15A",
           "#19d3f3",
           "#FF6692",
           "#B6E880",
           "#FF97FF",
           "#FECB52"
          ],
          "font": {
           "color": "#2a3f5f"
          },
          "geo": {
           "bgcolor": "white",
           "lakecolor": "white",
           "landcolor": "#E5ECF6",
           "showlakes": true,
           "showland": true,
           "subunitcolor": "white"
          },
          "hoverlabel": {
           "align": "left"
          },
          "hovermode": "closest",
          "mapbox": {
           "style": "light"
          },
          "paper_bgcolor": "white",
          "plot_bgcolor": "#E5ECF6",
          "polar": {
           "angularaxis": {
            "gridcolor": "white",
            "linecolor": "white",
            "ticks": ""
           },
           "bgcolor": "#E5ECF6",
           "radialaxis": {
            "gridcolor": "white",
            "linecolor": "white",
            "ticks": ""
           }
          },
          "scene": {
           "xaxis": {
            "backgroundcolor": "#E5ECF6",
            "gridcolor": "white",
            "gridwidth": 2,
            "linecolor": "white",
            "showbackground": true,
            "ticks": "",
            "zerolinecolor": "white"
           },
           "yaxis": {
            "backgroundcolor": "#E5ECF6",
            "gridcolor": "white",
            "gridwidth": 2,
            "linecolor": "white",
            "showbackground": true,
            "ticks": "",
            "zerolinecolor": "white"
           },
           "zaxis": {
            "backgroundcolor": "#E5ECF6",
            "gridcolor": "white",
            "gridwidth": 2,
            "linecolor": "white",
            "showbackground": true,
            "ticks": "",
            "zerolinecolor": "white"
           }
          },
          "shapedefaults": {
           "line": {
            "color": "#2a3f5f"
           }
          },
          "ternary": {
           "aaxis": {
            "gridcolor": "white",
            "linecolor": "white",
            "ticks": ""
           },
           "baxis": {
            "gridcolor": "white",
            "linecolor": "white",
            "ticks": ""
           },
           "bgcolor": "#E5ECF6",
           "caxis": {
            "gridcolor": "white",
            "linecolor": "white",
            "ticks": ""
           }
          },
          "title": {
           "x": 0.05
          },
          "xaxis": {
           "automargin": true,
           "gridcolor": "white",
           "linecolor": "white",
           "ticks": "",
           "title": {
            "standoff": 15
           },
           "zerolinecolor": "white",
           "zerolinewidth": 2
          },
          "yaxis": {
           "automargin": true,
           "gridcolor": "white",
           "linecolor": "white",
           "ticks": "",
           "title": {
            "standoff": 15
           },
           "zerolinecolor": "white",
           "zerolinewidth": 2
          }
         }
        },
        "title": {
         "text": "Optimization History Plot"
        },
        "xaxis": {
         "title": {
          "text": "Trial"
         }
        },
        "yaxis": {
         "title": {
          "text": "f1_score"
         }
        }
       }
      }
     },
     "metadata": {},
     "output_type": "display_data"
    }
   ],
   "source": [
    "#check whether optimization is moving in the right direction by display the number of trials on x-axis and the metrics on y_axis\n",
    "optuna.visualization.plot_optimization_history(study_optuna_2,\n",
    "                                               target_name='f1_score')"
   ]
  },
  {
   "cell_type": "code",
   "execution_count": 38,
   "metadata": {},
   "outputs": [
    {
     "data": {
      "application/vnd.plotly.v1+json": {
       "config": {
        "plotlyServerURL": "https://plot.ly"
       },
       "data": [
        {
         "cliponaxis": false,
         "hovertemplate": [
          "solver (CategoricalDistribution): 0.01329338706936322<extra></extra>",
          "penalty (CategoricalDistribution): 0.025037729409241507<extra></extra>",
          "C (CategoricalDistribution): 0.9616688835213952<extra></extra>"
         ],
         "name": "f1_score",
         "orientation": "h",
         "text": [
          "0.01",
          "0.03",
          "0.96"
         ],
         "textposition": "outside",
         "type": "bar",
         "x": [
          0.01329338706936322,
          0.025037729409241507,
          0.9616688835213952
         ],
         "y": [
          "solver",
          "penalty",
          "C"
         ]
        }
       ],
       "layout": {
        "template": {
         "data": {
          "bar": [
           {
            "error_x": {
             "color": "#2a3f5f"
            },
            "error_y": {
             "color": "#2a3f5f"
            },
            "marker": {
             "line": {
              "color": "#E5ECF6",
              "width": 0.5
             },
             "pattern": {
              "fillmode": "overlay",
              "size": 10,
              "solidity": 0.2
             }
            },
            "type": "bar"
           }
          ],
          "barpolar": [
           {
            "marker": {
             "line": {
              "color": "#E5ECF6",
              "width": 0.5
             },
             "pattern": {
              "fillmode": "overlay",
              "size": 10,
              "solidity": 0.2
             }
            },
            "type": "barpolar"
           }
          ],
          "carpet": [
           {
            "aaxis": {
             "endlinecolor": "#2a3f5f",
             "gridcolor": "white",
             "linecolor": "white",
             "minorgridcolor": "white",
             "startlinecolor": "#2a3f5f"
            },
            "baxis": {
             "endlinecolor": "#2a3f5f",
             "gridcolor": "white",
             "linecolor": "white",
             "minorgridcolor": "white",
             "startlinecolor": "#2a3f5f"
            },
            "type": "carpet"
           }
          ],
          "choropleth": [
           {
            "colorbar": {
             "outlinewidth": 0,
             "ticks": ""
            },
            "type": "choropleth"
           }
          ],
          "contour": [
           {
            "colorbar": {
             "outlinewidth": 0,
             "ticks": ""
            },
            "colorscale": [
             [
              0,
              "#0d0887"
             ],
             [
              0.1111111111111111,
              "#46039f"
             ],
             [
              0.2222222222222222,
              "#7201a8"
             ],
             [
              0.3333333333333333,
              "#9c179e"
             ],
             [
              0.4444444444444444,
              "#bd3786"
             ],
             [
              0.5555555555555556,
              "#d8576b"
             ],
             [
              0.6666666666666666,
              "#ed7953"
             ],
             [
              0.7777777777777778,
              "#fb9f3a"
             ],
             [
              0.8888888888888888,
              "#fdca26"
             ],
             [
              1,
              "#f0f921"
             ]
            ],
            "type": "contour"
           }
          ],
          "contourcarpet": [
           {
            "colorbar": {
             "outlinewidth": 0,
             "ticks": ""
            },
            "type": "contourcarpet"
           }
          ],
          "heatmap": [
           {
            "colorbar": {
             "outlinewidth": 0,
             "ticks": ""
            },
            "colorscale": [
             [
              0,
              "#0d0887"
             ],
             [
              0.1111111111111111,
              "#46039f"
             ],
             [
              0.2222222222222222,
              "#7201a8"
             ],
             [
              0.3333333333333333,
              "#9c179e"
             ],
             [
              0.4444444444444444,
              "#bd3786"
             ],
             [
              0.5555555555555556,
              "#d8576b"
             ],
             [
              0.6666666666666666,
              "#ed7953"
             ],
             [
              0.7777777777777778,
              "#fb9f3a"
             ],
             [
              0.8888888888888888,
              "#fdca26"
             ],
             [
              1,
              "#f0f921"
             ]
            ],
            "type": "heatmap"
           }
          ],
          "heatmapgl": [
           {
            "colorbar": {
             "outlinewidth": 0,
             "ticks": ""
            },
            "colorscale": [
             [
              0,
              "#0d0887"
             ],
             [
              0.1111111111111111,
              "#46039f"
             ],
             [
              0.2222222222222222,
              "#7201a8"
             ],
             [
              0.3333333333333333,
              "#9c179e"
             ],
             [
              0.4444444444444444,
              "#bd3786"
             ],
             [
              0.5555555555555556,
              "#d8576b"
             ],
             [
              0.6666666666666666,
              "#ed7953"
             ],
             [
              0.7777777777777778,
              "#fb9f3a"
             ],
             [
              0.8888888888888888,
              "#fdca26"
             ],
             [
              1,
              "#f0f921"
             ]
            ],
            "type": "heatmapgl"
           }
          ],
          "histogram": [
           {
            "marker": {
             "pattern": {
              "fillmode": "overlay",
              "size": 10,
              "solidity": 0.2
             }
            },
            "type": "histogram"
           }
          ],
          "histogram2d": [
           {
            "colorbar": {
             "outlinewidth": 0,
             "ticks": ""
            },
            "colorscale": [
             [
              0,
              "#0d0887"
             ],
             [
              0.1111111111111111,
              "#46039f"
             ],
             [
              0.2222222222222222,
              "#7201a8"
             ],
             [
              0.3333333333333333,
              "#9c179e"
             ],
             [
              0.4444444444444444,
              "#bd3786"
             ],
             [
              0.5555555555555556,
              "#d8576b"
             ],
             [
              0.6666666666666666,
              "#ed7953"
             ],
             [
              0.7777777777777778,
              "#fb9f3a"
             ],
             [
              0.8888888888888888,
              "#fdca26"
             ],
             [
              1,
              "#f0f921"
             ]
            ],
            "type": "histogram2d"
           }
          ],
          "histogram2dcontour": [
           {
            "colorbar": {
             "outlinewidth": 0,
             "ticks": ""
            },
            "colorscale": [
             [
              0,
              "#0d0887"
             ],
             [
              0.1111111111111111,
              "#46039f"
             ],
             [
              0.2222222222222222,
              "#7201a8"
             ],
             [
              0.3333333333333333,
              "#9c179e"
             ],
             [
              0.4444444444444444,
              "#bd3786"
             ],
             [
              0.5555555555555556,
              "#d8576b"
             ],
             [
              0.6666666666666666,
              "#ed7953"
             ],
             [
              0.7777777777777778,
              "#fb9f3a"
             ],
             [
              0.8888888888888888,
              "#fdca26"
             ],
             [
              1,
              "#f0f921"
             ]
            ],
            "type": "histogram2dcontour"
           }
          ],
          "mesh3d": [
           {
            "colorbar": {
             "outlinewidth": 0,
             "ticks": ""
            },
            "type": "mesh3d"
           }
          ],
          "parcoords": [
           {
            "line": {
             "colorbar": {
              "outlinewidth": 0,
              "ticks": ""
             }
            },
            "type": "parcoords"
           }
          ],
          "pie": [
           {
            "automargin": true,
            "type": "pie"
           }
          ],
          "scatter": [
           {
            "fillpattern": {
             "fillmode": "overlay",
             "size": 10,
             "solidity": 0.2
            },
            "type": "scatter"
           }
          ],
          "scatter3d": [
           {
            "line": {
             "colorbar": {
              "outlinewidth": 0,
              "ticks": ""
             }
            },
            "marker": {
             "colorbar": {
              "outlinewidth": 0,
              "ticks": ""
             }
            },
            "type": "scatter3d"
           }
          ],
          "scattercarpet": [
           {
            "marker": {
             "colorbar": {
              "outlinewidth": 0,
              "ticks": ""
             }
            },
            "type": "scattercarpet"
           }
          ],
          "scattergeo": [
           {
            "marker": {
             "colorbar": {
              "outlinewidth": 0,
              "ticks": ""
             }
            },
            "type": "scattergeo"
           }
          ],
          "scattergl": [
           {
            "marker": {
             "colorbar": {
              "outlinewidth": 0,
              "ticks": ""
             }
            },
            "type": "scattergl"
           }
          ],
          "scattermapbox": [
           {
            "marker": {
             "colorbar": {
              "outlinewidth": 0,
              "ticks": ""
             }
            },
            "type": "scattermapbox"
           }
          ],
          "scatterpolar": [
           {
            "marker": {
             "colorbar": {
              "outlinewidth": 0,
              "ticks": ""
             }
            },
            "type": "scatterpolar"
           }
          ],
          "scatterpolargl": [
           {
            "marker": {
             "colorbar": {
              "outlinewidth": 0,
              "ticks": ""
             }
            },
            "type": "scatterpolargl"
           }
          ],
          "scatterternary": [
           {
            "marker": {
             "colorbar": {
              "outlinewidth": 0,
              "ticks": ""
             }
            },
            "type": "scatterternary"
           }
          ],
          "surface": [
           {
            "colorbar": {
             "outlinewidth": 0,
             "ticks": ""
            },
            "colorscale": [
             [
              0,
              "#0d0887"
             ],
             [
              0.1111111111111111,
              "#46039f"
             ],
             [
              0.2222222222222222,
              "#7201a8"
             ],
             [
              0.3333333333333333,
              "#9c179e"
             ],
             [
              0.4444444444444444,
              "#bd3786"
             ],
             [
              0.5555555555555556,
              "#d8576b"
             ],
             [
              0.6666666666666666,
              "#ed7953"
             ],
             [
              0.7777777777777778,
              "#fb9f3a"
             ],
             [
              0.8888888888888888,
              "#fdca26"
             ],
             [
              1,
              "#f0f921"
             ]
            ],
            "type": "surface"
           }
          ],
          "table": [
           {
            "cells": {
             "fill": {
              "color": "#EBF0F8"
             },
             "line": {
              "color": "white"
             }
            },
            "header": {
             "fill": {
              "color": "#C8D4E3"
             },
             "line": {
              "color": "white"
             }
            },
            "type": "table"
           }
          ]
         },
         "layout": {
          "annotationdefaults": {
           "arrowcolor": "#2a3f5f",
           "arrowhead": 0,
           "arrowwidth": 1
          },
          "autotypenumbers": "strict",
          "coloraxis": {
           "colorbar": {
            "outlinewidth": 0,
            "ticks": ""
           }
          },
          "colorscale": {
           "diverging": [
            [
             0,
             "#8e0152"
            ],
            [
             0.1,
             "#c51b7d"
            ],
            [
             0.2,
             "#de77ae"
            ],
            [
             0.3,
             "#f1b6da"
            ],
            [
             0.4,
             "#fde0ef"
            ],
            [
             0.5,
             "#f7f7f7"
            ],
            [
             0.6,
             "#e6f5d0"
            ],
            [
             0.7,
             "#b8e186"
            ],
            [
             0.8,
             "#7fbc41"
            ],
            [
             0.9,
             "#4d9221"
            ],
            [
             1,
             "#276419"
            ]
           ],
           "sequential": [
            [
             0,
             "#0d0887"
            ],
            [
             0.1111111111111111,
             "#46039f"
            ],
            [
             0.2222222222222222,
             "#7201a8"
            ],
            [
             0.3333333333333333,
             "#9c179e"
            ],
            [
             0.4444444444444444,
             "#bd3786"
            ],
            [
             0.5555555555555556,
             "#d8576b"
            ],
            [
             0.6666666666666666,
             "#ed7953"
            ],
            [
             0.7777777777777778,
             "#fb9f3a"
            ],
            [
             0.8888888888888888,
             "#fdca26"
            ],
            [
             1,
             "#f0f921"
            ]
           ],
           "sequentialminus": [
            [
             0,
             "#0d0887"
            ],
            [
             0.1111111111111111,
             "#46039f"
            ],
            [
             0.2222222222222222,
             "#7201a8"
            ],
            [
             0.3333333333333333,
             "#9c179e"
            ],
            [
             0.4444444444444444,
             "#bd3786"
            ],
            [
             0.5555555555555556,
             "#d8576b"
            ],
            [
             0.6666666666666666,
             "#ed7953"
            ],
            [
             0.7777777777777778,
             "#fb9f3a"
            ],
            [
             0.8888888888888888,
             "#fdca26"
            ],
            [
             1,
             "#f0f921"
            ]
           ]
          },
          "colorway": [
           "#636efa",
           "#EF553B",
           "#00cc96",
           "#ab63fa",
           "#FFA15A",
           "#19d3f3",
           "#FF6692",
           "#B6E880",
           "#FF97FF",
           "#FECB52"
          ],
          "font": {
           "color": "#2a3f5f"
          },
          "geo": {
           "bgcolor": "white",
           "lakecolor": "white",
           "landcolor": "#E5ECF6",
           "showlakes": true,
           "showland": true,
           "subunitcolor": "white"
          },
          "hoverlabel": {
           "align": "left"
          },
          "hovermode": "closest",
          "mapbox": {
           "style": "light"
          },
          "paper_bgcolor": "white",
          "plot_bgcolor": "#E5ECF6",
          "polar": {
           "angularaxis": {
            "gridcolor": "white",
            "linecolor": "white",
            "ticks": ""
           },
           "bgcolor": "#E5ECF6",
           "radialaxis": {
            "gridcolor": "white",
            "linecolor": "white",
            "ticks": ""
           }
          },
          "scene": {
           "xaxis": {
            "backgroundcolor": "#E5ECF6",
            "gridcolor": "white",
            "gridwidth": 2,
            "linecolor": "white",
            "showbackground": true,
            "ticks": "",
            "zerolinecolor": "white"
           },
           "yaxis": {
            "backgroundcolor": "#E5ECF6",
            "gridcolor": "white",
            "gridwidth": 2,
            "linecolor": "white",
            "showbackground": true,
            "ticks": "",
            "zerolinecolor": "white"
           },
           "zaxis": {
            "backgroundcolor": "#E5ECF6",
            "gridcolor": "white",
            "gridwidth": 2,
            "linecolor": "white",
            "showbackground": true,
            "ticks": "",
            "zerolinecolor": "white"
           }
          },
          "shapedefaults": {
           "line": {
            "color": "#2a3f5f"
           }
          },
          "ternary": {
           "aaxis": {
            "gridcolor": "white",
            "linecolor": "white",
            "ticks": ""
           },
           "baxis": {
            "gridcolor": "white",
            "linecolor": "white",
            "ticks": ""
           },
           "bgcolor": "#E5ECF6",
           "caxis": {
            "gridcolor": "white",
            "linecolor": "white",
            "ticks": ""
           }
          },
          "title": {
           "x": 0.05
          },
          "xaxis": {
           "automargin": true,
           "gridcolor": "white",
           "linecolor": "white",
           "ticks": "",
           "title": {
            "standoff": 15
           },
           "zerolinecolor": "white",
           "zerolinewidth": 2
          },
          "yaxis": {
           "automargin": true,
           "gridcolor": "white",
           "linecolor": "white",
           "ticks": "",
           "title": {
            "standoff": 15
           },
           "zerolinecolor": "white",
           "zerolinewidth": 2
          }
         }
        },
        "title": {
         "text": "Hyperparameter Importances"
        },
        "xaxis": {
         "title": {
          "text": "Hyperparameter Importance"
         }
        },
        "yaxis": {
         "title": {
          "text": "Hyperparameter"
         }
        }
       }
      }
     },
     "metadata": {},
     "output_type": "display_data"
    }
   ],
   "source": [
    "#find which hyperparameters contribute the most to the maximization of the metric \n",
    "optuna.visualization.plot_param_importances(study_optuna_2,\n",
    "                                            target_name='f1_score')"
   ]
  },
  {
   "cell_type": "markdown",
   "metadata": {},
   "source": [
    "#### **Random Forest**"
   ]
  },
  {
   "cell_type": "markdown",
   "metadata": {},
   "source": [
    "create a baseline random forest model"
   ]
  },
  {
   "cell_type": "code",
   "execution_count": 39,
   "metadata": {},
   "outputs": [
    {
     "name": "stdout",
     "output_type": "stream",
     "text": [
      "train data:\n",
      "f1 score: 1.000\n",
      "accuracy: 1.000\n",
      "\n",
      "test data:\n",
      "f1 score: 0.805\n",
      "accuracy: 0.787\n"
     ]
    }
   ],
   "source": [
    "#create an object class\n",
    "rf = ensemble.RandomForestClassifier(\n",
    "    random_state=42\n",
    ")\n",
    "\n",
    "#model learning\n",
    "rf.fit(X_train, y_train)\n",
    "\n",
    "#make a prediction \n",
    "y_train_pred = rf.predict(X_train)\n",
    "y_test_pred = rf.predict(X_test)\n",
    "\n",
    "#display the metrics\n",
    "print('train data:')\n",
    "print(f'f1 score: {metrics.f1_score(y_train, y_train_pred):.3f}')\n",
    "print(f'accuracy: {metrics.accuracy_score(y_train, y_train_pred):.3f}')\n",
    "print()\n",
    "print('test data:')\n",
    "print(f'f1 score: {metrics.f1_score(y_test, y_test_pred):.3f}')\n",
    "print(f'accuracy: {metrics.accuracy_score(y_test, y_test_pred):.3f}')"
   ]
  },
  {
   "cell_type": "markdown",
   "metadata": {},
   "source": [
    "#### GridSearchCV"
   ]
  },
  {
   "cell_type": "markdown",
   "metadata": {},
   "source": [
    "use the GridSearch method to look for best hyperparameters"
   ]
  },
  {
   "cell_type": "code",
   "execution_count": 40,
   "metadata": {},
   "outputs": [],
   "source": [
    "#set the search grid for random forest hyperparameters\n",
    "param_grid_rf = {'n_estimators': list(range(100, 225, 25)),\n",
    "                 'max_depth': list(np.linspace(5, 20, 4, dtype=int)),\n",
    "                 'min_samples_leaf': [2, 3, 4],\n",
    "                 'criterion': ['gini', 'entropy']\n",
    "                 }"
   ]
  },
  {
   "cell_type": "code",
   "execution_count": 41,
   "metadata": {},
   "outputs": [
    {
     "name": "stdout",
     "output_type": "stream",
     "text": [
      "Fitting 5 folds for each of 120 candidates, totalling 600 fits\n",
      "[CV 1/5; 1/120] START criterion=gini, max_depth=5, min_samples_leaf=2, n_estimators=100\n",
      "[CV 4/5; 1/120] START criterion=gini, max_depth=5, min_samples_leaf=2, n_estimators=100\n",
      "[CV 3/5; 1/120] START criterion=gini, max_depth=5, min_samples_leaf=2, n_estimators=100\n",
      "[CV 2/5; 1/120] START criterion=gini, max_depth=5, min_samples_leaf=2, n_estimators=100\n",
      "[CV 5/5; 1/120] START criterion=gini, max_depth=5, min_samples_leaf=2, n_estimators=100\n",
      "[CV 1/5; 2/120] START criterion=gini, max_depth=5, min_samples_leaf=2, n_estimators=125\n",
      "[CV 2/5; 2/120] START criterion=gini, max_depth=5, min_samples_leaf=2, n_estimators=125\n",
      "[CV 3/5; 2/120] START criterion=gini, max_depth=5, min_samples_leaf=2, n_estimators=125\n",
      "[CV 5/5; 1/120] END criterion=gini, max_depth=5, min_samples_leaf=2, n_estimators=100;, score=0.740 total time=   0.5s\n",
      "[CV 3/5; 1/120] END criterion=gini, max_depth=5, min_samples_leaf=2, n_estimators=100;, score=0.732 total time=   0.5s\n",
      "[CV 4/5; 2/120] START criterion=gini, max_depth=5, min_samples_leaf=2, n_estimators=125\n",
      "[CV 5/5; 2/120] START criterion=gini, max_depth=5, min_samples_leaf=2, n_estimators=125\n",
      "[CV 1/5; 1/120] END criterion=gini, max_depth=5, min_samples_leaf=2, n_estimators=100;, score=0.802 total time=   0.5s\n",
      "[CV 1/5; 3/120] START criterion=gini, max_depth=5, min_samples_leaf=2, n_estimators=150\n",
      "[CV 4/5; 1/120] END criterion=gini, max_depth=5, min_samples_leaf=2, n_estimators=100;, score=0.730 total time=   0.5s\n",
      "[CV 2/5; 1/120] END criterion=gini, max_depth=5, min_samples_leaf=2, n_estimators=100;, score=0.747 total time=   0.5s\n",
      "[CV 2/5; 3/120] START criterion=gini, max_depth=5, min_samples_leaf=2, n_estimators=150\n",
      "[CV 3/5; 3/120] START criterion=gini, max_depth=5, min_samples_leaf=2, n_estimators=150\n",
      "[CV 3/5; 2/120] END criterion=gini, max_depth=5, min_samples_leaf=2, n_estimators=125;, score=0.727 total time=   0.6s\n",
      "[CV 4/5; 3/120] START criterion=gini, max_depth=5, min_samples_leaf=2, n_estimators=150\n",
      "[CV 2/5; 2/120] END criterion=gini, max_depth=5, min_samples_leaf=2, n_estimators=125;, score=0.737 total time=   0.6s\n",
      "[CV 1/5; 2/120] END criterion=gini, max_depth=5, min_samples_leaf=2, n_estimators=125;, score=0.797 total time=   0.6s\n",
      "[CV 5/5; 3/120] START criterion=gini, max_depth=5, min_samples_leaf=2, n_estimators=150\n",
      "[CV 1/5; 4/120] START criterion=gini, max_depth=5, min_samples_leaf=2, n_estimators=175\n",
      "[CV 4/5; 2/120] END criterion=gini, max_depth=5, min_samples_leaf=2, n_estimators=125;, score=0.732 total time=   0.6s\n",
      "[CV 2/5; 4/120] START criterion=gini, max_depth=5, min_samples_leaf=2, n_estimators=175\n",
      "[CV 5/5; 2/120] END criterion=gini, max_depth=5, min_samples_leaf=2, n_estimators=125;, score=0.745 total time=   0.6s\n",
      "[CV 3/5; 4/120] START criterion=gini, max_depth=5, min_samples_leaf=2, n_estimators=175\n",
      "[CV 3/5; 3/120] END criterion=gini, max_depth=5, min_samples_leaf=2, n_estimators=150;, score=0.722 total time=   0.7s\n",
      "[CV 4/5; 4/120] START criterion=gini, max_depth=5, min_samples_leaf=2, n_estimators=175\n",
      "[CV 1/5; 3/120] END criterion=gini, max_depth=5, min_samples_leaf=2, n_estimators=150;, score=0.802 total time=   0.8s\n",
      "[CV 5/5; 4/120] START criterion=gini, max_depth=5, min_samples_leaf=2, n_estimators=175\n",
      "[CV 2/5; 3/120] END criterion=gini, max_depth=5, min_samples_leaf=2, n_estimators=150;, score=0.737 total time=   0.8s\n",
      "[CV 1/5; 5/120] START criterion=gini, max_depth=5, min_samples_leaf=2, n_estimators=200\n",
      "[CV 4/5; 3/120] END criterion=gini, max_depth=5, min_samples_leaf=2, n_estimators=150;, score=0.737 total time=   0.7s\n",
      "[CV 5/5; 3/120] END criterion=gini, max_depth=5, min_samples_leaf=2, n_estimators=150;, score=0.740 total time=   0.7s\n",
      "[CV 2/5; 5/120] START criterion=gini, max_depth=5, min_samples_leaf=2, n_estimators=200\n",
      "[CV 3/5; 5/120] START criterion=gini, max_depth=5, min_samples_leaf=2, n_estimators=200\n",
      "[CV 1/5; 4/120] END criterion=gini, max_depth=5, min_samples_leaf=2, n_estimators=175;, score=0.802 total time=   0.9s\n",
      "[CV 4/5; 5/120] START criterion=gini, max_depth=5, min_samples_leaf=2, n_estimators=200\n",
      "[CV 2/5; 4/120] END criterion=gini, max_depth=5, min_samples_leaf=2, n_estimators=175;, score=0.742 total time=   0.9s\n",
      "[CV 5/5; 5/120] START criterion=gini, max_depth=5, min_samples_leaf=2, n_estimators=200\n",
      "[CV 3/5; 4/120] END criterion=gini, max_depth=5, min_samples_leaf=2, n_estimators=175;, score=0.730 total time=   0.9s\n",
      "[CV 1/5; 6/120] START criterion=gini, max_depth=5, min_samples_leaf=3, n_estimators=100\n",
      "[CV 5/5; 4/120] END criterion=gini, max_depth=5, min_samples_leaf=2, n_estimators=175;, score=0.737 total time=   0.9s\n",
      "[CV 2/5; 6/120] START criterion=gini, max_depth=5, min_samples_leaf=3, n_estimators=100\n",
      "[CV 4/5; 4/120] END criterion=gini, max_depth=5, min_samples_leaf=2, n_estimators=175;, score=0.732 total time=   0.9s\n",
      "[CV 3/5; 6/120] START criterion=gini, max_depth=5, min_samples_leaf=3, n_estimators=100\n",
      "[CV 1/5; 5/120] END criterion=gini, max_depth=5, min_samples_leaf=2, n_estimators=200;, score=0.803 total time=   1.0s\n",
      "[CV 4/5; 6/120] START criterion=gini, max_depth=5, min_samples_leaf=3, n_estimators=100\n",
      "[CV 2/5; 5/120] END criterion=gini, max_depth=5, min_samples_leaf=2, n_estimators=200;, score=0.748 total time=   1.0s\n",
      "[CV 5/5; 6/120] START criterion=gini, max_depth=5, min_samples_leaf=3, n_estimators=100\n",
      "[CV 3/5; 5/120] END criterion=gini, max_depth=5, min_samples_leaf=2, n_estimators=200;, score=0.730 total time=   1.0s\n",
      "[CV 1/5; 7/120] START criterion=gini, max_depth=5, min_samples_leaf=3, n_estimators=125\n",
      "[CV 4/5; 5/120] END criterion=gini, max_depth=5, min_samples_leaf=2, n_estimators=200;, score=0.732 total time=   0.9s\n",
      "[CV 2/5; 7/120] START criterion=gini, max_depth=5, min_samples_leaf=3, n_estimators=125\n",
      "[CV 1/5; 6/120] END criterion=gini, max_depth=5, min_samples_leaf=3, n_estimators=100;, score=0.798 total time=   0.5s\n",
      "[CV 3/5; 7/120] START criterion=gini, max_depth=5, min_samples_leaf=3, n_estimators=125\n",
      "[CV 2/5; 6/120] END criterion=gini, max_depth=5, min_samples_leaf=3, n_estimators=100;, score=0.740 total time=   0.5s\n",
      "[CV 4/5; 7/120] START criterion=gini, max_depth=5, min_samples_leaf=3, n_estimators=125\n",
      "[CV 3/5; 6/120] END criterion=gini, max_depth=5, min_samples_leaf=3, n_estimators=100;, score=0.733 total time=   0.5s\n",
      "[CV 5/5; 7/120] START criterion=gini, max_depth=5, min_samples_leaf=3, n_estimators=125\n",
      "[CV 4/5; 6/120] END criterion=gini, max_depth=5, min_samples_leaf=3, n_estimators=100;, score=0.728 total time=   0.5s\n",
      "[CV 1/5; 8/120] START criterion=gini, max_depth=5, min_samples_leaf=3, n_estimators=150\n",
      "[CV 5/5; 6/120] END criterion=gini, max_depth=5, min_samples_leaf=3, n_estimators=100;, score=0.737 total time=   0.5s\n",
      "[CV 2/5; 8/120] START criterion=gini, max_depth=5, min_samples_leaf=3, n_estimators=150\n",
      "[CV 5/5; 5/120] END criterion=gini, max_depth=5, min_samples_leaf=2, n_estimators=200;, score=0.733 total time=   1.0s\n",
      "[CV 3/5; 8/120] START criterion=gini, max_depth=5, min_samples_leaf=3, n_estimators=150\n",
      "[CV 1/5; 7/120] END criterion=gini, max_depth=5, min_samples_leaf=3, n_estimators=125;, score=0.798 total time=   0.6s\n",
      "[CV 4/5; 8/120] START criterion=gini, max_depth=5, min_samples_leaf=3, n_estimators=150\n",
      "[CV 2/5; 7/120] END criterion=gini, max_depth=5, min_samples_leaf=3, n_estimators=125;, score=0.735 total time=   0.6s\n",
      "[CV 5/5; 8/120] START criterion=gini, max_depth=5, min_samples_leaf=3, n_estimators=150\n",
      "[CV 3/5; 7/120] END criterion=gini, max_depth=5, min_samples_leaf=3, n_estimators=125;, score=0.728 total time=   0.6s\n",
      "[CV 1/5; 9/120] START criterion=gini, max_depth=5, min_samples_leaf=3, n_estimators=175\n",
      "[CV 5/5; 7/120] END criterion=gini, max_depth=5, min_samples_leaf=3, n_estimators=125;, score=0.733 total time=   0.6s\n",
      "[CV 2/5; 9/120] START criterion=gini, max_depth=5, min_samples_leaf=3, n_estimators=175\n",
      "[CV 4/5; 7/120] END criterion=gini, max_depth=5, min_samples_leaf=3, n_estimators=125;, score=0.725 total time=   0.7s\n",
      "[CV 3/5; 9/120] START criterion=gini, max_depth=5, min_samples_leaf=3, n_estimators=175\n",
      "[CV 1/5; 8/120] END criterion=gini, max_depth=5, min_samples_leaf=3, n_estimators=150;, score=0.798 total time=   0.8s\n",
      "[CV 4/5; 9/120] START criterion=gini, max_depth=5, min_samples_leaf=3, n_estimators=175\n",
      "[CV 2/5; 8/120] END criterion=gini, max_depth=5, min_samples_leaf=3, n_estimators=150;, score=0.738 total time=   0.8s\n",
      "[CV 5/5; 9/120] START criterion=gini, max_depth=5, min_samples_leaf=3, n_estimators=175\n",
      "[CV 3/5; 8/120] END criterion=gini, max_depth=5, min_samples_leaf=3, n_estimators=150;, score=0.722 total time=   0.8s\n",
      "[CV 1/5; 10/120] START criterion=gini, max_depth=5, min_samples_leaf=3, n_estimators=200\n",
      "[CV 5/5; 8/120] END criterion=gini, max_depth=5, min_samples_leaf=3, n_estimators=150;, score=0.737 total time=   0.8s\n",
      "[CV 2/5; 10/120] START criterion=gini, max_depth=5, min_samples_leaf=3, n_estimators=200\n",
      "[CV 4/5; 8/120] END criterion=gini, max_depth=5, min_samples_leaf=3, n_estimators=150;, score=0.733 total time=   0.8s\n",
      "[CV 3/5; 10/120] START criterion=gini, max_depth=5, min_samples_leaf=3, n_estimators=200\n",
      "[CV 1/5; 9/120] END criterion=gini, max_depth=5, min_samples_leaf=3, n_estimators=175;, score=0.803 total time=   0.8s\n",
      "[CV 4/5; 10/120] START criterion=gini, max_depth=5, min_samples_leaf=3, n_estimators=200\n",
      "[CV 2/5; 9/120] END criterion=gini, max_depth=5, min_samples_leaf=3, n_estimators=175;, score=0.742 total time=   0.8s\n",
      "[CV 5/5; 10/120] START criterion=gini, max_depth=5, min_samples_leaf=3, n_estimators=200\n",
      "[CV 3/5; 9/120] END criterion=gini, max_depth=5, min_samples_leaf=3, n_estimators=175;, score=0.730 total time=   0.9s\n",
      "[CV 1/5; 11/120] START criterion=gini, max_depth=5, min_samples_leaf=4, n_estimators=100\n",
      "[CV 4/5; 9/120] END criterion=gini, max_depth=5, min_samples_leaf=3, n_estimators=175;, score=0.738 total time=   0.8s\n",
      "[CV 2/5; 11/120] START criterion=gini, max_depth=5, min_samples_leaf=4, n_estimators=100\n",
      "[CV 5/5; 9/120] END criterion=gini, max_depth=5, min_samples_leaf=3, n_estimators=175;, score=0.733 total time=   0.8s\n",
      "[CV 3/5; 11/120] START criterion=gini, max_depth=5, min_samples_leaf=4, n_estimators=100\n",
      "[CV 1/5; 10/120] END criterion=gini, max_depth=5, min_samples_leaf=3, n_estimators=200;, score=0.803 total time=   0.9s\n",
      "[CV 4/5; 11/120] START criterion=gini, max_depth=5, min_samples_leaf=4, n_estimators=100\n",
      "[CV 1/5; 11/120] END criterion=gini, max_depth=5, min_samples_leaf=4, n_estimators=100;, score=0.790 total time=   0.5s\n",
      "[CV 5/5; 11/120] START criterion=gini, max_depth=5, min_samples_leaf=4, n_estimators=100\n",
      "[CV 3/5; 10/120] END criterion=gini, max_depth=5, min_samples_leaf=3, n_estimators=200;, score=0.733 total time=   0.9s\n",
      "[CV 1/5; 12/120] START criterion=gini, max_depth=5, min_samples_leaf=4, n_estimators=125\n",
      "[CV 2/5; 10/120] END criterion=gini, max_depth=5, min_samples_leaf=3, n_estimators=200;, score=0.743 total time=   1.0s\n",
      "[CV 2/5; 12/120] START criterion=gini, max_depth=5, min_samples_leaf=4, n_estimators=125\n",
      "[CV 2/5; 11/120] END criterion=gini, max_depth=5, min_samples_leaf=4, n_estimators=100;, score=0.757 total time=   0.5s\n",
      "[CV 3/5; 12/120] START criterion=gini, max_depth=5, min_samples_leaf=4, n_estimators=125\n",
      "[CV 4/5; 10/120] END criterion=gini, max_depth=5, min_samples_leaf=3, n_estimators=200;, score=0.742 total time=   1.0s\n",
      "[CV 4/5; 12/120] START criterion=gini, max_depth=5, min_samples_leaf=4, n_estimators=125\n",
      "[CV 3/5; 11/120] END criterion=gini, max_depth=5, min_samples_leaf=4, n_estimators=100;, score=0.728 total time=   0.5s\n",
      "[CV 5/5; 12/120] START criterion=gini, max_depth=5, min_samples_leaf=4, n_estimators=125\n",
      "[CV 5/5; 10/120] END criterion=gini, max_depth=5, min_samples_leaf=3, n_estimators=200;, score=0.730 total time=   0.9s\n",
      "[CV 1/5; 13/120] START criterion=gini, max_depth=5, min_samples_leaf=4, n_estimators=150\n",
      "[CV 4/5; 11/120] END criterion=gini, max_depth=5, min_samples_leaf=4, n_estimators=100;, score=0.718 total time=   0.5s\n",
      "[CV 2/5; 13/120] START criterion=gini, max_depth=5, min_samples_leaf=4, n_estimators=150\n",
      "[CV 5/5; 11/120] END criterion=gini, max_depth=5, min_samples_leaf=4, n_estimators=100;, score=0.725 total time=   0.5s\n",
      "[CV 3/5; 13/120] START criterion=gini, max_depth=5, min_samples_leaf=4, n_estimators=150\n",
      "[CV 1/5; 12/120] END criterion=gini, max_depth=5, min_samples_leaf=4, n_estimators=125;, score=0.798 total time=   0.6s\n",
      "[CV 4/5; 13/120] START criterion=gini, max_depth=5, min_samples_leaf=4, n_estimators=150\n",
      "[CV 2/5; 12/120] END criterion=gini, max_depth=5, min_samples_leaf=4, n_estimators=125;, score=0.752 total time=   0.6s\n",
      "[CV 5/5; 13/120] START criterion=gini, max_depth=5, min_samples_leaf=4, n_estimators=150\n",
      "[CV 3/5; 12/120] END criterion=gini, max_depth=5, min_samples_leaf=4, n_estimators=125;, score=0.730 total time=   0.6s\n",
      "[CV 1/5; 14/120] START criterion=gini, max_depth=5, min_samples_leaf=4, n_estimators=175\n",
      "[CV 4/5; 12/120] END criterion=gini, max_depth=5, min_samples_leaf=4, n_estimators=125;, score=0.725 total time=   0.6s\n",
      "[CV 2/5; 14/120] START criterion=gini, max_depth=5, min_samples_leaf=4, n_estimators=175\n",
      "[CV 5/5; 12/120] END criterion=gini, max_depth=5, min_samples_leaf=4, n_estimators=125;, score=0.722 total time=   0.6s\n",
      "[CV 3/5; 14/120] START criterion=gini, max_depth=5, min_samples_leaf=4, n_estimators=175\n",
      "[CV 1/5; 13/120] END criterion=gini, max_depth=5, min_samples_leaf=4, n_estimators=150;, score=0.797 total time=   0.7s\n",
      "[CV 4/5; 14/120] START criterion=gini, max_depth=5, min_samples_leaf=4, n_estimators=175\n",
      "[CV 3/5; 13/120] END criterion=gini, max_depth=5, min_samples_leaf=4, n_estimators=150;, score=0.732 total time=   0.7s\n",
      "[CV 5/5; 14/120] START criterion=gini, max_depth=5, min_samples_leaf=4, n_estimators=175\n",
      "[CV 2/5; 13/120] END criterion=gini, max_depth=5, min_samples_leaf=4, n_estimators=150;, score=0.750 total time=   0.8s\n",
      "[CV 1/5; 15/120] START criterion=gini, max_depth=5, min_samples_leaf=4, n_estimators=200\n",
      "[CV 4/5; 13/120] END criterion=gini, max_depth=5, min_samples_leaf=4, n_estimators=150;, score=0.732 total time=   0.7s\n",
      "[CV 2/5; 15/120] START criterion=gini, max_depth=5, min_samples_leaf=4, n_estimators=200\n",
      "[CV 5/5; 13/120] END criterion=gini, max_depth=5, min_samples_leaf=4, n_estimators=150;, score=0.728 total time=   0.7s\n",
      "[CV 3/5; 15/120] START criterion=gini, max_depth=5, min_samples_leaf=4, n_estimators=200\n",
      "[CV 1/5; 14/120] END criterion=gini, max_depth=5, min_samples_leaf=4, n_estimators=175;, score=0.800 total time=   0.9s\n",
      "[CV 4/5; 15/120] START criterion=gini, max_depth=5, min_samples_leaf=4, n_estimators=200\n",
      "[CV 2/5; 14/120] END criterion=gini, max_depth=5, min_samples_leaf=4, n_estimators=175;, score=0.752 total time=   0.9s\n",
      "[CV 5/5; 15/120] START criterion=gini, max_depth=5, min_samples_leaf=4, n_estimators=200\n",
      "[CV 3/5; 14/120] END criterion=gini, max_depth=5, min_samples_leaf=4, n_estimators=175;, score=0.733 total time=   0.8s\n",
      "[CV 1/5; 16/120] START criterion=gini, max_depth=10, min_samples_leaf=2, n_estimators=100\n",
      "[CV 4/5; 14/120] END criterion=gini, max_depth=5, min_samples_leaf=4, n_estimators=175;, score=0.735 total time=   0.8s\n",
      "[CV 2/5; 16/120] START criterion=gini, max_depth=10, min_samples_leaf=2, n_estimators=100\n",
      "[CV 5/5; 14/120] END criterion=gini, max_depth=5, min_samples_leaf=4, n_estimators=175;, score=0.723 total time=   0.8s\n",
      "[CV 3/5; 16/120] START criterion=gini, max_depth=10, min_samples_leaf=2, n_estimators=100\n",
      "[CV 1/5; 15/120] END criterion=gini, max_depth=5, min_samples_leaf=4, n_estimators=200;, score=0.793 total time=   1.0s\n",
      "[CV 4/5; 16/120] START criterion=gini, max_depth=10, min_samples_leaf=2, n_estimators=100\n",
      "[CV 2/5; 15/120] END criterion=gini, max_depth=5, min_samples_leaf=4, n_estimators=200;, score=0.752 total time=   1.0s\n",
      "[CV 3/5; 15/120] END criterion=gini, max_depth=5, min_samples_leaf=4, n_estimators=200;, score=0.732 total time=   0.9s\n",
      "[CV 5/5; 16/120] START criterion=gini, max_depth=10, min_samples_leaf=2, n_estimators=100\n",
      "[CV 1/5; 17/120] START criterion=gini, max_depth=10, min_samples_leaf=2, n_estimators=125\n",
      "[CV 1/5; 16/120] END criterion=gini, max_depth=10, min_samples_leaf=2, n_estimators=100;, score=0.825 total time=   0.9s\n",
      "[CV 2/5; 17/120] START criterion=gini, max_depth=10, min_samples_leaf=2, n_estimators=125\n",
      "[CV 4/5; 15/120] END criterion=gini, max_depth=5, min_samples_leaf=4, n_estimators=200;, score=0.740 total time=   1.0s\n",
      "[CV 3/5; 17/120] START criterion=gini, max_depth=10, min_samples_leaf=2, n_estimators=125\n",
      "[CV 5/5; 15/120] END criterion=gini, max_depth=5, min_samples_leaf=4, n_estimators=200;, score=0.723 total time=   1.1s\n",
      "[CV 4/5; 17/120] START criterion=gini, max_depth=10, min_samples_leaf=2, n_estimators=125\n",
      "[CV 3/5; 16/120] END criterion=gini, max_depth=10, min_samples_leaf=2, n_estimators=100;, score=0.762 total time=   1.0s\n",
      "[CV 2/5; 16/120] END criterion=gini, max_depth=10, min_samples_leaf=2, n_estimators=100;, score=0.805 total time=   1.0s\n",
      "[CV 5/5; 17/120] START criterion=gini, max_depth=10, min_samples_leaf=2, n_estimators=125\n",
      "[CV 1/5; 18/120] START criterion=gini, max_depth=10, min_samples_leaf=2, n_estimators=150\n",
      "[CV 4/5; 16/120] END criterion=gini, max_depth=10, min_samples_leaf=2, n_estimators=100;, score=0.790 total time=   1.1s\n",
      "[CV 2/5; 18/120] START criterion=gini, max_depth=10, min_samples_leaf=2, n_estimators=150\n",
      "[CV 5/5; 16/120] END criterion=gini, max_depth=10, min_samples_leaf=2, n_estimators=100;, score=0.772 total time=   1.1s\n",
      "[CV 3/5; 18/120] START criterion=gini, max_depth=10, min_samples_leaf=2, n_estimators=150\n",
      "[CV 1/5; 17/120] END criterion=gini, max_depth=10, min_samples_leaf=2, n_estimators=125;, score=0.838 total time=   1.3s\n",
      "[CV 4/5; 18/120] START criterion=gini, max_depth=10, min_samples_leaf=2, n_estimators=150\n",
      "[CV 2/5; 17/120] END criterion=gini, max_depth=10, min_samples_leaf=2, n_estimators=125;, score=0.798 total time=   1.3s\n",
      "[CV 5/5; 18/120] START criterion=gini, max_depth=10, min_samples_leaf=2, n_estimators=150\n",
      "[CV 3/5; 17/120] END criterion=gini, max_depth=10, min_samples_leaf=2, n_estimators=125;, score=0.765 total time=   1.2s\n",
      "[CV 1/5; 19/120] START criterion=gini, max_depth=10, min_samples_leaf=2, n_estimators=175\n",
      "[CV 4/5; 17/120] END criterion=gini, max_depth=10, min_samples_leaf=2, n_estimators=125;, score=0.787 total time=   1.3s\n",
      "[CV 2/5; 19/120] START criterion=gini, max_depth=10, min_samples_leaf=2, n_estimators=175\n",
      "[CV 5/5; 17/120] END criterion=gini, max_depth=10, min_samples_leaf=2, n_estimators=125;, score=0.768 total time=   1.3s\n",
      "[CV 3/5; 19/120] START criterion=gini, max_depth=10, min_samples_leaf=2, n_estimators=175\n",
      "[CV 1/5; 18/120] END criterion=gini, max_depth=10, min_samples_leaf=2, n_estimators=150;, score=0.842 total time=   1.5s\n",
      "[CV 4/5; 19/120] START criterion=gini, max_depth=10, min_samples_leaf=2, n_estimators=175\n",
      "[CV 2/5; 18/120] END criterion=gini, max_depth=10, min_samples_leaf=2, n_estimators=150;, score=0.802 total time=   1.5s\n",
      "[CV 5/5; 19/120] START criterion=gini, max_depth=10, min_samples_leaf=2, n_estimators=175\n",
      "[CV 3/5; 18/120] END criterion=gini, max_depth=10, min_samples_leaf=2, n_estimators=150;, score=0.762 total time=   1.5s\n",
      "[CV 1/5; 20/120] START criterion=gini, max_depth=10, min_samples_leaf=2, n_estimators=200\n",
      "[CV 4/5; 18/120] END criterion=gini, max_depth=10, min_samples_leaf=2, n_estimators=150;, score=0.790 total time=   1.4s\n",
      "[CV 2/5; 20/120] START criterion=gini, max_depth=10, min_samples_leaf=2, n_estimators=200\n",
      "[CV 5/5; 18/120] END criterion=gini, max_depth=10, min_samples_leaf=2, n_estimators=150;, score=0.768 total time=   1.4s\n",
      "[CV 3/5; 20/120] START criterion=gini, max_depth=10, min_samples_leaf=2, n_estimators=200\n",
      "[CV 1/5; 19/120] END criterion=gini, max_depth=10, min_samples_leaf=2, n_estimators=175;, score=0.840 total time=   1.7s\n",
      "[CV 4/5; 20/120] START criterion=gini, max_depth=10, min_samples_leaf=2, n_estimators=200\n",
      "[CV 2/5; 19/120] END criterion=gini, max_depth=10, min_samples_leaf=2, n_estimators=175;, score=0.803 total time=   1.6s\n",
      "[CV 5/5; 20/120] START criterion=gini, max_depth=10, min_samples_leaf=2, n_estimators=200\n",
      "[CV 3/5; 19/120] END criterion=gini, max_depth=10, min_samples_leaf=2, n_estimators=175;, score=0.762 total time=   1.6s\n",
      "[CV 1/5; 21/120] START criterion=gini, max_depth=10, min_samples_leaf=3, n_estimators=100\n",
      "[CV 4/5; 19/120] END criterion=gini, max_depth=10, min_samples_leaf=2, n_estimators=175;, score=0.792 total time=   1.5s\n",
      "[CV 2/5; 21/120] START criterion=gini, max_depth=10, min_samples_leaf=3, n_estimators=100\n",
      "[CV 5/5; 19/120] END criterion=gini, max_depth=10, min_samples_leaf=2, n_estimators=175;, score=0.763 total time=   1.6s\n",
      "[CV 3/5; 21/120] START criterion=gini, max_depth=10, min_samples_leaf=3, n_estimators=100\n",
      "[CV 1/5; 20/120] END criterion=gini, max_depth=10, min_samples_leaf=2, n_estimators=200;, score=0.838 total time=   1.7s\n",
      "[CV 4/5; 21/120] START criterion=gini, max_depth=10, min_samples_leaf=3, n_estimators=100\n",
      "[CV 1/5; 21/120] END criterion=gini, max_depth=10, min_samples_leaf=3, n_estimators=100;, score=0.827 total time=   0.9s\n",
      "[CV 5/5; 21/120] START criterion=gini, max_depth=10, min_samples_leaf=3, n_estimators=100\n",
      "[CV 2/5; 20/120] END criterion=gini, max_depth=10, min_samples_leaf=2, n_estimators=200;, score=0.807 total time=   1.7s\n",
      "[CV 1/5; 22/120] START criterion=gini, max_depth=10, min_samples_leaf=3, n_estimators=125\n",
      "[CV 2/5; 21/120] END criterion=gini, max_depth=10, min_samples_leaf=3, n_estimators=100;, score=0.805 total time=   0.9s\n",
      "[CV 2/5; 22/120] START criterion=gini, max_depth=10, min_samples_leaf=3, n_estimators=125\n",
      "[CV 3/5; 20/120] END criterion=gini, max_depth=10, min_samples_leaf=2, n_estimators=200;, score=0.760 total time=   1.7s\n",
      "[CV 3/5; 22/120] START criterion=gini, max_depth=10, min_samples_leaf=3, n_estimators=125\n",
      "[CV 3/5; 21/120] END criterion=gini, max_depth=10, min_samples_leaf=3, n_estimators=100;, score=0.755 total time=   0.9s\n",
      "[CV 4/5; 22/120] START criterion=gini, max_depth=10, min_samples_leaf=3, n_estimators=125\n",
      "[CV 4/5; 20/120] END criterion=gini, max_depth=10, min_samples_leaf=2, n_estimators=200;, score=0.788 total time=   1.7s\n",
      "[CV 5/5; 20/120] END criterion=gini, max_depth=10, min_samples_leaf=2, n_estimators=200;, score=0.760 total time=   1.7s\n",
      "[CV 5/5; 22/120] START criterion=gini, max_depth=10, min_samples_leaf=3, n_estimators=125\n",
      "[CV 1/5; 23/120] START criterion=gini, max_depth=10, min_samples_leaf=3, n_estimators=150\n",
      "[CV 4/5; 21/120] END criterion=gini, max_depth=10, min_samples_leaf=3, n_estimators=100;, score=0.783 total time=   0.9s\n",
      "[CV 2/5; 23/120] START criterion=gini, max_depth=10, min_samples_leaf=3, n_estimators=150\n",
      "[CV 5/5; 21/120] END criterion=gini, max_depth=10, min_samples_leaf=3, n_estimators=100;, score=0.753 total time=   0.9s\n",
      "[CV 3/5; 23/120] START criterion=gini, max_depth=10, min_samples_leaf=3, n_estimators=150\n",
      "[CV 1/5; 22/120] END criterion=gini, max_depth=10, min_samples_leaf=3, n_estimators=125;, score=0.835 total time=   1.1s\n",
      "[CV 4/5; 23/120] START criterion=gini, max_depth=10, min_samples_leaf=3, n_estimators=150\n",
      "[CV 2/5; 22/120] END criterion=gini, max_depth=10, min_samples_leaf=3, n_estimators=125;, score=0.808 total time=   1.1s\n",
      "[CV 5/5; 23/120] START criterion=gini, max_depth=10, min_samples_leaf=3, n_estimators=150\n",
      "[CV 3/5; 22/120] END criterion=gini, max_depth=10, min_samples_leaf=3, n_estimators=125;, score=0.752 total time=   1.1s\n",
      "[CV 1/5; 24/120] START criterion=gini, max_depth=10, min_samples_leaf=3, n_estimators=175\n",
      "[CV 4/5; 22/120] END criterion=gini, max_depth=10, min_samples_leaf=3, n_estimators=125;, score=0.783 total time=   1.1s\n",
      "[CV 2/5; 24/120] START criterion=gini, max_depth=10, min_samples_leaf=3, n_estimators=175\n",
      "[CV 5/5; 22/120] END criterion=gini, max_depth=10, min_samples_leaf=3, n_estimators=125;, score=0.752 total time=   1.0s\n",
      "[CV 3/5; 24/120] START criterion=gini, max_depth=10, min_samples_leaf=3, n_estimators=175\n",
      "[CV 1/5; 23/120] END criterion=gini, max_depth=10, min_samples_leaf=3, n_estimators=150;, score=0.835 total time=   1.3s\n",
      "[CV 4/5; 24/120] START criterion=gini, max_depth=10, min_samples_leaf=3, n_estimators=175\n",
      "[CV 2/5; 23/120] END criterion=gini, max_depth=10, min_samples_leaf=3, n_estimators=150;, score=0.810 total time=   1.4s\n",
      "[CV 5/5; 24/120] START criterion=gini, max_depth=10, min_samples_leaf=3, n_estimators=175\n",
      "[CV 3/5; 23/120] END criterion=gini, max_depth=10, min_samples_leaf=3, n_estimators=150;, score=0.755 total time=   1.3s\n",
      "[CV 1/5; 25/120] START criterion=gini, max_depth=10, min_samples_leaf=3, n_estimators=200\n",
      "[CV 4/5; 23/120] END criterion=gini, max_depth=10, min_samples_leaf=3, n_estimators=150;, score=0.787 total time=   1.2s\n",
      "[CV 2/5; 25/120] START criterion=gini, max_depth=10, min_samples_leaf=3, n_estimators=200\n",
      "[CV 5/5; 23/120] END criterion=gini, max_depth=10, min_samples_leaf=3, n_estimators=150;, score=0.763 total time=   1.3s\n",
      "[CV 3/5; 25/120] START criterion=gini, max_depth=10, min_samples_leaf=3, n_estimators=200\n",
      "[CV 1/5; 24/120] END criterion=gini, max_depth=10, min_samples_leaf=3, n_estimators=175;, score=0.837 total time=   1.5s\n",
      "[CV 4/5; 25/120] START criterion=gini, max_depth=10, min_samples_leaf=3, n_estimators=200\n",
      "[CV 2/5; 24/120] END criterion=gini, max_depth=10, min_samples_leaf=3, n_estimators=175;, score=0.802 total time=   1.5s\n",
      "[CV 5/5; 25/120] START criterion=gini, max_depth=10, min_samples_leaf=3, n_estimators=200\n",
      "[CV 3/5; 24/120] END criterion=gini, max_depth=10, min_samples_leaf=3, n_estimators=175;, score=0.755 total time=   1.6s\n",
      "[CV 1/5; 26/120] START criterion=gini, max_depth=10, min_samples_leaf=4, n_estimators=100\n",
      "[CV 4/5; 24/120] END criterion=gini, max_depth=10, min_samples_leaf=3, n_estimators=175;, score=0.785 total time=   1.5s\n",
      "[CV 2/5; 26/120] START criterion=gini, max_depth=10, min_samples_leaf=4, n_estimators=100\n",
      "[CV 5/5; 24/120] END criterion=gini, max_depth=10, min_samples_leaf=3, n_estimators=175;, score=0.758 total time=   1.5s\n",
      "[CV 3/5; 26/120] START criterion=gini, max_depth=10, min_samples_leaf=4, n_estimators=100\n",
      "[CV 1/5; 25/120] END criterion=gini, max_depth=10, min_samples_leaf=3, n_estimators=200;, score=0.840 total time=   1.7s\n",
      "[CV 4/5; 26/120] START criterion=gini, max_depth=10, min_samples_leaf=4, n_estimators=100\n",
      "[CV 2/5; 25/120] END criterion=gini, max_depth=10, min_samples_leaf=3, n_estimators=200;, score=0.808 total time=   1.7s\n",
      "[CV 5/5; 26/120] START criterion=gini, max_depth=10, min_samples_leaf=4, n_estimators=100\n",
      "[CV 1/5; 26/120] END criterion=gini, max_depth=10, min_samples_leaf=4, n_estimators=100;, score=0.828 total time=   0.8s\n",
      "[CV 1/5; 27/120] START criterion=gini, max_depth=10, min_samples_leaf=4, n_estimators=125\n",
      "[CV 3/5; 25/120] END criterion=gini, max_depth=10, min_samples_leaf=3, n_estimators=200;, score=0.753 total time=   1.6s\n",
      "[CV 2/5; 27/120] START criterion=gini, max_depth=10, min_samples_leaf=4, n_estimators=125\n",
      "[CV 2/5; 26/120] END criterion=gini, max_depth=10, min_samples_leaf=4, n_estimators=100;, score=0.800 total time=   0.8s\n",
      "[CV 3/5; 27/120] START criterion=gini, max_depth=10, min_samples_leaf=4, n_estimators=125\n",
      "[CV 3/5; 26/120] END criterion=gini, max_depth=10, min_samples_leaf=4, n_estimators=100;, score=0.755 total time=   0.9s\n",
      "[CV 4/5; 27/120] START criterion=gini, max_depth=10, min_samples_leaf=4, n_estimators=125\n",
      "[CV 4/5; 25/120] END criterion=gini, max_depth=10, min_samples_leaf=3, n_estimators=200;, score=0.785 total time=   1.7s\n",
      "[CV 5/5; 27/120] START criterion=gini, max_depth=10, min_samples_leaf=4, n_estimators=125\n",
      "[CV 4/5; 26/120] END criterion=gini, max_depth=10, min_samples_leaf=4, n_estimators=100;, score=0.793 total time=   0.8s\n",
      "[CV 5/5; 25/120] END criterion=gini, max_depth=10, min_samples_leaf=3, n_estimators=200;, score=0.763 total time=   1.7s\n",
      "[CV 1/5; 28/120] START criterion=gini, max_depth=10, min_samples_leaf=4, n_estimators=150\n",
      "[CV 2/5; 28/120] START criterion=gini, max_depth=10, min_samples_leaf=4, n_estimators=150\n",
      "[CV 5/5; 26/120] END criterion=gini, max_depth=10, min_samples_leaf=4, n_estimators=100;, score=0.757 total time=   0.8s\n",
      "[CV 3/5; 28/120] START criterion=gini, max_depth=10, min_samples_leaf=4, n_estimators=150\n",
      "[CV 1/5; 27/120] END criterion=gini, max_depth=10, min_samples_leaf=4, n_estimators=125;, score=0.822 total time=   1.1s\n",
      "[CV 4/5; 28/120] START criterion=gini, max_depth=10, min_samples_leaf=4, n_estimators=150\n",
      "[CV 2/5; 27/120] END criterion=gini, max_depth=10, min_samples_leaf=4, n_estimators=125;, score=0.797 total time=   1.0s\n",
      "[CV 5/5; 28/120] START criterion=gini, max_depth=10, min_samples_leaf=4, n_estimators=150\n",
      "[CV 3/5; 27/120] END criterion=gini, max_depth=10, min_samples_leaf=4, n_estimators=125;, score=0.758 total time=   1.1s\n",
      "[CV 1/5; 29/120] START criterion=gini, max_depth=10, min_samples_leaf=4, n_estimators=175\n",
      "[CV 4/5; 27/120] END criterion=gini, max_depth=10, min_samples_leaf=4, n_estimators=125;, score=0.790 total time=   1.0s\n",
      "[CV 2/5; 29/120] START criterion=gini, max_depth=10, min_samples_leaf=4, n_estimators=175\n",
      "[CV 5/5; 27/120] END criterion=gini, max_depth=10, min_samples_leaf=4, n_estimators=125;, score=0.758 total time=   1.0s\n",
      "[CV 3/5; 29/120] START criterion=gini, max_depth=10, min_samples_leaf=4, n_estimators=175\n",
      "[CV 2/5; 28/120] END criterion=gini, max_depth=10, min_samples_leaf=4, n_estimators=150;, score=0.797 total time=   1.2s\n",
      "[CV 4/5; 29/120] START criterion=gini, max_depth=10, min_samples_leaf=4, n_estimators=175\n",
      "[CV 1/5; 28/120] END criterion=gini, max_depth=10, min_samples_leaf=4, n_estimators=150;, score=0.827 total time=   1.2s\n",
      "[CV 5/5; 29/120] START criterion=gini, max_depth=10, min_samples_leaf=4, n_estimators=175\n",
      "[CV 3/5; 28/120] END criterion=gini, max_depth=10, min_samples_leaf=4, n_estimators=150;, score=0.763 total time=   1.3s\n",
      "[CV 1/5; 30/120] START criterion=gini, max_depth=10, min_samples_leaf=4, n_estimators=200\n",
      "[CV 4/5; 28/120] END criterion=gini, max_depth=10, min_samples_leaf=4, n_estimators=150;, score=0.795 total time=   1.3s\n",
      "[CV 2/5; 30/120] START criterion=gini, max_depth=10, min_samples_leaf=4, n_estimators=200\n",
      "[CV 5/5; 28/120] END criterion=gini, max_depth=10, min_samples_leaf=4, n_estimators=150;, score=0.760 total time=   1.3s\n",
      "[CV 3/5; 30/120] START criterion=gini, max_depth=10, min_samples_leaf=4, n_estimators=200\n",
      "[CV 1/5; 29/120] END criterion=gini, max_depth=10, min_samples_leaf=4, n_estimators=175;, score=0.827 total time=   1.4s\n",
      "[CV 4/5; 30/120] START criterion=gini, max_depth=10, min_samples_leaf=4, n_estimators=200\n",
      "[CV 2/5; 29/120] END criterion=gini, max_depth=10, min_samples_leaf=4, n_estimators=175;, score=0.800 total time=   1.5s\n",
      "[CV 5/5; 30/120] START criterion=gini, max_depth=10, min_samples_leaf=4, n_estimators=200\n",
      "[CV 3/5; 29/120] END criterion=gini, max_depth=10, min_samples_leaf=4, n_estimators=175;, score=0.758 total time=   1.4s\n",
      "[CV 1/5; 31/120] START criterion=gini, max_depth=15, min_samples_leaf=2, n_estimators=100\n",
      "[CV 4/5; 29/120] END criterion=gini, max_depth=10, min_samples_leaf=4, n_estimators=175;, score=0.793 total time=   1.4s\n",
      "[CV 2/5; 31/120] START criterion=gini, max_depth=15, min_samples_leaf=2, n_estimators=100\n",
      "[CV 5/5; 29/120] END criterion=gini, max_depth=10, min_samples_leaf=4, n_estimators=175;, score=0.765 total time=   1.5s\n",
      "[CV 3/5; 31/120] START criterion=gini, max_depth=15, min_samples_leaf=2, n_estimators=100\n",
      "[CV 1/5; 30/120] END criterion=gini, max_depth=10, min_samples_leaf=4, n_estimators=200;, score=0.830 total time=   1.7s\n",
      "[CV 4/5; 31/120] START criterion=gini, max_depth=15, min_samples_leaf=2, n_estimators=100\n",
      "[CV 2/5; 30/120] END criterion=gini, max_depth=10, min_samples_leaf=4, n_estimators=200;, score=0.795 total time=   1.6s\n",
      "[CV 5/5; 31/120] START criterion=gini, max_depth=15, min_samples_leaf=2, n_estimators=100\n",
      "[CV 3/5; 30/120] END criterion=gini, max_depth=10, min_samples_leaf=4, n_estimators=200;, score=0.762 total time=   1.6s\n",
      "[CV 1/5; 32/120] START criterion=gini, max_depth=15, min_samples_leaf=2, n_estimators=125\n",
      "[CV 1/5; 31/120] END criterion=gini, max_depth=15, min_samples_leaf=2, n_estimators=100;, score=0.845 total time=   1.1s\n",
      "[CV 2/5; 32/120] START criterion=gini, max_depth=15, min_samples_leaf=2, n_estimators=125\n",
      "[CV 4/5; 30/120] END criterion=gini, max_depth=10, min_samples_leaf=4, n_estimators=200;, score=0.792 total time=   1.6s\n",
      "[CV 3/5; 32/120] START criterion=gini, max_depth=15, min_samples_leaf=2, n_estimators=125\n",
      "[CV 2/5; 31/120] END criterion=gini, max_depth=15, min_samples_leaf=2, n_estimators=100;, score=0.813 total time=   1.1s\n",
      "[CV 4/5; 32/120] START criterion=gini, max_depth=15, min_samples_leaf=2, n_estimators=125\n",
      "[CV 3/5; 31/120] END criterion=gini, max_depth=15, min_samples_leaf=2, n_estimators=100;, score=0.768 total time=   1.1s\n",
      "[CV 5/5; 32/120] START criterion=gini, max_depth=15, min_samples_leaf=2, n_estimators=125\n",
      "[CV 5/5; 30/120] END criterion=gini, max_depth=10, min_samples_leaf=4, n_estimators=200;, score=0.762 total time=   1.6s\n",
      "[CV 1/5; 33/120] START criterion=gini, max_depth=15, min_samples_leaf=2, n_estimators=150\n",
      "[CV 4/5; 31/120] END criterion=gini, max_depth=15, min_samples_leaf=2, n_estimators=100;, score=0.787 total time=   1.1s\n",
      "[CV 2/5; 33/120] START criterion=gini, max_depth=15, min_samples_leaf=2, n_estimators=150\n",
      "[CV 5/5; 31/120] END criterion=gini, max_depth=15, min_samples_leaf=2, n_estimators=100;, score=0.777 total time=   1.2s\n",
      "[CV 3/5; 33/120] START criterion=gini, max_depth=15, min_samples_leaf=2, n_estimators=150\n",
      "[CV 1/5; 32/120] END criterion=gini, max_depth=15, min_samples_leaf=2, n_estimators=125;, score=0.845 total time=   1.4s\n",
      "[CV 4/5; 33/120] START criterion=gini, max_depth=15, min_samples_leaf=2, n_estimators=150\n",
      "[CV 2/5; 32/120] END criterion=gini, max_depth=15, min_samples_leaf=2, n_estimators=125;, score=0.810 total time=   1.4s\n",
      "[CV 5/5; 33/120] START criterion=gini, max_depth=15, min_samples_leaf=2, n_estimators=150\n",
      "[CV 4/5; 32/120] END criterion=gini, max_depth=15, min_samples_leaf=2, n_estimators=125;, score=0.795 total time=   1.4s\n",
      "[CV 1/5; 34/120] START criterion=gini, max_depth=15, min_samples_leaf=2, n_estimators=175\n",
      "[CV 3/5; 32/120] END criterion=gini, max_depth=15, min_samples_leaf=2, n_estimators=125;, score=0.778 total time=   1.4s\n",
      "[CV 2/5; 34/120] START criterion=gini, max_depth=15, min_samples_leaf=2, n_estimators=175\n",
      "[CV 5/5; 32/120] END criterion=gini, max_depth=15, min_samples_leaf=2, n_estimators=125;, score=0.773 total time=   1.3s\n",
      "[CV 3/5; 34/120] START criterion=gini, max_depth=15, min_samples_leaf=2, n_estimators=175\n",
      "[CV 1/5; 33/120] END criterion=gini, max_depth=15, min_samples_leaf=2, n_estimators=150;, score=0.852 total time=   1.6s\n",
      "[CV 4/5; 34/120] START criterion=gini, max_depth=15, min_samples_leaf=2, n_estimators=175\n",
      "[CV 2/5; 33/120] END criterion=gini, max_depth=15, min_samples_leaf=2, n_estimators=150;, score=0.820 total time=   1.6s\n",
      "[CV 5/5; 34/120] START criterion=gini, max_depth=15, min_samples_leaf=2, n_estimators=175\n",
      "[CV 3/5; 33/120] END criterion=gini, max_depth=15, min_samples_leaf=2, n_estimators=150;, score=0.783 total time=   1.7s\n",
      "[CV 1/5; 35/120] START criterion=gini, max_depth=15, min_samples_leaf=2, n_estimators=200\n",
      "[CV 4/5; 33/120] END criterion=gini, max_depth=15, min_samples_leaf=2, n_estimators=150;, score=0.790 total time=   1.6s\n",
      "[CV 2/5; 35/120] START criterion=gini, max_depth=15, min_samples_leaf=2, n_estimators=200\n",
      "[CV 5/5; 33/120] END criterion=gini, max_depth=15, min_samples_leaf=2, n_estimators=150;, score=0.777 total time=   1.6s\n",
      "[CV 3/5; 35/120] START criterion=gini, max_depth=15, min_samples_leaf=2, n_estimators=200\n",
      "[CV 1/5; 34/120] END criterion=gini, max_depth=15, min_samples_leaf=2, n_estimators=175;, score=0.845 total time=   1.8s\n",
      "[CV 4/5; 35/120] START criterion=gini, max_depth=15, min_samples_leaf=2, n_estimators=200\n",
      "[CV 2/5; 34/120] END criterion=gini, max_depth=15, min_samples_leaf=2, n_estimators=175;, score=0.813 total time=   1.8s\n",
      "[CV 5/5; 35/120] START criterion=gini, max_depth=15, min_samples_leaf=2, n_estimators=200\n",
      "[CV 3/5; 34/120] END criterion=gini, max_depth=15, min_samples_leaf=2, n_estimators=175;, score=0.778 total time=   1.9s\n",
      "[CV 1/5; 36/120] START criterion=gini, max_depth=15, min_samples_leaf=3, n_estimators=100\n",
      "[CV 4/5; 34/120] END criterion=gini, max_depth=15, min_samples_leaf=2, n_estimators=175;, score=0.788 total time=   1.8s\n",
      "[CV 2/5; 36/120] START criterion=gini, max_depth=15, min_samples_leaf=3, n_estimators=100\n",
      "[CV 5/5; 34/120] END criterion=gini, max_depth=15, min_samples_leaf=2, n_estimators=175;, score=0.778 total time=   1.8s\n",
      "[CV 3/5; 36/120] START criterion=gini, max_depth=15, min_samples_leaf=3, n_estimators=100\n",
      "[CV 1/5; 36/120] END criterion=gini, max_depth=15, min_samples_leaf=3, n_estimators=100;, score=0.837 total time=   1.1s\n",
      "[CV 4/5; 36/120] START criterion=gini, max_depth=15, min_samples_leaf=3, n_estimators=100\n",
      "[CV 1/5; 35/120] END criterion=gini, max_depth=15, min_samples_leaf=2, n_estimators=200;, score=0.850 total time=   2.1s\n",
      "[CV 5/5; 36/120] START criterion=gini, max_depth=15, min_samples_leaf=3, n_estimators=100\n",
      "[CV 2/5; 36/120] END criterion=gini, max_depth=15, min_samples_leaf=3, n_estimators=100;, score=0.803 total time=   1.0s\n",
      "[CV 1/5; 37/120] START criterion=gini, max_depth=15, min_samples_leaf=3, n_estimators=125\n",
      "[CV 2/5; 35/120] END criterion=gini, max_depth=15, min_samples_leaf=2, n_estimators=200;, score=0.812 total time=   2.1s\n",
      "[CV 2/5; 37/120] START criterion=gini, max_depth=15, min_samples_leaf=3, n_estimators=125\n",
      "[CV 3/5; 36/120] END criterion=gini, max_depth=15, min_samples_leaf=3, n_estimators=100;, score=0.770 total time=   1.0s\n",
      "[CV 3/5; 37/120] START criterion=gini, max_depth=15, min_samples_leaf=3, n_estimators=125\n",
      "[CV 3/5; 35/120] END criterion=gini, max_depth=15, min_samples_leaf=2, n_estimators=200;, score=0.777 total time=   2.2s\n",
      "[CV 4/5; 37/120] START criterion=gini, max_depth=15, min_samples_leaf=3, n_estimators=125\n",
      "[CV 5/5; 35/120] END criterion=gini, max_depth=15, min_samples_leaf=2, n_estimators=200;, score=0.778 total time=   2.1s\n",
      "[CV 5/5; 37/120] START criterion=gini, max_depth=15, min_samples_leaf=3, n_estimators=125\n",
      "[CV 4/5; 35/120] END criterion=gini, max_depth=15, min_samples_leaf=2, n_estimators=200;, score=0.793 total time=   2.1s\n",
      "[CV 1/5; 38/120] START criterion=gini, max_depth=15, min_samples_leaf=3, n_estimators=150\n",
      "[CV 4/5; 36/120] END criterion=gini, max_depth=15, min_samples_leaf=3, n_estimators=100;, score=0.788 total time=   1.0s\n",
      "[CV 2/5; 38/120] START criterion=gini, max_depth=15, min_samples_leaf=3, n_estimators=150\n",
      "[CV 5/5; 36/120] END criterion=gini, max_depth=15, min_samples_leaf=3, n_estimators=100;, score=0.783 total time=   1.0s\n",
      "[CV 3/5; 38/120] START criterion=gini, max_depth=15, min_samples_leaf=3, n_estimators=150\n",
      "[CV 1/5; 37/120] END criterion=gini, max_depth=15, min_samples_leaf=3, n_estimators=125;, score=0.835 total time=   1.3s\n",
      "[CV 4/5; 38/120] START criterion=gini, max_depth=15, min_samples_leaf=3, n_estimators=150\n",
      "[CV 3/5; 37/120] END criterion=gini, max_depth=15, min_samples_leaf=3, n_estimators=125;, score=0.772 total time=   1.2s\n",
      "[CV 5/5; 38/120] START criterion=gini, max_depth=15, min_samples_leaf=3, n_estimators=150\n",
      "[CV 2/5; 37/120] END criterion=gini, max_depth=15, min_samples_leaf=3, n_estimators=125;, score=0.805 total time=   1.4s\n",
      "[CV 1/5; 39/120] START criterion=gini, max_depth=15, min_samples_leaf=3, n_estimators=175\n",
      "[CV 4/5; 37/120] END criterion=gini, max_depth=15, min_samples_leaf=3, n_estimators=125;, score=0.788 total time=   1.3s\n",
      "[CV 2/5; 39/120] START criterion=gini, max_depth=15, min_samples_leaf=3, n_estimators=175\n",
      "[CV 5/5; 37/120] END criterion=gini, max_depth=15, min_samples_leaf=3, n_estimators=125;, score=0.777 total time=   1.3s\n",
      "[CV 3/5; 39/120] START criterion=gini, max_depth=15, min_samples_leaf=3, n_estimators=175\n",
      "[CV 1/5; 38/120] END criterion=gini, max_depth=15, min_samples_leaf=3, n_estimators=150;, score=0.840 total time=   1.5s\n",
      "[CV 4/5; 39/120] START criterion=gini, max_depth=15, min_samples_leaf=3, n_estimators=175\n",
      "[CV 2/5; 38/120] END criterion=gini, max_depth=15, min_samples_leaf=3, n_estimators=150;, score=0.803 total time=   1.6s\n",
      "[CV 5/5; 39/120] START criterion=gini, max_depth=15, min_samples_leaf=3, n_estimators=175\n",
      "[CV 3/5; 38/120] END criterion=gini, max_depth=15, min_samples_leaf=3, n_estimators=150;, score=0.768 total time=   1.5s\n",
      "[CV 1/5; 40/120] START criterion=gini, max_depth=15, min_samples_leaf=3, n_estimators=200\n",
      "[CV 4/5; 38/120] END criterion=gini, max_depth=15, min_samples_leaf=3, n_estimators=150;, score=0.790 total time=   1.5s\n",
      "[CV 2/5; 40/120] START criterion=gini, max_depth=15, min_samples_leaf=3, n_estimators=200\n",
      "[CV 5/5; 38/120] END criterion=gini, max_depth=15, min_samples_leaf=3, n_estimators=150;, score=0.778 total time=   1.5s\n",
      "[CV 3/5; 40/120] START criterion=gini, max_depth=15, min_samples_leaf=3, n_estimators=200\n",
      "[CV 1/5; 39/120] END criterion=gini, max_depth=15, min_samples_leaf=3, n_estimators=175;, score=0.847 total time=   1.8s\n",
      "[CV 4/5; 40/120] START criterion=gini, max_depth=15, min_samples_leaf=3, n_estimators=200\n",
      "[CV 2/5; 39/120] END criterion=gini, max_depth=15, min_samples_leaf=3, n_estimators=175;, score=0.805 total time=   1.8s\n",
      "[CV 5/5; 40/120] START criterion=gini, max_depth=15, min_samples_leaf=3, n_estimators=200\n",
      "[CV 3/5; 39/120] END criterion=gini, max_depth=15, min_samples_leaf=3, n_estimators=175;, score=0.765 total time=   1.7s\n",
      "[CV 1/5; 41/120] START criterion=gini, max_depth=15, min_samples_leaf=4, n_estimators=100\n",
      "[CV 4/5; 39/120] END criterion=gini, max_depth=15, min_samples_leaf=3, n_estimators=175;, score=0.792 total time=   1.8s\n",
      "[CV 2/5; 41/120] START criterion=gini, max_depth=15, min_samples_leaf=4, n_estimators=100\n",
      "[CV 5/5; 39/120] END criterion=gini, max_depth=15, min_samples_leaf=3, n_estimators=175;, score=0.780 total time=   1.7s\n",
      "[CV 3/5; 41/120] START criterion=gini, max_depth=15, min_samples_leaf=4, n_estimators=100\n",
      "[CV 1/5; 40/120] END criterion=gini, max_depth=15, min_samples_leaf=3, n_estimators=200;, score=0.840 total time=   2.0s\n",
      "[CV 4/5; 41/120] START criterion=gini, max_depth=15, min_samples_leaf=4, n_estimators=100\n",
      "[CV 1/5; 41/120] END criterion=gini, max_depth=15, min_samples_leaf=4, n_estimators=100;, score=0.838 total time=   1.0s\n",
      "[CV 5/5; 41/120] START criterion=gini, max_depth=15, min_samples_leaf=4, n_estimators=100\n",
      "[CV 2/5; 40/120] END criterion=gini, max_depth=15, min_samples_leaf=3, n_estimators=200;, score=0.805 total time=   2.0s\n",
      "[CV 1/5; 42/120] START criterion=gini, max_depth=15, min_samples_leaf=4, n_estimators=125\n",
      "[CV 2/5; 41/120] END criterion=gini, max_depth=15, min_samples_leaf=4, n_estimators=100;, score=0.798 total time=   0.9s\n",
      "[CV 2/5; 42/120] START criterion=gini, max_depth=15, min_samples_leaf=4, n_estimators=125\n",
      "[CV 3/5; 41/120] END criterion=gini, max_depth=15, min_samples_leaf=4, n_estimators=100;, score=0.777 total time=   1.0s\n",
      "[CV 3/5; 42/120] START criterion=gini, max_depth=15, min_samples_leaf=4, n_estimators=125\n",
      "[CV 3/5; 40/120] END criterion=gini, max_depth=15, min_samples_leaf=3, n_estimators=200;, score=0.763 total time=   2.1s\n",
      "[CV 4/5; 42/120] START criterion=gini, max_depth=15, min_samples_leaf=4, n_estimators=125\n",
      "[CV 4/5; 40/120] END criterion=gini, max_depth=15, min_samples_leaf=3, n_estimators=200;, score=0.792 total time=   2.0s\n",
      "[CV 5/5; 42/120] START criterion=gini, max_depth=15, min_samples_leaf=4, n_estimators=125\n",
      "[CV 4/5; 41/120] END criterion=gini, max_depth=15, min_samples_leaf=4, n_estimators=100;, score=0.783 total time=   1.0s\n",
      "[CV 5/5; 40/120] END criterion=gini, max_depth=15, min_samples_leaf=3, n_estimators=200;, score=0.773 total time=   2.0s\n",
      "[CV 1/5; 43/120] START criterion=gini, max_depth=15, min_samples_leaf=4, n_estimators=150\n",
      "[CV 2/5; 43/120] START criterion=gini, max_depth=15, min_samples_leaf=4, n_estimators=150\n",
      "[CV 5/5; 41/120] END criterion=gini, max_depth=15, min_samples_leaf=4, n_estimators=100;, score=0.768 total time=   1.0s\n",
      "[CV 3/5; 43/120] START criterion=gini, max_depth=15, min_samples_leaf=4, n_estimators=150\n",
      "[CV 1/5; 42/120] END criterion=gini, max_depth=15, min_samples_leaf=4, n_estimators=125;, score=0.830 total time=   1.2s\n",
      "[CV 4/5; 43/120] START criterion=gini, max_depth=15, min_samples_leaf=4, n_estimators=150\n",
      "[CV 2/5; 42/120] END criterion=gini, max_depth=15, min_samples_leaf=4, n_estimators=125;, score=0.800 total time=   1.2s\n",
      "[CV 5/5; 43/120] START criterion=gini, max_depth=15, min_samples_leaf=4, n_estimators=150\n",
      "[CV 3/5; 42/120] END criterion=gini, max_depth=15, min_samples_leaf=4, n_estimators=125;, score=0.778 total time=   1.2s\n",
      "[CV 1/5; 44/120] START criterion=gini, max_depth=15, min_samples_leaf=4, n_estimators=175\n",
      "[CV 4/5; 42/120] END criterion=gini, max_depth=15, min_samples_leaf=4, n_estimators=125;, score=0.787 total time=   1.3s\n",
      "[CV 2/5; 44/120] START criterion=gini, max_depth=15, min_samples_leaf=4, n_estimators=175\n",
      "[CV 5/5; 42/120] END criterion=gini, max_depth=15, min_samples_leaf=4, n_estimators=125;, score=0.778 total time=   1.2s\n",
      "[CV 3/5; 44/120] START criterion=gini, max_depth=15, min_samples_leaf=4, n_estimators=175\n",
      "[CV 1/5; 43/120] END criterion=gini, max_depth=15, min_samples_leaf=4, n_estimators=150;, score=0.835 total time=   1.4s\n",
      "[CV 4/5; 44/120] START criterion=gini, max_depth=15, min_samples_leaf=4, n_estimators=175\n",
      "[CV 2/5; 43/120] END criterion=gini, max_depth=15, min_samples_leaf=4, n_estimators=150;, score=0.800 total time=   1.5s\n",
      "[CV 5/5; 44/120] START criterion=gini, max_depth=15, min_samples_leaf=4, n_estimators=175\n",
      "[CV 3/5; 43/120] END criterion=gini, max_depth=15, min_samples_leaf=4, n_estimators=150;, score=0.780 total time=   1.4s\n",
      "[CV 1/5; 45/120] START criterion=gini, max_depth=15, min_samples_leaf=4, n_estimators=200\n",
      "[CV 4/5; 43/120] END criterion=gini, max_depth=15, min_samples_leaf=4, n_estimators=150;, score=0.783 total time=   1.4s\n",
      "[CV 2/5; 45/120] START criterion=gini, max_depth=15, min_samples_leaf=4, n_estimators=200\n",
      "[CV 5/5; 43/120] END criterion=gini, max_depth=15, min_samples_leaf=4, n_estimators=150;, score=0.767 total time=   1.5s\n",
      "[CV 3/5; 45/120] START criterion=gini, max_depth=15, min_samples_leaf=4, n_estimators=200\n",
      "[CV 1/5; 44/120] END criterion=gini, max_depth=15, min_samples_leaf=4, n_estimators=175;, score=0.835 total time=   1.7s\n",
      "[CV 4/5; 45/120] START criterion=gini, max_depth=15, min_samples_leaf=4, n_estimators=200\n",
      "[CV 2/5; 44/120] END criterion=gini, max_depth=15, min_samples_leaf=4, n_estimators=175;, score=0.798 total time=   1.7s\n",
      "[CV 5/5; 45/120] START criterion=gini, max_depth=15, min_samples_leaf=4, n_estimators=200\n",
      "[CV 3/5; 44/120] END criterion=gini, max_depth=15, min_samples_leaf=4, n_estimators=175;, score=0.775 total time=   1.7s\n",
      "[CV 1/5; 46/120] START criterion=gini, max_depth=20, min_samples_leaf=2, n_estimators=100\n",
      "[CV 4/5; 44/120] END criterion=gini, max_depth=15, min_samples_leaf=4, n_estimators=175;, score=0.790 total time=   1.7s\n",
      "[CV 2/5; 46/120] START criterion=gini, max_depth=20, min_samples_leaf=2, n_estimators=100\n",
      "[CV 5/5; 44/120] END criterion=gini, max_depth=15, min_samples_leaf=4, n_estimators=175;, score=0.765 total time=   1.7s\n",
      "[CV 3/5; 46/120] START criterion=gini, max_depth=20, min_samples_leaf=2, n_estimators=100\n",
      "[CV 1/5; 45/120] END criterion=gini, max_depth=15, min_samples_leaf=4, n_estimators=200;, score=0.835 total time=   1.9s\n",
      "[CV 4/5; 46/120] START criterion=gini, max_depth=20, min_samples_leaf=2, n_estimators=100\n",
      "[CV 1/5; 46/120] END criterion=gini, max_depth=20, min_samples_leaf=2, n_estimators=100;, score=0.838 total time=   1.1s\n",
      "[CV 5/5; 46/120] START criterion=gini, max_depth=20, min_samples_leaf=2, n_estimators=100\n",
      "[CV 2/5; 45/120] END criterion=gini, max_depth=15, min_samples_leaf=4, n_estimators=200;, score=0.798 total time=   1.9s\n",
      "[CV 1/5; 47/120] START criterion=gini, max_depth=20, min_samples_leaf=2, n_estimators=125\n",
      "[CV 3/5; 45/120] END criterion=gini, max_depth=15, min_samples_leaf=4, n_estimators=200;, score=0.775 total time=   1.9s\n",
      "[CV 2/5; 47/120] START criterion=gini, max_depth=20, min_samples_leaf=2, n_estimators=125\n",
      "[CV 2/5; 46/120] END criterion=gini, max_depth=20, min_samples_leaf=2, n_estimators=100;, score=0.805 total time=   1.2s\n",
      "[CV 3/5; 47/120] START criterion=gini, max_depth=20, min_samples_leaf=2, n_estimators=125\n",
      "[CV 4/5; 45/120] END criterion=gini, max_depth=15, min_samples_leaf=4, n_estimators=200;, score=0.788 total time=   1.9s\n",
      "[CV 4/5; 47/120] START criterion=gini, max_depth=20, min_samples_leaf=2, n_estimators=125\n",
      "[CV 3/5; 46/120] END criterion=gini, max_depth=20, min_samples_leaf=2, n_estimators=100;, score=0.772 total time=   1.2s\n",
      "[CV 5/5; 47/120] START criterion=gini, max_depth=20, min_samples_leaf=2, n_estimators=125\n",
      "[CV 5/5; 45/120] END criterion=gini, max_depth=15, min_samples_leaf=4, n_estimators=200;, score=0.768 total time=   1.9s\n",
      "[CV 1/5; 48/120] START criterion=gini, max_depth=20, min_samples_leaf=2, n_estimators=150\n",
      "[CV 4/5; 46/120] END criterion=gini, max_depth=20, min_samples_leaf=2, n_estimators=100;, score=0.788 total time=   1.1s\n",
      "[CV 2/5; 48/120] START criterion=gini, max_depth=20, min_samples_leaf=2, n_estimators=150\n",
      "[CV 5/5; 46/120] END criterion=gini, max_depth=20, min_samples_leaf=2, n_estimators=100;, score=0.787 total time=   1.1s\n",
      "[CV 3/5; 48/120] START criterion=gini, max_depth=20, min_samples_leaf=2, n_estimators=150\n",
      "[CV 1/5; 47/120] END criterion=gini, max_depth=20, min_samples_leaf=2, n_estimators=125;, score=0.837 total time=   1.4s\n",
      "[CV 4/5; 48/120] START criterion=gini, max_depth=20, min_samples_leaf=2, n_estimators=150\n",
      "[CV 2/5; 47/120] END criterion=gini, max_depth=20, min_samples_leaf=2, n_estimators=125;, score=0.808 total time=   1.4s\n",
      "[CV 5/5; 48/120] START criterion=gini, max_depth=20, min_samples_leaf=2, n_estimators=150\n",
      "[CV 4/5; 47/120] END criterion=gini, max_depth=20, min_samples_leaf=2, n_estimators=125;, score=0.790 total time=   1.4s\n",
      "[CV 1/5; 49/120] START criterion=gini, max_depth=20, min_samples_leaf=2, n_estimators=175\n",
      "[CV 5/5; 47/120] END criterion=gini, max_depth=20, min_samples_leaf=2, n_estimators=125;, score=0.780 total time=   1.4s\n",
      "[CV 2/5; 49/120] START criterion=gini, max_depth=20, min_samples_leaf=2, n_estimators=175\n",
      "[CV 3/5; 47/120] END criterion=gini, max_depth=20, min_samples_leaf=2, n_estimators=125;, score=0.773 total time=   1.5s\n",
      "[CV 3/5; 49/120] START criterion=gini, max_depth=20, min_samples_leaf=2, n_estimators=175\n",
      "[CV 1/5; 48/120] END criterion=gini, max_depth=20, min_samples_leaf=2, n_estimators=150;, score=0.838 total time=   1.7s\n",
      "[CV 4/5; 49/120] START criterion=gini, max_depth=20, min_samples_leaf=2, n_estimators=175\n",
      "[CV 2/5; 48/120] END criterion=gini, max_depth=20, min_samples_leaf=2, n_estimators=150;, score=0.803 total time=   1.6s\n",
      "[CV 5/5; 49/120] START criterion=gini, max_depth=20, min_samples_leaf=2, n_estimators=175\n",
      "[CV 3/5; 48/120] END criterion=gini, max_depth=20, min_samples_leaf=2, n_estimators=150;, score=0.773 total time=   1.7s\n",
      "[CV 1/5; 50/120] START criterion=gini, max_depth=20, min_samples_leaf=2, n_estimators=200\n",
      "[CV 4/5; 48/120] END criterion=gini, max_depth=20, min_samples_leaf=2, n_estimators=150;, score=0.790 total time=   1.6s\n",
      "[CV 2/5; 50/120] START criterion=gini, max_depth=20, min_samples_leaf=2, n_estimators=200\n",
      "[CV 5/5; 48/120] END criterion=gini, max_depth=20, min_samples_leaf=2, n_estimators=150;, score=0.770 total time=   1.7s\n",
      "[CV 3/5; 50/120] START criterion=gini, max_depth=20, min_samples_leaf=2, n_estimators=200\n",
      "[CV 1/5; 49/120] END criterion=gini, max_depth=20, min_samples_leaf=2, n_estimators=175;, score=0.842 total time=   2.0s\n",
      "[CV 4/5; 50/120] START criterion=gini, max_depth=20, min_samples_leaf=2, n_estimators=200\n",
      "[CV 2/5; 49/120] END criterion=gini, max_depth=20, min_samples_leaf=2, n_estimators=175;, score=0.803 total time=   2.0s\n",
      "[CV 5/5; 50/120] START criterion=gini, max_depth=20, min_samples_leaf=2, n_estimators=200\n",
      "[CV 3/5; 49/120] END criterion=gini, max_depth=20, min_samples_leaf=2, n_estimators=175;, score=0.777 total time=   1.9s\n",
      "[CV 1/5; 51/120] START criterion=gini, max_depth=20, min_samples_leaf=3, n_estimators=100\n",
      "[CV 4/5; 49/120] END criterion=gini, max_depth=20, min_samples_leaf=2, n_estimators=175;, score=0.792 total time=   1.9s\n",
      "[CV 2/5; 51/120] START criterion=gini, max_depth=20, min_samples_leaf=3, n_estimators=100\n",
      "[CV 5/5; 49/120] END criterion=gini, max_depth=20, min_samples_leaf=2, n_estimators=175;, score=0.778 total time=   1.9s\n",
      "[CV 3/5; 51/120] START criterion=gini, max_depth=20, min_samples_leaf=3, n_estimators=100\n",
      "[CV 1/5; 51/120] END criterion=gini, max_depth=20, min_samples_leaf=3, n_estimators=100;, score=0.837 total time=   1.1s\n",
      "[CV 4/5; 51/120] START criterion=gini, max_depth=20, min_samples_leaf=3, n_estimators=100\n",
      "[CV 1/5; 50/120] END criterion=gini, max_depth=20, min_samples_leaf=2, n_estimators=200;, score=0.840 total time=   2.3s\n",
      "[CV 5/5; 51/120] START criterion=gini, max_depth=20, min_samples_leaf=3, n_estimators=100\n",
      "[CV 2/5; 50/120] END criterion=gini, max_depth=20, min_samples_leaf=2, n_estimators=200;, score=0.812 total time=   2.2s\n",
      "[CV 1/5; 52/120] START criterion=gini, max_depth=20, min_samples_leaf=3, n_estimators=125\n",
      "[CV 2/5; 51/120] END criterion=gini, max_depth=20, min_samples_leaf=3, n_estimators=100;, score=0.802 total time=   1.1s\n",
      "[CV 2/5; 52/120] START criterion=gini, max_depth=20, min_samples_leaf=3, n_estimators=125\n",
      "[CV 3/5; 51/120] END criterion=gini, max_depth=20, min_samples_leaf=3, n_estimators=100;, score=0.763 total time=   1.2s\n",
      "[CV 3/5; 52/120] START criterion=gini, max_depth=20, min_samples_leaf=3, n_estimators=125\n",
      "[CV 3/5; 50/120] END criterion=gini, max_depth=20, min_samples_leaf=2, n_estimators=200;, score=0.777 total time=   2.3s\n",
      "[CV 4/5; 52/120] START criterion=gini, max_depth=20, min_samples_leaf=3, n_estimators=125\n",
      "[CV 4/5; 51/120] END criterion=gini, max_depth=20, min_samples_leaf=3, n_estimators=100;, score=0.780 total time=   1.1s\n",
      "[CV 5/5; 50/120] END criterion=gini, max_depth=20, min_samples_leaf=2, n_estimators=200;, score=0.775 total time=   2.2s\n",
      "[CV 5/5; 52/120] START criterion=gini, max_depth=20, min_samples_leaf=3, n_estimators=125\n",
      "[CV 1/5; 53/120] START criterion=gini, max_depth=20, min_samples_leaf=3, n_estimators=150\n",
      "[CV 4/5; 50/120] END criterion=gini, max_depth=20, min_samples_leaf=2, n_estimators=200;, score=0.792 total time=   2.3s\n",
      "[CV 2/5; 53/120] START criterion=gini, max_depth=20, min_samples_leaf=3, n_estimators=150\n",
      "[CV 5/5; 51/120] END criterion=gini, max_depth=20, min_samples_leaf=3, n_estimators=100;, score=0.767 total time=   1.1s\n",
      "[CV 3/5; 53/120] START criterion=gini, max_depth=20, min_samples_leaf=3, n_estimators=150\n",
      "[CV 1/5; 52/120] END criterion=gini, max_depth=20, min_samples_leaf=3, n_estimators=125;, score=0.840 total time=   1.3s\n",
      "[CV 4/5; 53/120] START criterion=gini, max_depth=20, min_samples_leaf=3, n_estimators=150\n",
      "[CV 2/5; 52/120] END criterion=gini, max_depth=20, min_samples_leaf=3, n_estimators=125;, score=0.808 total time=   1.4s\n",
      "[CV 5/5; 53/120] START criterion=gini, max_depth=20, min_samples_leaf=3, n_estimators=150\n",
      "[CV 3/5; 52/120] END criterion=gini, max_depth=20, min_samples_leaf=3, n_estimators=125;, score=0.770 total time=   1.3s\n",
      "[CV 1/5; 54/120] START criterion=gini, max_depth=20, min_samples_leaf=3, n_estimators=175\n",
      "[CV 4/5; 52/120] END criterion=gini, max_depth=20, min_samples_leaf=3, n_estimators=125;, score=0.783 total time=   1.4s\n",
      "[CV 2/5; 54/120] START criterion=gini, max_depth=20, min_samples_leaf=3, n_estimators=175\n",
      "[CV 5/5; 52/120] END criterion=gini, max_depth=20, min_samples_leaf=3, n_estimators=125;, score=0.765 total time=   1.3s\n",
      "[CV 3/5; 54/120] START criterion=gini, max_depth=20, min_samples_leaf=3, n_estimators=175\n",
      "[CV 1/5; 53/120] END criterion=gini, max_depth=20, min_samples_leaf=3, n_estimators=150;, score=0.843 total time=   1.6s\n",
      "[CV 4/5; 54/120] START criterion=gini, max_depth=20, min_samples_leaf=3, n_estimators=175\n",
      "[CV 2/5; 53/120] END criterion=gini, max_depth=20, min_samples_leaf=3, n_estimators=150;, score=0.810 total time=   1.5s\n",
      "[CV 5/5; 54/120] START criterion=gini, max_depth=20, min_samples_leaf=3, n_estimators=175\n",
      "[CV 3/5; 53/120] END criterion=gini, max_depth=20, min_samples_leaf=3, n_estimators=150;, score=0.768 total time=   1.6s\n",
      "[CV 1/5; 55/120] START criterion=gini, max_depth=20, min_samples_leaf=3, n_estimators=200\n",
      "[CV 4/5; 53/120] END criterion=gini, max_depth=20, min_samples_leaf=3, n_estimators=150;, score=0.783 total time=   1.5s\n",
      "[CV 2/5; 55/120] START criterion=gini, max_depth=20, min_samples_leaf=3, n_estimators=200\n",
      "[CV 5/5; 53/120] END criterion=gini, max_depth=20, min_samples_leaf=3, n_estimators=150;, score=0.765 total time=   1.5s\n",
      "[CV 3/5; 55/120] START criterion=gini, max_depth=20, min_samples_leaf=3, n_estimators=200\n",
      "[CV 1/5; 54/120] END criterion=gini, max_depth=20, min_samples_leaf=3, n_estimators=175;, score=0.843 total time=   1.8s\n",
      "[CV 4/5; 55/120] START criterion=gini, max_depth=20, min_samples_leaf=3, n_estimators=200\n",
      "[CV 2/5; 54/120] END criterion=gini, max_depth=20, min_samples_leaf=3, n_estimators=175;, score=0.813 total time=   1.8s\n",
      "[CV 5/5; 55/120] START criterion=gini, max_depth=20, min_samples_leaf=3, n_estimators=200\n",
      "[CV 3/5; 54/120] END criterion=gini, max_depth=20, min_samples_leaf=3, n_estimators=175;, score=0.765 total time=   1.8s\n",
      "[CV 1/5; 56/120] START criterion=gini, max_depth=20, min_samples_leaf=4, n_estimators=100\n",
      "[CV 4/5; 54/120] END criterion=gini, max_depth=20, min_samples_leaf=3, n_estimators=175;, score=0.783 total time=   1.8s\n",
      "[CV 2/5; 56/120] START criterion=gini, max_depth=20, min_samples_leaf=4, n_estimators=100\n",
      "[CV 5/5; 54/120] END criterion=gini, max_depth=20, min_samples_leaf=3, n_estimators=175;, score=0.765 total time=   1.8s\n",
      "[CV 3/5; 56/120] START criterion=gini, max_depth=20, min_samples_leaf=4, n_estimators=100\n",
      "[CV 1/5; 55/120] END criterion=gini, max_depth=20, min_samples_leaf=3, n_estimators=200;, score=0.845 total time=   2.2s\n",
      "[CV 4/5; 56/120] START criterion=gini, max_depth=20, min_samples_leaf=4, n_estimators=100\n",
      "[CV 1/5; 56/120] END criterion=gini, max_depth=20, min_samples_leaf=4, n_estimators=100;, score=0.850 total time=   1.0s\n",
      "[CV 5/5; 56/120] START criterion=gini, max_depth=20, min_samples_leaf=4, n_estimators=100\n",
      "[CV 3/5; 55/120] END criterion=gini, max_depth=20, min_samples_leaf=3, n_estimators=200;, score=0.768 total time=   2.0s\n",
      "[CV 1/5; 57/120] START criterion=gini, max_depth=20, min_samples_leaf=4, n_estimators=125\n",
      "[CV 2/5; 55/120] END criterion=gini, max_depth=20, min_samples_leaf=3, n_estimators=200;, score=0.813 total time=   2.2s\n",
      "[CV 2/5; 57/120] START criterion=gini, max_depth=20, min_samples_leaf=4, n_estimators=125\n",
      "[CV 3/5; 56/120] END criterion=gini, max_depth=20, min_samples_leaf=4, n_estimators=100;, score=0.757 total time=   1.0s\n",
      "[CV 3/5; 57/120] START criterion=gini, max_depth=20, min_samples_leaf=4, n_estimators=125\n",
      "[CV 2/5; 56/120] END criterion=gini, max_depth=20, min_samples_leaf=4, n_estimators=100;, score=0.810 total time=   1.0s\n",
      "[CV 4/5; 57/120] START criterion=gini, max_depth=20, min_samples_leaf=4, n_estimators=125\n",
      "[CV 4/5; 55/120] END criterion=gini, max_depth=20, min_samples_leaf=3, n_estimators=200;, score=0.785 total time=   2.0s\n",
      "[CV 5/5; 57/120] START criterion=gini, max_depth=20, min_samples_leaf=4, n_estimators=125\n",
      "[CV 5/5; 55/120] END criterion=gini, max_depth=20, min_samples_leaf=3, n_estimators=200;, score=0.775 total time=   2.1s\n",
      "[CV 1/5; 58/120] START criterion=gini, max_depth=20, min_samples_leaf=4, n_estimators=150\n",
      "[CV 4/5; 56/120] END criterion=gini, max_depth=20, min_samples_leaf=4, n_estimators=100;, score=0.783 total time=   1.0s\n",
      "[CV 2/5; 58/120] START criterion=gini, max_depth=20, min_samples_leaf=4, n_estimators=150\n",
      "[CV 5/5; 56/120] END criterion=gini, max_depth=20, min_samples_leaf=4, n_estimators=100;, score=0.767 total time=   1.0s\n",
      "[CV 3/5; 58/120] START criterion=gini, max_depth=20, min_samples_leaf=4, n_estimators=150\n",
      "[CV 1/5; 57/120] END criterion=gini, max_depth=20, min_samples_leaf=4, n_estimators=125;, score=0.842 total time=   1.3s\n",
      "[CV 4/5; 58/120] START criterion=gini, max_depth=20, min_samples_leaf=4, n_estimators=150\n",
      "[CV 2/5; 57/120] END criterion=gini, max_depth=20, min_samples_leaf=4, n_estimators=125;, score=0.802 total time=   1.3s\n",
      "[CV 5/5; 58/120] START criterion=gini, max_depth=20, min_samples_leaf=4, n_estimators=150\n",
      "[CV 4/5; 57/120] END criterion=gini, max_depth=20, min_samples_leaf=4, n_estimators=125;, score=0.788 total time=   1.2s\n",
      "[CV 1/5; 59/120] START criterion=gini, max_depth=20, min_samples_leaf=4, n_estimators=175\n",
      "[CV 3/5; 57/120] END criterion=gini, max_depth=20, min_samples_leaf=4, n_estimators=125;, score=0.748 total time=   1.3s\n",
      "[CV 2/5; 59/120] START criterion=gini, max_depth=20, min_samples_leaf=4, n_estimators=175\n",
      "[CV 5/5; 57/120] END criterion=gini, max_depth=20, min_samples_leaf=4, n_estimators=125;, score=0.772 total time=   1.3s\n",
      "[CV 3/5; 59/120] START criterion=gini, max_depth=20, min_samples_leaf=4, n_estimators=175\n",
      "[CV 1/5; 58/120] END criterion=gini, max_depth=20, min_samples_leaf=4, n_estimators=150;, score=0.842 total time=   1.5s\n",
      "[CV 4/5; 59/120] START criterion=gini, max_depth=20, min_samples_leaf=4, n_estimators=175\n",
      "[CV 2/5; 58/120] END criterion=gini, max_depth=20, min_samples_leaf=4, n_estimators=150;, score=0.805 total time=   1.5s\n",
      "[CV 5/5; 59/120] START criterion=gini, max_depth=20, min_samples_leaf=4, n_estimators=175\n",
      "[CV 3/5; 58/120] END criterion=gini, max_depth=20, min_samples_leaf=4, n_estimators=150;, score=0.755 total time=   1.5s\n",
      "[CV 1/5; 60/120] START criterion=gini, max_depth=20, min_samples_leaf=4, n_estimators=200\n",
      "[CV 4/5; 58/120] END criterion=gini, max_depth=20, min_samples_leaf=4, n_estimators=150;, score=0.792 total time=   1.5s\n",
      "[CV 2/5; 60/120] START criterion=gini, max_depth=20, min_samples_leaf=4, n_estimators=200\n",
      "[CV 5/5; 58/120] END criterion=gini, max_depth=20, min_samples_leaf=4, n_estimators=150;, score=0.772 total time=   1.5s\n",
      "[CV 3/5; 60/120] START criterion=gini, max_depth=20, min_samples_leaf=4, n_estimators=200\n",
      "[CV 2/5; 59/120] END criterion=gini, max_depth=20, min_samples_leaf=4, n_estimators=175;, score=0.807 total time=   1.7s\n",
      "[CV 1/5; 59/120] END criterion=gini, max_depth=20, min_samples_leaf=4, n_estimators=175;, score=0.837 total time=   1.7s\n",
      "[CV 4/5; 60/120] START criterion=gini, max_depth=20, min_samples_leaf=4, n_estimators=200\n",
      "[CV 5/5; 60/120] START criterion=gini, max_depth=20, min_samples_leaf=4, n_estimators=200\n",
      "[CV 3/5; 59/120] END criterion=gini, max_depth=20, min_samples_leaf=4, n_estimators=175;, score=0.753 total time=   1.7s\n",
      "[CV 1/5; 61/120] START criterion=entropy, max_depth=5, min_samples_leaf=2, n_estimators=100\n",
      "[CV 4/5; 59/120] END criterion=gini, max_depth=20, min_samples_leaf=4, n_estimators=175;, score=0.785 total time=   1.7s\n",
      "[CV 2/5; 61/120] START criterion=entropy, max_depth=5, min_samples_leaf=2, n_estimators=100\n",
      "[CV 1/5; 61/120] END criterion=entropy, max_depth=5, min_samples_leaf=2, n_estimators=100;, score=0.792 total time=   0.5s\n",
      "[CV 3/5; 61/120] START criterion=entropy, max_depth=5, min_samples_leaf=2, n_estimators=100\n",
      "[CV 5/5; 59/120] END criterion=gini, max_depth=20, min_samples_leaf=4, n_estimators=175;, score=0.770 total time=   1.7s\n",
      "[CV 4/5; 61/120] START criterion=entropy, max_depth=5, min_samples_leaf=2, n_estimators=100\n",
      "[CV 2/5; 61/120] END criterion=entropy, max_depth=5, min_samples_leaf=2, n_estimators=100;, score=0.753 total time=   0.6s\n",
      "[CV 5/5; 61/120] START criterion=entropy, max_depth=5, min_samples_leaf=2, n_estimators=100\n",
      "[CV 3/5; 61/120] END criterion=entropy, max_depth=5, min_samples_leaf=2, n_estimators=100;, score=0.723 total time=   0.5s\n",
      "[CV 1/5; 62/120] START criterion=entropy, max_depth=5, min_samples_leaf=2, n_estimators=125\n",
      "[CV 4/5; 61/120] END criterion=entropy, max_depth=5, min_samples_leaf=2, n_estimators=100;, score=0.730 total time=   0.5s\n",
      "[CV 1/5; 60/120] END criterion=gini, max_depth=20, min_samples_leaf=4, n_estimators=200;, score=0.840 total time=   2.1s\n",
      "[CV 2/5; 62/120] START criterion=entropy, max_depth=5, min_samples_leaf=2, n_estimators=125\n",
      "[CV 3/5; 62/120] START criterion=entropy, max_depth=5, min_samples_leaf=2, n_estimators=125\n",
      "[CV 2/5; 60/120] END criterion=gini, max_depth=20, min_samples_leaf=4, n_estimators=200;, score=0.807 total time=   2.0s\n",
      "[CV 4/5; 62/120] START criterion=entropy, max_depth=5, min_samples_leaf=2, n_estimators=125\n",
      "[CV 3/5; 60/120] END criterion=gini, max_depth=20, min_samples_leaf=4, n_estimators=200;, score=0.757 total time=   1.9s\n",
      "[CV 5/5; 62/120] START criterion=entropy, max_depth=5, min_samples_leaf=2, n_estimators=125\n",
      "[CV 5/5; 61/120] END criterion=entropy, max_depth=5, min_samples_leaf=2, n_estimators=100;, score=0.735 total time=   0.5s\n",
      "[CV 1/5; 63/120] START criterion=entropy, max_depth=5, min_samples_leaf=2, n_estimators=150\n",
      "[CV 1/5; 62/120] END criterion=entropy, max_depth=5, min_samples_leaf=2, n_estimators=125;, score=0.792 total time=   0.7s\n",
      "[CV 2/5; 63/120] START criterion=entropy, max_depth=5, min_samples_leaf=2, n_estimators=150\n",
      "[CV 4/5; 60/120] END criterion=gini, max_depth=20, min_samples_leaf=4, n_estimators=200;, score=0.788 total time=   1.9s\n",
      "[CV 3/5; 63/120] START criterion=entropy, max_depth=5, min_samples_leaf=2, n_estimators=150\n",
      "[CV 5/5; 60/120] END criterion=gini, max_depth=20, min_samples_leaf=4, n_estimators=200;, score=0.770 total time=   2.0s\n",
      "[CV 4/5; 63/120] START criterion=entropy, max_depth=5, min_samples_leaf=2, n_estimators=150\n",
      "[CV 3/5; 62/120] END criterion=entropy, max_depth=5, min_samples_leaf=2, n_estimators=125;, score=0.725 total time=   0.7s\n",
      "[CV 5/5; 63/120] START criterion=entropy, max_depth=5, min_samples_leaf=2, n_estimators=150\n",
      "[CV 2/5; 62/120] END criterion=entropy, max_depth=5, min_samples_leaf=2, n_estimators=125;, score=0.752 total time=   0.7s\n",
      "[CV 1/5; 64/120] START criterion=entropy, max_depth=5, min_samples_leaf=2, n_estimators=175\n",
      "[CV 4/5; 62/120] END criterion=entropy, max_depth=5, min_samples_leaf=2, n_estimators=125;, score=0.725 total time=   0.7s\n",
      "[CV 2/5; 64/120] START criterion=entropy, max_depth=5, min_samples_leaf=2, n_estimators=175\n",
      "[CV 5/5; 62/120] END criterion=entropy, max_depth=5, min_samples_leaf=2, n_estimators=125;, score=0.740 total time=   0.7s\n",
      "[CV 3/5; 64/120] START criterion=entropy, max_depth=5, min_samples_leaf=2, n_estimators=175\n",
      "[CV 1/5; 63/120] END criterion=entropy, max_depth=5, min_samples_leaf=2, n_estimators=150;, score=0.787 total time=   0.8s\n",
      "[CV 4/5; 64/120] START criterion=entropy, max_depth=5, min_samples_leaf=2, n_estimators=175\n",
      "[CV 2/5; 63/120] END criterion=entropy, max_depth=5, min_samples_leaf=2, n_estimators=150;, score=0.750 total time=   0.8s\n",
      "[CV 5/5; 64/120] START criterion=entropy, max_depth=5, min_samples_leaf=2, n_estimators=175\n",
      "[CV 3/5; 63/120] END criterion=entropy, max_depth=5, min_samples_leaf=2, n_estimators=150;, score=0.735 total time=   0.8s\n",
      "[CV 4/5; 63/120] END criterion=entropy, max_depth=5, min_samples_leaf=2, n_estimators=150;, score=0.733 total time=   0.8s\n",
      "[CV 1/5; 65/120] START criterion=entropy, max_depth=5, min_samples_leaf=2, n_estimators=200\n",
      "[CV 2/5; 65/120] START criterion=entropy, max_depth=5, min_samples_leaf=2, n_estimators=200\n",
      "[CV 5/5; 63/120] END criterion=entropy, max_depth=5, min_samples_leaf=2, n_estimators=150;, score=0.730 total time=   0.8s\n",
      "[CV 3/5; 65/120] START criterion=entropy, max_depth=5, min_samples_leaf=2, n_estimators=200\n",
      "[CV 1/5; 64/120] END criterion=entropy, max_depth=5, min_samples_leaf=2, n_estimators=175;, score=0.785 total time=   0.9s\n",
      "[CV 4/5; 65/120] START criterion=entropy, max_depth=5, min_samples_leaf=2, n_estimators=200\n",
      "[CV 3/5; 64/120] END criterion=entropy, max_depth=5, min_samples_leaf=2, n_estimators=175;, score=0.733 total time=   0.9s\n",
      "[CV 5/5; 65/120] START criterion=entropy, max_depth=5, min_samples_leaf=2, n_estimators=200\n",
      "[CV 2/5; 64/120] END criterion=entropy, max_depth=5, min_samples_leaf=2, n_estimators=175;, score=0.747 total time=   0.9s\n",
      "[CV 1/5; 66/120] START criterion=entropy, max_depth=5, min_samples_leaf=3, n_estimators=100\n",
      "[CV 4/5; 64/120] END criterion=entropy, max_depth=5, min_samples_leaf=2, n_estimators=175;, score=0.730 total time=   0.9s\n",
      "[CV 2/5; 66/120] START criterion=entropy, max_depth=5, min_samples_leaf=3, n_estimators=100\n",
      "[CV 5/5; 64/120] END criterion=entropy, max_depth=5, min_samples_leaf=2, n_estimators=175;, score=0.732 total time=   0.9s\n",
      "[CV 3/5; 66/120] START criterion=entropy, max_depth=5, min_samples_leaf=3, n_estimators=100\n",
      "[CV 1/5; 65/120] END criterion=entropy, max_depth=5, min_samples_leaf=2, n_estimators=200;, score=0.792 total time=   1.0s\n",
      "[CV 2/5; 65/120] END criterion=entropy, max_depth=5, min_samples_leaf=2, n_estimators=200;, score=0.748 total time=   1.0s\n",
      "[CV 4/5; 66/120] START criterion=entropy, max_depth=5, min_samples_leaf=3, n_estimators=100\n",
      "[CV 5/5; 66/120] START criterion=entropy, max_depth=5, min_samples_leaf=3, n_estimators=100\n",
      "[CV 1/5; 66/120] END criterion=entropy, max_depth=5, min_samples_leaf=3, n_estimators=100;, score=0.792 total time=   0.6s\n",
      "[CV 1/5; 67/120] START criterion=entropy, max_depth=5, min_samples_leaf=3, n_estimators=125\n",
      "[CV 3/5; 65/120] END criterion=entropy, max_depth=5, min_samples_leaf=2, n_estimators=200;, score=0.735 total time=   1.0s\n",
      "[CV 2/5; 67/120] START criterion=entropy, max_depth=5, min_samples_leaf=3, n_estimators=125\n",
      "[CV 2/5; 66/120] END criterion=entropy, max_depth=5, min_samples_leaf=3, n_estimators=100;, score=0.747 total time=   0.5s\n",
      "[CV 3/5; 67/120] START criterion=entropy, max_depth=5, min_samples_leaf=3, n_estimators=125\n",
      "[CV 4/5; 65/120] END criterion=entropy, max_depth=5, min_samples_leaf=2, n_estimators=200;, score=0.730 total time=   1.0s\n",
      "[CV 4/5; 67/120] START criterion=entropy, max_depth=5, min_samples_leaf=3, n_estimators=125\n",
      "[CV 3/5; 66/120] END criterion=entropy, max_depth=5, min_samples_leaf=3, n_estimators=100;, score=0.732 total time=   0.5s\n",
      "[CV 5/5; 67/120] START criterion=entropy, max_depth=5, min_samples_leaf=3, n_estimators=125\n",
      "[CV 5/5; 65/120] END criterion=entropy, max_depth=5, min_samples_leaf=2, n_estimators=200;, score=0.723 total time=   1.0s\n",
      "[CV 1/5; 68/120] START criterion=entropy, max_depth=5, min_samples_leaf=3, n_estimators=150\n",
      "[CV 5/5; 66/120] END criterion=entropy, max_depth=5, min_samples_leaf=3, n_estimators=100;, score=0.732 total time=   0.5s\n",
      "[CV 2/5; 68/120] START criterion=entropy, max_depth=5, min_samples_leaf=3, n_estimators=150\n",
      "[CV 4/5; 66/120] END criterion=entropy, max_depth=5, min_samples_leaf=3, n_estimators=100;, score=0.725 total time=   0.5s\n",
      "[CV 3/5; 68/120] START criterion=entropy, max_depth=5, min_samples_leaf=3, n_estimators=150\n",
      "[CV 1/5; 67/120] END criterion=entropy, max_depth=5, min_samples_leaf=3, n_estimators=125;, score=0.790 total time=   0.7s\n",
      "[CV 4/5; 68/120] START criterion=entropy, max_depth=5, min_samples_leaf=3, n_estimators=150\n",
      "[CV 2/5; 67/120] END criterion=entropy, max_depth=5, min_samples_leaf=3, n_estimators=125;, score=0.755 total time=   0.6s\n",
      "[CV 5/5; 68/120] START criterion=entropy, max_depth=5, min_samples_leaf=3, n_estimators=150\n",
      "[CV 3/5; 67/120] END criterion=entropy, max_depth=5, min_samples_leaf=3, n_estimators=125;, score=0.728 total time=   0.6s\n",
      "[CV 1/5; 69/120] START criterion=entropy, max_depth=5, min_samples_leaf=3, n_estimators=175\n",
      "[CV 4/5; 67/120] END criterion=entropy, max_depth=5, min_samples_leaf=3, n_estimators=125;, score=0.718 total time=   0.6s\n",
      "[CV 2/5; 69/120] START criterion=entropy, max_depth=5, min_samples_leaf=3, n_estimators=175\n",
      "[CV 5/5; 67/120] END criterion=entropy, max_depth=5, min_samples_leaf=3, n_estimators=125;, score=0.728 total time=   0.7s\n",
      "[CV 3/5; 69/120] START criterion=entropy, max_depth=5, min_samples_leaf=3, n_estimators=175\n",
      "[CV 1/5; 68/120] END criterion=entropy, max_depth=5, min_samples_leaf=3, n_estimators=150;, score=0.790 total time=   0.8s\n",
      "[CV 4/5; 69/120] START criterion=entropy, max_depth=5, min_samples_leaf=3, n_estimators=175\n",
      "[CV 2/5; 68/120] END criterion=entropy, max_depth=5, min_samples_leaf=3, n_estimators=150;, score=0.752 total time=   0.7s\n",
      "[CV 5/5; 69/120] START criterion=entropy, max_depth=5, min_samples_leaf=3, n_estimators=175\n",
      "[CV 3/5; 68/120] END criterion=entropy, max_depth=5, min_samples_leaf=3, n_estimators=150;, score=0.735 total time=   0.8s\n",
      "[CV 1/5; 70/120] START criterion=entropy, max_depth=5, min_samples_leaf=3, n_estimators=200\n",
      "[CV 4/5; 68/120] END criterion=entropy, max_depth=5, min_samples_leaf=3, n_estimators=150;, score=0.727 total time=   0.8s\n",
      "[CV 2/5; 70/120] START criterion=entropy, max_depth=5, min_samples_leaf=3, n_estimators=200[CV 5/5; 68/120] END criterion=entropy, max_depth=5, min_samples_leaf=3, n_estimators=150;, score=0.730 total time=   0.8s\n",
      "\n",
      "[CV 3/5; 70/120] START criterion=entropy, max_depth=5, min_samples_leaf=3, n_estimators=200\n",
      "[CV 1/5; 69/120] END criterion=entropy, max_depth=5, min_samples_leaf=3, n_estimators=175;, score=0.792 total time=   0.9s\n",
      "[CV 4/5; 70/120] START criterion=entropy, max_depth=5, min_samples_leaf=3, n_estimators=200\n",
      "[CV 2/5; 69/120] END criterion=entropy, max_depth=5, min_samples_leaf=3, n_estimators=175;, score=0.750 total time=   0.9s\n",
      "[CV 5/5; 70/120] START criterion=entropy, max_depth=5, min_samples_leaf=3, n_estimators=200\n",
      "[CV 3/5; 69/120] END criterion=entropy, max_depth=5, min_samples_leaf=3, n_estimators=175;, score=0.733 total time=   0.9s\n",
      "[CV 1/5; 71/120] START criterion=entropy, max_depth=5, min_samples_leaf=4, n_estimators=100\n",
      "[CV 4/5; 69/120] END criterion=entropy, max_depth=5, min_samples_leaf=3, n_estimators=175;, score=0.727 total time=   0.9s\n",
      "[CV 2/5; 71/120] START criterion=entropy, max_depth=5, min_samples_leaf=4, n_estimators=100\n",
      "[CV 5/5; 69/120] END criterion=entropy, max_depth=5, min_samples_leaf=3, n_estimators=175;, score=0.725 total time=   0.9s\n",
      "[CV 3/5; 71/120] START criterion=entropy, max_depth=5, min_samples_leaf=4, n_estimators=100\n",
      "[CV 1/5; 70/120] END criterion=entropy, max_depth=5, min_samples_leaf=3, n_estimators=200;, score=0.793 total time=   1.0s\n",
      "[CV 4/5; 71/120] START criterion=entropy, max_depth=5, min_samples_leaf=4, n_estimators=100\n",
      "[CV 3/5; 70/120] END criterion=entropy, max_depth=5, min_samples_leaf=3, n_estimators=200;, score=0.735 total time=   1.0s\n",
      "[CV 5/5; 71/120] START criterion=entropy, max_depth=5, min_samples_leaf=4, n_estimators=100\n",
      "[CV 1/5; 71/120] END criterion=entropy, max_depth=5, min_samples_leaf=4, n_estimators=100;, score=0.793 total time=   0.5s\n",
      "[CV 1/5; 72/120] START criterion=entropy, max_depth=5, min_samples_leaf=4, n_estimators=125\n",
      "[CV 2/5; 70/120] END criterion=entropy, max_depth=5, min_samples_leaf=3, n_estimators=200;, score=0.747 total time=   1.0s\n",
      "[CV 2/5; 72/120] START criterion=entropy, max_depth=5, min_samples_leaf=4, n_estimators=125\n",
      "[CV 2/5; 71/120] END criterion=entropy, max_depth=5, min_samples_leaf=4, n_estimators=100;, score=0.757 total time=   0.5s\n",
      "[CV 3/5; 72/120] START criterion=entropy, max_depth=5, min_samples_leaf=4, n_estimators=125\n",
      "[CV 4/5; 70/120] END criterion=entropy, max_depth=5, min_samples_leaf=3, n_estimators=200;, score=0.735 total time=   1.0s\n",
      "[CV 3/5; 71/120] END criterion=entropy, max_depth=5, min_samples_leaf=4, n_estimators=100;, score=0.733 total time=   0.5s\n",
      "[CV 4/5; 72/120] START criterion=entropy, max_depth=5, min_samples_leaf=4, n_estimators=125\n",
      "[CV 5/5; 72/120] START criterion=entropy, max_depth=5, min_samples_leaf=4, n_estimators=125\n",
      "[CV 5/5; 70/120] END criterion=entropy, max_depth=5, min_samples_leaf=3, n_estimators=200;, score=0.727 total time=   1.0s\n",
      "[CV 1/5; 73/120] START criterion=entropy, max_depth=5, min_samples_leaf=4, n_estimators=150\n",
      "[CV 4/5; 71/120] END criterion=entropy, max_depth=5, min_samples_leaf=4, n_estimators=100;, score=0.732 total time=   0.6s\n",
      "[CV 2/5; 73/120] START criterion=entropy, max_depth=5, min_samples_leaf=4, n_estimators=150\n",
      "[CV 5/5; 71/120] END criterion=entropy, max_depth=5, min_samples_leaf=4, n_estimators=100;, score=0.737 total time=   0.5s\n",
      "[CV 3/5; 73/120] START criterion=entropy, max_depth=5, min_samples_leaf=4, n_estimators=150\n",
      "[CV 1/5; 72/120] END criterion=entropy, max_depth=5, min_samples_leaf=4, n_estimators=125;, score=0.792 total time=   0.6s\n",
      "[CV 4/5; 73/120] START criterion=entropy, max_depth=5, min_samples_leaf=4, n_estimators=150\n",
      "[CV 2/5; 72/120] END criterion=entropy, max_depth=5, min_samples_leaf=4, n_estimators=125;, score=0.757 total time=   0.6s\n",
      "[CV 5/5; 73/120] START criterion=entropy, max_depth=5, min_samples_leaf=4, n_estimators=150\n",
      "[CV 3/5; 72/120] END criterion=entropy, max_depth=5, min_samples_leaf=4, n_estimators=125;, score=0.730 total time=   0.6s\n",
      "[CV 1/5; 74/120] START criterion=entropy, max_depth=5, min_samples_leaf=4, n_estimators=175\n",
      "[CV 5/5; 72/120] END criterion=entropy, max_depth=5, min_samples_leaf=4, n_estimators=125;, score=0.728 total time=   0.7s\n",
      "[CV 2/5; 74/120] START criterion=entropy, max_depth=5, min_samples_leaf=4, n_estimators=175\n",
      "[CV 4/5; 72/120] END criterion=entropy, max_depth=5, min_samples_leaf=4, n_estimators=125;, score=0.723 total time=   0.7s\n",
      "[CV 3/5; 74/120] START criterion=entropy, max_depth=5, min_samples_leaf=4, n_estimators=175\n",
      "[CV 1/5; 73/120] END criterion=entropy, max_depth=5, min_samples_leaf=4, n_estimators=150;, score=0.798 total time=   0.8s\n",
      "[CV 4/5; 74/120] START criterion=entropy, max_depth=5, min_samples_leaf=4, n_estimators=175\n",
      "[CV 2/5; 73/120] END criterion=entropy, max_depth=5, min_samples_leaf=4, n_estimators=150;, score=0.758 total time=   0.8s\n",
      "[CV 5/5; 74/120] START criterion=entropy, max_depth=5, min_samples_leaf=4, n_estimators=175\n",
      "[CV 3/5; 73/120] END criterion=entropy, max_depth=5, min_samples_leaf=4, n_estimators=150;, score=0.730 total time=   0.8s\n",
      "[CV 1/5; 75/120] START criterion=entropy, max_depth=5, min_samples_leaf=4, n_estimators=200\n",
      "[CV 4/5; 73/120] END criterion=entropy, max_depth=5, min_samples_leaf=4, n_estimators=150;, score=0.720 total time=   0.8s\n",
      "[CV 2/5; 75/120] START criterion=entropy, max_depth=5, min_samples_leaf=4, n_estimators=200\n",
      "[CV 5/5; 73/120] END criterion=entropy, max_depth=5, min_samples_leaf=4, n_estimators=150;, score=0.725 total time=   0.8s\n",
      "[CV 3/5; 75/120] START criterion=entropy, max_depth=5, min_samples_leaf=4, n_estimators=200\n",
      "[CV 3/5; 74/120] END criterion=entropy, max_depth=5, min_samples_leaf=4, n_estimators=175;, score=0.730 total time=   0.8s\n",
      "[CV 4/5; 75/120] START criterion=entropy, max_depth=5, min_samples_leaf=4, n_estimators=200\n",
      "[CV 2/5; 74/120] END criterion=entropy, max_depth=5, min_samples_leaf=4, n_estimators=175;, score=0.755 total time=   0.9s\n",
      "[CV 5/5; 75/120] START criterion=entropy, max_depth=5, min_samples_leaf=4, n_estimators=200\n",
      "[CV 1/5; 74/120] END criterion=entropy, max_depth=5, min_samples_leaf=4, n_estimators=175;, score=0.792 total time=   1.0s\n",
      "[CV 1/5; 76/120] START criterion=entropy, max_depth=10, min_samples_leaf=2, n_estimators=100\n",
      "[CV 4/5; 74/120] END criterion=entropy, max_depth=5, min_samples_leaf=4, n_estimators=175;, score=0.720 total time=   0.9s\n",
      "[CV 2/5; 76/120] START criterion=entropy, max_depth=10, min_samples_leaf=2, n_estimators=100\n",
      "[CV 5/5; 74/120] END criterion=entropy, max_depth=5, min_samples_leaf=4, n_estimators=175;, score=0.725 total time=   0.9s\n",
      "[CV 3/5; 76/120] START criterion=entropy, max_depth=10, min_samples_leaf=2, n_estimators=100\n",
      "[CV 1/5; 75/120] END criterion=entropy, max_depth=5, min_samples_leaf=4, n_estimators=200;, score=0.793 total time=   1.1s\n",
      "[CV 4/5; 76/120] START criterion=entropy, max_depth=10, min_samples_leaf=2, n_estimators=100\n",
      "[CV 2/5; 75/120] END criterion=entropy, max_depth=5, min_samples_leaf=4, n_estimators=200;, score=0.757 total time=   1.0s\n",
      "[CV 5/5; 76/120] START criterion=entropy, max_depth=10, min_samples_leaf=2, n_estimators=100\n",
      "[CV 3/5; 75/120] END criterion=entropy, max_depth=5, min_samples_leaf=4, n_estimators=200;, score=0.733 total time=   1.0s\n",
      "[CV 1/5; 77/120] START criterion=entropy, max_depth=10, min_samples_leaf=2, n_estimators=125\n",
      "[CV 4/5; 75/120] END criterion=entropy, max_depth=5, min_samples_leaf=4, n_estimators=200;, score=0.732 total time=   1.0s\n",
      "[CV 2/5; 77/120] START criterion=entropy, max_depth=10, min_samples_leaf=2, n_estimators=125\n",
      "[CV 1/5; 76/120] END criterion=entropy, max_depth=10, min_samples_leaf=2, n_estimators=100;, score=0.832 total time=   1.0s\n",
      "[CV 3/5; 77/120] START criterion=entropy, max_depth=10, min_samples_leaf=2, n_estimators=125\n",
      "[CV 5/5; 75/120] END criterion=entropy, max_depth=5, min_samples_leaf=4, n_estimators=200;, score=0.728 total time=   1.0s\n",
      "[CV 4/5; 77/120] START criterion=entropy, max_depth=10, min_samples_leaf=2, n_estimators=125\n",
      "[CV 2/5; 76/120] END criterion=entropy, max_depth=10, min_samples_leaf=2, n_estimators=100;, score=0.792 total time=   1.0s\n",
      "[CV 5/5; 77/120] START criterion=entropy, max_depth=10, min_samples_leaf=2, n_estimators=125\n",
      "[CV 3/5; 76/120] END criterion=entropy, max_depth=10, min_samples_leaf=2, n_estimators=100;, score=0.758 total time=   1.0s\n",
      "[CV 1/5; 78/120] START criterion=entropy, max_depth=10, min_samples_leaf=2, n_estimators=150\n",
      "[CV 4/5; 76/120] END criterion=entropy, max_depth=10, min_samples_leaf=2, n_estimators=100;, score=0.778 total time=   0.9s\n",
      "[CV 2/5; 78/120] START criterion=entropy, max_depth=10, min_samples_leaf=2, n_estimators=150\n",
      "[CV 5/5; 76/120] END criterion=entropy, max_depth=10, min_samples_leaf=2, n_estimators=100;, score=0.757 total time=   1.0s\n",
      "[CV 3/5; 78/120] START criterion=entropy, max_depth=10, min_samples_leaf=2, n_estimators=150\n",
      "[CV 1/5; 77/120] END criterion=entropy, max_depth=10, min_samples_leaf=2, n_estimators=125;, score=0.828 total time=   1.1s\n",
      "[CV 4/5; 78/120] START criterion=entropy, max_depth=10, min_samples_leaf=2, n_estimators=150\n",
      "[CV 4/5; 77/120] END criterion=entropy, max_depth=10, min_samples_leaf=2, n_estimators=125;, score=0.783 total time=   1.1s\n",
      "[CV 5/5; 78/120] START criterion=entropy, max_depth=10, min_samples_leaf=2, n_estimators=150\n",
      "[CV 3/5; 77/120] END criterion=entropy, max_depth=10, min_samples_leaf=2, n_estimators=125;, score=0.758 total time=   1.2s\n",
      "[CV 1/5; 79/120] START criterion=entropy, max_depth=10, min_samples_leaf=2, n_estimators=175\n",
      "[CV 2/5; 77/120] END criterion=entropy, max_depth=10, min_samples_leaf=2, n_estimators=125;, score=0.790 total time=   1.2s\n",
      "[CV 2/5; 79/120] START criterion=entropy, max_depth=10, min_samples_leaf=2, n_estimators=175\n",
      "[CV 5/5; 77/120] END criterion=entropy, max_depth=10, min_samples_leaf=2, n_estimators=125;, score=0.755 total time=   1.2s\n",
      "[CV 3/5; 79/120] START criterion=entropy, max_depth=10, min_samples_leaf=2, n_estimators=175\n",
      "[CV 1/5; 78/120] END criterion=entropy, max_depth=10, min_samples_leaf=2, n_estimators=150;, score=0.835 total time=   1.5s\n",
      "[CV 4/5; 79/120] START criterion=entropy, max_depth=10, min_samples_leaf=2, n_estimators=175\n",
      "[CV 2/5; 78/120] END criterion=entropy, max_depth=10, min_samples_leaf=2, n_estimators=150;, score=0.790 total time=   1.4s\n",
      "[CV 5/5; 79/120] START criterion=entropy, max_depth=10, min_samples_leaf=2, n_estimators=175\n",
      "[CV 3/5; 78/120] END criterion=entropy, max_depth=10, min_samples_leaf=2, n_estimators=150;, score=0.768 total time=   1.4s\n",
      "[CV 1/5; 80/120] START criterion=entropy, max_depth=10, min_samples_leaf=2, n_estimators=200\n",
      "[CV 4/5; 78/120] END criterion=entropy, max_depth=10, min_samples_leaf=2, n_estimators=150;, score=0.785 total time=   1.4s\n",
      "[CV 2/5; 80/120] START criterion=entropy, max_depth=10, min_samples_leaf=2, n_estimators=200\n",
      "[CV 5/5; 78/120] END criterion=entropy, max_depth=10, min_samples_leaf=2, n_estimators=150;, score=0.770 total time=   1.4s\n",
      "[CV 3/5; 80/120] START criterion=entropy, max_depth=10, min_samples_leaf=2, n_estimators=200\n",
      "[CV 2/5; 79/120] END criterion=entropy, max_depth=10, min_samples_leaf=2, n_estimators=175;, score=0.798 total time=   1.6s\n",
      "[CV 4/5; 80/120] START criterion=entropy, max_depth=10, min_samples_leaf=2, n_estimators=200\n",
      "[CV 1/5; 79/120] END criterion=entropy, max_depth=10, min_samples_leaf=2, n_estimators=175;, score=0.832 total time=   1.6s\n",
      "[CV 5/5; 80/120] START criterion=entropy, max_depth=10, min_samples_leaf=2, n_estimators=200\n",
      "[CV 3/5; 79/120] END criterion=entropy, max_depth=10, min_samples_leaf=2, n_estimators=175;, score=0.770 total time=   1.6s\n",
      "[CV 1/5; 81/120] START criterion=entropy, max_depth=10, min_samples_leaf=3, n_estimators=100\n",
      "[CV 4/5; 79/120] END criterion=entropy, max_depth=10, min_samples_leaf=2, n_estimators=175;, score=0.787 total time=   1.7s\n",
      "[CV 2/5; 81/120] START criterion=entropy, max_depth=10, min_samples_leaf=3, n_estimators=100\n",
      "[CV 5/5; 79/120] END criterion=entropy, max_depth=10, min_samples_leaf=2, n_estimators=175;, score=0.772 total time=   1.6s\n",
      "[CV 3/5; 81/120] START criterion=entropy, max_depth=10, min_samples_leaf=3, n_estimators=100\n",
      "[CV 1/5; 81/120] END criterion=entropy, max_depth=10, min_samples_leaf=3, n_estimators=100;, score=0.827 total time=   0.9s\n",
      "[CV 4/5; 81/120] START criterion=entropy, max_depth=10, min_samples_leaf=3, n_estimators=100\n",
      "[CV 1/5; 80/120] END criterion=entropy, max_depth=10, min_samples_leaf=2, n_estimators=200;, score=0.838 total time=   1.9s\n",
      "[CV 5/5; 81/120] START criterion=entropy, max_depth=10, min_samples_leaf=3, n_estimators=100\n",
      "[CV 2/5; 80/120] END criterion=entropy, max_depth=10, min_samples_leaf=2, n_estimators=200;, score=0.795 total time=   1.8s\n",
      "[CV 1/5; 82/120] START criterion=entropy, max_depth=10, min_samples_leaf=3, n_estimators=125\n",
      "[CV 2/5; 81/120] END criterion=entropy, max_depth=10, min_samples_leaf=3, n_estimators=100;, score=0.787 total time=   0.9s\n",
      "[CV 2/5; 82/120] START criterion=entropy, max_depth=10, min_samples_leaf=3, n_estimators=125\n",
      "[CV 3/5; 80/120] END criterion=entropy, max_depth=10, min_samples_leaf=2, n_estimators=200;, score=0.777 total time=   1.8s\n",
      "[CV 3/5; 82/120] START criterion=entropy, max_depth=10, min_samples_leaf=3, n_estimators=125\n",
      "[CV 3/5; 81/120] END criterion=entropy, max_depth=10, min_samples_leaf=3, n_estimators=100;, score=0.765 total time=   1.0s\n",
      "[CV 4/5; 82/120] START criterion=entropy, max_depth=10, min_samples_leaf=3, n_estimators=125\n",
      "[CV 5/5; 80/120] END criterion=entropy, max_depth=10, min_samples_leaf=2, n_estimators=200;, score=0.772 total time=   1.8s\n",
      "[CV 5/5; 82/120] START criterion=entropy, max_depth=10, min_samples_leaf=3, n_estimators=125\n",
      "[CV 4/5; 80/120] END criterion=entropy, max_depth=10, min_samples_leaf=2, n_estimators=200;, score=0.783 total time=   1.9s\n",
      "[CV 1/5; 83/120] START criterion=entropy, max_depth=10, min_samples_leaf=3, n_estimators=150\n",
      "[CV 4/5; 81/120] END criterion=entropy, max_depth=10, min_samples_leaf=3, n_estimators=100;, score=0.777 total time=   0.9s\n",
      "[CV 2/5; 83/120] START criterion=entropy, max_depth=10, min_samples_leaf=3, n_estimators=150\n",
      "[CV 5/5; 81/120] END criterion=entropy, max_depth=10, min_samples_leaf=3, n_estimators=100;, score=0.763 total time=   0.9s\n",
      "[CV 3/5; 83/120] START criterion=entropy, max_depth=10, min_samples_leaf=3, n_estimators=150\n",
      "[CV 1/5; 82/120] END criterion=entropy, max_depth=10, min_samples_leaf=3, n_estimators=125;, score=0.828 total time=   1.1s\n",
      "[CV 4/5; 83/120] START criterion=entropy, max_depth=10, min_samples_leaf=3, n_estimators=150\n",
      "[CV 2/5; 82/120] END criterion=entropy, max_depth=10, min_samples_leaf=3, n_estimators=125;, score=0.795 total time=   1.1s\n",
      "[CV 5/5; 83/120] START criterion=entropy, max_depth=10, min_samples_leaf=3, n_estimators=150\n",
      "[CV 3/5; 82/120] END criterion=entropy, max_depth=10, min_samples_leaf=3, n_estimators=125;, score=0.767 total time=   1.1s\n",
      "[CV 1/5; 84/120] START criterion=entropy, max_depth=10, min_samples_leaf=3, n_estimators=175\n",
      "[CV 4/5; 82/120] END criterion=entropy, max_depth=10, min_samples_leaf=3, n_estimators=125;, score=0.773 total time=   1.1s\n",
      "[CV 2/5; 84/120] START criterion=entropy, max_depth=10, min_samples_leaf=3, n_estimators=175\n",
      "[CV 5/5; 82/120] END criterion=entropy, max_depth=10, min_samples_leaf=3, n_estimators=125;, score=0.755 total time=   1.1s\n",
      "[CV 3/5; 84/120] START criterion=entropy, max_depth=10, min_samples_leaf=3, n_estimators=175\n",
      "[CV 1/5; 83/120] END criterion=entropy, max_depth=10, min_samples_leaf=3, n_estimators=150;, score=0.833 total time=   1.3s\n",
      "[CV 4/5; 84/120] START criterion=entropy, max_depth=10, min_samples_leaf=3, n_estimators=175\n",
      "[CV 2/5; 83/120] END criterion=entropy, max_depth=10, min_samples_leaf=3, n_estimators=150;, score=0.793 total time=   1.4s\n",
      "[CV 5/5; 84/120] START criterion=entropy, max_depth=10, min_samples_leaf=3, n_estimators=175\n",
      "[CV 3/5; 83/120] END criterion=entropy, max_depth=10, min_samples_leaf=3, n_estimators=150;, score=0.767 total time=   1.4s\n",
      "[CV 1/5; 85/120] START criterion=entropy, max_depth=10, min_samples_leaf=3, n_estimators=200\n",
      "[CV 4/5; 83/120] END criterion=entropy, max_depth=10, min_samples_leaf=3, n_estimators=150;, score=0.783 total time=   1.3s\n",
      "[CV 2/5; 85/120] START criterion=entropy, max_depth=10, min_samples_leaf=3, n_estimators=200\n",
      "[CV 5/5; 83/120] END criterion=entropy, max_depth=10, min_samples_leaf=3, n_estimators=150;, score=0.758 total time=   1.4s\n",
      "[CV 3/5; 85/120] START criterion=entropy, max_depth=10, min_samples_leaf=3, n_estimators=200\n",
      "[CV 1/5; 84/120] END criterion=entropy, max_depth=10, min_samples_leaf=3, n_estimators=175;, score=0.830 total time=   1.6s\n",
      "[CV 4/5; 85/120] START criterion=entropy, max_depth=10, min_samples_leaf=3, n_estimators=200\n",
      "[CV 2/5; 84/120] END criterion=entropy, max_depth=10, min_samples_leaf=3, n_estimators=175;, score=0.797 total time=   1.6s\n",
      "[CV 5/5; 85/120] START criterion=entropy, max_depth=10, min_samples_leaf=3, n_estimators=200\n",
      "[CV 3/5; 84/120] END criterion=entropy, max_depth=10, min_samples_leaf=3, n_estimators=175;, score=0.767 total time=   1.5s\n",
      "[CV 1/5; 86/120] START criterion=entropy, max_depth=10, min_samples_leaf=4, n_estimators=100\n",
      "[CV 4/5; 84/120] END criterion=entropy, max_depth=10, min_samples_leaf=3, n_estimators=175;, score=0.787 total time=   1.6s\n",
      "[CV 2/5; 86/120] START criterion=entropy, max_depth=10, min_samples_leaf=4, n_estimators=100\n",
      "[CV 5/5; 84/120] END criterion=entropy, max_depth=10, min_samples_leaf=3, n_estimators=175;, score=0.755 total time=   1.6s\n",
      "[CV 3/5; 86/120] START criterion=entropy, max_depth=10, min_samples_leaf=4, n_estimators=100\n",
      "[CV 1/5; 85/120] END criterion=entropy, max_depth=10, min_samples_leaf=3, n_estimators=200;, score=0.827 total time=   1.8s\n",
      "[CV 4/5; 86/120] START criterion=entropy, max_depth=10, min_samples_leaf=4, n_estimators=100\n",
      "[CV 1/5; 86/120] END criterion=entropy, max_depth=10, min_samples_leaf=4, n_estimators=100;, score=0.830 total time=   0.9s\n",
      "[CV 5/5; 86/120] START criterion=entropy, max_depth=10, min_samples_leaf=4, n_estimators=100\n",
      "[CV 2/5; 85/120] END criterion=entropy, max_depth=10, min_samples_leaf=3, n_estimators=200;, score=0.798 total time=   1.8s\n",
      "[CV 1/5; 87/120] START criterion=entropy, max_depth=10, min_samples_leaf=4, n_estimators=125\n",
      "[CV 2/5; 86/120] END criterion=entropy, max_depth=10, min_samples_leaf=4, n_estimators=100;, score=0.790 total time=   0.9s\n",
      "[CV 2/5; 87/120] START criterion=entropy, max_depth=10, min_samples_leaf=4, n_estimators=125\n",
      "[CV 3/5; 85/120] END criterion=entropy, max_depth=10, min_samples_leaf=3, n_estimators=200;, score=0.762 total time=   1.8s\n",
      "[CV 3/5; 87/120] START criterion=entropy, max_depth=10, min_samples_leaf=4, n_estimators=125\n",
      "[CV 3/5; 86/120] END criterion=entropy, max_depth=10, min_samples_leaf=4, n_estimators=100;, score=0.757 total time=   0.9s\n",
      "[CV 4/5; 87/120] START criterion=entropy, max_depth=10, min_samples_leaf=4, n_estimators=125\n",
      "[CV 4/5; 85/120] END criterion=entropy, max_depth=10, min_samples_leaf=3, n_estimators=200;, score=0.792 total time=   1.8s\n",
      "[CV 4/5; 86/120] END criterion=entropy, max_depth=10, min_samples_leaf=4, n_estimators=100;, score=0.783 total time=   0.9s\n",
      "[CV 5/5; 87/120] START criterion=entropy, max_depth=10, min_samples_leaf=4, n_estimators=125\n",
      "[CV 1/5; 88/120] START criterion=entropy, max_depth=10, min_samples_leaf=4, n_estimators=150\n",
      "[CV 5/5; 85/120] END criterion=entropy, max_depth=10, min_samples_leaf=3, n_estimators=200;, score=0.755 total time=   1.8s\n",
      "[CV 2/5; 88/120] START criterion=entropy, max_depth=10, min_samples_leaf=4, n_estimators=150\n",
      "[CV 5/5; 86/120] END criterion=entropy, max_depth=10, min_samples_leaf=4, n_estimators=100;, score=0.765 total time=   0.9s\n",
      "[CV 3/5; 88/120] START criterion=entropy, max_depth=10, min_samples_leaf=4, n_estimators=150\n",
      "[CV 1/5; 87/120] END criterion=entropy, max_depth=10, min_samples_leaf=4, n_estimators=125;, score=0.827 total time=   1.1s\n",
      "[CV 4/5; 88/120] START criterion=entropy, max_depth=10, min_samples_leaf=4, n_estimators=150\n",
      "[CV 2/5; 87/120] END criterion=entropy, max_depth=10, min_samples_leaf=4, n_estimators=125;, score=0.793 total time=   1.1s\n",
      "[CV 5/5; 88/120] START criterion=entropy, max_depth=10, min_samples_leaf=4, n_estimators=150\n",
      "[CV 3/5; 87/120] END criterion=entropy, max_depth=10, min_samples_leaf=4, n_estimators=125;, score=0.762 total time=   1.1s\n",
      "[CV 1/5; 89/120] START criterion=entropy, max_depth=10, min_samples_leaf=4, n_estimators=175\n",
      "[CV 4/5; 87/120] END criterion=entropy, max_depth=10, min_samples_leaf=4, n_estimators=125;, score=0.783 total time=   1.1s\n",
      "[CV 2/5; 89/120] START criterion=entropy, max_depth=10, min_samples_leaf=4, n_estimators=175\n",
      "[CV 5/5; 87/120] END criterion=entropy, max_depth=10, min_samples_leaf=4, n_estimators=125;, score=0.758 total time=   1.1s\n",
      "[CV 3/5; 89/120] START criterion=entropy, max_depth=10, min_samples_leaf=4, n_estimators=175\n",
      "[CV 1/5; 88/120] END criterion=entropy, max_depth=10, min_samples_leaf=4, n_estimators=150;, score=0.832 total time=   1.4s\n",
      "[CV 4/5; 89/120] START criterion=entropy, max_depth=10, min_samples_leaf=4, n_estimators=175\n",
      "[CV 2/5; 88/120] END criterion=entropy, max_depth=10, min_samples_leaf=4, n_estimators=150;, score=0.795 total time=   1.3s\n",
      "[CV 5/5; 89/120] START criterion=entropy, max_depth=10, min_samples_leaf=4, n_estimators=175\n",
      "[CV 3/5; 88/120] END criterion=entropy, max_depth=10, min_samples_leaf=4, n_estimators=150;, score=0.762 total time=   1.3s\n",
      "[CV 1/5; 90/120] START criterion=entropy, max_depth=10, min_samples_leaf=4, n_estimators=200\n",
      "[CV 4/5; 88/120] END criterion=entropy, max_depth=10, min_samples_leaf=4, n_estimators=150;, score=0.783 total time=   1.3s\n",
      "[CV 2/5; 90/120] START criterion=entropy, max_depth=10, min_samples_leaf=4, n_estimators=200\n",
      "[CV 5/5; 88/120] END criterion=entropy, max_depth=10, min_samples_leaf=4, n_estimators=150;, score=0.760 total time=   1.4s\n",
      "[CV 3/5; 90/120] START criterion=entropy, max_depth=10, min_samples_leaf=4, n_estimators=200\n",
      "[CV 1/5; 89/120] END criterion=entropy, max_depth=10, min_samples_leaf=4, n_estimators=175;, score=0.833 total time=   1.5s\n",
      "[CV 4/5; 90/120] START criterion=entropy, max_depth=10, min_samples_leaf=4, n_estimators=200\n",
      "[CV 2/5; 89/120] END criterion=entropy, max_depth=10, min_samples_leaf=4, n_estimators=175;, score=0.792 total time=   1.6s\n",
      "[CV 5/5; 90/120] START criterion=entropy, max_depth=10, min_samples_leaf=4, n_estimators=200\n",
      "[CV 3/5; 89/120] END criterion=entropy, max_depth=10, min_samples_leaf=4, n_estimators=175;, score=0.763 total time=   1.6s\n",
      "[CV 1/5; 91/120] START criterion=entropy, max_depth=15, min_samples_leaf=2, n_estimators=100\n",
      "[CV 5/5; 89/120] END criterion=entropy, max_depth=10, min_samples_leaf=4, n_estimators=175;, score=0.762 total time=   1.5s\n",
      "[CV 2/5; 91/120] START criterion=entropy, max_depth=15, min_samples_leaf=2, n_estimators=100\n",
      "[CV 4/5; 89/120] END criterion=entropy, max_depth=10, min_samples_leaf=4, n_estimators=175;, score=0.787 total time=   1.6s\n",
      "[CV 3/5; 91/120] START criterion=entropy, max_depth=15, min_samples_leaf=2, n_estimators=100\n",
      "[CV 1/5; 90/120] END criterion=entropy, max_depth=10, min_samples_leaf=4, n_estimators=200;, score=0.835 total time=   1.8s\n",
      "[CV 4/5; 91/120] START criterion=entropy, max_depth=15, min_samples_leaf=2, n_estimators=100\n",
      "[CV 2/5; 90/120] END criterion=entropy, max_depth=10, min_samples_leaf=4, n_estimators=200;, score=0.787 total time=   1.8s\n",
      "[CV 5/5; 91/120] START criterion=entropy, max_depth=15, min_samples_leaf=2, n_estimators=100\n",
      "[CV 1/5; 91/120] END criterion=entropy, max_depth=15, min_samples_leaf=2, n_estimators=100;, score=0.843 total time=   1.1s\n",
      "[CV 1/5; 92/120] START criterion=entropy, max_depth=15, min_samples_leaf=2, n_estimators=125\n",
      "[CV 3/5; 90/120] END criterion=entropy, max_depth=10, min_samples_leaf=4, n_estimators=200;, score=0.768 total time=   1.8s\n",
      "[CV 2/5; 92/120] START criterion=entropy, max_depth=15, min_samples_leaf=2, n_estimators=125\n",
      "[CV 3/5; 91/120] END criterion=entropy, max_depth=15, min_samples_leaf=2, n_estimators=100;, score=0.773 total time=   1.1s\n",
      "[CV 3/5; 92/120] START criterion=entropy, max_depth=15, min_samples_leaf=2, n_estimators=125\n",
      "[CV 2/5; 91/120] END criterion=entropy, max_depth=15, min_samples_leaf=2, n_estimators=100;, score=0.810 total time=   1.1s\n",
      "[CV 4/5; 92/120] START criterion=entropy, max_depth=15, min_samples_leaf=2, n_estimators=125\n",
      "[CV 4/5; 90/120] END criterion=entropy, max_depth=10, min_samples_leaf=4, n_estimators=200;, score=0.783 total time=   1.8s\n",
      "[CV 5/5; 92/120] START criterion=entropy, max_depth=15, min_samples_leaf=2, n_estimators=125\n",
      "[CV 5/5; 90/120] END criterion=entropy, max_depth=10, min_samples_leaf=4, n_estimators=200;, score=0.757 total time=   1.8s\n",
      "[CV 1/5; 93/120] START criterion=entropy, max_depth=15, min_samples_leaf=2, n_estimators=150\n",
      "[CV 4/5; 91/120] END criterion=entropy, max_depth=15, min_samples_leaf=2, n_estimators=100;, score=0.778 total time=   1.1s\n",
      "[CV 2/5; 93/120] START criterion=entropy, max_depth=15, min_samples_leaf=2, n_estimators=150\n",
      "[CV 5/5; 91/120] END criterion=entropy, max_depth=15, min_samples_leaf=2, n_estimators=100;, score=0.780 total time=   1.2s\n",
      "[CV 3/5; 93/120] START criterion=entropy, max_depth=15, min_samples_leaf=2, n_estimators=150\n",
      "[CV 1/5; 92/120] END criterion=entropy, max_depth=15, min_samples_leaf=2, n_estimators=125;, score=0.842 total time=   1.5s\n",
      "[CV 4/5; 93/120] START criterion=entropy, max_depth=15, min_samples_leaf=2, n_estimators=150\n",
      "[CV 2/5; 92/120] END criterion=entropy, max_depth=15, min_samples_leaf=2, n_estimators=125;, score=0.807 total time=   1.4s\n",
      "[CV 5/5; 93/120] START criterion=entropy, max_depth=15, min_samples_leaf=2, n_estimators=150\n",
      "[CV 4/5; 92/120] END criterion=entropy, max_depth=15, min_samples_leaf=2, n_estimators=125;, score=0.782 total time=   1.5s\n",
      "[CV 3/5; 92/120] END criterion=entropy, max_depth=15, min_samples_leaf=2, n_estimators=125;, score=0.772 total time=   1.5s\n",
      "[CV 1/5; 94/120] START criterion=entropy, max_depth=15, min_samples_leaf=2, n_estimators=175\n",
      "[CV 2/5; 94/120] START criterion=entropy, max_depth=15, min_samples_leaf=2, n_estimators=175\n",
      "[CV 5/5; 92/120] END criterion=entropy, max_depth=15, min_samples_leaf=2, n_estimators=125;, score=0.773 total time=   1.4s\n",
      "[CV 3/5; 94/120] START criterion=entropy, max_depth=15, min_samples_leaf=2, n_estimators=175\n",
      "[CV 2/5; 93/120] END criterion=entropy, max_depth=15, min_samples_leaf=2, n_estimators=150;, score=0.808 total time=   1.7s\n",
      "[CV 1/5; 93/120] END criterion=entropy, max_depth=15, min_samples_leaf=2, n_estimators=150;, score=0.842 total time=   1.8s\n",
      "[CV 4/5; 94/120] START criterion=entropy, max_depth=15, min_samples_leaf=2, n_estimators=175\n",
      "[CV 5/5; 94/120] START criterion=entropy, max_depth=15, min_samples_leaf=2, n_estimators=175\n",
      "[CV 3/5; 93/120] END criterion=entropy, max_depth=15, min_samples_leaf=2, n_estimators=150;, score=0.770 total time=   1.7s\n",
      "[CV 1/5; 95/120] START criterion=entropy, max_depth=15, min_samples_leaf=2, n_estimators=200\n",
      "[CV 5/5; 93/120] END criterion=entropy, max_depth=15, min_samples_leaf=2, n_estimators=150;, score=0.782 total time=   1.7s\n",
      "[CV 2/5; 95/120] START criterion=entropy, max_depth=15, min_samples_leaf=2, n_estimators=200\n",
      "[CV 4/5; 93/120] END criterion=entropy, max_depth=15, min_samples_leaf=2, n_estimators=150;, score=0.785 total time=   1.8s\n",
      "[CV 3/5; 95/120] START criterion=entropy, max_depth=15, min_samples_leaf=2, n_estimators=200\n",
      "[CV 1/5; 94/120] END criterion=entropy, max_depth=15, min_samples_leaf=2, n_estimators=175;, score=0.845 total time=   2.0s\n",
      "[CV 4/5; 95/120] START criterion=entropy, max_depth=15, min_samples_leaf=2, n_estimators=200\n",
      "[CV 2/5; 94/120] END criterion=entropy, max_depth=15, min_samples_leaf=2, n_estimators=175;, score=0.810 total time=   2.0s\n",
      "[CV 5/5; 95/120] START criterion=entropy, max_depth=15, min_samples_leaf=2, n_estimators=200\n",
      "[CV 3/5; 94/120] END criterion=entropy, max_depth=15, min_samples_leaf=2, n_estimators=175;, score=0.773 total time=   2.0s\n",
      "[CV 1/5; 96/120] START criterion=entropy, max_depth=15, min_samples_leaf=3, n_estimators=100\n",
      "[CV 4/5; 94/120] END criterion=entropy, max_depth=15, min_samples_leaf=2, n_estimators=175;, score=0.787 total time=   2.0s\n",
      "[CV 2/5; 96/120] START criterion=entropy, max_depth=15, min_samples_leaf=3, n_estimators=100\n",
      "[CV 5/5; 94/120] END criterion=entropy, max_depth=15, min_samples_leaf=2, n_estimators=175;, score=0.782 total time=   2.0s\n",
      "[CV 3/5; 96/120] START criterion=entropy, max_depth=15, min_samples_leaf=3, n_estimators=100\n",
      "[CV 1/5; 96/120] END criterion=entropy, max_depth=15, min_samples_leaf=3, n_estimators=100;, score=0.835 total time=   1.2s\n",
      "[CV 4/5; 96/120] START criterion=entropy, max_depth=15, min_samples_leaf=3, n_estimators=100\n",
      "[CV 1/5; 95/120] END criterion=entropy, max_depth=15, min_samples_leaf=2, n_estimators=200;, score=0.847 total time=   2.4s\n",
      "[CV 5/5; 96/120] START criterion=entropy, max_depth=15, min_samples_leaf=3, n_estimators=100\n",
      "[CV 2/5; 96/120] END criterion=entropy, max_depth=15, min_samples_leaf=3, n_estimators=100;, score=0.815 total time=   1.1s\n",
      "[CV 1/5; 97/120] START criterion=entropy, max_depth=15, min_samples_leaf=3, n_estimators=125\n",
      "[CV 2/5; 95/120] END criterion=entropy, max_depth=15, min_samples_leaf=2, n_estimators=200;, score=0.807 total time=   2.2s\n",
      "[CV 2/5; 97/120] START criterion=entropy, max_depth=15, min_samples_leaf=3, n_estimators=125\n",
      "[CV 3/5; 96/120] END criterion=entropy, max_depth=15, min_samples_leaf=3, n_estimators=100;, score=0.765 total time=   1.2s\n",
      "[CV 3/5; 97/120] START criterion=entropy, max_depth=15, min_samples_leaf=3, n_estimators=125\n",
      "[CV 3/5; 95/120] END criterion=entropy, max_depth=15, min_samples_leaf=2, n_estimators=200;, score=0.773 total time=   2.3s\n",
      "[CV 4/5; 97/120] START criterion=entropy, max_depth=15, min_samples_leaf=3, n_estimators=125\n",
      "[CV 4/5; 95/120] END criterion=entropy, max_depth=15, min_samples_leaf=2, n_estimators=200;, score=0.790 total time=   2.2s\n",
      "[CV 5/5; 97/120] START criterion=entropy, max_depth=15, min_samples_leaf=3, n_estimators=125\n",
      "[CV 5/5; 95/120] END criterion=entropy, max_depth=15, min_samples_leaf=2, n_estimators=200;, score=0.782 total time=   2.3s\n",
      "[CV 1/5; 98/120] START criterion=entropy, max_depth=15, min_samples_leaf=3, n_estimators=150\n",
      "[CV 4/5; 96/120] END criterion=entropy, max_depth=15, min_samples_leaf=3, n_estimators=100;, score=0.783 total time=   1.2s\n",
      "[CV 2/5; 98/120] START criterion=entropy, max_depth=15, min_samples_leaf=3, n_estimators=150\n",
      "[CV 5/5; 96/120] END criterion=entropy, max_depth=15, min_samples_leaf=3, n_estimators=100;, score=0.777 total time=   1.2s\n",
      "[CV 3/5; 98/120] START criterion=entropy, max_depth=15, min_samples_leaf=3, n_estimators=150\n",
      "[CV 1/5; 97/120] END criterion=entropy, max_depth=15, min_samples_leaf=3, n_estimators=125;, score=0.830 total time=   1.3s\n",
      "[CV 4/5; 98/120] START criterion=entropy, max_depth=15, min_samples_leaf=3, n_estimators=150\n",
      "[CV 2/5; 97/120] END criterion=entropy, max_depth=15, min_samples_leaf=3, n_estimators=125;, score=0.817 total time=   1.4s\n",
      "[CV 5/5; 98/120] START criterion=entropy, max_depth=15, min_samples_leaf=3, n_estimators=150\n",
      "[CV 3/5; 97/120] END criterion=entropy, max_depth=15, min_samples_leaf=3, n_estimators=125;, score=0.768 total time=   1.3s\n",
      "[CV 1/5; 99/120] START criterion=entropy, max_depth=15, min_samples_leaf=3, n_estimators=175\n",
      "[CV 4/5; 97/120] END criterion=entropy, max_depth=15, min_samples_leaf=3, n_estimators=125;, score=0.785 total time=   1.4s\n",
      "[CV 2/5; 99/120] START criterion=entropy, max_depth=15, min_samples_leaf=3, n_estimators=175\n",
      "[CV 5/5; 97/120] END criterion=entropy, max_depth=15, min_samples_leaf=3, n_estimators=125;, score=0.773 total time=   1.3s\n",
      "[CV 3/5; 99/120] START criterion=entropy, max_depth=15, min_samples_leaf=3, n_estimators=175\n",
      "[CV 1/5; 98/120] END criterion=entropy, max_depth=15, min_samples_leaf=3, n_estimators=150;, score=0.837 total time=   1.6s\n",
      "[CV 4/5; 99/120] START criterion=entropy, max_depth=15, min_samples_leaf=3, n_estimators=175\n",
      "[CV 2/5; 98/120] END criterion=entropy, max_depth=15, min_samples_leaf=3, n_estimators=150;, score=0.813 total time=   1.6s\n",
      "[CV 5/5; 99/120] START criterion=entropy, max_depth=15, min_samples_leaf=3, n_estimators=175\n",
      "[CV 3/5; 98/120] END criterion=entropy, max_depth=15, min_samples_leaf=3, n_estimators=150;, score=0.765 total time=   1.7s\n",
      "[CV 1/5; 100/120] START criterion=entropy, max_depth=15, min_samples_leaf=3, n_estimators=200\n",
      "[CV 4/5; 98/120] END criterion=entropy, max_depth=15, min_samples_leaf=3, n_estimators=150;, score=0.788 total time=   1.7s\n",
      "[CV 2/5; 100/120] START criterion=entropy, max_depth=15, min_samples_leaf=3, n_estimators=200\n",
      "[CV 5/5; 98/120] END criterion=entropy, max_depth=15, min_samples_leaf=3, n_estimators=150;, score=0.780 total time=   1.7s\n",
      "[CV 3/5; 100/120] START criterion=entropy, max_depth=15, min_samples_leaf=3, n_estimators=200\n",
      "[CV 1/5; 99/120] END criterion=entropy, max_depth=15, min_samples_leaf=3, n_estimators=175;, score=0.833 total time=   2.0s\n",
      "[CV 4/5; 100/120] START criterion=entropy, max_depth=15, min_samples_leaf=3, n_estimators=200\n",
      "[CV 2/5; 99/120] END criterion=entropy, max_depth=15, min_samples_leaf=3, n_estimators=175;, score=0.812 total time=   2.0s\n",
      "[CV 5/5; 100/120] START criterion=entropy, max_depth=15, min_samples_leaf=3, n_estimators=200\n",
      "[CV 3/5; 99/120] END criterion=entropy, max_depth=15, min_samples_leaf=3, n_estimators=175;, score=0.763 total time=   1.8s\n",
      "[CV 1/5; 101/120] START criterion=entropy, max_depth=15, min_samples_leaf=4, n_estimators=100\n",
      "[CV 4/5; 99/120] END criterion=entropy, max_depth=15, min_samples_leaf=3, n_estimators=175;, score=0.787 total time=   1.8s\n",
      "[CV 2/5; 101/120] START criterion=entropy, max_depth=15, min_samples_leaf=4, n_estimators=100\n",
      "[CV 5/5; 99/120] END criterion=entropy, max_depth=15, min_samples_leaf=3, n_estimators=175;, score=0.773 total time=   1.9s\n",
      "[CV 3/5; 101/120] START criterion=entropy, max_depth=15, min_samples_leaf=4, n_estimators=100\n",
      "[CV 1/5; 101/120] END criterion=entropy, max_depth=15, min_samples_leaf=4, n_estimators=100;, score=0.835 total time=   1.1s\n",
      "[CV 4/5; 101/120] START criterion=entropy, max_depth=15, min_samples_leaf=4, n_estimators=100\n",
      "[CV 1/5; 100/120] END criterion=entropy, max_depth=15, min_samples_leaf=3, n_estimators=200;, score=0.835 total time=   2.2s\n",
      "[CV 5/5; 101/120] START criterion=entropy, max_depth=15, min_samples_leaf=4, n_estimators=100\n",
      "[CV 2/5; 101/120] END criterion=entropy, max_depth=15, min_samples_leaf=4, n_estimators=100;, score=0.797 total time=   1.1s\n",
      "[CV 1/5; 102/120] START criterion=entropy, max_depth=15, min_samples_leaf=4, n_estimators=125\n",
      "[CV 3/5; 100/120] END criterion=entropy, max_depth=15, min_samples_leaf=3, n_estimators=200;, score=0.763 total time=   2.1s\n",
      "[CV 2/5; 102/120] START criterion=entropy, max_depth=15, min_samples_leaf=4, n_estimators=125\n",
      "[CV 2/5; 100/120] END criterion=entropy, max_depth=15, min_samples_leaf=3, n_estimators=200;, score=0.803 total time=   2.2s\n",
      "[CV 3/5; 102/120] START criterion=entropy, max_depth=15, min_samples_leaf=4, n_estimators=125\n",
      "[CV 3/5; 101/120] END criterion=entropy, max_depth=15, min_samples_leaf=4, n_estimators=100;, score=0.777 total time=   1.1s\n",
      "[CV 4/5; 102/120] START criterion=entropy, max_depth=15, min_samples_leaf=4, n_estimators=125\n",
      "[CV 5/5; 100/120] END criterion=entropy, max_depth=15, min_samples_leaf=3, n_estimators=200;, score=0.768 total time=   2.1s\n",
      "[CV 4/5; 100/120] END criterion=entropy, max_depth=15, min_samples_leaf=3, n_estimators=200;, score=0.792 total time=   2.2s\n",
      "[CV 5/5; 102/120] START criterion=entropy, max_depth=15, min_samples_leaf=4, n_estimators=125\n",
      "[CV 1/5; 103/120] START criterion=entropy, max_depth=15, min_samples_leaf=4, n_estimators=150\n",
      "[CV 4/5; 101/120] END criterion=entropy, max_depth=15, min_samples_leaf=4, n_estimators=100;, score=0.793 total time=   1.1s\n",
      "[CV 2/5; 103/120] START criterion=entropy, max_depth=15, min_samples_leaf=4, n_estimators=150\n",
      "[CV 5/5; 101/120] END criterion=entropy, max_depth=15, min_samples_leaf=4, n_estimators=100;, score=0.772 total time=   1.1s\n",
      "[CV 3/5; 103/120] START criterion=entropy, max_depth=15, min_samples_leaf=4, n_estimators=150\n",
      "[CV 1/5; 102/120] END criterion=entropy, max_depth=15, min_samples_leaf=4, n_estimators=125;, score=0.837 total time=   1.3s\n",
      "[CV 4/5; 103/120] START criterion=entropy, max_depth=15, min_samples_leaf=4, n_estimators=150\n",
      "[CV 2/5; 102/120] END criterion=entropy, max_depth=15, min_samples_leaf=4, n_estimators=125;, score=0.797 total time=   1.3s\n",
      "[CV 5/5; 103/120] START criterion=entropy, max_depth=15, min_samples_leaf=4, n_estimators=150\n",
      "[CV 3/5; 102/120] END criterion=entropy, max_depth=15, min_samples_leaf=4, n_estimators=125;, score=0.775 total time=   1.3s\n",
      "[CV 1/5; 104/120] START criterion=entropy, max_depth=15, min_samples_leaf=4, n_estimators=175\n",
      "[CV 4/5; 102/120] END criterion=entropy, max_depth=15, min_samples_leaf=4, n_estimators=125;, score=0.788 total time=   1.3s\n",
      "[CV 2/5; 104/120] START criterion=entropy, max_depth=15, min_samples_leaf=4, n_estimators=175\n",
      "[CV 5/5; 102/120] END criterion=entropy, max_depth=15, min_samples_leaf=4, n_estimators=125;, score=0.775 total time=   1.3s\n",
      "[CV 3/5; 104/120] START criterion=entropy, max_depth=15, min_samples_leaf=4, n_estimators=175\n",
      "[CV 1/5; 103/120] END criterion=entropy, max_depth=15, min_samples_leaf=4, n_estimators=150;, score=0.838 total time=   1.6s\n",
      "[CV 4/5; 104/120] START criterion=entropy, max_depth=15, min_samples_leaf=4, n_estimators=175\n",
      "[CV 2/5; 103/120] END criterion=entropy, max_depth=15, min_samples_leaf=4, n_estimators=150;, score=0.802 total time=   1.5s\n",
      "[CV 5/5; 104/120] START criterion=entropy, max_depth=15, min_samples_leaf=4, n_estimators=175\n",
      "[CV 3/5; 103/120] END criterion=entropy, max_depth=15, min_samples_leaf=4, n_estimators=150;, score=0.775 total time=   1.6s\n",
      "[CV 1/5; 105/120] START criterion=entropy, max_depth=15, min_samples_leaf=4, n_estimators=200\n",
      "[CV 4/5; 103/120] END criterion=entropy, max_depth=15, min_samples_leaf=4, n_estimators=150;, score=0.790 total time=   1.6s\n",
      "[CV 2/5; 105/120] START criterion=entropy, max_depth=15, min_samples_leaf=4, n_estimators=200\n",
      "[CV 5/5; 103/120] END criterion=entropy, max_depth=15, min_samples_leaf=4, n_estimators=150;, score=0.770 total time=   1.6s\n",
      "[CV 3/5; 105/120] START criterion=entropy, max_depth=15, min_samples_leaf=4, n_estimators=200\n",
      "[CV 1/5; 104/120] END criterion=entropy, max_depth=15, min_samples_leaf=4, n_estimators=175;, score=0.835 total time=   1.9s\n",
      "[CV 4/5; 105/120] START criterion=entropy, max_depth=15, min_samples_leaf=4, n_estimators=200\n",
      "[CV 2/5; 104/120] END criterion=entropy, max_depth=15, min_samples_leaf=4, n_estimators=175;, score=0.808 total time=   1.8s\n",
      "[CV 5/5; 105/120] START criterion=entropy, max_depth=15, min_samples_leaf=4, n_estimators=200\n",
      "[CV 3/5; 104/120] END criterion=entropy, max_depth=15, min_samples_leaf=4, n_estimators=175;, score=0.772 total time=   1.8s\n",
      "[CV 1/5; 106/120] START criterion=entropy, max_depth=20, min_samples_leaf=2, n_estimators=100\n",
      "[CV 4/5; 104/120] END criterion=entropy, max_depth=15, min_samples_leaf=4, n_estimators=175;, score=0.792 total time=   1.8s\n",
      "[CV 2/5; 106/120] START criterion=entropy, max_depth=20, min_samples_leaf=2, n_estimators=100\n",
      "[CV 5/5; 104/120] END criterion=entropy, max_depth=15, min_samples_leaf=4, n_estimators=175;, score=0.763 total time=   1.9s\n",
      "[CV 3/5; 106/120] START criterion=entropy, max_depth=20, min_samples_leaf=2, n_estimators=100\n",
      "[CV 1/5; 105/120] END criterion=entropy, max_depth=15, min_samples_leaf=4, n_estimators=200;, score=0.833 total time=   2.0s\n",
      "[CV 4/5; 106/120] START criterion=entropy, max_depth=20, min_samples_leaf=2, n_estimators=100\n",
      "[CV 1/5; 106/120] END criterion=entropy, max_depth=20, min_samples_leaf=2, n_estimators=100;, score=0.845 total time=   1.2s\n",
      "[CV 5/5; 106/120] START criterion=entropy, max_depth=20, min_samples_leaf=2, n_estimators=100\n",
      "[CV 2/5; 105/120] END criterion=entropy, max_depth=15, min_samples_leaf=4, n_estimators=200;, score=0.803 total time=   2.1s\n",
      "[CV 1/5; 107/120] START criterion=entropy, max_depth=20, min_samples_leaf=2, n_estimators=125\n",
      "[CV 3/5; 105/120] END criterion=entropy, max_depth=15, min_samples_leaf=4, n_estimators=200;, score=0.773 total time=   2.1s\n",
      "[CV 2/5; 107/120] START criterion=entropy, max_depth=20, min_samples_leaf=2, n_estimators=125\n",
      "[CV 2/5; 106/120] END criterion=entropy, max_depth=20, min_samples_leaf=2, n_estimators=100;, score=0.818 total time=   1.2s\n",
      "[CV 3/5; 107/120] START criterion=entropy, max_depth=20, min_samples_leaf=2, n_estimators=125\n",
      "[CV 3/5; 106/120] END criterion=entropy, max_depth=20, min_samples_leaf=2, n_estimators=100;, score=0.772 total time=   1.2s\n",
      "[CV 4/5; 107/120] START criterion=entropy, max_depth=20, min_samples_leaf=2, n_estimators=125\n",
      "[CV 4/5; 105/120] END criterion=entropy, max_depth=15, min_samples_leaf=4, n_estimators=200;, score=0.795 total time=   2.1s\n",
      "[CV 5/5; 107/120] START criterion=entropy, max_depth=20, min_samples_leaf=2, n_estimators=125\n",
      "[CV 5/5; 105/120] END criterion=entropy, max_depth=15, min_samples_leaf=4, n_estimators=200;, score=0.773 total time=   2.1s\n",
      "[CV 1/5; 108/120] START criterion=entropy, max_depth=20, min_samples_leaf=2, n_estimators=150\n",
      "[CV 4/5; 106/120] END criterion=entropy, max_depth=20, min_samples_leaf=2, n_estimators=100;, score=0.787 total time=   1.2s\n",
      "[CV 2/5; 108/120] START criterion=entropy, max_depth=20, min_samples_leaf=2, n_estimators=150\n",
      "[CV 5/5; 106/120] END criterion=entropy, max_depth=20, min_samples_leaf=2, n_estimators=100;, score=0.775 total time=   1.2s\n",
      "[CV 3/5; 108/120] START criterion=entropy, max_depth=20, min_samples_leaf=2, n_estimators=150\n",
      "[CV 1/5; 107/120] END criterion=entropy, max_depth=20, min_samples_leaf=2, n_estimators=125;, score=0.843 total time=   1.5s\n",
      "[CV 4/5; 108/120] START criterion=entropy, max_depth=20, min_samples_leaf=2, n_estimators=150\n",
      "[CV 2/5; 107/120] END criterion=entropy, max_depth=20, min_samples_leaf=2, n_estimators=125;, score=0.822 total time=   1.5s\n",
      "[CV 5/5; 108/120] START criterion=entropy, max_depth=20, min_samples_leaf=2, n_estimators=150\n",
      "[CV 3/5; 107/120] END criterion=entropy, max_depth=20, min_samples_leaf=2, n_estimators=125;, score=0.777 total time=   1.5s\n",
      "[CV 1/5; 109/120] START criterion=entropy, max_depth=20, min_samples_leaf=2, n_estimators=175\n",
      "[CV 4/5; 107/120] END criterion=entropy, max_depth=20, min_samples_leaf=2, n_estimators=125;, score=0.788 total time=   1.5s\n",
      "[CV 2/5; 109/120] START criterion=entropy, max_depth=20, min_samples_leaf=2, n_estimators=175\n",
      "[CV 5/5; 107/120] END criterion=entropy, max_depth=20, min_samples_leaf=2, n_estimators=125;, score=0.777 total time=   1.6s\n",
      "[CV 3/5; 109/120] START criterion=entropy, max_depth=20, min_samples_leaf=2, n_estimators=175\n",
      "[CV 1/5; 108/120] END criterion=entropy, max_depth=20, min_samples_leaf=2, n_estimators=150;, score=0.843 total time=   1.8s\n",
      "[CV 4/5; 109/120] START criterion=entropy, max_depth=20, min_samples_leaf=2, n_estimators=175\n",
      "[CV 2/5; 108/120] END criterion=entropy, max_depth=20, min_samples_leaf=2, n_estimators=150;, score=0.818 total time=   1.9s\n",
      "[CV 5/5; 109/120] START criterion=entropy, max_depth=20, min_samples_leaf=2, n_estimators=175\n",
      "[CV 3/5; 108/120] END criterion=entropy, max_depth=20, min_samples_leaf=2, n_estimators=150;, score=0.772 total time=   1.7s\n",
      "[CV 1/5; 110/120] START criterion=entropy, max_depth=20, min_samples_leaf=2, n_estimators=200\n",
      "[CV 4/5; 108/120] END criterion=entropy, max_depth=20, min_samples_leaf=2, n_estimators=150;, score=0.780 total time=   1.8s\n",
      "[CV 5/5; 108/120] END criterion=entropy, max_depth=20, min_samples_leaf=2, n_estimators=150;, score=0.783 total time=   1.7s\n",
      "[CV 2/5; 110/120] START criterion=entropy, max_depth=20, min_samples_leaf=2, n_estimators=200\n",
      "[CV 3/5; 110/120] START criterion=entropy, max_depth=20, min_samples_leaf=2, n_estimators=200\n",
      "[CV 1/5; 109/120] END criterion=entropy, max_depth=20, min_samples_leaf=2, n_estimators=175;, score=0.842 total time=   2.1s\n",
      "[CV 4/5; 110/120] START criterion=entropy, max_depth=20, min_samples_leaf=2, n_estimators=200\n",
      "[CV 2/5; 109/120] END criterion=entropy, max_depth=20, min_samples_leaf=2, n_estimators=175;, score=0.813 total time=   2.1s\n",
      "[CV 5/5; 110/120] START criterion=entropy, max_depth=20, min_samples_leaf=2, n_estimators=200\n",
      "[CV 3/5; 109/120] END criterion=entropy, max_depth=20, min_samples_leaf=2, n_estimators=175;, score=0.770 total time=   2.0s\n",
      "[CV 1/5; 111/120] START criterion=entropy, max_depth=20, min_samples_leaf=3, n_estimators=100\n",
      "[CV 4/5; 109/120] END criterion=entropy, max_depth=20, min_samples_leaf=2, n_estimators=175;, score=0.785 total time=   2.1s\n",
      "[CV 2/5; 111/120] START criterion=entropy, max_depth=20, min_samples_leaf=3, n_estimators=100\n",
      "[CV 5/5; 109/120] END criterion=entropy, max_depth=20, min_samples_leaf=2, n_estimators=175;, score=0.785 total time=   2.1s\n",
      "[CV 3/5; 111/120] START criterion=entropy, max_depth=20, min_samples_leaf=3, n_estimators=100\n",
      "[CV 1/5; 111/120] END criterion=entropy, max_depth=20, min_samples_leaf=3, n_estimators=100;, score=0.830 total time=   1.2s\n",
      "[CV 4/5; 111/120] START criterion=entropy, max_depth=20, min_samples_leaf=3, n_estimators=100\n",
      "[CV 1/5; 110/120] END criterion=entropy, max_depth=20, min_samples_leaf=2, n_estimators=200;, score=0.840 total time=   2.5s\n",
      "[CV 5/5; 111/120] START criterion=entropy, max_depth=20, min_samples_leaf=3, n_estimators=100\n",
      "[CV 2/5; 111/120] END criterion=entropy, max_depth=20, min_samples_leaf=3, n_estimators=100;, score=0.810 total time=   1.2s\n",
      "[CV 1/5; 112/120] START criterion=entropy, max_depth=20, min_samples_leaf=3, n_estimators=125\n",
      "[CV 3/5; 111/120] END criterion=entropy, max_depth=20, min_samples_leaf=3, n_estimators=100;, score=0.772 total time=   1.1s\n",
      "[CV 2/5; 112/120] START criterion=entropy, max_depth=20, min_samples_leaf=3, n_estimators=125\n",
      "[CV 2/5; 110/120] END criterion=entropy, max_depth=20, min_samples_leaf=2, n_estimators=200;, score=0.822 total time=   2.4s\n",
      "[CV 3/5; 112/120] START criterion=entropy, max_depth=20, min_samples_leaf=3, n_estimators=125\n",
      "[CV 3/5; 110/120] END criterion=entropy, max_depth=20, min_samples_leaf=2, n_estimators=200;, score=0.768 total time=   2.4s\n",
      "[CV 4/5; 112/120] START criterion=entropy, max_depth=20, min_samples_leaf=3, n_estimators=125\n",
      "[CV 4/5; 110/120] END criterion=entropy, max_depth=20, min_samples_leaf=2, n_estimators=200;, score=0.787 total time=   2.3s\n",
      "[CV 5/5; 112/120] START criterion=entropy, max_depth=20, min_samples_leaf=3, n_estimators=125\n",
      "[CV 5/5; 110/120] END criterion=entropy, max_depth=20, min_samples_leaf=2, n_estimators=200;, score=0.783 total time=   2.3s\n",
      "[CV 1/5; 113/120] START criterion=entropy, max_depth=20, min_samples_leaf=3, n_estimators=150\n",
      "[CV 4/5; 111/120] END criterion=entropy, max_depth=20, min_samples_leaf=3, n_estimators=100;, score=0.782 total time=   1.2s\n",
      "[CV 2/5; 113/120] START criterion=entropy, max_depth=20, min_samples_leaf=3, n_estimators=150\n",
      "[CV 5/5; 111/120] END criterion=entropy, max_depth=20, min_samples_leaf=3, n_estimators=100;, score=0.778 total time=   1.2s\n",
      "[CV 3/5; 113/120] START criterion=entropy, max_depth=20, min_samples_leaf=3, n_estimators=150\n",
      "[CV 1/5; 112/120] END criterion=entropy, max_depth=20, min_samples_leaf=3, n_estimators=125;, score=0.825 total time=   1.5s\n",
      "[CV 4/5; 113/120] START criterion=entropy, max_depth=20, min_samples_leaf=3, n_estimators=150\n",
      "[CV 2/5; 112/120] END criterion=entropy, max_depth=20, min_samples_leaf=3, n_estimators=125;, score=0.802 total time=   1.4s\n",
      "[CV 5/5; 113/120] START criterion=entropy, max_depth=20, min_samples_leaf=3, n_estimators=150\n",
      "[CV 3/5; 112/120] END criterion=entropy, max_depth=20, min_samples_leaf=3, n_estimators=125;, score=0.770 total time=   1.4s\n",
      "[CV 1/5; 114/120] START criterion=entropy, max_depth=20, min_samples_leaf=3, n_estimators=175\n",
      "[CV 4/5; 112/120] END criterion=entropy, max_depth=20, min_samples_leaf=3, n_estimators=125;, score=0.793 total time=   1.4s\n",
      "[CV 2/5; 114/120] START criterion=entropy, max_depth=20, min_samples_leaf=3, n_estimators=175\n",
      "[CV 5/5; 112/120] END criterion=entropy, max_depth=20, min_samples_leaf=3, n_estimators=125;, score=0.777 total time=   1.4s\n",
      "[CV 3/5; 114/120] START criterion=entropy, max_depth=20, min_samples_leaf=3, n_estimators=175\n",
      "[CV 1/5; 113/120] END criterion=entropy, max_depth=20, min_samples_leaf=3, n_estimators=150;, score=0.827 total time=   1.7s\n",
      "[CV 4/5; 114/120] START criterion=entropy, max_depth=20, min_samples_leaf=3, n_estimators=175\n",
      "[CV 2/5; 113/120] END criterion=entropy, max_depth=20, min_samples_leaf=3, n_estimators=150;, score=0.808 total time=   1.7s\n",
      "[CV 5/5; 114/120] START criterion=entropy, max_depth=20, min_samples_leaf=3, n_estimators=175\n",
      "[CV 3/5; 113/120] END criterion=entropy, max_depth=20, min_samples_leaf=3, n_estimators=150;, score=0.780 total time=   1.7s\n",
      "[CV 1/5; 115/120] START criterion=entropy, max_depth=20, min_samples_leaf=3, n_estimators=200\n",
      "[CV 4/5; 113/120] END criterion=entropy, max_depth=20, min_samples_leaf=3, n_estimators=150;, score=0.790 total time=   1.7s\n",
      "[CV 2/5; 115/120] START criterion=entropy, max_depth=20, min_samples_leaf=3, n_estimators=200\n",
      "[CV 5/5; 113/120] END criterion=entropy, max_depth=20, min_samples_leaf=3, n_estimators=150;, score=0.773 total time=   1.7s\n",
      "[CV 3/5; 115/120] START criterion=entropy, max_depth=20, min_samples_leaf=3, n_estimators=200\n",
      "[CV 1/5; 114/120] END criterion=entropy, max_depth=20, min_samples_leaf=3, n_estimators=175;, score=0.830 total time=   2.1s\n",
      "[CV 4/5; 115/120] START criterion=entropy, max_depth=20, min_samples_leaf=3, n_estimators=200\n",
      "[CV 2/5; 114/120] END criterion=entropy, max_depth=20, min_samples_leaf=3, n_estimators=175;, score=0.808 total time=   2.1s\n",
      "[CV 5/5; 115/120] START criterion=entropy, max_depth=20, min_samples_leaf=3, n_estimators=200\n",
      "[CV 3/5; 114/120] END criterion=entropy, max_depth=20, min_samples_leaf=3, n_estimators=175;, score=0.777 total time=   2.0s\n",
      "[CV 1/5; 116/120] START criterion=entropy, max_depth=20, min_samples_leaf=4, n_estimators=100\n",
      "[CV 4/5; 114/120] END criterion=entropy, max_depth=20, min_samples_leaf=3, n_estimators=175;, score=0.795 total time=   2.0s\n",
      "[CV 2/5; 116/120] START criterion=entropy, max_depth=20, min_samples_leaf=4, n_estimators=100\n",
      "[CV 5/5; 114/120] END criterion=entropy, max_depth=20, min_samples_leaf=3, n_estimators=175;, score=0.778 total time=   2.0s\n",
      "[CV 3/5; 116/120] START criterion=entropy, max_depth=20, min_samples_leaf=4, n_estimators=100\n",
      "[CV 1/5; 115/120] END criterion=entropy, max_depth=20, min_samples_leaf=3, n_estimators=200;, score=0.835 total time=   2.3s\n",
      "[CV 4/5; 116/120] START criterion=entropy, max_depth=20, min_samples_leaf=4, n_estimators=100\n",
      "[CV 1/5; 116/120] END criterion=entropy, max_depth=20, min_samples_leaf=4, n_estimators=100;, score=0.840 total time=   1.1s\n",
      "[CV 5/5; 116/120] START criterion=entropy, max_depth=20, min_samples_leaf=4, n_estimators=100\n",
      "[CV 2/5; 116/120] END criterion=entropy, max_depth=20, min_samples_leaf=4, n_estimators=100;, score=0.807 total time=   1.1s\n",
      "[CV 1/5; 117/120] START criterion=entropy, max_depth=20, min_samples_leaf=4, n_estimators=125\n",
      "[CV 3/5; 115/120] END criterion=entropy, max_depth=20, min_samples_leaf=3, n_estimators=200;, score=0.775 total time=   2.2s\n",
      "[CV 2/5; 117/120] START criterion=entropy, max_depth=20, min_samples_leaf=4, n_estimators=125\n",
      "[CV 2/5; 115/120] END criterion=entropy, max_depth=20, min_samples_leaf=3, n_estimators=200;, score=0.807 total time=   2.3s\n",
      "[CV 3/5; 117/120] START criterion=entropy, max_depth=20, min_samples_leaf=4, n_estimators=125\n",
      "[CV 3/5; 116/120] END criterion=entropy, max_depth=20, min_samples_leaf=4, n_estimators=100;, score=0.773 total time=   1.1s\n",
      "[CV 4/5; 117/120] START criterion=entropy, max_depth=20, min_samples_leaf=4, n_estimators=125\n",
      "[CV 4/5; 115/120] END criterion=entropy, max_depth=20, min_samples_leaf=3, n_estimators=200;, score=0.792 total time=   2.3s\n",
      "[CV 5/5; 117/120] START criterion=entropy, max_depth=20, min_samples_leaf=4, n_estimators=125\n",
      "[CV 5/5; 115/120] END criterion=entropy, max_depth=20, min_samples_leaf=3, n_estimators=200;, score=0.783 total time=   2.2s\n",
      "[CV 1/5; 118/120] START criterion=entropy, max_depth=20, min_samples_leaf=4, n_estimators=150\n",
      "[CV 4/5; 116/120] END criterion=entropy, max_depth=20, min_samples_leaf=4, n_estimators=100;, score=0.782 total time=   1.1s\n",
      "[CV 2/5; 118/120] START criterion=entropy, max_depth=20, min_samples_leaf=4, n_estimators=150\n",
      "[CV 5/5; 116/120] END criterion=entropy, max_depth=20, min_samples_leaf=4, n_estimators=100;, score=0.765 total time=   1.1s\n",
      "[CV 3/5; 118/120] START criterion=entropy, max_depth=20, min_samples_leaf=4, n_estimators=150\n",
      "[CV 2/5; 117/120] END criterion=entropy, max_depth=20, min_samples_leaf=4, n_estimators=125;, score=0.812 total time=   1.3s\n",
      "[CV 4/5; 118/120] START criterion=entropy, max_depth=20, min_samples_leaf=4, n_estimators=150\n",
      "[CV 1/5; 117/120] END criterion=entropy, max_depth=20, min_samples_leaf=4, n_estimators=125;, score=0.832 total time=   1.3s\n",
      "[CV 5/5; 118/120] START criterion=entropy, max_depth=20, min_samples_leaf=4, n_estimators=150\n",
      "[CV 3/5; 117/120] END criterion=entropy, max_depth=20, min_samples_leaf=4, n_estimators=125;, score=0.770 total time=   1.3s\n",
      "[CV 1/5; 119/120] START criterion=entropy, max_depth=20, min_samples_leaf=4, n_estimators=175\n",
      "[CV 4/5; 117/120] END criterion=entropy, max_depth=20, min_samples_leaf=4, n_estimators=125;, score=0.780 total time=   1.5s\n",
      "[CV 2/5; 119/120] START criterion=entropy, max_depth=20, min_samples_leaf=4, n_estimators=175\n",
      "[CV 5/5; 117/120] END criterion=entropy, max_depth=20, min_samples_leaf=4, n_estimators=125;, score=0.773 total time=   1.4s\n",
      "[CV 3/5; 119/120] START criterion=entropy, max_depth=20, min_samples_leaf=4, n_estimators=175\n",
      "[CV 1/5; 118/120] END criterion=entropy, max_depth=20, min_samples_leaf=4, n_estimators=150;, score=0.832 total time=   1.6s\n",
      "[CV 4/5; 119/120] START criterion=entropy, max_depth=20, min_samples_leaf=4, n_estimators=175\n",
      "[CV 2/5; 118/120] END criterion=entropy, max_depth=20, min_samples_leaf=4, n_estimators=150;, score=0.812 total time=   1.6s\n",
      "[CV 5/5; 119/120] START criterion=entropy, max_depth=20, min_samples_leaf=4, n_estimators=175\n",
      "[CV 3/5; 118/120] END criterion=entropy, max_depth=20, min_samples_leaf=4, n_estimators=150;, score=0.773 total time=   1.6s\n",
      "[CV 1/5; 120/120] START criterion=entropy, max_depth=20, min_samples_leaf=4, n_estimators=200\n",
      "[CV 4/5; 118/120] END criterion=entropy, max_depth=20, min_samples_leaf=4, n_estimators=150;, score=0.778 total time=   1.7s\n",
      "[CV 2/5; 120/120] START criterion=entropy, max_depth=20, min_samples_leaf=4, n_estimators=200\n",
      "[CV 5/5; 118/120] END criterion=entropy, max_depth=20, min_samples_leaf=4, n_estimators=150;, score=0.768 total time=   1.6s\n",
      "[CV 3/5; 120/120] START criterion=entropy, max_depth=20, min_samples_leaf=4, n_estimators=200\n",
      "[CV 1/5; 119/120] END criterion=entropy, max_depth=20, min_samples_leaf=4, n_estimators=175;, score=0.832 total time=   2.0s\n",
      "[CV 4/5; 120/120] START criterion=entropy, max_depth=20, min_samples_leaf=4, n_estimators=200\n",
      "[CV 2/5; 119/120] END criterion=entropy, max_depth=20, min_samples_leaf=4, n_estimators=175;, score=0.812 total time=   1.9s\n",
      "[CV 5/5; 120/120] START criterion=entropy, max_depth=20, min_samples_leaf=4, n_estimators=200\n",
      "[CV 3/5; 119/120] END criterion=entropy, max_depth=20, min_samples_leaf=4, n_estimators=175;, score=0.770 total time=   1.8s\n",
      "[CV 4/5; 119/120] END criterion=entropy, max_depth=20, min_samples_leaf=4, n_estimators=175;, score=0.778 total time=   1.8s\n",
      "[CV 5/5; 119/120] END criterion=entropy, max_depth=20, min_samples_leaf=4, n_estimators=175;, score=0.767 total time=   1.9s\n",
      "[CV 1/5; 120/120] END criterion=entropy, max_depth=20, min_samples_leaf=4, n_estimators=200;, score=0.837 total time=   2.1s\n",
      "[CV 2/5; 120/120] END criterion=entropy, max_depth=20, min_samples_leaf=4, n_estimators=200;, score=0.815 total time=   1.9s\n",
      "[CV 3/5; 120/120] END criterion=entropy, max_depth=20, min_samples_leaf=4, n_estimators=200;, score=0.777 total time=   1.9s\n",
      "[CV 4/5; 120/120] END criterion=entropy, max_depth=20, min_samples_leaf=4, n_estimators=200;, score=0.785 total time=   1.9s\n",
      "[CV 5/5; 120/120] END criterion=entropy, max_depth=20, min_samples_leaf=4, n_estimators=200;, score=0.767 total time=   1.8s\n",
      "CPU times: user 3.22 s, sys: 428 ms, total: 3.65 s\n",
      "Wall time: 1min 43s\n"
     ]
    }
   ],
   "source": [
    "#use the grid search to look for hyperparameters\n",
    "grid_search_forest = model_selection.GridSearchCV(\n",
    "    estimator=ensemble.RandomForestClassifier(\n",
    "        random_state=42),\n",
    "    param_grid=param_grid_rf,\n",
    "    cv=5,\n",
    "    verbose=10,\n",
    "    n_jobs=-1\n",
    ")\n",
    "\n",
    "#find the processing time\n",
    "%time grid_search_forest.fit(X_train, y_train)\n",
    "\n",
    "#make a prediction\n",
    "y_train_pred = grid_search_forest.predict(X_train)\n",
    "y_test_pred = grid_search_forest.predict(X_test)"
   ]
  },
  {
   "cell_type": "code",
   "execution_count": 42,
   "metadata": {},
   "outputs": [
    {
     "name": "stdout",
     "output_type": "stream",
     "text": [
      "train data:\n",
      "f1_score: 0.982\n",
      "accuracy: 0.980\n",
      "\n",
      "test data\n",
      "f1_score: 0.802\n",
      "accuracy: 0.783\n",
      "\n",
      "best found hyperparameters for random forest using grid search:\n",
      "{'criterion': 'gini', 'max_depth': 15, 'min_samples_leaf': 2, 'n_estimators': 150}\n"
     ]
    }
   ],
   "source": [
    "#display the metrics\n",
    "print('train data:')\n",
    "print(f'f1_score: {metrics.f1_score(y_train, y_train_pred):.3f}')\n",
    "print(f'accuracy: {grid_search_forest.score(X_train, y_train):.3f}')\n",
    "print()\n",
    "print('test data')\n",
    "print(f'f1_score: {metrics.f1_score(y_test, y_test_pred):.3f}')\n",
    "print(f'accuracy: {grid_search_forest.score(X_test, y_test):.3f}')\n",
    "print()\n",
    "print('best found hyperparameters for random forest using grid search:')\n",
    "print(grid_search_forest.best_params_)"
   ]
  },
  {
   "cell_type": "markdown",
   "metadata": {},
   "source": [
    "#### RandomizedSearchCV"
   ]
  },
  {
   "cell_type": "markdown",
   "metadata": {},
   "source": [
    "use the RandomizedSearch method to look for best hyperparameters"
   ]
  },
  {
   "cell_type": "code",
   "execution_count": 43,
   "metadata": {},
   "outputs": [
    {
     "name": "stdout",
     "output_type": "stream",
     "text": [
      "CPU times: user 2.07 s, sys: 66.9 ms, total: 2.14 s\n",
      "Wall time: 20.4 s\n"
     ]
    }
   ],
   "source": [
    "#use the random search to look for hyperparameters\n",
    "random_search_forest = model_selection.RandomizedSearchCV(\n",
    "    estimator=ensemble.RandomForestClassifier(\n",
    "        random_state=42), \n",
    "    param_distributions=param_grid_rf, \n",
    "    cv=5,\n",
    "    n_iter=20, \n",
    "    n_jobs=-1\n",
    ")\n",
    "\n",
    "#find the processing time\n",
    "%time random_search_forest.fit(X_train, y_train) \n",
    "\n",
    "#make a prediction\n",
    "y_train_pred = random_search_forest.predict(X_train)\n",
    "y_test_pred = random_search_forest.predict(X_test)"
   ]
  },
  {
   "cell_type": "code",
   "execution_count": 44,
   "metadata": {},
   "outputs": [
    {
     "name": "stdout",
     "output_type": "stream",
     "text": [
      "train data:\n",
      "f1_score: 0.981\n",
      "accuracy: 0.979\n",
      "\n",
      "test data\n",
      "f1_score: 0.802\n",
      "accuracy: 0.783\n",
      "\n",
      "best found hyperparameters for random forest using grid search:\n",
      "{'n_estimators': 175, 'min_samples_leaf': 2, 'max_depth': 15, 'criterion': 'gini'}\n"
     ]
    }
   ],
   "source": [
    "#display the metrics\n",
    "print('train data:')\n",
    "print(f'f1_score: {metrics.f1_score(y_train, y_train_pred):.3f}')\n",
    "print(f'accuracy: {random_search_forest.score(X_train, y_train):.3f}')\n",
    "print()\n",
    "print('test data')\n",
    "print(f'f1_score: {metrics.f1_score(y_test, y_test_pred):.3f}')\n",
    "print(f'accuracy: {random_search_forest.score(X_test, y_test):.3f}')\n",
    "print()\n",
    "print('best found hyperparameters for random forest using grid search:')\n",
    "print(random_search_forest.best_params_)"
   ]
  },
  {
   "cell_type": "markdown",
   "metadata": {},
   "source": [
    "#### Hyperopt"
   ]
  },
  {
   "cell_type": "markdown",
   "metadata": {},
   "source": [
    "use the Hyperopt method to look for best hyperparameters"
   ]
  },
  {
   "cell_type": "code",
   "execution_count": 45,
   "metadata": {},
   "outputs": [],
   "source": [
    "hp_space={\n",
    "       'n_estimators': hp.choice('n_estimators', [100, 125, 150, 175, 200]),\n",
    "       'max_depth': hp.choice('max_depth', [5, 10, 15, 20]),\n",
    "       'min_samples_leaf': hp.choice('min_samples_leaf', [2, 3, 4]),\n",
    "       'criterion': hp.choice('criterion', ['gini', 'entropy'])\n",
    "      }"
   ]
  },
  {
   "cell_type": "code",
   "execution_count": 46,
   "metadata": {},
   "outputs": [],
   "source": [
    "#create a function for hyperopt study\n",
    "def hyperopt_rf(space_params:dict, cv=5, X=X_train, y=y_train, random_state=42):\n",
    "    #set the hyperparameters combinations\n",
    "    params = {'n_estimators': space_params['n_estimators'], \n",
    "              'max_depth': space_params['max_depth'], \n",
    "              'min_samples_leaf': space_params['min_samples_leaf'],\n",
    "              'criterion': space_params['criterion']\n",
    "              }\n",
    "  \n",
    "    #use the combinations for model build\n",
    "    model = ensemble.RandomForestClassifier(**params,\n",
    "                                            random_state=42)\n",
    "    \n",
    "    #model learning through cross-validation\n",
    "    score = cross_val_score(model,\n",
    "                            X,\n",
    "                            y,\n",
    "                            cv=5,\n",
    "                            scoring='f1',\n",
    "                            n_jobs=-1).mean()\n",
    "\n",
    "    #minimize the metrics\n",
    "    return -score"
   ]
  },
  {
   "cell_type": "code",
   "execution_count": 47,
   "metadata": {},
   "outputs": [
    {
     "name": "stdout",
     "output_type": "stream",
     "text": [
      "100%|██████████| 20/20 [00:24<00:00,  1.21s/trial, best loss: -0.8188274866165592]\n",
      "best found hyperparameters for random forest using hyperopt {'criterion': 'gini', 'max_depth': 15, 'min_samples_leaf': 2, 'n_estimators': 175}\n",
      "CPU times: user 266 ms, sys: 205 ms, total: 470 ms\n",
      "Wall time: 24.2 s\n"
     ]
    }
   ],
   "source": [
    "%%time\n",
    "#begin hyperparameters selection\n",
    "#log the results\n",
    "trials_rf = Trials()\n",
    "\n",
    "best=fmin(hyperopt_rf,\n",
    "          space=hp_space, #chosen list of hyperparameters\n",
    "          algo=tpe.suggest, #optimization\n",
    "          max_evals=20, #iteration number\n",
    "          trials=trials_rf, # логирование результатов\n",
    "          rstate=np.random.default_rng(42),\n",
    "          #return_argmin=False\n",
    "         )\n",
    "\n",
    "print(f'best found hyperparameters for random forest using hyperopt {hyperopt.space_eval(hp_space, best)}')"
   ]
  },
  {
   "cell_type": "code",
   "execution_count": 48,
   "metadata": {},
   "outputs": [
    {
     "data": {
      "text/plain": [
       "{'criterion': 'gini',\n",
       " 'max_depth': 15,\n",
       " 'min_samples_leaf': 2,\n",
       " 'n_estimators': 175}"
      ]
     },
     "execution_count": 48,
     "metadata": {},
     "output_type": "execute_result"
    }
   ],
   "source": [
    "#import the results into an empty dict\n",
    "best_parameters = dict()\n",
    "best_parameters = hyperopt.space_eval(hp_space, best)\n",
    "best_parameters"
   ]
  },
  {
   "cell_type": "code",
   "execution_count": 49,
   "metadata": {},
   "outputs": [],
   "source": [
    "#calculate the metrics\n",
    "model_hp_rf = ensemble.RandomForestClassifier(\n",
    "    random_state=42, \n",
    "    n_estimators=best_parameters['n_estimators'],\n",
    "    max_depth=best_parameters['max_depth'],\n",
    "    min_samples_leaf=best_parameters['min_samples_leaf'],\n",
    "    criterion=best_parameters['criterion']\n",
    ")\n",
    "\n",
    "#model learning\n",
    "model_hp_rf.fit(X_train, y_train)\n",
    "\n",
    "#make a prediction\n",
    "y_train_pred = model_hp_rf.predict(X_train)\n",
    "y_test_pred = model_hp_rf.predict(X_test)"
   ]
  },
  {
   "cell_type": "code",
   "execution_count": 50,
   "metadata": {},
   "outputs": [
    {
     "name": "stdout",
     "output_type": "stream",
     "text": [
      "train data:\n",
      "f1_score: 0.981\n",
      "accuracy: 0.979\n",
      "\n",
      "test data\n",
      "f1_score: 0.802\n",
      "accuracy: 0.783\n"
     ]
    }
   ],
   "source": [
    "#display the metrics\n",
    "print('train data:')\n",
    "print(f'f1_score: {metrics.f1_score(y_train, y_train_pred):.3f}')\n",
    "print(f'accuracy: {model_hp_rf.score(X_train, y_train):.3f}')\n",
    "print()\n",
    "print('test data')\n",
    "print(f'f1_score: {metrics.f1_score(y_test, y_test_pred):.3f}')\n",
    "print(f'accuracy: {model_hp_rf.score(X_test, y_test):.3f}')"
   ]
  },
  {
   "cell_type": "markdown",
   "metadata": {},
   "source": [
    "#### Optuna"
   ]
  },
  {
   "cell_type": "markdown",
   "metadata": {},
   "source": [
    "use the Optuna method to look for best hyperparameters"
   ]
  },
  {
   "cell_type": "code",
   "execution_count": 51,
   "metadata": {},
   "outputs": [],
   "source": [
    "def optuna_rf(trial):\n",
    "  #set hyperparameters\n",
    "  n_estimators = trial.suggest_categorical('n_estimators', [100, 125, 150, 175, 200])\n",
    "  max_depth = trial.suggest_categorical('max_depth', [5, 10, 15, 20])\n",
    "  min_samples_leaf = trial.suggest_categorical('min_samples_leaf', [2, 3, 4])\n",
    "  criterion = trial.suggest_categorical('criterion', ['gini', 'entropy'])\n",
    "  \n",
    "  #use the combinations for model build\n",
    "  model = ensemble.RandomForestClassifier(n_estimators=n_estimators,\n",
    "                                          max_depth=max_depth,\n",
    "                                          min_samples_leaf=min_samples_leaf,\n",
    "                                          criterion=criterion,\n",
    "                                          random_state=42)\n",
    "  \n",
    "  #model learning through cross-validation\n",
    "  score = model_selection.cross_val_score(\n",
    "    model,\n",
    "    X,\n",
    "    y,\n",
    "    cv=5,\n",
    "    scoring='f1', \n",
    "    n_jobs=-1).mean()\n",
    "\n",
    "  return score"
   ]
  },
  {
   "cell_type": "code",
   "execution_count": 52,
   "metadata": {},
   "outputs": [
    {
     "name": "stderr",
     "output_type": "stream",
     "text": [
      "[I 2024-06-22 23:35:21,457] A new study created in memory with name: RandomForestClassifier\n",
      "[I 2024-06-22 23:35:23,695] Trial 0 finished with value: 0.8128276235055237 and parameters: {'n_estimators': 175, 'max_depth': 15, 'min_samples_leaf': 3, 'criterion': 'gini'}. Best is trial 0 with value: 0.8128276235055237.\n",
      "[I 2024-06-22 23:35:25,026] Trial 1 finished with value: 0.8029856135611062 and parameters: {'n_estimators': 125, 'max_depth': 10, 'min_samples_leaf': 3, 'criterion': 'gini'}. Best is trial 0 with value: 0.8128276235055237.\n",
      "[I 2024-06-22 23:35:25,724] Trial 2 finished with value: 0.7589135002478358 and parameters: {'n_estimators': 100, 'max_depth': 5, 'min_samples_leaf': 4, 'criterion': 'gini'}. Best is trial 0 with value: 0.8128276235055237.\n",
      "[I 2024-06-22 23:35:27,598] Trial 3 finished with value: 0.799551494272407 and parameters: {'n_estimators': 175, 'max_depth': 10, 'min_samples_leaf': 2, 'criterion': 'entropy'}. Best is trial 0 with value: 0.8128276235055237.\n",
      "[I 2024-06-22 23:35:29,833] Trial 4 finished with value: 0.8144148517589367 and parameters: {'n_estimators': 175, 'max_depth': 15, 'min_samples_leaf': 3, 'criterion': 'entropy'}. Best is trial 4 with value: 0.8144148517589367.\n",
      "[I 2024-06-22 23:35:31,195] Trial 5 finished with value: 0.8049084883540678 and parameters: {'n_estimators': 125, 'max_depth': 10, 'min_samples_leaf': 3, 'criterion': 'entropy'}. Best is trial 4 with value: 0.8144148517589367.\n",
      "[I 2024-06-22 23:35:33,415] Trial 6 finished with value: 0.8137606385640581 and parameters: {'n_estimators': 175, 'max_depth': 20, 'min_samples_leaf': 4, 'criterion': 'entropy'}. Best is trial 4 with value: 0.8144148517589367.\n",
      "[I 2024-06-22 23:35:34,476] Trial 7 finished with value: 0.7644977621385257 and parameters: {'n_estimators': 175, 'max_depth': 5, 'min_samples_leaf': 4, 'criterion': 'entropy'}. Best is trial 4 with value: 0.8144148517589367.\n",
      "[I 2024-06-22 23:35:37,022] Trial 8 finished with value: 0.8127582431634934 and parameters: {'n_estimators': 200, 'max_depth': 20, 'min_samples_leaf': 2, 'criterion': 'gini'}. Best is trial 4 with value: 0.8144148517589367.\n",
      "[I 2024-06-22 23:35:38,144] Trial 9 finished with value: 0.7621418350158403 and parameters: {'n_estimators': 200, 'max_depth': 5, 'min_samples_leaf': 4, 'criterion': 'gini'}. Best is trial 4 with value: 0.8144148517589367.\n",
      "[I 2024-06-22 23:35:40,027] Trial 10 finished with value: 0.81032223158661 and parameters: {'n_estimators': 150, 'max_depth': 15, 'min_samples_leaf': 3, 'criterion': 'entropy'}. Best is trial 4 with value: 0.8144148517589367.\n",
      "[I 2024-06-22 23:35:42,218] Trial 11 finished with value: 0.8137606385640581 and parameters: {'n_estimators': 175, 'max_depth': 20, 'min_samples_leaf': 4, 'criterion': 'entropy'}. Best is trial 4 with value: 0.8144148517589367.\n",
      "[I 2024-06-22 23:35:44,374] Trial 12 finished with value: 0.8144148517589367 and parameters: {'n_estimators': 175, 'max_depth': 15, 'min_samples_leaf': 3, 'criterion': 'entropy'}. Best is trial 4 with value: 0.8144148517589367.\n",
      "[I 2024-06-22 23:35:45,723] Trial 13 finished with value: 0.8127558755290151 and parameters: {'n_estimators': 100, 'max_depth': 15, 'min_samples_leaf': 3, 'criterion': 'entropy'}. Best is trial 4 with value: 0.8144148517589367.\n",
      "[I 2024-06-22 23:35:47,607] Trial 14 finished with value: 0.81032223158661 and parameters: {'n_estimators': 150, 'max_depth': 15, 'min_samples_leaf': 3, 'criterion': 'entropy'}. Best is trial 4 with value: 0.8144148517589367.\n",
      "[I 2024-06-22 23:35:49,795] Trial 15 finished with value: 0.8144148517589367 and parameters: {'n_estimators': 175, 'max_depth': 15, 'min_samples_leaf': 3, 'criterion': 'entropy'}. Best is trial 4 with value: 0.8144148517589367.\n",
      "[I 2024-06-22 23:35:51,943] Trial 16 finished with value: 0.8144148517589367 and parameters: {'n_estimators': 175, 'max_depth': 15, 'min_samples_leaf': 3, 'criterion': 'entropy'}. Best is trial 4 with value: 0.8144148517589367.\n",
      "[I 2024-06-22 23:35:54,207] Trial 17 finished with value: 0.8120085280491104 and parameters: {'n_estimators': 175, 'max_depth': 15, 'min_samples_leaf': 2, 'criterion': 'entropy'}. Best is trial 4 with value: 0.8144148517589367.\n",
      "[I 2024-06-22 23:35:56,635] Trial 18 finished with value: 0.8149475625052303 and parameters: {'n_estimators': 200, 'max_depth': 15, 'min_samples_leaf': 3, 'criterion': 'entropy'}. Best is trial 18 with value: 0.8149475625052303.\n",
      "[I 2024-06-22 23:35:59,105] Trial 19 finished with value: 0.8149475625052303 and parameters: {'n_estimators': 200, 'max_depth': 15, 'min_samples_leaf': 3, 'criterion': 'entropy'}. Best is trial 18 with value: 0.8149475625052303.\n"
     ]
    },
    {
     "name": "stdout",
     "output_type": "stream",
     "text": [
      "CPU times: user 279 ms, sys: 244 ms, total: 523 ms\n",
      "Wall time: 37.6 s\n"
     ]
    }
   ],
   "source": [
    "%%time\n",
    "#begin hyperparameters selection\n",
    "#create review object\n",
    "study_optuna = optuna.create_study(study_name='RandomForestClassifier',\n",
    "                                   direction='maximize')\n",
    "\n",
    "#search for the best combination\n",
    "study_optuna.optimize(optuna_rf, n_trials=20)"
   ]
  },
  {
   "cell_type": "code",
   "execution_count": 53,
   "metadata": {},
   "outputs": [
    {
     "name": "stdout",
     "output_type": "stream",
     "text": [
      "train data:\n",
      "f1 score: 0.815\n",
      "best hyperparameters for random forest using optuna {'n_estimators': 200, 'max_depth': 15, 'min_samples_leaf': 3, 'criterion': 'entropy'}\n"
     ]
    }
   ],
   "source": [
    "#display results for train data\n",
    "print('train data:')\n",
    "print(f'f1 score: {study_optuna.best_value:.3f}')\n",
    "print(f'best hyperparameters for random forest using optuna {study_optuna.best_params}')"
   ]
  },
  {
   "cell_type": "code",
   "execution_count": 54,
   "metadata": {},
   "outputs": [],
   "source": [
    "#find the metrics for test data\n",
    "model_opt_rf = ensemble.RandomForestClassifier(**study_optuna.best_params,\n",
    "                                               random_state=42,\n",
    "                                               )\n",
    "\n",
    "#model learning\n",
    "model_opt_rf.fit(X_train, y_train)\n",
    "\n",
    "#make a prediction\n",
    "y_train_pred = model_opt_rf.predict(X_train)\n",
    "y_test_pred = model_opt_rf.predict(X_test)"
   ]
  },
  {
   "cell_type": "code",
   "execution_count": 55,
   "metadata": {},
   "outputs": [
    {
     "name": "stdout",
     "output_type": "stream",
     "text": [
      "train data:\n",
      "f1_score: 0.969\n",
      "accuracy: 0.966\n",
      "\n",
      "test data\n",
      "f1_score: 0.797\n",
      "accuracy: 0.778\n"
     ]
    }
   ],
   "source": [
    "#display the metrics\n",
    "print('train data:')\n",
    "print(f'f1_score: {metrics.f1_score(y_train, y_train_pred):.3f}')\n",
    "print(f'accuracy: {model_opt_rf.score(X_train, y_train):.3f}')\n",
    "print()\n",
    "print('test data')\n",
    "print(f'f1_score: {metrics.f1_score(y_test, y_test_pred):.3f}')\n",
    "print(f'accuracy: {model_opt_rf.score(X_test, y_test):.3f}')"
   ]
  },
  {
   "cell_type": "code",
   "execution_count": 56,
   "metadata": {},
   "outputs": [
    {
     "data": {
      "text/plain": [
       "True"
      ]
     },
     "execution_count": 56,
     "metadata": {},
     "output_type": "execute_result"
    }
   ],
   "source": [
    "#can visualization be used?\n",
    "optuna.visualization.is_available()"
   ]
  },
  {
   "cell_type": "code",
   "execution_count": 57,
   "metadata": {},
   "outputs": [
    {
     "data": {
      "application/vnd.plotly.v1+json": {
       "config": {
        "plotlyServerURL": "https://plot.ly"
       },
       "data": [
        {
         "mode": "markers",
         "name": "f1_score",
         "type": "scatter",
         "x": [
          0,
          1,
          2,
          3,
          4,
          5,
          6,
          7,
          8,
          9,
          10,
          11,
          12,
          13,
          14,
          15,
          16,
          17,
          18,
          19
         ],
         "y": [
          0.8128276235055237,
          0.8029856135611062,
          0.7589135002478358,
          0.799551494272407,
          0.8144148517589367,
          0.8049084883540678,
          0.8137606385640581,
          0.7644977621385257,
          0.8127582431634934,
          0.7621418350158403,
          0.81032223158661,
          0.8137606385640581,
          0.8144148517589367,
          0.8127558755290151,
          0.81032223158661,
          0.8144148517589367,
          0.8144148517589367,
          0.8120085280491104,
          0.8149475625052303,
          0.8149475625052303
         ]
        },
        {
         "mode": "lines",
         "name": "Best Value",
         "type": "scatter",
         "x": [
          0,
          1,
          2,
          3,
          4,
          5,
          6,
          7,
          8,
          9,
          10,
          11,
          12,
          13,
          14,
          15,
          16,
          17,
          18,
          19
         ],
         "y": [
          0.8128276235055237,
          0.8128276235055237,
          0.8128276235055237,
          0.8128276235055237,
          0.8144148517589367,
          0.8144148517589367,
          0.8144148517589367,
          0.8144148517589367,
          0.8144148517589367,
          0.8144148517589367,
          0.8144148517589367,
          0.8144148517589367,
          0.8144148517589367,
          0.8144148517589367,
          0.8144148517589367,
          0.8144148517589367,
          0.8144148517589367,
          0.8144148517589367,
          0.8149475625052303,
          0.8149475625052303
         ]
        },
        {
         "marker": {
          "color": "#cccccc"
         },
         "mode": "markers",
         "name": "Infeasible Trial",
         "showlegend": false,
         "type": "scatter",
         "x": [],
         "y": []
        }
       ],
       "layout": {
        "template": {
         "data": {
          "bar": [
           {
            "error_x": {
             "color": "#2a3f5f"
            },
            "error_y": {
             "color": "#2a3f5f"
            },
            "marker": {
             "line": {
              "color": "#E5ECF6",
              "width": 0.5
             },
             "pattern": {
              "fillmode": "overlay",
              "size": 10,
              "solidity": 0.2
             }
            },
            "type": "bar"
           }
          ],
          "barpolar": [
           {
            "marker": {
             "line": {
              "color": "#E5ECF6",
              "width": 0.5
             },
             "pattern": {
              "fillmode": "overlay",
              "size": 10,
              "solidity": 0.2
             }
            },
            "type": "barpolar"
           }
          ],
          "carpet": [
           {
            "aaxis": {
             "endlinecolor": "#2a3f5f",
             "gridcolor": "white",
             "linecolor": "white",
             "minorgridcolor": "white",
             "startlinecolor": "#2a3f5f"
            },
            "baxis": {
             "endlinecolor": "#2a3f5f",
             "gridcolor": "white",
             "linecolor": "white",
             "minorgridcolor": "white",
             "startlinecolor": "#2a3f5f"
            },
            "type": "carpet"
           }
          ],
          "choropleth": [
           {
            "colorbar": {
             "outlinewidth": 0,
             "ticks": ""
            },
            "type": "choropleth"
           }
          ],
          "contour": [
           {
            "colorbar": {
             "outlinewidth": 0,
             "ticks": ""
            },
            "colorscale": [
             [
              0,
              "#0d0887"
             ],
             [
              0.1111111111111111,
              "#46039f"
             ],
             [
              0.2222222222222222,
              "#7201a8"
             ],
             [
              0.3333333333333333,
              "#9c179e"
             ],
             [
              0.4444444444444444,
              "#bd3786"
             ],
             [
              0.5555555555555556,
              "#d8576b"
             ],
             [
              0.6666666666666666,
              "#ed7953"
             ],
             [
              0.7777777777777778,
              "#fb9f3a"
             ],
             [
              0.8888888888888888,
              "#fdca26"
             ],
             [
              1,
              "#f0f921"
             ]
            ],
            "type": "contour"
           }
          ],
          "contourcarpet": [
           {
            "colorbar": {
             "outlinewidth": 0,
             "ticks": ""
            },
            "type": "contourcarpet"
           }
          ],
          "heatmap": [
           {
            "colorbar": {
             "outlinewidth": 0,
             "ticks": ""
            },
            "colorscale": [
             [
              0,
              "#0d0887"
             ],
             [
              0.1111111111111111,
              "#46039f"
             ],
             [
              0.2222222222222222,
              "#7201a8"
             ],
             [
              0.3333333333333333,
              "#9c179e"
             ],
             [
              0.4444444444444444,
              "#bd3786"
             ],
             [
              0.5555555555555556,
              "#d8576b"
             ],
             [
              0.6666666666666666,
              "#ed7953"
             ],
             [
              0.7777777777777778,
              "#fb9f3a"
             ],
             [
              0.8888888888888888,
              "#fdca26"
             ],
             [
              1,
              "#f0f921"
             ]
            ],
            "type": "heatmap"
           }
          ],
          "heatmapgl": [
           {
            "colorbar": {
             "outlinewidth": 0,
             "ticks": ""
            },
            "colorscale": [
             [
              0,
              "#0d0887"
             ],
             [
              0.1111111111111111,
              "#46039f"
             ],
             [
              0.2222222222222222,
              "#7201a8"
             ],
             [
              0.3333333333333333,
              "#9c179e"
             ],
             [
              0.4444444444444444,
              "#bd3786"
             ],
             [
              0.5555555555555556,
              "#d8576b"
             ],
             [
              0.6666666666666666,
              "#ed7953"
             ],
             [
              0.7777777777777778,
              "#fb9f3a"
             ],
             [
              0.8888888888888888,
              "#fdca26"
             ],
             [
              1,
              "#f0f921"
             ]
            ],
            "type": "heatmapgl"
           }
          ],
          "histogram": [
           {
            "marker": {
             "pattern": {
              "fillmode": "overlay",
              "size": 10,
              "solidity": 0.2
             }
            },
            "type": "histogram"
           }
          ],
          "histogram2d": [
           {
            "colorbar": {
             "outlinewidth": 0,
             "ticks": ""
            },
            "colorscale": [
             [
              0,
              "#0d0887"
             ],
             [
              0.1111111111111111,
              "#46039f"
             ],
             [
              0.2222222222222222,
              "#7201a8"
             ],
             [
              0.3333333333333333,
              "#9c179e"
             ],
             [
              0.4444444444444444,
              "#bd3786"
             ],
             [
              0.5555555555555556,
              "#d8576b"
             ],
             [
              0.6666666666666666,
              "#ed7953"
             ],
             [
              0.7777777777777778,
              "#fb9f3a"
             ],
             [
              0.8888888888888888,
              "#fdca26"
             ],
             [
              1,
              "#f0f921"
             ]
            ],
            "type": "histogram2d"
           }
          ],
          "histogram2dcontour": [
           {
            "colorbar": {
             "outlinewidth": 0,
             "ticks": ""
            },
            "colorscale": [
             [
              0,
              "#0d0887"
             ],
             [
              0.1111111111111111,
              "#46039f"
             ],
             [
              0.2222222222222222,
              "#7201a8"
             ],
             [
              0.3333333333333333,
              "#9c179e"
             ],
             [
              0.4444444444444444,
              "#bd3786"
             ],
             [
              0.5555555555555556,
              "#d8576b"
             ],
             [
              0.6666666666666666,
              "#ed7953"
             ],
             [
              0.7777777777777778,
              "#fb9f3a"
             ],
             [
              0.8888888888888888,
              "#fdca26"
             ],
             [
              1,
              "#f0f921"
             ]
            ],
            "type": "histogram2dcontour"
           }
          ],
          "mesh3d": [
           {
            "colorbar": {
             "outlinewidth": 0,
             "ticks": ""
            },
            "type": "mesh3d"
           }
          ],
          "parcoords": [
           {
            "line": {
             "colorbar": {
              "outlinewidth": 0,
              "ticks": ""
             }
            },
            "type": "parcoords"
           }
          ],
          "pie": [
           {
            "automargin": true,
            "type": "pie"
           }
          ],
          "scatter": [
           {
            "fillpattern": {
             "fillmode": "overlay",
             "size": 10,
             "solidity": 0.2
            },
            "type": "scatter"
           }
          ],
          "scatter3d": [
           {
            "line": {
             "colorbar": {
              "outlinewidth": 0,
              "ticks": ""
             }
            },
            "marker": {
             "colorbar": {
              "outlinewidth": 0,
              "ticks": ""
             }
            },
            "type": "scatter3d"
           }
          ],
          "scattercarpet": [
           {
            "marker": {
             "colorbar": {
              "outlinewidth": 0,
              "ticks": ""
             }
            },
            "type": "scattercarpet"
           }
          ],
          "scattergeo": [
           {
            "marker": {
             "colorbar": {
              "outlinewidth": 0,
              "ticks": ""
             }
            },
            "type": "scattergeo"
           }
          ],
          "scattergl": [
           {
            "marker": {
             "colorbar": {
              "outlinewidth": 0,
              "ticks": ""
             }
            },
            "type": "scattergl"
           }
          ],
          "scattermapbox": [
           {
            "marker": {
             "colorbar": {
              "outlinewidth": 0,
              "ticks": ""
             }
            },
            "type": "scattermapbox"
           }
          ],
          "scatterpolar": [
           {
            "marker": {
             "colorbar": {
              "outlinewidth": 0,
              "ticks": ""
             }
            },
            "type": "scatterpolar"
           }
          ],
          "scatterpolargl": [
           {
            "marker": {
             "colorbar": {
              "outlinewidth": 0,
              "ticks": ""
             }
            },
            "type": "scatterpolargl"
           }
          ],
          "scatterternary": [
           {
            "marker": {
             "colorbar": {
              "outlinewidth": 0,
              "ticks": ""
             }
            },
            "type": "scatterternary"
           }
          ],
          "surface": [
           {
            "colorbar": {
             "outlinewidth": 0,
             "ticks": ""
            },
            "colorscale": [
             [
              0,
              "#0d0887"
             ],
             [
              0.1111111111111111,
              "#46039f"
             ],
             [
              0.2222222222222222,
              "#7201a8"
             ],
             [
              0.3333333333333333,
              "#9c179e"
             ],
             [
              0.4444444444444444,
              "#bd3786"
             ],
             [
              0.5555555555555556,
              "#d8576b"
             ],
             [
              0.6666666666666666,
              "#ed7953"
             ],
             [
              0.7777777777777778,
              "#fb9f3a"
             ],
             [
              0.8888888888888888,
              "#fdca26"
             ],
             [
              1,
              "#f0f921"
             ]
            ],
            "type": "surface"
           }
          ],
          "table": [
           {
            "cells": {
             "fill": {
              "color": "#EBF0F8"
             },
             "line": {
              "color": "white"
             }
            },
            "header": {
             "fill": {
              "color": "#C8D4E3"
             },
             "line": {
              "color": "white"
             }
            },
            "type": "table"
           }
          ]
         },
         "layout": {
          "annotationdefaults": {
           "arrowcolor": "#2a3f5f",
           "arrowhead": 0,
           "arrowwidth": 1
          },
          "autotypenumbers": "strict",
          "coloraxis": {
           "colorbar": {
            "outlinewidth": 0,
            "ticks": ""
           }
          },
          "colorscale": {
           "diverging": [
            [
             0,
             "#8e0152"
            ],
            [
             0.1,
             "#c51b7d"
            ],
            [
             0.2,
             "#de77ae"
            ],
            [
             0.3,
             "#f1b6da"
            ],
            [
             0.4,
             "#fde0ef"
            ],
            [
             0.5,
             "#f7f7f7"
            ],
            [
             0.6,
             "#e6f5d0"
            ],
            [
             0.7,
             "#b8e186"
            ],
            [
             0.8,
             "#7fbc41"
            ],
            [
             0.9,
             "#4d9221"
            ],
            [
             1,
             "#276419"
            ]
           ],
           "sequential": [
            [
             0,
             "#0d0887"
            ],
            [
             0.1111111111111111,
             "#46039f"
            ],
            [
             0.2222222222222222,
             "#7201a8"
            ],
            [
             0.3333333333333333,
             "#9c179e"
            ],
            [
             0.4444444444444444,
             "#bd3786"
            ],
            [
             0.5555555555555556,
             "#d8576b"
            ],
            [
             0.6666666666666666,
             "#ed7953"
            ],
            [
             0.7777777777777778,
             "#fb9f3a"
            ],
            [
             0.8888888888888888,
             "#fdca26"
            ],
            [
             1,
             "#f0f921"
            ]
           ],
           "sequentialminus": [
            [
             0,
             "#0d0887"
            ],
            [
             0.1111111111111111,
             "#46039f"
            ],
            [
             0.2222222222222222,
             "#7201a8"
            ],
            [
             0.3333333333333333,
             "#9c179e"
            ],
            [
             0.4444444444444444,
             "#bd3786"
            ],
            [
             0.5555555555555556,
             "#d8576b"
            ],
            [
             0.6666666666666666,
             "#ed7953"
            ],
            [
             0.7777777777777778,
             "#fb9f3a"
            ],
            [
             0.8888888888888888,
             "#fdca26"
            ],
            [
             1,
             "#f0f921"
            ]
           ]
          },
          "colorway": [
           "#636efa",
           "#EF553B",
           "#00cc96",
           "#ab63fa",
           "#FFA15A",
           "#19d3f3",
           "#FF6692",
           "#B6E880",
           "#FF97FF",
           "#FECB52"
          ],
          "font": {
           "color": "#2a3f5f"
          },
          "geo": {
           "bgcolor": "white",
           "lakecolor": "white",
           "landcolor": "#E5ECF6",
           "showlakes": true,
           "showland": true,
           "subunitcolor": "white"
          },
          "hoverlabel": {
           "align": "left"
          },
          "hovermode": "closest",
          "mapbox": {
           "style": "light"
          },
          "paper_bgcolor": "white",
          "plot_bgcolor": "#E5ECF6",
          "polar": {
           "angularaxis": {
            "gridcolor": "white",
            "linecolor": "white",
            "ticks": ""
           },
           "bgcolor": "#E5ECF6",
           "radialaxis": {
            "gridcolor": "white",
            "linecolor": "white",
            "ticks": ""
           }
          },
          "scene": {
           "xaxis": {
            "backgroundcolor": "#E5ECF6",
            "gridcolor": "white",
            "gridwidth": 2,
            "linecolor": "white",
            "showbackground": true,
            "ticks": "",
            "zerolinecolor": "white"
           },
           "yaxis": {
            "backgroundcolor": "#E5ECF6",
            "gridcolor": "white",
            "gridwidth": 2,
            "linecolor": "white",
            "showbackground": true,
            "ticks": "",
            "zerolinecolor": "white"
           },
           "zaxis": {
            "backgroundcolor": "#E5ECF6",
            "gridcolor": "white",
            "gridwidth": 2,
            "linecolor": "white",
            "showbackground": true,
            "ticks": "",
            "zerolinecolor": "white"
           }
          },
          "shapedefaults": {
           "line": {
            "color": "#2a3f5f"
           }
          },
          "ternary": {
           "aaxis": {
            "gridcolor": "white",
            "linecolor": "white",
            "ticks": ""
           },
           "baxis": {
            "gridcolor": "white",
            "linecolor": "white",
            "ticks": ""
           },
           "bgcolor": "#E5ECF6",
           "caxis": {
            "gridcolor": "white",
            "linecolor": "white",
            "ticks": ""
           }
          },
          "title": {
           "x": 0.05
          },
          "xaxis": {
           "automargin": true,
           "gridcolor": "white",
           "linecolor": "white",
           "ticks": "",
           "title": {
            "standoff": 15
           },
           "zerolinecolor": "white",
           "zerolinewidth": 2
          },
          "yaxis": {
           "automargin": true,
           "gridcolor": "white",
           "linecolor": "white",
           "ticks": "",
           "title": {
            "standoff": 15
           },
           "zerolinecolor": "white",
           "zerolinewidth": 2
          }
         }
        },
        "title": {
         "text": "Optimization History Plot"
        },
        "xaxis": {
         "title": {
          "text": "Trial"
         }
        },
        "yaxis": {
         "title": {
          "text": "f1_score"
         }
        }
       }
      }
     },
     "metadata": {},
     "output_type": "display_data"
    }
   ],
   "source": [
    "#check whether optimization is moving in the right direction by display the number of trials on x-axis and the metrics on y_axis\n",
    "optuna.visualization.plot_optimization_history(study_optuna,\n",
    "                                               target_name='f1_score')"
   ]
  },
  {
   "cell_type": "code",
   "execution_count": 58,
   "metadata": {},
   "outputs": [
    {
     "data": {
      "application/vnd.plotly.v1+json": {
       "config": {
        "plotlyServerURL": "https://plot.ly"
       },
       "data": [
        {
         "cliponaxis": false,
         "hovertemplate": [
          "criterion (CategoricalDistribution): 0.00047473023786783505<extra></extra>",
          "n_estimators (CategoricalDistribution): 0.01800582363738596<extra></extra>",
          "min_samples_leaf (CategoricalDistribution): 0.07725623545605603<extra></extra>",
          "max_depth (CategoricalDistribution): 0.90426321066869<extra></extra>"
         ],
         "name": "f1_score",
         "orientation": "h",
         "text": [
          "<0.01",
          "0.02",
          "0.08",
          "0.90"
         ],
         "textposition": "outside",
         "type": "bar",
         "x": [
          0.00047473023786783505,
          0.01800582363738596,
          0.07725623545605603,
          0.90426321066869
         ],
         "y": [
          "criterion",
          "n_estimators",
          "min_samples_leaf",
          "max_depth"
         ]
        }
       ],
       "layout": {
        "template": {
         "data": {
          "bar": [
           {
            "error_x": {
             "color": "#2a3f5f"
            },
            "error_y": {
             "color": "#2a3f5f"
            },
            "marker": {
             "line": {
              "color": "#E5ECF6",
              "width": 0.5
             },
             "pattern": {
              "fillmode": "overlay",
              "size": 10,
              "solidity": 0.2
             }
            },
            "type": "bar"
           }
          ],
          "barpolar": [
           {
            "marker": {
             "line": {
              "color": "#E5ECF6",
              "width": 0.5
             },
             "pattern": {
              "fillmode": "overlay",
              "size": 10,
              "solidity": 0.2
             }
            },
            "type": "barpolar"
           }
          ],
          "carpet": [
           {
            "aaxis": {
             "endlinecolor": "#2a3f5f",
             "gridcolor": "white",
             "linecolor": "white",
             "minorgridcolor": "white",
             "startlinecolor": "#2a3f5f"
            },
            "baxis": {
             "endlinecolor": "#2a3f5f",
             "gridcolor": "white",
             "linecolor": "white",
             "minorgridcolor": "white",
             "startlinecolor": "#2a3f5f"
            },
            "type": "carpet"
           }
          ],
          "choropleth": [
           {
            "colorbar": {
             "outlinewidth": 0,
             "ticks": ""
            },
            "type": "choropleth"
           }
          ],
          "contour": [
           {
            "colorbar": {
             "outlinewidth": 0,
             "ticks": ""
            },
            "colorscale": [
             [
              0,
              "#0d0887"
             ],
             [
              0.1111111111111111,
              "#46039f"
             ],
             [
              0.2222222222222222,
              "#7201a8"
             ],
             [
              0.3333333333333333,
              "#9c179e"
             ],
             [
              0.4444444444444444,
              "#bd3786"
             ],
             [
              0.5555555555555556,
              "#d8576b"
             ],
             [
              0.6666666666666666,
              "#ed7953"
             ],
             [
              0.7777777777777778,
              "#fb9f3a"
             ],
             [
              0.8888888888888888,
              "#fdca26"
             ],
             [
              1,
              "#f0f921"
             ]
            ],
            "type": "contour"
           }
          ],
          "contourcarpet": [
           {
            "colorbar": {
             "outlinewidth": 0,
             "ticks": ""
            },
            "type": "contourcarpet"
           }
          ],
          "heatmap": [
           {
            "colorbar": {
             "outlinewidth": 0,
             "ticks": ""
            },
            "colorscale": [
             [
              0,
              "#0d0887"
             ],
             [
              0.1111111111111111,
              "#46039f"
             ],
             [
              0.2222222222222222,
              "#7201a8"
             ],
             [
              0.3333333333333333,
              "#9c179e"
             ],
             [
              0.4444444444444444,
              "#bd3786"
             ],
             [
              0.5555555555555556,
              "#d8576b"
             ],
             [
              0.6666666666666666,
              "#ed7953"
             ],
             [
              0.7777777777777778,
              "#fb9f3a"
             ],
             [
              0.8888888888888888,
              "#fdca26"
             ],
             [
              1,
              "#f0f921"
             ]
            ],
            "type": "heatmap"
           }
          ],
          "heatmapgl": [
           {
            "colorbar": {
             "outlinewidth": 0,
             "ticks": ""
            },
            "colorscale": [
             [
              0,
              "#0d0887"
             ],
             [
              0.1111111111111111,
              "#46039f"
             ],
             [
              0.2222222222222222,
              "#7201a8"
             ],
             [
              0.3333333333333333,
              "#9c179e"
             ],
             [
              0.4444444444444444,
              "#bd3786"
             ],
             [
              0.5555555555555556,
              "#d8576b"
             ],
             [
              0.6666666666666666,
              "#ed7953"
             ],
             [
              0.7777777777777778,
              "#fb9f3a"
             ],
             [
              0.8888888888888888,
              "#fdca26"
             ],
             [
              1,
              "#f0f921"
             ]
            ],
            "type": "heatmapgl"
           }
          ],
          "histogram": [
           {
            "marker": {
             "pattern": {
              "fillmode": "overlay",
              "size": 10,
              "solidity": 0.2
             }
            },
            "type": "histogram"
           }
          ],
          "histogram2d": [
           {
            "colorbar": {
             "outlinewidth": 0,
             "ticks": ""
            },
            "colorscale": [
             [
              0,
              "#0d0887"
             ],
             [
              0.1111111111111111,
              "#46039f"
             ],
             [
              0.2222222222222222,
              "#7201a8"
             ],
             [
              0.3333333333333333,
              "#9c179e"
             ],
             [
              0.4444444444444444,
              "#bd3786"
             ],
             [
              0.5555555555555556,
              "#d8576b"
             ],
             [
              0.6666666666666666,
              "#ed7953"
             ],
             [
              0.7777777777777778,
              "#fb9f3a"
             ],
             [
              0.8888888888888888,
              "#fdca26"
             ],
             [
              1,
              "#f0f921"
             ]
            ],
            "type": "histogram2d"
           }
          ],
          "histogram2dcontour": [
           {
            "colorbar": {
             "outlinewidth": 0,
             "ticks": ""
            },
            "colorscale": [
             [
              0,
              "#0d0887"
             ],
             [
              0.1111111111111111,
              "#46039f"
             ],
             [
              0.2222222222222222,
              "#7201a8"
             ],
             [
              0.3333333333333333,
              "#9c179e"
             ],
             [
              0.4444444444444444,
              "#bd3786"
             ],
             [
              0.5555555555555556,
              "#d8576b"
             ],
             [
              0.6666666666666666,
              "#ed7953"
             ],
             [
              0.7777777777777778,
              "#fb9f3a"
             ],
             [
              0.8888888888888888,
              "#fdca26"
             ],
             [
              1,
              "#f0f921"
             ]
            ],
            "type": "histogram2dcontour"
           }
          ],
          "mesh3d": [
           {
            "colorbar": {
             "outlinewidth": 0,
             "ticks": ""
            },
            "type": "mesh3d"
           }
          ],
          "parcoords": [
           {
            "line": {
             "colorbar": {
              "outlinewidth": 0,
              "ticks": ""
             }
            },
            "type": "parcoords"
           }
          ],
          "pie": [
           {
            "automargin": true,
            "type": "pie"
           }
          ],
          "scatter": [
           {
            "fillpattern": {
             "fillmode": "overlay",
             "size": 10,
             "solidity": 0.2
            },
            "type": "scatter"
           }
          ],
          "scatter3d": [
           {
            "line": {
             "colorbar": {
              "outlinewidth": 0,
              "ticks": ""
             }
            },
            "marker": {
             "colorbar": {
              "outlinewidth": 0,
              "ticks": ""
             }
            },
            "type": "scatter3d"
           }
          ],
          "scattercarpet": [
           {
            "marker": {
             "colorbar": {
              "outlinewidth": 0,
              "ticks": ""
             }
            },
            "type": "scattercarpet"
           }
          ],
          "scattergeo": [
           {
            "marker": {
             "colorbar": {
              "outlinewidth": 0,
              "ticks": ""
             }
            },
            "type": "scattergeo"
           }
          ],
          "scattergl": [
           {
            "marker": {
             "colorbar": {
              "outlinewidth": 0,
              "ticks": ""
             }
            },
            "type": "scattergl"
           }
          ],
          "scattermapbox": [
           {
            "marker": {
             "colorbar": {
              "outlinewidth": 0,
              "ticks": ""
             }
            },
            "type": "scattermapbox"
           }
          ],
          "scatterpolar": [
           {
            "marker": {
             "colorbar": {
              "outlinewidth": 0,
              "ticks": ""
             }
            },
            "type": "scatterpolar"
           }
          ],
          "scatterpolargl": [
           {
            "marker": {
             "colorbar": {
              "outlinewidth": 0,
              "ticks": ""
             }
            },
            "type": "scatterpolargl"
           }
          ],
          "scatterternary": [
           {
            "marker": {
             "colorbar": {
              "outlinewidth": 0,
              "ticks": ""
             }
            },
            "type": "scatterternary"
           }
          ],
          "surface": [
           {
            "colorbar": {
             "outlinewidth": 0,
             "ticks": ""
            },
            "colorscale": [
             [
              0,
              "#0d0887"
             ],
             [
              0.1111111111111111,
              "#46039f"
             ],
             [
              0.2222222222222222,
              "#7201a8"
             ],
             [
              0.3333333333333333,
              "#9c179e"
             ],
             [
              0.4444444444444444,
              "#bd3786"
             ],
             [
              0.5555555555555556,
              "#d8576b"
             ],
             [
              0.6666666666666666,
              "#ed7953"
             ],
             [
              0.7777777777777778,
              "#fb9f3a"
             ],
             [
              0.8888888888888888,
              "#fdca26"
             ],
             [
              1,
              "#f0f921"
             ]
            ],
            "type": "surface"
           }
          ],
          "table": [
           {
            "cells": {
             "fill": {
              "color": "#EBF0F8"
             },
             "line": {
              "color": "white"
             }
            },
            "header": {
             "fill": {
              "color": "#C8D4E3"
             },
             "line": {
              "color": "white"
             }
            },
            "type": "table"
           }
          ]
         },
         "layout": {
          "annotationdefaults": {
           "arrowcolor": "#2a3f5f",
           "arrowhead": 0,
           "arrowwidth": 1
          },
          "autotypenumbers": "strict",
          "coloraxis": {
           "colorbar": {
            "outlinewidth": 0,
            "ticks": ""
           }
          },
          "colorscale": {
           "diverging": [
            [
             0,
             "#8e0152"
            ],
            [
             0.1,
             "#c51b7d"
            ],
            [
             0.2,
             "#de77ae"
            ],
            [
             0.3,
             "#f1b6da"
            ],
            [
             0.4,
             "#fde0ef"
            ],
            [
             0.5,
             "#f7f7f7"
            ],
            [
             0.6,
             "#e6f5d0"
            ],
            [
             0.7,
             "#b8e186"
            ],
            [
             0.8,
             "#7fbc41"
            ],
            [
             0.9,
             "#4d9221"
            ],
            [
             1,
             "#276419"
            ]
           ],
           "sequential": [
            [
             0,
             "#0d0887"
            ],
            [
             0.1111111111111111,
             "#46039f"
            ],
            [
             0.2222222222222222,
             "#7201a8"
            ],
            [
             0.3333333333333333,
             "#9c179e"
            ],
            [
             0.4444444444444444,
             "#bd3786"
            ],
            [
             0.5555555555555556,
             "#d8576b"
            ],
            [
             0.6666666666666666,
             "#ed7953"
            ],
            [
             0.7777777777777778,
             "#fb9f3a"
            ],
            [
             0.8888888888888888,
             "#fdca26"
            ],
            [
             1,
             "#f0f921"
            ]
           ],
           "sequentialminus": [
            [
             0,
             "#0d0887"
            ],
            [
             0.1111111111111111,
             "#46039f"
            ],
            [
             0.2222222222222222,
             "#7201a8"
            ],
            [
             0.3333333333333333,
             "#9c179e"
            ],
            [
             0.4444444444444444,
             "#bd3786"
            ],
            [
             0.5555555555555556,
             "#d8576b"
            ],
            [
             0.6666666666666666,
             "#ed7953"
            ],
            [
             0.7777777777777778,
             "#fb9f3a"
            ],
            [
             0.8888888888888888,
             "#fdca26"
            ],
            [
             1,
             "#f0f921"
            ]
           ]
          },
          "colorway": [
           "#636efa",
           "#EF553B",
           "#00cc96",
           "#ab63fa",
           "#FFA15A",
           "#19d3f3",
           "#FF6692",
           "#B6E880",
           "#FF97FF",
           "#FECB52"
          ],
          "font": {
           "color": "#2a3f5f"
          },
          "geo": {
           "bgcolor": "white",
           "lakecolor": "white",
           "landcolor": "#E5ECF6",
           "showlakes": true,
           "showland": true,
           "subunitcolor": "white"
          },
          "hoverlabel": {
           "align": "left"
          },
          "hovermode": "closest",
          "mapbox": {
           "style": "light"
          },
          "paper_bgcolor": "white",
          "plot_bgcolor": "#E5ECF6",
          "polar": {
           "angularaxis": {
            "gridcolor": "white",
            "linecolor": "white",
            "ticks": ""
           },
           "bgcolor": "#E5ECF6",
           "radialaxis": {
            "gridcolor": "white",
            "linecolor": "white",
            "ticks": ""
           }
          },
          "scene": {
           "xaxis": {
            "backgroundcolor": "#E5ECF6",
            "gridcolor": "white",
            "gridwidth": 2,
            "linecolor": "white",
            "showbackground": true,
            "ticks": "",
            "zerolinecolor": "white"
           },
           "yaxis": {
            "backgroundcolor": "#E5ECF6",
            "gridcolor": "white",
            "gridwidth": 2,
            "linecolor": "white",
            "showbackground": true,
            "ticks": "",
            "zerolinecolor": "white"
           },
           "zaxis": {
            "backgroundcolor": "#E5ECF6",
            "gridcolor": "white",
            "gridwidth": 2,
            "linecolor": "white",
            "showbackground": true,
            "ticks": "",
            "zerolinecolor": "white"
           }
          },
          "shapedefaults": {
           "line": {
            "color": "#2a3f5f"
           }
          },
          "ternary": {
           "aaxis": {
            "gridcolor": "white",
            "linecolor": "white",
            "ticks": ""
           },
           "baxis": {
            "gridcolor": "white",
            "linecolor": "white",
            "ticks": ""
           },
           "bgcolor": "#E5ECF6",
           "caxis": {
            "gridcolor": "white",
            "linecolor": "white",
            "ticks": ""
           }
          },
          "title": {
           "x": 0.05
          },
          "xaxis": {
           "automargin": true,
           "gridcolor": "white",
           "linecolor": "white",
           "ticks": "",
           "title": {
            "standoff": 15
           },
           "zerolinecolor": "white",
           "zerolinewidth": 2
          },
          "yaxis": {
           "automargin": true,
           "gridcolor": "white",
           "linecolor": "white",
           "ticks": "",
           "title": {
            "standoff": 15
           },
           "zerolinecolor": "white",
           "zerolinewidth": 2
          }
         }
        },
        "title": {
         "text": "Hyperparameter Importances"
        },
        "xaxis": {
         "title": {
          "text": "Hyperparameter Importance"
         }
        },
        "yaxis": {
         "title": {
          "text": "Hyperparameter"
         }
        }
       }
      }
     },
     "metadata": {},
     "output_type": "display_data"
    }
   ],
   "source": [
    "#find which hyperparameters contribute the most to the maximization of the metric \n",
    "optuna.visualization.plot_param_importances(study_optuna,\n",
    "                                            target_name='f1_score')"
   ]
  },
  {
   "cell_type": "code",
   "execution_count": 60,
   "metadata": {},
   "outputs": [
    {
     "data": {
      "application/vnd.plotly.v1+json": {
       "config": {
        "plotlyServerURL": "https://plot.ly"
       },
       "data": [
        {
         "colorbar": {
          "title": {
           "text": "f1_score"
          }
         },
         "colorscale": [
          [
           0,
           "rgb(247,251,255)"
          ],
          [
           0.125,
           "rgb(222,235,247)"
          ],
          [
           0.25,
           "rgb(198,219,239)"
          ],
          [
           0.375,
           "rgb(158,202,225)"
          ],
          [
           0.5,
           "rgb(107,174,214)"
          ],
          [
           0.625,
           "rgb(66,146,198)"
          ],
          [
           0.75,
           "rgb(33,113,181)"
          ],
          [
           0.875,
           "rgb(8,81,156)"
          ],
          [
           1,
           "rgb(8,48,107)"
          ]
         ],
         "connectgaps": true,
         "contours": {
          "coloring": "heatmap"
         },
         "hoverinfo": "none",
         "line": {
          "smoothing": 1.3
         },
         "reversescale": false,
         "type": "contour",
         "x": [
          4.25,
          5,
          10,
          15,
          20,
          20.75
         ],
         "y": [
          1.9,
          2,
          3,
          4,
          4.1
         ],
         "z": [
          [
           null,
           null,
           null,
           null,
           null,
           null
          ],
          [
           null,
           null,
           0.799551494272407,
           0.8120085280491104,
           0.8127582431634934,
           null
          ],
          [
           null,
           null,
           0.8049084883540678,
           0.8149475625052303,
           null,
           null
          ],
          [
           null,
           0.7644977621385257,
           null,
           null,
           0.8137606385640581,
           null
          ],
          [
           null,
           null,
           null,
           null,
           null,
           null
          ]
         ]
        },
        {
         "marker": {
          "color": "black",
          "line": {
           "color": "Gray",
           "width": 2
          }
         },
         "mode": "markers",
         "name": "Feasible Trial",
         "showlegend": false,
         "type": "scatter",
         "x": [
          15,
          10,
          5,
          10,
          15,
          10,
          20,
          5,
          20,
          5,
          15,
          20,
          15,
          15,
          15,
          15,
          15,
          15,
          15,
          15
         ],
         "y": [
          3,
          3,
          4,
          2,
          3,
          3,
          4,
          4,
          2,
          4,
          3,
          4,
          3,
          3,
          3,
          3,
          3,
          2,
          3,
          3
         ]
        },
        {
         "marker": {
          "color": "#cccccc",
          "line": {
           "color": "Gray",
           "width": 2
          }
         },
         "mode": "markers",
         "name": "Infeasible Trial",
         "showlegend": false,
         "type": "scatter",
         "x": [],
         "y": []
        }
       ],
       "layout": {
        "template": {
         "data": {
          "bar": [
           {
            "error_x": {
             "color": "#2a3f5f"
            },
            "error_y": {
             "color": "#2a3f5f"
            },
            "marker": {
             "line": {
              "color": "#E5ECF6",
              "width": 0.5
             },
             "pattern": {
              "fillmode": "overlay",
              "size": 10,
              "solidity": 0.2
             }
            },
            "type": "bar"
           }
          ],
          "barpolar": [
           {
            "marker": {
             "line": {
              "color": "#E5ECF6",
              "width": 0.5
             },
             "pattern": {
              "fillmode": "overlay",
              "size": 10,
              "solidity": 0.2
             }
            },
            "type": "barpolar"
           }
          ],
          "carpet": [
           {
            "aaxis": {
             "endlinecolor": "#2a3f5f",
             "gridcolor": "white",
             "linecolor": "white",
             "minorgridcolor": "white",
             "startlinecolor": "#2a3f5f"
            },
            "baxis": {
             "endlinecolor": "#2a3f5f",
             "gridcolor": "white",
             "linecolor": "white",
             "minorgridcolor": "white",
             "startlinecolor": "#2a3f5f"
            },
            "type": "carpet"
           }
          ],
          "choropleth": [
           {
            "colorbar": {
             "outlinewidth": 0,
             "ticks": ""
            },
            "type": "choropleth"
           }
          ],
          "contour": [
           {
            "colorbar": {
             "outlinewidth": 0,
             "ticks": ""
            },
            "colorscale": [
             [
              0,
              "#0d0887"
             ],
             [
              0.1111111111111111,
              "#46039f"
             ],
             [
              0.2222222222222222,
              "#7201a8"
             ],
             [
              0.3333333333333333,
              "#9c179e"
             ],
             [
              0.4444444444444444,
              "#bd3786"
             ],
             [
              0.5555555555555556,
              "#d8576b"
             ],
             [
              0.6666666666666666,
              "#ed7953"
             ],
             [
              0.7777777777777778,
              "#fb9f3a"
             ],
             [
              0.8888888888888888,
              "#fdca26"
             ],
             [
              1,
              "#f0f921"
             ]
            ],
            "type": "contour"
           }
          ],
          "contourcarpet": [
           {
            "colorbar": {
             "outlinewidth": 0,
             "ticks": ""
            },
            "type": "contourcarpet"
           }
          ],
          "heatmap": [
           {
            "colorbar": {
             "outlinewidth": 0,
             "ticks": ""
            },
            "colorscale": [
             [
              0,
              "#0d0887"
             ],
             [
              0.1111111111111111,
              "#46039f"
             ],
             [
              0.2222222222222222,
              "#7201a8"
             ],
             [
              0.3333333333333333,
              "#9c179e"
             ],
             [
              0.4444444444444444,
              "#bd3786"
             ],
             [
              0.5555555555555556,
              "#d8576b"
             ],
             [
              0.6666666666666666,
              "#ed7953"
             ],
             [
              0.7777777777777778,
              "#fb9f3a"
             ],
             [
              0.8888888888888888,
              "#fdca26"
             ],
             [
              1,
              "#f0f921"
             ]
            ],
            "type": "heatmap"
           }
          ],
          "heatmapgl": [
           {
            "colorbar": {
             "outlinewidth": 0,
             "ticks": ""
            },
            "colorscale": [
             [
              0,
              "#0d0887"
             ],
             [
              0.1111111111111111,
              "#46039f"
             ],
             [
              0.2222222222222222,
              "#7201a8"
             ],
             [
              0.3333333333333333,
              "#9c179e"
             ],
             [
              0.4444444444444444,
              "#bd3786"
             ],
             [
              0.5555555555555556,
              "#d8576b"
             ],
             [
              0.6666666666666666,
              "#ed7953"
             ],
             [
              0.7777777777777778,
              "#fb9f3a"
             ],
             [
              0.8888888888888888,
              "#fdca26"
             ],
             [
              1,
              "#f0f921"
             ]
            ],
            "type": "heatmapgl"
           }
          ],
          "histogram": [
           {
            "marker": {
             "pattern": {
              "fillmode": "overlay",
              "size": 10,
              "solidity": 0.2
             }
            },
            "type": "histogram"
           }
          ],
          "histogram2d": [
           {
            "colorbar": {
             "outlinewidth": 0,
             "ticks": ""
            },
            "colorscale": [
             [
              0,
              "#0d0887"
             ],
             [
              0.1111111111111111,
              "#46039f"
             ],
             [
              0.2222222222222222,
              "#7201a8"
             ],
             [
              0.3333333333333333,
              "#9c179e"
             ],
             [
              0.4444444444444444,
              "#bd3786"
             ],
             [
              0.5555555555555556,
              "#d8576b"
             ],
             [
              0.6666666666666666,
              "#ed7953"
             ],
             [
              0.7777777777777778,
              "#fb9f3a"
             ],
             [
              0.8888888888888888,
              "#fdca26"
             ],
             [
              1,
              "#f0f921"
             ]
            ],
            "type": "histogram2d"
           }
          ],
          "histogram2dcontour": [
           {
            "colorbar": {
             "outlinewidth": 0,
             "ticks": ""
            },
            "colorscale": [
             [
              0,
              "#0d0887"
             ],
             [
              0.1111111111111111,
              "#46039f"
             ],
             [
              0.2222222222222222,
              "#7201a8"
             ],
             [
              0.3333333333333333,
              "#9c179e"
             ],
             [
              0.4444444444444444,
              "#bd3786"
             ],
             [
              0.5555555555555556,
              "#d8576b"
             ],
             [
              0.6666666666666666,
              "#ed7953"
             ],
             [
              0.7777777777777778,
              "#fb9f3a"
             ],
             [
              0.8888888888888888,
              "#fdca26"
             ],
             [
              1,
              "#f0f921"
             ]
            ],
            "type": "histogram2dcontour"
           }
          ],
          "mesh3d": [
           {
            "colorbar": {
             "outlinewidth": 0,
             "ticks": ""
            },
            "type": "mesh3d"
           }
          ],
          "parcoords": [
           {
            "line": {
             "colorbar": {
              "outlinewidth": 0,
              "ticks": ""
             }
            },
            "type": "parcoords"
           }
          ],
          "pie": [
           {
            "automargin": true,
            "type": "pie"
           }
          ],
          "scatter": [
           {
            "fillpattern": {
             "fillmode": "overlay",
             "size": 10,
             "solidity": 0.2
            },
            "type": "scatter"
           }
          ],
          "scatter3d": [
           {
            "line": {
             "colorbar": {
              "outlinewidth": 0,
              "ticks": ""
             }
            },
            "marker": {
             "colorbar": {
              "outlinewidth": 0,
              "ticks": ""
             }
            },
            "type": "scatter3d"
           }
          ],
          "scattercarpet": [
           {
            "marker": {
             "colorbar": {
              "outlinewidth": 0,
              "ticks": ""
             }
            },
            "type": "scattercarpet"
           }
          ],
          "scattergeo": [
           {
            "marker": {
             "colorbar": {
              "outlinewidth": 0,
              "ticks": ""
             }
            },
            "type": "scattergeo"
           }
          ],
          "scattergl": [
           {
            "marker": {
             "colorbar": {
              "outlinewidth": 0,
              "ticks": ""
             }
            },
            "type": "scattergl"
           }
          ],
          "scattermapbox": [
           {
            "marker": {
             "colorbar": {
              "outlinewidth": 0,
              "ticks": ""
             }
            },
            "type": "scattermapbox"
           }
          ],
          "scatterpolar": [
           {
            "marker": {
             "colorbar": {
              "outlinewidth": 0,
              "ticks": ""
             }
            },
            "type": "scatterpolar"
           }
          ],
          "scatterpolargl": [
           {
            "marker": {
             "colorbar": {
              "outlinewidth": 0,
              "ticks": ""
             }
            },
            "type": "scatterpolargl"
           }
          ],
          "scatterternary": [
           {
            "marker": {
             "colorbar": {
              "outlinewidth": 0,
              "ticks": ""
             }
            },
            "type": "scatterternary"
           }
          ],
          "surface": [
           {
            "colorbar": {
             "outlinewidth": 0,
             "ticks": ""
            },
            "colorscale": [
             [
              0,
              "#0d0887"
             ],
             [
              0.1111111111111111,
              "#46039f"
             ],
             [
              0.2222222222222222,
              "#7201a8"
             ],
             [
              0.3333333333333333,
              "#9c179e"
             ],
             [
              0.4444444444444444,
              "#bd3786"
             ],
             [
              0.5555555555555556,
              "#d8576b"
             ],
             [
              0.6666666666666666,
              "#ed7953"
             ],
             [
              0.7777777777777778,
              "#fb9f3a"
             ],
             [
              0.8888888888888888,
              "#fdca26"
             ],
             [
              1,
              "#f0f921"
             ]
            ],
            "type": "surface"
           }
          ],
          "table": [
           {
            "cells": {
             "fill": {
              "color": "#EBF0F8"
             },
             "line": {
              "color": "white"
             }
            },
            "header": {
             "fill": {
              "color": "#C8D4E3"
             },
             "line": {
              "color": "white"
             }
            },
            "type": "table"
           }
          ]
         },
         "layout": {
          "annotationdefaults": {
           "arrowcolor": "#2a3f5f",
           "arrowhead": 0,
           "arrowwidth": 1
          },
          "autotypenumbers": "strict",
          "coloraxis": {
           "colorbar": {
            "outlinewidth": 0,
            "ticks": ""
           }
          },
          "colorscale": {
           "diverging": [
            [
             0,
             "#8e0152"
            ],
            [
             0.1,
             "#c51b7d"
            ],
            [
             0.2,
             "#de77ae"
            ],
            [
             0.3,
             "#f1b6da"
            ],
            [
             0.4,
             "#fde0ef"
            ],
            [
             0.5,
             "#f7f7f7"
            ],
            [
             0.6,
             "#e6f5d0"
            ],
            [
             0.7,
             "#b8e186"
            ],
            [
             0.8,
             "#7fbc41"
            ],
            [
             0.9,
             "#4d9221"
            ],
            [
             1,
             "#276419"
            ]
           ],
           "sequential": [
            [
             0,
             "#0d0887"
            ],
            [
             0.1111111111111111,
             "#46039f"
            ],
            [
             0.2222222222222222,
             "#7201a8"
            ],
            [
             0.3333333333333333,
             "#9c179e"
            ],
            [
             0.4444444444444444,
             "#bd3786"
            ],
            [
             0.5555555555555556,
             "#d8576b"
            ],
            [
             0.6666666666666666,
             "#ed7953"
            ],
            [
             0.7777777777777778,
             "#fb9f3a"
            ],
            [
             0.8888888888888888,
             "#fdca26"
            ],
            [
             1,
             "#f0f921"
            ]
           ],
           "sequentialminus": [
            [
             0,
             "#0d0887"
            ],
            [
             0.1111111111111111,
             "#46039f"
            ],
            [
             0.2222222222222222,
             "#7201a8"
            ],
            [
             0.3333333333333333,
             "#9c179e"
            ],
            [
             0.4444444444444444,
             "#bd3786"
            ],
            [
             0.5555555555555556,
             "#d8576b"
            ],
            [
             0.6666666666666666,
             "#ed7953"
            ],
            [
             0.7777777777777778,
             "#fb9f3a"
            ],
            [
             0.8888888888888888,
             "#fdca26"
            ],
            [
             1,
             "#f0f921"
            ]
           ]
          },
          "colorway": [
           "#636efa",
           "#EF553B",
           "#00cc96",
           "#ab63fa",
           "#FFA15A",
           "#19d3f3",
           "#FF6692",
           "#B6E880",
           "#FF97FF",
           "#FECB52"
          ],
          "font": {
           "color": "#2a3f5f"
          },
          "geo": {
           "bgcolor": "white",
           "lakecolor": "white",
           "landcolor": "#E5ECF6",
           "showlakes": true,
           "showland": true,
           "subunitcolor": "white"
          },
          "hoverlabel": {
           "align": "left"
          },
          "hovermode": "closest",
          "mapbox": {
           "style": "light"
          },
          "paper_bgcolor": "white",
          "plot_bgcolor": "#E5ECF6",
          "polar": {
           "angularaxis": {
            "gridcolor": "white",
            "linecolor": "white",
            "ticks": ""
           },
           "bgcolor": "#E5ECF6",
           "radialaxis": {
            "gridcolor": "white",
            "linecolor": "white",
            "ticks": ""
           }
          },
          "scene": {
           "xaxis": {
            "backgroundcolor": "#E5ECF6",
            "gridcolor": "white",
            "gridwidth": 2,
            "linecolor": "white",
            "showbackground": true,
            "ticks": "",
            "zerolinecolor": "white"
           },
           "yaxis": {
            "backgroundcolor": "#E5ECF6",
            "gridcolor": "white",
            "gridwidth": 2,
            "linecolor": "white",
            "showbackground": true,
            "ticks": "",
            "zerolinecolor": "white"
           },
           "zaxis": {
            "backgroundcolor": "#E5ECF6",
            "gridcolor": "white",
            "gridwidth": 2,
            "linecolor": "white",
            "showbackground": true,
            "ticks": "",
            "zerolinecolor": "white"
           }
          },
          "shapedefaults": {
           "line": {
            "color": "#2a3f5f"
           }
          },
          "ternary": {
           "aaxis": {
            "gridcolor": "white",
            "linecolor": "white",
            "ticks": ""
           },
           "baxis": {
            "gridcolor": "white",
            "linecolor": "white",
            "ticks": ""
           },
           "bgcolor": "#E5ECF6",
           "caxis": {
            "gridcolor": "white",
            "linecolor": "white",
            "ticks": ""
           }
          },
          "title": {
           "x": 0.05
          },
          "xaxis": {
           "automargin": true,
           "gridcolor": "white",
           "linecolor": "white",
           "ticks": "",
           "title": {
            "standoff": 15
           },
           "zerolinecolor": "white",
           "zerolinewidth": 2
          },
          "yaxis": {
           "automargin": true,
           "gridcolor": "white",
           "linecolor": "white",
           "ticks": "",
           "title": {
            "standoff": 15
           },
           "zerolinecolor": "white",
           "zerolinewidth": 2
          }
         }
        },
        "title": {
         "text": "Contour Plot"
        },
        "xaxis": {
         "range": [
          4.25,
          20.75
         ],
         "title": {
          "text": "max_depth"
         }
        },
        "yaxis": {
         "range": [
          1.9,
          4.1
         ],
         "title": {
          "text": "min_samples_leaf"
         }
        }
       }
      }
     },
     "metadata": {},
     "output_type": "display_data"
    }
   ],
   "source": [
    "#highlight the relationship between different hyperparameter combinations and the metric value for these combinations\n",
    "optuna.visualization.plot_contour(study_optuna,\n",
    "                                  params=['max_depth', 'min_samples_leaf'],\n",
    "                                  target_name='f1_score')"
   ]
  },
  {
   "cell_type": "markdown",
   "metadata": {},
   "source": [
    "**Вывод:**\n",
    "\n",
    "Были обучены две модели с параметрами по умолчанию - логистическая регрессии и модель случайного леса, и для каждой из этих моделей были подобраны гиперпараметры с помощью 4 методов: GridSearchCV, RandomizedSearchCV, Hyperopt, Optuna.\n",
    "\n",
    "*Logistic Regression*\n",
    "|                 | Baseline | GridSearch        | Randomized Search | Hyperopt         | Optuna               |\n",
    "|:---------------:|:--------:|:-----------------:|:-----------------:|:----------------:|:--------------------:|\n",
    "|Processing Time  | 3.5s     | 11m 9s            | 3min              | 4m 24s ; 4m 7s   | 2m 50s ; 1m 39s      |\n",
    "|Train: F1 Score  | 0.905    | 0.843             | 0.843             | 0.892            | 0.843 ; 0.807        |\n",
    "|Train: Accuracy  | 0.896    | 0.825             | 0.825             | 0.882            | 0.825 ; 0.784        |\n",
    "|Test: F1 Score   | 0.776    | 0.787             | 0.788             | 0.778            | 0.787 ; 0.770        |\n",
    "|Test: Accuracy   | 0.752    | 0.760             | 0.760             | 0.775            | 0.760 ; 0.740        |\n",
    "|Hyperparameters  |          | lbfgs, l2, C=0.05 | saga, l2, C=0.05  | sag, l2, C=0.05  | lbfgs, l2, C=0.05    |\n",
    "|                 |          |                   |                   | saga, l2, C=0.05 | liblinear, l1, C=0.1 |\n",
    "\n",
    "\n",
    "*Random Forest*\n",
    "|                 | Baseline | GridSearch      | Randomized Search | Hyperopt         | Optuna             |\n",
    "|:---------------:|:--------:|:---------------:|:-----------------:|:----------------:|:------------------:|\n",
    "|Processing Time  | 1.3s     | 1m 43s          | 20s               | 24s              | 38s                |\n",
    "|Train: F1 Score  | 1.0      | 0.982           | 0.981             | 0.981            | 0.969              |\n",
    "|Train: Accuracy  | 1.0      | 0.980           | 0.979             | 0.979            | 0.966              |\n",
    "|Test: F1 Score   | 0.805    | 0.802           | 0.802             | 0.802            | 0.797              |\n",
    "|Test: Accuracy   | 0.787    | 0.783           | 0.783             | 0.783            | 0.778              |\n",
    "|Hyperparameters  |          | gini, depth 15,  | gini, depth 15,   | gini, depth 15,  | entropy, depth 15, |\n",
    "|                 |          | leaf 2, n=150   | leaf 2, n=175     | leaf 2, n=175    | leaf 3, n=200      |\n",
    "\n",
    "\n",
    "Все методы смогли улучшить метрику базовых моделей, уменьшить переобучение, и увеличить f1-score. \\\n",
    "Наиболее ресурсозатратный метод - GridSearch, в среднем лучшие результаты показывает метод - Hyperopt.\n",
    "\n",
    "В общем результаты показывают, что все методы склоняются к определенным параметрам, то есть многие параметры, такие как penalty, C, solver для логистической регрессии и criterion, max_depth, min_samples_leaf для случайного леса выбираются методами, как лучшие потенциальные гиперпараметры. \\\n",
    "Но нужно учитывать, что результаты также зависят от других признаков - количество итераций, на которых может обучаться метод, и ограничения выбранных параметров из-за чего коэффициент не сходится (convergence).\n",
    "\n",
    "Для сокращения обучения в будущем можно написать общие функции для построения моделей, поиска гиперпараметров; для обучения логистической регрессии не были перепробованы все комбинации. "
   ]
  }
 ],
 "metadata": {
  "kernelspec": {
   "display_name": "Python 3",
   "language": "python",
   "name": "python3"
  },
  "language_info": {
   "codemirror_mode": {
    "name": "ipython",
    "version": 3
   },
   "file_extension": ".py",
   "mimetype": "text/x-python",
   "name": "python",
   "nbconvert_exporter": "python",
   "pygments_lexer": "ipython3",
   "version": "3.10.5"
  }
 },
 "nbformat": 4,
 "nbformat_minor": 2
}

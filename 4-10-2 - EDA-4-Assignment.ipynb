{
  "cells": [
    {
      "cell_type": "markdown",
      "metadata": {
        "id": "yMG_XPwziMUN"
      },
      "source": [
        "# <center> Практика. Статистические тесты в контексте EDA"
      ]
    },
    {
      "cell_type": "markdown",
      "metadata": {
        "id": "EMd2vwh8ihnl"
      },
      "source": [
        "## Постановка задачи\n",
        "\n",
        "HR-агентство изучает тренды на рынке труда в IT. Компания хочет провести исследование на основе данных о зарплатах в сфере Data Science за 2020–2022 годы и получить некоторые выводы.\n",
        "\n",
        "HR-агентство хочет выяснить, какие факторы влияют на зарплату специалиста Data Scientist:\n",
        "\n",
        "- Наблюдается ли ежегодный рост зарплат у специалистов Data Scientist?\n",
        "- Как соотносятся зарплаты Data Scientist и Data Engineer в 2022 году?\n",
        "- Как соотносятся зарплаты специалистов Data Scientist в компаниях различных размеров?\n",
        "- Есть ли связь между наличием должностей Data Scientist и Data Engineer и размером компании?\n",
        "\n",
        "\n",
        "На каждый вопрос необходимо ответить с уровнем значимости $\\alpha=0.05$."
      ]
    },
    {
      "cell_type": "markdown",
      "metadata": {
        "id": "xqjB2nBnNNkc"
      },
      "source": [
        "Ответить на эти вопросы нам помогут данные о зарплатах в сфере Data Science с указанием характеристик.\n",
        "\n",
        "Данные содержат следующие столбцы:\n",
        "*   *work year* — год, в котором была выплачена зарплата;\n",
        "*   *experience level* — опыт работы на должности в течение года со следующими возможными значениями: \\\n",
        "        - EN — Entry-level/Junior; \\\n",
        "        - MI — Mid-level/Intermediate; \\\n",
        "        - SE — Senior-level/Expert; \\\n",
        "        - EX — Executive-level/Director.\n",
        "*   *employment type* — тип трудоустройства для этой роли: \\\n",
        "        - PT — неполный рабочий день; \\\n",
        "        - FT — полный рабочий день; \\\n",
        "        - CT — контракт; \\\n",
        "        - FL — фриланс.\n",
        "*   *job title* — роль, в которой соискатель работал в течение года;\n",
        "*   *salary* — общая выплаченная валовая сумма заработной платы;\n",
        "*   *salary currency* — валюта выплачиваемой заработной платы в виде кода валюты ISO 4217;\n",
        "*   *salary in usd* — зарплата в долларах США;\n",
        "*   *employee residence* — основная страна проживания сотрудника в течение рабочего года в виде кода страны ISO 3166;\n",
        "*   *remote ratio* — общий объём работы, выполняемой удалённо: \\\n",
        "        - 0 — удалённой работы нет (менее 20 %); \\\n",
        "        - 50 — частично удалённая работа; \\\n",
        "        - 100 — полностью удалённая работа (более 80 %).\n",
        "*   *company location* — страна главного офиса работодателя или филиала по контракту в виде кода страны ISO 3166;\n",
        "*   *company size* — среднее количество людей, работавших в компании в течение года: \\\n",
        "        - S — менее 50 сотрудников (небольшая компания); \\\n",
        "        - M — от 50 до 250 сотрудников (средняя компания); \\\n",
        "        - L — более 250 сотрудников (крупная компания).\n",
        "\n",
        "Источник датасета: [\"Data Science Job Salaries\" (kaggle.com)](https://www.kaggle.com/datasets/ruchi798/data-science-job-salaries)"
      ]
    },
    {
      "cell_type": "markdown",
      "metadata": {
        "id": "_XMyOg3cgcN1"
      },
      "source": [
        "## Загрузка данных"
      ]
    },
    {
      "cell_type": "code",
      "execution_count": 215,
      "metadata": {
        "id": "2JjaPf35gyCK"
      },
      "outputs": [],
      "source": [
        "#import the libraries\n",
        "import pandas as pd, numpy as np\n",
        "\n",
        "import scipy.stats as stats\n",
        "import statsmodels.api as sm\n",
        "\n",
        "from matplotlib import pyplot as plt\n",
        "import seaborn as sns\n",
        "import plotly\n",
        "import plotly.express as px\n",
        "from plotly.subplots import make_subplots\n",
        "import plotly.graph_objects as go"
      ]
    },
    {
      "cell_type": "code",
      "execution_count": 216,
      "metadata": {
        "colab": {
          "base_uri": "https://localhost:8080/",
          "height": 206
        },
        "id": "ZPiI902dv11F",
        "outputId": "eccef1b9-a3cc-4144-a9df-a2a020abf30c"
      },
      "outputs": [
        {
          "data": {
            "text/html": [
              "<div>\n",
              "<style scoped>\n",
              "    .dataframe tbody tr th:only-of-type {\n",
              "        vertical-align: middle;\n",
              "    }\n",
              "\n",
              "    .dataframe tbody tr th {\n",
              "        vertical-align: top;\n",
              "    }\n",
              "\n",
              "    .dataframe thead th {\n",
              "        text-align: right;\n",
              "    }\n",
              "</style>\n",
              "<table border=\"1\" class=\"dataframe\">\n",
              "  <thead>\n",
              "    <tr style=\"text-align: right;\">\n",
              "      <th></th>\n",
              "      <th>work_year</th>\n",
              "      <th>experience_level</th>\n",
              "      <th>employment_type</th>\n",
              "      <th>job_title</th>\n",
              "      <th>salary</th>\n",
              "      <th>salary_currency</th>\n",
              "      <th>salary_in_usd</th>\n",
              "      <th>employee_residence</th>\n",
              "      <th>remote_ratio</th>\n",
              "      <th>company_location</th>\n",
              "      <th>company_size</th>\n",
              "    </tr>\n",
              "  </thead>\n",
              "  <tbody>\n",
              "    <tr>\n",
              "      <th>0</th>\n",
              "      <td>2020</td>\n",
              "      <td>MI</td>\n",
              "      <td>FT</td>\n",
              "      <td>Data Scientist</td>\n",
              "      <td>70000</td>\n",
              "      <td>EUR</td>\n",
              "      <td>79833</td>\n",
              "      <td>DE</td>\n",
              "      <td>0</td>\n",
              "      <td>DE</td>\n",
              "      <td>L</td>\n",
              "    </tr>\n",
              "    <tr>\n",
              "      <th>1</th>\n",
              "      <td>2020</td>\n",
              "      <td>SE</td>\n",
              "      <td>FT</td>\n",
              "      <td>Machine Learning Scientist</td>\n",
              "      <td>260000</td>\n",
              "      <td>USD</td>\n",
              "      <td>260000</td>\n",
              "      <td>JP</td>\n",
              "      <td>0</td>\n",
              "      <td>JP</td>\n",
              "      <td>S</td>\n",
              "    </tr>\n",
              "    <tr>\n",
              "      <th>2</th>\n",
              "      <td>2020</td>\n",
              "      <td>SE</td>\n",
              "      <td>FT</td>\n",
              "      <td>Big Data Engineer</td>\n",
              "      <td>85000</td>\n",
              "      <td>GBP</td>\n",
              "      <td>109024</td>\n",
              "      <td>GB</td>\n",
              "      <td>50</td>\n",
              "      <td>GB</td>\n",
              "      <td>M</td>\n",
              "    </tr>\n",
              "  </tbody>\n",
              "</table>\n",
              "</div>"
            ],
            "text/plain": [
              "   work_year experience_level employment_type                   job_title  \\\n",
              "0       2020               MI              FT              Data Scientist   \n",
              "1       2020               SE              FT  Machine Learning Scientist   \n",
              "2       2020               SE              FT           Big Data Engineer   \n",
              "\n",
              "   salary salary_currency  salary_in_usd employee_residence  remote_ratio  \\\n",
              "0   70000             EUR          79833                 DE             0   \n",
              "1  260000             USD         260000                 JP             0   \n",
              "2   85000             GBP         109024                 GB            50   \n",
              "\n",
              "  company_location company_size  \n",
              "0               DE            L  \n",
              "1               JP            S  \n",
              "2               GB            M  "
            ]
          },
          "execution_count": 216,
          "metadata": {},
          "output_type": "execute_result"
        }
      ],
      "source": [
        "#import the data set\n",
        "salaries = pd.read_csv('data/ds_salaries.csv', usecols=lambda x: x != 'Unnamed: 0')\n",
        "salaries.head(3)"
      ]
    },
    {
      "cell_type": "code",
      "execution_count": 217,
      "metadata": {
        "colab": {
          "base_uri": "https://localhost:8080/"
        },
        "id": "uLEEV6aLomOU",
        "outputId": "23314b21-aa3f-4537-94cb-be776d9427ae"
      },
      "outputs": [
        {
          "name": "stdout",
          "output_type": "stream",
          "text": [
            "Уровень значимости alpha = 0.05\n"
          ]
        }
      ],
      "source": [
        "#set significance level\n",
        "alpha = 0.05 \n",
        "print(f'Уровень значимости alpha = {alpha:.2f}')"
      ]
    },
    {
      "cell_type": "markdown",
      "metadata": {
        "id": "c9QRWWOVfV13"
      },
      "source": [
        "## Описательный Анализ Данных"
      ]
    },
    {
      "cell_type": "code",
      "execution_count": 218,
      "metadata": {
        "colab": {
          "base_uri": "https://localhost:8080/"
        },
        "id": "zkiOmlAy2XQU",
        "outputId": "88adbac3-0fd7-460c-a368-c40baff97200"
      },
      "outputs": [
        {
          "name": "stdout",
          "output_type": "stream",
          "text": [
            "<class 'pandas.core.frame.DataFrame'>\n",
            "RangeIndex: 607 entries, 0 to 606\n",
            "Data columns (total 11 columns):\n",
            " #   Column              Non-Null Count  Dtype \n",
            "---  ------              --------------  ----- \n",
            " 0   work_year           607 non-null    int64 \n",
            " 1   experience_level    607 non-null    object\n",
            " 2   employment_type     607 non-null    object\n",
            " 3   job_title           607 non-null    object\n",
            " 4   salary              607 non-null    int64 \n",
            " 5   salary_currency     607 non-null    object\n",
            " 6   salary_in_usd       607 non-null    int64 \n",
            " 7   employee_residence  607 non-null    object\n",
            " 8   remote_ratio        607 non-null    int64 \n",
            " 9   company_location    607 non-null    object\n",
            " 10  company_size        607 non-null    object\n",
            "dtypes: int64(4), object(7)\n",
            "memory usage: 52.3+ KB\n"
          ]
        }
      ],
      "source": [
        "salaries.info()"
      ]
    },
    {
      "cell_type": "markdown",
      "metadata": {
        "id": "2DSvnZuul7Za"
      },
      "source": [
        "**Вывод:** \\\n",
        "В датасете 607 записей (без пропущенных значений)."
      ]
    },
    {
      "cell_type": "markdown",
      "metadata": {},
      "source": [
        "## Преобразование Данных"
      ]
    },
    {
      "cell_type": "markdown",
      "metadata": {
        "id": "Xug87trzl7Za"
      },
      "source": [
        "Проверим данные на наличие дубликатов:"
      ]
    },
    {
      "cell_type": "code",
      "execution_count": 219,
      "metadata": {
        "colab": {
          "base_uri": "https://localhost:8080/"
        },
        "id": "As_X7I6jl7Za",
        "outputId": "3d3795b3-ab7c-4cc6-ab3d-23a4796a7b5c"
      },
      "outputs": [
        {
          "name": "stdout",
          "output_type": "stream",
          "text": [
            "Количество дубликатов: 42\n",
            "Размер таблицы после удаления дубликатов: (565, 11)\n"
          ]
        }
      ],
      "source": [
        "print(f'Количество дубликатов: {salaries[salaries.duplicated()].shape[0]}')\n",
        "\n",
        "# Удаляем дубликаты:\n",
        "salaries = salaries.drop_duplicates()\n",
        "print(f'Размер таблицы после удаления дубликатов: {salaries.shape}')"
      ]
    },
    {
      "cell_type": "markdown",
      "metadata": {},
      "source": [
        "Преобразование и удаление неинформативных признаков:"
      ]
    },
    {
      "cell_type": "code",
      "execution_count": 220,
      "metadata": {},
      "outputs": [
        {
          "name": "stdout",
          "output_type": "stream",
          "text": [
            "job_title\n",
            "Data Scientist                130\n",
            "Data Engineer                 121\n",
            "Data Analyst                   82\n",
            "Machine Learning Engineer      39\n",
            "Research Scientist             16\n",
            "Data Science Manager           12\n",
            "Data Architect                 11\n",
            "Big Data Engineer               8\n",
            "Machine Learning Scientist      8\n",
            "Principal Data Scientist        7\n",
            "Name: count, dtype: int64\n",
            "\n",
            "Количество позиций: 434\n"
          ]
        }
      ],
      "source": [
        "#find the top10 roles\n",
        "top10 = salaries['job_title'].value_counts().nlargest(10)\n",
        "print(top10)\n",
        "print()\n",
        "\n",
        "print(f'Количество позиций: {top10.sum()}')"
      ]
    },
    {
      "cell_type": "code",
      "execution_count": 221,
      "metadata": {},
      "outputs": [],
      "source": [
        "#delete any record / row with job title not in the top10\n",
        "salaries = salaries[~salaries['job_title'].isin(top10.index) == False]"
      ]
    },
    {
      "cell_type": "code",
      "execution_count": 222,
      "metadata": {},
      "outputs": [],
      "source": [
        "#encoding (OrdinalEncoder) creates the same column name, thus enconding substituted for functions instead\n",
        "\n",
        "#create a function to encode numerically the company size\n",
        "def encode_the_size(data):\n",
        "    #encode the company size by a relevant value\n",
        "    if data['company_size'] == 'S':\n",
        "        return 1\n",
        "    elif data['company_size'] == 'M':\n",
        "        return 2\n",
        "    elif data['company_size'] == 'L':\n",
        "        return 3\n",
        "    #in case of errors\n",
        "    else:\n",
        "        return 0\n",
        "\n",
        "#create a new column by applying the function\n",
        "salaries['size'] = salaries.apply(encode_the_size, axis=1)\n",
        "\n",
        "\n",
        "#create a function to encode numerically the experience level\n",
        "def encode_the_exp_level(data):\n",
        "    #encode the company size by a relevant value\n",
        "    if data['experience_level'] == 'EN':\n",
        "        return 1\n",
        "    elif data['experience_level'] == 'MI':\n",
        "        return 2\n",
        "    elif data['experience_level'] == 'SE':\n",
        "        return 3\n",
        "    elif data ['experience_level'] == 'EX':\n",
        "        return 4\n",
        "    #in case of errors\n",
        "    else:\n",
        "        return 0\n",
        "\n",
        "#create a new column by applying the function\n",
        "salaries['exp_level'] = salaries.apply(encode_the_exp_level, axis=1)\n",
        "\n",
        "\n",
        "#create a function to encode numerically the employment type \n",
        "def encode_the_employment_type(data):\n",
        "    #encode the company size by a relevant value\n",
        "    if data['employment_type'] == 'FL':\n",
        "        return 1\n",
        "    elif data['employment_type'] == 'CT':\n",
        "        return 2\n",
        "    elif data['employment_type'] == 'PT':\n",
        "        return 3\n",
        "    elif data ['employment_type'] == 'FT':\n",
        "        return 4\n",
        "    #in case of errors\n",
        "    else:\n",
        "        return 0\n",
        "\n",
        "#create a new column by applying the function\n",
        "salaries['emp_type'] = salaries.apply(encode_the_employment_type, axis=1)\n",
        "\n",
        "\n",
        "#create a function to compare the employee and company location\n",
        "def compare_location(data):\n",
        "    #if same country\n",
        "    if data['employee_residence'] == data['company_location']:\n",
        "        return 1\n",
        "    #if different country\n",
        "    else:\n",
        "        return 0\n",
        "\n",
        "#create a new column by applying the function\n",
        "salaries['location'] = salaries.apply(compare_location, axis=1)\n"
      ]
    },
    {
      "cell_type": "code",
      "execution_count": 223,
      "metadata": {},
      "outputs": [
        {
          "name": "stdout",
          "output_type": "stream",
          "text": [
            "280\n"
          ]
        }
      ],
      "source": [
        "#find the total number of positions with the same currency\n",
        "total_count = salaries[salaries['salary'] == salaries['salary_in_usd']].count()\n",
        "print(total_count.iloc[1])\n",
        "\n",
        "#delete 2x salary features and leave salary_in_usd only - only viable feature needed for analysis\n",
        "#delete all the categorical features that were converted into numerical features\n",
        "salaries = salaries.drop(['salary', 'salary_currency', 'experience_level', 'employment_type', 'company_size',\n",
        "                          'employee_residence', 'company_location'],\n",
        "                         axis=1, errors='ignore')\n",
        "\n",
        "#rename the columns\n",
        "salaries = salaries.rename(columns={'salary_in_usd': 'salary',\n",
        "                                    'size': 'company_size',\n",
        "                                    'exp_level': 'experience_level',\n",
        "                                    'emp_type': 'employment_type',\n",
        "                                    \n",
        "})"
      ]
    },
    {
      "cell_type": "markdown",
      "metadata": {},
      "source": [
        "Проверка корректности типов признаков:"
      ]
    },
    {
      "cell_type": "code",
      "execution_count": 224,
      "metadata": {},
      "outputs": [],
      "source": [
        "#convert dtype object to string\n",
        "salaries['job_title'] = salaries['job_title'].astype('string')"
      ]
    },
    {
      "cell_type": "markdown",
      "metadata": {},
      "source": [
        "Классификация признаков на числовые и категориальные:"
      ]
    },
    {
      "cell_type": "code",
      "execution_count": 225,
      "metadata": {},
      "outputs": [
        {
          "name": "stdout",
          "output_type": "stream",
          "text": [
            "Numerical Features: \n",
            " Index(['work_year', 'salary', 'remote_ratio', 'company_size',\n",
            "       'experience_level', 'employment_type', 'location'],\n",
            "      dtype='object')\n",
            "\n",
            "Categorical Features: \n",
            " Index(['job_title'], dtype='object')\n",
            "\n"
          ]
        }
      ],
      "source": [
        "numerical_only = salaries.select_dtypes(include='int64')\n",
        "print('Numerical Features: \\n', numerical_only.columns)\n",
        "print()\n",
        "\n",
        "categorical_only = salaries.select_dtypes(include='string')\n",
        "print('Categorical Features: \\n', categorical_only.columns)\n",
        "print()"
      ]
    },
    {
      "cell_type": "markdown",
      "metadata": {},
      "source": [
        "Проверим данные на наличие выбросов:"
      ]
    },
    {
      "cell_type": "code",
      "execution_count": 226,
      "metadata": {},
      "outputs": [
        {
          "name": "stdout",
          "output_type": "stream",
          "text": [
            "Число выбросов по методу Тьюки: 4\n",
            "Результирующее число записей: 430\n"
          ]
        }
      ],
      "source": [
        "#find any observations that are more than 1.5 IQR < Q1 OR 1.5 IQR > Q3 based on Tukey's Rule\n",
        "def outliers_iqr_mod(data, feature, left=1.5, right=1.5):\n",
        "    x = data[feature]\n",
        "    quartile_1, quartile_3 = x.quantile(0.25), x.quantile(0.75),\n",
        "    iqr = quartile_3 - quartile_1\n",
        "    lower_bound = quartile_1 - (iqr * left)\n",
        "    upper_bound = quartile_3 + (iqr * right)\n",
        "    outliers = data[(x < lower_bound) | (x > upper_bound)]\n",
        "    cleaned = data[(x >= lower_bound) & (x <= upper_bound)]\n",
        "    return outliers, cleaned\n",
        "\n",
        "outliers, cleaned = outliers_iqr_mod(salaries, 'salary')\n",
        "print(f'Число выбросов по методу Тьюки: {outliers.shape[0]}')\n",
        "print(f'Результирующее число записей: {cleaned.shape[0]}')"
      ]
    },
    {
      "cell_type": "code",
      "execution_count": 227,
      "metadata": {},
      "outputs": [
        {
          "name": "stdout",
          "output_type": "stream",
          "text": [
            "Вывод:\n",
            "Размер таблицы после преобразования данных: (430, 8)\n"
          ]
        }
      ],
      "source": [
        "#delete the records by index\n",
        "salaries = salaries.drop(outliers.index)\n",
        "\n",
        "print('Вывод:')\n",
        "print(f'Размер таблицы после преобразования данных: {salaries.shape}')"
      ]
    },
    {
      "cell_type": "markdown",
      "metadata": {
        "id": "6uAbyderTaNx"
      },
      "source": [
        "### Распределение Заработной Платы по Всем Позициям"
      ]
    },
    {
      "cell_type": "code",
      "execution_count": 228,
      "metadata": {},
      "outputs": [
        {
          "data": {
            "application/vnd.plotly.v1+json": {
              "config": {
                "plotlyServerURL": "https://plot.ly"
              },
              "data": [
                {
                  "alignmentgroup": "True",
                  "bingroup": "x",
                  "hovertemplate": "salary=%{x}<br>count=%{y}<extra></extra>",
                  "legendgroup": "",
                  "marker": {
                    "color": "darkcyan",
                    "pattern": {
                      "shape": ""
                    }
                  },
                  "name": "",
                  "offsetgroup": "",
                  "orientation": "v",
                  "showlegend": false,
                  "type": "histogram",
                  "x": [
                    79833,
                    260000,
                    109024,
                    150000,
                    72000,
                    35735,
                    51321,
                    40481,
                    39916,
                    85000,
                    8000,
                    41689,
                    114047,
                    43331,
                    47899,
                    42000,
                    33511,
                    70000,
                    68428,
                    46759,
                    74130,
                    250000,
                    10000,
                    138000,
                    45760,
                    106000,
                    112872,
                    76958,
                    188000,
                    105000,
                    70139,
                    6072,
                    91000,
                    54742,
                    148261,
                    38776,
                    118000,
                    120000,
                    138350,
                    110000,
                    130800,
                    21669,
                    45618,
                    62726,
                    49268,
                    190200,
                    105000,
                    91237,
                    62726,
                    42197,
                    82528,
                    53192,
                    80000,
                    140000,
                    47282,
                    28476,
                    59102,
                    80000,
                    29751,
                    75000,
                    150000,
                    62000,
                    73000,
                    51519,
                    187442,
                    115000,
                    150000,
                    30428,
                    94564,
                    45391,
                    225000,
                    50000,
                    90000,
                    200000,
                    60000,
                    50000,
                    10354,
                    151000,
                    120000,
                    9466,
                    20000,
                    49646,
                    100000,
                    90000,
                    220000,
                    80000,
                    135000,
                    240000,
                    82500,
                    100000,
                    82744,
                    62649,
                    90000,
                    150000,
                    75774,
                    13400,
                    144000,
                    119059,
                    125000,
                    28369,
                    80000,
                    150000,
                    170000,
                    82528,
                    60000,
                    235000,
                    60757,
                    2859,
                    40038,
                    81000,
                    5679,
                    22611,
                    90734,
                    26005,
                    12000,
                    4000,
                    76833,
                    74000,
                    152000,
                    21844,
                    18000,
                    174000,
                    96113,
                    147000,
                    24342,
                    54094,
                    61467,
                    37825,
                    50000,
                    160000,
                    12901,
                    200000,
                    165000,
                    20000,
                    24823,
                    56738,
                    66022,
                    5882,
                    24823,
                    88654,
                    46597,
                    116914,
                    33808,
                    56256,
                    225000,
                    87738,
                    88654,
                    135000,
                    71786,
                    16228,
                    200000,
                    180000,
                    63810,
                    46809,
                    4000,
                    21637,
                    103691,
                    80000,
                    110000,
                    165000,
                    72212,
                    36643,
                    12103,
                    96282,
                    115000,
                    90000,
                    28399,
                    93000,
                    173762,
                    185000,
                    130000,
                    63831,
                    16904,
                    66265,
                    25532,
                    93150,
                    111775,
                    28016,
                    65013,
                    72500,
                    85000,
                    77684,
                    100000,
                    58000,
                    20171,
                    112000,
                    100000,
                    69741,
                    69999,
                    94665,
                    109000,
                    51064,
                    135000,
                    155000,
                    120600,
                    130000,
                    90000,
                    170000,
                    150000,
                    102100,
                    84900,
                    136620,
                    99360,
                    117789,
                    104702,
                    146000,
                    123000,
                    52351,
                    99000,
                    116000,
                    106260,
                    126500,
                    242000,
                    200000,
                    65438,
                    39263,
                    78526,
                    52351,
                    165220,
                    45807,
                    120160,
                    90320,
                    181940,
                    132320,
                    220110,
                    160080,
                    180000,
                    120000,
                    124190,
                    130000,
                    110000,
                    170000,
                    115500,
                    112900,
                    165400,
                    132320,
                    167000,
                    243900,
                    136600,
                    109280,
                    128875,
                    93700,
                    156600,
                    108800,
                    95550,
                    113000,
                    135000,
                    161342,
                    137141,
                    167000,
                    78526,
                    65438,
                    150000,
                    211500,
                    192400,
                    90700,
                    130000,
                    61300,
                    160000,
                    138600,
                    136000,
                    58000,
                    170000,
                    189650,
                    164996,
                    132000,
                    208775,
                    147800,
                    136994,
                    101570,
                    128875,
                    93700,
                    37300,
                    164000,
                    155000,
                    124333,
                    98158,
                    87932,
                    117789,
                    215300,
                    158200,
                    209100,
                    154600,
                    115934,
                    81666,
                    175000,
                    98158,
                    183600,
                    52351,
                    180000,
                    71982,
                    45807,
                    65949,
                    49461,
                    78526,
                    58894,
                    260000,
                    63900,
                    160000,
                    112300,
                    241000,
                    159000,
                    180000,
                    80000,
                    82900,
                    100800,
                    49461,
                    140400,
                    39263,
                    43966,
                    32974,
                    87932,
                    76940,
                    104702,
                    91614,
                    65949,
                    87932,
                    43966,
                    32974,
                    98158,
                    215300,
                    76940,
                    180000,
                    80000,
                    120000,
                    105000,
                    31615,
                    54957,
                    18442,
                    162674,
                    120000,
                    144000,
                    104890,
                    100000,
                    140000,
                    135000,
                    50000,
                    220000,
                    183228,
                    91614,
                    185100,
                    220000,
                    200000,
                    120000,
                    120000,
                    65000,
                    216000,
                    210000,
                    120000,
                    230000,
                    100000,
                    100000,
                    35590,
                    100000,
                    153000,
                    58035,
                    165000,
                    93427,
                    52396,
                    62651,
                    40000,
                    87425,
                    115000,
                    86703,
                    64849,
                    120000,
                    65000,
                    71444,
                    48000,
                    152500,
                    68147,
                    122346,
                    69336,
                    20000,
                    135000,
                    78000,
                    100000,
                    85000,
                    75000,
                    214000,
                    192600,
                    266400,
                    213120,
                    141300,
                    102100,
                    115934,
                    81666,
                    206699,
                    99100,
                    130000,
                    110500,
                    99050,
                    160000,
                    205300,
                    176000,
                    144000,
                    200100,
                    145000,
                    70500,
                    205300,
                    140400,
                    175100,
                    140250,
                    116150,
                    54000,
                    65438,
                    80000,
                    210000,
                    69000,
                    150075,
                    25000,
                    126500,
                    106260,
                    220110,
                    160080,
                    105000,
                    110925,
                    45807,
                    60000,
                    192564,
                    144854,
                    150000,
                    160000,
                    130000,
                    67000,
                    52000,
                    154000,
                    126000,
                    129000,
                    150000
                  ],
                  "xaxis": "x",
                  "yaxis": "y"
                },
                {
                  "alignmentgroup": "True",
                  "hovertemplate": "salary=%{x}<extra></extra>",
                  "legendgroup": "",
                  "marker": {
                    "color": "darkcyan"
                  },
                  "name": "",
                  "notched": true,
                  "offsetgroup": "",
                  "showlegend": false,
                  "type": "box",
                  "x": [
                    79833,
                    260000,
                    109024,
                    150000,
                    72000,
                    35735,
                    51321,
                    40481,
                    39916,
                    85000,
                    8000,
                    41689,
                    114047,
                    43331,
                    47899,
                    42000,
                    33511,
                    70000,
                    68428,
                    46759,
                    74130,
                    250000,
                    10000,
                    138000,
                    45760,
                    106000,
                    112872,
                    76958,
                    188000,
                    105000,
                    70139,
                    6072,
                    91000,
                    54742,
                    148261,
                    38776,
                    118000,
                    120000,
                    138350,
                    110000,
                    130800,
                    21669,
                    45618,
                    62726,
                    49268,
                    190200,
                    105000,
                    91237,
                    62726,
                    42197,
                    82528,
                    53192,
                    80000,
                    140000,
                    47282,
                    28476,
                    59102,
                    80000,
                    29751,
                    75000,
                    150000,
                    62000,
                    73000,
                    51519,
                    187442,
                    115000,
                    150000,
                    30428,
                    94564,
                    45391,
                    225000,
                    50000,
                    90000,
                    200000,
                    60000,
                    50000,
                    10354,
                    151000,
                    120000,
                    9466,
                    20000,
                    49646,
                    100000,
                    90000,
                    220000,
                    80000,
                    135000,
                    240000,
                    82500,
                    100000,
                    82744,
                    62649,
                    90000,
                    150000,
                    75774,
                    13400,
                    144000,
                    119059,
                    125000,
                    28369,
                    80000,
                    150000,
                    170000,
                    82528,
                    60000,
                    235000,
                    60757,
                    2859,
                    40038,
                    81000,
                    5679,
                    22611,
                    90734,
                    26005,
                    12000,
                    4000,
                    76833,
                    74000,
                    152000,
                    21844,
                    18000,
                    174000,
                    96113,
                    147000,
                    24342,
                    54094,
                    61467,
                    37825,
                    50000,
                    160000,
                    12901,
                    200000,
                    165000,
                    20000,
                    24823,
                    56738,
                    66022,
                    5882,
                    24823,
                    88654,
                    46597,
                    116914,
                    33808,
                    56256,
                    225000,
                    87738,
                    88654,
                    135000,
                    71786,
                    16228,
                    200000,
                    180000,
                    63810,
                    46809,
                    4000,
                    21637,
                    103691,
                    80000,
                    110000,
                    165000,
                    72212,
                    36643,
                    12103,
                    96282,
                    115000,
                    90000,
                    28399,
                    93000,
                    173762,
                    185000,
                    130000,
                    63831,
                    16904,
                    66265,
                    25532,
                    93150,
                    111775,
                    28016,
                    65013,
                    72500,
                    85000,
                    77684,
                    100000,
                    58000,
                    20171,
                    112000,
                    100000,
                    69741,
                    69999,
                    94665,
                    109000,
                    51064,
                    135000,
                    155000,
                    120600,
                    130000,
                    90000,
                    170000,
                    150000,
                    102100,
                    84900,
                    136620,
                    99360,
                    117789,
                    104702,
                    146000,
                    123000,
                    52351,
                    99000,
                    116000,
                    106260,
                    126500,
                    242000,
                    200000,
                    65438,
                    39263,
                    78526,
                    52351,
                    165220,
                    45807,
                    120160,
                    90320,
                    181940,
                    132320,
                    220110,
                    160080,
                    180000,
                    120000,
                    124190,
                    130000,
                    110000,
                    170000,
                    115500,
                    112900,
                    165400,
                    132320,
                    167000,
                    243900,
                    136600,
                    109280,
                    128875,
                    93700,
                    156600,
                    108800,
                    95550,
                    113000,
                    135000,
                    161342,
                    137141,
                    167000,
                    78526,
                    65438,
                    150000,
                    211500,
                    192400,
                    90700,
                    130000,
                    61300,
                    160000,
                    138600,
                    136000,
                    58000,
                    170000,
                    189650,
                    164996,
                    132000,
                    208775,
                    147800,
                    136994,
                    101570,
                    128875,
                    93700,
                    37300,
                    164000,
                    155000,
                    124333,
                    98158,
                    87932,
                    117789,
                    215300,
                    158200,
                    209100,
                    154600,
                    115934,
                    81666,
                    175000,
                    98158,
                    183600,
                    52351,
                    180000,
                    71982,
                    45807,
                    65949,
                    49461,
                    78526,
                    58894,
                    260000,
                    63900,
                    160000,
                    112300,
                    241000,
                    159000,
                    180000,
                    80000,
                    82900,
                    100800,
                    49461,
                    140400,
                    39263,
                    43966,
                    32974,
                    87932,
                    76940,
                    104702,
                    91614,
                    65949,
                    87932,
                    43966,
                    32974,
                    98158,
                    215300,
                    76940,
                    180000,
                    80000,
                    120000,
                    105000,
                    31615,
                    54957,
                    18442,
                    162674,
                    120000,
                    144000,
                    104890,
                    100000,
                    140000,
                    135000,
                    50000,
                    220000,
                    183228,
                    91614,
                    185100,
                    220000,
                    200000,
                    120000,
                    120000,
                    65000,
                    216000,
                    210000,
                    120000,
                    230000,
                    100000,
                    100000,
                    35590,
                    100000,
                    153000,
                    58035,
                    165000,
                    93427,
                    52396,
                    62651,
                    40000,
                    87425,
                    115000,
                    86703,
                    64849,
                    120000,
                    65000,
                    71444,
                    48000,
                    152500,
                    68147,
                    122346,
                    69336,
                    20000,
                    135000,
                    78000,
                    100000,
                    85000,
                    75000,
                    214000,
                    192600,
                    266400,
                    213120,
                    141300,
                    102100,
                    115934,
                    81666,
                    206699,
                    99100,
                    130000,
                    110500,
                    99050,
                    160000,
                    205300,
                    176000,
                    144000,
                    200100,
                    145000,
                    70500,
                    205300,
                    140400,
                    175100,
                    140250,
                    116150,
                    54000,
                    65438,
                    80000,
                    210000,
                    69000,
                    150075,
                    25000,
                    126500,
                    106260,
                    220110,
                    160080,
                    105000,
                    110925,
                    45807,
                    60000,
                    192564,
                    144854,
                    150000,
                    160000,
                    130000,
                    67000,
                    52000,
                    154000,
                    126000,
                    129000,
                    150000
                  ],
                  "xaxis": "x2",
                  "yaxis": "y2"
                }
              ],
              "layout": {
                "barmode": "relative",
                "height": 600,
                "legend": {
                  "tracegroupgap": 0
                },
                "template": {
                  "data": {
                    "bar": [
                      {
                        "error_x": {
                          "color": "#2a3f5f"
                        },
                        "error_y": {
                          "color": "#2a3f5f"
                        },
                        "marker": {
                          "line": {
                            "color": "#E5ECF6",
                            "width": 0.5
                          },
                          "pattern": {
                            "fillmode": "overlay",
                            "size": 10,
                            "solidity": 0.2
                          }
                        },
                        "type": "bar"
                      }
                    ],
                    "barpolar": [
                      {
                        "marker": {
                          "line": {
                            "color": "#E5ECF6",
                            "width": 0.5
                          },
                          "pattern": {
                            "fillmode": "overlay",
                            "size": 10,
                            "solidity": 0.2
                          }
                        },
                        "type": "barpolar"
                      }
                    ],
                    "carpet": [
                      {
                        "aaxis": {
                          "endlinecolor": "#2a3f5f",
                          "gridcolor": "white",
                          "linecolor": "white",
                          "minorgridcolor": "white",
                          "startlinecolor": "#2a3f5f"
                        },
                        "baxis": {
                          "endlinecolor": "#2a3f5f",
                          "gridcolor": "white",
                          "linecolor": "white",
                          "minorgridcolor": "white",
                          "startlinecolor": "#2a3f5f"
                        },
                        "type": "carpet"
                      }
                    ],
                    "choropleth": [
                      {
                        "colorbar": {
                          "outlinewidth": 0,
                          "ticks": ""
                        },
                        "type": "choropleth"
                      }
                    ],
                    "contour": [
                      {
                        "colorbar": {
                          "outlinewidth": 0,
                          "ticks": ""
                        },
                        "colorscale": [
                          [
                            0,
                            "#0d0887"
                          ],
                          [
                            0.1111111111111111,
                            "#46039f"
                          ],
                          [
                            0.2222222222222222,
                            "#7201a8"
                          ],
                          [
                            0.3333333333333333,
                            "#9c179e"
                          ],
                          [
                            0.4444444444444444,
                            "#bd3786"
                          ],
                          [
                            0.5555555555555556,
                            "#d8576b"
                          ],
                          [
                            0.6666666666666666,
                            "#ed7953"
                          ],
                          [
                            0.7777777777777778,
                            "#fb9f3a"
                          ],
                          [
                            0.8888888888888888,
                            "#fdca26"
                          ],
                          [
                            1,
                            "#f0f921"
                          ]
                        ],
                        "type": "contour"
                      }
                    ],
                    "contourcarpet": [
                      {
                        "colorbar": {
                          "outlinewidth": 0,
                          "ticks": ""
                        },
                        "type": "contourcarpet"
                      }
                    ],
                    "heatmap": [
                      {
                        "colorbar": {
                          "outlinewidth": 0,
                          "ticks": ""
                        },
                        "colorscale": [
                          [
                            0,
                            "#0d0887"
                          ],
                          [
                            0.1111111111111111,
                            "#46039f"
                          ],
                          [
                            0.2222222222222222,
                            "#7201a8"
                          ],
                          [
                            0.3333333333333333,
                            "#9c179e"
                          ],
                          [
                            0.4444444444444444,
                            "#bd3786"
                          ],
                          [
                            0.5555555555555556,
                            "#d8576b"
                          ],
                          [
                            0.6666666666666666,
                            "#ed7953"
                          ],
                          [
                            0.7777777777777778,
                            "#fb9f3a"
                          ],
                          [
                            0.8888888888888888,
                            "#fdca26"
                          ],
                          [
                            1,
                            "#f0f921"
                          ]
                        ],
                        "type": "heatmap"
                      }
                    ],
                    "heatmapgl": [
                      {
                        "colorbar": {
                          "outlinewidth": 0,
                          "ticks": ""
                        },
                        "colorscale": [
                          [
                            0,
                            "#0d0887"
                          ],
                          [
                            0.1111111111111111,
                            "#46039f"
                          ],
                          [
                            0.2222222222222222,
                            "#7201a8"
                          ],
                          [
                            0.3333333333333333,
                            "#9c179e"
                          ],
                          [
                            0.4444444444444444,
                            "#bd3786"
                          ],
                          [
                            0.5555555555555556,
                            "#d8576b"
                          ],
                          [
                            0.6666666666666666,
                            "#ed7953"
                          ],
                          [
                            0.7777777777777778,
                            "#fb9f3a"
                          ],
                          [
                            0.8888888888888888,
                            "#fdca26"
                          ],
                          [
                            1,
                            "#f0f921"
                          ]
                        ],
                        "type": "heatmapgl"
                      }
                    ],
                    "histogram": [
                      {
                        "marker": {
                          "pattern": {
                            "fillmode": "overlay",
                            "size": 10,
                            "solidity": 0.2
                          }
                        },
                        "type": "histogram"
                      }
                    ],
                    "histogram2d": [
                      {
                        "colorbar": {
                          "outlinewidth": 0,
                          "ticks": ""
                        },
                        "colorscale": [
                          [
                            0,
                            "#0d0887"
                          ],
                          [
                            0.1111111111111111,
                            "#46039f"
                          ],
                          [
                            0.2222222222222222,
                            "#7201a8"
                          ],
                          [
                            0.3333333333333333,
                            "#9c179e"
                          ],
                          [
                            0.4444444444444444,
                            "#bd3786"
                          ],
                          [
                            0.5555555555555556,
                            "#d8576b"
                          ],
                          [
                            0.6666666666666666,
                            "#ed7953"
                          ],
                          [
                            0.7777777777777778,
                            "#fb9f3a"
                          ],
                          [
                            0.8888888888888888,
                            "#fdca26"
                          ],
                          [
                            1,
                            "#f0f921"
                          ]
                        ],
                        "type": "histogram2d"
                      }
                    ],
                    "histogram2dcontour": [
                      {
                        "colorbar": {
                          "outlinewidth": 0,
                          "ticks": ""
                        },
                        "colorscale": [
                          [
                            0,
                            "#0d0887"
                          ],
                          [
                            0.1111111111111111,
                            "#46039f"
                          ],
                          [
                            0.2222222222222222,
                            "#7201a8"
                          ],
                          [
                            0.3333333333333333,
                            "#9c179e"
                          ],
                          [
                            0.4444444444444444,
                            "#bd3786"
                          ],
                          [
                            0.5555555555555556,
                            "#d8576b"
                          ],
                          [
                            0.6666666666666666,
                            "#ed7953"
                          ],
                          [
                            0.7777777777777778,
                            "#fb9f3a"
                          ],
                          [
                            0.8888888888888888,
                            "#fdca26"
                          ],
                          [
                            1,
                            "#f0f921"
                          ]
                        ],
                        "type": "histogram2dcontour"
                      }
                    ],
                    "mesh3d": [
                      {
                        "colorbar": {
                          "outlinewidth": 0,
                          "ticks": ""
                        },
                        "type": "mesh3d"
                      }
                    ],
                    "parcoords": [
                      {
                        "line": {
                          "colorbar": {
                            "outlinewidth": 0,
                            "ticks": ""
                          }
                        },
                        "type": "parcoords"
                      }
                    ],
                    "pie": [
                      {
                        "automargin": true,
                        "type": "pie"
                      }
                    ],
                    "scatter": [
                      {
                        "fillpattern": {
                          "fillmode": "overlay",
                          "size": 10,
                          "solidity": 0.2
                        },
                        "type": "scatter"
                      }
                    ],
                    "scatter3d": [
                      {
                        "line": {
                          "colorbar": {
                            "outlinewidth": 0,
                            "ticks": ""
                          }
                        },
                        "marker": {
                          "colorbar": {
                            "outlinewidth": 0,
                            "ticks": ""
                          }
                        },
                        "type": "scatter3d"
                      }
                    ],
                    "scattercarpet": [
                      {
                        "marker": {
                          "colorbar": {
                            "outlinewidth": 0,
                            "ticks": ""
                          }
                        },
                        "type": "scattercarpet"
                      }
                    ],
                    "scattergeo": [
                      {
                        "marker": {
                          "colorbar": {
                            "outlinewidth": 0,
                            "ticks": ""
                          }
                        },
                        "type": "scattergeo"
                      }
                    ],
                    "scattergl": [
                      {
                        "marker": {
                          "colorbar": {
                            "outlinewidth": 0,
                            "ticks": ""
                          }
                        },
                        "type": "scattergl"
                      }
                    ],
                    "scattermapbox": [
                      {
                        "marker": {
                          "colorbar": {
                            "outlinewidth": 0,
                            "ticks": ""
                          }
                        },
                        "type": "scattermapbox"
                      }
                    ],
                    "scatterpolar": [
                      {
                        "marker": {
                          "colorbar": {
                            "outlinewidth": 0,
                            "ticks": ""
                          }
                        },
                        "type": "scatterpolar"
                      }
                    ],
                    "scatterpolargl": [
                      {
                        "marker": {
                          "colorbar": {
                            "outlinewidth": 0,
                            "ticks": ""
                          }
                        },
                        "type": "scatterpolargl"
                      }
                    ],
                    "scatterternary": [
                      {
                        "marker": {
                          "colorbar": {
                            "outlinewidth": 0,
                            "ticks": ""
                          }
                        },
                        "type": "scatterternary"
                      }
                    ],
                    "surface": [
                      {
                        "colorbar": {
                          "outlinewidth": 0,
                          "ticks": ""
                        },
                        "colorscale": [
                          [
                            0,
                            "#0d0887"
                          ],
                          [
                            0.1111111111111111,
                            "#46039f"
                          ],
                          [
                            0.2222222222222222,
                            "#7201a8"
                          ],
                          [
                            0.3333333333333333,
                            "#9c179e"
                          ],
                          [
                            0.4444444444444444,
                            "#bd3786"
                          ],
                          [
                            0.5555555555555556,
                            "#d8576b"
                          ],
                          [
                            0.6666666666666666,
                            "#ed7953"
                          ],
                          [
                            0.7777777777777778,
                            "#fb9f3a"
                          ],
                          [
                            0.8888888888888888,
                            "#fdca26"
                          ],
                          [
                            1,
                            "#f0f921"
                          ]
                        ],
                        "type": "surface"
                      }
                    ],
                    "table": [
                      {
                        "cells": {
                          "fill": {
                            "color": "#EBF0F8"
                          },
                          "line": {
                            "color": "white"
                          }
                        },
                        "header": {
                          "fill": {
                            "color": "#C8D4E3"
                          },
                          "line": {
                            "color": "white"
                          }
                        },
                        "type": "table"
                      }
                    ]
                  },
                  "layout": {
                    "annotationdefaults": {
                      "arrowcolor": "#2a3f5f",
                      "arrowhead": 0,
                      "arrowwidth": 1
                    },
                    "autotypenumbers": "strict",
                    "coloraxis": {
                      "colorbar": {
                        "outlinewidth": 0,
                        "ticks": ""
                      }
                    },
                    "colorscale": {
                      "diverging": [
                        [
                          0,
                          "#8e0152"
                        ],
                        [
                          0.1,
                          "#c51b7d"
                        ],
                        [
                          0.2,
                          "#de77ae"
                        ],
                        [
                          0.3,
                          "#f1b6da"
                        ],
                        [
                          0.4,
                          "#fde0ef"
                        ],
                        [
                          0.5,
                          "#f7f7f7"
                        ],
                        [
                          0.6,
                          "#e6f5d0"
                        ],
                        [
                          0.7,
                          "#b8e186"
                        ],
                        [
                          0.8,
                          "#7fbc41"
                        ],
                        [
                          0.9,
                          "#4d9221"
                        ],
                        [
                          1,
                          "#276419"
                        ]
                      ],
                      "sequential": [
                        [
                          0,
                          "#0d0887"
                        ],
                        [
                          0.1111111111111111,
                          "#46039f"
                        ],
                        [
                          0.2222222222222222,
                          "#7201a8"
                        ],
                        [
                          0.3333333333333333,
                          "#9c179e"
                        ],
                        [
                          0.4444444444444444,
                          "#bd3786"
                        ],
                        [
                          0.5555555555555556,
                          "#d8576b"
                        ],
                        [
                          0.6666666666666666,
                          "#ed7953"
                        ],
                        [
                          0.7777777777777778,
                          "#fb9f3a"
                        ],
                        [
                          0.8888888888888888,
                          "#fdca26"
                        ],
                        [
                          1,
                          "#f0f921"
                        ]
                      ],
                      "sequentialminus": [
                        [
                          0,
                          "#0d0887"
                        ],
                        [
                          0.1111111111111111,
                          "#46039f"
                        ],
                        [
                          0.2222222222222222,
                          "#7201a8"
                        ],
                        [
                          0.3333333333333333,
                          "#9c179e"
                        ],
                        [
                          0.4444444444444444,
                          "#bd3786"
                        ],
                        [
                          0.5555555555555556,
                          "#d8576b"
                        ],
                        [
                          0.6666666666666666,
                          "#ed7953"
                        ],
                        [
                          0.7777777777777778,
                          "#fb9f3a"
                        ],
                        [
                          0.8888888888888888,
                          "#fdca26"
                        ],
                        [
                          1,
                          "#f0f921"
                        ]
                      ]
                    },
                    "colorway": [
                      "#636efa",
                      "#EF553B",
                      "#00cc96",
                      "#ab63fa",
                      "#FFA15A",
                      "#19d3f3",
                      "#FF6692",
                      "#B6E880",
                      "#FF97FF",
                      "#FECB52"
                    ],
                    "font": {
                      "color": "#2a3f5f"
                    },
                    "geo": {
                      "bgcolor": "white",
                      "lakecolor": "white",
                      "landcolor": "#E5ECF6",
                      "showlakes": true,
                      "showland": true,
                      "subunitcolor": "white"
                    },
                    "hoverlabel": {
                      "align": "left"
                    },
                    "hovermode": "closest",
                    "mapbox": {
                      "style": "light"
                    },
                    "paper_bgcolor": "white",
                    "plot_bgcolor": "#E5ECF6",
                    "polar": {
                      "angularaxis": {
                        "gridcolor": "white",
                        "linecolor": "white",
                        "ticks": ""
                      },
                      "bgcolor": "#E5ECF6",
                      "radialaxis": {
                        "gridcolor": "white",
                        "linecolor": "white",
                        "ticks": ""
                      }
                    },
                    "scene": {
                      "xaxis": {
                        "backgroundcolor": "#E5ECF6",
                        "gridcolor": "white",
                        "gridwidth": 2,
                        "linecolor": "white",
                        "showbackground": true,
                        "ticks": "",
                        "zerolinecolor": "white"
                      },
                      "yaxis": {
                        "backgroundcolor": "#E5ECF6",
                        "gridcolor": "white",
                        "gridwidth": 2,
                        "linecolor": "white",
                        "showbackground": true,
                        "ticks": "",
                        "zerolinecolor": "white"
                      },
                      "zaxis": {
                        "backgroundcolor": "#E5ECF6",
                        "gridcolor": "white",
                        "gridwidth": 2,
                        "linecolor": "white",
                        "showbackground": true,
                        "ticks": "",
                        "zerolinecolor": "white"
                      }
                    },
                    "shapedefaults": {
                      "line": {
                        "color": "#2a3f5f"
                      }
                    },
                    "ternary": {
                      "aaxis": {
                        "gridcolor": "white",
                        "linecolor": "white",
                        "ticks": ""
                      },
                      "baxis": {
                        "gridcolor": "white",
                        "linecolor": "white",
                        "ticks": ""
                      },
                      "bgcolor": "#E5ECF6",
                      "caxis": {
                        "gridcolor": "white",
                        "linecolor": "white",
                        "ticks": ""
                      }
                    },
                    "title": {
                      "x": 0.05
                    },
                    "xaxis": {
                      "automargin": true,
                      "gridcolor": "white",
                      "linecolor": "white",
                      "ticks": "",
                      "title": {
                        "standoff": 15
                      },
                      "zerolinecolor": "white",
                      "zerolinewidth": 2
                    },
                    "yaxis": {
                      "automargin": true,
                      "gridcolor": "white",
                      "linecolor": "white",
                      "ticks": "",
                      "title": {
                        "standoff": 15
                      },
                      "zerolinecolor": "white",
                      "zerolinewidth": 2
                    }
                  }
                },
                "title": {
                  "text": "Распределение Заработной Платы по Всем Позициям"
                },
                "width": 1100,
                "xaxis": {
                  "anchor": "y",
                  "domain": [
                    0,
                    1
                  ],
                  "title": {
                    "text": "Заработная Плата"
                  }
                },
                "xaxis2": {
                  "anchor": "y2",
                  "domain": [
                    0,
                    1
                  ],
                  "matches": "x",
                  "showgrid": true,
                  "showticklabels": false
                },
                "yaxis": {
                  "anchor": "x",
                  "domain": [
                    0,
                    0.8316
                  ],
                  "title": {
                    "text": "Количество"
                  }
                },
                "yaxis2": {
                  "anchor": "x2",
                  "domain": [
                    0.8416,
                    1
                  ],
                  "matches": "y2",
                  "showgrid": false,
                  "showline": false,
                  "showticklabels": false,
                  "ticks": ""
                }
              }
            }
          },
          "metadata": {},
          "output_type": "display_data"
        }
      ],
      "source": [
        "#create side by side histogram and boxplot under feature 'Зарплата'\n",
        "#set primary chart: histogram\n",
        "fig = px.histogram(\n",
        "    data_frame=salaries,\n",
        "    x='salary',\n",
        "    #set secondary chart: boxplot\n",
        "    marginal='box',\n",
        "    width=1100,\n",
        "    height=600,\n",
        "    color_discrete_sequence=['darkcyan'],\n",
        "    title='Распределение Заработной Платы по Всем Позициям',\n",
        ")\n",
        "\n",
        "#set the title of the y-axis\n",
        "fig.update_layout(\n",
        "    xaxis_title='Заработная Плата',\n",
        "    yaxis_title_text='Количество',\n",
        ")\n",
        "\n",
        "fig.show()"
      ]
    },
    {
      "cell_type": "code",
      "execution_count": 229,
      "metadata": {
        "colab": {
          "base_uri": "https://localhost:8080/",
          "height": 300
        },
        "id": "h4rqfECm4umv",
        "outputId": "3edbc181-1016-488d-ef8c-6dfc5dbbfee1"
      },
      "outputs": [
        {
          "data": {
            "text/html": [
              "<div>\n",
              "<style scoped>\n",
              "    .dataframe tbody tr th:only-of-type {\n",
              "        vertical-align: middle;\n",
              "    }\n",
              "\n",
              "    .dataframe tbody tr th {\n",
              "        vertical-align: top;\n",
              "    }\n",
              "\n",
              "    .dataframe thead th {\n",
              "        text-align: right;\n",
              "    }\n",
              "</style>\n",
              "<table border=\"1\" class=\"dataframe\">\n",
              "  <thead>\n",
              "    <tr style=\"text-align: right;\">\n",
              "      <th></th>\n",
              "      <th>Размер Заработной Платы</th>\n",
              "    </tr>\n",
              "  </thead>\n",
              "  <tbody>\n",
              "    <tr>\n",
              "      <th>count</th>\n",
              "      <td>430.00</td>\n",
              "    </tr>\n",
              "    <tr>\n",
              "      <th>mean</th>\n",
              "      <td>105197.50</td>\n",
              "    </tr>\n",
              "    <tr>\n",
              "      <th>std</th>\n",
              "      <td>57371.77</td>\n",
              "    </tr>\n",
              "    <tr>\n",
              "      <th>min</th>\n",
              "      <td>2859.00</td>\n",
              "    </tr>\n",
              "    <tr>\n",
              "      <th>25%</th>\n",
              "      <td>62162.25</td>\n",
              "    </tr>\n",
              "    <tr>\n",
              "      <th>50%</th>\n",
              "      <td>99680.00</td>\n",
              "    </tr>\n",
              "    <tr>\n",
              "      <th>75%</th>\n",
              "      <td>144000.00</td>\n",
              "    </tr>\n",
              "    <tr>\n",
              "      <th>max</th>\n",
              "      <td>266400.00</td>\n",
              "    </tr>\n",
              "  </tbody>\n",
              "</table>\n",
              "</div>"
            ],
            "text/plain": [
              "       Размер Заработной Платы\n",
              "count                   430.00\n",
              "mean                 105197.50\n",
              "std                   57371.77\n",
              "min                    2859.00\n",
              "25%                   62162.25\n",
              "50%                   99680.00\n",
              "75%                  144000.00\n",
              "max                  266400.00"
            ]
          },
          "metadata": {},
          "output_type": "display_data"
        },
        {
          "name": "stdout",
          "output_type": "stream",
          "text": [
            "mode: [100000, 120000, 150000]\n"
          ]
        }
      ],
      "source": [
        "data_agg = salaries['salary'].describe().round(2).to_frame()\n",
        "data_agg.columns = ['Размер Заработной Платы']\n",
        "display(data_agg)\n",
        "print(f\"mode: {salaries['salary'].agg(lambda x: x.mode().tolist())}\")"
      ]
    },
    {
      "cell_type": "markdown",
      "metadata": {
        "id": "fHrGH7w56m5c"
      },
      "source": [
        "**Вывод:** \\\n",
        "Судя по гистограмме и коробчатой диаграмме распределение заработной платы является слегка асимметричным, с перекосом влево. \\\n",
        "Распределение считается гауссовским, если среднее значение, медиана и мода идентичны: центральная тенденция распределение зарплат несильно отличается друг от друга, но все же необходим дополнительный статистический анализ."
      ]
    },
    {
      "cell_type": "markdown",
      "metadata": {},
      "source": [
        "### Наблюдается ли ежегодный рост зарплат у специалистов Data Scientist?\n"
      ]
    },
    {
      "cell_type": "code",
      "execution_count": 230,
      "metadata": {},
      "outputs": [
        {
          "data": {
            "text/html": [
              "<div>\n",
              "<style scoped>\n",
              "    .dataframe tbody tr th:only-of-type {\n",
              "        vertical-align: middle;\n",
              "    }\n",
              "\n",
              "    .dataframe tbody tr th {\n",
              "        vertical-align: top;\n",
              "    }\n",
              "\n",
              "    .dataframe thead th {\n",
              "        text-align: right;\n",
              "    }\n",
              "</style>\n",
              "<table border=\"1\" class=\"dataframe\">\n",
              "  <thead>\n",
              "    <tr style=\"text-align: right;\">\n",
              "      <th></th>\n",
              "      <th>work_year</th>\n",
              "      <th>job_title</th>\n",
              "      <th>salary</th>\n",
              "      <th>remote_ratio</th>\n",
              "      <th>company_size</th>\n",
              "      <th>experience_level</th>\n",
              "      <th>employment_type</th>\n",
              "      <th>location</th>\n",
              "    </tr>\n",
              "  </thead>\n",
              "  <tbody>\n",
              "    <tr>\n",
              "      <th>0</th>\n",
              "      <td>2020</td>\n",
              "      <td>Data Scientist</td>\n",
              "      <td>79833</td>\n",
              "      <td>0</td>\n",
              "      <td>3</td>\n",
              "      <td>2</td>\n",
              "      <td>4</td>\n",
              "      <td>1</td>\n",
              "    </tr>\n",
              "    <tr>\n",
              "      <th>7</th>\n",
              "      <td>2020</td>\n",
              "      <td>Data Scientist</td>\n",
              "      <td>35735</td>\n",
              "      <td>50</td>\n",
              "      <td>3</td>\n",
              "      <td>2</td>\n",
              "      <td>4</td>\n",
              "      <td>1</td>\n",
              "    </tr>\n",
              "    <tr>\n",
              "      <th>10</th>\n",
              "      <td>2020</td>\n",
              "      <td>Data Scientist</td>\n",
              "      <td>51321</td>\n",
              "      <td>0</td>\n",
              "      <td>1</td>\n",
              "      <td>1</td>\n",
              "      <td>4</td>\n",
              "      <td>1</td>\n",
              "    </tr>\n",
              "  </tbody>\n",
              "</table>\n",
              "</div>"
            ],
            "text/plain": [
              "    work_year       job_title  salary  remote_ratio  company_size  \\\n",
              "0        2020  Data Scientist   79833             0             3   \n",
              "7        2020  Data Scientist   35735            50             3   \n",
              "10       2020  Data Scientist   51321             0             1   \n",
              "\n",
              "    experience_level  employment_type  location  \n",
              "0                  2                4         1  \n",
              "7                  2                4         1  \n",
              "10                 1                4         1  "
            ]
          },
          "execution_count": 230,
          "metadata": {},
          "output_type": "execute_result"
        }
      ],
      "source": [
        "#filter by job title\n",
        "ds_salary = salaries[salaries['job_title'] == 'Data Scientist']\n",
        "ds_salary.head(3)"
      ]
    },
    {
      "cell_type": "code",
      "execution_count": 231,
      "metadata": {},
      "outputs": [
        {
          "name": "stderr",
          "output_type": "stream",
          "text": [
            "/Library/Frameworks/Python.framework/Versions/3.10/lib/python3.10/site-packages/plotly/express/_core.py:2065: FutureWarning:\n",
            "\n",
            "When grouping with a length-1 list-like, you will need to pass a length-1 tuple to get_group in a future version of pandas. Pass `(name,)` instead of `name` to silence this warning.\n",
            "\n"
          ]
        },
        {
          "data": {
            "application/vnd.plotly.v1+json": {
              "config": {
                "plotlyServerURL": "https://plot.ly"
              },
              "data": [
                {
                  "alignmentgroup": "True",
                  "hovertemplate": "work_year=%{y}<br>salary=%{x}<extra></extra>",
                  "legendgroup": "2020",
                  "marker": {
                    "color": "#636efa"
                  },
                  "name": "2020",
                  "notched": false,
                  "offsetgroup": "2020",
                  "orientation": "h",
                  "showlegend": true,
                  "type": "box",
                  "x": [
                    79833,
                    35735,
                    51321,
                    40481,
                    39916,
                    68428,
                    45760,
                    76958,
                    105000,
                    38776,
                    118000,
                    120000,
                    138350,
                    21669,
                    62726,
                    49268,
                    105000,
                    91237,
                    62726,
                    42197
                  ],
                  "x0": " ",
                  "xaxis": "x",
                  "y": [
                    2020,
                    2020,
                    2020,
                    2020,
                    2020,
                    2020,
                    2020,
                    2020,
                    2020,
                    2020,
                    2020,
                    2020,
                    2020,
                    2020,
                    2020,
                    2020,
                    2020,
                    2020,
                    2020,
                    2020
                  ],
                  "y0": " ",
                  "yaxis": "y"
                },
                {
                  "alignmentgroup": "True",
                  "hovertemplate": "work_year=%{y}<br>salary=%{x}<extra></extra>",
                  "legendgroup": "2021",
                  "marker": {
                    "color": "#EF553B"
                  },
                  "name": "2021",
                  "notched": false,
                  "offsetgroup": "2021",
                  "orientation": "h",
                  "showlegend": true,
                  "type": "box",
                  "x": [
                    53192,
                    29751,
                    73000,
                    50000,
                    9466,
                    49646,
                    100000,
                    80000,
                    82500,
                    150000,
                    75774,
                    13400,
                    119059,
                    2859,
                    40038,
                    5679,
                    90734,
                    147000,
                    61467,
                    37825,
                    160000,
                    12901,
                    116914,
                    33808,
                    56256,
                    87738,
                    88654,
                    135000,
                    46809,
                    4000,
                    103691,
                    165000,
                    36643,
                    115000,
                    90000,
                    28399,
                    130000,
                    16904,
                    25532,
                    77684,
                    100000,
                    58000,
                    20171,
                    109000
                  ],
                  "x0": " ",
                  "xaxis": "x",
                  "y": [
                    2021,
                    2021,
                    2021,
                    2021,
                    2021,
                    2021,
                    2021,
                    2021,
                    2021,
                    2021,
                    2021,
                    2021,
                    2021,
                    2021,
                    2021,
                    2021,
                    2021,
                    2021,
                    2021,
                    2021,
                    2021,
                    2021,
                    2021,
                    2021,
                    2021,
                    2021,
                    2021,
                    2021,
                    2021,
                    2021,
                    2021,
                    2021,
                    2021,
                    2021,
                    2021,
                    2021,
                    2021,
                    2021,
                    2021,
                    2021,
                    2021,
                    2021,
                    2021,
                    2021
                  ],
                  "y0": " ",
                  "yaxis": "y"
                },
                {
                  "alignmentgroup": "True",
                  "hovertemplate": "work_year=%{y}<br>salary=%{x}<extra></extra>",
                  "legendgroup": "2022",
                  "marker": {
                    "color": "#00cc96"
                  },
                  "name": "2022",
                  "notched": false,
                  "offsetgroup": "2022",
                  "orientation": "h",
                  "showlegend": true,
                  "type": "box",
                  "x": [
                    130000,
                    90000,
                    136620,
                    99360,
                    117789,
                    104702,
                    146000,
                    123000,
                    65438,
                    39263,
                    165220,
                    120160,
                    180000,
                    120000,
                    95550,
                    167000,
                    150000,
                    211500,
                    138600,
                    170000,
                    215300,
                    158200,
                    180000,
                    71982,
                    45807,
                    260000,
                    180000,
                    80000,
                    140400,
                    215300,
                    31615,
                    18442,
                    104890,
                    140000,
                    220000,
                    183228,
                    91614,
                    185100,
                    200000,
                    120000,
                    230000,
                    100000,
                    100000,
                    35590,
                    100000,
                    165000,
                    52396,
                    40000,
                    86703,
                    48000,
                    122346,
                    69336,
                    135000,
                    78000,
                    141300,
                    102100,
                    205300,
                    176000,
                    144000,
                    205300,
                    140400,
                    210000,
                    150000,
                    160000,
                    130000
                  ],
                  "x0": " ",
                  "xaxis": "x",
                  "y": [
                    2022,
                    2022,
                    2022,
                    2022,
                    2022,
                    2022,
                    2022,
                    2022,
                    2022,
                    2022,
                    2022,
                    2022,
                    2022,
                    2022,
                    2022,
                    2022,
                    2022,
                    2022,
                    2022,
                    2022,
                    2022,
                    2022,
                    2022,
                    2022,
                    2022,
                    2022,
                    2022,
                    2022,
                    2022,
                    2022,
                    2022,
                    2022,
                    2022,
                    2022,
                    2022,
                    2022,
                    2022,
                    2022,
                    2022,
                    2022,
                    2022,
                    2022,
                    2022,
                    2022,
                    2022,
                    2022,
                    2022,
                    2022,
                    2022,
                    2022,
                    2022,
                    2022,
                    2022,
                    2022,
                    2022,
                    2022,
                    2022,
                    2022,
                    2022,
                    2022,
                    2022,
                    2022,
                    2022,
                    2022,
                    2022
                  ],
                  "y0": " ",
                  "yaxis": "y"
                }
              ],
              "layout": {
                "boxmode": "overlay",
                "legend": {
                  "title": {
                    "text": "work_year"
                  },
                  "tracegroupgap": 0
                },
                "showlegend": false,
                "template": {
                  "data": {
                    "bar": [
                      {
                        "error_x": {
                          "color": "#2a3f5f"
                        },
                        "error_y": {
                          "color": "#2a3f5f"
                        },
                        "marker": {
                          "line": {
                            "color": "#E5ECF6",
                            "width": 0.5
                          },
                          "pattern": {
                            "fillmode": "overlay",
                            "size": 10,
                            "solidity": 0.2
                          }
                        },
                        "type": "bar"
                      }
                    ],
                    "barpolar": [
                      {
                        "marker": {
                          "line": {
                            "color": "#E5ECF6",
                            "width": 0.5
                          },
                          "pattern": {
                            "fillmode": "overlay",
                            "size": 10,
                            "solidity": 0.2
                          }
                        },
                        "type": "barpolar"
                      }
                    ],
                    "carpet": [
                      {
                        "aaxis": {
                          "endlinecolor": "#2a3f5f",
                          "gridcolor": "white",
                          "linecolor": "white",
                          "minorgridcolor": "white",
                          "startlinecolor": "#2a3f5f"
                        },
                        "baxis": {
                          "endlinecolor": "#2a3f5f",
                          "gridcolor": "white",
                          "linecolor": "white",
                          "minorgridcolor": "white",
                          "startlinecolor": "#2a3f5f"
                        },
                        "type": "carpet"
                      }
                    ],
                    "choropleth": [
                      {
                        "colorbar": {
                          "outlinewidth": 0,
                          "ticks": ""
                        },
                        "type": "choropleth"
                      }
                    ],
                    "contour": [
                      {
                        "colorbar": {
                          "outlinewidth": 0,
                          "ticks": ""
                        },
                        "colorscale": [
                          [
                            0,
                            "#0d0887"
                          ],
                          [
                            0.1111111111111111,
                            "#46039f"
                          ],
                          [
                            0.2222222222222222,
                            "#7201a8"
                          ],
                          [
                            0.3333333333333333,
                            "#9c179e"
                          ],
                          [
                            0.4444444444444444,
                            "#bd3786"
                          ],
                          [
                            0.5555555555555556,
                            "#d8576b"
                          ],
                          [
                            0.6666666666666666,
                            "#ed7953"
                          ],
                          [
                            0.7777777777777778,
                            "#fb9f3a"
                          ],
                          [
                            0.8888888888888888,
                            "#fdca26"
                          ],
                          [
                            1,
                            "#f0f921"
                          ]
                        ],
                        "type": "contour"
                      }
                    ],
                    "contourcarpet": [
                      {
                        "colorbar": {
                          "outlinewidth": 0,
                          "ticks": ""
                        },
                        "type": "contourcarpet"
                      }
                    ],
                    "heatmap": [
                      {
                        "colorbar": {
                          "outlinewidth": 0,
                          "ticks": ""
                        },
                        "colorscale": [
                          [
                            0,
                            "#0d0887"
                          ],
                          [
                            0.1111111111111111,
                            "#46039f"
                          ],
                          [
                            0.2222222222222222,
                            "#7201a8"
                          ],
                          [
                            0.3333333333333333,
                            "#9c179e"
                          ],
                          [
                            0.4444444444444444,
                            "#bd3786"
                          ],
                          [
                            0.5555555555555556,
                            "#d8576b"
                          ],
                          [
                            0.6666666666666666,
                            "#ed7953"
                          ],
                          [
                            0.7777777777777778,
                            "#fb9f3a"
                          ],
                          [
                            0.8888888888888888,
                            "#fdca26"
                          ],
                          [
                            1,
                            "#f0f921"
                          ]
                        ],
                        "type": "heatmap"
                      }
                    ],
                    "heatmapgl": [
                      {
                        "colorbar": {
                          "outlinewidth": 0,
                          "ticks": ""
                        },
                        "colorscale": [
                          [
                            0,
                            "#0d0887"
                          ],
                          [
                            0.1111111111111111,
                            "#46039f"
                          ],
                          [
                            0.2222222222222222,
                            "#7201a8"
                          ],
                          [
                            0.3333333333333333,
                            "#9c179e"
                          ],
                          [
                            0.4444444444444444,
                            "#bd3786"
                          ],
                          [
                            0.5555555555555556,
                            "#d8576b"
                          ],
                          [
                            0.6666666666666666,
                            "#ed7953"
                          ],
                          [
                            0.7777777777777778,
                            "#fb9f3a"
                          ],
                          [
                            0.8888888888888888,
                            "#fdca26"
                          ],
                          [
                            1,
                            "#f0f921"
                          ]
                        ],
                        "type": "heatmapgl"
                      }
                    ],
                    "histogram": [
                      {
                        "marker": {
                          "pattern": {
                            "fillmode": "overlay",
                            "size": 10,
                            "solidity": 0.2
                          }
                        },
                        "type": "histogram"
                      }
                    ],
                    "histogram2d": [
                      {
                        "colorbar": {
                          "outlinewidth": 0,
                          "ticks": ""
                        },
                        "colorscale": [
                          [
                            0,
                            "#0d0887"
                          ],
                          [
                            0.1111111111111111,
                            "#46039f"
                          ],
                          [
                            0.2222222222222222,
                            "#7201a8"
                          ],
                          [
                            0.3333333333333333,
                            "#9c179e"
                          ],
                          [
                            0.4444444444444444,
                            "#bd3786"
                          ],
                          [
                            0.5555555555555556,
                            "#d8576b"
                          ],
                          [
                            0.6666666666666666,
                            "#ed7953"
                          ],
                          [
                            0.7777777777777778,
                            "#fb9f3a"
                          ],
                          [
                            0.8888888888888888,
                            "#fdca26"
                          ],
                          [
                            1,
                            "#f0f921"
                          ]
                        ],
                        "type": "histogram2d"
                      }
                    ],
                    "histogram2dcontour": [
                      {
                        "colorbar": {
                          "outlinewidth": 0,
                          "ticks": ""
                        },
                        "colorscale": [
                          [
                            0,
                            "#0d0887"
                          ],
                          [
                            0.1111111111111111,
                            "#46039f"
                          ],
                          [
                            0.2222222222222222,
                            "#7201a8"
                          ],
                          [
                            0.3333333333333333,
                            "#9c179e"
                          ],
                          [
                            0.4444444444444444,
                            "#bd3786"
                          ],
                          [
                            0.5555555555555556,
                            "#d8576b"
                          ],
                          [
                            0.6666666666666666,
                            "#ed7953"
                          ],
                          [
                            0.7777777777777778,
                            "#fb9f3a"
                          ],
                          [
                            0.8888888888888888,
                            "#fdca26"
                          ],
                          [
                            1,
                            "#f0f921"
                          ]
                        ],
                        "type": "histogram2dcontour"
                      }
                    ],
                    "mesh3d": [
                      {
                        "colorbar": {
                          "outlinewidth": 0,
                          "ticks": ""
                        },
                        "type": "mesh3d"
                      }
                    ],
                    "parcoords": [
                      {
                        "line": {
                          "colorbar": {
                            "outlinewidth": 0,
                            "ticks": ""
                          }
                        },
                        "type": "parcoords"
                      }
                    ],
                    "pie": [
                      {
                        "automargin": true,
                        "type": "pie"
                      }
                    ],
                    "scatter": [
                      {
                        "fillpattern": {
                          "fillmode": "overlay",
                          "size": 10,
                          "solidity": 0.2
                        },
                        "type": "scatter"
                      }
                    ],
                    "scatter3d": [
                      {
                        "line": {
                          "colorbar": {
                            "outlinewidth": 0,
                            "ticks": ""
                          }
                        },
                        "marker": {
                          "colorbar": {
                            "outlinewidth": 0,
                            "ticks": ""
                          }
                        },
                        "type": "scatter3d"
                      }
                    ],
                    "scattercarpet": [
                      {
                        "marker": {
                          "colorbar": {
                            "outlinewidth": 0,
                            "ticks": ""
                          }
                        },
                        "type": "scattercarpet"
                      }
                    ],
                    "scattergeo": [
                      {
                        "marker": {
                          "colorbar": {
                            "outlinewidth": 0,
                            "ticks": ""
                          }
                        },
                        "type": "scattergeo"
                      }
                    ],
                    "scattergl": [
                      {
                        "marker": {
                          "colorbar": {
                            "outlinewidth": 0,
                            "ticks": ""
                          }
                        },
                        "type": "scattergl"
                      }
                    ],
                    "scattermapbox": [
                      {
                        "marker": {
                          "colorbar": {
                            "outlinewidth": 0,
                            "ticks": ""
                          }
                        },
                        "type": "scattermapbox"
                      }
                    ],
                    "scatterpolar": [
                      {
                        "marker": {
                          "colorbar": {
                            "outlinewidth": 0,
                            "ticks": ""
                          }
                        },
                        "type": "scatterpolar"
                      }
                    ],
                    "scatterpolargl": [
                      {
                        "marker": {
                          "colorbar": {
                            "outlinewidth": 0,
                            "ticks": ""
                          }
                        },
                        "type": "scatterpolargl"
                      }
                    ],
                    "scatterternary": [
                      {
                        "marker": {
                          "colorbar": {
                            "outlinewidth": 0,
                            "ticks": ""
                          }
                        },
                        "type": "scatterternary"
                      }
                    ],
                    "surface": [
                      {
                        "colorbar": {
                          "outlinewidth": 0,
                          "ticks": ""
                        },
                        "colorscale": [
                          [
                            0,
                            "#0d0887"
                          ],
                          [
                            0.1111111111111111,
                            "#46039f"
                          ],
                          [
                            0.2222222222222222,
                            "#7201a8"
                          ],
                          [
                            0.3333333333333333,
                            "#9c179e"
                          ],
                          [
                            0.4444444444444444,
                            "#bd3786"
                          ],
                          [
                            0.5555555555555556,
                            "#d8576b"
                          ],
                          [
                            0.6666666666666666,
                            "#ed7953"
                          ],
                          [
                            0.7777777777777778,
                            "#fb9f3a"
                          ],
                          [
                            0.8888888888888888,
                            "#fdca26"
                          ],
                          [
                            1,
                            "#f0f921"
                          ]
                        ],
                        "type": "surface"
                      }
                    ],
                    "table": [
                      {
                        "cells": {
                          "fill": {
                            "color": "#EBF0F8"
                          },
                          "line": {
                            "color": "white"
                          }
                        },
                        "header": {
                          "fill": {
                            "color": "#C8D4E3"
                          },
                          "line": {
                            "color": "white"
                          }
                        },
                        "type": "table"
                      }
                    ]
                  },
                  "layout": {
                    "annotationdefaults": {
                      "arrowcolor": "#2a3f5f",
                      "arrowhead": 0,
                      "arrowwidth": 1
                    },
                    "autotypenumbers": "strict",
                    "coloraxis": {
                      "colorbar": {
                        "outlinewidth": 0,
                        "ticks": ""
                      }
                    },
                    "colorscale": {
                      "diverging": [
                        [
                          0,
                          "#8e0152"
                        ],
                        [
                          0.1,
                          "#c51b7d"
                        ],
                        [
                          0.2,
                          "#de77ae"
                        ],
                        [
                          0.3,
                          "#f1b6da"
                        ],
                        [
                          0.4,
                          "#fde0ef"
                        ],
                        [
                          0.5,
                          "#f7f7f7"
                        ],
                        [
                          0.6,
                          "#e6f5d0"
                        ],
                        [
                          0.7,
                          "#b8e186"
                        ],
                        [
                          0.8,
                          "#7fbc41"
                        ],
                        [
                          0.9,
                          "#4d9221"
                        ],
                        [
                          1,
                          "#276419"
                        ]
                      ],
                      "sequential": [
                        [
                          0,
                          "#0d0887"
                        ],
                        [
                          0.1111111111111111,
                          "#46039f"
                        ],
                        [
                          0.2222222222222222,
                          "#7201a8"
                        ],
                        [
                          0.3333333333333333,
                          "#9c179e"
                        ],
                        [
                          0.4444444444444444,
                          "#bd3786"
                        ],
                        [
                          0.5555555555555556,
                          "#d8576b"
                        ],
                        [
                          0.6666666666666666,
                          "#ed7953"
                        ],
                        [
                          0.7777777777777778,
                          "#fb9f3a"
                        ],
                        [
                          0.8888888888888888,
                          "#fdca26"
                        ],
                        [
                          1,
                          "#f0f921"
                        ]
                      ],
                      "sequentialminus": [
                        [
                          0,
                          "#0d0887"
                        ],
                        [
                          0.1111111111111111,
                          "#46039f"
                        ],
                        [
                          0.2222222222222222,
                          "#7201a8"
                        ],
                        [
                          0.3333333333333333,
                          "#9c179e"
                        ],
                        [
                          0.4444444444444444,
                          "#bd3786"
                        ],
                        [
                          0.5555555555555556,
                          "#d8576b"
                        ],
                        [
                          0.6666666666666666,
                          "#ed7953"
                        ],
                        [
                          0.7777777777777778,
                          "#fb9f3a"
                        ],
                        [
                          0.8888888888888888,
                          "#fdca26"
                        ],
                        [
                          1,
                          "#f0f921"
                        ]
                      ]
                    },
                    "colorway": [
                      "#636efa",
                      "#EF553B",
                      "#00cc96",
                      "#ab63fa",
                      "#FFA15A",
                      "#19d3f3",
                      "#FF6692",
                      "#B6E880",
                      "#FF97FF",
                      "#FECB52"
                    ],
                    "font": {
                      "color": "#2a3f5f"
                    },
                    "geo": {
                      "bgcolor": "white",
                      "lakecolor": "white",
                      "landcolor": "#E5ECF6",
                      "showlakes": true,
                      "showland": true,
                      "subunitcolor": "white"
                    },
                    "hoverlabel": {
                      "align": "left"
                    },
                    "hovermode": "closest",
                    "mapbox": {
                      "style": "light"
                    },
                    "paper_bgcolor": "white",
                    "plot_bgcolor": "#E5ECF6",
                    "polar": {
                      "angularaxis": {
                        "gridcolor": "white",
                        "linecolor": "white",
                        "ticks": ""
                      },
                      "bgcolor": "#E5ECF6",
                      "radialaxis": {
                        "gridcolor": "white",
                        "linecolor": "white",
                        "ticks": ""
                      }
                    },
                    "scene": {
                      "xaxis": {
                        "backgroundcolor": "#E5ECF6",
                        "gridcolor": "white",
                        "gridwidth": 2,
                        "linecolor": "white",
                        "showbackground": true,
                        "ticks": "",
                        "zerolinecolor": "white"
                      },
                      "yaxis": {
                        "backgroundcolor": "#E5ECF6",
                        "gridcolor": "white",
                        "gridwidth": 2,
                        "linecolor": "white",
                        "showbackground": true,
                        "ticks": "",
                        "zerolinecolor": "white"
                      },
                      "zaxis": {
                        "backgroundcolor": "#E5ECF6",
                        "gridcolor": "white",
                        "gridwidth": 2,
                        "linecolor": "white",
                        "showbackground": true,
                        "ticks": "",
                        "zerolinecolor": "white"
                      }
                    },
                    "shapedefaults": {
                      "line": {
                        "color": "#2a3f5f"
                      }
                    },
                    "ternary": {
                      "aaxis": {
                        "gridcolor": "white",
                        "linecolor": "white",
                        "ticks": ""
                      },
                      "baxis": {
                        "gridcolor": "white",
                        "linecolor": "white",
                        "ticks": ""
                      },
                      "bgcolor": "#E5ECF6",
                      "caxis": {
                        "gridcolor": "white",
                        "linecolor": "white",
                        "ticks": ""
                      }
                    },
                    "title": {
                      "x": 0.05
                    },
                    "xaxis": {
                      "automargin": true,
                      "gridcolor": "white",
                      "linecolor": "white",
                      "ticks": "",
                      "title": {
                        "standoff": 15
                      },
                      "zerolinecolor": "white",
                      "zerolinewidth": 2
                    },
                    "yaxis": {
                      "automargin": true,
                      "gridcolor": "white",
                      "linecolor": "white",
                      "ticks": "",
                      "title": {
                        "standoff": 15
                      },
                      "zerolinecolor": "white",
                      "zerolinewidth": 2
                    }
                  }
                },
                "title": {
                  "text": "Распределение Заработной Платы для Data Scientists"
                },
                "xaxis": {
                  "anchor": "y",
                  "domain": [
                    0,
                    1
                  ],
                  "title": {
                    "text": "Заработная Плата"
                  }
                },
                "yaxis": {
                  "anchor": "x",
                  "categoryarray": [
                    2022,
                    2021,
                    2020
                  ],
                  "categoryorder": "array",
                  "domain": [
                    0,
                    1
                  ],
                  "title": {
                    "text": "Год"
                  }
                }
              }
            }
          },
          "metadata": {},
          "output_type": "display_data"
        }
      ],
      "source": [
        "#create a boxplot\n",
        "fig = px.box(\n",
        "    data_frame=ds_salary,\n",
        "    x='salary',\n",
        "    y='work_year',\n",
        "    color='work_year',\n",
        "    #set horizontal orientation\n",
        "    orientation='h',\n",
        "    title='Распределение Заработной Платы для Data Scientists',\n",
        ")\n",
        "#set the title of the axis\n",
        "fig.update_layout(\n",
        "   xaxis_title_text='Заработная Плата',\n",
        "   yaxis_title_text='Год',\n",
        "   showlegend=False\n",
        ")\n",
        "\n",
        "fig.show()"
      ]
    },
    {
      "cell_type": "code",
      "execution_count": 232,
      "metadata": {},
      "outputs": [
        {
          "name": "stdout",
          "output_type": "stream",
          "text": [
            "Распределение Заработной Платы для Data Scientists\n"
          ]
        },
        {
          "data": {
            "text/html": [
              "<div>\n",
              "<style scoped>\n",
              "    .dataframe tbody tr th:only-of-type {\n",
              "        vertical-align: middle;\n",
              "    }\n",
              "\n",
              "    .dataframe tbody tr th {\n",
              "        vertical-align: top;\n",
              "    }\n",
              "\n",
              "    .dataframe thead th {\n",
              "        text-align: right;\n",
              "    }\n",
              "</style>\n",
              "<table border=\"1\" class=\"dataframe\">\n",
              "  <thead>\n",
              "    <tr style=\"text-align: right;\">\n",
              "      <th></th>\n",
              "      <th>count</th>\n",
              "      <th>mean</th>\n",
              "      <th>std</th>\n",
              "      <th>min</th>\n",
              "      <th>25%</th>\n",
              "      <th>50%</th>\n",
              "      <th>75%</th>\n",
              "      <th>max</th>\n",
              "    </tr>\n",
              "    <tr>\n",
              "      <th>work_year</th>\n",
              "      <th></th>\n",
              "      <th></th>\n",
              "      <th></th>\n",
              "      <th></th>\n",
              "      <th></th>\n",
              "      <th></th>\n",
              "      <th></th>\n",
              "      <th></th>\n",
              "    </tr>\n",
              "  </thead>\n",
              "  <tbody>\n",
              "    <tr>\n",
              "      <th>2020</th>\n",
              "      <td>20.0</td>\n",
              "      <td>69669.05</td>\n",
              "      <td>33268.11</td>\n",
              "      <td>21669.0</td>\n",
              "      <td>41768.00</td>\n",
              "      <td>62726.0</td>\n",
              "      <td>94677.75</td>\n",
              "      <td>138350.0</td>\n",
              "    </tr>\n",
              "    <tr>\n",
              "      <th>2021</th>\n",
              "      <td>44.0</td>\n",
              "      <td>70215.77</td>\n",
              "      <td>45843.82</td>\n",
              "      <td>2859.0</td>\n",
              "      <td>32793.75</td>\n",
              "      <td>67233.5</td>\n",
              "      <td>100922.75</td>\n",
              "      <td>165000.0</td>\n",
              "    </tr>\n",
              "    <tr>\n",
              "      <th>2022</th>\n",
              "      <td>65.0</td>\n",
              "      <td>131366.94</td>\n",
              "      <td>55785.24</td>\n",
              "      <td>18442.0</td>\n",
              "      <td>95550.00</td>\n",
              "      <td>135000.0</td>\n",
              "      <td>170000.00</td>\n",
              "      <td>260000.0</td>\n",
              "    </tr>\n",
              "  </tbody>\n",
              "</table>\n",
              "</div>"
            ],
            "text/plain": [
              "           count       mean       std      min       25%       50%        75%  \\\n",
              "work_year                                                                       \n",
              "2020        20.0   69669.05  33268.11  21669.0  41768.00   62726.0   94677.75   \n",
              "2021        44.0   70215.77  45843.82   2859.0  32793.75   67233.5  100922.75   \n",
              "2022        65.0  131366.94  55785.24  18442.0  95550.00  135000.0  170000.00   \n",
              "\n",
              "                max  \n",
              "work_year            \n",
              "2020       138350.0  \n",
              "2021       165000.0  \n",
              "2022       260000.0  "
            ]
          },
          "execution_count": 232,
          "metadata": {},
          "output_type": "execute_result"
        }
      ],
      "source": [
        "data_agg = ds_salary.groupby('work_year')['salary'].describe().round(2)\n",
        "print('Распределение Заработной Платы для Data Scientists')\n",
        "data_agg"
      ]
    },
    {
      "cell_type": "markdown",
      "metadata": {},
      "source": [
        "**Вывод:** \\\n",
        "Коробчатая диаграмма показывает разницу в заработной плате год на год со значительным ростом в 2022 году. \\\n",
        "Однако, чтобы определить, являются ли эти различия статистически значимыми необходимо статистическое тестирование."
      ]
    },
    {
      "cell_type": "markdown",
      "metadata": {
        "id": "cFABAmBjTkCo"
      },
      "source": [
        "### Как соотносятся зарплаты Data Scientist и Data Engineer в 2022 году?"
      ]
    },
    {
      "cell_type": "code",
      "execution_count": 233,
      "metadata": {},
      "outputs": [
        {
          "data": {
            "text/html": [
              "<div>\n",
              "<style scoped>\n",
              "    .dataframe tbody tr th:only-of-type {\n",
              "        vertical-align: middle;\n",
              "    }\n",
              "\n",
              "    .dataframe tbody tr th {\n",
              "        vertical-align: top;\n",
              "    }\n",
              "\n",
              "    .dataframe thead th {\n",
              "        text-align: right;\n",
              "    }\n",
              "</style>\n",
              "<table border=\"1\" class=\"dataframe\">\n",
              "  <thead>\n",
              "    <tr style=\"text-align: right;\">\n",
              "      <th></th>\n",
              "      <th>work_year</th>\n",
              "      <th>job_title</th>\n",
              "      <th>salary</th>\n",
              "      <th>remote_ratio</th>\n",
              "      <th>company_size</th>\n",
              "      <th>experience_level</th>\n",
              "      <th>employment_type</th>\n",
              "      <th>location</th>\n",
              "    </tr>\n",
              "  </thead>\n",
              "  <tbody>\n",
              "    <tr>\n",
              "      <th>289</th>\n",
              "      <td>2022</td>\n",
              "      <td>Data Engineer</td>\n",
              "      <td>135000</td>\n",
              "      <td>100</td>\n",
              "      <td>2</td>\n",
              "      <td>3</td>\n",
              "      <td>4</td>\n",
              "      <td>1</td>\n",
              "    </tr>\n",
              "    <tr>\n",
              "      <th>292</th>\n",
              "      <td>2022</td>\n",
              "      <td>Data Scientist</td>\n",
              "      <td>130000</td>\n",
              "      <td>0</td>\n",
              "      <td>2</td>\n",
              "      <td>2</td>\n",
              "      <td>4</td>\n",
              "      <td>1</td>\n",
              "    </tr>\n",
              "    <tr>\n",
              "      <th>293</th>\n",
              "      <td>2022</td>\n",
              "      <td>Data Scientist</td>\n",
              "      <td>90000</td>\n",
              "      <td>0</td>\n",
              "      <td>2</td>\n",
              "      <td>2</td>\n",
              "      <td>4</td>\n",
              "      <td>1</td>\n",
              "    </tr>\n",
              "  </tbody>\n",
              "</table>\n",
              "</div>"
            ],
            "text/plain": [
              "     work_year       job_title  salary  remote_ratio  company_size  \\\n",
              "289       2022   Data Engineer  135000           100             2   \n",
              "292       2022  Data Scientist  130000             0             2   \n",
              "293       2022  Data Scientist   90000             0             2   \n",
              "\n",
              "     experience_level  employment_type  location  \n",
              "289                 3                4         1  \n",
              "292                 2                4         1  \n",
              "293                 2                4         1  "
            ]
          },
          "execution_count": 233,
          "metadata": {},
          "output_type": "execute_result"
        }
      ],
      "source": [
        "#filter by year and job title\n",
        "salary_by_year = salaries[(salaries['work_year'] == 2022) & ((salaries['job_title'] == 'Data Scientist') | (salaries['job_title'] == 'Data Engineer'))]\n",
        "salary_by_year.head(3)"
      ]
    },
    {
      "cell_type": "code",
      "execution_count": 234,
      "metadata": {},
      "outputs": [
        {
          "name": "stderr",
          "output_type": "stream",
          "text": [
            "/Library/Frameworks/Python.framework/Versions/3.10/lib/python3.10/site-packages/plotly/express/_core.py:2065: FutureWarning:\n",
            "\n",
            "When grouping with a length-1 list-like, you will need to pass a length-1 tuple to get_group in a future version of pandas. Pass `(name,)` instead of `name` to silence this warning.\n",
            "\n"
          ]
        },
        {
          "data": {
            "application/vnd.plotly.v1+json": {
              "config": {
                "plotlyServerURL": "https://plot.ly"
              },
              "data": [
                {
                  "alignmentgroup": "True",
                  "hovertemplate": "job_title=%{y}<br>salary=%{x}<extra></extra>",
                  "legendgroup": "Data Engineer",
                  "marker": {
                    "color": "#636efa"
                  },
                  "name": "Data Engineer",
                  "notched": false,
                  "offsetgroup": "Data Engineer",
                  "orientation": "h",
                  "showlegend": true,
                  "type": "box",
                  "x": [
                    135000,
                    170000,
                    150000,
                    52351,
                    242000,
                    200000,
                    78526,
                    52351,
                    45807,
                    181940,
                    132320,
                    220110,
                    160080,
                    165400,
                    132320,
                    243900,
                    128875,
                    93700,
                    156600,
                    108800,
                    113000,
                    78526,
                    65438,
                    160000,
                    136000,
                    136994,
                    101570,
                    155000,
                    117789,
                    209100,
                    154600,
                    175000,
                    98158,
                    183600,
                    65949,
                    49461,
                    78526,
                    58894,
                    63900,
                    82900,
                    100800,
                    49461,
                    87932,
                    76940,
                    104702,
                    91614,
                    65949,
                    87932,
                    98158,
                    76940,
                    180000,
                    80000,
                    105000,
                    54957,
                    120000,
                    100000,
                    216000,
                    210000,
                    58035,
                    115000,
                    65000,
                    68147,
                    206699,
                    99100,
                    130000,
                    110500,
                    160000,
                    200100,
                    145000,
                    70500,
                    175100,
                    140250,
                    54000,
                    25000,
                    220110,
                    160080,
                    154000,
                    126000
                  ],
                  "x0": " ",
                  "xaxis": "x",
                  "y": [
                    "Data Engineer",
                    "Data Engineer",
                    "Data Engineer",
                    "Data Engineer",
                    "Data Engineer",
                    "Data Engineer",
                    "Data Engineer",
                    "Data Engineer",
                    "Data Engineer",
                    "Data Engineer",
                    "Data Engineer",
                    "Data Engineer",
                    "Data Engineer",
                    "Data Engineer",
                    "Data Engineer",
                    "Data Engineer",
                    "Data Engineer",
                    "Data Engineer",
                    "Data Engineer",
                    "Data Engineer",
                    "Data Engineer",
                    "Data Engineer",
                    "Data Engineer",
                    "Data Engineer",
                    "Data Engineer",
                    "Data Engineer",
                    "Data Engineer",
                    "Data Engineer",
                    "Data Engineer",
                    "Data Engineer",
                    "Data Engineer",
                    "Data Engineer",
                    "Data Engineer",
                    "Data Engineer",
                    "Data Engineer",
                    "Data Engineer",
                    "Data Engineer",
                    "Data Engineer",
                    "Data Engineer",
                    "Data Engineer",
                    "Data Engineer",
                    "Data Engineer",
                    "Data Engineer",
                    "Data Engineer",
                    "Data Engineer",
                    "Data Engineer",
                    "Data Engineer",
                    "Data Engineer",
                    "Data Engineer",
                    "Data Engineer",
                    "Data Engineer",
                    "Data Engineer",
                    "Data Engineer",
                    "Data Engineer",
                    "Data Engineer",
                    "Data Engineer",
                    "Data Engineer",
                    "Data Engineer",
                    "Data Engineer",
                    "Data Engineer",
                    "Data Engineer",
                    "Data Engineer",
                    "Data Engineer",
                    "Data Engineer",
                    "Data Engineer",
                    "Data Engineer",
                    "Data Engineer",
                    "Data Engineer",
                    "Data Engineer",
                    "Data Engineer",
                    "Data Engineer",
                    "Data Engineer",
                    "Data Engineer",
                    "Data Engineer",
                    "Data Engineer",
                    "Data Engineer",
                    "Data Engineer",
                    "Data Engineer"
                  ],
                  "y0": " ",
                  "yaxis": "y"
                },
                {
                  "alignmentgroup": "True",
                  "hovertemplate": "job_title=%{y}<br>salary=%{x}<extra></extra>",
                  "legendgroup": "Data Scientist",
                  "marker": {
                    "color": "#EF553B"
                  },
                  "name": "Data Scientist",
                  "notched": false,
                  "offsetgroup": "Data Scientist",
                  "orientation": "h",
                  "showlegend": true,
                  "type": "box",
                  "x": [
                    130000,
                    90000,
                    136620,
                    99360,
                    117789,
                    104702,
                    146000,
                    123000,
                    65438,
                    39263,
                    165220,
                    120160,
                    180000,
                    120000,
                    95550,
                    167000,
                    150000,
                    211500,
                    138600,
                    170000,
                    215300,
                    158200,
                    180000,
                    71982,
                    45807,
                    260000,
                    180000,
                    80000,
                    140400,
                    215300,
                    31615,
                    18442,
                    104890,
                    140000,
                    220000,
                    183228,
                    91614,
                    185100,
                    200000,
                    120000,
                    230000,
                    100000,
                    100000,
                    35590,
                    100000,
                    165000,
                    52396,
                    40000,
                    86703,
                    48000,
                    122346,
                    69336,
                    135000,
                    78000,
                    141300,
                    102100,
                    205300,
                    176000,
                    144000,
                    205300,
                    140400,
                    210000,
                    150000,
                    160000,
                    130000
                  ],
                  "x0": " ",
                  "xaxis": "x",
                  "y": [
                    "Data Scientist",
                    "Data Scientist",
                    "Data Scientist",
                    "Data Scientist",
                    "Data Scientist",
                    "Data Scientist",
                    "Data Scientist",
                    "Data Scientist",
                    "Data Scientist",
                    "Data Scientist",
                    "Data Scientist",
                    "Data Scientist",
                    "Data Scientist",
                    "Data Scientist",
                    "Data Scientist",
                    "Data Scientist",
                    "Data Scientist",
                    "Data Scientist",
                    "Data Scientist",
                    "Data Scientist",
                    "Data Scientist",
                    "Data Scientist",
                    "Data Scientist",
                    "Data Scientist",
                    "Data Scientist",
                    "Data Scientist",
                    "Data Scientist",
                    "Data Scientist",
                    "Data Scientist",
                    "Data Scientist",
                    "Data Scientist",
                    "Data Scientist",
                    "Data Scientist",
                    "Data Scientist",
                    "Data Scientist",
                    "Data Scientist",
                    "Data Scientist",
                    "Data Scientist",
                    "Data Scientist",
                    "Data Scientist",
                    "Data Scientist",
                    "Data Scientist",
                    "Data Scientist",
                    "Data Scientist",
                    "Data Scientist",
                    "Data Scientist",
                    "Data Scientist",
                    "Data Scientist",
                    "Data Scientist",
                    "Data Scientist",
                    "Data Scientist",
                    "Data Scientist",
                    "Data Scientist",
                    "Data Scientist",
                    "Data Scientist",
                    "Data Scientist",
                    "Data Scientist",
                    "Data Scientist",
                    "Data Scientist",
                    "Data Scientist",
                    "Data Scientist",
                    "Data Scientist",
                    "Data Scientist",
                    "Data Scientist",
                    "Data Scientist"
                  ],
                  "y0": " ",
                  "yaxis": "y"
                }
              ],
              "layout": {
                "boxmode": "overlay",
                "legend": {
                  "title": {
                    "text": "job_title"
                  },
                  "tracegroupgap": 0
                },
                "showlegend": false,
                "template": {
                  "data": {
                    "bar": [
                      {
                        "error_x": {
                          "color": "#2a3f5f"
                        },
                        "error_y": {
                          "color": "#2a3f5f"
                        },
                        "marker": {
                          "line": {
                            "color": "#E5ECF6",
                            "width": 0.5
                          },
                          "pattern": {
                            "fillmode": "overlay",
                            "size": 10,
                            "solidity": 0.2
                          }
                        },
                        "type": "bar"
                      }
                    ],
                    "barpolar": [
                      {
                        "marker": {
                          "line": {
                            "color": "#E5ECF6",
                            "width": 0.5
                          },
                          "pattern": {
                            "fillmode": "overlay",
                            "size": 10,
                            "solidity": 0.2
                          }
                        },
                        "type": "barpolar"
                      }
                    ],
                    "carpet": [
                      {
                        "aaxis": {
                          "endlinecolor": "#2a3f5f",
                          "gridcolor": "white",
                          "linecolor": "white",
                          "minorgridcolor": "white",
                          "startlinecolor": "#2a3f5f"
                        },
                        "baxis": {
                          "endlinecolor": "#2a3f5f",
                          "gridcolor": "white",
                          "linecolor": "white",
                          "minorgridcolor": "white",
                          "startlinecolor": "#2a3f5f"
                        },
                        "type": "carpet"
                      }
                    ],
                    "choropleth": [
                      {
                        "colorbar": {
                          "outlinewidth": 0,
                          "ticks": ""
                        },
                        "type": "choropleth"
                      }
                    ],
                    "contour": [
                      {
                        "colorbar": {
                          "outlinewidth": 0,
                          "ticks": ""
                        },
                        "colorscale": [
                          [
                            0,
                            "#0d0887"
                          ],
                          [
                            0.1111111111111111,
                            "#46039f"
                          ],
                          [
                            0.2222222222222222,
                            "#7201a8"
                          ],
                          [
                            0.3333333333333333,
                            "#9c179e"
                          ],
                          [
                            0.4444444444444444,
                            "#bd3786"
                          ],
                          [
                            0.5555555555555556,
                            "#d8576b"
                          ],
                          [
                            0.6666666666666666,
                            "#ed7953"
                          ],
                          [
                            0.7777777777777778,
                            "#fb9f3a"
                          ],
                          [
                            0.8888888888888888,
                            "#fdca26"
                          ],
                          [
                            1,
                            "#f0f921"
                          ]
                        ],
                        "type": "contour"
                      }
                    ],
                    "contourcarpet": [
                      {
                        "colorbar": {
                          "outlinewidth": 0,
                          "ticks": ""
                        },
                        "type": "contourcarpet"
                      }
                    ],
                    "heatmap": [
                      {
                        "colorbar": {
                          "outlinewidth": 0,
                          "ticks": ""
                        },
                        "colorscale": [
                          [
                            0,
                            "#0d0887"
                          ],
                          [
                            0.1111111111111111,
                            "#46039f"
                          ],
                          [
                            0.2222222222222222,
                            "#7201a8"
                          ],
                          [
                            0.3333333333333333,
                            "#9c179e"
                          ],
                          [
                            0.4444444444444444,
                            "#bd3786"
                          ],
                          [
                            0.5555555555555556,
                            "#d8576b"
                          ],
                          [
                            0.6666666666666666,
                            "#ed7953"
                          ],
                          [
                            0.7777777777777778,
                            "#fb9f3a"
                          ],
                          [
                            0.8888888888888888,
                            "#fdca26"
                          ],
                          [
                            1,
                            "#f0f921"
                          ]
                        ],
                        "type": "heatmap"
                      }
                    ],
                    "heatmapgl": [
                      {
                        "colorbar": {
                          "outlinewidth": 0,
                          "ticks": ""
                        },
                        "colorscale": [
                          [
                            0,
                            "#0d0887"
                          ],
                          [
                            0.1111111111111111,
                            "#46039f"
                          ],
                          [
                            0.2222222222222222,
                            "#7201a8"
                          ],
                          [
                            0.3333333333333333,
                            "#9c179e"
                          ],
                          [
                            0.4444444444444444,
                            "#bd3786"
                          ],
                          [
                            0.5555555555555556,
                            "#d8576b"
                          ],
                          [
                            0.6666666666666666,
                            "#ed7953"
                          ],
                          [
                            0.7777777777777778,
                            "#fb9f3a"
                          ],
                          [
                            0.8888888888888888,
                            "#fdca26"
                          ],
                          [
                            1,
                            "#f0f921"
                          ]
                        ],
                        "type": "heatmapgl"
                      }
                    ],
                    "histogram": [
                      {
                        "marker": {
                          "pattern": {
                            "fillmode": "overlay",
                            "size": 10,
                            "solidity": 0.2
                          }
                        },
                        "type": "histogram"
                      }
                    ],
                    "histogram2d": [
                      {
                        "colorbar": {
                          "outlinewidth": 0,
                          "ticks": ""
                        },
                        "colorscale": [
                          [
                            0,
                            "#0d0887"
                          ],
                          [
                            0.1111111111111111,
                            "#46039f"
                          ],
                          [
                            0.2222222222222222,
                            "#7201a8"
                          ],
                          [
                            0.3333333333333333,
                            "#9c179e"
                          ],
                          [
                            0.4444444444444444,
                            "#bd3786"
                          ],
                          [
                            0.5555555555555556,
                            "#d8576b"
                          ],
                          [
                            0.6666666666666666,
                            "#ed7953"
                          ],
                          [
                            0.7777777777777778,
                            "#fb9f3a"
                          ],
                          [
                            0.8888888888888888,
                            "#fdca26"
                          ],
                          [
                            1,
                            "#f0f921"
                          ]
                        ],
                        "type": "histogram2d"
                      }
                    ],
                    "histogram2dcontour": [
                      {
                        "colorbar": {
                          "outlinewidth": 0,
                          "ticks": ""
                        },
                        "colorscale": [
                          [
                            0,
                            "#0d0887"
                          ],
                          [
                            0.1111111111111111,
                            "#46039f"
                          ],
                          [
                            0.2222222222222222,
                            "#7201a8"
                          ],
                          [
                            0.3333333333333333,
                            "#9c179e"
                          ],
                          [
                            0.4444444444444444,
                            "#bd3786"
                          ],
                          [
                            0.5555555555555556,
                            "#d8576b"
                          ],
                          [
                            0.6666666666666666,
                            "#ed7953"
                          ],
                          [
                            0.7777777777777778,
                            "#fb9f3a"
                          ],
                          [
                            0.8888888888888888,
                            "#fdca26"
                          ],
                          [
                            1,
                            "#f0f921"
                          ]
                        ],
                        "type": "histogram2dcontour"
                      }
                    ],
                    "mesh3d": [
                      {
                        "colorbar": {
                          "outlinewidth": 0,
                          "ticks": ""
                        },
                        "type": "mesh3d"
                      }
                    ],
                    "parcoords": [
                      {
                        "line": {
                          "colorbar": {
                            "outlinewidth": 0,
                            "ticks": ""
                          }
                        },
                        "type": "parcoords"
                      }
                    ],
                    "pie": [
                      {
                        "automargin": true,
                        "type": "pie"
                      }
                    ],
                    "scatter": [
                      {
                        "fillpattern": {
                          "fillmode": "overlay",
                          "size": 10,
                          "solidity": 0.2
                        },
                        "type": "scatter"
                      }
                    ],
                    "scatter3d": [
                      {
                        "line": {
                          "colorbar": {
                            "outlinewidth": 0,
                            "ticks": ""
                          }
                        },
                        "marker": {
                          "colorbar": {
                            "outlinewidth": 0,
                            "ticks": ""
                          }
                        },
                        "type": "scatter3d"
                      }
                    ],
                    "scattercarpet": [
                      {
                        "marker": {
                          "colorbar": {
                            "outlinewidth": 0,
                            "ticks": ""
                          }
                        },
                        "type": "scattercarpet"
                      }
                    ],
                    "scattergeo": [
                      {
                        "marker": {
                          "colorbar": {
                            "outlinewidth": 0,
                            "ticks": ""
                          }
                        },
                        "type": "scattergeo"
                      }
                    ],
                    "scattergl": [
                      {
                        "marker": {
                          "colorbar": {
                            "outlinewidth": 0,
                            "ticks": ""
                          }
                        },
                        "type": "scattergl"
                      }
                    ],
                    "scattermapbox": [
                      {
                        "marker": {
                          "colorbar": {
                            "outlinewidth": 0,
                            "ticks": ""
                          }
                        },
                        "type": "scattermapbox"
                      }
                    ],
                    "scatterpolar": [
                      {
                        "marker": {
                          "colorbar": {
                            "outlinewidth": 0,
                            "ticks": ""
                          }
                        },
                        "type": "scatterpolar"
                      }
                    ],
                    "scatterpolargl": [
                      {
                        "marker": {
                          "colorbar": {
                            "outlinewidth": 0,
                            "ticks": ""
                          }
                        },
                        "type": "scatterpolargl"
                      }
                    ],
                    "scatterternary": [
                      {
                        "marker": {
                          "colorbar": {
                            "outlinewidth": 0,
                            "ticks": ""
                          }
                        },
                        "type": "scatterternary"
                      }
                    ],
                    "surface": [
                      {
                        "colorbar": {
                          "outlinewidth": 0,
                          "ticks": ""
                        },
                        "colorscale": [
                          [
                            0,
                            "#0d0887"
                          ],
                          [
                            0.1111111111111111,
                            "#46039f"
                          ],
                          [
                            0.2222222222222222,
                            "#7201a8"
                          ],
                          [
                            0.3333333333333333,
                            "#9c179e"
                          ],
                          [
                            0.4444444444444444,
                            "#bd3786"
                          ],
                          [
                            0.5555555555555556,
                            "#d8576b"
                          ],
                          [
                            0.6666666666666666,
                            "#ed7953"
                          ],
                          [
                            0.7777777777777778,
                            "#fb9f3a"
                          ],
                          [
                            0.8888888888888888,
                            "#fdca26"
                          ],
                          [
                            1,
                            "#f0f921"
                          ]
                        ],
                        "type": "surface"
                      }
                    ],
                    "table": [
                      {
                        "cells": {
                          "fill": {
                            "color": "#EBF0F8"
                          },
                          "line": {
                            "color": "white"
                          }
                        },
                        "header": {
                          "fill": {
                            "color": "#C8D4E3"
                          },
                          "line": {
                            "color": "white"
                          }
                        },
                        "type": "table"
                      }
                    ]
                  },
                  "layout": {
                    "annotationdefaults": {
                      "arrowcolor": "#2a3f5f",
                      "arrowhead": 0,
                      "arrowwidth": 1
                    },
                    "autotypenumbers": "strict",
                    "coloraxis": {
                      "colorbar": {
                        "outlinewidth": 0,
                        "ticks": ""
                      }
                    },
                    "colorscale": {
                      "diverging": [
                        [
                          0,
                          "#8e0152"
                        ],
                        [
                          0.1,
                          "#c51b7d"
                        ],
                        [
                          0.2,
                          "#de77ae"
                        ],
                        [
                          0.3,
                          "#f1b6da"
                        ],
                        [
                          0.4,
                          "#fde0ef"
                        ],
                        [
                          0.5,
                          "#f7f7f7"
                        ],
                        [
                          0.6,
                          "#e6f5d0"
                        ],
                        [
                          0.7,
                          "#b8e186"
                        ],
                        [
                          0.8,
                          "#7fbc41"
                        ],
                        [
                          0.9,
                          "#4d9221"
                        ],
                        [
                          1,
                          "#276419"
                        ]
                      ],
                      "sequential": [
                        [
                          0,
                          "#0d0887"
                        ],
                        [
                          0.1111111111111111,
                          "#46039f"
                        ],
                        [
                          0.2222222222222222,
                          "#7201a8"
                        ],
                        [
                          0.3333333333333333,
                          "#9c179e"
                        ],
                        [
                          0.4444444444444444,
                          "#bd3786"
                        ],
                        [
                          0.5555555555555556,
                          "#d8576b"
                        ],
                        [
                          0.6666666666666666,
                          "#ed7953"
                        ],
                        [
                          0.7777777777777778,
                          "#fb9f3a"
                        ],
                        [
                          0.8888888888888888,
                          "#fdca26"
                        ],
                        [
                          1,
                          "#f0f921"
                        ]
                      ],
                      "sequentialminus": [
                        [
                          0,
                          "#0d0887"
                        ],
                        [
                          0.1111111111111111,
                          "#46039f"
                        ],
                        [
                          0.2222222222222222,
                          "#7201a8"
                        ],
                        [
                          0.3333333333333333,
                          "#9c179e"
                        ],
                        [
                          0.4444444444444444,
                          "#bd3786"
                        ],
                        [
                          0.5555555555555556,
                          "#d8576b"
                        ],
                        [
                          0.6666666666666666,
                          "#ed7953"
                        ],
                        [
                          0.7777777777777778,
                          "#fb9f3a"
                        ],
                        [
                          0.8888888888888888,
                          "#fdca26"
                        ],
                        [
                          1,
                          "#f0f921"
                        ]
                      ]
                    },
                    "colorway": [
                      "#636efa",
                      "#EF553B",
                      "#00cc96",
                      "#ab63fa",
                      "#FFA15A",
                      "#19d3f3",
                      "#FF6692",
                      "#B6E880",
                      "#FF97FF",
                      "#FECB52"
                    ],
                    "font": {
                      "color": "#2a3f5f"
                    },
                    "geo": {
                      "bgcolor": "white",
                      "lakecolor": "white",
                      "landcolor": "#E5ECF6",
                      "showlakes": true,
                      "showland": true,
                      "subunitcolor": "white"
                    },
                    "hoverlabel": {
                      "align": "left"
                    },
                    "hovermode": "closest",
                    "mapbox": {
                      "style": "light"
                    },
                    "paper_bgcolor": "white",
                    "plot_bgcolor": "#E5ECF6",
                    "polar": {
                      "angularaxis": {
                        "gridcolor": "white",
                        "linecolor": "white",
                        "ticks": ""
                      },
                      "bgcolor": "#E5ECF6",
                      "radialaxis": {
                        "gridcolor": "white",
                        "linecolor": "white",
                        "ticks": ""
                      }
                    },
                    "scene": {
                      "xaxis": {
                        "backgroundcolor": "#E5ECF6",
                        "gridcolor": "white",
                        "gridwidth": 2,
                        "linecolor": "white",
                        "showbackground": true,
                        "ticks": "",
                        "zerolinecolor": "white"
                      },
                      "yaxis": {
                        "backgroundcolor": "#E5ECF6",
                        "gridcolor": "white",
                        "gridwidth": 2,
                        "linecolor": "white",
                        "showbackground": true,
                        "ticks": "",
                        "zerolinecolor": "white"
                      },
                      "zaxis": {
                        "backgroundcolor": "#E5ECF6",
                        "gridcolor": "white",
                        "gridwidth": 2,
                        "linecolor": "white",
                        "showbackground": true,
                        "ticks": "",
                        "zerolinecolor": "white"
                      }
                    },
                    "shapedefaults": {
                      "line": {
                        "color": "#2a3f5f"
                      }
                    },
                    "ternary": {
                      "aaxis": {
                        "gridcolor": "white",
                        "linecolor": "white",
                        "ticks": ""
                      },
                      "baxis": {
                        "gridcolor": "white",
                        "linecolor": "white",
                        "ticks": ""
                      },
                      "bgcolor": "#E5ECF6",
                      "caxis": {
                        "gridcolor": "white",
                        "linecolor": "white",
                        "ticks": ""
                      }
                    },
                    "title": {
                      "x": 0.05
                    },
                    "xaxis": {
                      "automargin": true,
                      "gridcolor": "white",
                      "linecolor": "white",
                      "ticks": "",
                      "title": {
                        "standoff": 15
                      },
                      "zerolinecolor": "white",
                      "zerolinewidth": 2
                    },
                    "yaxis": {
                      "automargin": true,
                      "gridcolor": "white",
                      "linecolor": "white",
                      "ticks": "",
                      "title": {
                        "standoff": 15
                      },
                      "zerolinecolor": "white",
                      "zerolinewidth": 2
                    }
                  }
                },
                "title": {
                  "text": "Распределение Заработной Платы в 2022 году"
                },
                "xaxis": {
                  "anchor": "y",
                  "domain": [
                    0,
                    1
                  ],
                  "title": {
                    "text": "Заработная Плата"
                  }
                },
                "yaxis": {
                  "anchor": "x",
                  "categoryarray": [
                    "Data Scientist",
                    "Data Engineer"
                  ],
                  "categoryorder": "array",
                  "domain": [
                    0,
                    1
                  ],
                  "title": {
                    "text": "Специальность"
                  }
                }
              }
            }
          },
          "metadata": {},
          "output_type": "display_data"
        }
      ],
      "source": [
        "#create a boxplot\n",
        "fig = px.box(\n",
        "    data_frame=salary_by_year,\n",
        "    x='salary',\n",
        "    y='job_title',\n",
        "    color='job_title',\n",
        "    #set horizontal orientation\n",
        "    orientation='h',\n",
        "    title='Распределение Заработной Платы в 2022 году',\n",
        ")\n",
        "#set the title of the axis\n",
        "fig.update_layout(\n",
        "   xaxis_title_text='Заработная Плата',\n",
        "   yaxis_title_text='Специальность',\n",
        "   showlegend=False\n",
        ")\n",
        "fig.show()"
      ]
    },
    {
      "cell_type": "code",
      "execution_count": 235,
      "metadata": {
        "colab": {
          "base_uri": "https://localhost:8080/",
          "height": 161
        },
        "id": "yXC_rLMn_fFV",
        "outputId": "f54838b2-b0db-4562-b281-fab9ee61eb59"
      },
      "outputs": [
        {
          "name": "stdout",
          "output_type": "stream",
          "text": [
            "Распределение Заработной Платы в 2022 году\n"
          ]
        },
        {
          "data": {
            "text/html": [
              "<div>\n",
              "<style scoped>\n",
              "    .dataframe tbody tr th:only-of-type {\n",
              "        vertical-align: middle;\n",
              "    }\n",
              "\n",
              "    .dataframe tbody tr th {\n",
              "        vertical-align: top;\n",
              "    }\n",
              "\n",
              "    .dataframe thead th {\n",
              "        text-align: right;\n",
              "    }\n",
              "</style>\n",
              "<table border=\"1\" class=\"dataframe\">\n",
              "  <thead>\n",
              "    <tr style=\"text-align: right;\">\n",
              "      <th></th>\n",
              "      <th>count</th>\n",
              "      <th>mean</th>\n",
              "      <th>std</th>\n",
              "      <th>min</th>\n",
              "      <th>25%</th>\n",
              "      <th>50%</th>\n",
              "      <th>75%</th>\n",
              "      <th>max</th>\n",
              "    </tr>\n",
              "    <tr>\n",
              "      <th>job_title</th>\n",
              "      <th></th>\n",
              "      <th></th>\n",
              "      <th></th>\n",
              "      <th></th>\n",
              "      <th></th>\n",
              "      <th></th>\n",
              "      <th></th>\n",
              "      <th></th>\n",
              "    </tr>\n",
              "  </thead>\n",
              "  <tbody>\n",
              "    <tr>\n",
              "      <th>Data Engineer</th>\n",
              "      <td>78.0</td>\n",
              "      <td>122096.04</td>\n",
              "      <td>53544.36</td>\n",
              "      <td>25000.0</td>\n",
              "      <td>78526.0</td>\n",
              "      <td>114000.0</td>\n",
              "      <td>160000.0</td>\n",
              "      <td>243900.0</td>\n",
              "    </tr>\n",
              "    <tr>\n",
              "      <th>Data Scientist</th>\n",
              "      <td>65.0</td>\n",
              "      <td>131366.94</td>\n",
              "      <td>55785.24</td>\n",
              "      <td>18442.0</td>\n",
              "      <td>95550.0</td>\n",
              "      <td>135000.0</td>\n",
              "      <td>170000.0</td>\n",
              "      <td>260000.0</td>\n",
              "    </tr>\n",
              "  </tbody>\n",
              "</table>\n",
              "</div>"
            ],
            "text/plain": [
              "                count       mean       std      min      25%       50%  \\\n",
              "job_title                                                                \n",
              "Data Engineer    78.0  122096.04  53544.36  25000.0  78526.0  114000.0   \n",
              "Data Scientist   65.0  131366.94  55785.24  18442.0  95550.0  135000.0   \n",
              "\n",
              "                     75%       max  \n",
              "job_title                           \n",
              "Data Engineer   160000.0  243900.0  \n",
              "Data Scientist  170000.0  260000.0  "
            ]
          },
          "execution_count": 235,
          "metadata": {},
          "output_type": "execute_result"
        }
      ],
      "source": [
        "data_agg = salary_by_year.groupby('job_title')['salary'].describe().round(2)\n",
        "print('Распределение Заработной Платы в 2022 году')\n",
        "data_agg"
      ]
    },
    {
      "cell_type": "markdown",
      "metadata": {
        "id": "QnoG6XTK_fOH"
      },
      "source": [
        "**Вывод:** \\\n",
        "Распределения заработой платы для специальностей -  Data Scientist и Data Engineer слегка отличаются друг от друга, с распределением для Data Scientist, как немного более разнообразное по размаху и верхних квартилях. \\\n",
        "Однако, чтобы определить, являются ли эти различия статистически значимыми необходимо дополнительное статистическое тестирование."
      ]
    },
    {
      "cell_type": "markdown",
      "metadata": {
        "id": "crI7PFP0TpDI"
      },
      "source": [
        "### Как соотносятся зарплаты специалистов Data Scientist в компаниях различных размеров?"
      ]
    },
    {
      "cell_type": "code",
      "execution_count": 236,
      "metadata": {},
      "outputs": [
        {
          "data": {
            "application/vnd.plotly.v1+json": {
              "config": {
                "plotlyServerURL": "https://plot.ly"
              },
              "data": [
                {
                  "name": "Небольшая Компания",
                  "type": "box",
                  "x": [
                    51321,
                    45760,
                    76958,
                    21669,
                    62726,
                    49268,
                    105000,
                    91237,
                    62726,
                    42197,
                    9466,
                    100000,
                    82500,
                    2859,
                    5679,
                    12901,
                    87738,
                    90000,
                    16904,
                    25532,
                    48000
                  ],
                  "xaxis": "x",
                  "yaxis": "y"
                },
                {
                  "name": "Средняя Компания",
                  "type": "box",
                  "x": [
                    39916,
                    38776,
                    118000,
                    138350,
                    49646,
                    80000,
                    150000,
                    119059,
                    61467,
                    33808,
                    46809,
                    4000,
                    28399,
                    77684,
                    100000,
                    130000,
                    90000,
                    136620,
                    99360,
                    117789,
                    104702,
                    146000,
                    123000,
                    65438,
                    39263,
                    165220,
                    120160,
                    95550,
                    167000,
                    150000,
                    211500,
                    138600,
                    170000,
                    180000,
                    71982,
                    45807,
                    260000,
                    180000,
                    80000,
                    18442,
                    104890,
                    140000,
                    220000,
                    183228,
                    91614,
                    185100,
                    200000,
                    120000,
                    230000,
                    100000,
                    100000,
                    100000,
                    165000,
                    86703,
                    69336,
                    78000,
                    141300,
                    102100,
                    176000,
                    144000,
                    205300,
                    140400,
                    210000,
                    150000,
                    160000,
                    130000
                  ],
                  "xaxis": "x2",
                  "yaxis": "y2"
                },
                {
                  "name": "Крупная Компания",
                  "type": "box",
                  "x": [
                    79833,
                    35735,
                    40481,
                    68428,
                    105000,
                    120000,
                    53192,
                    29751,
                    73000,
                    50000,
                    75774,
                    13400,
                    40038,
                    90734,
                    147000,
                    37825,
                    160000,
                    116914,
                    56256,
                    88654,
                    135000,
                    103691,
                    165000,
                    36643,
                    115000,
                    130000,
                    58000,
                    20171,
                    109000,
                    180000,
                    120000,
                    215300,
                    158200,
                    140400,
                    215300,
                    31615,
                    35590,
                    52396,
                    40000,
                    122346,
                    135000,
                    205300
                  ],
                  "xaxis": "x3",
                  "yaxis": "y3"
                }
              ],
              "layout": {
                "height": 800,
                "showlegend": false,
                "template": {
                  "data": {
                    "bar": [
                      {
                        "error_x": {
                          "color": "#2a3f5f"
                        },
                        "error_y": {
                          "color": "#2a3f5f"
                        },
                        "marker": {
                          "line": {
                            "color": "#E5ECF6",
                            "width": 0.5
                          },
                          "pattern": {
                            "fillmode": "overlay",
                            "size": 10,
                            "solidity": 0.2
                          }
                        },
                        "type": "bar"
                      }
                    ],
                    "barpolar": [
                      {
                        "marker": {
                          "line": {
                            "color": "#E5ECF6",
                            "width": 0.5
                          },
                          "pattern": {
                            "fillmode": "overlay",
                            "size": 10,
                            "solidity": 0.2
                          }
                        },
                        "type": "barpolar"
                      }
                    ],
                    "carpet": [
                      {
                        "aaxis": {
                          "endlinecolor": "#2a3f5f",
                          "gridcolor": "white",
                          "linecolor": "white",
                          "minorgridcolor": "white",
                          "startlinecolor": "#2a3f5f"
                        },
                        "baxis": {
                          "endlinecolor": "#2a3f5f",
                          "gridcolor": "white",
                          "linecolor": "white",
                          "minorgridcolor": "white",
                          "startlinecolor": "#2a3f5f"
                        },
                        "type": "carpet"
                      }
                    ],
                    "choropleth": [
                      {
                        "colorbar": {
                          "outlinewidth": 0,
                          "ticks": ""
                        },
                        "type": "choropleth"
                      }
                    ],
                    "contour": [
                      {
                        "colorbar": {
                          "outlinewidth": 0,
                          "ticks": ""
                        },
                        "colorscale": [
                          [
                            0,
                            "#0d0887"
                          ],
                          [
                            0.1111111111111111,
                            "#46039f"
                          ],
                          [
                            0.2222222222222222,
                            "#7201a8"
                          ],
                          [
                            0.3333333333333333,
                            "#9c179e"
                          ],
                          [
                            0.4444444444444444,
                            "#bd3786"
                          ],
                          [
                            0.5555555555555556,
                            "#d8576b"
                          ],
                          [
                            0.6666666666666666,
                            "#ed7953"
                          ],
                          [
                            0.7777777777777778,
                            "#fb9f3a"
                          ],
                          [
                            0.8888888888888888,
                            "#fdca26"
                          ],
                          [
                            1,
                            "#f0f921"
                          ]
                        ],
                        "type": "contour"
                      }
                    ],
                    "contourcarpet": [
                      {
                        "colorbar": {
                          "outlinewidth": 0,
                          "ticks": ""
                        },
                        "type": "contourcarpet"
                      }
                    ],
                    "heatmap": [
                      {
                        "colorbar": {
                          "outlinewidth": 0,
                          "ticks": ""
                        },
                        "colorscale": [
                          [
                            0,
                            "#0d0887"
                          ],
                          [
                            0.1111111111111111,
                            "#46039f"
                          ],
                          [
                            0.2222222222222222,
                            "#7201a8"
                          ],
                          [
                            0.3333333333333333,
                            "#9c179e"
                          ],
                          [
                            0.4444444444444444,
                            "#bd3786"
                          ],
                          [
                            0.5555555555555556,
                            "#d8576b"
                          ],
                          [
                            0.6666666666666666,
                            "#ed7953"
                          ],
                          [
                            0.7777777777777778,
                            "#fb9f3a"
                          ],
                          [
                            0.8888888888888888,
                            "#fdca26"
                          ],
                          [
                            1,
                            "#f0f921"
                          ]
                        ],
                        "type": "heatmap"
                      }
                    ],
                    "heatmapgl": [
                      {
                        "colorbar": {
                          "outlinewidth": 0,
                          "ticks": ""
                        },
                        "colorscale": [
                          [
                            0,
                            "#0d0887"
                          ],
                          [
                            0.1111111111111111,
                            "#46039f"
                          ],
                          [
                            0.2222222222222222,
                            "#7201a8"
                          ],
                          [
                            0.3333333333333333,
                            "#9c179e"
                          ],
                          [
                            0.4444444444444444,
                            "#bd3786"
                          ],
                          [
                            0.5555555555555556,
                            "#d8576b"
                          ],
                          [
                            0.6666666666666666,
                            "#ed7953"
                          ],
                          [
                            0.7777777777777778,
                            "#fb9f3a"
                          ],
                          [
                            0.8888888888888888,
                            "#fdca26"
                          ],
                          [
                            1,
                            "#f0f921"
                          ]
                        ],
                        "type": "heatmapgl"
                      }
                    ],
                    "histogram": [
                      {
                        "marker": {
                          "pattern": {
                            "fillmode": "overlay",
                            "size": 10,
                            "solidity": 0.2
                          }
                        },
                        "type": "histogram"
                      }
                    ],
                    "histogram2d": [
                      {
                        "colorbar": {
                          "outlinewidth": 0,
                          "ticks": ""
                        },
                        "colorscale": [
                          [
                            0,
                            "#0d0887"
                          ],
                          [
                            0.1111111111111111,
                            "#46039f"
                          ],
                          [
                            0.2222222222222222,
                            "#7201a8"
                          ],
                          [
                            0.3333333333333333,
                            "#9c179e"
                          ],
                          [
                            0.4444444444444444,
                            "#bd3786"
                          ],
                          [
                            0.5555555555555556,
                            "#d8576b"
                          ],
                          [
                            0.6666666666666666,
                            "#ed7953"
                          ],
                          [
                            0.7777777777777778,
                            "#fb9f3a"
                          ],
                          [
                            0.8888888888888888,
                            "#fdca26"
                          ],
                          [
                            1,
                            "#f0f921"
                          ]
                        ],
                        "type": "histogram2d"
                      }
                    ],
                    "histogram2dcontour": [
                      {
                        "colorbar": {
                          "outlinewidth": 0,
                          "ticks": ""
                        },
                        "colorscale": [
                          [
                            0,
                            "#0d0887"
                          ],
                          [
                            0.1111111111111111,
                            "#46039f"
                          ],
                          [
                            0.2222222222222222,
                            "#7201a8"
                          ],
                          [
                            0.3333333333333333,
                            "#9c179e"
                          ],
                          [
                            0.4444444444444444,
                            "#bd3786"
                          ],
                          [
                            0.5555555555555556,
                            "#d8576b"
                          ],
                          [
                            0.6666666666666666,
                            "#ed7953"
                          ],
                          [
                            0.7777777777777778,
                            "#fb9f3a"
                          ],
                          [
                            0.8888888888888888,
                            "#fdca26"
                          ],
                          [
                            1,
                            "#f0f921"
                          ]
                        ],
                        "type": "histogram2dcontour"
                      }
                    ],
                    "mesh3d": [
                      {
                        "colorbar": {
                          "outlinewidth": 0,
                          "ticks": ""
                        },
                        "type": "mesh3d"
                      }
                    ],
                    "parcoords": [
                      {
                        "line": {
                          "colorbar": {
                            "outlinewidth": 0,
                            "ticks": ""
                          }
                        },
                        "type": "parcoords"
                      }
                    ],
                    "pie": [
                      {
                        "automargin": true,
                        "type": "pie"
                      }
                    ],
                    "scatter": [
                      {
                        "fillpattern": {
                          "fillmode": "overlay",
                          "size": 10,
                          "solidity": 0.2
                        },
                        "type": "scatter"
                      }
                    ],
                    "scatter3d": [
                      {
                        "line": {
                          "colorbar": {
                            "outlinewidth": 0,
                            "ticks": ""
                          }
                        },
                        "marker": {
                          "colorbar": {
                            "outlinewidth": 0,
                            "ticks": ""
                          }
                        },
                        "type": "scatter3d"
                      }
                    ],
                    "scattercarpet": [
                      {
                        "marker": {
                          "colorbar": {
                            "outlinewidth": 0,
                            "ticks": ""
                          }
                        },
                        "type": "scattercarpet"
                      }
                    ],
                    "scattergeo": [
                      {
                        "marker": {
                          "colorbar": {
                            "outlinewidth": 0,
                            "ticks": ""
                          }
                        },
                        "type": "scattergeo"
                      }
                    ],
                    "scattergl": [
                      {
                        "marker": {
                          "colorbar": {
                            "outlinewidth": 0,
                            "ticks": ""
                          }
                        },
                        "type": "scattergl"
                      }
                    ],
                    "scattermapbox": [
                      {
                        "marker": {
                          "colorbar": {
                            "outlinewidth": 0,
                            "ticks": ""
                          }
                        },
                        "type": "scattermapbox"
                      }
                    ],
                    "scatterpolar": [
                      {
                        "marker": {
                          "colorbar": {
                            "outlinewidth": 0,
                            "ticks": ""
                          }
                        },
                        "type": "scatterpolar"
                      }
                    ],
                    "scatterpolargl": [
                      {
                        "marker": {
                          "colorbar": {
                            "outlinewidth": 0,
                            "ticks": ""
                          }
                        },
                        "type": "scatterpolargl"
                      }
                    ],
                    "scatterternary": [
                      {
                        "marker": {
                          "colorbar": {
                            "outlinewidth": 0,
                            "ticks": ""
                          }
                        },
                        "type": "scatterternary"
                      }
                    ],
                    "surface": [
                      {
                        "colorbar": {
                          "outlinewidth": 0,
                          "ticks": ""
                        },
                        "colorscale": [
                          [
                            0,
                            "#0d0887"
                          ],
                          [
                            0.1111111111111111,
                            "#46039f"
                          ],
                          [
                            0.2222222222222222,
                            "#7201a8"
                          ],
                          [
                            0.3333333333333333,
                            "#9c179e"
                          ],
                          [
                            0.4444444444444444,
                            "#bd3786"
                          ],
                          [
                            0.5555555555555556,
                            "#d8576b"
                          ],
                          [
                            0.6666666666666666,
                            "#ed7953"
                          ],
                          [
                            0.7777777777777778,
                            "#fb9f3a"
                          ],
                          [
                            0.8888888888888888,
                            "#fdca26"
                          ],
                          [
                            1,
                            "#f0f921"
                          ]
                        ],
                        "type": "surface"
                      }
                    ],
                    "table": [
                      {
                        "cells": {
                          "fill": {
                            "color": "#EBF0F8"
                          },
                          "line": {
                            "color": "white"
                          }
                        },
                        "header": {
                          "fill": {
                            "color": "#C8D4E3"
                          },
                          "line": {
                            "color": "white"
                          }
                        },
                        "type": "table"
                      }
                    ]
                  },
                  "layout": {
                    "annotationdefaults": {
                      "arrowcolor": "#2a3f5f",
                      "arrowhead": 0,
                      "arrowwidth": 1
                    },
                    "autotypenumbers": "strict",
                    "coloraxis": {
                      "colorbar": {
                        "outlinewidth": 0,
                        "ticks": ""
                      }
                    },
                    "colorscale": {
                      "diverging": [
                        [
                          0,
                          "#8e0152"
                        ],
                        [
                          0.1,
                          "#c51b7d"
                        ],
                        [
                          0.2,
                          "#de77ae"
                        ],
                        [
                          0.3,
                          "#f1b6da"
                        ],
                        [
                          0.4,
                          "#fde0ef"
                        ],
                        [
                          0.5,
                          "#f7f7f7"
                        ],
                        [
                          0.6,
                          "#e6f5d0"
                        ],
                        [
                          0.7,
                          "#b8e186"
                        ],
                        [
                          0.8,
                          "#7fbc41"
                        ],
                        [
                          0.9,
                          "#4d9221"
                        ],
                        [
                          1,
                          "#276419"
                        ]
                      ],
                      "sequential": [
                        [
                          0,
                          "#0d0887"
                        ],
                        [
                          0.1111111111111111,
                          "#46039f"
                        ],
                        [
                          0.2222222222222222,
                          "#7201a8"
                        ],
                        [
                          0.3333333333333333,
                          "#9c179e"
                        ],
                        [
                          0.4444444444444444,
                          "#bd3786"
                        ],
                        [
                          0.5555555555555556,
                          "#d8576b"
                        ],
                        [
                          0.6666666666666666,
                          "#ed7953"
                        ],
                        [
                          0.7777777777777778,
                          "#fb9f3a"
                        ],
                        [
                          0.8888888888888888,
                          "#fdca26"
                        ],
                        [
                          1,
                          "#f0f921"
                        ]
                      ],
                      "sequentialminus": [
                        [
                          0,
                          "#0d0887"
                        ],
                        [
                          0.1111111111111111,
                          "#46039f"
                        ],
                        [
                          0.2222222222222222,
                          "#7201a8"
                        ],
                        [
                          0.3333333333333333,
                          "#9c179e"
                        ],
                        [
                          0.4444444444444444,
                          "#bd3786"
                        ],
                        [
                          0.5555555555555556,
                          "#d8576b"
                        ],
                        [
                          0.6666666666666666,
                          "#ed7953"
                        ],
                        [
                          0.7777777777777778,
                          "#fb9f3a"
                        ],
                        [
                          0.8888888888888888,
                          "#fdca26"
                        ],
                        [
                          1,
                          "#f0f921"
                        ]
                      ]
                    },
                    "colorway": [
                      "#636efa",
                      "#EF553B",
                      "#00cc96",
                      "#ab63fa",
                      "#FFA15A",
                      "#19d3f3",
                      "#FF6692",
                      "#B6E880",
                      "#FF97FF",
                      "#FECB52"
                    ],
                    "font": {
                      "color": "#2a3f5f"
                    },
                    "geo": {
                      "bgcolor": "white",
                      "lakecolor": "white",
                      "landcolor": "#E5ECF6",
                      "showlakes": true,
                      "showland": true,
                      "subunitcolor": "white"
                    },
                    "hoverlabel": {
                      "align": "left"
                    },
                    "hovermode": "closest",
                    "mapbox": {
                      "style": "light"
                    },
                    "paper_bgcolor": "white",
                    "plot_bgcolor": "#E5ECF6",
                    "polar": {
                      "angularaxis": {
                        "gridcolor": "white",
                        "linecolor": "white",
                        "ticks": ""
                      },
                      "bgcolor": "#E5ECF6",
                      "radialaxis": {
                        "gridcolor": "white",
                        "linecolor": "white",
                        "ticks": ""
                      }
                    },
                    "scene": {
                      "xaxis": {
                        "backgroundcolor": "#E5ECF6",
                        "gridcolor": "white",
                        "gridwidth": 2,
                        "linecolor": "white",
                        "showbackground": true,
                        "ticks": "",
                        "zerolinecolor": "white"
                      },
                      "yaxis": {
                        "backgroundcolor": "#E5ECF6",
                        "gridcolor": "white",
                        "gridwidth": 2,
                        "linecolor": "white",
                        "showbackground": true,
                        "ticks": "",
                        "zerolinecolor": "white"
                      },
                      "zaxis": {
                        "backgroundcolor": "#E5ECF6",
                        "gridcolor": "white",
                        "gridwidth": 2,
                        "linecolor": "white",
                        "showbackground": true,
                        "ticks": "",
                        "zerolinecolor": "white"
                      }
                    },
                    "shapedefaults": {
                      "line": {
                        "color": "#2a3f5f"
                      }
                    },
                    "ternary": {
                      "aaxis": {
                        "gridcolor": "white",
                        "linecolor": "white",
                        "ticks": ""
                      },
                      "baxis": {
                        "gridcolor": "white",
                        "linecolor": "white",
                        "ticks": ""
                      },
                      "bgcolor": "#E5ECF6",
                      "caxis": {
                        "gridcolor": "white",
                        "linecolor": "white",
                        "ticks": ""
                      }
                    },
                    "title": {
                      "x": 0.05
                    },
                    "xaxis": {
                      "automargin": true,
                      "gridcolor": "white",
                      "linecolor": "white",
                      "ticks": "",
                      "title": {
                        "standoff": 15
                      },
                      "zerolinecolor": "white",
                      "zerolinewidth": 2
                    },
                    "yaxis": {
                      "automargin": true,
                      "gridcolor": "white",
                      "linecolor": "white",
                      "ticks": "",
                      "title": {
                        "standoff": 15
                      },
                      "zerolinecolor": "white",
                      "zerolinewidth": 2
                    }
                  }
                },
                "title": {
                  "text": "Распределение Заработной Платы для Data Scientists по Размеру Компании"
                },
                "width": 1100,
                "xaxis": {
                  "anchor": "y",
                  "domain": [
                    0,
                    1
                  ],
                  "range": [
                    0,
                    300000
                  ]
                },
                "xaxis2": {
                  "anchor": "y2",
                  "domain": [
                    0,
                    1
                  ],
                  "range": [
                    0,
                    300000
                  ]
                },
                "xaxis3": {
                  "anchor": "y3",
                  "domain": [
                    0,
                    1
                  ],
                  "range": [
                    0,
                    300000
                  ]
                },
                "yaxis": {
                  "anchor": "x",
                  "domain": [
                    0.7333333333333333,
                    1
                  ]
                },
                "yaxis2": {
                  "anchor": "x2",
                  "domain": [
                    0.36666666666666664,
                    0.6333333333333333
                  ]
                },
                "yaxis3": {
                  "anchor": "x3",
                  "domain": [
                    0,
                    0.26666666666666666
                  ]
                }
              }
            }
          },
          "metadata": {},
          "output_type": "display_data"
        }
      ],
      "source": [
        "#converted company_size to numerical feature for future statistical analysis, thus need to filter by company size for easier visualization\n",
        "small = salaries[(salaries['job_title'] == 'Data Scientist') & (salaries['company_size'] == 1)]\n",
        "medium = salaries[(salaries['job_title'] == 'Data Scientist') & (salaries['company_size'] == 2)]\n",
        "large = salaries[(salaries['job_title'] == 'Data Scientist') & (salaries['company_size'] == 3)]\n",
        "\n",
        "#create side-by-side plots\n",
        "fig = make_subplots(rows=3, cols=1)\n",
        "\n",
        "#first graph\n",
        "fig.add_trace(\n",
        "    go.Box(x=small['salary'], name='Небольшая Компания'),\n",
        "    row=1, col=1\n",
        ")\n",
        "\n",
        "#set the same axis limits\n",
        "fig.update_xaxes(range=[0, 300000])\n",
        "\n",
        "\n",
        "#second graph\n",
        "fig.add_trace(\n",
        "    go.Box(x=medium['salary'], name='Средняя Компания'),\n",
        "    row=2, col=1\n",
        ")\n",
        "\n",
        "#set the same axis limits\n",
        "fig.update_xaxes(range=[0, 300000])\n",
        "\n",
        "\n",
        "#third graph\n",
        "fig.add_trace(\n",
        "    go.Box(x=large['salary'], name='Крупная Компания'),\n",
        "    row=3, col=1\n",
        ")\n",
        "\n",
        "#set the same axis limits\n",
        "fig.update_xaxes(range=[0, 300000])\n",
        "\n",
        "#set characteristics\n",
        "fig.update_layout(height=800,\n",
        "                  width=1100,\n",
        "                  showlegend=False,\n",
        "                  title_text='Распределение Заработной Платы для Data Scientists по Размеру Компании'\n",
        ")\n",
        "\n",
        "fig.show()"
      ]
    },
    {
      "cell_type": "code",
      "execution_count": 237,
      "metadata": {
        "colab": {
          "base_uri": "https://localhost:8080/",
          "height": 161
        },
        "id": "yeXQdZzQS9BL",
        "outputId": "452b6af6-f003-4332-8d79-cffcaa4f8fb8"
      },
      "outputs": [
        {
          "name": "stdout",
          "output_type": "stream",
          "text": [
            "Распределение Заработной Платы для Data Scientists по Размеру Компании\n"
          ]
        },
        {
          "data": {
            "text/html": [
              "<div>\n",
              "<style scoped>\n",
              "    .dataframe tbody tr th:only-of-type {\n",
              "        vertical-align: middle;\n",
              "    }\n",
              "\n",
              "    .dataframe tbody tr th {\n",
              "        vertical-align: top;\n",
              "    }\n",
              "\n",
              "    .dataframe thead th {\n",
              "        text-align: right;\n",
              "    }\n",
              "</style>\n",
              "<table border=\"1\" class=\"dataframe\">\n",
              "  <thead>\n",
              "    <tr style=\"text-align: right;\">\n",
              "      <th></th>\n",
              "      <th>count</th>\n",
              "      <th>mean</th>\n",
              "      <th>std</th>\n",
              "      <th>min</th>\n",
              "      <th>25%</th>\n",
              "      <th>50%</th>\n",
              "      <th>75%</th>\n",
              "      <th>max</th>\n",
              "    </tr>\n",
              "    <tr>\n",
              "      <th>company_size</th>\n",
              "      <th></th>\n",
              "      <th></th>\n",
              "      <th></th>\n",
              "      <th></th>\n",
              "      <th></th>\n",
              "      <th></th>\n",
              "      <th></th>\n",
              "      <th></th>\n",
              "    </tr>\n",
              "  </thead>\n",
              "  <tbody>\n",
              "    <tr>\n",
              "      <th>1</th>\n",
              "      <td>21.0</td>\n",
              "      <td>51925.76</td>\n",
              "      <td>33216.29</td>\n",
              "      <td>2859.0</td>\n",
              "      <td>21669.00</td>\n",
              "      <td>49268.0</td>\n",
              "      <td>82500.0</td>\n",
              "      <td>105000.0</td>\n",
              "    </tr>\n",
              "    <tr>\n",
              "      <th>2</th>\n",
              "      <td>66.0</td>\n",
              "      <td>120080.58</td>\n",
              "      <td>56347.79</td>\n",
              "      <td>4000.0</td>\n",
              "      <td>80000.00</td>\n",
              "      <td>119529.5</td>\n",
              "      <td>157500.0</td>\n",
              "      <td>260000.0</td>\n",
              "    </tr>\n",
              "    <tr>\n",
              "      <th>3</th>\n",
              "      <td>42.0</td>\n",
              "      <td>95380.17</td>\n",
              "      <td>55756.89</td>\n",
              "      <td>13400.0</td>\n",
              "      <td>42860.75</td>\n",
              "      <td>89694.0</td>\n",
              "      <td>133750.0</td>\n",
              "      <td>215300.0</td>\n",
              "    </tr>\n",
              "  </tbody>\n",
              "</table>\n",
              "</div>"
            ],
            "text/plain": [
              "              count       mean       std      min       25%       50%  \\\n",
              "company_size                                                            \n",
              "1              21.0   51925.76  33216.29   2859.0  21669.00   49268.0   \n",
              "2              66.0  120080.58  56347.79   4000.0  80000.00  119529.5   \n",
              "3              42.0   95380.17  55756.89  13400.0  42860.75   89694.0   \n",
              "\n",
              "                   75%       max  \n",
              "company_size                      \n",
              "1              82500.0  105000.0  \n",
              "2             157500.0  260000.0  \n",
              "3             133750.0  215300.0  "
            ]
          },
          "execution_count": 237,
          "metadata": {},
          "output_type": "execute_result"
        }
      ],
      "source": [
        "data_agg = ds_salary.groupby('company_size')['salary'].describe().round(2)\n",
        "print('Распределение Заработной Платы для Data Scientists по Размеру Компании')\n",
        "data_agg"
      ]
    },
    {
      "cell_type": "markdown",
      "metadata": {
        "id": "zK_jL2gjS9BL"
      },
      "source": [
        "**Вывод:** \\\n",
        "Распределения заработой платы по размеру компании отличаются друг от друга, с распределением для средних компаний, как более разнообразное по диапазону и верхних квартилях. \\\n",
        "Однако, чтобы определить, являются ли эти различия статистически значимыми необходимо статистическое тестирование."
      ]
    },
    {
      "cell_type": "markdown",
      "metadata": {
        "id": "GlJ2fclcl7Zd"
      },
      "source": [
        "### Есть ли связь между наличием должностей Data Scientist и Data Engineer и размером компании?"
      ]
    },
    {
      "cell_type": "code",
      "execution_count": 238,
      "metadata": {},
      "outputs": [
        {
          "data": {
            "text/html": [
              "<div>\n",
              "<style scoped>\n",
              "    .dataframe tbody tr th:only-of-type {\n",
              "        vertical-align: middle;\n",
              "    }\n",
              "\n",
              "    .dataframe tbody tr th {\n",
              "        vertical-align: top;\n",
              "    }\n",
              "\n",
              "    .dataframe thead th {\n",
              "        text-align: right;\n",
              "    }\n",
              "</style>\n",
              "<table border=\"1\" class=\"dataframe\">\n",
              "  <thead>\n",
              "    <tr style=\"text-align: right;\">\n",
              "      <th></th>\n",
              "      <th>work_year</th>\n",
              "      <th>job_title</th>\n",
              "      <th>salary</th>\n",
              "      <th>remote_ratio</th>\n",
              "      <th>company_size</th>\n",
              "      <th>experience_level</th>\n",
              "      <th>employment_type</th>\n",
              "      <th>location</th>\n",
              "    </tr>\n",
              "  </thead>\n",
              "  <tbody>\n",
              "    <tr>\n",
              "      <th>0</th>\n",
              "      <td>2020</td>\n",
              "      <td>Data Scientist</td>\n",
              "      <td>79833</td>\n",
              "      <td>0</td>\n",
              "      <td>3</td>\n",
              "      <td>2</td>\n",
              "      <td>4</td>\n",
              "      <td>1</td>\n",
              "    </tr>\n",
              "    <tr>\n",
              "      <th>7</th>\n",
              "      <td>2020</td>\n",
              "      <td>Data Scientist</td>\n",
              "      <td>35735</td>\n",
              "      <td>50</td>\n",
              "      <td>3</td>\n",
              "      <td>2</td>\n",
              "      <td>4</td>\n",
              "      <td>1</td>\n",
              "    </tr>\n",
              "    <tr>\n",
              "      <th>10</th>\n",
              "      <td>2020</td>\n",
              "      <td>Data Scientist</td>\n",
              "      <td>51321</td>\n",
              "      <td>0</td>\n",
              "      <td>1</td>\n",
              "      <td>1</td>\n",
              "      <td>4</td>\n",
              "      <td>1</td>\n",
              "    </tr>\n",
              "  </tbody>\n",
              "</table>\n",
              "</div>"
            ],
            "text/plain": [
              "    work_year       job_title  salary  remote_ratio  company_size  \\\n",
              "0        2020  Data Scientist   79833             0             3   \n",
              "7        2020  Data Scientist   35735            50             3   \n",
              "10       2020  Data Scientist   51321             0             1   \n",
              "\n",
              "    experience_level  employment_type  location  \n",
              "0                  2                4         1  \n",
              "7                  2                4         1  \n",
              "10                 1                4         1  "
            ]
          },
          "execution_count": 238,
          "metadata": {},
          "output_type": "execute_result"
        }
      ],
      "source": [
        "#filter by position\n",
        "size_by_position = salaries[((salaries['job_title'] == 'Data Scientist') | (salaries['job_title'] == 'Data Engineer'))]\n",
        "size_by_position.head(3)"
      ]
    },
    {
      "cell_type": "code",
      "execution_count": 239,
      "metadata": {
        "id": "Uk8459-8l7Zd",
        "outputId": "ec251979-47d0-4b80-8c0a-d4416583b95c"
      },
      "outputs": [
        {
          "data": {
            "image/png": "[encoded data removed]",
            "text/plain": [
              "<Figure size 640x480 with 1 Axes>"
            ]
          },
          "metadata": {},
          "output_type": "display_data"
        }
      ],
      "source": [
        "ax = sns.countplot(data=size_by_position, x=salaries['company_size'], hue='job_title')\n",
        "ax.set(xlabel='Размер Компании', ylabel='Количество')\n",
        "plt.title('Соотношение между Количеством Должностей и Размерам Компании')\n",
        "plt.show()"
      ]
    },
    {
      "cell_type": "code",
      "execution_count": 240,
      "metadata": {
        "colab": {
          "base_uri": "https://localhost:8080/",
          "height": 480
        },
        "id": "81kAFODPl7Zd",
        "outputId": "3a36537f-39d6-4e12-a1c6-ec986ebdd15f"
      },
      "outputs": [
        {
          "data": {
            "image/png": "[encoded data removed]",
            "text/plain": [
              "<Figure size 640x480 with 2 Axes>"
            ]
          },
          "metadata": {},
          "output_type": "display_data"
        }
      ],
      "source": [
        "cross_tab = pd.crosstab(index=size_by_position['company_size'], columns=size_by_position['job_title'])\n",
        "ax = sns.heatmap(cross_tab, annot=True, linewidth=.5, fmt='.0f', cmap=\"coolwarm\")\n",
        "ax.set(xlabel='Позиция', ylabel='Размер Компании')\n",
        "plt.title('Таблица Сопряженности')\n",
        "plt.show()"
      ]
    },
    {
      "cell_type": "markdown",
      "metadata": {
        "id": "Z0rsfkQql7Ze"
      },
      "source": [
        "**Вывод:** \\\n",
        "Согласно графику подсчета и таблице сопряженности, существует связь между размером компании и количеством доступных позиций, при этом наименьшее количество позиций рекламируются в небольших компаний, а самый высокий рост в компаниях среднего размера для обеих специальностей. \\\n",
        "Однако, чтобы определить, являются ли эти различия статистически значимыми необходимо статистическое тестирование."
      ]
    },
    {
      "cell_type": "markdown",
      "metadata": {},
      "source": [
        "### Как соотносятся зарплаты специалистов Data Scientist при возможности удаленной работы?"
      ]
    },
    {
      "cell_type": "code",
      "execution_count": 241,
      "metadata": {},
      "outputs": [
        {
          "data": {
            "application/vnd.plotly.v1+json": {
              "config": {
                "plotlyServerURL": "https://plot.ly"
              },
              "data": [
                {
                  "name": "Очная Работа",
                  "type": "box",
                  "x": [
                    79833,
                    51321,
                    40481,
                    39916,
                    49268,
                    91237,
                    73000,
                    9466,
                    100000,
                    2859,
                    12901,
                    33808,
                    135000,
                    4000,
                    130000,
                    90000,
                    117789,
                    104702,
                    65438,
                    39263,
                    180000,
                    120000,
                    95550,
                    150000,
                    71982,
                    45807,
                    180000,
                    80000,
                    140400,
                    215300,
                    183228,
                    91614,
                    122346,
                    141300,
                    102100,
                    205300,
                    205300,
                    140400
                  ],
                  "xaxis": "x",
                  "yaxis": "y"
                },
                {
                  "name": "Гибридная Работа",
                  "type": "box",
                  "x": [
                    35735,
                    120000,
                    21669,
                    62726,
                    62726,
                    42197,
                    53192,
                    29751,
                    49646,
                    90734,
                    147000,
                    61467,
                    116914,
                    56256,
                    88654,
                    36643,
                    115000,
                    130000,
                    77684,
                    58000,
                    20171,
                    109000,
                    100000,
                    86703
                  ],
                  "xaxis": "x2",
                  "yaxis": "y2"
                },
                {
                  "name": "Удаленная Работа",
                  "type": "box",
                  "x": [
                    68428,
                    45760,
                    76958,
                    105000,
                    38776,
                    118000,
                    138350,
                    105000,
                    50000,
                    80000,
                    82500,
                    150000,
                    75774,
                    13400,
                    119059,
                    40038,
                    5679,
                    37825,
                    160000,
                    87738,
                    46809,
                    103691,
                    165000,
                    90000,
                    28399,
                    16904,
                    25532,
                    100000,
                    136620,
                    99360,
                    146000,
                    123000,
                    165220,
                    120160,
                    167000,
                    211500,
                    138600,
                    170000,
                    215300,
                    158200,
                    180000,
                    260000,
                    31615,
                    18442,
                    104890,
                    140000,
                    220000,
                    185100,
                    200000,
                    120000,
                    230000,
                    100000,
                    35590,
                    100000,
                    165000,
                    52396,
                    40000,
                    48000,
                    69336,
                    135000,
                    78000,
                    176000,
                    144000,
                    210000,
                    150000,
                    160000,
                    130000
                  ],
                  "xaxis": "x3",
                  "yaxis": "y3"
                }
              ],
              "layout": {
                "height": 800,
                "showlegend": false,
                "template": {
                  "data": {
                    "bar": [
                      {
                        "error_x": {
                          "color": "#2a3f5f"
                        },
                        "error_y": {
                          "color": "#2a3f5f"
                        },
                        "marker": {
                          "line": {
                            "color": "#E5ECF6",
                            "width": 0.5
                          },
                          "pattern": {
                            "fillmode": "overlay",
                            "size": 10,
                            "solidity": 0.2
                          }
                        },
                        "type": "bar"
                      }
                    ],
                    "barpolar": [
                      {
                        "marker": {
                          "line": {
                            "color": "#E5ECF6",
                            "width": 0.5
                          },
                          "pattern": {
                            "fillmode": "overlay",
                            "size": 10,
                            "solidity": 0.2
                          }
                        },
                        "type": "barpolar"
                      }
                    ],
                    "carpet": [
                      {
                        "aaxis": {
                          "endlinecolor": "#2a3f5f",
                          "gridcolor": "white",
                          "linecolor": "white",
                          "minorgridcolor": "white",
                          "startlinecolor": "#2a3f5f"
                        },
                        "baxis": {
                          "endlinecolor": "#2a3f5f",
                          "gridcolor": "white",
                          "linecolor": "white",
                          "minorgridcolor": "white",
                          "startlinecolor": "#2a3f5f"
                        },
                        "type": "carpet"
                      }
                    ],
                    "choropleth": [
                      {
                        "colorbar": {
                          "outlinewidth": 0,
                          "ticks": ""
                        },
                        "type": "choropleth"
                      }
                    ],
                    "contour": [
                      {
                        "colorbar": {
                          "outlinewidth": 0,
                          "ticks": ""
                        },
                        "colorscale": [
                          [
                            0,
                            "#0d0887"
                          ],
                          [
                            0.1111111111111111,
                            "#46039f"
                          ],
                          [
                            0.2222222222222222,
                            "#7201a8"
                          ],
                          [
                            0.3333333333333333,
                            "#9c179e"
                          ],
                          [
                            0.4444444444444444,
                            "#bd3786"
                          ],
                          [
                            0.5555555555555556,
                            "#d8576b"
                          ],
                          [
                            0.6666666666666666,
                            "#ed7953"
                          ],
                          [
                            0.7777777777777778,
                            "#fb9f3a"
                          ],
                          [
                            0.8888888888888888,
                            "#fdca26"
                          ],
                          [
                            1,
                            "#f0f921"
                          ]
                        ],
                        "type": "contour"
                      }
                    ],
                    "contourcarpet": [
                      {
                        "colorbar": {
                          "outlinewidth": 0,
                          "ticks": ""
                        },
                        "type": "contourcarpet"
                      }
                    ],
                    "heatmap": [
                      {
                        "colorbar": {
                          "outlinewidth": 0,
                          "ticks": ""
                        },
                        "colorscale": [
                          [
                            0,
                            "#0d0887"
                          ],
                          [
                            0.1111111111111111,
                            "#46039f"
                          ],
                          [
                            0.2222222222222222,
                            "#7201a8"
                          ],
                          [
                            0.3333333333333333,
                            "#9c179e"
                          ],
                          [
                            0.4444444444444444,
                            "#bd3786"
                          ],
                          [
                            0.5555555555555556,
                            "#d8576b"
                          ],
                          [
                            0.6666666666666666,
                            "#ed7953"
                          ],
                          [
                            0.7777777777777778,
                            "#fb9f3a"
                          ],
                          [
                            0.8888888888888888,
                            "#fdca26"
                          ],
                          [
                            1,
                            "#f0f921"
                          ]
                        ],
                        "type": "heatmap"
                      }
                    ],
                    "heatmapgl": [
                      {
                        "colorbar": {
                          "outlinewidth": 0,
                          "ticks": ""
                        },
                        "colorscale": [
                          [
                            0,
                            "#0d0887"
                          ],
                          [
                            0.1111111111111111,
                            "#46039f"
                          ],
                          [
                            0.2222222222222222,
                            "#7201a8"
                          ],
                          [
                            0.3333333333333333,
                            "#9c179e"
                          ],
                          [
                            0.4444444444444444,
                            "#bd3786"
                          ],
                          [
                            0.5555555555555556,
                            "#d8576b"
                          ],
                          [
                            0.6666666666666666,
                            "#ed7953"
                          ],
                          [
                            0.7777777777777778,
                            "#fb9f3a"
                          ],
                          [
                            0.8888888888888888,
                            "#fdca26"
                          ],
                          [
                            1,
                            "#f0f921"
                          ]
                        ],
                        "type": "heatmapgl"
                      }
                    ],
                    "histogram": [
                      {
                        "marker": {
                          "pattern": {
                            "fillmode": "overlay",
                            "size": 10,
                            "solidity": 0.2
                          }
                        },
                        "type": "histogram"
                      }
                    ],
                    "histogram2d": [
                      {
                        "colorbar": {
                          "outlinewidth": 0,
                          "ticks": ""
                        },
                        "colorscale": [
                          [
                            0,
                            "#0d0887"
                          ],
                          [
                            0.1111111111111111,
                            "#46039f"
                          ],
                          [
                            0.2222222222222222,
                            "#7201a8"
                          ],
                          [
                            0.3333333333333333,
                            "#9c179e"
                          ],
                          [
                            0.4444444444444444,
                            "#bd3786"
                          ],
                          [
                            0.5555555555555556,
                            "#d8576b"
                          ],
                          [
                            0.6666666666666666,
                            "#ed7953"
                          ],
                          [
                            0.7777777777777778,
                            "#fb9f3a"
                          ],
                          [
                            0.8888888888888888,
                            "#fdca26"
                          ],
                          [
                            1,
                            "#f0f921"
                          ]
                        ],
                        "type": "histogram2d"
                      }
                    ],
                    "histogram2dcontour": [
                      {
                        "colorbar": {
                          "outlinewidth": 0,
                          "ticks": ""
                        },
                        "colorscale": [
                          [
                            0,
                            "#0d0887"
                          ],
                          [
                            0.1111111111111111,
                            "#46039f"
                          ],
                          [
                            0.2222222222222222,
                            "#7201a8"
                          ],
                          [
                            0.3333333333333333,
                            "#9c179e"
                          ],
                          [
                            0.4444444444444444,
                            "#bd3786"
                          ],
                          [
                            0.5555555555555556,
                            "#d8576b"
                          ],
                          [
                            0.6666666666666666,
                            "#ed7953"
                          ],
                          [
                            0.7777777777777778,
                            "#fb9f3a"
                          ],
                          [
                            0.8888888888888888,
                            "#fdca26"
                          ],
                          [
                            1,
                            "#f0f921"
                          ]
                        ],
                        "type": "histogram2dcontour"
                      }
                    ],
                    "mesh3d": [
                      {
                        "colorbar": {
                          "outlinewidth": 0,
                          "ticks": ""
                        },
                        "type": "mesh3d"
                      }
                    ],
                    "parcoords": [
                      {
                        "line": {
                          "colorbar": {
                            "outlinewidth": 0,
                            "ticks": ""
                          }
                        },
                        "type": "parcoords"
                      }
                    ],
                    "pie": [
                      {
                        "automargin": true,
                        "type": "pie"
                      }
                    ],
                    "scatter": [
                      {
                        "fillpattern": {
                          "fillmode": "overlay",
                          "size": 10,
                          "solidity": 0.2
                        },
                        "type": "scatter"
                      }
                    ],
                    "scatter3d": [
                      {
                        "line": {
                          "colorbar": {
                            "outlinewidth": 0,
                            "ticks": ""
                          }
                        },
                        "marker": {
                          "colorbar": {
                            "outlinewidth": 0,
                            "ticks": ""
                          }
                        },
                        "type": "scatter3d"
                      }
                    ],
                    "scattercarpet": [
                      {
                        "marker": {
                          "colorbar": {
                            "outlinewidth": 0,
                            "ticks": ""
                          }
                        },
                        "type": "scattercarpet"
                      }
                    ],
                    "scattergeo": [
                      {
                        "marker": {
                          "colorbar": {
                            "outlinewidth": 0,
                            "ticks": ""
                          }
                        },
                        "type": "scattergeo"
                      }
                    ],
                    "scattergl": [
                      {
                        "marker": {
                          "colorbar": {
                            "outlinewidth": 0,
                            "ticks": ""
                          }
                        },
                        "type": "scattergl"
                      }
                    ],
                    "scattermapbox": [
                      {
                        "marker": {
                          "colorbar": {
                            "outlinewidth": 0,
                            "ticks": ""
                          }
                        },
                        "type": "scattermapbox"
                      }
                    ],
                    "scatterpolar": [
                      {
                        "marker": {
                          "colorbar": {
                            "outlinewidth": 0,
                            "ticks": ""
                          }
                        },
                        "type": "scatterpolar"
                      }
                    ],
                    "scatterpolargl": [
                      {
                        "marker": {
                          "colorbar": {
                            "outlinewidth": 0,
                            "ticks": ""
                          }
                        },
                        "type": "scatterpolargl"
                      }
                    ],
                    "scatterternary": [
                      {
                        "marker": {
                          "colorbar": {
                            "outlinewidth": 0,
                            "ticks": ""
                          }
                        },
                        "type": "scatterternary"
                      }
                    ],
                    "surface": [
                      {
                        "colorbar": {
                          "outlinewidth": 0,
                          "ticks": ""
                        },
                        "colorscale": [
                          [
                            0,
                            "#0d0887"
                          ],
                          [
                            0.1111111111111111,
                            "#46039f"
                          ],
                          [
                            0.2222222222222222,
                            "#7201a8"
                          ],
                          [
                            0.3333333333333333,
                            "#9c179e"
                          ],
                          [
                            0.4444444444444444,
                            "#bd3786"
                          ],
                          [
                            0.5555555555555556,
                            "#d8576b"
                          ],
                          [
                            0.6666666666666666,
                            "#ed7953"
                          ],
                          [
                            0.7777777777777778,
                            "#fb9f3a"
                          ],
                          [
                            0.8888888888888888,
                            "#fdca26"
                          ],
                          [
                            1,
                            "#f0f921"
                          ]
                        ],
                        "type": "surface"
                      }
                    ],
                    "table": [
                      {
                        "cells": {
                          "fill": {
                            "color": "#EBF0F8"
                          },
                          "line": {
                            "color": "white"
                          }
                        },
                        "header": {
                          "fill": {
                            "color": "#C8D4E3"
                          },
                          "line": {
                            "color": "white"
                          }
                        },
                        "type": "table"
                      }
                    ]
                  },
                  "layout": {
                    "annotationdefaults": {
                      "arrowcolor": "#2a3f5f",
                      "arrowhead": 0,
                      "arrowwidth": 1
                    },
                    "autotypenumbers": "strict",
                    "coloraxis": {
                      "colorbar": {
                        "outlinewidth": 0,
                        "ticks": ""
                      }
                    },
                    "colorscale": {
                      "diverging": [
                        [
                          0,
                          "#8e0152"
                        ],
                        [
                          0.1,
                          "#c51b7d"
                        ],
                        [
                          0.2,
                          "#de77ae"
                        ],
                        [
                          0.3,
                          "#f1b6da"
                        ],
                        [
                          0.4,
                          "#fde0ef"
                        ],
                        [
                          0.5,
                          "#f7f7f7"
                        ],
                        [
                          0.6,
                          "#e6f5d0"
                        ],
                        [
                          0.7,
                          "#b8e186"
                        ],
                        [
                          0.8,
                          "#7fbc41"
                        ],
                        [
                          0.9,
                          "#4d9221"
                        ],
                        [
                          1,
                          "#276419"
                        ]
                      ],
                      "sequential": [
                        [
                          0,
                          "#0d0887"
                        ],
                        [
                          0.1111111111111111,
                          "#46039f"
                        ],
                        [
                          0.2222222222222222,
                          "#7201a8"
                        ],
                        [
                          0.3333333333333333,
                          "#9c179e"
                        ],
                        [
                          0.4444444444444444,
                          "#bd3786"
                        ],
                        [
                          0.5555555555555556,
                          "#d8576b"
                        ],
                        [
                          0.6666666666666666,
                          "#ed7953"
                        ],
                        [
                          0.7777777777777778,
                          "#fb9f3a"
                        ],
                        [
                          0.8888888888888888,
                          "#fdca26"
                        ],
                        [
                          1,
                          "#f0f921"
                        ]
                      ],
                      "sequentialminus": [
                        [
                          0,
                          "#0d0887"
                        ],
                        [
                          0.1111111111111111,
                          "#46039f"
                        ],
                        [
                          0.2222222222222222,
                          "#7201a8"
                        ],
                        [
                          0.3333333333333333,
                          "#9c179e"
                        ],
                        [
                          0.4444444444444444,
                          "#bd3786"
                        ],
                        [
                          0.5555555555555556,
                          "#d8576b"
                        ],
                        [
                          0.6666666666666666,
                          "#ed7953"
                        ],
                        [
                          0.7777777777777778,
                          "#fb9f3a"
                        ],
                        [
                          0.8888888888888888,
                          "#fdca26"
                        ],
                        [
                          1,
                          "#f0f921"
                        ]
                      ]
                    },
                    "colorway": [
                      "#636efa",
                      "#EF553B",
                      "#00cc96",
                      "#ab63fa",
                      "#FFA15A",
                      "#19d3f3",
                      "#FF6692",
                      "#B6E880",
                      "#FF97FF",
                      "#FECB52"
                    ],
                    "font": {
                      "color": "#2a3f5f"
                    },
                    "geo": {
                      "bgcolor": "white",
                      "lakecolor": "white",
                      "landcolor": "#E5ECF6",
                      "showlakes": true,
                      "showland": true,
                      "subunitcolor": "white"
                    },
                    "hoverlabel": {
                      "align": "left"
                    },
                    "hovermode": "closest",
                    "mapbox": {
                      "style": "light"
                    },
                    "paper_bgcolor": "white",
                    "plot_bgcolor": "#E5ECF6",
                    "polar": {
                      "angularaxis": {
                        "gridcolor": "white",
                        "linecolor": "white",
                        "ticks": ""
                      },
                      "bgcolor": "#E5ECF6",
                      "radialaxis": {
                        "gridcolor": "white",
                        "linecolor": "white",
                        "ticks": ""
                      }
                    },
                    "scene": {
                      "xaxis": {
                        "backgroundcolor": "#E5ECF6",
                        "gridcolor": "white",
                        "gridwidth": 2,
                        "linecolor": "white",
                        "showbackground": true,
                        "ticks": "",
                        "zerolinecolor": "white"
                      },
                      "yaxis": {
                        "backgroundcolor": "#E5ECF6",
                        "gridcolor": "white",
                        "gridwidth": 2,
                        "linecolor": "white",
                        "showbackground": true,
                        "ticks": "",
                        "zerolinecolor": "white"
                      },
                      "zaxis": {
                        "backgroundcolor": "#E5ECF6",
                        "gridcolor": "white",
                        "gridwidth": 2,
                        "linecolor": "white",
                        "showbackground": true,
                        "ticks": "",
                        "zerolinecolor": "white"
                      }
                    },
                    "shapedefaults": {
                      "line": {
                        "color": "#2a3f5f"
                      }
                    },
                    "ternary": {
                      "aaxis": {
                        "gridcolor": "white",
                        "linecolor": "white",
                        "ticks": ""
                      },
                      "baxis": {
                        "gridcolor": "white",
                        "linecolor": "white",
                        "ticks": ""
                      },
                      "bgcolor": "#E5ECF6",
                      "caxis": {
                        "gridcolor": "white",
                        "linecolor": "white",
                        "ticks": ""
                      }
                    },
                    "title": {
                      "x": 0.05
                    },
                    "xaxis": {
                      "automargin": true,
                      "gridcolor": "white",
                      "linecolor": "white",
                      "ticks": "",
                      "title": {
                        "standoff": 15
                      },
                      "zerolinecolor": "white",
                      "zerolinewidth": 2
                    },
                    "yaxis": {
                      "automargin": true,
                      "gridcolor": "white",
                      "linecolor": "white",
                      "ticks": "",
                      "title": {
                        "standoff": 15
                      },
                      "zerolinecolor": "white",
                      "zerolinewidth": 2
                    }
                  }
                },
                "title": {
                  "text": "Распределение Заработной Платы для Data Scientists по Возможности Удаленной Работы"
                },
                "width": 1100,
                "xaxis": {
                  "anchor": "y",
                  "domain": [
                    0,
                    1
                  ],
                  "range": [
                    0,
                    300000
                  ]
                },
                "xaxis2": {
                  "anchor": "y2",
                  "domain": [
                    0,
                    1
                  ],
                  "range": [
                    0,
                    300000
                  ]
                },
                "xaxis3": {
                  "anchor": "y3",
                  "domain": [
                    0,
                    1
                  ],
                  "range": [
                    0,
                    300000
                  ]
                },
                "yaxis": {
                  "anchor": "x",
                  "domain": [
                    0.7333333333333333,
                    1
                  ]
                },
                "yaxis2": {
                  "anchor": "x2",
                  "domain": [
                    0.36666666666666664,
                    0.6333333333333333
                  ]
                },
                "yaxis3": {
                  "anchor": "x3",
                  "domain": [
                    0,
                    0.26666666666666666
                  ]
                }
              }
            }
          },
          "metadata": {},
          "output_type": "display_data"
        }
      ],
      "source": [
        "#remote_ratio is a numerical feature, thus need to filter by remote_ratio for easier visualization\n",
        "no_distance = salaries[(salaries['job_title'] == 'Data Scientist') & (salaries['remote_ratio'] == 0)]\n",
        "part_distance = salaries[(salaries['job_title'] == 'Data Scientist') & (salaries['remote_ratio'] == 50)]\n",
        "full_distance = salaries[(salaries['job_title'] == 'Data Scientist') & (salaries['remote_ratio'] == 100)]\n",
        "\n",
        "#create side-by-side plots\n",
        "fig = make_subplots(rows=3, cols=1)\n",
        "\n",
        "#first graph\n",
        "fig.add_trace(\n",
        "    go.Box(x=no_distance['salary'], name='Очная Работа'),\n",
        "    row=1, col=1\n",
        ")\n",
        "\n",
        "#set the same axis limits\n",
        "fig.update_xaxes(range=[0, 300000])\n",
        "\n",
        "\n",
        "#second graph\n",
        "fig.add_trace(\n",
        "    go.Box(x=part_distance['salary'], name='Гибридная Работа'),\n",
        "    row=2, col=1\n",
        ")\n",
        "\n",
        "#set the same axis limits\n",
        "fig.update_xaxes(range=[0, 300000])\n",
        "\n",
        "\n",
        "#third graph\n",
        "fig.add_trace(\n",
        "    go.Box(x=full_distance['salary'], name='Удаленная Работа'),\n",
        "    row=3, col=1\n",
        ")\n",
        "\n",
        "#set the same axis limits\n",
        "fig.update_xaxes(range=[0, 300000])\n",
        "\n",
        "#set characteristics\n",
        "fig.update_layout(height=800,\n",
        "                  width=1100,\n",
        "                  showlegend=False,\n",
        "                  title_text='Распределение Заработной Платы для Data Scientists по Возможности Удаленной Работы'\n",
        ")\n",
        "\n",
        "fig.show()"
      ]
    },
    {
      "cell_type": "code",
      "execution_count": 242,
      "metadata": {},
      "outputs": [
        {
          "name": "stdout",
          "output_type": "stream",
          "text": [
            "Распределение Заработной Платы для Data Scientists по Возможности Удаленной Работы\n"
          ]
        },
        {
          "data": {
            "text/html": [
              "<div>\n",
              "<style scoped>\n",
              "    .dataframe tbody tr th:only-of-type {\n",
              "        vertical-align: middle;\n",
              "    }\n",
              "\n",
              "    .dataframe tbody tr th {\n",
              "        vertical-align: top;\n",
              "    }\n",
              "\n",
              "    .dataframe thead th {\n",
              "        text-align: right;\n",
              "    }\n",
              "</style>\n",
              "<table border=\"1\" class=\"dataframe\">\n",
              "  <thead>\n",
              "    <tr style=\"text-align: right;\">\n",
              "      <th></th>\n",
              "      <th>count</th>\n",
              "      <th>mean</th>\n",
              "      <th>std</th>\n",
              "      <th>min</th>\n",
              "      <th>25%</th>\n",
              "      <th>50%</th>\n",
              "      <th>75%</th>\n",
              "      <th>max</th>\n",
              "    </tr>\n",
              "    <tr>\n",
              "      <th>remote_ratio</th>\n",
              "      <th></th>\n",
              "      <th></th>\n",
              "      <th></th>\n",
              "      <th></th>\n",
              "      <th></th>\n",
              "      <th></th>\n",
              "      <th></th>\n",
              "      <th></th>\n",
              "    </tr>\n",
              "  </thead>\n",
              "  <tbody>\n",
              "    <tr>\n",
              "      <th>0</th>\n",
              "      <td>38.0</td>\n",
              "      <td>98444.97</td>\n",
              "      <td>58647.60</td>\n",
              "      <td>2859.0</td>\n",
              "      <td>49781.25</td>\n",
              "      <td>93582.0</td>\n",
              "      <td>139050.0</td>\n",
              "      <td>215300.0</td>\n",
              "    </tr>\n",
              "    <tr>\n",
              "      <th>50</th>\n",
              "      <td>24.0</td>\n",
              "      <td>73827.83</td>\n",
              "      <td>36204.18</td>\n",
              "      <td>20171.0</td>\n",
              "      <td>47783.75</td>\n",
              "      <td>62726.0</td>\n",
              "      <td>102250.0</td>\n",
              "      <td>147000.0</td>\n",
              "    </tr>\n",
              "    <tr>\n",
              "      <th>100</th>\n",
              "      <td>67.0</td>\n",
              "      <td>112073.87</td>\n",
              "      <td>61329.08</td>\n",
              "      <td>5679.0</td>\n",
              "      <td>60412.00</td>\n",
              "      <td>105000.0</td>\n",
              "      <td>159100.0</td>\n",
              "      <td>260000.0</td>\n",
              "    </tr>\n",
              "  </tbody>\n",
              "</table>\n",
              "</div>"
            ],
            "text/plain": [
              "              count       mean       std      min       25%       50%  \\\n",
              "remote_ratio                                                            \n",
              "0              38.0   98444.97  58647.60   2859.0  49781.25   93582.0   \n",
              "50             24.0   73827.83  36204.18  20171.0  47783.75   62726.0   \n",
              "100            67.0  112073.87  61329.08   5679.0  60412.00  105000.0   \n",
              "\n",
              "                   75%       max  \n",
              "remote_ratio                      \n",
              "0             139050.0  215300.0  \n",
              "50            102250.0  147000.0  \n",
              "100           159100.0  260000.0  "
            ]
          },
          "execution_count": 242,
          "metadata": {},
          "output_type": "execute_result"
        }
      ],
      "source": [
        "data_agg = ds_salary.groupby('remote_ratio')['salary'].describe().round(2)\n",
        "print('Распределение Заработной Платы для Data Scientists по Возможности Удаленной Работы')\n",
        "data_agg"
      ]
    },
    {
      "cell_type": "markdown",
      "metadata": {},
      "source": [
        "**Вывод:** \\\n",
        "Распределения заработой платы по возможности удаленной работы отличаются друг от друга, с наименьшим распределением для гибридной работы. \\\n",
        "Однако, чтобы определить, являются ли эти различия статистически значимыми необходимо статистическое тестирование."
      ]
    },
    {
      "cell_type": "markdown",
      "metadata": {},
      "source": [
        "### Влияет ли опыт работы на заработную плату Data Scientist?"
      ]
    },
    {
      "cell_type": "code",
      "execution_count": 243,
      "metadata": {},
      "outputs": [
        {
          "data": {
            "application/vnd.plotly.v1+json": {
              "config": {
                "plotlyServerURL": "https://plot.ly"
              },
              "data": [
                {
                  "name": "Junior",
                  "type": "box",
                  "x": [
                    51321,
                    39916,
                    21669,
                    62726,
                    49268,
                    105000,
                    29751,
                    49646,
                    100000,
                    80000,
                    13400,
                    4000,
                    36643,
                    90000,
                    28399,
                    100000,
                    58000,
                    18442,
                    100000,
                    52396,
                    40000,
                    86703
                  ],
                  "xaxis": "x",
                  "yaxis": "y"
                },
                {
                  "name": "Intermediate",
                  "type": "box",
                  "x": [
                    79833,
                    35735,
                    40481,
                    45760,
                    76958,
                    105000,
                    38776,
                    118000,
                    138350,
                    62726,
                    42197,
                    73000,
                    50000,
                    9466,
                    82500,
                    150000,
                    75774,
                    119059,
                    2859,
                    40038,
                    5679,
                    90734,
                    147000,
                    61467,
                    37825,
                    160000,
                    12901,
                    116914,
                    33808,
                    56256,
                    88654,
                    46809,
                    115000,
                    130000,
                    16904,
                    25532,
                    109000,
                    130000,
                    90000,
                    65438,
                    39263,
                    71982,
                    45807,
                    31615,
                    183228,
                    91614,
                    200000,
                    120000,
                    100000,
                    35590,
                    48000,
                    122346,
                    69336,
                    135000,
                    78000,
                    141300,
                    102100,
                    160000,
                    130000
                  ],
                  "xaxis": "x2",
                  "yaxis": "y2"
                },
                {
                  "name": "Expert",
                  "type": "box",
                  "x": [
                    68428,
                    120000,
                    91237,
                    53192,
                    87738,
                    135000,
                    103691,
                    165000,
                    77684,
                    20171,
                    136620,
                    99360,
                    117789,
                    104702,
                    146000,
                    123000,
                    165220,
                    120160,
                    180000,
                    120000,
                    95550,
                    167000,
                    150000,
                    211500,
                    138600,
                    170000,
                    215300,
                    158200,
                    180000,
                    260000,
                    180000,
                    80000,
                    140400,
                    215300,
                    104890,
                    140000,
                    220000,
                    185100,
                    230000,
                    100000,
                    165000,
                    205300,
                    176000,
                    144000,
                    205300,
                    140400,
                    210000,
                    150000
                  ],
                  "xaxis": "x3",
                  "yaxis": "y3"
                }
              ],
              "layout": {
                "height": 800,
                "showlegend": false,
                "template": {
                  "data": {
                    "bar": [
                      {
                        "error_x": {
                          "color": "#2a3f5f"
                        },
                        "error_y": {
                          "color": "#2a3f5f"
                        },
                        "marker": {
                          "line": {
                            "color": "#E5ECF6",
                            "width": 0.5
                          },
                          "pattern": {
                            "fillmode": "overlay",
                            "size": 10,
                            "solidity": 0.2
                          }
                        },
                        "type": "bar"
                      }
                    ],
                    "barpolar": [
                      {
                        "marker": {
                          "line": {
                            "color": "#E5ECF6",
                            "width": 0.5
                          },
                          "pattern": {
                            "fillmode": "overlay",
                            "size": 10,
                            "solidity": 0.2
                          }
                        },
                        "type": "barpolar"
                      }
                    ],
                    "carpet": [
                      {
                        "aaxis": {
                          "endlinecolor": "#2a3f5f",
                          "gridcolor": "white",
                          "linecolor": "white",
                          "minorgridcolor": "white",
                          "startlinecolor": "#2a3f5f"
                        },
                        "baxis": {
                          "endlinecolor": "#2a3f5f",
                          "gridcolor": "white",
                          "linecolor": "white",
                          "minorgridcolor": "white",
                          "startlinecolor": "#2a3f5f"
                        },
                        "type": "carpet"
                      }
                    ],
                    "choropleth": [
                      {
                        "colorbar": {
                          "outlinewidth": 0,
                          "ticks": ""
                        },
                        "type": "choropleth"
                      }
                    ],
                    "contour": [
                      {
                        "colorbar": {
                          "outlinewidth": 0,
                          "ticks": ""
                        },
                        "colorscale": [
                          [
                            0,
                            "#0d0887"
                          ],
                          [
                            0.1111111111111111,
                            "#46039f"
                          ],
                          [
                            0.2222222222222222,
                            "#7201a8"
                          ],
                          [
                            0.3333333333333333,
                            "#9c179e"
                          ],
                          [
                            0.4444444444444444,
                            "#bd3786"
                          ],
                          [
                            0.5555555555555556,
                            "#d8576b"
                          ],
                          [
                            0.6666666666666666,
                            "#ed7953"
                          ],
                          [
                            0.7777777777777778,
                            "#fb9f3a"
                          ],
                          [
                            0.8888888888888888,
                            "#fdca26"
                          ],
                          [
                            1,
                            "#f0f921"
                          ]
                        ],
                        "type": "contour"
                      }
                    ],
                    "contourcarpet": [
                      {
                        "colorbar": {
                          "outlinewidth": 0,
                          "ticks": ""
                        },
                        "type": "contourcarpet"
                      }
                    ],
                    "heatmap": [
                      {
                        "colorbar": {
                          "outlinewidth": 0,
                          "ticks": ""
                        },
                        "colorscale": [
                          [
                            0,
                            "#0d0887"
                          ],
                          [
                            0.1111111111111111,
                            "#46039f"
                          ],
                          [
                            0.2222222222222222,
                            "#7201a8"
                          ],
                          [
                            0.3333333333333333,
                            "#9c179e"
                          ],
                          [
                            0.4444444444444444,
                            "#bd3786"
                          ],
                          [
                            0.5555555555555556,
                            "#d8576b"
                          ],
                          [
                            0.6666666666666666,
                            "#ed7953"
                          ],
                          [
                            0.7777777777777778,
                            "#fb9f3a"
                          ],
                          [
                            0.8888888888888888,
                            "#fdca26"
                          ],
                          [
                            1,
                            "#f0f921"
                          ]
                        ],
                        "type": "heatmap"
                      }
                    ],
                    "heatmapgl": [
                      {
                        "colorbar": {
                          "outlinewidth": 0,
                          "ticks": ""
                        },
                        "colorscale": [
                          [
                            0,
                            "#0d0887"
                          ],
                          [
                            0.1111111111111111,
                            "#46039f"
                          ],
                          [
                            0.2222222222222222,
                            "#7201a8"
                          ],
                          [
                            0.3333333333333333,
                            "#9c179e"
                          ],
                          [
                            0.4444444444444444,
                            "#bd3786"
                          ],
                          [
                            0.5555555555555556,
                            "#d8576b"
                          ],
                          [
                            0.6666666666666666,
                            "#ed7953"
                          ],
                          [
                            0.7777777777777778,
                            "#fb9f3a"
                          ],
                          [
                            0.8888888888888888,
                            "#fdca26"
                          ],
                          [
                            1,
                            "#f0f921"
                          ]
                        ],
                        "type": "heatmapgl"
                      }
                    ],
                    "histogram": [
                      {
                        "marker": {
                          "pattern": {
                            "fillmode": "overlay",
                            "size": 10,
                            "solidity": 0.2
                          }
                        },
                        "type": "histogram"
                      }
                    ],
                    "histogram2d": [
                      {
                        "colorbar": {
                          "outlinewidth": 0,
                          "ticks": ""
                        },
                        "colorscale": [
                          [
                            0,
                            "#0d0887"
                          ],
                          [
                            0.1111111111111111,
                            "#46039f"
                          ],
                          [
                            0.2222222222222222,
                            "#7201a8"
                          ],
                          [
                            0.3333333333333333,
                            "#9c179e"
                          ],
                          [
                            0.4444444444444444,
                            "#bd3786"
                          ],
                          [
                            0.5555555555555556,
                            "#d8576b"
                          ],
                          [
                            0.6666666666666666,
                            "#ed7953"
                          ],
                          [
                            0.7777777777777778,
                            "#fb9f3a"
                          ],
                          [
                            0.8888888888888888,
                            "#fdca26"
                          ],
                          [
                            1,
                            "#f0f921"
                          ]
                        ],
                        "type": "histogram2d"
                      }
                    ],
                    "histogram2dcontour": [
                      {
                        "colorbar": {
                          "outlinewidth": 0,
                          "ticks": ""
                        },
                        "colorscale": [
                          [
                            0,
                            "#0d0887"
                          ],
                          [
                            0.1111111111111111,
                            "#46039f"
                          ],
                          [
                            0.2222222222222222,
                            "#7201a8"
                          ],
                          [
                            0.3333333333333333,
                            "#9c179e"
                          ],
                          [
                            0.4444444444444444,
                            "#bd3786"
                          ],
                          [
                            0.5555555555555556,
                            "#d8576b"
                          ],
                          [
                            0.6666666666666666,
                            "#ed7953"
                          ],
                          [
                            0.7777777777777778,
                            "#fb9f3a"
                          ],
                          [
                            0.8888888888888888,
                            "#fdca26"
                          ],
                          [
                            1,
                            "#f0f921"
                          ]
                        ],
                        "type": "histogram2dcontour"
                      }
                    ],
                    "mesh3d": [
                      {
                        "colorbar": {
                          "outlinewidth": 0,
                          "ticks": ""
                        },
                        "type": "mesh3d"
                      }
                    ],
                    "parcoords": [
                      {
                        "line": {
                          "colorbar": {
                            "outlinewidth": 0,
                            "ticks": ""
                          }
                        },
                        "type": "parcoords"
                      }
                    ],
                    "pie": [
                      {
                        "automargin": true,
                        "type": "pie"
                      }
                    ],
                    "scatter": [
                      {
                        "fillpattern": {
                          "fillmode": "overlay",
                          "size": 10,
                          "solidity": 0.2
                        },
                        "type": "scatter"
                      }
                    ],
                    "scatter3d": [
                      {
                        "line": {
                          "colorbar": {
                            "outlinewidth": 0,
                            "ticks": ""
                          }
                        },
                        "marker": {
                          "colorbar": {
                            "outlinewidth": 0,
                            "ticks": ""
                          }
                        },
                        "type": "scatter3d"
                      }
                    ],
                    "scattercarpet": [
                      {
                        "marker": {
                          "colorbar": {
                            "outlinewidth": 0,
                            "ticks": ""
                          }
                        },
                        "type": "scattercarpet"
                      }
                    ],
                    "scattergeo": [
                      {
                        "marker": {
                          "colorbar": {
                            "outlinewidth": 0,
                            "ticks": ""
                          }
                        },
                        "type": "scattergeo"
                      }
                    ],
                    "scattergl": [
                      {
                        "marker": {
                          "colorbar": {
                            "outlinewidth": 0,
                            "ticks": ""
                          }
                        },
                        "type": "scattergl"
                      }
                    ],
                    "scattermapbox": [
                      {
                        "marker": {
                          "colorbar": {
                            "outlinewidth": 0,
                            "ticks": ""
                          }
                        },
                        "type": "scattermapbox"
                      }
                    ],
                    "scatterpolar": [
                      {
                        "marker": {
                          "colorbar": {
                            "outlinewidth": 0,
                            "ticks": ""
                          }
                        },
                        "type": "scatterpolar"
                      }
                    ],
                    "scatterpolargl": [
                      {
                        "marker": {
                          "colorbar": {
                            "outlinewidth": 0,
                            "ticks": ""
                          }
                        },
                        "type": "scatterpolargl"
                      }
                    ],
                    "scatterternary": [
                      {
                        "marker": {
                          "colorbar": {
                            "outlinewidth": 0,
                            "ticks": ""
                          }
                        },
                        "type": "scatterternary"
                      }
                    ],
                    "surface": [
                      {
                        "colorbar": {
                          "outlinewidth": 0,
                          "ticks": ""
                        },
                        "colorscale": [
                          [
                            0,
                            "#0d0887"
                          ],
                          [
                            0.1111111111111111,
                            "#46039f"
                          ],
                          [
                            0.2222222222222222,
                            "#7201a8"
                          ],
                          [
                            0.3333333333333333,
                            "#9c179e"
                          ],
                          [
                            0.4444444444444444,
                            "#bd3786"
                          ],
                          [
                            0.5555555555555556,
                            "#d8576b"
                          ],
                          [
                            0.6666666666666666,
                            "#ed7953"
                          ],
                          [
                            0.7777777777777778,
                            "#fb9f3a"
                          ],
                          [
                            0.8888888888888888,
                            "#fdca26"
                          ],
                          [
                            1,
                            "#f0f921"
                          ]
                        ],
                        "type": "surface"
                      }
                    ],
                    "table": [
                      {
                        "cells": {
                          "fill": {
                            "color": "#EBF0F8"
                          },
                          "line": {
                            "color": "white"
                          }
                        },
                        "header": {
                          "fill": {
                            "color": "#C8D4E3"
                          },
                          "line": {
                            "color": "white"
                          }
                        },
                        "type": "table"
                      }
                    ]
                  },
                  "layout": {
                    "annotationdefaults": {
                      "arrowcolor": "#2a3f5f",
                      "arrowhead": 0,
                      "arrowwidth": 1
                    },
                    "autotypenumbers": "strict",
                    "coloraxis": {
                      "colorbar": {
                        "outlinewidth": 0,
                        "ticks": ""
                      }
                    },
                    "colorscale": {
                      "diverging": [
                        [
                          0,
                          "#8e0152"
                        ],
                        [
                          0.1,
                          "#c51b7d"
                        ],
                        [
                          0.2,
                          "#de77ae"
                        ],
                        [
                          0.3,
                          "#f1b6da"
                        ],
                        [
                          0.4,
                          "#fde0ef"
                        ],
                        [
                          0.5,
                          "#f7f7f7"
                        ],
                        [
                          0.6,
                          "#e6f5d0"
                        ],
                        [
                          0.7,
                          "#b8e186"
                        ],
                        [
                          0.8,
                          "#7fbc41"
                        ],
                        [
                          0.9,
                          "#4d9221"
                        ],
                        [
                          1,
                          "#276419"
                        ]
                      ],
                      "sequential": [
                        [
                          0,
                          "#0d0887"
                        ],
                        [
                          0.1111111111111111,
                          "#46039f"
                        ],
                        [
                          0.2222222222222222,
                          "#7201a8"
                        ],
                        [
                          0.3333333333333333,
                          "#9c179e"
                        ],
                        [
                          0.4444444444444444,
                          "#bd3786"
                        ],
                        [
                          0.5555555555555556,
                          "#d8576b"
                        ],
                        [
                          0.6666666666666666,
                          "#ed7953"
                        ],
                        [
                          0.7777777777777778,
                          "#fb9f3a"
                        ],
                        [
                          0.8888888888888888,
                          "#fdca26"
                        ],
                        [
                          1,
                          "#f0f921"
                        ]
                      ],
                      "sequentialminus": [
                        [
                          0,
                          "#0d0887"
                        ],
                        [
                          0.1111111111111111,
                          "#46039f"
                        ],
                        [
                          0.2222222222222222,
                          "#7201a8"
                        ],
                        [
                          0.3333333333333333,
                          "#9c179e"
                        ],
                        [
                          0.4444444444444444,
                          "#bd3786"
                        ],
                        [
                          0.5555555555555556,
                          "#d8576b"
                        ],
                        [
                          0.6666666666666666,
                          "#ed7953"
                        ],
                        [
                          0.7777777777777778,
                          "#fb9f3a"
                        ],
                        [
                          0.8888888888888888,
                          "#fdca26"
                        ],
                        [
                          1,
                          "#f0f921"
                        ]
                      ]
                    },
                    "colorway": [
                      "#636efa",
                      "#EF553B",
                      "#00cc96",
                      "#ab63fa",
                      "#FFA15A",
                      "#19d3f3",
                      "#FF6692",
                      "#B6E880",
                      "#FF97FF",
                      "#FECB52"
                    ],
                    "font": {
                      "color": "#2a3f5f"
                    },
                    "geo": {
                      "bgcolor": "white",
                      "lakecolor": "white",
                      "landcolor": "#E5ECF6",
                      "showlakes": true,
                      "showland": true,
                      "subunitcolor": "white"
                    },
                    "hoverlabel": {
                      "align": "left"
                    },
                    "hovermode": "closest",
                    "mapbox": {
                      "style": "light"
                    },
                    "paper_bgcolor": "white",
                    "plot_bgcolor": "#E5ECF6",
                    "polar": {
                      "angularaxis": {
                        "gridcolor": "white",
                        "linecolor": "white",
                        "ticks": ""
                      },
                      "bgcolor": "#E5ECF6",
                      "radialaxis": {
                        "gridcolor": "white",
                        "linecolor": "white",
                        "ticks": ""
                      }
                    },
                    "scene": {
                      "xaxis": {
                        "backgroundcolor": "#E5ECF6",
                        "gridcolor": "white",
                        "gridwidth": 2,
                        "linecolor": "white",
                        "showbackground": true,
                        "ticks": "",
                        "zerolinecolor": "white"
                      },
                      "yaxis": {
                        "backgroundcolor": "#E5ECF6",
                        "gridcolor": "white",
                        "gridwidth": 2,
                        "linecolor": "white",
                        "showbackground": true,
                        "ticks": "",
                        "zerolinecolor": "white"
                      },
                      "zaxis": {
                        "backgroundcolor": "#E5ECF6",
                        "gridcolor": "white",
                        "gridwidth": 2,
                        "linecolor": "white",
                        "showbackground": true,
                        "ticks": "",
                        "zerolinecolor": "white"
                      }
                    },
                    "shapedefaults": {
                      "line": {
                        "color": "#2a3f5f"
                      }
                    },
                    "ternary": {
                      "aaxis": {
                        "gridcolor": "white",
                        "linecolor": "white",
                        "ticks": ""
                      },
                      "baxis": {
                        "gridcolor": "white",
                        "linecolor": "white",
                        "ticks": ""
                      },
                      "bgcolor": "#E5ECF6",
                      "caxis": {
                        "gridcolor": "white",
                        "linecolor": "white",
                        "ticks": ""
                      }
                    },
                    "title": {
                      "x": 0.05
                    },
                    "xaxis": {
                      "automargin": true,
                      "gridcolor": "white",
                      "linecolor": "white",
                      "ticks": "",
                      "title": {
                        "standoff": 15
                      },
                      "zerolinecolor": "white",
                      "zerolinewidth": 2
                    },
                    "yaxis": {
                      "automargin": true,
                      "gridcolor": "white",
                      "linecolor": "white",
                      "ticks": "",
                      "title": {
                        "standoff": 15
                      },
                      "zerolinecolor": "white",
                      "zerolinewidth": 2
                    }
                  }
                },
                "title": {
                  "text": "Распределение Заработной Платы для Data Scientists по Опыту Работы"
                },
                "width": 1100,
                "xaxis": {
                  "anchor": "y",
                  "domain": [
                    0,
                    1
                  ],
                  "range": [
                    0,
                    300000
                  ]
                },
                "xaxis2": {
                  "anchor": "y2",
                  "domain": [
                    0,
                    1
                  ],
                  "range": [
                    0,
                    300000
                  ]
                },
                "xaxis3": {
                  "anchor": "y3",
                  "domain": [
                    0,
                    1
                  ],
                  "range": [
                    0,
                    300000
                  ]
                },
                "yaxis": {
                  "anchor": "x",
                  "domain": [
                    0.7333333333333333,
                    1
                  ]
                },
                "yaxis2": {
                  "anchor": "x2",
                  "domain": [
                    0.36666666666666664,
                    0.6333333333333333
                  ]
                },
                "yaxis3": {
                  "anchor": "x3",
                  "domain": [
                    0,
                    0.26666666666666666
                  ]
                }
              }
            }
          },
          "metadata": {},
          "output_type": "display_data"
        }
      ],
      "source": [
        "#experience level converted to numerical feature for statistical testing, thus need to filter by experience_level for easier visualization\n",
        "entry = salaries[(salaries['job_title'] == 'Data Scientist') & (salaries['experience_level'] == 1)]\n",
        "middle = salaries[(salaries['job_title'] == 'Data Scientist') & (salaries['experience_level'] == 2)]\n",
        "senior = salaries[(salaries['job_title'] == 'Data Scientist') & (salaries['experience_level'] == 3)]\n",
        "\n",
        "#create side-by-side plots\n",
        "fig = make_subplots(rows=3, cols=1)\n",
        "\n",
        "#first graph\n",
        "fig.add_trace(\n",
        "    go.Box(x=entry['salary'], name='Junior'),\n",
        "    row=1, col=1\n",
        ")\n",
        "\n",
        "#set the same axis limits\n",
        "fig.update_xaxes(range=[0, 300000])\n",
        "\n",
        "\n",
        "#second graph\n",
        "fig.add_trace(\n",
        "    go.Box(x=middle['salary'], name='Intermediate'),\n",
        "    row=2, col=1\n",
        ")\n",
        "\n",
        "#set the same axis limits\n",
        "fig.update_xaxes(range=[0, 300000])\n",
        "\n",
        "\n",
        "#third graph\n",
        "fig.add_trace(\n",
        "    go.Box(x=senior['salary'], name='Expert'),\n",
        "    row=3, col=1\n",
        ")\n",
        "\n",
        "#set the same axis limits\n",
        "fig.update_xaxes(range=[0, 300000])\n",
        "\n",
        "#set characteristics\n",
        "fig.update_layout(height=800,\n",
        "                  width=1100,\n",
        "                  showlegend=False,\n",
        "                  title_text='Распределение Заработной Платы для Data Scientists по Опыту Работы'\n",
        ")\n",
        "\n",
        "fig.show()"
      ]
    },
    {
      "cell_type": "code",
      "execution_count": 244,
      "metadata": {},
      "outputs": [
        {
          "name": "stdout",
          "output_type": "stream",
          "text": [
            "Распределение Заработной Платы для Data Scientists по Опыту Работы\n"
          ]
        },
        {
          "data": {
            "text/html": [
              "<div>\n",
              "<style scoped>\n",
              "    .dataframe tbody tr th:only-of-type {\n",
              "        vertical-align: middle;\n",
              "    }\n",
              "\n",
              "    .dataframe tbody tr th {\n",
              "        vertical-align: top;\n",
              "    }\n",
              "\n",
              "    .dataframe thead th {\n",
              "        text-align: right;\n",
              "    }\n",
              "</style>\n",
              "<table border=\"1\" class=\"dataframe\">\n",
              "  <thead>\n",
              "    <tr style=\"text-align: right;\">\n",
              "      <th></th>\n",
              "      <th>count</th>\n",
              "      <th>mean</th>\n",
              "      <th>std</th>\n",
              "      <th>min</th>\n",
              "      <th>25%</th>\n",
              "      <th>50%</th>\n",
              "      <th>75%</th>\n",
              "      <th>max</th>\n",
              "    </tr>\n",
              "    <tr>\n",
              "      <th>experience_level</th>\n",
              "      <th></th>\n",
              "      <th></th>\n",
              "      <th></th>\n",
              "      <th></th>\n",
              "      <th></th>\n",
              "      <th></th>\n",
              "      <th></th>\n",
              "      <th></th>\n",
              "    </tr>\n",
              "  </thead>\n",
              "  <tbody>\n",
              "    <tr>\n",
              "      <th>1</th>\n",
              "      <td>22.0</td>\n",
              "      <td>55330.91</td>\n",
              "      <td>31237.82</td>\n",
              "      <td>4000.0</td>\n",
              "      <td>31474.0</td>\n",
              "      <td>50483.5</td>\n",
              "      <td>85027.25</td>\n",
              "      <td>105000.0</td>\n",
              "    </tr>\n",
              "    <tr>\n",
              "      <th>2</th>\n",
              "      <td>59.0</td>\n",
              "      <td>81891.76</td>\n",
              "      <td>47257.88</td>\n",
              "      <td>2859.0</td>\n",
              "      <td>41339.0</td>\n",
              "      <td>76958.0</td>\n",
              "      <td>118529.50</td>\n",
              "      <td>200000.0</td>\n",
              "    </tr>\n",
              "    <tr>\n",
              "      <th>3</th>\n",
              "      <td>48.0</td>\n",
              "      <td>145267.33</td>\n",
              "      <td>50597.67</td>\n",
              "      <td>20171.0</td>\n",
              "      <td>104843.0</td>\n",
              "      <td>142200.0</td>\n",
              "      <td>180000.00</td>\n",
              "      <td>260000.0</td>\n",
              "    </tr>\n",
              "  </tbody>\n",
              "</table>\n",
              "</div>"
            ],
            "text/plain": [
              "                  count       mean       std      min       25%       50%  \\\n",
              "experience_level                                                            \n",
              "1                  22.0   55330.91  31237.82   4000.0   31474.0   50483.5   \n",
              "2                  59.0   81891.76  47257.88   2859.0   41339.0   76958.0   \n",
              "3                  48.0  145267.33  50597.67  20171.0  104843.0  142200.0   \n",
              "\n",
              "                        75%       max  \n",
              "experience_level                       \n",
              "1                  85027.25  105000.0  \n",
              "2                 118529.50  200000.0  \n",
              "3                 180000.00  260000.0  "
            ]
          },
          "execution_count": 244,
          "metadata": {},
          "output_type": "execute_result"
        }
      ],
      "source": [
        "data_agg = ds_salary.groupby('experience_level')['salary'].describe().round(2)\n",
        "print('Распределение Заработной Платы для Data Scientists по Опыту Работы')\n",
        "data_agg"
      ]
    },
    {
      "cell_type": "markdown",
      "metadata": {},
      "source": [
        "**Вывод:** \\\n",
        "Как и стоило ожидать заработная плата растет в зависимости от опыта работы. \\\n",
        "Однако, чтобы определить, являются ли эти различия статистически значимыми необходимо статистическое тестирование."
      ]
    },
    {
      "cell_type": "markdown",
      "metadata": {
        "id": "-UcttLBPfd8-"
      },
      "source": [
        "## Статистический анализ данных"
      ]
    },
    {
      "cell_type": "code",
      "execution_count": 245,
      "metadata": {
        "id": "sn3PGE23l7Ze"
      },
      "outputs": [],
      "source": [
        "#function for p-value for normality testing\n",
        "def decision_normality(p):\n",
        "    print(f'p-value = {p:.3f}')\n",
        "    if p <= alpha:\n",
        "        print(f'p-значение меньше, чем заданный уровень значимости {alpha:.2f}. Распределение отлично от нормального')\n",
        "    else:\n",
        "        print(f'p-значение больше, чем заданный уровень значимости {alpha:.2f}. Распределение является нормальным')\n",
        "\n",
        "\n",
        "#function for Anderson Darling normality testing\n",
        "def anderson_darling(x):\n",
        "    for i in range(len(x.critical_values)):\n",
        "        sig_lev, crit_val = x.significance_level[i], x.critical_values[i]\n",
        "        if x.statistic < crit_val:\n",
        "            print(f'нормальное распределение: {crit_val} критическое значение на {sig_lev}% уровня значимости')\n",
        "        else:\n",
        "            print(f'ассиметричное распределение: {crit_val} критическое значение на {sig_lev}% уровня значимости')\n",
        "\n",
        "\n",
        "#function for p-value comparison for hypothesis testing\n",
        "def decision_hypothesis(p):\n",
        "    print(f'p-value = {p:.3f}')\n",
        "    if p <= alpha:\n",
        "        print(f'p-значение меньше, чем заданный уровень значимости {alpha:.2f}. Отвергаем нулевую гипотезу в пользу альтернативной.')\n",
        "    else:\n",
        "        print(f'p-значение больше, чем заданный уровень значимости {alpha:.2f}. У нас нет оснований отвергнуть нулевую гипотезу.')"
      ]
    },
    {
      "cell_type": "markdown",
      "metadata": {
        "id": "zxbl3BYLGKIW"
      },
      "source": [
        "### **1. Наблюдается ли ежегодный рост зарплат у специалистов Data Scientist?**\n",
        "\n",
        "**Сформулируем нулевую и альтернативные гипотезы**\n",
        "\n",
        "*Нулевая гипотеза* ($H_0$): размер заработной платы не отличается год на год: 2020 ($μ_1$), 2021 ($μ_2$), 2022 ($u_3$).\n",
        "\n",
        "$$ H_0 : μ_1 = μ_2 = μ_3$$\n",
        "\n",
        "*Альтернативная гипотеза* ($H_1$): размер заработной платы отличается год на год: 2020 ($μ_1$), 2021 ($μ_2$), 2022 ($u_3$).\n",
        "\n",
        "$$ H_1 : μ_1 \\neq μ_2 \\neq μ_3$$"
      ]
    },
    {
      "cell_type": "markdown",
      "metadata": {
        "id": "Yi8l7ZWSl7Ze"
      },
      "source": [
        "#### Проверка на Нормальность\n",
        "\n",
        "С помощью теста Shapiro-Wilk проверим, распределён ли признак нормально:\n",
        "\n",
        "*Нулевая гипотеза* ($H_0$): распределение данные является нормальным.\n",
        "\n",
        "*Альтернативная гипотеза* ($H_1$): распределение данных отлично от нормального."
      ]
    },
    {
      "cell_type": "code",
      "execution_count": 246,
      "metadata": {
        "colab": {
          "base_uri": "https://localhost:8080/"
        },
        "id": "bCxAGItPTHRe",
        "outputId": "334716f4-96c7-4a21-ca5f-c7d352adde2b"
      },
      "outputs": [
        {
          "name": "stdout",
          "output_type": "stream",
          "text": [
            "Для 2020:\n",
            "p-value = 0.145\n",
            "p-значение больше, чем заданный уровень значимости 0.05. Распределение является нормальным\n",
            "\n",
            "Для 2021:\n",
            "p-value = 0.107\n",
            "p-значение больше, чем заданный уровень значимости 0.05. Распределение является нормальным\n",
            "\n",
            "Для 2022:\n",
            "p-value = 0.676\n",
            "p-значение больше, чем заданный уровень значимости 0.05. Распределение является нормальным\n"
          ]
        }
      ],
      "source": [
        "#obtain the sample by year\n",
        "ds_salary_2020 = ds_salary.loc[ds_salary['work_year'] == 2020, 'salary']\n",
        "ds_salary_2021 = ds_salary.loc[ds_salary['work_year'] == 2021, 'salary']\n",
        "ds_salary_2022 = ds_salary.loc[ds_salary['work_year'] == 2022, 'salary']\n",
        "\n",
        "#execute Shapiro-Wilk\n",
        "print('Для 2020:')\n",
        "result = stats.shapiro(ds_salary_2020)\n",
        "decision_normality(result[1])\n",
        "print()\n",
        "\n",
        "print('Для 2021:')\n",
        "result = stats.shapiro(ds_salary_2021)\n",
        "decision_normality(result[1])\n",
        "print()\n",
        "\n",
        "print('Для 2022:')\n",
        "result = stats.shapiro(ds_salary_2022)\n",
        "decision_normality(result[1])"
      ]
    },
    {
      "cell_type": "markdown",
      "metadata": {},
      "source": [
        "С помощью теста Anderson-Darling проверим, распределён ли признак нормально:\n",
        "\n",
        "*Нулевая гипотеза* ($H_0$): распределение данные является нормальным.\n",
        "\n",
        "*Альтернативная гипотеза* ($H_1$): распределение данных отлично от нормального."
      ]
    },
    {
      "cell_type": "code",
      "execution_count": 247,
      "metadata": {},
      "outputs": [
        {
          "name": "stdout",
          "output_type": "stream",
          "text": [
            "Для 2020:\n",
            "stat=0.583\n",
            "ассиметричное распределение: 0.506 критическое значение на 15.0% уровня значимости\n",
            "ассиметричное распределение: 0.577 критическое значение на 10.0% уровня значимости\n",
            "нормальное распределение: 0.692 критическое значение на 5.0% уровня значимости\n",
            "нормальное распределение: 0.807 критическое значение на 2.5% уровня значимости\n",
            "нормальное распределение: 0.96 критическое значение на 1.0% уровня значимости\n",
            "\n",
            "Для 2021:\n",
            "stat=0.449\n",
            "нормальное распределение: 0.534 критическое значение на 15.0% уровня значимости\n",
            "нормальное распределение: 0.609 критическое значение на 10.0% уровня значимости\n",
            "нормальное распределение: 0.73 критическое значение на 5.0% уровня значимости\n",
            "нормальное распределение: 0.852 критическое значение на 2.5% уровня значимости\n",
            "нормальное распределение: 1.013 критическое значение на 1.0% уровня значимости\n",
            "\n",
            "Для 2022:\n",
            "stat=0.214\n",
            "нормальное распределение: 0.546 критическое значение на 15.0% уровня значимости\n",
            "нормальное распределение: 0.621 критическое значение на 10.0% уровня значимости\n",
            "нормальное распределение: 0.746 критическое значение на 5.0% уровня значимости\n",
            "нормальное распределение: 0.87 критическое значение на 2.5% уровня значимости\n",
            "нормальное распределение: 1.034 критическое значение на 1.0% уровня значимости\n"
          ]
        }
      ],
      "source": [
        "#execute Anderson-Darling\n",
        "print('Для 2020:')\n",
        "result = stats.anderson(ds_salary_2020)\n",
        "print('stat=%.3f' % (result.statistic))\n",
        "\n",
        "#interpret the result\n",
        "anderson_darling(result)\n",
        "print()\n",
        "\n",
        "print('Для 2021:')\n",
        "result = stats.anderson(ds_salary_2021)\n",
        "print('stat=%.3f' % (result.statistic))\n",
        "\n",
        "#interpret the result\n",
        "anderson_darling(result)\n",
        "print()\n",
        "\n",
        "print('Для 2022:')\n",
        "result = stats.anderson(ds_salary_2022)\n",
        "print('stat=%.3f' % (result.statistic))\n",
        "\n",
        "#interpret the result\n",
        "anderson_darling(result)"
      ]
    },
    {
      "cell_type": "markdown",
      "metadata": {},
      "source": [
        "Проверка на равенство дисперсий между выборками данных:"
      ]
    },
    {
      "cell_type": "code",
      "execution_count": 248,
      "metadata": {},
      "outputs": [
        {
          "name": "stdout",
          "output_type": "stream",
          "text": [
            "p-value = 0.040\n",
            "неравная дисперсия, необходимо использовать непараметрические тесты\n",
            "\n"
          ]
        }
      ],
      "source": [
        "#execute Levene Test for variance equality\n",
        "result = stats.levene(ds_salary_2020, ds_salary_2021, ds_salary_2022)\n",
        "pv = result[1]\n",
        "print(f'p-value = {pv:.3f}')\n",
        "\n",
        "#interpret the result\n",
        "if pv <= alpha:\n",
        "    print('неравная дисперсия, необходимо использовать непараметрические тесты')\n",
        "else:\n",
        "    print('равная дисперсия, можно использовать параметрические тесты')\n",
        "print()"
      ]
    },
    {
      "cell_type": "code",
      "execution_count": 249,
      "metadata": {},
      "outputs": [
        {
          "name": "stdout",
          "output_type": "stream",
          "text": [
            "7.0473345, 0.0294911\n",
            "неравная дисперсия, необходимо использовать непараметрические тесты\n",
            "\n"
          ]
        }
      ],
      "source": [
        "#Bartlett's Test\n",
        "test_statistic, p_value = stats.bartlett(ds_salary_2020, ds_salary_2021, ds_salary_2022)\n",
        "\n",
        "print(f'{test_statistic:.7f}, {p_value:.7f}')\n",
        "\n",
        "#interpret the result\n",
        "if p_value <= alpha:\n",
        "    print('неравная дисперсия, необходимо использовать непараметрические тесты')\n",
        "else:\n",
        "    print('равная дисперсия, можно использовать параметрические тесты')\n",
        "print()"
      ]
    },
    {
      "cell_type": "markdown",
      "metadata": {
        "id": "IBOYMwmfTHRu"
      },
      "source": [
        "**Выберем подходящий статистический тест**\n",
        "\n",
        "Для выбора нужного теста воспользуемся алгоритмом выбора теста:\n",
        "* Тип признака - Год: количественный;\n",
        "* Количество анализируемых групп: 3;\n",
        "* Зависимость групп: независимы;\n",
        "* Распределение по нормальному закону: да, но при неравных дисперсий используются только непараметрические тесты.\n",
        "\n",
        "Чтобы проверить нашу гипотезу, можно использовать **Kruskal-Wallis** для сравнения распределений на основе рангов."
      ]
    },
    {
      "cell_type": "code",
      "execution_count": 250,
      "metadata": {
        "colab": {
          "base_uri": "https://localhost:8080/"
        },
        "id": "xaQuaMV8THRu",
        "outputId": "0e37fc3b-bd2e-4166-8d52-f373fd82c672"
      },
      "outputs": [
        {
          "name": "stdout",
          "output_type": "stream",
          "text": [
            "p-value = 0.000\n",
            "p-значение меньше, чем заданный уровень значимости 0.05. Отвергаем нулевую гипотезу в пользу альтернативной.\n"
          ]
        }
      ],
      "source": [
        "#Kruskal-Wallis Test\n",
        "_, p = stats.kruskal(ds_salary_2020, ds_salary_2021, ds_salary_2022)\n",
        "\n",
        "#interpret the result\n",
        "decision_hypothesis(p)"
      ]
    },
    {
      "cell_type": "markdown",
      "metadata": {},
      "source": [
        "Для дополнительной проверки можно исключить год 2020 из анализа, и сравнить данные по двум последним годам, используя другой тест.\n",
        "\n",
        "*Нулевая гипотеза* ($H_0$): размер заработной платы за 2021 год ($μ_1$) больше или равен размеру заработной платы за 2022 год ($u_2$).\n",
        "\n",
        "$$ H_0 : μ_1 => μ_2$$\n",
        "\n",
        "*Альтернативная гипотеза* ($H_1$): размер заработной платы за 2021 год ($μ_1$) меньше размеру заработной платы за 2022 год ($u_2$).\n",
        "\n",
        "$$ H_1 : μ_1 < μ_2 $$\n",
        "\n",
        "Для выбора нужного теста воспользуемся алгоритмом выбора теста:\n",
        "* Тип признака - Год: количественный;\n",
        "* Количество анализируемых групп: 2;\n",
        "* Зависимость групп: независимы;\n",
        "* Распределение по нормальному закону: да.\n",
        "\n",
        "Чтобы проверить нашу гипотезу, можно использовать **Двухвыборочный t-Критерий** для сравнения распределений."
      ]
    },
    {
      "cell_type": "code",
      "execution_count": 251,
      "metadata": {},
      "outputs": [
        {
          "name": "stdout",
          "output_type": "stream",
          "text": [
            "p-value = 0.264\n",
            "равная дисперсия, поэтому equal_var=True в stats.ttest_ind.\n",
            "\n",
            "p-value = 0.000\n",
            "p-значение меньше, чем заданный уровень значимости 0.05. Отвергаем нулевую гипотезу в пользу альтернативной.\n"
          ]
        }
      ],
      "source": [
        "#execute Levene Test for variance equality\n",
        "result = stats.levene(ds_salary_2021, ds_salary_2022)\n",
        "pv = result[1]\n",
        "print(f'p-value = {pv:.3f}')\n",
        "\n",
        "#interpret the result\n",
        "if pv <= alpha:\n",
        "    print('неравная дисперсия, поэтому equal_var=False в stats.ttest_ind.')\n",
        "else:\n",
        "    print('равная дисперсия, поэтому equal_var=True в stats.ttest_ind.')\n",
        "print()\n",
        "\n",
        "#two-sample test\n",
        "if pv <= alpha:\n",
        "    _, p = stats.ttest_ind(ds_salary_2021, ds_salary_2022,\n",
        "                           alternative='less',\n",
        "                           equal_var=False)\n",
        "else:\n",
        "    _, p = stats.ttest_ind(ds_salary_2021, ds_salary_2022,\n",
        "                           alternative='less',\n",
        "                           equal_var=True)\n",
        "\n",
        "#interpret the result\n",
        "decision_hypothesis(p)"
      ]
    },
    {
      "cell_type": "markdown",
      "metadata": {},
      "source": [
        "**Вывод:** \\\n",
        "Проведены два теста -  непараметрический и параметрический, и в обоих случаях с риском в 5%, результат в пользу принятия альтернативной гипотезы, то есть заработная плата отличается год на год. \\\n",
        "Размер заработной платы за 2022 год значительно больше заработной платы за предыдущее годы. \\\n",
        "Есть основания утверждать, что размер заработной платы увеличивается год на год для специальности Data Scientist."
      ]
    },
    {
      "cell_type": "markdown",
      "metadata": {
        "id": "JW47VJo3Q99s"
      },
      "source": [
        "### **2. Как соотносятся зарплаты Data Scientist и Data Engineer в 2022 году?**\n",
        "\n",
        "\n",
        "**Сформулируем нулевую и альтернативные гипотезы**\n",
        "\n",
        "*Нулевая гипотеза* ($H_0$): размер заработной платы Data Scientist ($μ_1$) меньше или равно размеру заработной платы Data Engineer ($μ_2$).\n",
        "\n",
        "$$ H_0 : μ_1 <= μ_2$$\n",
        "\n",
        "*Альтернативная гипотеза* ($H_1$): размер заработной платы Data Scientist ($μ_1$) больше размеру заработной платы Data Engineer ($μ_2$).\n",
        "$$ H_1 : μ_1 > μ_2$$"
      ]
    },
    {
      "cell_type": "markdown",
      "metadata": {},
      "source": [
        "#### Проверка на Нормальность\n",
        "\n",
        "С помощью теста Shapiro-Wilk проверим, распределён ли признак нормально."
      ]
    },
    {
      "cell_type": "code",
      "execution_count": 252,
      "metadata": {
        "colab": {
          "base_uri": "https://localhost:8080/"
        },
        "id": "JxXzC7-_RNDj",
        "outputId": "6e4c2c71-7d7d-4510-883c-8a52b5f64149"
      },
      "outputs": [
        {
          "name": "stdout",
          "output_type": "stream",
          "text": [
            "Для Data Scientist:\n",
            "p-value = 0.676\n",
            "p-значение больше, чем заданный уровень значимости 0.05. Распределение является нормальным\n",
            "\n",
            "Для Data Engineer:\n",
            "p-value = 0.021\n",
            "p-значение меньше, чем заданный уровень значимости 0.05. Распределение отлично от нормального\n",
            "\n"
          ]
        }
      ],
      "source": [
        "#obtain the sample by position\n",
        "salary4ds = salary_by_year.loc[salary_by_year['job_title'] == 'Data Scientist', 'salary']\n",
        "salary4en = salary_by_year.loc[salary_by_year['job_title'] == 'Data Engineer', 'salary']\n",
        "\n",
        "#execute Shapiro-Wilk\n",
        "print('Для Data Scientist:')\n",
        "result = stats.shapiro(salary4ds)\n",
        "decision_normality(result[1])\n",
        "print()\n",
        "\n",
        "print('Для Data Engineer:')\n",
        "result = stats.shapiro(salary4en)\n",
        "decision_normality(result[1])\n",
        "print()"
      ]
    },
    {
      "cell_type": "markdown",
      "metadata": {},
      "source": [
        "С помощью теста Anderson-Darling проверим, распределён ли признак нормально."
      ]
    },
    {
      "cell_type": "code",
      "execution_count": 253,
      "metadata": {},
      "outputs": [
        {
          "name": "stdout",
          "output_type": "stream",
          "text": [
            "Для Data Scientist:\n",
            "stat=0.214\n",
            "нормальное распределение: 0.546 критическое значение на 15.0% уровня значимости\n",
            "нормальное распределение: 0.621 критическое значение на 10.0% уровня значимости\n",
            "нормальное распределение: 0.746 критическое значение на 5.0% уровня значимости\n",
            "нормальное распределение: 0.87 критическое значение на 2.5% уровня значимости\n",
            "нормальное распределение: 1.034 критическое значение на 1.0% уровня значимости\n",
            "\n",
            "Для Data Engineer:\n",
            "stat=0.841\n",
            "ассиметричное распределение: 0.55 критическое значение на 15.0% уровня значимости\n",
            "ассиметричное распределение: 0.626 критическое значение на 10.0% уровня значимости\n",
            "ассиметричное распределение: 0.752 критическое значение на 5.0% уровня значимости\n",
            "нормальное распределение: 0.877 критическое значение на 2.5% уровня значимости\n",
            "нормальное распределение: 1.043 критическое значение на 1.0% уровня значимости\n"
          ]
        }
      ],
      "source": [
        "#execute Anderson-Darling\n",
        "print('Для Data Scientist:')\n",
        "result = stats.anderson(salary4ds)\n",
        "print('stat=%.3f' % (result.statistic))\n",
        "\n",
        "#interpret the result\n",
        "anderson_darling(result)\n",
        "print()\n",
        "\n",
        "print('Для Data Engineer:')\n",
        "result = stats.anderson(salary4en)\n",
        "print('stat=%.3f' % (result.statistic))\n",
        "\n",
        "#interpret the result\n",
        "anderson_darling(result)"
      ]
    },
    {
      "cell_type": "markdown",
      "metadata": {
        "id": "gKIiBvTMRNDk"
      },
      "source": [
        "**Выберем подходящий статистический тест**\n",
        "\n",
        "Для выбора нужного теста воспользуемся алгоритмом выбора теста:\n",
        "* Тип признака - Размер Заработной Платы: количественный;\n",
        "* Количество анализируемых групп: 2;\n",
        "* Зависимость групп: независимы;\n",
        "* Распределение по нормальному закону: нет.\n",
        "  - одна группа (Data Engineer) не соответствует закону, поэтому необходимо воспользоваться непараметрическим тестом.\n",
        "\n",
        "Чтобы проверить нашу гипотезу, можно использовать **Mann Whitney U-Test** для сравнения распределений на основе рангов."
      ]
    },
    {
      "cell_type": "code",
      "execution_count": 254,
      "metadata": {
        "colab": {
          "base_uri": "https://localhost:8080/"
        },
        "id": "93N51wSsRNDk",
        "outputId": "0df1775e-94ad-41b1-d7fc-4d91335fc590"
      },
      "outputs": [
        {
          "name": "stdout",
          "output_type": "stream",
          "text": [
            "p-value = 0.128\n",
            "p-значение больше, чем заданный уровень значимости 0.05. У нас нет оснований отвергнуть нулевую гипотезу.\n"
          ]
        }
      ],
      "source": [
        "#Mann Whitney U-Test\n",
        "_, p = stats.mannwhitneyu(salary4ds, salary4en, alternative='greater')\n",
        "\n",
        "#interpret the result\n",
        "decision_hypothesis(p)"
      ]
    },
    {
      "cell_type": "markdown",
      "metadata": {
        "id": "yZogeviaRNDk"
      },
      "source": [
        "**Вывод:** \\\n",
        "По графику размер заработной платы для Data Scientist немного выше, чем размер заработной платы для Data Engineer, однако по статистическому тесту, включая риск в 5% это разница не статистически значима. \\\n",
        "Разница незначительна, поэтому нет оснований утверждать, что разница в зарплате между Data Scientist и Data Engineer значительно отличима, оплата труда примерно одинакова."
      ]
    },
    {
      "cell_type": "markdown",
      "metadata": {
        "id": "ByITCYyXGKb4"
      },
      "source": [
        "### 3. Как соотносятся зарплаты специалистов Data Scientist в компаниях различных размеров?\n",
        "\n",
        "**Сформулируем нулевую и альтернативные гипотезы**\n",
        "\n",
        "*Нулевая гипотеза*: размер заработной платы не отличается в зависимости от размера компании: небольшая компания ($μ_1$), средняя компания ($μ_2$), крупная компания ($μ_3$).\n",
        "\n",
        "$$ H_0 : μ_1 = μ_2 = μ_3$$\n",
        "\n",
        "*Альтернативная гипотеза*: размер заработной платы отличается в зависимости от размера компании: небольшая компания ($μ_1$), средняя компания ($μ_2$), крупная компания ($μ_3$).\n",
        "\n",
        "$$ H_1 : μ_1 \\neq μ_2 \\neq μ_3$$"
      ]
    },
    {
      "cell_type": "markdown",
      "metadata": {
        "id": "dPXLUo31l7Zg"
      },
      "source": [
        "#### Проверка на нормальность\n",
        "\n",
        "С помощью теста Шапиро-Уилка проверим, распределён ли признак нормально."
      ]
    },
    {
      "cell_type": "code",
      "execution_count": 255,
      "metadata": {
        "colab": {
          "base_uri": "https://localhost:8080/"
        },
        "id": "0g8PmvdlGKmP",
        "outputId": "48892466-4da7-4a58-c414-d3af794b053d"
      },
      "outputs": [
        {
          "name": "stdout",
          "output_type": "stream",
          "text": [
            "Для Небольной Компании:\n",
            "p-value = 0.189\n",
            "p-значение больше, чем заданный уровень значимости 0.05. Распределение является нормальным\n",
            "\n",
            "Для Средней Компании:\n",
            "p-value = 0.897\n",
            "p-значение больше, чем заданный уровень значимости 0.05. Распределение является нормальным\n",
            "\n",
            "Для Крупной Компании:\n",
            "p-value = 0.030\n",
            "p-значение меньше, чем заданный уровень значимости 0.05. Распределение отлично от нормального\n"
          ]
        }
      ],
      "source": [
        "#obtain the sample by company size\n",
        "small_sized = ds_salary.loc[ds_salary['company_size'] == 1, 'salary']\n",
        "medium_sized = ds_salary.loc[ds_salary['company_size'] == 2, 'salary']\n",
        "large_sized = ds_salary.loc[ds_salary['company_size'] == 3, 'salary']\n",
        "\n",
        "#execute Shapiro-Wilk\n",
        "print('Для Небольной Компании:')\n",
        "result = stats.shapiro(small_sized)\n",
        "decision_normality(result[1])\n",
        "print()\n",
        "\n",
        "print('Для Средней Компании:')\n",
        "result = stats.shapiro(medium_sized)\n",
        "decision_normality(result[1])\n",
        "print()\n",
        "\n",
        "print('Для Крупной Компании:')\n",
        "result = stats.shapiro(large_sized)\n",
        "decision_normality(result[1])"
      ]
    },
    {
      "cell_type": "markdown",
      "metadata": {},
      "source": [
        "С помощью теста Anderson-Darling проверим, распределён ли признак нормально."
      ]
    },
    {
      "cell_type": "code",
      "execution_count": 256,
      "metadata": {},
      "outputs": [
        {
          "name": "stdout",
          "output_type": "stream",
          "text": [
            "Для Небольной Компании:\n",
            "stat=0.417\n",
            "нормальное распределение: 0.508 критическое значение на 15.0% уровня значимости\n",
            "нормальное распределение: 0.579 критическое значение на 10.0% уровня значимости\n",
            "нормальное распределение: 0.694 критическое значение на 5.0% уровня значимости\n",
            "нормальное распределение: 0.81 критическое значение на 2.5% уровня значимости\n",
            "нормальное распределение: 0.963 критическое значение на 1.0% уровня значимости\n",
            "\n",
            "Для Средней Компании:\n",
            "stat=0.165\n",
            "нормальное распределение: 0.546 критическое значение на 15.0% уровня значимости\n",
            "нормальное распределение: 0.622 критическое значение на 10.0% уровня значимости\n",
            "нормальное распределение: 0.746 критическое значение на 5.0% уровня значимости\n",
            "нормальное распределение: 0.87 критическое значение на 2.5% уровня значимости\n",
            "нормальное распределение: 1.035 критическое значение на 1.0% уровня значимости\n",
            "\n",
            "Для Крупной Компании:\n",
            "stat=0.738\n",
            "ассиметричное распределение: 0.533 критическое значение на 15.0% уровня значимости\n",
            "ассиметричное распределение: 0.607 критическое значение на 10.0% уровня значимости\n",
            "ассиметричное распределение: 0.728 критическое значение на 5.0% уровня значимости\n",
            "нормальное распределение: 0.849 критическое значение на 2.5% уровня значимости\n",
            "нормальное распределение: 1.01 критическое значение на 1.0% уровня значимости\n"
          ]
        }
      ],
      "source": [
        "#execute Anderson-Darling\n",
        "print('Для Небольной Компании:')\n",
        "result = stats.anderson(small_sized)\n",
        "print('stat=%.3f' % (result.statistic))\n",
        "\n",
        "#interpret the result\n",
        "anderson_darling(result)\n",
        "print()\n",
        "\n",
        "print('Для Средней Компании:')\n",
        "result = stats.anderson(medium_sized)\n",
        "print('stat=%.3f' % (result.statistic))\n",
        "\n",
        "#interpret the result\n",
        "anderson_darling(result)\n",
        "print()\n",
        "\n",
        "print('Для Крупной Компании:')\n",
        "result = stats.anderson(large_sized)\n",
        "print('stat=%.3f' % (result.statistic))\n",
        "\n",
        "#interpret the result\n",
        "anderson_darling(result)"
      ]
    },
    {
      "cell_type": "markdown",
      "metadata": {
        "id": "FPq2KNq4dbWj"
      },
      "source": [
        "**Выберем подходящий статистический тест**\n",
        "\n",
        "Для выбора нужного теста воспользуемся алгоритмом выбора теста:\n",
        "* Тип признака - Размер Компании / Размер Заработной Платы: количественный;\n",
        "* Количество анализируемых групп: 3;\n",
        "* Зависимость групп: независимы;\n",
        "* Распределение по нормальному закону: нет.\n",
        "  - 2х группы (small, medium) распределены нормально, но одна группа (large) нет, поэтому необходимо воспользоваться непараметрическим тестом.\n",
        "\n",
        "Чтобы проверить нашу гипотезу, можно использовать **Kruskal-Wallis** для сравнения распределений на основе рангов."
      ]
    },
    {
      "cell_type": "code",
      "execution_count": 257,
      "metadata": {
        "colab": {
          "base_uri": "https://localhost:8080/"
        },
        "id": "ZIJjzAQxfnsp",
        "outputId": "11a9cf62-98d8-4de3-9cec-1c040577ac51"
      },
      "outputs": [
        {
          "name": "stdout",
          "output_type": "stream",
          "text": [
            "p-value = 0.000\n",
            "p-значение меньше, чем заданный уровень значимости 0.05. Отвергаем нулевую гипотезу в пользу альтернативной.\n"
          ]
        }
      ],
      "source": [
        "#execute Kruskal-Wallis\n",
        "_, p = stats.kruskal(small_sized, medium_sized, large_sized)\n",
        "\n",
        "#interpret the result\n",
        "decision_hypothesis(p)"
      ]
    },
    {
      "cell_type": "markdown",
      "metadata": {
        "id": "TESdSdapPblj"
      },
      "source": [
        "**Вывод:** \\\n",
        "При риске в 5% результат в пользу принятия альтернативной гипотезы, то есть заработная плата отличается в зависимости от размера компании. По графику видно, что уровень заработной платы выше, если сотрудник работает в средней или крупной компании по сравнению с маленькими организациями. \\\n",
        "Есть основания утверждать, что размер заработной платы выше в средних и крупных компаниях для специальности Data Scientist."
      ]
    },
    {
      "cell_type": "markdown",
      "metadata": {
        "id": "C_BzXnR7l7Zh"
      },
      "source": [
        "### 4. Есть ли связь между наличием должностей Data Scientist и Data Engineer и размером компании?"
      ]
    },
    {
      "cell_type": "markdown",
      "metadata": {
        "id": "nTL6_EGyl7Zh"
      },
      "source": [
        "**Сформулируем нулевую и альтернативные гипотезы**\n",
        "\n",
        "*Нулевая гипотеза*: между тем, в какой компании сотрудник работает, и его специальностью нет взаимосвязи (признаки независимы).\n",
        "\n",
        "*Альтернативная гипотеза*: между тем, в какой компании сотрудник работает, и его специальностью есть взаимосвязь (признаки зависимы).\n"
      ]
    },
    {
      "cell_type": "markdown",
      "metadata": {
        "id": "JBDWUoufl7Zh"
      },
      "source": [
        "**Выберем подходящий статистический тест**\n",
        "\n",
        "Для выбора нужного теста воспользуемся алгоритмом выбора теста:\n",
        "* Тип признака - Специальность: категориальный;\n",
        "* Количество анализируемых групп: 2;\n",
        "* Зависимость групп: независимы.\n",
        "\n",
        "Чтобы проверить нашу гипотезу, можно использовать **${\\chi}^2$** (хи-квадрат)."
      ]
    },
    {
      "cell_type": "code",
      "execution_count": 258,
      "metadata": {
        "colab": {
          "base_uri": "https://localhost:8080/",
          "height": 143
        },
        "id": "Hs4I-87_l7Zh",
        "outputId": "3c863879-9c55-497e-de9e-16dff9c07675"
      },
      "outputs": [
        {
          "data": {
            "text/html": [
              "<div>\n",
              "<style scoped>\n",
              "    .dataframe tbody tr th:only-of-type {\n",
              "        vertical-align: middle;\n",
              "    }\n",
              "\n",
              "    .dataframe tbody tr th {\n",
              "        vertical-align: top;\n",
              "    }\n",
              "\n",
              "    .dataframe thead th {\n",
              "        text-align: right;\n",
              "    }\n",
              "</style>\n",
              "<table border=\"1\" class=\"dataframe\">\n",
              "  <thead>\n",
              "    <tr style=\"text-align: right;\">\n",
              "      <th>job_title</th>\n",
              "      <th>Data Engineer</th>\n",
              "      <th>Data Scientist</th>\n",
              "    </tr>\n",
              "    <tr>\n",
              "      <th>company_size</th>\n",
              "      <th></th>\n",
              "      <th></th>\n",
              "    </tr>\n",
              "  </thead>\n",
              "  <tbody>\n",
              "    <tr>\n",
              "      <th>1</th>\n",
              "      <td>6</td>\n",
              "      <td>21</td>\n",
              "    </tr>\n",
              "    <tr>\n",
              "      <th>2</th>\n",
              "      <td>80</td>\n",
              "      <td>66</td>\n",
              "    </tr>\n",
              "    <tr>\n",
              "      <th>3</th>\n",
              "      <td>34</td>\n",
              "      <td>42</td>\n",
              "    </tr>\n",
              "  </tbody>\n",
              "</table>\n",
              "</div>"
            ],
            "text/plain": [
              "job_title     Data Engineer  Data Scientist\n",
              "company_size                               \n",
              "1                         6              21\n",
              "2                        80              66\n",
              "3                        34              42"
            ]
          },
          "execution_count": 258,
          "metadata": {},
          "output_type": "execute_result"
        }
      ],
      "source": [
        "#create a contingency table\n",
        "cross_table = pd.crosstab(size_by_position['company_size'], size_by_position['job_title'])\n",
        "cross_table"
      ]
    },
    {
      "cell_type": "markdown",
      "metadata": {},
      "source": [
        "**${\\chi}^2$** основан на аппроксимации, Fisher's Exact Test является одним из точных тестов. \\\n",
        "Когда более 20% ячеек имеют ожидаемые частоты <5, нам необходимо использовать Fisher's Exact Test, поскольку применение метода аппроксимации неадекватно."
      ]
    },
    {
      "cell_type": "code",
      "execution_count": 259,
      "metadata": {},
      "outputs": [
        {
          "name": "stdout",
          "output_type": "stream",
          "text": [
            "использовать Chi-Squared Test\n"
          ]
        }
      ],
      "source": [
        "#check whether any number of occurencies are less than 5\n",
        "check_table = []\n",
        "for x in cross_table['Data Engineer']:\n",
        "    for y in cross_table['Data Scientist']:\n",
        "        if x < 5:\n",
        "            check_table.append(x)\n",
        "        if y < 5:\n",
        "            check_table.append(y)\n",
        "\n",
        "if len(check_table) > 0:\n",
        "    print(\"использовать Fisher's Exact Test\")\n",
        "else:\n",
        "    print(\"использовать Chi-Squared Test\")"
      ]
    },
    {
      "cell_type": "code",
      "execution_count": 260,
      "metadata": {
        "colab": {
          "base_uri": "https://localhost:8080/"
        },
        "id": "QluLlU6Kl7Zh",
        "outputId": "93379b4f-594d-45a6-8283-733c181331fd"
      },
      "outputs": [
        {
          "name": "stdout",
          "output_type": "stream",
          "text": [
            "p-value = 0.006\n",
            "p-значение меньше, чем заданный уровень значимости 0.05. Отвергаем нулевую гипотезу в пользу альтернативной.\n"
          ]
        }
      ],
      "source": [
        "#Chi-Squared Test\n",
        "_, p, _, _ = stats.chi2_contingency(cross_table)\n",
        "\n",
        "#interpret the result\n",
        "decision_hypothesis(p)"
      ]
    },
    {
      "cell_type": "markdown",
      "metadata": {
        "id": "iX8a9h8Dl7Zh"
      },
      "source": [
        "**Вывод:** \\\n",
        "Согласно графику подсчета и таблице сопряженности существует связь между размером компании и количеством доступных должностей. По результатам тестирования критерии хи-квадрата взаимосвязь статистически значимая."
      ]
    },
    {
      "cell_type": "markdown",
      "metadata": {},
      "source": [
        "### 5. Как соотносятся зарплаты специалистов Data Scientist при возможности удаленной работы?\n",
        "\n",
        "**Сформулируем нулевую и альтернативные гипотезы**\n",
        "\n",
        "*Нулевая гипотеза*: размер заработной платы не отличается в зависимости от возможности удаленной работы: очная работа ($μ_1$), гибридная работа ($μ_2$), удаленная работа ($μ_3$).\n",
        "\n",
        "$$ H_0 : μ_1 = μ_2 = μ_3$$\n",
        "\n",
        "*Альтернативная гипотеза*: размер заработной платы отличается в зависимости от возможности удаленной работы: очная работа ($μ_1$), гибридная работа ($μ_2$), удаленная работа ($μ_3$).\n",
        "\n",
        "$$ H_1 : μ_1 \\neq μ_2 \\neq μ_3$$"
      ]
    },
    {
      "cell_type": "markdown",
      "metadata": {},
      "source": [
        "#### Проверка на нормальность\n",
        "\n",
        "С помощью теста Шапиро-Уилка проверим, распределён ли признак нормально."
      ]
    },
    {
      "cell_type": "code",
      "execution_count": 261,
      "metadata": {},
      "outputs": [
        {
          "name": "stdout",
          "output_type": "stream",
          "text": [
            "Для Очной Работы:\n",
            "p-value = 0.331\n",
            "p-значение больше, чем заданный уровень значимости 0.05. Распределение является нормальным\n",
            "\n",
            "Для Гибридной Работы:\n",
            "p-value = 0.387\n",
            "p-значение больше, чем заданный уровень значимости 0.05. Распределение является нормальным\n",
            "\n",
            "Для Удаленной Работы:\n",
            "p-value = 0.199\n",
            "p-значение больше, чем заданный уровень значимости 0.05. Распределение является нормальным\n"
          ]
        }
      ],
      "source": [
        "#obtain the sample by distance work\n",
        "no_dist_work = ds_salary.loc[ds_salary['remote_ratio'] == 0, 'salary']\n",
        "part_dist_work = ds_salary.loc[ds_salary['remote_ratio'] == 50, 'salary']\n",
        "full_dist_work = ds_salary.loc[ds_salary['remote_ratio'] == 100, 'salary']\n",
        "\n",
        "#execute Shapiro-Wilk\n",
        "print('Для Очной Работы:')\n",
        "result = stats.shapiro(no_dist_work)\n",
        "decision_normality(result[1])\n",
        "print()\n",
        "\n",
        "print('Для Гибридной Работы:')\n",
        "result = stats.shapiro(part_dist_work)\n",
        "decision_normality(result[1])\n",
        "print()\n",
        "\n",
        "print('Для Удаленной Работы:')\n",
        "result = stats.shapiro(full_dist_work)\n",
        "decision_normality(result[1])"
      ]
    },
    {
      "cell_type": "markdown",
      "metadata": {},
      "source": [
        "С помощью теста Anderson-Darling проверим, распределён ли признак нормально."
      ]
    },
    {
      "cell_type": "code",
      "execution_count": 262,
      "metadata": {},
      "outputs": [
        {
          "name": "stdout",
          "output_type": "stream",
          "text": [
            "Для Очной Работы:\n",
            "stat=0.283\n",
            "нормальное распределение: 0.529 критическое значение на 15.0% уровня значимости\n",
            "нормальное распределение: 0.603 критическое значение на 10.0% уровня значимости\n",
            "нормальное распределение: 0.723 критическое значение на 5.0% уровня значимости\n",
            "нормальное распределение: 0.844 критическое значение на 2.5% уровня значимости\n",
            "нормальное распределение: 1.004 критическое значение на 1.0% уровня значимости\n",
            "\n",
            "Для Гибридной Работы:\n",
            "stat=0.362\n",
            "нормальное распределение: 0.513 критическое значение на 15.0% уровня значимости\n",
            "нормальное распределение: 0.584 критическое значение на 10.0% уровня значимости\n",
            "нормальное распределение: 0.701 критическое значение на 5.0% уровня значимости\n",
            "нормальное распределение: 0.817 критическое значение на 2.5% уровня значимости\n",
            "нормальное распределение: 0.972 критическое значение на 1.0% уровня значимости\n",
            "\n",
            "Для Удаленной Работы:\n",
            "stat=0.425\n",
            "нормальное распределение: 0.546 критическое значение на 15.0% уровня значимости\n",
            "нормальное распределение: 0.622 критическое значение на 10.0% уровня значимости\n",
            "нормальное распределение: 0.747 критическое значение на 5.0% уровня значимости\n",
            "нормальное распределение: 0.871 критическое значение на 2.5% уровня значимости\n",
            "нормальное распределение: 1.036 критическое значение на 1.0% уровня значимости\n"
          ]
        }
      ],
      "source": [
        "#execute Anderson-Darling\n",
        "print('Для Очной Работы:')\n",
        "result = stats.anderson(no_dist_work)\n",
        "print('stat=%.3f' % (result.statistic))\n",
        "\n",
        "#interpret the result\n",
        "anderson_darling(result)\n",
        "print()\n",
        "\n",
        "print('Для Гибридной Работы:')\n",
        "result = stats.anderson(part_dist_work)\n",
        "print('stat=%.3f' % (result.statistic))\n",
        "\n",
        "#interpret the result\n",
        "anderson_darling(result)\n",
        "print()\n",
        "\n",
        "print('Для Удаленной Работы:')\n",
        "result = stats.anderson(full_dist_work)\n",
        "print('stat=%.3f' % (result.statistic))\n",
        "\n",
        "#interpret the result\n",
        "anderson_darling(result)"
      ]
    },
    {
      "cell_type": "markdown",
      "metadata": {},
      "source": [
        "Проверка на равенство дисперсий между выборками данных:"
      ]
    },
    {
      "cell_type": "code",
      "execution_count": 263,
      "metadata": {},
      "outputs": [
        {
          "name": "stdout",
          "output_type": "stream",
          "text": [
            "p-value = 0.026\n",
            "неравная дисперсия, необходимо использовать непараметрические тесты\n"
          ]
        }
      ],
      "source": [
        "#execute Levene Test for variance equality\n",
        "result = stats.levene(no_dist_work, part_dist_work, full_dist_work)\n",
        "pv = result[1]\n",
        "print(f'p-value = {pv:.3f}')\n",
        "\n",
        "#interpret the result\n",
        "if pv <= alpha:\n",
        "    print('неравная дисперсия, необходимо использовать непараметрические тесты')\n",
        "else:\n",
        "    print('равная дисперсия, можно использовать параметрические тесты')"
      ]
    },
    {
      "cell_type": "code",
      "execution_count": 264,
      "metadata": {},
      "outputs": [
        {
          "name": "stdout",
          "output_type": "stream",
          "text": [
            "7.8546344, 0.0196964\n",
            "неравная дисперсия, необходимо использовать непараметрические тесты\n",
            "\n"
          ]
        }
      ],
      "source": [
        "#Bartlett's Test\n",
        "test_statistic, p_value = stats.bartlett(no_dist_work, part_dist_work, full_dist_work)\n",
        "\n",
        "print(f'{test_statistic:.7f}, {p_value:.7f}')\n",
        "\n",
        "#interpret the result\n",
        "if p_value <= alpha:\n",
        "    print('неравная дисперсия, необходимо использовать непараметрические тесты')\n",
        "else:\n",
        "    print('равная дисперсия, можно использовать параметрические тесты')\n",
        "print()"
      ]
    },
    {
      "cell_type": "markdown",
      "metadata": {},
      "source": [
        "**Выберем подходящий статистический тест**\n",
        "\n",
        "Для выбора нужного теста воспользуемся алгоритмом выбора теста:\n",
        "* Тип признака - Общий Объем Работы: количественный;\n",
        "* Количество анализируемых групп: 3;\n",
        "* Зависимость групп: независимы;\n",
        "* Распределение по нормальному закону: да, но при неравных дисперсий используются только непараметрические тесты.\n",
        "\n",
        "Чтобы проверить нашу гипотезу, воспользуемся **Kruskal-Wallis** для сравнения распределений."
      ]
    },
    {
      "cell_type": "code",
      "execution_count": 265,
      "metadata": {},
      "outputs": [
        {
          "name": "stdout",
          "output_type": "stream",
          "text": [
            "p-value = 0.026\n",
            "p-значение меньше, чем заданный уровень значимости 0.05. Отвергаем нулевую гипотезу в пользу альтернативной.\n"
          ]
        }
      ],
      "source": [
        "#execute Kruskal-Wallis\n",
        "_, p = stats.kruskal(no_dist_work, part_dist_work, full_dist_work)\n",
        "\n",
        "#interpret the result\n",
        "decision_hypothesis(p)"
      ]
    },
    {
      "cell_type": "markdown",
      "metadata": {},
      "source": [
        "**Вывод:** \\\n",
        "Распределения заработой платы по возможности удаленной работы отличаются друг от друга, с наименьшим распределением для гибридной работы, и по результатам теста являются статистически значимыми."
      ]
    },
    {
      "cell_type": "markdown",
      "metadata": {},
      "source": [
        "### 6a. Влияет ли опыт работы на заработную плату Data Scientist??\n",
        "\n",
        "**Сформулируем нулевую и альтернативные гипотезы**\n",
        "\n",
        "*Нулевая гипотеза*: размер заработной платы не отличается по опыту работы: junior ($μ_1$), intermediate ($μ_2$), expert ($μ_3$).\n",
        "\n",
        "$$ H_0 : μ_1 = μ_2 = μ_3$$\n",
        "\n",
        "*Альтернативная гипотеза*: размер заработной платы отличается по опыту работы: junior ($μ_1$), intermediate ($μ_2$), expert ($μ_3$).\n",
        "\n",
        "$$ H_1 : μ_1 \\neq μ_2 \\neq μ_3$$"
      ]
    },
    {
      "cell_type": "markdown",
      "metadata": {},
      "source": [
        "#### Проверка на нормальность\n",
        "\n",
        "С помощью теста Шапиро-Уилка проверим, распределён ли признак нормально."
      ]
    },
    {
      "cell_type": "code",
      "execution_count": 266,
      "metadata": {},
      "outputs": [
        {
          "name": "stdout",
          "output_type": "stream",
          "text": [
            "Для Junior:\n",
            "p-value = 0.174\n",
            "p-значение больше, чем заданный уровень значимости 0.05. Распределение является нормальным\n",
            "\n",
            "Для Intermediate:\n",
            "p-value = 0.146\n",
            "p-значение больше, чем заданный уровень значимости 0.05. Распределение является нормальным\n",
            "\n",
            "Для Expert:\n",
            "p-value = 0.981\n",
            "p-значение больше, чем заданный уровень значимости 0.05. Распределение является нормальным\n"
          ]
        }
      ],
      "source": [
        "#obtain the sample by experience level\n",
        "junior = ds_salary.loc[ds_salary['experience_level'] == 1, 'salary']\n",
        "intermediate = ds_salary.loc[ds_salary['experience_level'] == 2, 'salary']\n",
        "expert = ds_salary.loc[ds_salary['experience_level'] == 3, 'salary']\n",
        "\n",
        "#execute Shapiro-Wilk\n",
        "print('Для Junior:')\n",
        "result = stats.shapiro(junior)\n",
        "decision_normality(result[1])\n",
        "print()\n",
        "\n",
        "print('Для Intermediate:')\n",
        "result = stats.shapiro(intermediate)\n",
        "decision_normality(result[1])\n",
        "print()\n",
        "\n",
        "print('Для Expert:')\n",
        "result = stats.shapiro(expert)\n",
        "decision_normality(result[1])"
      ]
    },
    {
      "cell_type": "markdown",
      "metadata": {},
      "source": [
        "С помощью теста Anderson-Darling проверим, распределён ли признак нормально."
      ]
    },
    {
      "cell_type": "code",
      "execution_count": 267,
      "metadata": {},
      "outputs": [
        {
          "name": "stdout",
          "output_type": "stream",
          "text": [
            "Для Junior:\n",
            "stat=0.484\n",
            "нормальное распределение: 0.51 критическое значение на 15.0% уровня значимости\n",
            "нормальное распределение: 0.58 критическое значение на 10.0% уровня значимости\n",
            "нормальное распределение: 0.696 критическое значение на 5.0% уровня значимости\n",
            "нормальное распределение: 0.812 критическое значение на 2.5% уровня значимости\n",
            "нормальное распределение: 0.966 критическое значение на 1.0% уровня значимости\n",
            "\n",
            "Для Intermediate:\n",
            "stat=0.568\n",
            "ассиметричное распределение: 0.543 критическое значение на 15.0% уровня значимости\n",
            "нормальное распределение: 0.619 критическое значение на 10.0% уровня значимости\n",
            "нормальное распределение: 0.742 критическое значение на 5.0% уровня значимости\n",
            "нормальное распределение: 0.866 критическое значение на 2.5% уровня значимости\n",
            "нормальное распределение: 1.03 критическое значение на 1.0% уровня значимости\n",
            "\n",
            "Для Expert:\n",
            "stat=0.179\n",
            "нормальное распределение: 0.537 критическое значение на 15.0% уровня значимости\n",
            "нормальное распределение: 0.612 критическое значение на 10.0% уровня значимости\n",
            "нормальное распределение: 0.734 критическое значение на 5.0% уровня значимости\n",
            "нормальное распределение: 0.856 критическое значение на 2.5% уровня значимости\n",
            "нормальное распределение: 1.018 критическое значение на 1.0% уровня значимости\n"
          ]
        }
      ],
      "source": [
        "#execute Anderson-Darling\n",
        "print('Для Junior:')\n",
        "result = stats.anderson(junior)\n",
        "print('stat=%.3f' % (result.statistic))\n",
        "\n",
        "#interpret the result\n",
        "anderson_darling(result)\n",
        "print()\n",
        "\n",
        "print('Для Intermediate:')\n",
        "result = stats.anderson(intermediate)\n",
        "print('stat=%.3f' % (result.statistic))\n",
        "\n",
        "#interpret the result\n",
        "anderson_darling(result)\n",
        "print()\n",
        "\n",
        "print('Для Expert:')\n",
        "result = stats.anderson(expert)\n",
        "print('stat=%.3f' % (result.statistic))\n",
        "\n",
        "#interpret the result\n",
        "anderson_darling(result)"
      ]
    },
    {
      "cell_type": "markdown",
      "metadata": {},
      "source": [
        "Проверка на равенство дисперсий между выборками данных:"
      ]
    },
    {
      "cell_type": "code",
      "execution_count": 268,
      "metadata": {},
      "outputs": [
        {
          "name": "stdout",
          "output_type": "stream",
          "text": [
            "p-value = 0.071\n",
            "равная дисперсия, можно использовать параметрические тесты\n"
          ]
        }
      ],
      "source": [
        "#execute Levene Test for variance equality\n",
        "result = stats.levene(junior, intermediate, expert)\n",
        "pv = result[1]\n",
        "print(f'p-value = {pv:.3f}')\n",
        "\n",
        "#interpret the result\n",
        "if pv <= alpha:\n",
        "    print('неравная дисперсия, необходимо использовать непараметрические тесты')\n",
        "else:\n",
        "    print('равная дисперсия, можно использовать параметрические тесты')"
      ]
    },
    {
      "cell_type": "code",
      "execution_count": 269,
      "metadata": {},
      "outputs": [
        {
          "name": "stdout",
          "output_type": "stream",
          "text": [
            "5.8461887, 0.0537671\n",
            "равная дисперсия, можно использовать параметрические тесты\n",
            "\n"
          ]
        }
      ],
      "source": [
        "#Bartlett's Test\n",
        "test_statistic, p_value = stats.bartlett(junior, intermediate, expert)\n",
        "\n",
        "print(f'{test_statistic:.7f}, {p_value:.7f}')\n",
        "\n",
        "#interpret the result\n",
        "if p_value <= alpha:\n",
        "    print('неравная дисперсия, необходимо использовать непараметрические тесты')\n",
        "else:\n",
        "    print('равная дисперсия, можно использовать параметрические тесты')\n",
        "print()"
      ]
    },
    {
      "cell_type": "markdown",
      "metadata": {},
      "source": [
        "**Выберем подходящий статистический тест**\n",
        "\n",
        "Для выбора нужного теста воспользуемся алгоритмом выбора теста:\n",
        "* Тип признака - Опыт Работы: количественный;\n",
        "* Количество анализируемых групп: 3;\n",
        "* Зависимость групп: независимы;\n",
        "* Распределение по нормальному закону: да.\n",
        "\n",
        "Чтобы проверить нашу гипотезу, можно использовать **One-Factor Analysis of Variance** для сравнения распределений."
      ]
    },
    {
      "cell_type": "code",
      "execution_count": 270,
      "metadata": {},
      "outputs": [
        {
          "name": "stdout",
          "output_type": "stream",
          "text": [
            "p-value = 0.000\n",
            "p-значение меньше, чем заданный уровень значимости 0.05. Отвергаем нулевую гипотезу в пользу альтернативной.\n"
          ]
        }
      ],
      "source": [
        "#execute one-factor analysis of variance (ANOVA)\n",
        "_, p = stats.f_oneway(junior, intermediate, expert)\n",
        "    \n",
        "#interpret the result\n",
        "decision_hypothesis(p)"
      ]
    },
    {
      "cell_type": "markdown",
      "metadata": {},
      "source": [
        "**Вывод:** \\\n",
        "Распределения заработой платы по опыту работы отличается друг от друга: чем выше уровень знаний, тем выше заработная плата."
      ]
    },
    {
      "cell_type": "markdown",
      "metadata": {},
      "source": [
        "### 6b. Влияет ли опыт работы (junior, intermediate) на заработную плату Data Scientist?\n",
        "\n",
        "**Сформулируем нулевую и альтернативные гипотезы**\n",
        "\n",
        "*Нулевая гипотеза*: размер заработной платы junior ($μ_1$) не отличается от размера заработной платы intermediate ($μ_2$).\n",
        "\n",
        "$$ H_0 : μ_1 = μ_2$$\n",
        "\n",
        "*Альтернативная гипотеза*: размер заработной платы junior ($μ_1$) меньше размера заработной платы intermediate ($μ_2$)\n",
        "\n",
        "$$ H_1 : μ_1 < μ_2$$"
      ]
    },
    {
      "cell_type": "markdown",
      "metadata": {},
      "source": [
        "Для выбора нужного теста воспользуемся алгоритмом выбора теста:\n",
        "* Тип признака - Опыт Работы: количественный;\n",
        "* Количество анализируемых групп: 2;\n",
        "* Зависимость групп: независимы;\n",
        "* Распределение по нормальному закону: да.\n",
        "\n",
        "Чтобы проверить нашу гипотезу, можно использовать **Двухвыборочный t-Критерий** для сравнения распределений."
      ]
    },
    {
      "cell_type": "code",
      "execution_count": 271,
      "metadata": {},
      "outputs": [
        {
          "name": "stdout",
          "output_type": "stream",
          "text": [
            "p-value = 0.025\n",
            "неравная дисперсия, поэтому equal_var=False в stats.ttest_ind.\n",
            "\n",
            "p-value = 0.002\n",
            "p-значение меньше, чем заданный уровень значимости 0.05. Отвергаем нулевую гипотезу в пользу альтернативной.\n"
          ]
        }
      ],
      "source": [
        "#execute Levene Test for variance equality\n",
        "result = stats.levene(junior, intermediate)\n",
        "pv = result[1]\n",
        "print(f'p-value = {pv:.3f}')\n",
        "\n",
        "#interpret the result\n",
        "if pv <= alpha:\n",
        "    print('неравная дисперсия, поэтому equal_var=False в stats.ttest_ind.')\n",
        "else:\n",
        "    print('равная дисперсия, thus equal_var=True в stats.ttest_ind.')\n",
        "print()\n",
        "\n",
        "#two-sample test\n",
        "if pv <= alpha:\n",
        "    _, p = stats.ttest_ind(junior, intermediate,\n",
        "                           alternative='less',\n",
        "                           equal_var=False)\n",
        "else:\n",
        "    _, p = stats.ttest_ind(junior, intermediate,\n",
        "                           alternative='less',\n",
        "                           equal_var=True)\n",
        "\n",
        "#interpret the result\n",
        "decision_hypothesis(p)"
      ]
    },
    {
      "cell_type": "markdown",
      "metadata": {},
      "source": [
        "**Вывод:** \\\n",
        "Как и стоило ожидать заработная плата intermediate выше, чем заработная плата junior, и эти различия статистически значимыми."
      ]
    },
    {
      "cell_type": "markdown",
      "metadata": {},
      "source": [
        "### 6c. Средняя Заработная плата junior Data Scientist меньше 50000 в 2022 году?\n",
        "\n",
        "**Сформулируем нулевую и альтернативные гипотезы**\n",
        "\n",
        "*Нулевая гипотеза*: размер средней заработной платы junior ($μ_1$) меньше или равно 50000 в 2022 году.\n",
        "\n",
        "$$ H_0 : μ_1 <= 50000$$\n",
        "\n",
        "*Альтернативная гипотеза*: размер средней заработной платы junior ($μ_1$) больше 50000 в 2022 году.\n",
        "\n",
        "$$ H_1 : μ_1 > 50000$$"
      ]
    },
    {
      "cell_type": "markdown",
      "metadata": {},
      "source": [
        "Для выбора нужного теста воспользуемся алгоритмом выбора теста:\n",
        "* Тип признака - Опыт Работы: количественный;\n",
        "* Количество анализируемых групп: 1;\n",
        "* Распределение по нормальному закону: да.\n",
        "\n",
        "Чтобы проверить нашу гипотезу, можно использовать **Одновыборочный t-Критерий** для сравнения распределений."
      ]
    },
    {
      "cell_type": "code",
      "execution_count": 272,
      "metadata": {},
      "outputs": [
        {
          "name": "stdout",
          "output_type": "stream",
          "text": [
            "p-value = 0.280\n",
            "p-значение больше, чем заданный уровень значимости 0.05. У нас нет оснований отвергнуть нулевую гипотезу.\n"
          ]
        }
      ],
      "source": [
        "#obtain the sample by year\n",
        "junior_by_year = ds_salary.loc[(ds_salary['experience_level'] == 1) & (ds_salary['work_year'] == 2022), 'salary']\n",
        "\n",
        "#execute one-sample test\n",
        "_, p = stats.ttest_1samp(junior_by_year,\n",
        "                         popmean=50000,\n",
        "                         alternative='greater')\n",
        "\n",
        "#interpret the result\n",
        "decision_hypothesis(p)"
      ]
    },
    {
      "cell_type": "markdown",
      "metadata": {},
      "source": [
        "**Вывод:** \\\n",
        "Нет оснований считать, что средняя заработная плата junior выше $50000 за 2022 год."
      ]
    },
    {
      "cell_type": "markdown",
      "metadata": {
        "id": "weubXekLfsQX"
      },
      "source": [
        "## Итоговые Результаты Исследования\n",
        "\n",
        "1. Наблюдается ли ежегодный рост зарплат у специалистов Data Scientist?\n",
        "   * заработная плата отличается год на год, размер заработной платы за 2022 год значительно больще размеру заработной платы за предыдущее годы\n",
        "   * заработная плата для специалистов Data Scientist растет, что говорит о уровне востребования\n",
        "\n",
        "2. Как соотносятся зарплаты Data Scientist и Data Engineer в 2022 году?\n",
        "   * разница между заработной платой незначительна по графику и не статистически значима по результатам статистических тестов, оплата труда примерно одинакова\n",
        "   * если смена специальности зависит исключительно от заработной платы, любая из специальностей подходит для соискателя\n",
        "\n",
        "3. Как соотносятся зарплаты специалистов Data Scientist в компаниях различных размеров?\n",
        "   * заработная плата отличается в зависимости от размера компании, уровень заработной платы выше, если сотрудник работает в средней или крупной компании\n",
        "   * при поиске работы стоит стараться попасть именно в среднию или крупную компанию\n",
        "\n",
        "4. Есть ли связь между наличием должностей Data Scientist и Data Engineer и размером компании?\n",
        "   * согласно графику подсчета и таблице сопряженности существует связь между размером компании и количеством доступных должностей\n",
        "   * наименьшее количество должностей рекламируются в небольших компаний, самый высокий рост в компаниях среднего размера для обеих должностей\n",
        "   * при поиске работы стоит стараться попасть именно в среднию компанию (50-250 сотрудников)\n",
        "\n",
        "5. Как соотносятся зарплаты специалистов Data Scientist при возможности удаленной работы?\n",
        "   * распределения заработой платы выше для очной и удаленной работы\n",
        "   * при поиске работы стоит искать компании предлагающую либо очную, либо удаленную работу; видимо рынок труда еще не полностью адаптирован к гибридной работе\n",
        "\n",
        "6. Влияет ли опыт работы на заработную плату Data Scientist?\n",
        "   * заработная плата растет в зависимости от опыта работы\n",
        "   * заработная плата intermediate выше, чем заработная плата junior\n",
        "   * если цель зарабатывать больше, то необходимо набирать опыт и участвовать в внерабочих мероприятиях"
      ]
    }
  ],
  "metadata": {
    "colab": {
      "provenance": []
    },
    "kernelspec": {
      "display_name": "Python 3.10.8 ('base')",
      "language": "python",
      "name": "python3"
    },
    "language_info": {
      "codemirror_mode": {
        "name": "ipython",
        "version": 3
      },
      "file_extension": ".py",
      "mimetype": "text/x-python",
      "name": "python",
      "nbconvert_exporter": "python",
      "pygments_lexer": "ipython3",
      "version": "3.10.5"
    },
    "vscode": {
      "interpreter": {
        "hash": "86c56a74836ad344b00594bf6f38fa6a676a207ceefe20d101fbc465800ccb8d"
      }
    }
  },
  "nbformat": 4,
  "nbformat_minor": 0
}
